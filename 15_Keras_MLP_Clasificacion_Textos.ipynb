{
 "cells": [
  {
   "cell_type": "markdown",
   "metadata": {},
   "source": [
    "# 15 - Keras: Clasificación de textos con Redes Neuronales  (Perceptron Multicapa)\n",
    "\n",
    "* En este notebook vamos a ver como crear un modelo que clasifique las frases según su polaridad (Positiva o Negativa) con una red neuronal, en particular con un ***Perceptrón Multicapa***.\n",
    "\n",
    "\n",
    "* Este ejemplo resuelve el mismo problema que el notebook \"*08_NLTK_Clasificacion_Textos_Naive_Bayes.ipynb*\" para que puedan compararse los resultados.\n",
    "\n",
    "\n",
    "\n",
    "* En este notebook vamos a tener dos conjuntos de frases clasificadas según su polaridad:\n",
    "    1. **train**: Conjunto de frases clasificadas para entrenar la red.\n",
    "    3. **Test**: Conjunto de frases de test a predecir por la red.\n",
    "    \n",
    "    \n",
    "* Los pasos que vamos a dar son los siguientes:\n",
    "\n",
    "    1. Normalización de las frases.\n",
    "    2. Bolsa de palabras y codificación del target\n",
    "    3. Definición de la Red Neuronal\n",
    "    4. Entrenamiento de la Red Neuronal\n",
    "    5. Evaluación del modelo"
   ]
  },
  {
   "cell_type": "markdown",
   "metadata": {},
   "source": [
    "<hr>\n",
    "\n",
    "\n",
    "# Frases a clasificar"
   ]
  },
  {
   "cell_type": "code",
   "execution_count": 1,
   "metadata": {},
   "outputs": [],
   "source": [
    "train = [('I love this car', 'positive'),\n",
    "         ('This view is amazing', 'positive'),\n",
    "         ('I feel great this morning', 'positive'),\n",
    "         ('I am so excited about the concert', 'positive'),\n",
    "         ('He is my best friend', 'positive'),\n",
    "         ('Going well', 'positive'),\n",
    "         ('Thank you', 'positive'),\n",
    "         ('Hope you are doing well', 'positive'),\n",
    "         ('I am very happy', 'positive'),\n",
    "         ('Good for you', 'positive'),\n",
    "         ('It is all good. I know about it and I accept it.', 'positive'),\n",
    "         ('This is really good!', 'positive'),\n",
    "         ('Tomorrow is going to be fun.', 'positive'),\n",
    "         ('These are great apples today.', 'positive'),\n",
    "         ('How about them apples? Thomas is a happy boy.', 'positive'),\n",
    "         ('I love this sandwich.', 'positive'),\n",
    "         ('This is an amazing place!', 'positive'),\n",
    "         ('I feel very good about these beers.', 'positive'),\n",
    "         ('This is my best work.', 'positive'),\n",
    "         ('What an awesome view', 'positive'),\n",
    "         ('I do not like this car', 'negative'),\n",
    "         ('This view is horrible', 'negative'),\n",
    "         ('I feel tired this morning', 'negative'),\n",
    "         ('I am not looking forward to the concert', 'negative'),\n",
    "         ('He is my enemy', 'negative'),\n",
    "         ('I am a bad boy', 'negative'),\n",
    "         ('This is not good', 'negative'),\n",
    "         ('I am bothered by this', 'negative'),\n",
    "         ('I am not connected with this', 'negative'),\n",
    "         ('Sadistic creep you ass. Die.', 'negative'),\n",
    "         ('All sorts of crazy and scary as hell.', 'negative'),\n",
    "         ('Not his emails, no.', 'negative'),\n",
    "         ('His father is dead. Returned obviously.', 'negative'),\n",
    "         ('He has a bomb.', 'negative'),\n",
    "         ('Too fast to be on foot. We cannot catch them.', 'negative'),\n",
    "         ('I do not like this restaurant', 'negative'),\n",
    "         ('I am tired of this stuff.', 'negative'),\n",
    "         (\"I can't deal with this\", 'negative'),\n",
    "         ('He is my sworn enemy!', 'negative'),\n",
    "         ('My boss is horrible.', 'negative')]\n",
    "\n",
    "test = [('I feel happy this morning', 'positive'),\n",
    "        ('Larry is my friend', 'positive'),\n",
    "        ('I do not like that man', 'negative'),\n",
    "        ('My house is not great', 'negative'),\n",
    "        ('Your song is annoying', 'negative'),\n",
    "        ('The beer was good.', 'positive'),\n",
    "        ('I do not enjoy my job', 'negative'),\n",
    "        (\"I feel amazing!\", 'positive'),\n",
    "        ('Gary is a friend of mine.', 'positive'),\n",
    "        (\"I can't believe I'm doing this.\", 'negative')]"
   ]
  },
  {
   "cell_type": "markdown",
   "metadata": {},
   "source": [
    "<hr>\n",
    "\n",
    "\n",
    "## Normalización\n",
    "\n",
    "* En primer lugar vamos a pasar a normalizar las frases. Para ello realizaremos lo siguiente:\n",
    "\n",
    "    - Eliminamos los signos de puntuación\n",
    "    - Pasamos el texto a minúsculas\n",
    "    - Eliminamos las Stop-Words\n",
    "    - Eliminamos las palabras con menos de 3 caracteres\n",
    "    \n",
    "* Nos creamos una función que realice este procesamiento para las frases dadas.\n",
    "\n",
    "\n",
    "***NOTA***: *Para este ejemplo en particular se hace una normalización muy básica pero suficiente para realizar este ejemplo con caracter didáctico*."
   ]
  },
  {
   "cell_type": "code",
   "execution_count": 2,
   "metadata": {},
   "outputs": [],
   "source": [
    "import warnings\n",
    "warnings.filterwarnings(\"ignore\")\n",
    "import re\n",
    "from nltk.corpus import stopwords\n",
    "\n",
    "def normalize(sentenses):\n",
    "    \"\"\"normalizamos la lista de frases\"\"\"\n",
    "    sen = []\n",
    "    for (words, sentiment) in sentenses:\n",
    "        words_filtered = []\n",
    "        for word in words.split():\n",
    "            # Eliminamos signos de puntuación y lo pasamos a minusculas\n",
    "            word = re.sub(r'[^\\w\\s]', '', word).lower()\n",
    "            # Filtramos stop words y las palabras con menos de 3 caracteres\n",
    "            if len(word) > 2 and word not in stopwords.words():\n",
    "                words_filtered.append(word)\n",
    "        sen.append(words_filtered)\n",
    "    return sen"
   ]
  },
  {
   "cell_type": "markdown",
   "metadata": {},
   "source": [
    "* Pasamos a normalizar los conjuntos de entrenamiento y test.\n",
    "\n",
    "\n",
    "* Obtenemos en una lista el target de los conjunto de entrenamiento y test."
   ]
  },
  {
   "cell_type": "code",
   "execution_count": 3,
   "metadata": {},
   "outputs": [],
   "source": [
    "X_train = normalize(train)\n",
    "y_train = [sentiment for (words, sentiment) in train]\n",
    "X_test = normalize(test)\n",
    "y_test = [sentiment for (words, sentiment) in test]"
   ]
  },
  {
   "cell_type": "markdown",
   "metadata": {},
   "source": [
    "<hr>\n",
    "\n",
    "\n",
    "# Bolsa de palabras y codificación del target\n",
    "\n",
    "* Cuando trabajamos con redes neuronales para la clasificación de textos es necesario tener:\n",
    "    1. ***Input***: Un vector por documento en el que en cada posición del vertor represente el peso que tiene la palabra en ese documento bien sea por frecuencia, por aparición de la palabra en el documento (One-Hot-Encode) o por su TF-IDF.\n",
    "    2. ***Output***: Al resolver la red neuronal un problema de clasificación de textos, la salida de la red tiene que ser un valor numérico, por lo que el target hay que codificalo en valores numéricos. En este ejemplo al ser una clasificación binaria (positivo o negativo) codificaremos estos dos valores en '0' y '1'.\n",
    "    \n",
    "    \n",
    "* A continuación pasamos a crear la bolsa de palabras.\n",
    "\n",
    "\n",
    "* Para realizar esta labor vamos a usar la clase '***Tokenizer***' de Keras: https://keras.io/preprocessing/text/\n",
    "\n",
    "\n",
    "* Lo que vamos a hacer es crear una ***bolsa de palabras de frecuencias*** cogiendo las 'N' palabras más frecuentes del Corpus. En este caso el Corpus tiene 63 palabras por lo que vamos a seleccionar todas las palabras.\n",
    "\n",
    "\n",
    "* Es muy importante saber la ***dimensión (longitud) del vector de palabras*** que representará al documento ya que esa dimensión será el ***número de neuronas de entrada*** (+1) que tendrá nuestra red neuronal.\n",
    "\n",
    "\n",
    "* La bolsa de palabras la vamos a crear como una matriz llamando a la función '***text_to_matrix***':http://faroit.com/keras-docs/2.0.2/preprocessing/text/\n"
   ]
  },
  {
   "cell_type": "code",
   "execution_count": 4,
   "metadata": {},
   "outputs": [
    {
     "name": "stderr",
     "output_type": "stream",
     "text": [
      "Using TensorFlow backend.\n"
     ]
    },
    {
     "name": "stdout",
     "output_type": "stream",
     "text": [
      "Dimensión de la matriz de entrenamiento: (40, 64)\n",
      "\n",
      "Bolsa de palabras de los datos de entrenamiento:\n",
      "OrderedDict([('love', 2), ('car', 2), ('view', 3), ('amazing', 2), ('feel', 3), ('great', 2), ('morning', 2), ('excited', 1), ('concert', 2), ('best', 2), ('friend', 1), ('going', 2), ('well', 2), ('thank', 1), ('hope', 1), ('happy', 2), ('good', 5), ('know', 1), ('accept', 1), ('really', 1), ('tomorrow', 1), ('fun', 1), ('apples', 2), ('today', 1), ('thomas', 1), ('boy', 2), ('sandwich', 1), ('place', 1), ('beers', 1), ('work', 1), ('awesome', 1), ('like', 2), ('horrible', 2), ('tired', 2), ('looking', 1), ('forward', 1), ('enemy', 2), ('bad', 1), ('bothered', 1), ('connected', 1), ('sadistic', 1), ('creep', 1), ('ass', 1), ('sorts', 1), ('crazy', 1), ('scary', 1), ('hell', 1), ('emails', 1), ('father', 1), ('dead', 1), ('returned', 1), ('obviously', 1), ('bomb', 1), ('fast', 1), ('foot', 1), ('cannot', 1), ('catch', 1), ('restaurant', 1), ('stuff', 1), ('cant', 1), ('deal', 1), ('sworn', 1), ('boss', 1)])\n",
      "\n",
      "Índice de las palabras en la Matriz:\n",
      "{'good': 1, 'view': 2, 'feel': 3, 'love': 4, 'car': 5, 'amazing': 6, 'great': 7, 'morning': 8, 'concert': 9, 'best': 10, 'going': 11, 'well': 12, 'happy': 13, 'apples': 14, 'boy': 15, 'like': 16, 'horrible': 17, 'tired': 18, 'enemy': 19, 'excited': 20, 'friend': 21, 'thank': 22, 'hope': 23, 'know': 24, 'accept': 25, 'really': 26, 'tomorrow': 27, 'fun': 28, 'today': 29, 'thomas': 30, 'sandwich': 31, 'place': 32, 'beers': 33, 'work': 34, 'awesome': 35, 'looking': 36, 'forward': 37, 'bad': 38, 'bothered': 39, 'connected': 40, 'sadistic': 41, 'creep': 42, 'ass': 43, 'sorts': 44, 'crazy': 45, 'scary': 46, 'hell': 47, 'emails': 48, 'father': 49, 'dead': 50, 'returned': 51, 'obviously': 52, 'bomb': 53, 'fast': 54, 'foot': 55, 'cannot': 56, 'catch': 57, 'restaurant': 58, 'stuff': 59, 'cant': 60, 'deal': 61, 'sworn': 62, 'boss': 63}\n",
      "\n",
      "Matriz de entrenamiento:\n",
      "[[0. 0. 0. ... 0. 0. 0.]\n",
      " [0. 0. 1. ... 0. 0. 0.]\n",
      " [0. 0. 0. ... 0. 0. 0.]\n",
      " ...\n",
      " [0. 0. 0. ... 1. 0. 0.]\n",
      " [0. 0. 0. ... 0. 1. 0.]\n",
      " [0. 0. 0. ... 0. 0. 1.]]\n",
      "\n"
     ]
    }
   ],
   "source": [
    "from keras.preprocessing.text import Tokenizer\n",
    "from keras.utils import np_utils\n",
    "\n",
    "\n",
    "num_words = 64\n",
    "\n",
    "# Creamos un objeto de la clase Tokenizer indicandole el número de palabras\n",
    "tokenizer = Tokenizer(num_words=num_words)\n",
    "\n",
    "# Calculamos la bolsa de palabras (generamos el vocabulario)\n",
    "tokenizer.fit_on_texts(X_train)\n",
    "\n",
    "# Creamos una matriz de bolsa de palabras donde:\n",
    "#     Fila: Representa a un documento\n",
    "#     Columna: Representa a una palabra\n",
    "X_matrix_train = tokenizer.texts_to_matrix(X_train, mode='count')\n",
    "X_matrix_test = tokenizer.texts_to_matrix(X_test, mode='count')\n",
    "\n",
    "print('Dimensión de la matriz de entrenamiento: {dim}\\n'.format(dim=X_matrix_train.shape))\n",
    "\n",
    "print('Bolsa de palabras de los datos de entrenamiento:\\n{bolsa}\\n'.format(bolsa=tokenizer.word_counts))\n",
    "\n",
    "print('Índice de las palabras en la Matriz:\\n{index}\\n'.format(index=tokenizer.word_index))\n",
    "\n",
    "print('Matriz de entrenamiento:\\n{matrix}\\n'.format(matrix=X_matrix_train))"
   ]
  },
  {
   "cell_type": "markdown",
   "metadata": {},
   "source": [
    "* Lo siguiente que vamos a hacer en codificar la salida\n",
    "    - Negativo: 0\n",
    "    - Positivo: 1\n",
    "    \n",
    "\n",
    "* Esto lo vamos a hacer con la clase '***LabelEncoder***' de scikit: https://scikit-learn.org/stable/modules/generated/sklearn.preprocessing.LabelEncoder.html"
   ]
  },
  {
   "cell_type": "code",
   "execution_count": 5,
   "metadata": {},
   "outputs": [
    {
     "data": {
      "text/plain": [
       "array([1, 1, 1, 1, 1, 1, 1, 1, 1, 1, 1, 1, 1, 1, 1, 1, 1, 1, 1, 1, 0, 0,\n",
       "       0, 0, 0, 0, 0, 0, 0, 0, 0, 0, 0, 0, 0, 0, 0, 0, 0, 0])"
      ]
     },
     "execution_count": 5,
     "metadata": {},
     "output_type": "execute_result"
    }
   ],
   "source": [
    "from sklearn.preprocessing import LabelEncoder\n",
    "\n",
    "encoder = LabelEncoder()\n",
    "encoder.fit(y_train)\n",
    "y_train = encoder.transform(y_train)\n",
    "y_test = encoder.transform(y_test)\n",
    "y_train"
   ]
  },
  {
   "cell_type": "markdown",
   "metadata": {},
   "source": [
    "<hr>\n",
    "\n",
    "\n",
    "# Definición de la Red Neuronal\n",
    "\n",
    "\n",
    "* Para clasificar los textos en positivo o negativo vamos a crear una red con la siguiente arquitectura:\n",
    "\n",
    "    - ***Capa 1***: Capa de entrada con 64 Neuronas (una por palabra del corpus)\n",
    "    - ***Capa 2***: 20 Neuronas con una función de activación 'relu'\n",
    "    - ***Capa 3***: 5 Neuronas con una función de activación 'relu'\n",
    "    - ***Capa 4***: Capa de salida con 1 neurona y una función de activación 'sigmoidal'\n",
    "    \n",
    "    \n",
    "* Para las capas 2 y 3 vamos a poner un dropout del 10% para que nuestra red no se sobreajuste y generalize mejor.\n",
    "    \n",
    "    \n",
    "* Por último utilizaremos:\n",
    "    - Función de perdida: 'binary_crossentropy' (Funciones de Perdida: https://keras.io/losses/)\n",
    "    - Optimizador: 'adam' (Optimizadores: https://keras.io/optimizers/)\n",
    "    - Metricas: en cada epoch pediremos que nos muestre el accuracy (Métricas: https://keras.io/metrics/)\n",
    "    \n"
   ]
  },
  {
   "cell_type": "code",
   "execution_count": 6,
   "metadata": {},
   "outputs": [],
   "source": [
    "import numpy as np\n",
    "from keras.models import Sequential\n",
    "from keras.layers import Dense, Dropout\n",
    "from keras import metrics\n",
    "\n",
    "np.random.seed(9)\n",
    "model = Sequential()\n",
    "model.add(Dense(20, activation='relu', input_dim=num_words))\n",
    "model.add(Dropout(0.1))\n",
    "model.add(Dense(5, activation='relu'))\n",
    "model.add(Dropout(0.1))\n",
    "model.add(Dense(1, activation='sigmoid'))\n",
    "model.compile(loss='binary_crossentropy',\n",
    "              optimizer='adam',\n",
    "              metrics=['accuracy'])"
   ]
  },
  {
   "cell_type": "markdown",
   "metadata": {},
   "source": [
    "* Una vez creada la red mostramos su arquitectura:\n",
    "    - 64 Neuronas de entrada\n",
    "    - Capa 2: 20 neuronas\n",
    "    - Conexiones \"capa de entrada -> Capa 2\" = (64*20) + 20 = 1300 Conexiones\n",
    "    - Capa 3: 5 neuronas\n",
    "    - Conexiones \"Capa 2 -> Capa 3\" = (20*5) + 5 = 105 Conexiones\n",
    "    - Capa de salida: 1 Neurona\n",
    "    - Conexiones \"Capa 3 -> Capa de salida\" = (5*1) + 1 = 6 Conexiones"
   ]
  },
  {
   "cell_type": "code",
   "execution_count": 7,
   "metadata": {},
   "outputs": [
    {
     "name": "stdout",
     "output_type": "stream",
     "text": [
      "_________________________________________________________________\n",
      "Layer (type)                 Output Shape              Param #   \n",
      "=================================================================\n",
      "dense_1 (Dense)              (None, 20)                1300      \n",
      "_________________________________________________________________\n",
      "dropout_1 (Dropout)          (None, 20)                0         \n",
      "_________________________________________________________________\n",
      "dense_2 (Dense)              (None, 5)                 105       \n",
      "_________________________________________________________________\n",
      "dropout_2 (Dropout)          (None, 5)                 0         \n",
      "_________________________________________________________________\n",
      "dense_3 (Dense)              (None, 1)                 6         \n",
      "=================================================================\n",
      "Total params: 1,411\n",
      "Trainable params: 1,411\n",
      "Non-trainable params: 0\n",
      "_________________________________________________________________\n"
     ]
    }
   ],
   "source": [
    "model.summary()"
   ]
  },
  {
   "cell_type": "markdown",
   "metadata": {},
   "source": [
    "<hr>\n",
    "\n",
    "\n",
    "# Entrenamos la red\n",
    "\n",
    "\n",
    "* Una vez definida la Red Nuronal y compilada ya podemos entrenarla (ajustar los pesos de las conexiones).\n",
    "\n",
    "\n",
    "* Para entrenar la Red Nuronal (model) vamos a llamar al método '***fit()***' que recibe los siguientes parámetros:\n",
    "\n",
    "    - ***datos de entrada*** (X_matrix_train)\n",
    "    - ***target*** (y_train)\n",
    "    - ***batch_size***: Número de muestras por epoch que utilizará para actualizar los pesos\n",
    "    - ***epochs***: Número de veces que recorrerá el dataset para entrenar la red\n",
    "    - verbose: 3 tipos de verbosidad mientras entrena la red (0,1,2)\n",
    "    - ***validation_split***: Porcentaje de los datos de entrenamiento que utiliza para validar el modelo en cada epoch.\n",
    "    \n",
    "    \n",
    "* Como lo que estamos haciendo es un ejemplo didáctico vamos a poner los siguientes valores:\n",
    "    - *batch_size = 1* : Como tenemos pocos datos, podemos ajustar los pesos de la Red Neuronal cada vez que se calcule una muestra.\n",
    "        + batch_size con valores muy pequeños: En teoria la red neuronal estaría muy bien entrenada pero tardaría mucho tiempo en entrenarse.\n",
    "        + batch_size con valores muy grandes: En teoria la red neuronal estaría peor entrenada que con valores pequeños pero tardaría menos tiempo en ejecutarse.\n",
    "    - *epochs = 20* : Como es un dataset pequeño no es necesario entrenar la red muchas veces por eso ponemos un valor relativamente pequeño.\n",
    "    - *validation_split = 0.1* : Al ser un dataset con 40 frases, elegiremos en cada pasada solo 4 frases para evaluarlas. "
   ]
  },
  {
   "cell_type": "code",
   "execution_count": 8,
   "metadata": {
    "scrolled": false
   },
   "outputs": [
    {
     "name": "stdout",
     "output_type": "stream",
     "text": [
      "Train on 36 samples, validate on 4 samples\n",
      "Epoch 1/20\n",
      " - 1s - loss: 0.7013 - acc: 0.4167 - val_loss: 0.7007 - val_acc: 0.2500\n",
      "Epoch 2/20\n",
      " - 0s - loss: 0.6844 - acc: 0.6111 - val_loss: 0.6970 - val_acc: 0.5000\n",
      "Epoch 3/20\n",
      " - 0s - loss: 0.6710 - acc: 0.6944 - val_loss: 0.6972 - val_acc: 0.5000\n",
      "Epoch 4/20\n",
      " - 0s - loss: 0.6539 - acc: 0.7778 - val_loss: 0.7023 - val_acc: 0.2500\n",
      "Epoch 5/20\n",
      " - 0s - loss: 0.6470 - acc: 0.8056 - val_loss: 0.7011 - val_acc: 0.2500\n",
      "Epoch 6/20\n",
      " - 0s - loss: 0.6322 - acc: 0.8333 - val_loss: 0.6984 - val_acc: 0.2500\n",
      "Epoch 7/20\n",
      " - 0s - loss: 0.6381 - acc: 0.8056 - val_loss: 0.6993 - val_acc: 0.2500\n",
      "Epoch 8/20\n",
      " - 0s - loss: 0.6178 - acc: 0.8333 - val_loss: 0.6978 - val_acc: 0.2500\n",
      "Epoch 9/20\n",
      " - 0s - loss: 0.6056 - acc: 0.8611 - val_loss: 0.6876 - val_acc: 0.2500\n",
      "Epoch 10/20\n",
      " - 0s - loss: 0.5771 - acc: 0.8611 - val_loss: 0.6820 - val_acc: 0.5000\n",
      "Epoch 11/20\n",
      " - 0s - loss: 0.5638 - acc: 0.8611 - val_loss: 0.6681 - val_acc: 0.5000\n",
      "Epoch 12/20\n",
      " - 0s - loss: 0.5434 - acc: 0.8889 - val_loss: 0.6568 - val_acc: 0.5000\n",
      "Epoch 13/20\n",
      " - 0s - loss: 0.5380 - acc: 0.8611 - val_loss: 0.6474 - val_acc: 0.5000\n",
      "Epoch 14/20\n",
      " - 0s - loss: 0.4833 - acc: 0.8611 - val_loss: 0.6258 - val_acc: 0.5000\n",
      "Epoch 15/20\n",
      " - 0s - loss: 0.4515 - acc: 0.9722 - val_loss: 0.6007 - val_acc: 0.7500\n",
      "Epoch 16/20\n",
      " - 0s - loss: 0.4218 - acc: 0.9167 - val_loss: 0.5843 - val_acc: 0.7500\n",
      "Epoch 17/20\n",
      " - 0s - loss: 0.3846 - acc: 0.9722 - val_loss: 0.5471 - val_acc: 0.7500\n",
      "Epoch 18/20\n",
      " - 0s - loss: 0.3830 - acc: 0.9722 - val_loss: 0.5394 - val_acc: 0.7500\n",
      "Epoch 19/20\n",
      " - 0s - loss: 0.3415 - acc: 0.9444 - val_loss: 0.5098 - val_acc: 0.7500\n",
      "Epoch 20/20\n",
      " - 0s - loss: 0.3707 - acc: 0.9167 - val_loss: 0.5052 - val_acc: 0.7500\n"
     ]
    },
    {
     "data": {
      "text/plain": [
       "<keras.callbacks.History at 0x1a1ef93470>"
      ]
     },
     "execution_count": 8,
     "metadata": {},
     "output_type": "execute_result"
    }
   ],
   "source": [
    "model.fit(X_matrix_train, y_train, batch_size=1, epochs=20, verbose=2, validation_split=0.1)"
   ]
  },
  {
   "cell_type": "markdown",
   "metadata": {},
   "source": [
    "<hr>\n",
    "\n",
    "\n",
    "# Evaluamos el modelo\n",
    "\n",
    "\n",
    "* Al tratarse de un ejemplo didáctico vamos a medir solamente el accuracy.\n",
    "\n",
    "\n",
    "* Para ello utilizaremos el método '***evaluate()***' que pasandole los datos de entrenamiento (datos y target), predice los datos y nos calcula el accuracy entre otras métricas."
   ]
  },
  {
   "cell_type": "code",
   "execution_count": 9,
   "metadata": {},
   "outputs": [
    {
     "name": "stdout",
     "output_type": "stream",
     "text": [
      "10/10 [==============================] - 0s 501us/step\n",
      "Porcentaje acierto: acc: 90.00%\n"
     ]
    }
   ],
   "source": [
    "# Evaluación del modelo con los mismos datos de entrenamiento\n",
    "scores = model.evaluate(X_matrix_test, y_test)\n",
    "print(\"Porcentaje acierto: %s: %.2f%%\" % (model.metrics_names[1], scores[1] * 100))\n"
   ]
  },
  {
   "cell_type": "markdown",
   "metadata": {},
   "source": [
    "* Llamando al método '***predict()***' y pasandole unos datos de entrada, nos devuelve el valor de la salida."
   ]
  },
  {
   "cell_type": "code",
   "execution_count": 10,
   "metadata": {},
   "outputs": [
    {
     "name": "stdout",
     "output_type": "stream",
     "text": [
      "[[0.7410232 ]\n",
      " [0.5993302 ]\n",
      " [0.17878544]\n",
      " [0.64687943]\n",
      " [0.4562172 ]\n",
      " [0.5991951 ]\n",
      " [0.4562172 ]\n",
      " [0.6883626 ]\n",
      " [0.5993302 ]\n",
      " [0.46643698]]\n"
     ]
    }
   ],
   "source": [
    "predict = model.predict(X_matrix_test)\n",
    "print(predict)"
   ]
  },
  {
   "cell_type": "markdown",
   "metadata": {},
   "source": [
    "* Como lo que nos interesa en un problema de clasificación es la categoria en que nos clasifica el documento y no el valor de salida de la red neuronal, podemos obtener la categoria de cada predicción llamando al método '***predict_classes()***', pasandole el/los dato/s de entrada.\n",
    "\n",
    "\n",
    "* Hay que tener cuidado ya que nos va a dar un número entero (0 o 1) ya que hemos realizado el LabelEncoder previamente y tenemos que hacer el \"encodeado inverso\":"
   ]
  },
  {
   "cell_type": "code",
   "execution_count": 11,
   "metadata": {},
   "outputs": [
    {
     "name": "stdout",
     "output_type": "stream",
     "text": [
      "0 - I feel happy this morning \n",
      "\t Real: positive - Predicción: positive - Acierto: True\n",
      "1 - Larry is my friend \n",
      "\t Real: positive - Predicción: positive - Acierto: True\n",
      "2 - I do not like that man \n",
      "\t Real: negative - Predicción: negative - Acierto: True\n",
      "3 - My house is not great \n",
      "\t Real: negative - Predicción: positive - Acierto: False\n",
      "4 - Your song is annoying \n",
      "\t Real: negative - Predicción: negative - Acierto: True\n",
      "5 - The beer was good. \n",
      "\t Real: positive - Predicción: positive - Acierto: True\n",
      "6 - I do not enjoy my job \n",
      "\t Real: negative - Predicción: negative - Acierto: True\n",
      "7 - I feel amazing! \n",
      "\t Real: positive - Predicción: positive - Acierto: True\n",
      "8 - Gary is a friend of mine. \n",
      "\t Real: positive - Predicción: positive - Acierto: True\n",
      "9 - I can't believe I'm doing this. \n",
      "\t Real: negative - Predicción: negative - Acierto: True\n"
     ]
    }
   ],
   "source": [
    "# Predecimos los resultados del conjunto de test\n",
    "y_predict = model.predict_classes(X_matrix_test)\n",
    "for index, prediction in enumerate(y_predict):\n",
    "    text = test[index][0]\n",
    "    y_true = test[index][1]\n",
    "    y_predict = encoder.inverse_transform(prediction)\n",
    "    print('{i} - {text} \\n\\t Real: {y_true} - Predicción: {y_predict} - Acierto: {acierto}'\n",
    "          .format(i=index, text=text, y_true=y_true, y_predict=y_predict[0], acierto = y_true==y_predict[0]))"
   ]
  },
  {
   "cell_type": "markdown",
   "metadata": {},
   "source": [
    "<hr>\n",
    "\n",
    "\n",
    "# Bonus Track - Keras -\n",
    "\n",
    "* Keras es una librería en Python desarrollada por François Chollet (ingeniero de Google) que en esencia es un wrapper sobre TensorFlow y Theano. \n",
    "\n",
    "\n",
    "https://github.com/keras-team/keras\n",
    "\n",
    "\n",
    "* TensorFlow y Theano son librería muy potentes pero tienen el “problema” que de son muy difíciles de utilizar, por lo que Keras empezó a desarrollarse por Chollet con el objetivo de crear una librería sencilla de utilizar para temas de Deep Learning.\n",
    "\n",
    "* Los principios en los que se basa Keras son los siguientes:\n",
    "\n",
    "    - ***Modularidad***: Una red neuronal se entiende como una secuencia o grafo de capas de neuronas.\n",
    "\n",
    "    - ***Minimalismo***: La librería proporciona lo justo y necesario para crear y entrenar redes maximizando la legibilidad del código.\n",
    "\n",
    "    - ***Extensibilidad***: Los nuevos componentes tienen que ser fáciles de añadirse a Keras.\n",
    "\n",
    "    - ***Python***: Keras es Python nativo.\n",
    "\n",
    "\n",
    "* Keras es en realidad un \"*wrapper*\" sobre otras librerías como:\n",
    "    - Tensorflow\n",
    "    - Theano\n",
    "    - CNTK\n",
    "    \n",
    "    \n",
    "* Utiliza una de estas 3 librerías para ejecutar las redes neuronales que definamos.\n",
    "\n",
    "\n",
    "* El utilizar una librería u otra se debe de indicar en el fichero de configuración de queras que se encuentra en:\n",
    "\n",
    "\n",
    "```\n",
    "~/.keras/keras.json\n",
    "```\n",
    "\n",
    "* El contenido de este fichero por defecto es el siguiente, indicando en el ***backend*** la librería que utilizará:\n",
    "\n",
    "\n",
    "```\n",
    "{ \"floatx\": \"float32\",\n",
    "  \"epsilon\": 1e-07,\n",
    "  \"backend\": \"tensorflow\",\n",
    "  \"image_data_format\": \"channels_last\"\n",
    "} \n",
    "```\n",
    "\n",
    "\n",
    "## Como Construir modelos en Keras\n",
    "\n",
    "\n",
    "* Lo que a continuación se cuenta se hace de manera muy genérica pero podemos definir los pasos que se deben de dar para contruir una red neuronal con Keras:\n",
    "\n",
    "    1. ***Definir el modelo***: crear el ***Sequential*** model y añadir las capas con su configuración (https://keras.io/models/sequential/).\n",
    "    2. ***Compilar el modelo***: definir o especificar la función de pérdida y llamar al método ***compile()***.\n",
    "    3. ***Ajustar (fit) el modelo***: entrenar el modelo con los datos de entrenamiento llamando al método ***fit()***.\n",
    "    4. ***Realizar predicciones***: usando el modelo se pueden realizar predicciones con nuevos datos llamando a los métodos ***evaluate()*** o ***predict()***.\n"
   ]
  }
 ],
 "metadata": {
  "kernelspec": {
   "display_name": "Python 3",
   "language": "python",
   "name": "python3"
  },
  "language_info": {
   "codemirror_mode": {
    "name": "ipython",
    "version": 3
   },
   "file_extension": ".py",
   "mimetype": "text/x-python",
   "name": "python",
   "nbconvert_exporter": "python",
   "pygments_lexer": "ipython3",
   "version": "3.6.8"
  }
 },
 "nbformat": 4,
 "nbformat_minor": 2
}
