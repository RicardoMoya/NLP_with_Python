{
 "cells": [
  {
   "cell_type": "markdown",
   "metadata": {},
   "source": [
    "# 09 - Clasificación de textos con Scikit-Learn\n",
    "\n",
    "* En este notebook vamos a ver como clasificar una serie de Tweets en Ingles sobre críticas a los productos de Apple.\n",
    "\n",
    "\n",
    "* Estos tweets estan clasificados como: *positivos*, *neutros* o *negativos*\n",
    "\n",
    "\n",
    "* El este notebook realizaremos los siguientes pasos:\n",
    "    \n",
    "    1. Carga de los datos (tweets)\n",
    "    2. Normalización (en ingles) de los tweets\n",
    "    3. Creacción de la Bolsa de Palabras\n",
    "    4. Particionado de Datos\n",
    "    5. Creacción de modelos\n",
    "        - Multinomial Naive Bayes\n",
    "        - Bernoulli Naive Bayes\n",
    "        - Regresion Logistica\n",
    "        - Support Vector Machine\n",
    "        - Random Forest\n",
    "    6. Evaluación de los modelos"
   ]
  },
  {
   "cell_type": "markdown",
   "metadata": {},
   "source": [
    "<hr>\n",
    "\n",
    "\n",
    "## Carga de Datos\n",
    "\n",
    "\n",
    "* El primer paso que vamos a realizar es el de cargar los datos. Para ello ***leeremos el csv con pandas*** (pasandolo a un dataframe) y posteriormente lo transformaremos en una lista de tuplas (*tweets*) donde cada tupla esta formada por:\n",
    "    - **Posición 0**: Tweet\n",
    "    - **Posición 1**: Polaridad (Positivo | Neutro | Negativo)"
   ]
  },
  {
   "cell_type": "code",
   "execution_count": 1,
   "metadata": {},
   "outputs": [
    {
     "name": "stdout",
     "output_type": "stream",
     "text": [
      "Número de Tweets Cargados: 3804\n"
     ]
    }
   ],
   "source": [
    "import pandas as pd\n",
    "tweets_file = './data/Apple_Tweets.csv'\n",
    "df = pd.read_csv(tweets_file, header=None)\n",
    "tweets = [tuple(x) for x in df.values]\n",
    "print('Número de Tweets Cargados: {num}'.format(num=len(tweets)))"
   ]
  },
  {
   "cell_type": "markdown",
   "metadata": {},
   "source": [
    "<hr>\n",
    "\n",
    "\n",
    "## Normalización\n",
    "\n",
    "* Para este ejemplo haremos uso de ***spaCy***, pero en este caso tenemos que utilizar (e importar) el modelo para Inglés. Para ello: debemos de abrir un terminal en python y ejecutar lo siguiente para descargar el modelo en Ingles (*NOTA: los que uséis conda, tener activado el entorno*).\n",
    "\n",
    "\n",
    "```\n",
    ">> python3 -m spacy download en_core_web_sm\n",
    "```\n",
    "\n",
    "\n",
    "<img src=\"./imgs/010_spacy_en_download.png\" style=\"width: 600px;\"/>\n",
    "\n",
    "\n",
    "* Para ***normalizar*** los tweets realizaremos las siguientes acciones:\n",
    "    1. Pasamos las frases a minúsculas.\n",
    "    2. Eliminamos los signos de puntuación.\n",
    "    3. Eliminamos las palabras con menos de 3 caracteres.\n",
    "    4. Eliminamos las Stop-Words.\n",
    "    5. Eliminamos las palabras que empiecen por '@' o 'http'.\n",
    "    6. Pasamos la palabra a su lema\n",
    "\n",
    "\n",
    "* Todos estos pasos los vamos a realizar en una misma función.\n",
    "\n",
    "\n",
    "* ***NOTA***: *De cara a la normalización de textos se pueden realizar más acciones que las que vamos a realizar, pero con estas serán más que suficientes para realizar un ejercicio con fines didácticos*\n",
    "    "
   ]
  },
  {
   "cell_type": "code",
   "execution_count": 2,
   "metadata": {},
   "outputs": [],
   "source": [
    "import spacy\n",
    "nlp = spacy.load('en_core_web_sm')\n",
    "\n",
    "# Divido los datos en dos listas \n",
    "#     X: los tweets\n",
    "#     y: target (polaridad)\n",
    "\n",
    "X = [doc[0] for doc in tweets]\n",
    "y = [doc[1] for doc in tweets]\n",
    "\n",
    "def normalize(sentenses):\n",
    "    \"\"\"normalizamos la lista de frases y devolvemos la misma lista de frases normalizada\"\"\"\n",
    "    for index, sentense in enumerate(sentenses):\n",
    "        sentense = nlp(sentense.lower()) # Paso la frase a minúsculas y a un objeto de la clase Doc de Spacy\n",
    "        sentenses[index] = \" \".join([word.lemma_ for word in sentense if (not word.is_punct)\n",
    "                                     and (len(word.text) > 2) and (not word.is_stop) \n",
    "                                     and (not word.text.startswith('@')) and (not word.text.startswith('http'))])\n",
    "    return sentenses\n",
    "\n",
    "# Normalizamos las frases\n",
    "X = normalize(X)"
   ]
  },
  {
   "cell_type": "markdown",
   "metadata": {},
   "source": [
    "<hr>\n",
    "\n",
    "\n",
    "## Bolsa de Palabras\n",
    "\n",
    "\n",
    "* El siguiente paso es transformar los tweets a una bolsa de palabras de frecuencias para que sirva de entrada al modelo.\n",
    "\n",
    "\n",
    "* Dado que ya estamos trabajando con un corpus relativamente grande, es necesario reducir el diccionario de palabras (no confundir con un diccionario Python) para trabajar solo con las palabras más relevantes.\n",
    "\n",
    "\n",
    "* La implementación de la clase \"*CountVectorizer*\" de scikit, permite quedarnos con las palabras más relevante. Para ello podemos utilizar dos parámetros que son:\n",
    "    - **max_features**: Con este parámetro le indicamos que nos seleccione la '*X*' palabras más frecuentes del corpus. En este ejemplo **seleccionaremos las 1000 más frecuentes**.\n",
    "    - **min_df**: Con este parámetro le indicamos el número mínimo de documentos en la que tiene que aparecer la palabra para que se incluya en la bolsa de palabras. En este ejemplo **seleccionaremos 3 documentos** (tweets).\n",
    "    \n",
    "\n",
    "* ***NOTA***: para más información podéis mirar la documentación de la clase \"*CountVectorizer*\" en: https://scikit-learn.org/stable/modules/generated/sklearn.feature_extraction.text.CountVectorizer.html\n",
    "    "
   ]
  },
  {
   "cell_type": "code",
   "execution_count": 3,
   "metadata": {},
   "outputs": [],
   "source": [
    "from sklearn.feature_extraction.text import CountVectorizer\n",
    "\n",
    "vectorizer = CountVectorizer(max_features=1000, min_df=3)\n",
    "\n",
    "# Pasamos los tweets normalizados a Bolsa de palabras\n",
    "X = vectorizer.fit_transform(X)"
   ]
  },
  {
   "cell_type": "markdown",
   "metadata": {},
   "source": [
    "<hr>\n",
    "\n",
    "\n",
    "## Particionado de Datos (Train y Test)\n",
    "\n",
    "* Vamos a particionar los datos en conjunto de Train y Test.\n",
    "\n",
    "\n",
    "* Para este ejemplo nos vamos a quedar con:\n",
    "    - 80% de datos de entrenamiento\n",
    "    - 20% de datos de test"
   ]
  },
  {
   "cell_type": "code",
   "execution_count": 4,
   "metadata": {},
   "outputs": [
    {
     "name": "stdout",
     "output_type": "stream",
     "text": [
      "Número de Tweets para el entrenamiento: 3043\n",
      "Número de Tweets para el test: 761\n"
     ]
    }
   ],
   "source": [
    "from sklearn.model_selection import train_test_split  \n",
    "\n",
    "X_train, X_test, y_train, y_test = train_test_split(X, y, test_size=0.2, random_state=0)\n",
    "\n",
    "print('Número de Tweets para el entrenamiento: {num}'.format(num=X_train.shape[0]))\n",
    "print('Número de Tweets para el test: {num}'.format(num=X_test.shape[0]))"
   ]
  },
  {
   "cell_type": "markdown",
   "metadata": {},
   "source": [
    "<hr>\n",
    "\n",
    "\n",
    "## Creacción del Modelo\n",
    "\n",
    "\n",
    "* Una vez tenemos creada la bolsa de palabras, podemos usar cualquier algoritmo de aprendizaje para la clasificación.\n",
    "\n",
    "\n",
    "* Para este ejemplo vamos a usar los siguientes algoritmos:\n",
    "\n",
    "    - Multinomial Naive Bayes: https://scikit-learn.org/stable/modules/generated/sklearn.naive_bayes.MultinomialNB.html\n",
    "    - Bernoulli Naive Bayes: https://scikit-learn.org/stable/modules/generated/sklearn.naive_bayes.BernoulliNB.html\n",
    "    - Regresion Logistica: https://scikit-learn.org/stable/modules/generated/sklearn.linear_model.LogisticRegression.html\n",
    "    - Support Vector Machine: https://scikit-learn.org/stable/modules/generated/sklearn.svm.LinearSVC.html\n",
    "    - Random Forest: https://scikit-learn.org/stable/modules/generated/sklearn.ensemble.RandomForestClassifier.html\n",
    "    \n",
    "\n",
    "* Para esta caso vamos a crear el modelo y calcular el accuracy para los datos de entrenamiento y tener una idea de que modelo puede funciona mejor:"
   ]
  },
  {
   "cell_type": "code",
   "execution_count": 5,
   "metadata": {},
   "outputs": [
    {
     "name": "stdout",
     "output_type": "stream",
     "text": [
      "CREANDO MODELO: Multinomial Naive Bayes\n",
      "\tAccuracy Train: 0.7722642129477489\n",
      "CREANDO MODELO: Bernoulli Naive Bayes\n",
      "\tAccuracy Train: 0.7653631284916201\n",
      "CREANDO MODELO: Regresion Logistica\n",
      "\tAccuracy Train: 0.8613210647387447\n",
      "CREANDO MODELO: Support Vector Machine\n",
      "\tAccuracy Train: 0.9017417022674992\n",
      "CREANDO MODELO: Random Forest\n",
      "\tAccuracy Train: 0.8038120276043378\n"
     ]
    }
   ],
   "source": [
    "from sklearn.naive_bayes import MultinomialNB, BernoulliNB\n",
    "from sklearn.linear_model import LogisticRegression\n",
    "from sklearn.svm import LinearSVC\n",
    "from sklearn.ensemble import RandomForestClassifier\n",
    "\n",
    "mnb = MultinomialNB()\n",
    "bnb = BernoulliNB()\n",
    "lr = LogisticRegression(solver='lbfgs', multi_class='multinomial', max_iter=1000)\n",
    "svm = LinearSVC()\n",
    "rf = RandomForestClassifier(max_depth=50, n_estimators=20, max_features=5)\n",
    "\n",
    "clasificadores = {'Multinomial Naive Bayes': mnb,\n",
    "                  'Bernoulli Naive Bayes': bnb,\n",
    "                  'Regresion Logistica': lr,\n",
    "                  'Support Vector Machine': svm,\n",
    "                  'Random Forest': rf}\n",
    "\n",
    "\n",
    "# Ajustamos los modelos y calculamos el accuracy para los datos de entrenamiento\n",
    "for k, v in clasificadores.items():\n",
    "    print ('CREANDO MODELO: {clas}'.format(clas=k))\n",
    "    v.fit(X_train, y_train)\n",
    "    accuracy_train = v.score(X_train, y_train)\n",
    "    print ('\\tAccuracy Train: {acc_train}'.format(acc_train=accuracy_train)) "
   ]
  },
  {
   "cell_type": "markdown",
   "metadata": {},
   "source": [
    "<hr>\n",
    "\n",
    "\n",
    "## Evaluación del Modelo\n",
    "\n",
    "\n",
    "* Para cada uno de los modelos vamos a calcular las siguientes métricas de evaluación:\n",
    "\n",
    "    1. **Accuracy**\n",
    "    2. **F1**\n",
    "    3. **Precision**\n",
    "    4. **Recall**"
   ]
  },
  {
   "cell_type": "code",
   "execution_count": 6,
   "metadata": {
    "scrolled": true
   },
   "outputs": [
    {
     "name": "stdout",
     "output_type": "stream",
     "text": [
      "EVALUANDO MODELO: Multinomial Naive Bayes\n",
      "EVALUANDO MODELO: Bernoulli Naive Bayes\n",
      "EVALUANDO MODELO: Regresion Logistica\n",
      "EVALUANDO MODELO: Support Vector Machine\n",
      "EVALUANDO MODELO: Random Forest\n"
     ]
    },
    {
     "data": {
      "text/html": [
       "<div>\n",
       "<style scoped>\n",
       "    .dataframe tbody tr th:only-of-type {\n",
       "        vertical-align: middle;\n",
       "    }\n",
       "\n",
       "    .dataframe tbody tr th {\n",
       "        vertical-align: top;\n",
       "    }\n",
       "\n",
       "    .dataframe thead th {\n",
       "        text-align: right;\n",
       "    }\n",
       "</style>\n",
       "<table border=\"1\" class=\"dataframe\">\n",
       "  <thead>\n",
       "    <tr style=\"text-align: right;\">\n",
       "      <th></th>\n",
       "      <th>accuracy</th>\n",
       "      <th>f1</th>\n",
       "      <th>precision</th>\n",
       "      <th>recall</th>\n",
       "    </tr>\n",
       "    <tr>\n",
       "      <th>name</th>\n",
       "      <th></th>\n",
       "      <th></th>\n",
       "      <th></th>\n",
       "      <th></th>\n",
       "    </tr>\n",
       "  </thead>\n",
       "  <tbody>\n",
       "    <tr>\n",
       "      <th>Multinomial Naive Bayes</th>\n",
       "      <td>0.712221</td>\n",
       "      <td>0.715002</td>\n",
       "      <td>0.718937</td>\n",
       "      <td>0.712221</td>\n",
       "    </tr>\n",
       "    <tr>\n",
       "      <th>Bernoulli Naive Bayes</th>\n",
       "      <td>0.708279</td>\n",
       "      <td>0.709951</td>\n",
       "      <td>0.716078</td>\n",
       "      <td>0.708279</td>\n",
       "    </tr>\n",
       "    <tr>\n",
       "      <th>Regresion Logistica</th>\n",
       "      <td>0.752957</td>\n",
       "      <td>0.743281</td>\n",
       "      <td>0.748246</td>\n",
       "      <td>0.752957</td>\n",
       "    </tr>\n",
       "    <tr>\n",
       "      <th>Support Vector Machine</th>\n",
       "      <td>0.742444</td>\n",
       "      <td>0.738825</td>\n",
       "      <td>0.740317</td>\n",
       "      <td>0.742444</td>\n",
       "    </tr>\n",
       "    <tr>\n",
       "      <th>Random Forest</th>\n",
       "      <td>0.730618</td>\n",
       "      <td>0.695621</td>\n",
       "      <td>0.766853</td>\n",
       "      <td>0.730618</td>\n",
       "    </tr>\n",
       "  </tbody>\n",
       "</table>\n",
       "</div>"
      ],
      "text/plain": [
       "                         accuracy        f1  precision    recall\n",
       "name                                                            \n",
       "Multinomial Naive Bayes  0.712221  0.715002   0.718937  0.712221\n",
       "Bernoulli Naive Bayes    0.708279  0.709951   0.716078  0.708279\n",
       "Regresion Logistica      0.752957  0.743281   0.748246  0.752957\n",
       "Support Vector Machine   0.742444  0.738825   0.740317  0.742444\n",
       "Random Forest            0.730618  0.695621   0.766853  0.730618"
      ]
     },
     "execution_count": 6,
     "metadata": {},
     "output_type": "execute_result"
    }
   ],
   "source": [
    "from sklearn.metrics import accuracy_score, f1_score, precision_score, recall_score\n",
    "\n",
    "evaluacion = list()\n",
    "for k, v in clasificadores.items():\n",
    "    print ('EVALUANDO MODELO: {model}'.format(model=k))\n",
    "    model = {}\n",
    "    model['name'] = k\n",
    "    y_pred = v.predict(X_test)\n",
    "    model['accuracy'] = accuracy_score(y_true=y_test, y_pred=y_pred)\n",
    "    model['f1'] = f1_score(y_true=y_test, y_pred=y_pred, average='weighted')\n",
    "    model['precision'] = precision_score(y_true=y_test, y_pred=y_pred, average='weighted')\n",
    "    model['recall'] = recall_score(y_true=y_test, y_pred=y_pred, average='weighted')\n",
    "    evaluacion.append(model)\n",
    "\n",
    "# Pasamos los resultados a un DataFrame para visualizarlos mejor\n",
    "df = pd.DataFrame.from_dict(evaluacion)\n",
    "df.set_index(\"name\", inplace=True)\n",
    "df.head()"
   ]
  },
  {
   "cell_type": "markdown",
   "metadata": {},
   "source": [
    "* Veamos la matriz de confusión para el modelo que mejores resultado obtiene que es la \"***Regresión Logística***\""
   ]
  },
  {
   "cell_type": "code",
   "execution_count": 7,
   "metadata": {},
   "outputs": [],
   "source": [
    "from sklearn.metrics import confusion_matrix\n",
    "\n",
    "# Matriz de confusión para el modelo de Regresión Logística\n",
    "confusion = confusion_matrix(y_true=y_test, \n",
    "                             y_pred=clasificadores['Regresion Logistica'].predict(X_test),\n",
    "                             labels=['positive', 'neutral', 'negative'])"
   ]
  },
  {
   "cell_type": "code",
   "execution_count": 8,
   "metadata": {},
   "outputs": [
    {
     "data": {
      "image/png": "[encoded data removed]",
      "text/plain": [
       "<Figure size 432x288 with 2 Axes>"
      ]
     },
     "metadata": {
      "needs_background": "light"
     },
     "output_type": "display_data"
    }
   ],
   "source": [
    "import numpy as np\n",
    "import matplotlib.pyplot as plt\n",
    "import itertools\n",
    "%matplotlib inline\n",
    "\n",
    "def plot_confusion_matrix(cm, classes, title, cmap=plt.cm.Blues):\n",
    "    \"\"\"\n",
    "    This function prints and plots the confusion matrix.\n",
    "    \"\"\"\n",
    "    plt.imshow(cm, interpolation='nearest', cmap=cmap)\n",
    "    plt.title(title)\n",
    "    plt.colorbar()\n",
    "    tick_marks = np.arange(len(classes))\n",
    "    plt.xticks(tick_marks, classes, rotation=45)\n",
    "    plt.yticks(tick_marks, classes)\n",
    "\n",
    "    thresh = cm.max() / 2.\n",
    "    for i, j in itertools.product(range(cm.shape[0]), range(cm.shape[1])):\n",
    "        plt.text(j, i, format(cm[i, j], 'd'), horizontalalignment=\"center\",\n",
    "                 color=\"white\" if cm[i, j] > thresh else \"black\")\n",
    "\n",
    "    plt.tight_layout()\n",
    "    plt.ylabel('True label')\n",
    "    plt.xlabel('Predicted label')\n",
    "\n",
    "plt.figure()\n",
    "plot_confusion_matrix(confusion, classes=['positive', 'neutral', 'negative'], title='Matriz de Confusión')\n",
    "plt.show()"
   ]
  },
  {
   "cell_type": "markdown",
   "metadata": {},
   "source": [
    "<hr>\n",
    "\n",
    "\n",
    "# Bonus Track\n",
    "\n",
    "\n",
    "* Veamos a continuación un resumen de las métricas de evaluación para evaluar lo modelos generados por algoritmo de aprendizaje para la clasificación:\n",
    "\n",
    "\n",
    "## - Matriz de confusión\n",
    "\n",
    "* Cuando hablamos de clasificación tenemos que medir cuanto hemos acertado y como lo hemos acertado, por ello las ***matrices de confusión nos ayudan a ver el acierto o fallo que tiene nuestro modelo a la hora de clasificar***. La matriz de confusión tiene la siguiente forma:\n",
    "\n",
    "    - **True Positive (TP)**: Valores positivos clasificados como positivos\n",
    "    - **True Negative (TN)**: Valores negativos clasificados como negativos\n",
    "    - **False Positive (FP)**: Valores negativos clasificados como positivos\n",
    "    - **False Negative (FN)**: Valore positivos clasificados como negativos\n",
    "    \n",
    "<img src=\"./imgs/011_Matriz_Confusion.png\" style=\"width: 400px;\"/>\n",
    "\n",
    "\n",
    "## - Accuracy\n",
    "\n",
    "* Indica el porcentaje de acierto:\n",
    "\n",
    "$$Acuracy = \\frac{TP + TN}{TP + FN + FP + TN}$$\n",
    "\n",
    "## - Precision\n",
    "\n",
    "* Los positivos correctamente pronosticados entre todos los ejemplos pronosticados como positivos. \n",
    "\n",
    "\n",
    "* \"***De lo que hemos pronosticado, cuanto hemos acertado***\"\n",
    "\n",
    "\n",
    "$$Precision = \\frac{TP}{TP + FP}$$\n",
    "\n",
    "\n",
    "<img src=\"./imgs/012_Matriz_Confusion_precision.png\" style=\"width: 400px;\"/>\n",
    "                                                               \n",
    "                                                               \n",
    "\n",
    "## - Recall\n",
    "\n",
    "\n",
    "* Los positivos correctamente pronosticados, entre todos los ejemplos que son positivos. \n",
    "\n",
    "\n",
    "* \"***De lo que hay en realidad, cuanto hemos acertado***\"\n",
    "\n",
    "\n",
    "$$Recall = \\frac{TP}{TP + FN}$$\n",
    "\n",
    "\n",
    "<img src=\"./imgs/013_Matriz_Confusion_recall.png\" style=\"width: 400px;\"/>\n",
    "\n",
    "\n",
    "## - F1 (Precision-Recall)\n",
    "\n",
    "\n",
    "* Es una media que combina la precisión y el recall. \n",
    "\n",
    "\n",
    "* Si es cercano a ***1*** significa que la clasificación realizada es buena. \n",
    "\n",
    "\n",
    "* Si es cercano a ***0*** la clasificación realizada es mala.\n",
    "\n",
    "\n",
    "$$F1 = 2 \\cdot \\frac{Precision \\cdot Recall}{Precision + Recall}$$\n",
    "\n",
    "\n",
    "<img src=\"./imgs/014_Matriz_Confusion_f1.png\" style=\"width: 400px;\"/>\n",
    "\n",
    "\n",
    "## - Métricas en Sckit-Learn:\n",
    "\n",
    "* Scikit-Learn dispone del módulo “metrics” donde tiene implementados todos estos métodos de evaluación\n",
    "\n",
    "\n",
    "* Como norma general se le pasa como parámetros un array con la clasificación verdadera y otro array con la predicción:\n",
    "\n",
    "    - **metrics.confusion_matrix(y_true, y_pred[, …])**: Compute confusion matrix to evaluate the accuracy of a classification\n",
    "    - **metrics.accuracy_score(y_true, y_pred[, …])**: Accuracy classification score\n",
    "    - **metrics.precision_score(y_true, y_pred[, …])**: Compute the precision\n",
    "    - **metrics.recall_score(y_true, y_pred[, …])**: Compute the recall\n",
    "    - **metrics.f1_score(y_true, y_pred[, labels, …])**: Compute the F1 score, also known as balanced F-score or F-measure\n",
    "    - **metrics.classification_report(y_true, y_pred)**: Build a text report showing the main classification metrics\n"
   ]
  }
 ],
 "metadata": {
  "kernelspec": {
   "display_name": "Python 3",
   "language": "python",
   "name": "python3"
  },
  "language_info": {
   "codemirror_mode": {
    "name": "ipython",
    "version": 3
   },
   "file_extension": ".py",
   "mimetype": "text/x-python",
   "name": "python",
   "nbconvert_exporter": "python",
   "pygments_lexer": "ipython3",
   "version": "3.6.8"
  }
 },
 "nbformat": 4,
 "nbformat_minor": 2
}
