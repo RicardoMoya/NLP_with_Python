{
 "cells": [
  {
   "cell_type": "markdown",
   "metadata": {},
   "source": [
    "# 20 - Latent Dirichlet Allocation\n",
    "\n",
    "\n",
    "* El LDA, es un ***modelo probabilístico*** que se enmarca dentro de los ***modelos generativos*** ya que trata de describir como se crea un documento. (http://www.jmlr.org/papers/volume3/blei03a/blei03a.pdf)\n",
    "\n",
    "\n",
    "* El LDA propone que ***un documento se crea mediante la selección de los temas y las palabras de acuerdo a las representaciones probabilísticas del texto natural del documento***.\n",
    "\n",
    "\n",
    "* El LDA calcula **dos matrices de probabilidad P(w|z) y P(z|θ)**, donde:\n",
    "\n",
    "    - **P(w|z)**: es la probabilidad de que dado un tema salga una palabra\n",
    "    - **P(z|θ)**: es la probabilidad de que un documento pertenezca a un tema.\n",
    "    \n",
    "    \n",
    "$$ P(w|\\theta) = \\sum_{z \\in  Z} P(w | z) \\cdot P(z|\\theta) $$\n",
    "\n",
    "\n",
    "* ***NOTA***: *existe otro modelo llamado PLSI (Probabilistic Latent Semantic Index) que se enmarca dentro de los modelos probabilísticos (al igual que el LDA) y es el enfoque probabilístico del LSI (siguiendo una distribución uniforme).*\n",
    "\n",
    "\n",
    "* La representación en \"*Plate Notaticon*\" del LDA es la siguiente:\n",
    "\n",
    "\n",
    "<img src=\"./imgs/018_LDA_Plate_Notation.png\" style=\"width: 400px;\"/>\n",
    "\n",
    "\n",
    "* Siendo\n",
    "\n",
    "    + ***K***: Número de temas. \n",
    "    + ***N***: Número de palabras\n",
    "    + ***M***: Número de documentos: \n",
    "    + ***α***: Parámetro de Dirichlet. Este parámetro es un vector de K componentes que describe el conocimiento a priori que se tiene sobre como los temas se distribuyen en los documentos. \n",
    "        * Pocos temas -> Valor de α pequeño\n",
    "        * Muchos temas  -> Valor de α grande\n",
    "    + ***Β***: Parámetro de Dirichlet. Este parámetro es un vector de N componentes que describe el conocimiento a priori que se tiene sobre como las palabras se distribuyen en cada tema. \n",
    "        * Tema con pocas palabras -> Valor de Β cercano a cero\n",
    "        * Tema con muchas palabras -> Valor de Β cercano a uno\n",
    "    + ***θ***: Distribución de probabilidad de que un documento pertenezca a un tema. \n",
    "    + ***Z***: Distribución de probabilidad de que una palabra pertenezca a un tema. \n",
    "    + ***W***: Identifica todas las palabras en todos los documentos.\n",
    "    + ***φ***: Distribución de probabilidad de que dado un tema salga una palabra.\n",
    "    \n",
    "\n",
    "* ***NOTA***: Si los parámetros ***α y Β*** de la distribución de dirichlet son ***igual a '1'***, el ***LDA se comportaría de la misma manera que el PLSI ya que la distribución de Dirichlet con esos parámetros se comportaría como una distribución uniforme***.\n",
    "\n",
    "\n",
    "* Haciendo una analogía con el LSI, el ***LDA nos tienen que proporcionar***:\n",
    "    - Matriz de probabilidades \"***Temas-Palabras***\": Nos indica la probabilidad de que dado un tema, salga una palabra. \n",
    "    - Matriz de probabilidades \"***Documentos-Temas***\": Nos indica la probabilidad de que un documento pertenezca a un tema.\n",
    "    \n",
    "    \n",
    "* De esta manera podemos ver las relaciones entre palabras y entre documentos.\n",
    "\n",
    "\n",
    "* ***CUIDADO***: *El LDA trabaja con distribuciones de probabilidad que representan la probabilidad de pertenencia de cada palabra o documento a cada tema. Estas distribuciones de probabilidad no tienen que ser tratadas como vectores de factores latentes (como en el LSI) para calcular similaridades entre documentos, ya que al tratarse de distribuciones de probabilidad no hay que aplicar medidas de distancias para calcular similaridades; si no la ***Divergencia de Kullback-Liebler (KL)*** para estudiar las similaridades entre distribuciones de probabilidad.*\n",
    "\n",
    "\n",
    "$$ KL(p ||q) = \\sum_{i}p(i)ln \\frac{p(i)}{q(i)} $$\n",
    "\n",
    "\n",
    "<hr>\n",
    "\n",
    "\n",
    "# Ejemplo de LDA con Gensim\n",
    "\n",
    "\n",
    "* Veamos a continuación un ejemplo sencillo sobre el siguiente Corpus del cual podemos ver que habla de 3 temas:\n",
    "    - Fútbol\n",
    "    - Política\n",
    "    - Economía"
   ]
  },
  {
   "cell_type": "code",
   "execution_count": 1,
   "metadata": {},
   "outputs": [],
   "source": [
    "import warnings\n",
    "warnings.filterwarnings('ignore')\n",
    "\n",
    "corpus = [\"balon balon balon futbol futbol liga liga liga ronaldo ronaldo ronaldo ronaldo ronaldo messi\",\n",
    "          \"futbol futbol futbol futbol futbol ronaldo ronaldo ronaldo ronaldo messi messi\",\n",
    "          \"balon balon futbol futbol futbol futbol futbol futbol futbol messi messi messi messi messi\",\n",
    "          \"politica politica politica politica pp pp pp pp pp pp rajoy rajoy rajoy rajoy rajoy\",\n",
    "          \"politica politica politica politica pp pp pp psoe psoe psoe psoe zapatero zapatero zapatero rajoy\",\n",
    "          \"politica politica politica politica psoe psoe psoe psoe psoe psoe zapatero zapatero zapatero zapatero zapatero \",\n",
    "          \"dinero fmi fmi fmi fmi fmi ue ue ue ue pib pib pib ibex ibex\",\n",
    "          \"zapatero rajoy dinero dinero dinero dinero fmi fmi fmi fmi ue ue ue ue pib\",\n",
    "          \"pp psoe zapatero rajoy dinero dinero dinero dinero fmi fmi fmi fmi ue ue ue \",\n",
    "          \"futbol politica pib\",\n",
    "          \"futbol zapatero liga rajoy\"]\n"
   ]
  },
  {
   "cell_type": "markdown",
   "metadata": {},
   "source": [
    "## Creamos el Diccionario y la Matriz (Bolsa de Palabras)"
   ]
  },
  {
   "cell_type": "code",
   "execution_count": 2,
   "metadata": {},
   "outputs": [
    {
     "name": "stdout",
     "output_type": "stream",
     "text": [
      "Diccionario:\n",
      "{'balon': 0,\n",
      " 'dinero': 10,\n",
      " 'fmi': 11,\n",
      " 'futbol': 1,\n",
      " 'ibex': 12,\n",
      " 'liga': 2,\n",
      " 'messi': 3,\n",
      " 'pib': 13,\n",
      " 'politica': 5,\n",
      " 'pp': 6,\n",
      " 'psoe': 8,\n",
      " 'rajoy': 7,\n",
      " 'ronaldo': 4,\n",
      " 'ue': 14,\n",
      " 'zapatero': 9}\n",
      "\n",
      "Bolsa de Palabras:\n",
      "[[(0, 3), (1, 2), (2, 3), (3, 1), (4, 5)],\n",
      " [(1, 5), (3, 2), (4, 4)],\n",
      " [(0, 2), (1, 7), (3, 5)],\n",
      " [(5, 4), (6, 6), (7, 5)],\n",
      " [(5, 4), (6, 3), (7, 1), (8, 4), (9, 3)],\n",
      " [(5, 4), (8, 6), (9, 5)],\n",
      " [(10, 1), (11, 5), (12, 2), (13, 3), (14, 4)],\n",
      " [(7, 1), (9, 1), (10, 4), (11, 4), (13, 1), (14, 4)],\n",
      " [(6, 1), (7, 1), (8, 1), (9, 1), (10, 4), (11, 4), (14, 3)],\n",
      " [(1, 1), (5, 1), (13, 1)],\n",
      " [(1, 1), (2, 1), (7, 1), (9, 1)]]\n"
     ]
    }
   ],
   "source": [
    "from pprint import pprint\n",
    "from gensim import corpora\n",
    "from collections import defaultdict\n",
    "\n",
    "# Tokenizamos\n",
    "documents = [word.split() for word in corpus]\n",
    "\n",
    "# Creamos el diccionario (vocabulario)\n",
    "frequency = defaultdict(int)\n",
    "for doc in documents:\n",
    "    for token in doc:\n",
    "        frequency[token] += 1\n",
    "        \n",
    "documents = [[token for token in doc] for doc in documents]\n",
    "dictionary = corpora.Dictionary(documents)\n",
    "print('Diccionario:')\n",
    "pprint(dictionary.token2id)\n",
    "\n",
    "\n",
    "# Creamos la Bolsa de Palabras\n",
    "corpus = [dictionary.doc2bow(doc) for doc in documents]\n",
    "print('\\nBolsa de Palabras:')\n",
    "pprint(corpus)"
   ]
  },
  {
   "cell_type": "markdown",
   "metadata": {},
   "source": [
    "## Creamos el Modelo:\n",
    "\n",
    "* Gensim tiene implementado el LDA en la clase ***LdaModel***: https://radimrehurek.com/gensim/models/ldamodel.html\n",
    "\n",
    "\n",
    "* Como parámetros relevantes necesita:\n",
    "    1. Corpus\n",
    "    2. Número de Topics\n",
    "    3. Diccionario o Vocabulario del Corpus"
   ]
  },
  {
   "cell_type": "code",
   "execution_count": 3,
   "metadata": {},
   "outputs": [],
   "source": [
    "from gensim.models import LdaModel\n",
    "\n",
    "lda_model = LdaModel(corpus=corpus, num_topics=3, id2word=dictionary, random_state=168)"
   ]
  },
  {
   "cell_type": "markdown",
   "metadata": {},
   "source": [
    "## Matriz de probabilidades \"***Documentos-Temas***\"\n",
    "\n",
    "\n",
    "* Obtenemos la probabilidad de que cada documento pertenezca a uno de los 3 temas de la siguiente manera:"
   ]
  },
  {
   "cell_type": "code",
   "execution_count": 4,
   "metadata": {},
   "outputs": [
    {
     "data": {
      "text/plain": [
       "array([[0.9554772 , 0.022272  , 0.02225077],\n",
       "       [0.944366  , 0.02783236, 0.02780169],\n",
       "       [0.9554879 , 0.02226957, 0.02224254],\n",
       "       [0.02196668, 0.95660496, 0.02142834],\n",
       "       [0.02129494, 0.9568262 , 0.02187884],\n",
       "       [0.02108418, 0.95666164, 0.02225416],\n",
       "       [0.02096967, 0.02090394, 0.9581264 ],\n",
       "       [0.02129548, 0.02190296, 0.95680153],\n",
       "       [0.02175925, 0.03364885, 0.9445919 ],\n",
       "       [0.4718744 , 0.2247417 , 0.3033839 ],\n",
       "       [0.6306029 , 0.2962572 , 0.07313989]], dtype=float32)"
      ]
     },
     "execution_count": 4,
     "metadata": {},
     "output_type": "execute_result"
    }
   ],
   "source": [
    "import numpy as np\n",
    "\n",
    "docs_topics = np.array([[tup[1] for tup in lst] for lst in lda_model[corpus]])\n",
    "docs_topics"
   ]
  },
  {
   "cell_type": "markdown",
   "metadata": {},
   "source": [
    "* Se puede observar que nos devuelve para cada documento la probabilidad de que el documento pertenezca a cada tema y que es un vector de probabilidades ya que la suma de las probabilidades es igual a '1'.\n",
    "\n",
    "\n",
    "* Para ver los factores de cada una de las palabras lo vamos a mostrar de la siguiente manera:"
   ]
  },
  {
   "cell_type": "code",
   "execution_count": 5,
   "metadata": {},
   "outputs": [
    {
     "data": {
      "text/html": [
       "<div>\n",
       "<style scoped>\n",
       "    .dataframe tbody tr th:only-of-type {\n",
       "        vertical-align: middle;\n",
       "    }\n",
       "\n",
       "    .dataframe tbody tr th {\n",
       "        vertical-align: top;\n",
       "    }\n",
       "\n",
       "    .dataframe thead th {\n",
       "        text-align: right;\n",
       "    }\n",
       "</style>\n",
       "<table border=\"1\" class=\"dataframe\">\n",
       "  <thead>\n",
       "    <tr style=\"text-align: right;\">\n",
       "      <th></th>\n",
       "      <th>Topic 1</th>\n",
       "      <th>Topic 2</th>\n",
       "      <th>Topic 3</th>\n",
       "    </tr>\n",
       "  </thead>\n",
       "  <tbody>\n",
       "    <tr>\n",
       "      <th>Doc 1</th>\n",
       "      <td>0.96</td>\n",
       "      <td>0.02</td>\n",
       "      <td>0.02</td>\n",
       "    </tr>\n",
       "    <tr>\n",
       "      <th>Doc 2</th>\n",
       "      <td>0.94</td>\n",
       "      <td>0.03</td>\n",
       "      <td>0.03</td>\n",
       "    </tr>\n",
       "    <tr>\n",
       "      <th>Doc 3</th>\n",
       "      <td>0.96</td>\n",
       "      <td>0.02</td>\n",
       "      <td>0.02</td>\n",
       "    </tr>\n",
       "    <tr>\n",
       "      <th>Doc 4</th>\n",
       "      <td>0.02</td>\n",
       "      <td>0.96</td>\n",
       "      <td>0.02</td>\n",
       "    </tr>\n",
       "    <tr>\n",
       "      <th>Doc 5</th>\n",
       "      <td>0.02</td>\n",
       "      <td>0.96</td>\n",
       "      <td>0.02</td>\n",
       "    </tr>\n",
       "    <tr>\n",
       "      <th>Doc 6</th>\n",
       "      <td>0.02</td>\n",
       "      <td>0.96</td>\n",
       "      <td>0.02</td>\n",
       "    </tr>\n",
       "    <tr>\n",
       "      <th>Doc 7</th>\n",
       "      <td>0.02</td>\n",
       "      <td>0.02</td>\n",
       "      <td>0.96</td>\n",
       "    </tr>\n",
       "    <tr>\n",
       "      <th>Doc 8</th>\n",
       "      <td>0.02</td>\n",
       "      <td>0.02</td>\n",
       "      <td>0.96</td>\n",
       "    </tr>\n",
       "    <tr>\n",
       "      <th>Doc 9</th>\n",
       "      <td>0.02</td>\n",
       "      <td>0.03</td>\n",
       "      <td>0.94</td>\n",
       "    </tr>\n",
       "    <tr>\n",
       "      <th>Doc 10</th>\n",
       "      <td>0.47</td>\n",
       "      <td>0.22</td>\n",
       "      <td>0.30</td>\n",
       "    </tr>\n",
       "    <tr>\n",
       "      <th>Doc 11</th>\n",
       "      <td>0.63</td>\n",
       "      <td>0.30</td>\n",
       "      <td>0.07</td>\n",
       "    </tr>\n",
       "  </tbody>\n",
       "</table>\n",
       "</div>"
      ],
      "text/plain": [
       "        Topic 1  Topic 2  Topic 3\n",
       "Doc 1      0.96     0.02     0.02\n",
       "Doc 2      0.94     0.03     0.03\n",
       "Doc 3      0.96     0.02     0.02\n",
       "Doc 4      0.02     0.96     0.02\n",
       "Doc 5      0.02     0.96     0.02\n",
       "Doc 6      0.02     0.96     0.02\n",
       "Doc 7      0.02     0.02     0.96\n",
       "Doc 8      0.02     0.02     0.96\n",
       "Doc 9      0.02     0.03     0.94\n",
       "Doc 10     0.47     0.22     0.30\n",
       "Doc 11     0.63     0.30     0.07"
      ]
     },
     "execution_count": 5,
     "metadata": {},
     "output_type": "execute_result"
    }
   ],
   "source": [
    "import pandas as pd\n",
    "pd.options.display.float_format = '{:,.2f}'.format\n",
    "\n",
    "index = ['Doc {}'.format(i+1) for i,doc in enumerate(documents)]\n",
    "pd.DataFrame(docs_topics, index=index, columns=['Topic 1', 'Topic 2', 'Topic 3']).head(11)"
   ]
  },
  {
   "cell_type": "markdown",
   "metadata": {},
   "source": [
    "## Matriz de probabilidades \"***Temas-Palabras***\"\n",
    "\n",
    "\n",
    "* Obtenemos la probabilidad de que dado uno de los 3 temas aparezca una de las 15 palabras. Al igual que en la matriz anterior la suma de todas las probabilidades de las palabras en un tema tiene que sumar '1'.\n",
    "\n",
    "\n",
    "* A continuación obtenermos la probabilidad de que dado un tema aparezca una palabra:"
   ]
  },
  {
   "cell_type": "code",
   "execution_count": 6,
   "metadata": {},
   "outputs": [
    {
     "data": {
      "text/plain": [
       "array([[0.09317529, 0.2825838 , 0.07501986, 0.1452651 , 0.16276391,\n",
       "        0.0490766 , 0.04666363, 0.06846386, 0.00649099, 0.02347384,\n",
       "        0.00656333, 0.00695537, 0.00597146, 0.02105449, 0.00647842],\n",
       "       [0.01013354, 0.01513252, 0.01031095, 0.01078796, 0.0107012 ,\n",
       "        0.23358683, 0.19990145, 0.10726745, 0.18813144, 0.15640432,\n",
       "        0.01078725, 0.01139278, 0.00977445, 0.01385722, 0.01183053],\n",
       "       [0.00595078, 0.00705412, 0.00637553, 0.00625577, 0.00640783,\n",
       "        0.05120306, 0.02275785, 0.03977363, 0.08520257, 0.08768231,\n",
       "        0.15633696, 0.2232125 , 0.03918657, 0.07299459, 0.18960598]],\n",
       "      dtype=float32)"
      ]
     },
     "execution_count": 6,
     "metadata": {},
     "output_type": "execute_result"
    }
   ],
   "source": [
    "words_topics = lda_model.get_topics()\n",
    "words_topics"
   ]
  },
  {
   "cell_type": "markdown",
   "metadata": {},
   "source": [
    "* De manera más clara los mostramos en una tabla:"
   ]
  },
  {
   "cell_type": "code",
   "execution_count": 7,
   "metadata": {},
   "outputs": [
    {
     "data": {
      "text/html": [
       "<div>\n",
       "<style scoped>\n",
       "    .dataframe tbody tr th:only-of-type {\n",
       "        vertical-align: middle;\n",
       "    }\n",
       "\n",
       "    .dataframe tbody tr th {\n",
       "        vertical-align: top;\n",
       "    }\n",
       "\n",
       "    .dataframe thead th {\n",
       "        text-align: right;\n",
       "    }\n",
       "</style>\n",
       "<table border=\"1\" class=\"dataframe\">\n",
       "  <thead>\n",
       "    <tr style=\"text-align: right;\">\n",
       "      <th></th>\n",
       "      <th>balon</th>\n",
       "      <th>futbol</th>\n",
       "      <th>liga</th>\n",
       "      <th>messi</th>\n",
       "      <th>ronaldo</th>\n",
       "      <th>politica</th>\n",
       "      <th>pp</th>\n",
       "      <th>rajoy</th>\n",
       "      <th>psoe</th>\n",
       "      <th>zapatero</th>\n",
       "      <th>dinero</th>\n",
       "      <th>fmi</th>\n",
       "      <th>ibex</th>\n",
       "      <th>pib</th>\n",
       "      <th>ue</th>\n",
       "    </tr>\n",
       "  </thead>\n",
       "  <tbody>\n",
       "    <tr>\n",
       "      <th>Topic 1</th>\n",
       "      <td>0.09</td>\n",
       "      <td>0.28</td>\n",
       "      <td>0.08</td>\n",
       "      <td>0.15</td>\n",
       "      <td>0.16</td>\n",
       "      <td>0.05</td>\n",
       "      <td>0.05</td>\n",
       "      <td>0.07</td>\n",
       "      <td>0.01</td>\n",
       "      <td>0.02</td>\n",
       "      <td>0.01</td>\n",
       "      <td>0.01</td>\n",
       "      <td>0.01</td>\n",
       "      <td>0.02</td>\n",
       "      <td>0.01</td>\n",
       "    </tr>\n",
       "    <tr>\n",
       "      <th>Topic 2</th>\n",
       "      <td>0.01</td>\n",
       "      <td>0.02</td>\n",
       "      <td>0.01</td>\n",
       "      <td>0.01</td>\n",
       "      <td>0.01</td>\n",
       "      <td>0.23</td>\n",
       "      <td>0.20</td>\n",
       "      <td>0.11</td>\n",
       "      <td>0.19</td>\n",
       "      <td>0.16</td>\n",
       "      <td>0.01</td>\n",
       "      <td>0.01</td>\n",
       "      <td>0.01</td>\n",
       "      <td>0.01</td>\n",
       "      <td>0.01</td>\n",
       "    </tr>\n",
       "    <tr>\n",
       "      <th>Topic 3</th>\n",
       "      <td>0.01</td>\n",
       "      <td>0.01</td>\n",
       "      <td>0.01</td>\n",
       "      <td>0.01</td>\n",
       "      <td>0.01</td>\n",
       "      <td>0.05</td>\n",
       "      <td>0.02</td>\n",
       "      <td>0.04</td>\n",
       "      <td>0.09</td>\n",
       "      <td>0.09</td>\n",
       "      <td>0.16</td>\n",
       "      <td>0.22</td>\n",
       "      <td>0.04</td>\n",
       "      <td>0.07</td>\n",
       "      <td>0.19</td>\n",
       "    </tr>\n",
       "  </tbody>\n",
       "</table>\n",
       "</div>"
      ],
      "text/plain": [
       "         balon  futbol  liga  messi  ronaldo  politica   pp  rajoy  psoe  \\\n",
       "Topic 1   0.09    0.28  0.08   0.15     0.16      0.05 0.05   0.07  0.01   \n",
       "Topic 2   0.01    0.02  0.01   0.01     0.01      0.23 0.20   0.11  0.19   \n",
       "Topic 3   0.01    0.01  0.01   0.01     0.01      0.05 0.02   0.04  0.09   \n",
       "\n",
       "         zapatero  dinero  fmi  ibex  pib   ue  \n",
       "Topic 1      0.02    0.01 0.01  0.01 0.02 0.01  \n",
       "Topic 2      0.16    0.01 0.01  0.01 0.01 0.01  \n",
       "Topic 3      0.09    0.16 0.22  0.04 0.07 0.19  "
      ]
     },
     "execution_count": 7,
     "metadata": {},
     "output_type": "execute_result"
    }
   ],
   "source": [
    "pd.DataFrame(words_topics, index=['Topic 1', 'Topic 2', 'Topic 3'], columns=dictionary.token2id.keys()).head()"
   ]
  },
  {
   "cell_type": "markdown",
   "metadata": {},
   "source": [
    "## Palabras (terminos) más representativas de un tema (topic)\n",
    "\n",
    "\n",
    "* Dado que podemos obtener la probabilidad de que dada una palabra (termino) esta pertenezca a un tema (topic), podemos obtener las palabras más representativas por topic de la siguiente manera: "
   ]
  },
  {
   "cell_type": "code",
   "execution_count": 8,
   "metadata": {},
   "outputs": [
    {
     "name": "stdout",
     "output_type": "stream",
     "text": [
      "\n",
      "Topic 1\n",
      "['futbol', 'ronaldo', 'messi', 'balon', 'liga']\n",
      "\n",
      "Topic 2\n",
      "['politica', 'pp', 'psoe', 'zapatero', 'rajoy']\n",
      "\n",
      "Topic 3\n",
      "['fmi', 'ue', 'dinero', 'zapatero', 'psoe']\n"
     ]
    }
   ],
   "source": [
    "dictionary.id2token\n",
    "for i in range(3):\n",
    "    print('\\nTopic {i}'.format(i=i+1))\n",
    "    pprint([dictionary.id2token[term[0]] for term in lda_model.get_topic_terms(i)[0:5]])"
   ]
  },
  {
   "cell_type": "markdown",
   "metadata": {},
   "source": [
    "<hr>\n",
    "\n",
    "\n",
    "## Topics & Terms\n",
    "\n",
    "\n",
    "* Gensim nos devuelve un \"formula\" por tema (Topic) que aplicada a las apariciones de las palabras en los documentos nos indica la pertenencia del nuevo documento a ese tema. El que mayor valor tenga tras aplicar la fórmula del tema al documento significará que tiene mayor propensión a pertenecer a ese tema.\n",
    "\n",
    "\n",
    "* Si os fijáis esa fórmula la construye como el sumatorio de la aparición de la palabra en el documento, multiplicado por la probabilidad de que en ese temá aparezca esa palabra:"
   ]
  },
  {
   "cell_type": "code",
   "execution_count": 9,
   "metadata": {},
   "outputs": [
    {
     "data": {
      "text/plain": [
       "[(0,\n",
       "  '0.283*\"futbol\" + 0.163*\"ronaldo\" + 0.145*\"messi\" + 0.093*\"balon\" + 0.075*\"liga\" + 0.068*\"rajoy\" + 0.049*\"politica\" + 0.047*\"pp\" + 0.023*\"zapatero\" + 0.021*\"pib\" + 0.007*\"fmi\" + 0.007*\"dinero\" + 0.006*\"psoe\" + 0.006*\"ue\" + 0.006*\"ibex\"'),\n",
       " (1,\n",
       "  '0.234*\"politica\" + 0.200*\"pp\" + 0.188*\"psoe\" + 0.156*\"zapatero\" + 0.107*\"rajoy\" + 0.015*\"futbol\" + 0.014*\"pib\" + 0.012*\"ue\" + 0.011*\"fmi\" + 0.011*\"messi\" + 0.011*\"dinero\" + 0.011*\"ronaldo\" + 0.010*\"liga\" + 0.010*\"balon\" + 0.010*\"ibex\"'),\n",
       " (2,\n",
       "  '0.223*\"fmi\" + 0.190*\"ue\" + 0.156*\"dinero\" + 0.088*\"zapatero\" + 0.085*\"psoe\" + 0.073*\"pib\" + 0.051*\"politica\" + 0.040*\"rajoy\" + 0.039*\"ibex\" + 0.023*\"pp\" + 0.007*\"futbol\" + 0.006*\"ronaldo\" + 0.006*\"liga\" + 0.006*\"messi\" + 0.006*\"balon\"')]"
      ]
     },
     "execution_count": 9,
     "metadata": {},
     "output_type": "execute_result"
    }
   ],
   "source": [
    "lda_model.print_topics(num_words=15)"
   ]
  },
  {
   "cell_type": "markdown",
   "metadata": {},
   "source": [
    "<hr>\n",
    "\n",
    "\n",
    "# Visualización\n",
    "\n",
    "\n",
    "* Existe una librería llamada \"***pyLDAvis***\" que nos permite visualizar las relaciones entre los temas (topic) y dentro de cada tema la importancia de sus palabras (terms).\n",
    "\n",
    "\n",
    "* La parte de visualización de esta librería nos permite ver:\n",
    "    - Parte Izquierda: Visualización de los temas en función de dos componentes (2 Dimensiones)\n",
    "    - Parte Derecha: Seleccionado un Topic, podemos ver las palabras (terms) más relevantes de ese tema y la frecuencia con la que aparecen tanto en el corpus como en el tema.\n",
    "    \n",
    "    \n",
    "* En esta visualización podemos apreciar como se distinguen los tres temas claramente ya que las dos componentes que las definen son claramente distintas."
   ]
  },
  {
   "cell_type": "code",
   "execution_count": 10,
   "metadata": {},
   "outputs": [
    {
     "data": {
      "text/html": [
       "\n",
       "<link rel=\"stylesheet\" type=\"text/css\" href=\"https://cdn.rawgit.com/bmabey/pyLDAvis/files/ldavis.v1.0.0.css\">\n",
       "\n",
       "\n",
       "<div id=\"ldavis_el606012869364419281095630785\"></div>\n",
       "<script type=\"text/javascript\">\n",
       "\n",
       "var ldavis_el606012869364419281095630785_data = {\"mdsDat\": {\"x\": [-0.044027376885913905, -0.18567925628126036, 0.22970663316717435], \"y\": [-0.1287533075190314, 0.08484678962393605, 0.04390651789509536], \"topics\": [1, 2, 3], \"cluster\": [1, 1, 1], \"Freq\": [34.54932167619041, 33.82829956684797, 31.622378756961623]}, \"tinfo\": {\"Term\": [\"futbol\", \"fmi\", \"ue\", \"ronaldo\", \"dinero\", \"messi\", \"psoe\", \"pp\", \"politica\", \"balon\", \"zapatero\", \"liga\", \"pib\", \"ibex\", \"rajoy\", \"pp\", \"politica\", \"psoe\", \"zapatero\", \"rajoy\", \"ibex\", \"pib\", \"liga\", \"balon\", \"messi\", \"ronaldo\", \"dinero\", \"ue\", \"futbol\", \"fmi\", \"fmi\", \"ue\", \"dinero\", \"ibex\", \"pib\", \"zapatero\", \"psoe\", \"rajoy\", \"politica\", \"pp\", \"liga\", \"balon\", \"messi\", \"ronaldo\", \"futbol\", \"futbol\", \"ronaldo\", \"messi\", \"balon\", \"liga\", \"rajoy\", \"pib\", \"pp\", \"politica\", \"ibex\", \"zapatero\", \"dinero\", \"ue\", \"fmi\", \"psoe\"], \"Freq\": [13.0, 11.0, 9.0, 7.0, 7.0, 7.0, 13.0, 12.0, 15.0, 4.0, 12.0, 4.0, 4.0, 2.0, 9.0, 9.3927848627971, 10.97556272979225, 8.839746485454926, 7.348981811021581, 5.04018388739069, 0.45927267923708426, 0.6511102906886553, 0.4844813564692513, 0.47614566502601735, 0.5068948556256723, 0.5028180747271571, 0.5068614228890794, 0.5558821291582586, 0.7110330447757098, 0.5353132506112612, 10.269222969298905, 8.723105274436575, 7.192514603609211, 1.802836666159494, 3.358224712141644, 4.03395498467855, 3.9198708799843627, 1.8298451117486818, 2.3556728297692073, 1.0470087775170984, 0.29331584182544646, 0.27377464349677133, 0.28780611858247707, 0.29480181449685755, 0.3245352788550853, 12.152922111390344, 6.999895542643108, 6.247334264909806, 4.007137191836361, 3.2263367222405357, 2.9443866668141663, 0.9054785475691703, 2.006836589221398, 2.1106097155239723, 0.25681121560357517, 1.0095262763093222, 0.2822655318119562, 0.27861387212169675, 0.29912582508804625, 0.27915418526098007], \"Total\": [13.0, 11.0, 9.0, 7.0, 7.0, 7.0, 13.0, 12.0, 15.0, 4.0, 12.0, 4.0, 4.0, 2.0, 9.0, 12.446630229535597, 15.441845275085429, 13.038771550700268, 12.392463072009452, 9.814415665953538, 2.5189205610001535, 4.91481355039947, 4.004133920535233, 4.75705750035915, 7.042035239117955, 7.797515431867122, 7.981641558310246, 9.55760127571653, 13.188490435021139, 11.103662044998213, 11.103662044998213, 9.55760127571653, 7.981641558310246, 2.5189205610001535, 4.91481355039947, 12.392463072009452, 13.038771550700268, 9.814415665953538, 15.441845275085429, 12.446630229535597, 4.004133920535233, 4.75705750035915, 7.042035239117955, 7.797515431867122, 13.188490435021139, 13.188490435021139, 7.797515431867122, 7.042035239117955, 4.75705750035915, 4.004133920535233, 9.814415665953538, 4.91481355039947, 12.446630229535597, 15.441845275085429, 2.5189205610001535, 12.392463072009452, 7.981641558310246, 9.55760127571653, 11.103662044998213, 13.038771550700268], \"Category\": [\"Default\", \"Default\", \"Default\", \"Default\", \"Default\", \"Default\", \"Default\", \"Default\", \"Default\", \"Default\", \"Default\", \"Default\", \"Default\", \"Default\", \"Default\", \"Topic1\", \"Topic1\", \"Topic1\", \"Topic1\", \"Topic1\", \"Topic1\", \"Topic1\", \"Topic1\", \"Topic1\", \"Topic1\", \"Topic1\", \"Topic1\", \"Topic1\", \"Topic1\", \"Topic1\", \"Topic2\", \"Topic2\", \"Topic2\", \"Topic2\", \"Topic2\", \"Topic2\", \"Topic2\", \"Topic2\", \"Topic2\", \"Topic2\", \"Topic2\", \"Topic2\", \"Topic2\", \"Topic2\", \"Topic2\", \"Topic3\", \"Topic3\", \"Topic3\", \"Topic3\", \"Topic3\", \"Topic3\", \"Topic3\", \"Topic3\", \"Topic3\", \"Topic3\", \"Topic3\", \"Topic3\", \"Topic3\", \"Topic3\", \"Topic3\"], \"logprob\": [15.0, 14.0, 13.0, 12.0, 11.0, 10.0, 9.0, 8.0, 7.0, 6.0, 5.0, 4.0, 3.0, 2.0, 1.0, -1.6098999977111816, -1.454200029373169, -1.6706000566482544, -1.855299949645996, -2.2323999404907227, -4.627999782562256, -4.278900146484375, -4.57450008392334, -4.591899871826172, -4.529300212860107, -4.537399768829346, -4.529399871826172, -4.437099933624268, -4.190899848937988, -4.474800109863281, -1.4996000528335571, -1.6627999544143677, -1.8557000160217285, -3.2393999099731445, -2.6173999309539795, -2.434000015258789, -2.4626998901367188, -3.224600076675415, -2.9719998836517334, -3.7827999591827393, -5.055300235748291, -5.124199867248535, -5.0742998123168945, -5.05019998550415, -4.954100131988525, -1.263800024986267, -1.815500020980835, -1.9292000532150269, -2.373300075531006, -2.5899999141693115, -2.6814000606536865, -3.860599994659424, -3.0648000240325928, -3.014400005340576, -5.120800018310547, -3.7518999576568604, -5.026299953460693, -5.039299964904785, -4.968200206756592, -5.037300109863281], \"loglift\": [15.0, 14.0, 13.0, 12.0, 11.0, 10.0, 9.0, 8.0, 7.0, 6.0, 5.0, 4.0, 3.0, 2.0, 1.0, 0.7813, 0.7214, 0.6741, 0.5403, 0.3964, -0.6392, -0.9585, -1.0492, -1.2389, -1.5686, -1.6785, -1.6939, -1.7818, -1.8576, -1.9694, 1.0057, 0.9925, 0.9798, 0.7494, 0.703, -0.0385, -0.118, -0.5957, -0.7964, -1.3916, -1.53, -1.7712, -2.1135, -2.1914, -2.6208, 1.0695, 1.0434, 1.0316, 0.9798, 0.9353, -0.0526, -0.5402, -0.6736, -0.8388, -1.1319, -1.3563, -2.1907, -2.384, -2.4629, -2.6926]}, \"token.table\": {\"Topic\": [3, 1, 2, 1, 2, 1, 3, 2, 3, 1, 3, 1, 2, 3, 1, 2, 3, 1, 2, 3, 1, 2, 1, 2, 3, 1, 3, 1, 2, 1, 2, 3], \"Freq\": [0.8408559282073018, 0.12528751043183967, 0.8770125730228777, 0.09006037791383094, 0.9006037791383095, 0.07582368921802969, 0.9098842706163562, 0.7939908987069791, 0.7492256901335081, 0.14200440157485697, 0.8520264094491418, 0.20346651805717458, 0.6103995541715237, 0.20346651805717458, 0.7123500983232811, 0.12951819969514203, 0.12951819969514203, 0.7230872801734871, 0.08034303113038746, 0.16068606226077492, 0.690249074846061, 0.30677736659824933, 0.509454680765675, 0.20378187230627004, 0.30567280845940503, 0.12824597895801138, 0.8977218527060796, 0.10462876313335537, 0.9416588682001984, 0.5648594600867302, 0.3227768343352744, 0.0806942085838186], \"Term\": [\"balon\", \"dinero\", \"dinero\", \"fmi\", \"fmi\", \"futbol\", \"futbol\", \"ibex\", \"liga\", \"messi\", \"messi\", \"pib\", \"pib\", \"pib\", \"politica\", \"politica\", \"politica\", \"pp\", \"pp\", \"pp\", \"psoe\", \"psoe\", \"rajoy\", \"rajoy\", \"rajoy\", \"ronaldo\", \"ronaldo\", \"ue\", \"ue\", \"zapatero\", \"zapatero\", \"zapatero\"]}, \"R\": 15, \"lambda.step\": 0.01, \"plot.opts\": {\"xlab\": \"PC1\", \"ylab\": \"PC2\"}, \"topic.order\": [2, 3, 1]};\n",
       "\n",
       "function LDAvis_load_lib(url, callback){\n",
       "  var s = document.createElement('script');\n",
       "  s.src = url;\n",
       "  s.async = true;\n",
       "  s.onreadystatechange = s.onload = callback;\n",
       "  s.onerror = function(){console.warn(\"failed to load library \" + url);};\n",
       "  document.getElementsByTagName(\"head\")[0].appendChild(s);\n",
       "}\n",
       "\n",
       "if(typeof(LDAvis) !== \"undefined\"){\n",
       "   // already loaded: just create the visualization\n",
       "   !function(LDAvis){\n",
       "       new LDAvis(\"#\" + \"ldavis_el606012869364419281095630785\", ldavis_el606012869364419281095630785_data);\n",
       "   }(LDAvis);\n",
       "}else if(typeof define === \"function\" && define.amd){\n",
       "   // require.js is available: use it to load d3/LDAvis\n",
       "   require.config({paths: {d3: \"https://cdnjs.cloudflare.com/ajax/libs/d3/3.5.5/d3.min\"}});\n",
       "   require([\"d3\"], function(d3){\n",
       "      window.d3 = d3;\n",
       "      LDAvis_load_lib(\"https://cdn.rawgit.com/bmabey/pyLDAvis/files/ldavis.v1.0.0.js\", function(){\n",
       "        new LDAvis(\"#\" + \"ldavis_el606012869364419281095630785\", ldavis_el606012869364419281095630785_data);\n",
       "      });\n",
       "    });\n",
       "}else{\n",
       "    // require.js not available: dynamically load d3 & LDAvis\n",
       "    LDAvis_load_lib(\"https://cdnjs.cloudflare.com/ajax/libs/d3/3.5.5/d3.min.js\", function(){\n",
       "         LDAvis_load_lib(\"https://cdn.rawgit.com/bmabey/pyLDAvis/files/ldavis.v1.0.0.js\", function(){\n",
       "                 new LDAvis(\"#\" + \"ldavis_el606012869364419281095630785\", ldavis_el606012869364419281095630785_data);\n",
       "            })\n",
       "         });\n",
       "}\n",
       "</script>"
      ],
      "text/plain": [
       "<IPython.core.display.HTML object>"
      ]
     },
     "execution_count": 10,
     "metadata": {},
     "output_type": "execute_result"
    }
   ],
   "source": [
    "import pyLDAvis\n",
    "import pyLDAvis.gensim\n",
    "\n",
    "vis = pyLDAvis.gensim.prepare(lda_model, corpus, dictionary)\n",
    "pyLDAvis.display(vis)"
   ]
  }
 ],
 "metadata": {
  "kernelspec": {
   "display_name": "Python 3 (ipykernel)",
   "language": "python",
   "name": "python3"
  },
  "language_info": {
   "codemirror_mode": {
    "name": "ipython",
    "version": 3
   },
   "file_extension": ".py",
   "mimetype": "text/x-python",
   "name": "python",
   "nbconvert_exporter": "python",
   "pygments_lexer": "ipython3",
   "version": "3.7.11"
  }
 },
 "nbformat": 4,
 "nbformat_minor": 2
}
