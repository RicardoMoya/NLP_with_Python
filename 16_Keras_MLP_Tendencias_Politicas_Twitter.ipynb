{
 "cells": [
  {
   "cell_type": "markdown",
   "metadata": {},
   "source": [
    "# 16 - Keras: Clasificación de tendencias politicas en tweets (Perceptrón Multicapa)\n",
    "\n",
    "* En este notebook vamos a clasificar una serie de tweets etiquetados por un partido político (ciudadanos, podemos, pp, psoe) que corresponden a la tendencia politica de la cuenta que publicó ese tweet,\n",
    "\n",
    "\n",
    "* El ejercicio que vamos a realizar a continuación es muy similar al realizado en el notebook *13_PoC_Tendencias_Politicas_Twitter_Generacion_Exportacion_Modelos.ipynb* y se pueden comparar los resultados que vamos a obtener con la Red Neuronal respecto a los obtenidos con los modelos generados por los algoritmos de clasificación vistos.\n",
    "\n",
    "\n",
    "* Los pasos que vamos a dar son los siguientes:\n",
    "\n",
    "    1. Cargar los datos\n",
    "    2. Normalizar los tweets (igual que en el notebook *13_PoC_Tendencias_Politicas_Twitter_Generacion_Exportacion_Modelos.ipynb*)\n",
    "    3. Particionado de datos (Train y Test)\n",
    "    4. Bolsa de palabras y codificación del target\n",
    "    5. Definición de la Red Neuronal\n",
    "    6. Entrenamiento de la Red Neuronal\n",
    "    7. Evaluación del modelo"
   ]
  },
  {
   "cell_type": "markdown",
   "metadata": {},
   "source": [
    "<hr>\n",
    "\n",
    "\n",
    "## Carga de Datos\n",
    "\n",
    "\n",
    "* El fichero que contiene los tweets lo podemos leer como un '*csv*' con pandas pasandole como separador '***::::***'.\n",
    "\n",
    "\n",
    "* Este fichero esta estructurado de la siguiente manera\n",
    "    - **Cuenta**: Cuenta de twitter\n",
    "    - **Partido**: Partido político al que pertenece (ciudadanos, podemos, pp, psoe)\n",
    "    - **Timestamp**: Instante en el que se publicó el tweet\n",
    "    - **Tweet**: Tweet.\n",
    "    \n",
    "    \n",
    "* Leemos los datos y mostramos una muestra:"
   ]
  },
  {
   "cell_type": "code",
   "execution_count": 1,
   "metadata": {},
   "outputs": [
    {
     "name": "stdout",
     "output_type": "stream",
     "text": [
      "Número de Tweets Cargados: 3843\n"
     ]
    },
    {
     "data": {
      "text/html": [
       "<div>\n",
       "<style scoped>\n",
       "    .dataframe tbody tr th:only-of-type {\n",
       "        vertical-align: middle;\n",
       "    }\n",
       "\n",
       "    .dataframe tbody tr th {\n",
       "        vertical-align: top;\n",
       "    }\n",
       "\n",
       "    .dataframe thead th {\n",
       "        text-align: right;\n",
       "    }\n",
       "</style>\n",
       "<table border=\"1\" class=\"dataframe\">\n",
       "  <thead>\n",
       "    <tr style=\"text-align: right;\">\n",
       "      <th></th>\n",
       "      <th>cuenta</th>\n",
       "      <th>partido</th>\n",
       "      <th>timestamp</th>\n",
       "      <th>tweet</th>\n",
       "    </tr>\n",
       "  </thead>\n",
       "  <tbody>\n",
       "    <tr>\n",
       "      <th>614</th>\n",
       "      <td>sanchezcastejon</td>\n",
       "      <td>psoe</td>\n",
       "      <td>1555522225</td>\n",
       "      <td>El #28A la frontera entre que España avance o ...</td>\n",
       "    </tr>\n",
       "    <tr>\n",
       "      <th>1657</th>\n",
       "      <td>pablocasado_</td>\n",
       "      <td>pp</td>\n",
       "      <td>1557163033</td>\n",
       "      <td>Hoy hace años ETA asesinó al presidente del PP...</td>\n",
       "    </tr>\n",
       "    <tr>\n",
       "      <th>589</th>\n",
       "      <td>sanchezcastejon</td>\n",
       "      <td>psoe</td>\n",
       "      <td>1555821160</td>\n",
       "      <td>Mi más enérgica condena a los terribles atenta...</td>\n",
       "    </tr>\n",
       "    <tr>\n",
       "      <th>2063</th>\n",
       "      <td>sanchezcastejon</td>\n",
       "      <td>psoe</td>\n",
       "      <td>1558002141</td>\n",
       "      <td>La democracia derrotó a ETA gracias a la unión...</td>\n",
       "    </tr>\n",
       "    <tr>\n",
       "      <th>1247</th>\n",
       "      <td>Irene_Montero_</td>\n",
       "      <td>podemos</td>\n",
       "      <td>1556116283</td>\n",
       "      <td>Nuestro objetivo es gobernar, que haya un gobi...</td>\n",
       "    </tr>\n",
       "  </tbody>\n",
       "</table>\n",
       "</div>"
      ],
      "text/plain": [
       "               cuenta  partido   timestamp  \\\n",
       "614   sanchezcastejon     psoe  1555522225   \n",
       "1657     pablocasado_       pp  1557163033   \n",
       "589   sanchezcastejon     psoe  1555821160   \n",
       "2063  sanchezcastejon     psoe  1558002141   \n",
       "1247   Irene_Montero_  podemos  1556116283   \n",
       "\n",
       "                                                  tweet  \n",
       "614   El #28A la frontera entre que España avance o ...  \n",
       "1657  Hoy hace años ETA asesinó al presidente del PP...  \n",
       "589   Mi más enérgica condena a los terribles atenta...  \n",
       "2063  La democracia derrotó a ETA gracias a la unión...  \n",
       "1247  Nuestro objetivo es gobernar, que haya un gobi...  "
      ]
     },
     "execution_count": 1,
     "metadata": {},
     "output_type": "execute_result"
    }
   ],
   "source": [
    "import pandas as pd\n",
    "\n",
    "tweets_file = './data/tweets_politica.csv'\n",
    "df = pd.read_csv(tweets_file, sep='::::', engine='python')\n",
    "tweets = [tuple(x) for x in df[['tweet', 'partido']].values]\n",
    "print('Número de Tweets Cargados: {num}'.format(num=len(tweets)))\n",
    "df.sample(5)"
   ]
  },
  {
   "cell_type": "markdown",
   "metadata": {},
   "source": [
    "<hr>\n",
    "\n",
    "\n",
    "## Normalización\n",
    "\n",
    "* Utilizamos ***spaCy*** para la tokenización y normalización.\n",
    "\n",
    "\n",
    "* Tras realizar un análisis del contenido de los tweets pasamos a realizar las siguientes acciones para ***normalizar*** los tweets:\n",
    "    1. Pasamos las frases a minúsculas.\n",
    "    2. Sustituimos los puntos por espacios ya que hay muchas palabras unidas por un punto\n",
    "    3. Quitamos la almuhadilla de los hashtags para considerarlos como palabras.\n",
    "    4. Eliminamos los signos de puntuación.\n",
    "    5. Eliminamos las palabras con menos de 3 caracteres.\n",
    "    6. Eliminamos las Stop-Words.\n",
    "    7. Eliminamos los enlaces(http) y las menciones (@)\n",
    "    8. Pasamos la palabra a su lema\n",
    "\n",
    "\n",
    "* Todos estos pasos los vamos a realizar en una misma función.\n",
    "\n",
    "\n",
    "* ***NOTA***: Se pueden realizar más acciones de normalización que las realizadas, como tratamiento de emoticonos, tratamiento especial de referencia a cuentas, hashtags, etc. Al tratarse de un ejemplo didáctica se ha realizado una normalización '*sencilla*'."
   ]
  },
  {
   "cell_type": "code",
   "execution_count": 2,
   "metadata": {},
   "outputs": [],
   "source": [
    "import numpy as np\n",
    "import spacy\n",
    "nlp = spacy.load('es_core_news_sm')\n",
    "\n",
    "# Divido los datos en dos listas \n",
    "#     X: los tweets\n",
    "#     y: target (polaridad)\n",
    "\n",
    "X = [doc[0] for doc in tweets]\n",
    "y = np.array([doc[1] for doc in tweets])\n",
    "\n",
    "def normalize(sentenses):\n",
    "    \"\"\"normalizamos la lista de frases y devolvemos la misma lista de frases normalizada\"\"\"\n",
    "    for index, sentense in enumerate(sentenses):\n",
    "        # Tokenizamos el tweets realizando los puntos 1,2 y 3.\n",
    "        sentense = nlp(sentense.lower().replace('.', ' ').replace('#', ' '))\n",
    "        # Puntos 4,5,6,7 y 8\n",
    "        sentenses[index] = ([word.lemma_ for word in sentense if (not word.is_punct)\n",
    "                             and (len(word.text) > 2) and (not word.is_stop)\n",
    "                             and (not word.text.startswith('@'))\n",
    "                             and (not word.text.startswith('http'))\n",
    "                             and (not ':' in word.text)])\n",
    "    return sentenses\n",
    "\n",
    "# Normalizamos las frases\n",
    "X_norm = normalize(X)"
   ]
  },
  {
   "cell_type": "markdown",
   "metadata": {},
   "source": [
    "<hr>\n",
    "\n",
    "\n",
    "## Particionado de Datos (Train y Test)\n",
    "\n",
    "* Vamos a particionar los datos en conjunto de Train y Test.\n",
    "\n",
    "\n",
    "* Para este ejemplo nos vamos a quedar con:\n",
    "    - 80% de datos de entrenamiento\n",
    "    - 20% de datos de test"
   ]
  },
  {
   "cell_type": "code",
   "execution_count": 3,
   "metadata": {},
   "outputs": [
    {
     "name": "stdout",
     "output_type": "stream",
     "text": [
      "Número de Tweets para el entrenamiento: 3074\n",
      "Número de Tweets para el test: 769\n"
     ]
    }
   ],
   "source": [
    "from sklearn.model_selection import train_test_split  \n",
    "\n",
    "X_train, X_test, y_train, y_test = train_test_split(X_norm, y, test_size=0.2, random_state=0)\n",
    "\n",
    "print('Número de Tweets para el entrenamiento: {num}'.format(num=len(X_train)))\n",
    "print('Número de Tweets para el test: {num}'.format(num=len(X_test)))"
   ]
  },
  {
   "cell_type": "markdown",
   "metadata": {},
   "source": [
    "<hr>\n",
    "\n",
    "\n",
    "# Bolsa de palabras y codificación del target\n",
    "\n",
    "\n",
    "* Al igual que en el notebook *13_PoC_Tendencias_Politicas_Twitter_Generacion_Exportacion_Modelos.ipynb* vamos a trabajar con las 1000 palabras de mayor frecuencia del corpus."
   ]
  },
  {
   "cell_type": "code",
   "execution_count": 4,
   "metadata": {
    "scrolled": true
   },
   "outputs": [
    {
     "name": "stderr",
     "output_type": "stream",
     "text": [
      "Using TensorFlow backend.\n"
     ]
    }
   ],
   "source": [
    "from sklearn.preprocessing import LabelEncoder\n",
    "from keras.preprocessing.text import Tokenizer\n",
    "from keras.utils import np_utils\n",
    "\n",
    "\n",
    "# Bolsa de Palabras\n",
    "max_words = 1000\n",
    "tokenizer = Tokenizer(num_words=max_words)\n",
    "tokenizer.fit_on_texts(X_train)\n",
    "X_matrix = tokenizer.texts_to_matrix(X_train, mode='count')\n",
    "X_matrix_test = tokenizer.texts_to_matrix(X_test, mode='count')\n",
    "\n",
    "# Codificación del Target\n",
    "encoder = LabelEncoder()\n",
    "encoder.fit(y_train)\n",
    "y_train = encoder.transform(y_train)\n",
    "y_test = encoder.transform(y_test)"
   ]
  },
  {
   "cell_type": "markdown",
   "metadata": {},
   "source": [
    "<hr>\n",
    "\n",
    "\n",
    "# Definición de la Red Neuronal\n",
    "\n",
    "\n",
    "\n",
    "* Para clasificar los tweets en alguna de las 4 tendencias políticas definidas, vamos a crear una red con la siguiente arquitectura:\n",
    "\n",
    "    - ***Capa 1***: Capa de entrada con 1000 Neuronas (una por palabra del corpus)\n",
    "    - ***Capa 2***: 20 Neuronas con una función de activación 'relu'\n",
    "    - ***Capa 3***: 10 Neuronas con una función de activación 'relu'\n",
    "    - ***Capa 4***: Capa de salida con 4 neurona (una por tendencia política) y una función de activación 'softmax' para que nos \"normalice la salida\"\n",
    "    \n",
    "    \n",
    "* Para las capas 2 y 3 vamos a poner un dropout del 20% para que nuestra red no se sobreajuste y generalize mejor.\n",
    "    \n",
    "    \n",
    "* Por último utilizaremos:\n",
    "    - Función de perdida: 'sparse_categorical_crossentropy' (Funciones de Perdida: https://keras.io/losses/)\n",
    "    - Optimizador: 'adam' (Optimizadores: https://keras.io/optimizers/)\n",
    "    - Metricas: en cada epoch pediremos que nos muestre el accuracy (Métricas: https://keras.io/metrics/)\n",
    "    "
   ]
  },
  {
   "cell_type": "code",
   "execution_count": 5,
   "metadata": {},
   "outputs": [],
   "source": [
    "import numpy as np\n",
    "from keras.models import Sequential\n",
    "from keras.layers import Dense, Dropout\n",
    "from keras import metrics\n",
    "\n",
    "np.random.seed(9)\n",
    "model = Sequential()\n",
    "model.add(Dense(20, activation='relu', input_dim=max_words))\n",
    "model.add(Dropout(0.2))\n",
    "model.add(Dense(10, activation='relu'))\n",
    "model.add(Dropout(0.2))\n",
    "model.add(Dense(4, activation='softmax'))\n",
    "model.compile(loss='sparse_categorical_crossentropy',\n",
    "              optimizer='adam',\n",
    "              metrics=['accuracy'])"
   ]
  },
  {
   "cell_type": "markdown",
   "metadata": {},
   "source": [
    "* Una vez creada la red mostramos su arquitectura:\n",
    "    - 1000 Neuronas de entrada\n",
    "    - Capa 2: 20 Neuronas\n",
    "    - Conexiones \"capa de entrada -> Capa 2\" = (1000*20) + 20 = 20020 Conexiones\n",
    "    - Capa 3: 10 Neuronas\n",
    "    - Conexiones \"Capa 2 -> Capa 3\" = (20*10) + 10 = 210 Conexiones\n",
    "    - Capa de salida: 4 Neuronas\n",
    "    - Conexiones \"Capa 3 -> Capa de salida\" = (10*4) + 4 = 44 Conexiones"
   ]
  },
  {
   "cell_type": "code",
   "execution_count": 6,
   "metadata": {},
   "outputs": [
    {
     "name": "stdout",
     "output_type": "stream",
     "text": [
      "_________________________________________________________________\n",
      "Layer (type)                 Output Shape              Param #   \n",
      "=================================================================\n",
      "dense_1 (Dense)              (None, 20)                20020     \n",
      "_________________________________________________________________\n",
      "dropout_1 (Dropout)          (None, 20)                0         \n",
      "_________________________________________________________________\n",
      "dense_2 (Dense)              (None, 10)                210       \n",
      "_________________________________________________________________\n",
      "dropout_2 (Dropout)          (None, 10)                0         \n",
      "_________________________________________________________________\n",
      "dense_3 (Dense)              (None, 4)                 44        \n",
      "=================================================================\n",
      "Total params: 20,274\n",
      "Trainable params: 20,274\n",
      "Non-trainable params: 0\n",
      "_________________________________________________________________\n"
     ]
    }
   ],
   "source": [
    "model.summary()"
   ]
  },
  {
   "cell_type": "markdown",
   "metadata": {},
   "source": [
    "<hr>\n",
    "\n",
    "\n",
    "# Entrenamiento de la Red Neuronal\n",
    "\n",
    "\n",
    "* Como lo que estamos haciendo es un ejemplo didáctico vamos a poner los siguientes valores:\n",
    "    - *batch_size = 64* : Cada 64 tweets se calculan los nuevos pesos de la red\n",
    "    - *epochs = 20* : Al ser un dataset relativamente pequeño no es necesario entrenar la red muchas veces, aunque el número de epochs que se debe de poner tienen que depender de como vaya evolucionando (decreciendo) el valor devuelto por la función de perdida.\n",
    "    - *validation_split = 0.2* \n"
   ]
  },
  {
   "cell_type": "code",
   "execution_count": 7,
   "metadata": {},
   "outputs": [
    {
     "name": "stdout",
     "output_type": "stream",
     "text": [
      "Train on 2459 samples, validate on 615 samples\n",
      "Epoch 1/20\n",
      " - 1s - loss: 1.3759 - acc: 0.2997 - val_loss: 1.3454 - val_acc: 0.4033\n",
      "Epoch 2/20\n",
      " - 0s - loss: 1.3020 - acc: 0.4368 - val_loss: 1.2593 - val_acc: 0.5480\n",
      "Epoch 3/20\n",
      " - 0s - loss: 1.1830 - acc: 0.5401 - val_loss: 1.1073 - val_acc: 0.6715\n",
      "Epoch 4/20\n",
      " - 0s - loss: 1.0138 - acc: 0.6234 - val_loss: 0.9346 - val_acc: 0.7431\n",
      "Epoch 5/20\n",
      " - 0s - loss: 0.8513 - acc: 0.7125 - val_loss: 0.7772 - val_acc: 0.7756\n",
      "Epoch 6/20\n",
      " - 0s - loss: 0.7281 - acc: 0.7527 - val_loss: 0.6708 - val_acc: 0.7951\n",
      "Epoch 7/20\n",
      " - 0s - loss: 0.6249 - acc: 0.7881 - val_loss: 0.5977 - val_acc: 0.8033\n",
      "Epoch 8/20\n",
      " - 0s - loss: 0.5588 - acc: 0.8048 - val_loss: 0.5446 - val_acc: 0.8081\n",
      "Epoch 9/20\n",
      " - 0s - loss: 0.4885 - acc: 0.8312 - val_loss: 0.5154 - val_acc: 0.8130\n",
      "Epoch 10/20\n",
      " - 0s - loss: 0.4469 - acc: 0.8508 - val_loss: 0.4973 - val_acc: 0.8146\n",
      "Epoch 11/20\n",
      " - 0s - loss: 0.3838 - acc: 0.8780 - val_loss: 0.4888 - val_acc: 0.8146\n",
      "Epoch 12/20\n",
      " - 0s - loss: 0.3634 - acc: 0.8861 - val_loss: 0.4852 - val_acc: 0.8081\n",
      "Epoch 13/20\n",
      " - 0s - loss: 0.3220 - acc: 0.9016 - val_loss: 0.4863 - val_acc: 0.8098\n",
      "Epoch 14/20\n",
      " - 0s - loss: 0.3083 - acc: 0.8991 - val_loss: 0.4918 - val_acc: 0.8065\n",
      "Epoch 15/20\n",
      " - 0s - loss: 0.2885 - acc: 0.9089 - val_loss: 0.4962 - val_acc: 0.8065\n",
      "Epoch 16/20\n",
      " - 0s - loss: 0.2548 - acc: 0.9199 - val_loss: 0.5092 - val_acc: 0.8130\n",
      "Epoch 17/20\n",
      " - 0s - loss: 0.2462 - acc: 0.9305 - val_loss: 0.5163 - val_acc: 0.8049\n",
      "Epoch 18/20\n",
      " - 0s - loss: 0.2252 - acc: 0.9341 - val_loss: 0.5351 - val_acc: 0.8033\n",
      "Epoch 19/20\n",
      " - 0s - loss: 0.2107 - acc: 0.9349 - val_loss: 0.5406 - val_acc: 0.8000\n",
      "Epoch 20/20\n",
      " - 0s - loss: 0.1947 - acc: 0.9402 - val_loss: 0.5500 - val_acc: 0.8049\n"
     ]
    },
    {
     "data": {
      "text/plain": [
       "<keras.callbacks.History at 0x11728fa58>"
      ]
     },
     "execution_count": 7,
     "metadata": {},
     "output_type": "execute_result"
    }
   ],
   "source": [
    "model.fit(X_matrix, y_train, batch_size=64, epochs=20, verbose=2, validation_split=0.2)"
   ]
  },
  {
   "cell_type": "markdown",
   "metadata": {},
   "source": [
    "<hr>\n",
    "\n",
    "\n",
    "# Evaluamos el modelo\n",
    "\n",
    "* Pasamos a evaluar el modelo, calculando las siguientes métricas de evaluación:\n",
    "\n",
    "    1. **Accuracy**\n",
    "    2. **F1**\n",
    "    3. **Precision**\n",
    "    4. **Recall**"
   ]
  },
  {
   "cell_type": "code",
   "execution_count": 8,
   "metadata": {},
   "outputs": [
    {
     "name": "stdout",
     "output_type": "stream",
     "text": [
      "Accuracy: 0.8010\n",
      "F1: 0.8014\n",
      "Precision: 0.8043\n",
      "Recall: 0.8010\n",
      "              precision    recall  f1-score   support\n",
      "\n",
      "  ciudadanos       0.78      0.80      0.79       206\n",
      "     podemos       0.75      0.86      0.80       153\n",
      "          pp       0.78      0.74      0.76       187\n",
      "        psoe       0.89      0.82      0.85       223\n",
      "\n",
      "   micro avg       0.80      0.80      0.80       769\n",
      "   macro avg       0.80      0.80      0.80       769\n",
      "weighted avg       0.80      0.80      0.80       769\n",
      "\n"
     ]
    }
   ],
   "source": [
    "from sklearn.metrics import accuracy_score, f1_score, precision_score, recall_score, confusion_matrix, classification_report\n",
    "\n",
    "y_true = encoder.inverse_transform(y_test.reshape(-1))\n",
    "y_pred = model.predict_classes(X_matrix_test)\n",
    "y_pred = encoder.inverse_transform(y_pred.reshape(-1))\n",
    "\n",
    "print('Accuracy: {acc:0.4f}'.format(acc=accuracy_score(y_true=y_true, y_pred=y_pred)))\n",
    "print('F1: {f1:0.4f}'.format(f1=f1_score(y_true=y_true, y_pred=y_pred, average='weighted')))\n",
    "print('Precision: {pre:0.4f}'.format(pre=precision_score(y_true=y_true, y_pred=y_pred, average='weighted')))\n",
    "print('Recall: {rec:0.4f}'.format(rec=recall_score(y_true=y_true, y_pred=y_pred, average='weighted')))\n",
    "print(classification_report(y_true=y_true, y_pred=y_pred))\n",
    "confusion_matrix = confusion_matrix(y_true=y_true, y_pred=y_pred, labels=['ciudadanos', 'podemos', 'pp', 'psoe'])"
   ]
  },
  {
   "cell_type": "code",
   "execution_count": 9,
   "metadata": {},
   "outputs": [
    {
     "data": {
      "image/png": "[encoded data removed]",
      "text/plain": [
       "<Figure size 432x288 with 2 Axes>"
      ]
     },
     "metadata": {
      "needs_background": "light"
     },
     "output_type": "display_data"
    }
   ],
   "source": [
    "import numpy as np\n",
    "import matplotlib.pyplot as plt\n",
    "import itertools\n",
    "%matplotlib inline\n",
    "\n",
    "def plot_confusion_matrix(cm, classes, title, cmap=plt.cm.Blues):\n",
    "    \"\"\"\n",
    "    This function prints and plots the confusion matrix.\n",
    "    \"\"\"\n",
    "    plt.imshow(cm, interpolation='nearest', cmap=cmap)\n",
    "    plt.title(title)\n",
    "    plt.colorbar()\n",
    "    tick_marks = np.arange(len(classes))\n",
    "    plt.xticks(tick_marks, classes, rotation=45)\n",
    "    plt.yticks(tick_marks, classes)\n",
    "\n",
    "    thresh = cm.max() / 2.\n",
    "    for i, j in itertools.product(range(cm.shape[0]), range(cm.shape[1])):\n",
    "        plt.text(j, i, format(cm[i, j], 'd'), horizontalalignment=\"center\",\n",
    "                 color=\"white\" if cm[i, j] > thresh else \"black\")\n",
    "\n",
    "    plt.tight_layout()\n",
    "    plt.ylabel('True label')\n",
    "    plt.xlabel('Predicted label')\n",
    "\n",
    "plt.figure()\n",
    "plot_confusion_matrix(confusion_matrix, classes=['ciudadanos', 'podemos', 'pp', 'psoe'], \n",
    "                      title='Matriz de Confusión')\n",
    "plt.show()"
   ]
  }
 ],
 "metadata": {
  "kernelspec": {
   "display_name": "Python 3",
   "language": "python",
   "name": "python3"
  },
  "language_info": {
   "codemirror_mode": {
    "name": "ipython",
    "version": 3
   },
   "file_extension": ".py",
   "mimetype": "text/x-python",
   "name": "python",
   "nbconvert_exporter": "python",
   "pygments_lexer": "ipython3",
   "version": "3.6.8"
  }
 },
 "nbformat": 4,
 "nbformat_minor": 2
}
