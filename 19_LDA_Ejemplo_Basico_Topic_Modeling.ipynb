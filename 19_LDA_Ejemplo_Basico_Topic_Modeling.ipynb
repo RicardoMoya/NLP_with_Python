{
 "cells": [
  {
   "cell_type": "markdown",
   "metadata": {},
   "source": [
    "# 19 - Latent Dirichlet Allocation\n",
    "\n",
    "\n",
    "* El LDA, es un ***modelo probabilístico*** que se enmarca dentro de los ***modelos generativos*** ya que trata de describir como se crea un documento. (http://www.jmlr.org/papers/volume3/blei03a/blei03a.pdf)\n",
    "\n",
    "\n",
    "* El LDA propone que ***un documento se crea mediante la selección de los temas y las palabras de acuerdo a las representaciones probabilísticas del texto natural del documento***.\n",
    "\n",
    "\n",
    "* El LDA calcula **dos matrices de probabilidad P(w|z) y P(z|θ)**, donde:\n",
    "\n",
    "    - **P(w|z)**: es la probabilidad de que dado un tema salga una palabra\n",
    "    - **P(z|θ)**: es la probabilidad de que un documento pertenezca a un tema.\n",
    "    \n",
    "    \n",
    "$$ P(w|\\theta) = \\sum_{z \\in  Z} P(w | z) \\cdot P(z|\\theta) $$\n",
    "\n",
    "\n",
    "* ***NOTA***: *existe otro modelo llamado PLSI (Probabilistic Latent Semantic Index) que se enmarca dentro de los modelos probabilísticos (al igual que el LDA) y es el enfoque probabilístico del LSI (siguiendo una distribución uniforme).*\n",
    "\n",
    "\n",
    "* La representación en \"*Plate Notaticon*\" del LDA es la siguiente:\n",
    "\n",
    "\n",
    "<img src=\"./imgs/018_LDA_Plate_Notation.png\" style=\"width: 400px;\"/>\n",
    "\n",
    "\n",
    "* Siendo\n",
    "\n",
    "    + ***K***: Número de temas. \n",
    "    + ***N***: Número de palabras\n",
    "    + ***M***: Número de documentos: \n",
    "    + ***α***: Parámetro de Dirichlet. Este parámetro es un vector de K componentes que describe el conocimiento a priori que se tiene sobre como los temas se distribuyen en los documentos. \n",
    "        * Pocos temas -> Valor de α pequeño\n",
    "        * Muchos temas  -> Valor de α grande\n",
    "    + ***Β***: Parámetro de Dirichlet. Este parámetro es un vector de N componentes que describe el conocimiento a priori que se tiene sobre como las palabras se distribuyen en cada tema. \n",
    "        * Tema con pocas palabras -> Valor de Β cercano a cero\n",
    "        * Tema con muchas palabras -> Valor de Β cercano a uno\n",
    "    + ***θ***: Distribución de probabilidad de que un documento pertenezca a un tema. \n",
    "    + ***Z***: Distribución de probabilidad de que una palabra pertenezca a un tema. \n",
    "    + ***W***: Identifica todas las palabras en todos los documentos.\n",
    "    + ***φ***: Distribución de probabilidad de que dado un tema salga una palabra.\n",
    "    \n",
    "\n",
    "* ***NOTA***: Si los parámetros ***α y Β*** de la distribución de dirichlet son ***igual a '1'***, el ***LDA se comportaría de la misma manera que el PLSI ya que la distribución de Dirichlet con esos parámetros se comportaría como una distribución uniforme***.\n",
    "\n",
    "\n",
    "* Haciendo una analogía con el LSI, el ***LDA nos tienen que proporcionar***:\n",
    "    - Matriz de probabilidades \"***Temas-Palabras***\": Nos indica la probabilidad de que dado un tema, salga una palabra. \n",
    "    - Matriz de probabilidades \"***Documentos-Temas***\": Nos indica la probabilidad de que un documento pertenezca a un tema.\n",
    "    \n",
    "    \n",
    "* De esta manera podemos ver las relaciones entre palabras y entre documentos.\n",
    "\n",
    "\n",
    "* ***CUIDADO***: *El LDA trabaja con distribuciones de probabilidad que representan la probabilidad de pertenencia de cada palabra o documento a cada tema. Estas distribuciones de probabilidad no tienen que ser tratadas como vectores de factores latentes (como en el LSI) para calcular similaridades entre documentos, ya que al tratarse de distribuciones de probabilidad no hay que aplicar medidas de distancias para calcular similaridades; si no la ***Divergencia de Kullback-Liebler (KL)*** para estudiar las similaridades entre distribuciones de probabilidad.*\n",
    "\n",
    "\n",
    "$$ KL(p ||q) = \\sum_{i}p(i)ln \\frac{p(i)}{q(i)} $$\n",
    "\n",
    "\n",
    "<hr>\n",
    "\n",
    "\n",
    "# Ejemplo de LDA con Gensim\n",
    "\n",
    "\n",
    "* Veamos a continuación un ejemplo sencillo sobre el siguiente Corpus del cual podemos ver que habla de 3 temas:\n",
    "    - Fútbol\n",
    "    - Política\n",
    "    - Economía"
   ]
  },
  {
   "cell_type": "code",
   "execution_count": 1,
   "metadata": {},
   "outputs": [],
   "source": [
    "import warnings\n",
    "warnings.filterwarnings('ignore')\n",
    "\n",
    "corpus = [\"balon balon balon futbol futbol liga liga liga ronaldo ronaldo ronaldo ronaldo ronaldo messi\",\n",
    "          \"futbol futbol futbol futbol futbol ronaldo ronaldo ronaldo ronaldo messi messi\",\n",
    "          \"balon balon futbol futbol futbol futbol futbol futbol futbol messi messi messi messi messi\",\n",
    "          \"politica politica politica politica pp pp pp pp pp pp rajoy rajoy rajoy rajoy rajoy\",\n",
    "          \"politica politica politica politica pp pp pp psoe psoe psoe psoe zapatero zapatero zapatero rajoy\",\n",
    "          \"politica politica politica politica psoe psoe psoe psoe psoe psoe zapatero zapatero zapatero zapatero zapatero \",\n",
    "          \"dinero fmi fmi fmi fmi fmi ue ue ue ue pib pib pib ibex ibex\",\n",
    "          \"zapatero rajoy dinero dinero dinero dinero fmi fmi fmi fmi ue ue ue ue pib\",\n",
    "          \"pp psoe zapatero rajoy dinero dinero dinero dinero fmi fmi fmi fmi ue ue ue \",\n",
    "          \"futbol politica pib\",\n",
    "          \"futbol zapatero liga rajoy\"]\n"
   ]
  },
  {
   "cell_type": "markdown",
   "metadata": {},
   "source": [
    "## Creamos el Diccionario y la Matriz (Bolsa de Palabras)"
   ]
  },
  {
   "cell_type": "code",
   "execution_count": 2,
   "metadata": {},
   "outputs": [
    {
     "name": "stdout",
     "output_type": "stream",
     "text": [
      "Diccionario:\n",
      "{'balon': 0,\n",
      " 'dinero': 10,\n",
      " 'fmi': 11,\n",
      " 'futbol': 1,\n",
      " 'ibex': 12,\n",
      " 'liga': 2,\n",
      " 'messi': 3,\n",
      " 'pib': 13,\n",
      " 'politica': 5,\n",
      " 'pp': 6,\n",
      " 'psoe': 8,\n",
      " 'rajoy': 7,\n",
      " 'ronaldo': 4,\n",
      " 'ue': 14,\n",
      " 'zapatero': 9}\n",
      "\n",
      "Bolsa de Palabras:\n",
      "[[(0, 3), (1, 2), (2, 3), (3, 1), (4, 5)],\n",
      " [(1, 5), (3, 2), (4, 4)],\n",
      " [(0, 2), (1, 7), (3, 5)],\n",
      " [(5, 4), (6, 6), (7, 5)],\n",
      " [(5, 4), (6, 3), (7, 1), (8, 4), (9, 3)],\n",
      " [(5, 4), (8, 6), (9, 5)],\n",
      " [(10, 1), (11, 5), (12, 2), (13, 3), (14, 4)],\n",
      " [(7, 1), (9, 1), (10, 4), (11, 4), (13, 1), (14, 4)],\n",
      " [(6, 1), (7, 1), (8, 1), (9, 1), (10, 4), (11, 4), (14, 3)],\n",
      " [(1, 1), (5, 1), (13, 1)],\n",
      " [(1, 1), (2, 1), (7, 1), (9, 1)]]\n"
     ]
    }
   ],
   "source": [
    "from pprint import pprint\n",
    "from gensim import corpora\n",
    "from collections import defaultdict\n",
    "\n",
    "# Tokenizamos\n",
    "documents = [word.split() for word in corpus]\n",
    "\n",
    "# Creamos el diccionario (vocabulario)\n",
    "frequency = defaultdict(int)\n",
    "for doc in documents:\n",
    "    for token in doc:\n",
    "        frequency[token] += 1\n",
    "        \n",
    "documents = [[token for token in doc] for doc in documents]\n",
    "dictionary = corpora.Dictionary(documents)\n",
    "print('Diccionario:')\n",
    "pprint(dictionary.token2id)\n",
    "\n",
    "\n",
    "# Creamos la Bolsa de Palabras\n",
    "corpus = [dictionary.doc2bow(doc) for doc in documents]\n",
    "print('\\nBolsa de Palabras:')\n",
    "pprint(corpus)"
   ]
  },
  {
   "cell_type": "markdown",
   "metadata": {},
   "source": [
    "## Creamos el Modelo:\n",
    "\n",
    "* Gensim tiene implementado el LDA en la clase ***LdaModel***: https://radimrehurek.com/gensim/models/ldamodel.html\n",
    "\n",
    "\n",
    "* Como parámetros relevantes necesita:\n",
    "    1. Corpus\n",
    "    2. Número de Topics\n",
    "    3. Diccionario o Vocabulario del Corpus"
   ]
  },
  {
   "cell_type": "code",
   "execution_count": 3,
   "metadata": {},
   "outputs": [],
   "source": [
    "from gensim.models import LdaModel\n",
    "\n",
    "lda_model = LdaModel(corpus=corpus, num_topics=3, id2word=dictionary, random_state=168)"
   ]
  },
  {
   "cell_type": "markdown",
   "metadata": {},
   "source": [
    "## Matriz de probabilidades \"***Documentos-Temas***\"\n",
    "\n",
    "\n",
    "* Obtenemos la probabilidad de que cada documento pertenezca a uno de los 3 temas de la siguiente manera:"
   ]
  },
  {
   "cell_type": "code",
   "execution_count": 4,
   "metadata": {},
   "outputs": [
    {
     "data": {
      "text/plain": [
       "array([[0.9554772 , 0.022272  , 0.02225077],\n",
       "       [0.944366  , 0.02783236, 0.02780169],\n",
       "       [0.9554879 , 0.02226957, 0.02224254],\n",
       "       [0.0219667 , 0.95660496, 0.02142834],\n",
       "       [0.02129495, 0.9568262 , 0.02187884],\n",
       "       [0.02108418, 0.95666164, 0.02225416],\n",
       "       [0.02096967, 0.02090394, 0.9581264 ],\n",
       "       [0.02129549, 0.02190296, 0.9568016 ],\n",
       "       [0.02175927, 0.03364873, 0.944592  ],\n",
       "       [0.4718764 , 0.22474   , 0.30338356],\n",
       "       [0.6306041 , 0.296256  , 0.07313991]], dtype=float32)"
      ]
     },
     "execution_count": 4,
     "metadata": {},
     "output_type": "execute_result"
    }
   ],
   "source": [
    "import numpy as np\n",
    "\n",
    "docs_topics = np.array([[tup[1] for tup in lst] for lst in lda_model[corpus]])\n",
    "docs_topics"
   ]
  },
  {
   "cell_type": "markdown",
   "metadata": {},
   "source": [
    "* Se puede observar que nos devuelve para cada documento la probabilidad de que el documento pertenezca a cada tema y que es un vector de probabilidades ya que la suma de las probabilidades es igual a '1'.\n",
    "\n",
    "\n",
    "* Para ver los factores de cada una de las palabras lo vamos a mostrar de la siguiente manera:"
   ]
  },
  {
   "cell_type": "code",
   "execution_count": 5,
   "metadata": {},
   "outputs": [
    {
     "data": {
      "text/html": [
       "<div>\n",
       "<style scoped>\n",
       "    .dataframe tbody tr th:only-of-type {\n",
       "        vertical-align: middle;\n",
       "    }\n",
       "\n",
       "    .dataframe tbody tr th {\n",
       "        vertical-align: top;\n",
       "    }\n",
       "\n",
       "    .dataframe thead th {\n",
       "        text-align: right;\n",
       "    }\n",
       "</style>\n",
       "<table border=\"1\" class=\"dataframe\">\n",
       "  <thead>\n",
       "    <tr style=\"text-align: right;\">\n",
       "      <th></th>\n",
       "      <th>Topic 1</th>\n",
       "      <th>Topic 2</th>\n",
       "      <th>Topic 3</th>\n",
       "    </tr>\n",
       "  </thead>\n",
       "  <tbody>\n",
       "    <tr>\n",
       "      <th>Doc 1</th>\n",
       "      <td>0.96</td>\n",
       "      <td>0.02</td>\n",
       "      <td>0.02</td>\n",
       "    </tr>\n",
       "    <tr>\n",
       "      <th>Doc 2</th>\n",
       "      <td>0.94</td>\n",
       "      <td>0.03</td>\n",
       "      <td>0.03</td>\n",
       "    </tr>\n",
       "    <tr>\n",
       "      <th>Doc 3</th>\n",
       "      <td>0.96</td>\n",
       "      <td>0.02</td>\n",
       "      <td>0.02</td>\n",
       "    </tr>\n",
       "    <tr>\n",
       "      <th>Doc 4</th>\n",
       "      <td>0.02</td>\n",
       "      <td>0.96</td>\n",
       "      <td>0.02</td>\n",
       "    </tr>\n",
       "    <tr>\n",
       "      <th>Doc 5</th>\n",
       "      <td>0.02</td>\n",
       "      <td>0.96</td>\n",
       "      <td>0.02</td>\n",
       "    </tr>\n",
       "    <tr>\n",
       "      <th>Doc 6</th>\n",
       "      <td>0.02</td>\n",
       "      <td>0.96</td>\n",
       "      <td>0.02</td>\n",
       "    </tr>\n",
       "    <tr>\n",
       "      <th>Doc 7</th>\n",
       "      <td>0.02</td>\n",
       "      <td>0.02</td>\n",
       "      <td>0.96</td>\n",
       "    </tr>\n",
       "    <tr>\n",
       "      <th>Doc 8</th>\n",
       "      <td>0.02</td>\n",
       "      <td>0.02</td>\n",
       "      <td>0.96</td>\n",
       "    </tr>\n",
       "    <tr>\n",
       "      <th>Doc 9</th>\n",
       "      <td>0.02</td>\n",
       "      <td>0.03</td>\n",
       "      <td>0.94</td>\n",
       "    </tr>\n",
       "    <tr>\n",
       "      <th>Doc 10</th>\n",
       "      <td>0.47</td>\n",
       "      <td>0.22</td>\n",
       "      <td>0.30</td>\n",
       "    </tr>\n",
       "    <tr>\n",
       "      <th>Doc 11</th>\n",
       "      <td>0.63</td>\n",
       "      <td>0.30</td>\n",
       "      <td>0.07</td>\n",
       "    </tr>\n",
       "  </tbody>\n",
       "</table>\n",
       "</div>"
      ],
      "text/plain": [
       "        Topic 1  Topic 2  Topic 3\n",
       "Doc 1      0.96     0.02     0.02\n",
       "Doc 2      0.94     0.03     0.03\n",
       "Doc 3      0.96     0.02     0.02\n",
       "Doc 4      0.02     0.96     0.02\n",
       "Doc 5      0.02     0.96     0.02\n",
       "Doc 6      0.02     0.96     0.02\n",
       "Doc 7      0.02     0.02     0.96\n",
       "Doc 8      0.02     0.02     0.96\n",
       "Doc 9      0.02     0.03     0.94\n",
       "Doc 10     0.47     0.22     0.30\n",
       "Doc 11     0.63     0.30     0.07"
      ]
     },
     "execution_count": 5,
     "metadata": {},
     "output_type": "execute_result"
    }
   ],
   "source": [
    "import pandas as pd\n",
    "pd.options.display.float_format = '{:,.2f}'.format\n",
    "\n",
    "index = ['Doc {}'.format(i+1) for i,doc in enumerate(documents)]\n",
    "pd.DataFrame(docs_topics, index=index, columns=['Topic 1', 'Topic 2', 'Topic 3']).head(11)"
   ]
  },
  {
   "cell_type": "markdown",
   "metadata": {},
   "source": [
    "## Matriz de probabilidades \"***Temas-Palabras***\"\n",
    "\n",
    "\n",
    "* Obtenemos la probabilidad de que dado uno de los 3 temas aparezca una de las 15 palabras. Al igual que en la matriz anterior la suma de todas las probabilidades de las palabras en un tema tiene que sumar '1'.\n",
    "\n",
    "\n",
    "* A continuación obtenermos la probabilidad de que dado un tema aparezca una palabra:"
   ]
  },
  {
   "cell_type": "code",
   "execution_count": 6,
   "metadata": {},
   "outputs": [
    {
     "data": {
      "text/plain": [
       "array([[0.09317511, 0.28258336, 0.07501971, 0.14526482, 0.1627636 ,\n",
       "        0.04907704, 0.04666422, 0.06846433, 0.00649097, 0.0234738 ,\n",
       "        0.00656332, 0.00695536, 0.00597145, 0.02105453, 0.00647841],\n",
       "       [0.01013358, 0.01513247, 0.01031099, 0.010788  , 0.01070124,\n",
       "        0.23358674, 0.19990107, 0.10726689, 0.18813202, 0.15640476,\n",
       "        0.01078728, 0.0113928 , 0.00977448, 0.01385714, 0.01183056],\n",
       "       [0.00595078, 0.00705412, 0.00637553, 0.00625577, 0.00640783,\n",
       "        0.05120309, 0.02275785, 0.03977362, 0.08520263, 0.08768235,\n",
       "        0.15633693, 0.22321247, 0.03918657, 0.07299458, 0.18960595]],\n",
       "      dtype=float32)"
      ]
     },
     "execution_count": 6,
     "metadata": {},
     "output_type": "execute_result"
    }
   ],
   "source": [
    "words_topics = lda_model.get_topics()\n",
    "words_topics"
   ]
  },
  {
   "cell_type": "markdown",
   "metadata": {},
   "source": [
    "* De manera más clara los mostramos en una tabla:"
   ]
  },
  {
   "cell_type": "code",
   "execution_count": 7,
   "metadata": {},
   "outputs": [
    {
     "data": {
      "text/html": [
       "<div>\n",
       "<style scoped>\n",
       "    .dataframe tbody tr th:only-of-type {\n",
       "        vertical-align: middle;\n",
       "    }\n",
       "\n",
       "    .dataframe tbody tr th {\n",
       "        vertical-align: top;\n",
       "    }\n",
       "\n",
       "    .dataframe thead th {\n",
       "        text-align: right;\n",
       "    }\n",
       "</style>\n",
       "<table border=\"1\" class=\"dataframe\">\n",
       "  <thead>\n",
       "    <tr style=\"text-align: right;\">\n",
       "      <th></th>\n",
       "      <th>balon</th>\n",
       "      <th>futbol</th>\n",
       "      <th>liga</th>\n",
       "      <th>messi</th>\n",
       "      <th>ronaldo</th>\n",
       "      <th>politica</th>\n",
       "      <th>pp</th>\n",
       "      <th>rajoy</th>\n",
       "      <th>psoe</th>\n",
       "      <th>zapatero</th>\n",
       "      <th>dinero</th>\n",
       "      <th>fmi</th>\n",
       "      <th>ibex</th>\n",
       "      <th>pib</th>\n",
       "      <th>ue</th>\n",
       "    </tr>\n",
       "  </thead>\n",
       "  <tbody>\n",
       "    <tr>\n",
       "      <th>Topic 1</th>\n",
       "      <td>0.09</td>\n",
       "      <td>0.28</td>\n",
       "      <td>0.08</td>\n",
       "      <td>0.15</td>\n",
       "      <td>0.16</td>\n",
       "      <td>0.05</td>\n",
       "      <td>0.05</td>\n",
       "      <td>0.07</td>\n",
       "      <td>0.01</td>\n",
       "      <td>0.02</td>\n",
       "      <td>0.01</td>\n",
       "      <td>0.01</td>\n",
       "      <td>0.01</td>\n",
       "      <td>0.02</td>\n",
       "      <td>0.01</td>\n",
       "    </tr>\n",
       "    <tr>\n",
       "      <th>Topic 2</th>\n",
       "      <td>0.01</td>\n",
       "      <td>0.02</td>\n",
       "      <td>0.01</td>\n",
       "      <td>0.01</td>\n",
       "      <td>0.01</td>\n",
       "      <td>0.23</td>\n",
       "      <td>0.20</td>\n",
       "      <td>0.11</td>\n",
       "      <td>0.19</td>\n",
       "      <td>0.16</td>\n",
       "      <td>0.01</td>\n",
       "      <td>0.01</td>\n",
       "      <td>0.01</td>\n",
       "      <td>0.01</td>\n",
       "      <td>0.01</td>\n",
       "    </tr>\n",
       "    <tr>\n",
       "      <th>Topic 3</th>\n",
       "      <td>0.01</td>\n",
       "      <td>0.01</td>\n",
       "      <td>0.01</td>\n",
       "      <td>0.01</td>\n",
       "      <td>0.01</td>\n",
       "      <td>0.05</td>\n",
       "      <td>0.02</td>\n",
       "      <td>0.04</td>\n",
       "      <td>0.09</td>\n",
       "      <td>0.09</td>\n",
       "      <td>0.16</td>\n",
       "      <td>0.22</td>\n",
       "      <td>0.04</td>\n",
       "      <td>0.07</td>\n",
       "      <td>0.19</td>\n",
       "    </tr>\n",
       "  </tbody>\n",
       "</table>\n",
       "</div>"
      ],
      "text/plain": [
       "         balon  futbol  liga  messi  ronaldo  politica   pp  rajoy  psoe  \\\n",
       "Topic 1   0.09    0.28  0.08   0.15     0.16      0.05 0.05   0.07  0.01   \n",
       "Topic 2   0.01    0.02  0.01   0.01     0.01      0.23 0.20   0.11  0.19   \n",
       "Topic 3   0.01    0.01  0.01   0.01     0.01      0.05 0.02   0.04  0.09   \n",
       "\n",
       "         zapatero  dinero  fmi  ibex  pib   ue  \n",
       "Topic 1      0.02    0.01 0.01  0.01 0.02 0.01  \n",
       "Topic 2      0.16    0.01 0.01  0.01 0.01 0.01  \n",
       "Topic 3      0.09    0.16 0.22  0.04 0.07 0.19  "
      ]
     },
     "execution_count": 7,
     "metadata": {},
     "output_type": "execute_result"
    }
   ],
   "source": [
    "pd.DataFrame(words_topics, index=['Topic 1', 'Topic 2', 'Topic 3'], columns=dictionary.token2id.keys()).head()"
   ]
  },
  {
   "cell_type": "markdown",
   "metadata": {},
   "source": [
    "## Palabras (terminos) más representativas de un tema (topic)\n",
    "\n",
    "\n",
    "* Dado que podemos obtener la probabilidad de que dada una palabra (termino) esta pertenezca a un tema (topic), podemos obtener las palabras más representativas por topic de la siguiente manera: "
   ]
  },
  {
   "cell_type": "code",
   "execution_count": 8,
   "metadata": {},
   "outputs": [
    {
     "name": "stdout",
     "output_type": "stream",
     "text": [
      "\n",
      "Topic 1\n",
      "['futbol', 'ronaldo', 'messi', 'balon', 'liga']\n",
      "\n",
      "Topic 2\n",
      "['politica', 'pp', 'psoe', 'zapatero', 'rajoy']\n",
      "\n",
      "Topic 3\n",
      "['fmi', 'ue', 'dinero', 'zapatero', 'psoe']\n"
     ]
    }
   ],
   "source": [
    "dictionary.id2token\n",
    "for i in range(3):\n",
    "    print('\\nTopic {i}'.format(i=i+1))\n",
    "    pprint([dictionary.id2token[term[0]] for term in lda_model.get_topic_terms(i)[0:5]])"
   ]
  },
  {
   "cell_type": "markdown",
   "metadata": {},
   "source": [
    "<hr>\n",
    "\n",
    "\n",
    "## Topics & Terms\n",
    "\n",
    "\n",
    "* Gensim nos devuelve un \"formula\" por tema (Topic) que aplicada a las apariciones de las palabras en los documentos nos indica la pertenencia del nuevo documento a ese tema. El que mayor valor tenga tras aplicar la fórmula del tema al documento significará que tiene mayor propensión a pertenecer a ese tema.\n",
    "\n",
    "\n",
    "* Si os fijáis esa fórmula la construye como el sumatorio de la aparición de la palabra en el documento, multiplicado por la probabilidad de que en ese temá aparezca esa palabra:"
   ]
  },
  {
   "cell_type": "code",
   "execution_count": 9,
   "metadata": {},
   "outputs": [
    {
     "data": {
      "text/plain": [
       "[(0,\n",
       "  '0.283*\"futbol\" + 0.163*\"ronaldo\" + 0.145*\"messi\" + 0.093*\"balon\" + 0.075*\"liga\" + 0.068*\"rajoy\" + 0.049*\"politica\" + 0.047*\"pp\" + 0.023*\"zapatero\" + 0.021*\"pib\" + 0.007*\"fmi\" + 0.007*\"dinero\" + 0.006*\"psoe\" + 0.006*\"ue\" + 0.006*\"ibex\"'),\n",
       " (1,\n",
       "  '0.234*\"politica\" + 0.200*\"pp\" + 0.188*\"psoe\" + 0.156*\"zapatero\" + 0.107*\"rajoy\" + 0.015*\"futbol\" + 0.014*\"pib\" + 0.012*\"ue\" + 0.011*\"fmi\" + 0.011*\"messi\" + 0.011*\"dinero\" + 0.011*\"ronaldo\" + 0.010*\"liga\" + 0.010*\"balon\" + 0.010*\"ibex\"'),\n",
       " (2,\n",
       "  '0.223*\"fmi\" + 0.190*\"ue\" + 0.156*\"dinero\" + 0.088*\"zapatero\" + 0.085*\"psoe\" + 0.073*\"pib\" + 0.051*\"politica\" + 0.040*\"rajoy\" + 0.039*\"ibex\" + 0.023*\"pp\" + 0.007*\"futbol\" + 0.006*\"ronaldo\" + 0.006*\"liga\" + 0.006*\"messi\" + 0.006*\"balon\"')]"
      ]
     },
     "execution_count": 9,
     "metadata": {},
     "output_type": "execute_result"
    }
   ],
   "source": [
    "lda_model.print_topics(num_words=15)"
   ]
  },
  {
   "cell_type": "markdown",
   "metadata": {},
   "source": [
    "<hr>\n",
    "\n",
    "\n",
    "# Visualización\n",
    "\n",
    "\n",
    "* Existe una librería llamada \"***pyLDAvis***\" que nos permite visualizar las relaciones entre los temas (topic) y dentro de cada tema la importancia de sus palabras (terms).\n",
    "\n",
    "\n",
    "* La parte de visualización de esta librería nos permite ver:\n",
    "    - Parte Izquierda: Visualización de los temas en función de dos componentes (2 Dimensiones)\n",
    "    - Parte Derecha: Seleccionado un Topic, podemos ver las palabras (terms) más relevantes de ese tema y la frecuencia con la que aparecen tanto en el corpus como en el tema.\n",
    "    \n",
    "    \n",
    "* En esta visualización podemos apreciar como se distinguen los tres temas claramente ya que las dos componentes que las definen son claramente distintas."
   ]
  },
  {
   "cell_type": "code",
   "execution_count": 10,
   "metadata": {},
   "outputs": [
    {
     "data": {
      "text/html": [
       "\n",
       "<link rel=\"stylesheet\" type=\"text/css\" href=\"https://cdn.rawgit.com/bmabey/pyLDAvis/files/ldavis.v1.0.0.css\">\n",
       "\n",
       "\n",
       "<div id=\"ldavis_el81781122493251524023440564\"></div>\n",
       "<script type=\"text/javascript\">\n",
       "\n",
       "var ldavis_el81781122493251524023440564_data = {\"mdsDat\": {\"x\": [-0.04402691733696154, -0.18567943684644259, 0.22970635418340413], \"y\": [-0.12875298350735212, 0.08484636729170841, 0.0439066162156438], \"topics\": [1, 2, 3], \"cluster\": [1, 1, 1], \"Freq\": [34.549312591552734, 33.82830047607422, 31.622386932373047]}, \"tinfo\": {\"Category\": [\"Default\", \"Default\", \"Default\", \"Default\", \"Default\", \"Default\", \"Default\", \"Default\", \"Default\", \"Default\", \"Default\", \"Default\", \"Default\", \"Default\", \"Default\", \"Topic1\", \"Topic1\", \"Topic1\", \"Topic1\", \"Topic1\", \"Topic1\", \"Topic1\", \"Topic1\", \"Topic1\", \"Topic1\", \"Topic1\", \"Topic1\", \"Topic1\", \"Topic1\", \"Topic1\", \"Topic2\", \"Topic2\", \"Topic2\", \"Topic2\", \"Topic2\", \"Topic2\", \"Topic2\", \"Topic2\", \"Topic2\", \"Topic2\", \"Topic2\", \"Topic2\", \"Topic2\", \"Topic2\", \"Topic2\", \"Topic3\", \"Topic3\", \"Topic3\", \"Topic3\", \"Topic3\", \"Topic3\", \"Topic3\", \"Topic3\", \"Topic3\", \"Topic3\", \"Topic3\", \"Topic3\", \"Topic3\", \"Topic3\", \"Topic3\"], \"Freq\": [13.0, 11.0, 9.0, 7.0, 7.0, 7.0, 13.0, 12.0, 15.0, 4.0, 12.0, 4.0, 4.0, 2.0, 9.0, 9.392765045166016, 10.975556373596191, 8.83977222442627, 7.349001407623291, 5.040156364440918, 0.45927420258522034, 0.6511065363883972, 0.4844830632209778, 0.47614726424217224, 0.506896436214447, 0.5028197765350342, 0.5068626403808594, 0.5558833479881287, 0.7110301852226257, 0.5353145003318787, 10.269222259521484, 8.723104476928711, 7.192513465881348, 1.8028364181518555, 3.358224391937256, 4.033957004547119, 3.9198739528656006, 1.8298448324203491, 2.3556745052337646, 1.0470086336135864, 0.2933158576488495, 0.2737745940685272, 0.28780606389045715, 0.2948018014431, 0.32453516125679016, 12.15290641784668, 6.999884128570557, 6.247323513031006, 4.0071306228637695, 3.2263312339782715, 2.9444077014923096, 0.9054804444313049, 2.006862163543701, 2.110629081726074, 0.2568108141422272, 1.0095247030258179, 0.2822650372982025, 0.278613418340683, 0.2991253435611725, 0.2791537642478943], \"Term\": [\"futbol\", \"fmi\", \"ue\", \"ronaldo\", \"dinero\", \"messi\", \"psoe\", \"pp\", \"politica\", \"balon\", \"zapatero\", \"liga\", \"pib\", \"ibex\", \"rajoy\", \"pp\", \"politica\", \"psoe\", \"zapatero\", \"rajoy\", \"ibex\", \"pib\", \"liga\", \"balon\", \"messi\", \"ronaldo\", \"dinero\", \"ue\", \"futbol\", \"fmi\", \"fmi\", \"ue\", \"dinero\", \"ibex\", \"pib\", \"zapatero\", \"psoe\", \"rajoy\", \"politica\", \"pp\", \"liga\", \"balon\", \"messi\", \"ronaldo\", \"futbol\", \"futbol\", \"ronaldo\", \"messi\", \"balon\", \"liga\", \"rajoy\", \"pib\", \"pp\", \"politica\", \"ibex\", \"zapatero\", \"dinero\", \"ue\", \"fmi\", \"psoe\"], \"Total\": [13.0, 11.0, 9.0, 7.0, 7.0, 7.0, 13.0, 12.0, 15.0, 4.0, 12.0, 4.0, 4.0, 2.0, 9.0, 12.446636199951172, 15.44186019897461, 13.038800239562988, 12.39248275756836, 9.814409255981445, 2.5189216136932373, 4.914811134338379, 4.0041303634643555, 4.757052421569824, 7.042026042938232, 7.797505855560303, 7.9816412925720215, 9.557600975036621, 13.188471794128418, 11.103662490844727, 11.103662490844727, 9.557600975036621, 7.9816412925720215, 2.5189216136932373, 4.914811134338379, 12.39248275756836, 13.038800239562988, 9.814409255981445, 15.44186019897461, 12.446636199951172, 4.0041303634643555, 4.757052421569824, 7.042026042938232, 7.797505855560303, 13.188471794128418, 13.188471794128418, 7.797505855560303, 7.042026042938232, 4.757052421569824, 4.0041303634643555, 9.814409255981445, 4.914811134338379, 12.446636199951172, 15.44186019897461, 2.5189216136932373, 12.39248275756836, 7.9816412925720215, 9.557600975036621, 11.103662490844727, 13.038800239562988], \"loglift\": [15.0, 14.0, 13.0, 12.0, 11.0, 10.0, 9.0, 8.0, 7.0, 6.0, 5.0, 4.0, 3.0, 2.0, 1.0, 0.7813000082969666, 0.7214000225067139, 0.6740999817848206, 0.5403000116348267, 0.39640000462532043, -0.63919997215271, -0.9585999846458435, -1.0492000579833984, -1.2388999462127686, -1.568600058555603, -1.6785000562667847, -1.6938999891281128, -1.7818000316619873, -1.8575999736785889, -1.9694000482559204, 1.0056999921798706, 0.9925000071525574, 0.9797999858856201, 0.7494000196456909, 0.703000009059906, -0.03849999979138374, -0.11800000071525574, -0.5957000255584717, -0.7964000105857849, -1.3916000127792358, -1.5299999713897705, -1.7711999416351318, -2.1135001182556152, -2.1914000511169434, -2.620800018310547, 1.0694999694824219, 1.0434000492095947, 1.031599998474121, 0.9797999858856201, 0.9352999925613403, -0.05260000005364418, -0.5401999950408936, -0.6736000180244446, -0.8388000130653381, -1.1318999528884888, -1.3562999963760376, -2.190700054168701, -2.384000062942505, -2.462899923324585, -2.6926000118255615], \"logprob\": [15.0, 14.0, 13.0, 12.0, 11.0, 10.0, 9.0, 8.0, 7.0, 6.0, 5.0, 4.0, 3.0, 2.0, 1.0, -1.6098999977111816, -1.454200029373169, -1.6706000566482544, -1.855299949645996, -2.2323999404907227, -4.627999782562256, -4.2789998054504395, -4.57450008392334, -4.591899871826172, -4.529300212860107, -4.537399768829346, -4.529399871826172, -4.437099933624268, -4.190899848937988, -4.474800109863281, -1.4996000528335571, -1.6627999544143677, -1.8557000160217285, -3.2393999099731445, -2.6173999309539795, -2.434000015258789, -2.4626998901367188, -3.224600076675415, -2.9719998836517334, -3.7827999591827393, -5.055300235748291, -5.124199867248535, -5.0742998123168945, -5.05019998550415, -4.954100131988525, -1.263800024986267, -1.815500020980835, -1.9292000532150269, -2.373300075531006, -2.5899999141693115, -2.6814000606536865, -3.860599994659424, -3.0648000240325928, -3.014400005340576, -5.120800018310547, -3.7518999576568604, -5.026299953460693, -5.039299964904785, -4.968200206756592, -5.037300109863281]}, \"token.table\": {\"Topic\": [3, 1, 2, 1, 2, 1, 3, 2, 3, 1, 3, 1, 2, 3, 1, 2, 3, 1, 2, 3, 1, 2, 1, 2, 3, 1, 3, 1, 2, 1, 2, 3], \"Freq\": [0.8408568501472473, 0.1252875179052353, 0.8770126104354858, 0.09006037563085556, 0.9006037712097168, 0.07582379877567291, 0.909885585308075, 0.7939905524253845, 0.7492263317108154, 0.14200459420681, 0.8520275354385376, 0.20346662402153015, 0.6103998422622681, 0.20346662402153015, 0.7123494148254395, 0.1295180767774582, 0.1295180767774582, 0.723086953163147, 0.08034299314022064, 0.16068598628044128, 0.6902475357055664, 0.3067767024040222, 0.5094550251960754, 0.20378200709819794, 0.3056730031967163, 0.12824614346027374, 0.8977229595184326, 0.10462876409292221, 0.9416589140892029, 0.5648585557937622, 0.32277631759643555, 0.08069407939910889], \"Term\": [\"balon\", \"dinero\", \"dinero\", \"fmi\", \"fmi\", \"futbol\", \"futbol\", \"ibex\", \"liga\", \"messi\", \"messi\", \"pib\", \"pib\", \"pib\", \"politica\", \"politica\", \"politica\", \"pp\", \"pp\", \"pp\", \"psoe\", \"psoe\", \"rajoy\", \"rajoy\", \"rajoy\", \"ronaldo\", \"ronaldo\", \"ue\", \"ue\", \"zapatero\", \"zapatero\", \"zapatero\"]}, \"R\": 15, \"lambda.step\": 0.01, \"plot.opts\": {\"xlab\": \"PC1\", \"ylab\": \"PC2\"}, \"topic.order\": [2, 3, 1]};\n",
       "\n",
       "function LDAvis_load_lib(url, callback){\n",
       "  var s = document.createElement('script');\n",
       "  s.src = url;\n",
       "  s.async = true;\n",
       "  s.onreadystatechange = s.onload = callback;\n",
       "  s.onerror = function(){console.warn(\"failed to load library \" + url);};\n",
       "  document.getElementsByTagName(\"head\")[0].appendChild(s);\n",
       "}\n",
       "\n",
       "if(typeof(LDAvis) !== \"undefined\"){\n",
       "   // already loaded: just create the visualization\n",
       "   !function(LDAvis){\n",
       "       new LDAvis(\"#\" + \"ldavis_el81781122493251524023440564\", ldavis_el81781122493251524023440564_data);\n",
       "   }(LDAvis);\n",
       "}else if(typeof define === \"function\" && define.amd){\n",
       "   // require.js is available: use it to load d3/LDAvis\n",
       "   require.config({paths: {d3: \"https://cdnjs.cloudflare.com/ajax/libs/d3/3.5.5/d3.min\"}});\n",
       "   require([\"d3\"], function(d3){\n",
       "      window.d3 = d3;\n",
       "      LDAvis_load_lib(\"https://cdn.rawgit.com/bmabey/pyLDAvis/files/ldavis.v1.0.0.js\", function(){\n",
       "        new LDAvis(\"#\" + \"ldavis_el81781122493251524023440564\", ldavis_el81781122493251524023440564_data);\n",
       "      });\n",
       "    });\n",
       "}else{\n",
       "    // require.js not available: dynamically load d3 & LDAvis\n",
       "    LDAvis_load_lib(\"https://cdnjs.cloudflare.com/ajax/libs/d3/3.5.5/d3.min.js\", function(){\n",
       "         LDAvis_load_lib(\"https://cdn.rawgit.com/bmabey/pyLDAvis/files/ldavis.v1.0.0.js\", function(){\n",
       "                 new LDAvis(\"#\" + \"ldavis_el81781122493251524023440564\", ldavis_el81781122493251524023440564_data);\n",
       "            })\n",
       "         });\n",
       "}\n",
       "</script>"
      ],
      "text/plain": [
       "<IPython.core.display.HTML object>"
      ]
     },
     "execution_count": 10,
     "metadata": {},
     "output_type": "execute_result"
    }
   ],
   "source": [
    "import pyLDAvis\n",
    "import pyLDAvis.gensim\n",
    "\n",
    "\n",
    "vis = pyLDAvis.gensim.prepare(lda_model, corpus, dictionary)\n",
    "pyLDAvis.display(vis)"
   ]
  }
 ],
 "metadata": {
  "kernelspec": {
   "display_name": "Python 3",
   "language": "python",
   "name": "python3"
  },
  "language_info": {
   "codemirror_mode": {
    "name": "ipython",
    "version": 3
   },
   "file_extension": ".py",
   "mimetype": "text/x-python",
   "name": "python",
   "nbconvert_exporter": "python",
   "pygments_lexer": "ipython3",
   "version": "3.6.8"
  }
 },
 "nbformat": 4,
 "nbformat_minor": 2
}
