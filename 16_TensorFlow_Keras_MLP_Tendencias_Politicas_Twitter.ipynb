{
 "cells": [
  {
   "cell_type": "markdown",
   "metadata": {},
   "source": [
    "# 16 - TensorFlow - Keras: Clasificación de tendencias politicas en tweets (Perceptrón Multicapa)\n",
    "\n",
    "* En este notebook vamos a clasificar una serie de tweets etiquetados por un partido político (psoe, pp, vox, podemos y ciudadanos) que corresponden a la tendencia politica de la cuenta que publicó ese tweet,\n",
    "\n",
    "\n",
    "* El ejercicio que vamos a realizar a continuación es muy similar al realizado en el notebook *13_PoC_Tendencias_Politicas_Twitter_Generacion_Exportacion_Modelos.ipynb* y se pueden comparar los resultados que vamos a obtener con la Red Neuronal respecto a los obtenidos con los modelos generados por los algoritmos de clasificación vistos.\n",
    "\n",
    "\n",
    "* Los pasos que vamos a dar son los siguientes:\n",
    "\n",
    "    1. Cargar los datos\n",
    "    2. Normalizar los tweets (igual que en el notebook *13_PoC_Tendencias_Politicas_Twitter_Generacion_Exportacion_Modelos.ipynb*)\n",
    "    3. Particionado de datos (Train y Test)\n",
    "    4. Bolsa de palabras y codificación del target\n",
    "    5. Definición de la Red Neuronal\n",
    "    6. Entrenamiento de la Red Neuronal\n",
    "    7. Evaluación del modelo"
   ]
  },
  {
   "cell_type": "markdown",
   "metadata": {},
   "source": [
    "<hr>\n",
    "\n",
    "\n",
    "## Carga de Datos\n",
    "\n",
    "\n",
    "* El fichero que contiene los tweets lo podemos leer como un '*csv*' con pandas pasandole como separador '***::::***'.\n",
    "\n",
    "\n",
    "* Este fichero esta estructurado de la siguiente manera\n",
    "    - **Cuenta**: Cuenta de twitter\n",
    "    - **Partido**: Partido político al que pertenece (ciudadanos, podemos, pp, psoe)\n",
    "    - **Timestamp**: Instante en el que se publicó el tweet\n",
    "    - **Tweet**: Tweet.\n",
    "    \n",
    "    \n",
    "* Leemos los datos y mostramos una muestra:"
   ]
  },
  {
   "cell_type": "code",
   "execution_count": 1,
   "metadata": {},
   "outputs": [
    {
     "name": "stdout",
     "output_type": "stream",
     "text": [
      "Número de Tweets Cargados: 101017\n",
      "Número de Tweets a procesar: 101017\n"
     ]
    },
    {
     "data": {
      "text/html": [
       "<div>\n",
       "<style scoped>\n",
       "    .dataframe tbody tr th:only-of-type {\n",
       "        vertical-align: middle;\n",
       "    }\n",
       "\n",
       "    .dataframe tbody tr th {\n",
       "        vertical-align: top;\n",
       "    }\n",
       "\n",
       "    .dataframe thead th {\n",
       "        text-align: right;\n",
       "    }\n",
       "</style>\n",
       "<table border=\"1\" class=\"dataframe\">\n",
       "  <thead>\n",
       "    <tr style=\"text-align: right;\">\n",
       "      <th></th>\n",
       "      <th>cuenta</th>\n",
       "      <th>partido</th>\n",
       "      <th>timestamp</th>\n",
       "      <th>tweet</th>\n",
       "    </tr>\n",
       "  </thead>\n",
       "  <tbody>\n",
       "    <tr>\n",
       "      <th>2966</th>\n",
       "      <td>Pablo_Iglesias_</td>\n",
       "      <td>podemos</td>\n",
       "      <td>1,558,634,517.00</td>\n",
       "      <td>@kbx02 @BerdaderaH Hay peces que no hay que pe...</td>\n",
       "    </tr>\n",
       "    <tr>\n",
       "      <th>58556</th>\n",
       "      <td>JM_Kichi</td>\n",
       "      <td>podemos</td>\n",
       "      <td>1,583,655,300.00</td>\n",
       "      <td>Qué bonito construir hogar. Qué bonito constru...</td>\n",
       "    </tr>\n",
       "    <tr>\n",
       "      <th>22759</th>\n",
       "      <td>ahorapodemos</td>\n",
       "      <td>podemos</td>\n",
       "      <td>1,570,617,000.00</td>\n",
       "      <td>Quieren desmantelar la sanidad pública para ha...</td>\n",
       "    </tr>\n",
       "    <tr>\n",
       "      <th>68</th>\n",
       "      <td>populares</td>\n",
       "      <td>pp</td>\n",
       "      <td>1,556,301,823.00</td>\n",
       "      <td>▶ @pablocasado_: \"Vamos a salir a la calle a d...</td>\n",
       "    </tr>\n",
       "    <tr>\n",
       "      <th>1636</th>\n",
       "      <td>pablocasado_</td>\n",
       "      <td>pp</td>\n",
       "      <td>1,557,582,472.00</td>\n",
       "      <td>Un honor visitar el tradicional tapiz de la Vi...</td>\n",
       "    </tr>\n",
       "    <tr>\n",
       "      <th>91510</th>\n",
       "      <td>ionebelarra</td>\n",
       "      <td>podemos</td>\n",
       "      <td>1,616,688,095.00</td>\n",
       "      <td>Las abultadas pérdidas de la SAREB han termina...</td>\n",
       "    </tr>\n",
       "    <tr>\n",
       "      <th>30205</th>\n",
       "      <td>CiudadanosCs</td>\n",
       "      <td>ciudadanos</td>\n",
       "      <td>1,572,638,535.00</td>\n",
       "      <td>🔛 ¡Ya está todo preparado!📺 @InesArrimadas est...</td>\n",
       "    </tr>\n",
       "    <tr>\n",
       "      <th>100152</th>\n",
       "      <td>populares</td>\n",
       "      <td>pp</td>\n",
       "      <td>1,620,709,211.00</td>\n",
       "      <td>⚫ @sanchezcastejon, con la dignidad, la memori...</td>\n",
       "    </tr>\n",
       "    <tr>\n",
       "      <th>10040</th>\n",
       "      <td>Irene_Montero_</td>\n",
       "      <td>podemos</td>\n",
       "      <td>1,562,428,998.00</td>\n",
       "      <td>Orgullo de todas y todos los que han luchado p...</td>\n",
       "    </tr>\n",
       "    <tr>\n",
       "      <th>87785</th>\n",
       "      <td>hermanntertsch</td>\n",
       "      <td>vox</td>\n",
       "      <td>1,615,360,552.00</td>\n",
       "      <td>El gobierno español es ya parte del inmenso en...</td>\n",
       "    </tr>\n",
       "  </tbody>\n",
       "</table>\n",
       "</div>"
      ],
      "text/plain": [
       "                 cuenta     partido        timestamp  \\\n",
       "2966    Pablo_Iglesias_     podemos 1,558,634,517.00   \n",
       "58556          JM_Kichi     podemos 1,583,655,300.00   \n",
       "22759      ahorapodemos     podemos 1,570,617,000.00   \n",
       "68            populares          pp 1,556,301,823.00   \n",
       "1636       pablocasado_          pp 1,557,582,472.00   \n",
       "91510       ionebelarra     podemos 1,616,688,095.00   \n",
       "30205      CiudadanosCs  ciudadanos 1,572,638,535.00   \n",
       "100152        populares          pp 1,620,709,211.00   \n",
       "10040    Irene_Montero_     podemos 1,562,428,998.00   \n",
       "87785    hermanntertsch         vox 1,615,360,552.00   \n",
       "\n",
       "                                                    tweet  \n",
       "2966    @kbx02 @BerdaderaH Hay peces que no hay que pe...  \n",
       "58556   Qué bonito construir hogar. Qué bonito constru...  \n",
       "22759   Quieren desmantelar la sanidad pública para ha...  \n",
       "68      ▶ @pablocasado_: \"Vamos a salir a la calle a d...  \n",
       "1636    Un honor visitar el tradicional tapiz de la Vi...  \n",
       "91510   Las abultadas pérdidas de la SAREB han termina...  \n",
       "30205   🔛 ¡Ya está todo preparado!📺 @InesArrimadas est...  \n",
       "100152  ⚫ @sanchezcastejon, con la dignidad, la memori...  \n",
       "10040   Orgullo de todas y todos los que han luchado p...  \n",
       "87785   El gobierno español es ya parte del inmenso en...  "
      ]
     },
     "execution_count": 1,
     "metadata": {},
     "output_type": "execute_result"
    }
   ],
   "source": [
    "import pandas as pd\n",
    "import numpy as np\n",
    "pd.options.display.float_format = '{:,.2f}'.format\n",
    "\n",
    "TWEETS_FILE = './data/tweets_politica.csv'\n",
    "df = pd.read_csv(TWEETS_FILE, sep='::::', engine='python', error_bad_lines=False)\n",
    "\n",
    "# Eliminamos los tweets que tengan algún valor a nulo\n",
    "df = df.dropna()\n",
    "print('Número de Tweets Cargados: {num}'.format(num=df.shape[0]))\n",
    "\n",
    "# Los ordenamos por fecha\n",
    "df = df.sort_values(by='timestamp')\n",
    "\n",
    "# Imprimimos el número de tweets a procesar\n",
    "print('Número de Tweets a procesar: {num}'.format(num=df.shape[0]))\n",
    "df.sample(10)"
   ]
  },
  {
   "cell_type": "markdown",
   "metadata": {},
   "source": [
    "* Filtramos los tweets por fecha. Nos quedamos con los tweets a partir de una fecha dada."
   ]
  },
  {
   "cell_type": "code",
   "execution_count": 2,
   "metadata": {},
   "outputs": [
    {
     "name": "stdout",
     "output_type": "stream",
     "text": [
      "Número de Tweets a procesar: 100786\n"
     ]
    },
    {
     "data": {
      "text/html": [
       "<div>\n",
       "<style scoped>\n",
       "    .dataframe tbody tr th:only-of-type {\n",
       "        vertical-align: middle;\n",
       "    }\n",
       "\n",
       "    .dataframe tbody tr th {\n",
       "        vertical-align: top;\n",
       "    }\n",
       "\n",
       "    .dataframe thead th {\n",
       "        text-align: right;\n",
       "    }\n",
       "</style>\n",
       "<table border=\"1\" class=\"dataframe\">\n",
       "  <thead>\n",
       "    <tr style=\"text-align: right;\">\n",
       "      <th></th>\n",
       "      <th>cuenta</th>\n",
       "      <th>partido</th>\n",
       "      <th>timestamp</th>\n",
       "      <th>tweet</th>\n",
       "    </tr>\n",
       "  </thead>\n",
       "  <tbody>\n",
       "    <tr>\n",
       "      <th>59510</th>\n",
       "      <td>VickyRosell</td>\n",
       "      <td>podemos</td>\n",
       "      <td>1,583,937,277.00</td>\n",
       "      <td>La web remite para cambios al teléfono, y en é...</td>\n",
       "    </tr>\n",
       "    <tr>\n",
       "      <th>98139</th>\n",
       "      <td>vox_es</td>\n",
       "      <td>vox</td>\n",
       "      <td>1,619,325,156.00</td>\n",
       "      <td>‼️ Este domingo 25 de abril, GRAN ACTO de VOX ...</td>\n",
       "    </tr>\n",
       "    <tr>\n",
       "      <th>66217</th>\n",
       "      <td>NoALaIdDeGenero</td>\n",
       "      <td>vox</td>\n",
       "      <td>1,585,310,644.00</td>\n",
       "      <td>@AzotandoM @Iglesias_Samu13 @hermanntertsch @F...</td>\n",
       "    </tr>\n",
       "    <tr>\n",
       "      <th>71795</th>\n",
       "      <td>hermanntertsch</td>\n",
       "      <td>vox</td>\n",
       "      <td>1,609,370,507.00</td>\n",
       "      <td>La Fundacion @FDisenso tiene el privilegio de ...</td>\n",
       "    </tr>\n",
       "    <tr>\n",
       "      <th>35788</th>\n",
       "      <td>vox_es</td>\n",
       "      <td>vox</td>\n",
       "      <td>1,575,051,620.00</td>\n",
       "      <td>📰 Podemos se rinde a VOX: \"La ilusión ha cambi...</td>\n",
       "    </tr>\n",
       "    <tr>\n",
       "      <th>73722</th>\n",
       "      <td>Tonicanto1</td>\n",
       "      <td>ciudadanos</td>\n",
       "      <td>1,610,100,921.00</td>\n",
       "      <td>“Es una vergüenza que suba la luz el día que m...</td>\n",
       "    </tr>\n",
       "    <tr>\n",
       "      <th>36072</th>\n",
       "      <td>odonelorza2011</td>\n",
       "      <td>psoe</td>\n",
       "      <td>1,575,386,547.00</td>\n",
       "      <td>@Mosturotz La convivencia es un derecho básico...</td>\n",
       "    </tr>\n",
       "    <tr>\n",
       "      <th>9898</th>\n",
       "      <td>GirautaOficial</td>\n",
       "      <td>ciudadanos</td>\n",
       "      <td>1,562,516,259.00</td>\n",
       "      <td>Así fueron expulsadas ayer de una “fiesta” de ...</td>\n",
       "    </tr>\n",
       "    <tr>\n",
       "      <th>66926</th>\n",
       "      <td>oscar_puente_</td>\n",
       "      <td>psoe</td>\n",
       "      <td>1,585,564,263.00</td>\n",
       "      <td>@RubensgES dame un teléfono por privado y te l...</td>\n",
       "    </tr>\n",
       "    <tr>\n",
       "      <th>2216</th>\n",
       "      <td>CiudadanosCs</td>\n",
       "      <td>ciudadanos</td>\n",
       "      <td>1,558,111,034.00</td>\n",
       "      <td>🍊 @InesArrimadas \"Somos el único partido que c...</td>\n",
       "    </tr>\n",
       "  </tbody>\n",
       "</table>\n",
       "</div>"
      ],
      "text/plain": [
       "                cuenta     partido        timestamp  \\\n",
       "59510      VickyRosell     podemos 1,583,937,277.00   \n",
       "98139           vox_es         vox 1,619,325,156.00   \n",
       "66217  NoALaIdDeGenero         vox 1,585,310,644.00   \n",
       "71795   hermanntertsch         vox 1,609,370,507.00   \n",
       "35788           vox_es         vox 1,575,051,620.00   \n",
       "73722       Tonicanto1  ciudadanos 1,610,100,921.00   \n",
       "36072   odonelorza2011        psoe 1,575,386,547.00   \n",
       "9898    GirautaOficial  ciudadanos 1,562,516,259.00   \n",
       "66926    oscar_puente_        psoe 1,585,564,263.00   \n",
       "2216      CiudadanosCs  ciudadanos 1,558,111,034.00   \n",
       "\n",
       "                                                   tweet  \n",
       "59510  La web remite para cambios al teléfono, y en é...  \n",
       "98139  ‼️ Este domingo 25 de abril, GRAN ACTO de VOX ...  \n",
       "66217  @AzotandoM @Iglesias_Samu13 @hermanntertsch @F...  \n",
       "71795  La Fundacion @FDisenso tiene el privilegio de ...  \n",
       "35788  📰 Podemos se rinde a VOX: \"La ilusión ha cambi...  \n",
       "73722  “Es una vergüenza que suba la luz el día que m...  \n",
       "36072  @Mosturotz La convivencia es un derecho básico...  \n",
       "9898   Así fueron expulsadas ayer de una “fiesta” de ...  \n",
       "66926  @RubensgES dame un teléfono por privado y te l...  \n",
       "2216   🍊 @InesArrimadas \"Somos el único partido que c...  "
      ]
     },
     "execution_count": 2,
     "metadata": {},
     "output_type": "execute_result"
    }
   ],
   "source": [
    "import datetime\n",
    "import time\n",
    "\n",
    "# Filtramos los tweets a partir de una fecha\n",
    "DATE = \"01/04/2019\"\n",
    "timestamp = time.mktime(datetime.datetime.strptime(DATE, \"%d/%m/%Y\").timetuple())\n",
    "df = df[df.timestamp >= timestamp]\n",
    "\n",
    "# Mostramos un sample y el número de tweets a procesar\n",
    "print('Número de Tweets a procesar: {num}'.format(num=df.shape[0]))\n",
    "df.sample(10)"
   ]
  },
  {
   "cell_type": "markdown",
   "metadata": {},
   "source": [
    "* Tweets publicados por partido político"
   ]
  },
  {
   "cell_type": "code",
   "execution_count": 3,
   "metadata": {
    "scrolled": true
   },
   "outputs": [
    {
     "data": {
      "text/html": [
       "<div>\n",
       "<style scoped>\n",
       "    .dataframe tbody tr th:only-of-type {\n",
       "        vertical-align: middle;\n",
       "    }\n",
       "\n",
       "    .dataframe tbody tr th {\n",
       "        vertical-align: top;\n",
       "    }\n",
       "\n",
       "    .dataframe thead th {\n",
       "        text-align: right;\n",
       "    }\n",
       "</style>\n",
       "<table border=\"1\" class=\"dataframe\">\n",
       "  <thead>\n",
       "    <tr style=\"text-align: right;\">\n",
       "      <th></th>\n",
       "      <th>partido</th>\n",
       "      <th>tweet</th>\n",
       "      <th>PCT</th>\n",
       "    </tr>\n",
       "  </thead>\n",
       "  <tbody>\n",
       "    <tr>\n",
       "      <th>3</th>\n",
       "      <td>psoe</td>\n",
       "      <td>23152</td>\n",
       "      <td>22.97</td>\n",
       "    </tr>\n",
       "    <tr>\n",
       "      <th>1</th>\n",
       "      <td>podemos</td>\n",
       "      <td>19807</td>\n",
       "      <td>19.65</td>\n",
       "    </tr>\n",
       "    <tr>\n",
       "      <th>2</th>\n",
       "      <td>pp</td>\n",
       "      <td>19496</td>\n",
       "      <td>19.34</td>\n",
       "    </tr>\n",
       "    <tr>\n",
       "      <th>0</th>\n",
       "      <td>ciudadanos</td>\n",
       "      <td>19429</td>\n",
       "      <td>19.28</td>\n",
       "    </tr>\n",
       "    <tr>\n",
       "      <th>4</th>\n",
       "      <td>vox</td>\n",
       "      <td>18902</td>\n",
       "      <td>18.75</td>\n",
       "    </tr>\n",
       "  </tbody>\n",
       "</table>\n",
       "</div>"
      ],
      "text/plain": [
       "      partido  tweet   PCT\n",
       "3        psoe  23152 22.97\n",
       "1     podemos  19807 19.65\n",
       "2          pp  19496 19.34\n",
       "0  ciudadanos  19429 19.28\n",
       "4         vox  18902 18.75"
      ]
     },
     "execution_count": 3,
     "metadata": {},
     "output_type": "execute_result"
    }
   ],
   "source": [
    "df_count = df.groupby('partido')['tweet'].count().reset_index().sort_values(by='tweet', ascending=False)\n",
    "df_count['PCT'] = (df_count['tweet'] / df_count['tweet'].sum())*100\n",
    "df_count"
   ]
  },
  {
   "cell_type": "markdown",
   "metadata": {},
   "source": [
    "* Nos quedamos solo con el nombre del partido y el tweet"
   ]
  },
  {
   "cell_type": "code",
   "execution_count": 4,
   "metadata": {},
   "outputs": [
    {
     "name": "stdout",
     "output_type": "stream",
     "text": [
      "Número de Tweets Cargados: 100786\n"
     ]
    }
   ],
   "source": [
    "tweets = [list(x) for x in df[['tweet', 'partido']].values]\n",
    "print('Número de Tweets Cargados: {num}'.format(num=len(tweets)))"
   ]
  },
  {
   "cell_type": "markdown",
   "metadata": {},
   "source": [
    "<hr>\n",
    "\n",
    "\n",
    "## Normalización\n",
    "\n",
    "* Utilizamos ***spaCy*** para la tokenización y normalización.\n",
    "\n",
    "\n",
    "* Tras realizar un análisis del contenido de los tweets pasamos a realizar las siguientes acciones para ***normalizar*** los tweets:\n",
    "    1. Pasamos las frases a minúsculas.\n",
    "    2. Sustituimos los puntos por espacios ya que hay muchas palabras unidas por un punto\n",
    "    3. Quitamos la almuhadilla de los hashtags para considerarlos como palabras.\n",
    "    4. Eliminamos los signos de puntuación.\n",
    "    5. Eliminamos las palabras con menos de 3 caracteres.\n",
    "    6. Eliminamos las Stop-Words.\n",
    "    7. Eliminamos los enlaces(http) y las menciones (@)\n",
    "    8. Pasamos la palabra a su lema\n",
    "\n",
    "\n",
    "* Todos estos pasos los vamos a realizar en una misma función.\n",
    "\n",
    "\n",
    "* Descartaremos aquellos tweets que tras ser normalizados no tengan por lo menos 3 palabras.\n",
    "\n",
    "\n",
    "* ***NOTA***: Se pueden realizar más acciones de normalización que las realizadas, como tratamiento de emoticonos, tratamiento especial de referencia a cuentas, hashtags, etc. Al tratarse de un ejemplo didáctica se ha realizado una normalización '*sencilla*'.\n",
    "\n",
    "\n",
    "#### CUIDADO - IMPORTANTE:\n",
    "\n",
    "* Dado que los procesos de normalización de textos son muy pesados y tardan mucho, se ha implementado despues de la normalización de los tweets, un proceso de guardado de los tweets ya normalizados. Por tanto:\n",
    "    - Si es la primera vez que se ejecuta este notebook, se puede ejecutar completo sabiendo que se guardarán en un fichero binario los tweets normalizados. Este guardado se realiza [AQUI](#Escritura).\n",
    "    - En caso de haberse ejecutado el proceso de normalización de tweets y haberse guardado este en un fichero binario, no será necesario ejecutar las dos siguientes celdas de código y bastaría con ejecutar la celda de código que lee el fichero binario con los tweets normalizados. Esto se hace en la siguiente [CELDA](#Lectura).\n"
   ]
  },
  {
   "cell_type": "code",
   "execution_count": 5,
   "metadata": {},
   "outputs": [
    {
     "name": "stderr",
     "output_type": "stream",
     "text": [
      "100%|█████████████████████████████████████████████████████████████████████████| 100786/100786 [11:11<00:00, 150.11it/s]\n"
     ]
    }
   ],
   "source": [
    "import spacy\n",
    "\n",
    "from tqdm import tqdm\n",
    "\n",
    "nlp = spacy.load('es_core_news_sm')\n",
    "\n",
    "def normalize(tweets, min_words=3):\n",
    "    \"\"\"\n",
    "    Función que dada una lista de tweets ([tweet, clase]), normaliza los tweets y devuelve una lista\n",
    "    con los tweets normalizados, descartando aquellos tweets que tras la normalización tengan menos de\n",
    "    \"min_words\" palabras en el tweet.\n",
    "    \n",
    "    :param tweets:       Lista de Tweets ([tweet, clase]) con el tweet y la clase a la que pertenece\n",
    "    :param min_words:    Número minimo de palabras que tiene que tener un tweet tras la normalización\n",
    "    :return:             Lista de Tweets ([tweet, clase]) normalizados\n",
    "    \"\"\"\n",
    "    tweets_list = []\n",
    "    for tweet in tqdm(tweets):\n",
    "        # Tokenizamos el tweets realizando los puntos 1,2 y 3.\n",
    "        tw = nlp(tweet[0].lower().replace('.', ' ').replace('#', ' ').strip())\n",
    "        \n",
    "        # Normalizamos Puntos 4,5,6,7 y 8\n",
    "        tw = ([word.lemma_ for word in tw if (not word.is_punct)\n",
    "               and (len(word.text) > 2) and (not word.is_stop)\n",
    "               and (not word.text.startswith('@'))\n",
    "               and (not word.text.startswith('http'))\n",
    "               and (not ':' in word.text)])\n",
    "        \n",
    "        # Eliminamos los tweets que tras la normalización tengan menos de \"min_words\" palabras\n",
    "        if len(tw) >= min_words:\n",
    "            tweets_list.append([tw, tweet[1]])\n",
    "    return tweets_list\n",
    "\n",
    "# Normalizamos las frases\n",
    "X_norm = normalize(tweets)"
   ]
  },
  {
   "cell_type": "markdown",
   "metadata": {},
   "source": [
    "#### <a name=\"Escritura\">Guardado de los tweets normalizados en un fichero binario</a>\n",
    "\n",
    "* Se guarda una lista de listas, donde en cada una de las listas se tiene:\n",
    "    - [0]: El Tweet normalizado\n",
    "    - [1]: La clase a la que pertenece el Tweet"
   ]
  },
  {
   "cell_type": "code",
   "execution_count": 6,
   "metadata": {},
   "outputs": [],
   "source": [
    "import pickle\n",
    "\n",
    "filename = './models/normalized_tweets_tokens.pickle'\n",
    "save_list = open(filename,\"wb\")\n",
    "pickle.dump(X_norm, save_list)\n",
    "save_list.close()\n"
   ]
  },
  {
   "cell_type": "markdown",
   "metadata": {},
   "source": [
    "#### <a name=\"Lectura\">Lectura de los tweets normalizados de un fichero binario</a>\n",
    "\n",
    "* Lectura de una lista con la siguiente estructura:\n",
    "    - [0]: El Tweet normalizado\n",
    "    - [1]: La clase a la que pertenece el Tweet"
   ]
  },
  {
   "cell_type": "code",
   "execution_count": 7,
   "metadata": {},
   "outputs": [],
   "source": [
    "import pickle\n",
    "\n",
    "filename = './models/normalized_tweets_tokens.pickle'\n",
    "X_norm = pickle.load(open(filename, 'rb'))\n"
   ]
  },
  {
   "cell_type": "markdown",
   "metadata": {},
   "source": [
    "<hr>\n",
    "\n",
    "\n",
    "## Particionado de Datos (Train y Test)\n",
    "\n",
    "* Dado que las temáticas de los tweets varian en función del tiempo (tienen caracter temporal), vamos a particionar los datos temporalmente.\n",
    "\n",
    "\n",
    "* Seleccionaremos como tweets de entrenamiento aquellos que se han escrito hasta una determinada fecha y como tweets de test los últimos tweets escritos.\n",
    "\n",
    "\n",
    "* Seleccionaremos un 2% de tweets de test, siendo estos los últimos tweets registrados en el dataset (los tweets están escritos de manera cronológica).\n",
    "\n",
    "\n",
    "* Por tanto nos vamos a quedar con:\n",
    "    - 98% de datos de entrenamiento\n",
    "    - 2% de datos de test"
   ]
  },
  {
   "cell_type": "code",
   "execution_count": 8,
   "metadata": {},
   "outputs": [
    {
     "name": "stdout",
     "output_type": "stream",
     "text": [
      "Corte en el tweet número 91012 de los 92869 tweets del Dataset.\n",
      "Tweets de entrenamiento: 91012\n",
      "Tweets de Test: 1857\n"
     ]
    }
   ],
   "source": [
    "# Divido los datos en dos listas \n",
    "#     X: los tweets\n",
    "#     y: target (polaridad)\n",
    "\n",
    "X = [doc[0] for doc in X_norm]\n",
    "y = np.array([doc[1] for doc in X_norm])\n",
    "\n",
    "# Particionamos los datos en Entrenamiento y Test\n",
    "\n",
    "PCT_TEST = 0.02\n",
    "n_tail = len(X) - int(len(X) * PCT_TEST)\n",
    "print('Corte en el tweet número {} de los {} tweets del Dataset.'.format(n_tail, len(X)))\n",
    "\n",
    "X_train = X[:n_tail]\n",
    "y_train = y[:n_tail]\n",
    "X_test = X[n_tail:]\n",
    "y_test = y[n_tail:]\n",
    "\n",
    "print('Tweets de entrenamiento: {}'.format(len(X_train)))\n",
    "print('Tweets de Test: {}'.format(len(X_test)))\n"
   ]
  },
  {
   "cell_type": "markdown",
   "metadata": {},
   "source": [
    "<hr>\n",
    "\n",
    "\n",
    "# Bolsa de palabras y codificación del target\n",
    "\n",
    "\n",
    "* Al igual que en el notebook *13_PoC_Tendencias_Politicas_Twitter_Generacion_Exportacion_Modelos.ipynb* vamos a trabajar con las 1500 palabras de mayor frecuencia del corpus.\n",
    "\n",
    "\n",
    "* Realizaremos una codificación del nombre del partido político utilizando la clase \"LabelEncoder()\" de scikit."
   ]
  },
  {
   "cell_type": "code",
   "execution_count": 9,
   "metadata": {
    "scrolled": true
   },
   "outputs": [],
   "source": [
    "from sklearn.preprocessing import LabelEncoder\n",
    "from tensorflow.keras.preprocessing.text import Tokenizer\n",
    "\n",
    "\n",
    "# Bolsa de Palabras\n",
    "max_words = 1500\n",
    "tokenizer = Tokenizer(num_words=max_words)\n",
    "tokenizer.fit_on_texts(X_train)\n",
    "X_matrix = tokenizer.texts_to_matrix(X_train, mode='count')\n",
    "X_matrix_test = tokenizer.texts_to_matrix(X_test, mode='count')\n",
    "\n",
    "# Codificación del Target\n",
    "encoder = LabelEncoder()\n",
    "encoder.fit(y_train)\n",
    "y_train = encoder.transform(y_train)\n",
    "y_test = encoder.transform(y_test)"
   ]
  },
  {
   "cell_type": "markdown",
   "metadata": {},
   "source": [
    "<hr>\n",
    "\n",
    "\n",
    "# Definición de la Red Neuronal\n",
    "\n",
    "\n",
    "\n",
    "* Para clasificar los tweets en alguna de las 4 tendencias políticas definidas, vamos a crear una red con la siguiente arquitectura:\n",
    "<span></span><br><br>\n",
    "    - ***Capa 1***: Capa de entrada con 1000 Neuronas (una por palabra del corpus)\n",
    "<span></span><br><br>\n",
    "    - ***Capa 2***: 20 Neuronas con una función de activación 'relu'\n",
    "<span></span><br><br>\n",
    "    - ***Capa 3***: 10 Neuronas con una función de activación 'relu'\n",
    "<span></span><br><br>\n",
    "    - ***Capa 4***: Capa de salida con 5 neurona (una por tendencia política) y una función de activación 'softmax' para que nos \"normalice la salida\"\n",
    "    \n",
    "    \n",
    "* Para las capas 2 y 3 vamos a poner un dropout del 20% para que nuestra red no se sobreajuste y generalize mejor\n",
    "\n",
    "\n",
    "* Por último vamos a compilar la red:\n",
    "<span></span><br><br>\n",
    "    - ***Función de perdida: 'categorical_crossentropy'*** (Funciones de Perdida: https://keras.io/losses/)\n",
    "<span></span><br><br>\n",
    "    - ***Optimizador: 'adam'*** (Optimizadores: https://keras.io/optimizers/)\n",
    "<span></span><br><br>\n",
    "    - Metricas: en cada epoch pediremos que nos muestre el accuracy."
   ]
  },
  {
   "cell_type": "code",
   "execution_count": 10,
   "metadata": {},
   "outputs": [],
   "source": [
    "# Se fuerza a usar la CPU y no la GPU en caso de tener GPU en el ordenador\n",
    "import os \n",
    "os.environ['CUDA_VISIBLE_DEVICES'] = '-1'"
   ]
  },
  {
   "cell_type": "code",
   "execution_count": 11,
   "metadata": {},
   "outputs": [],
   "source": [
    "import numpy as np\n",
    "from tensorflow.keras.models import Sequential\n",
    "from tensorflow.keras.layers import Dense, Dropout\n",
    "from tensorflow.keras import metrics\n",
    "\n",
    "np.random.seed(9)\n",
    "model = Sequential()\n",
    "model.add(Dense(20, activation='relu', input_dim=max_words))\n",
    "model.add(Dropout(0.1))\n",
    "model.add(Dense(10, activation='relu'))\n",
    "model.add(Dropout(0.1))\n",
    "model.add(Dense(5, activation='softmax'))\n",
    "model.compile(loss='sparse_categorical_crossentropy', optimizer='adam', metrics=['accuracy'])\n"
   ]
  },
  {
   "cell_type": "markdown",
   "metadata": {},
   "source": [
    "* Una vez creada la red mostramos su arquitectura:\n",
    "    - 1500 Neuronas de entrada\n",
    "    - Capa 2: 20 Neuronas\n",
    "    - Conexiones \"capa de entrada -> Capa 2\" = (1500*20) + 20 = 30020 Conexiones\n",
    "    - Capa 3: 10 Neuronas\n",
    "    - Conexiones \"Capa 2 -> Capa 3\" = (20*10) + 10 = 210 Conexiones\n",
    "    - Capa de salida: 4 Neuronas\n",
    "    - Conexiones \"Capa 3 -> Capa de salida\" = (10*5) + 5 = 55 Conexiones"
   ]
  },
  {
   "cell_type": "code",
   "execution_count": 12,
   "metadata": {},
   "outputs": [
    {
     "name": "stdout",
     "output_type": "stream",
     "text": [
      "Model: \"sequential\"\n",
      "_________________________________________________________________\n",
      "Layer (type)                 Output Shape              Param #   \n",
      "=================================================================\n",
      "dense (Dense)                (None, 20)                30020     \n",
      "_________________________________________________________________\n",
      "dropout (Dropout)            (None, 20)                0         \n",
      "_________________________________________________________________\n",
      "dense_1 (Dense)              (None, 10)                210       \n",
      "_________________________________________________________________\n",
      "dropout_1 (Dropout)          (None, 10)                0         \n",
      "_________________________________________________________________\n",
      "dense_2 (Dense)              (None, 5)                 55        \n",
      "=================================================================\n",
      "Total params: 30,285\n",
      "Trainable params: 30,285\n",
      "Non-trainable params: 0\n",
      "_________________________________________________________________\n"
     ]
    }
   ],
   "source": [
    "model.summary()"
   ]
  },
  {
   "cell_type": "markdown",
   "metadata": {},
   "source": [
    "<hr>\n",
    "\n",
    "\n",
    "# Entrenamiento de la Red Neuronal\n",
    "\n",
    "\n",
    "* Como lo que estamos haciendo es un ejemplo didáctico vamos a poner los siguientes valores:\n",
    "<span></span><br><br>\n",
    "    - *batch_size = 64* : Cada 64 tweets se calculan los nuevos pesos de la red\n",
    "<span></span><br><br>\n",
    "    - *epochs = 30*\n",
    "<span></span><br><br>\n",
    "    - *validation_data = Datos de Test*. Por cada epoch vamos a indicarle que realice una predicción con los datos de test y que vea su acierto.\n"
   ]
  },
  {
   "cell_type": "code",
   "execution_count": 13,
   "metadata": {
    "scrolled": false
   },
   "outputs": [
    {
     "name": "stdout",
     "output_type": "stream",
     "text": [
      "Epoch 1/30\n",
      "1423/1423 - 1s - loss: 1.2236 - accuracy: 0.4984 - val_loss: 1.1290 - val_accuracy: 0.5670\n",
      "Epoch 2/30\n",
      "1423/1423 - 1s - loss: 1.0681 - accuracy: 0.5707 - val_loss: 1.1083 - val_accuracy: 0.5611\n",
      "Epoch 3/30\n",
      "1423/1423 - 1s - loss: 1.0333 - accuracy: 0.5850 - val_loss: 1.1002 - val_accuracy: 0.5600\n",
      "Epoch 4/30\n",
      "1423/1423 - 1s - loss: 1.0079 - accuracy: 0.5959 - val_loss: 1.1086 - val_accuracy: 0.5654\n",
      "Epoch 5/30\n",
      "1423/1423 - 1s - loss: 0.9910 - accuracy: 0.6032 - val_loss: 1.1094 - val_accuracy: 0.5514\n",
      "Epoch 6/30\n",
      "1423/1423 - 1s - loss: 0.9774 - accuracy: 0.6085 - val_loss: 1.1113 - val_accuracy: 0.5590\n",
      "Epoch 7/30\n",
      "1423/1423 - 1s - loss: 0.9662 - accuracy: 0.6130 - val_loss: 1.1075 - val_accuracy: 0.5638\n",
      "Epoch 8/30\n",
      "1423/1423 - 1s - loss: 0.9530 - accuracy: 0.6215 - val_loss: 1.1167 - val_accuracy: 0.5660\n",
      "Epoch 9/30\n",
      "1423/1423 - 1s - loss: 0.9426 - accuracy: 0.6236 - val_loss: 1.1195 - val_accuracy: 0.5600\n",
      "Epoch 10/30\n",
      "1423/1423 - 1s - loss: 0.9362 - accuracy: 0.6283 - val_loss: 1.1204 - val_accuracy: 0.5433\n",
      "Epoch 11/30\n",
      "1423/1423 - 1s - loss: 0.9258 - accuracy: 0.6320 - val_loss: 1.1275 - val_accuracy: 0.5536\n",
      "Epoch 12/30\n",
      "1423/1423 - 1s - loss: 0.9216 - accuracy: 0.6353 - val_loss: 1.1329 - val_accuracy: 0.5590\n",
      "Epoch 13/30\n",
      "1423/1423 - 1s - loss: 0.9135 - accuracy: 0.6365 - val_loss: 1.1454 - val_accuracy: 0.5482\n",
      "Epoch 14/30\n",
      "1423/1423 - 1s - loss: 0.9076 - accuracy: 0.6394 - val_loss: 1.1401 - val_accuracy: 0.5660\n",
      "Epoch 15/30\n",
      "1423/1423 - 1s - loss: 0.9029 - accuracy: 0.6417 - val_loss: 1.1562 - val_accuracy: 0.5455\n",
      "Epoch 16/30\n",
      "1423/1423 - 1s - loss: 0.8969 - accuracy: 0.6426 - val_loss: 1.1668 - val_accuracy: 0.5396\n",
      "Epoch 17/30\n",
      "1423/1423 - 1s - loss: 0.8898 - accuracy: 0.6467 - val_loss: 1.1541 - val_accuracy: 0.5530\n",
      "Epoch 18/30\n",
      "1423/1423 - 1s - loss: 0.8888 - accuracy: 0.6486 - val_loss: 1.1584 - val_accuracy: 0.5455\n",
      "Epoch 19/30\n",
      "1423/1423 - 1s - loss: 0.8862 - accuracy: 0.6492 - val_loss: 1.1634 - val_accuracy: 0.5439\n",
      "Epoch 20/30\n",
      "1423/1423 - 1s - loss: 0.8796 - accuracy: 0.6506 - val_loss: 1.1646 - val_accuracy: 0.5390\n",
      "Epoch 21/30\n",
      "1423/1423 - 1s - loss: 0.8796 - accuracy: 0.6528 - val_loss: 1.1630 - val_accuracy: 0.5471\n",
      "Epoch 22/30\n",
      "1423/1423 - 1s - loss: 0.8757 - accuracy: 0.6532 - val_loss: 1.1750 - val_accuracy: 0.5482\n",
      "Epoch 23/30\n",
      "1423/1423 - 1s - loss: 0.8714 - accuracy: 0.6548 - val_loss: 1.1738 - val_accuracy: 0.5412\n",
      "Epoch 24/30\n",
      "1423/1423 - 1s - loss: 0.8694 - accuracy: 0.6557 - val_loss: 1.1823 - val_accuracy: 0.5380\n",
      "Epoch 25/30\n",
      "1423/1423 - 1s - loss: 0.8672 - accuracy: 0.6566 - val_loss: 1.1845 - val_accuracy: 0.5407\n",
      "Epoch 26/30\n",
      "1423/1423 - 1s - loss: 0.8639 - accuracy: 0.6581 - val_loss: 1.1836 - val_accuracy: 0.5509\n",
      "Epoch 27/30\n",
      "1423/1423 - 1s - loss: 0.8630 - accuracy: 0.6589 - val_loss: 1.1854 - val_accuracy: 0.5450\n",
      "Epoch 28/30\n",
      "1423/1423 - 1s - loss: 0.8606 - accuracy: 0.6594 - val_loss: 1.1866 - val_accuracy: 0.5417\n",
      "Epoch 29/30\n",
      "1423/1423 - 1s - loss: 0.8564 - accuracy: 0.6623 - val_loss: 1.1882 - val_accuracy: 0.5530\n",
      "Epoch 30/30\n",
      "1423/1423 - 1s - loss: 0.8545 - accuracy: 0.6614 - val_loss: 1.2032 - val_accuracy: 0.5433\n"
     ]
    }
   ],
   "source": [
    "\n",
    "history = model.fit(X_matrix, y_train, batch_size=64, epochs=30, verbose=2, validation_data=(X_matrix_test, y_test))\n"
   ]
  },
  {
   "cell_type": "markdown",
   "metadata": {},
   "source": [
    "* Pintamos como evoluciona la función de perdida y el Accuracy por epoch tanto en entrenamiento como en test."
   ]
  },
  {
   "cell_type": "code",
   "execution_count": 14,
   "metadata": {},
   "outputs": [],
   "source": [
    "import matplotlib.pyplot as plt\n",
    "%matplotlib inline\n",
    "\n",
    "# Pintamos las métricas por epoch\n",
    "def plot_metric(history, name, remove_first=0):\n",
    "    metric_train = np.array(history.history[name])[remove_first:]\n",
    "    metric_test = np.array(history.history['val_{}'.format(name)])[remove_first:]\n",
    "    acum_avg_metric_train = (np.cumsum(metric_train) / (np.arange(metric_train.shape[-1]) + 1))[remove_first:]\n",
    "    acum_avg_metric_test = (np.cumsum(metric_test) / (np.arange(metric_test.shape[-1]) + 1))[remove_first:]\n",
    "    plt.figure(figsize=(20, 8))\n",
    "    plt.subplot(1, 2, 1)\n",
    "    plt.title('{} - Epochs'.format(name))\n",
    "    plt.plot(metric_train, label='{} Train'.format(name))\n",
    "    plt.plot(metric_test, label='{} Test'.format(name))\n",
    "    plt.grid()\n",
    "    plt.legend(loc='upper center')\n",
    "    plt.subplot(1, 2, 2)\n",
    "    plt.title('AVG ACCUMULATIVE {} - Epochs'.format(name))\n",
    "    plt.plot(acum_avg_metric_train, label='{} Train'.format(name))\n",
    "    plt.plot(acum_avg_metric_test, label='{} Test'.format(name))\n",
    "    plt.grid()\n",
    "    plt.legend(loc='upper center')\n",
    "    plt.show()"
   ]
  },
  {
   "cell_type": "code",
   "execution_count": 15,
   "metadata": {},
   "outputs": [
    {
     "data": {
      "image/png": "[encoded data removed]",
      "text/plain": [
       "<Figure size 1440x576 with 2 Axes>"
      ]
     },
     "metadata": {
      "needs_background": "light"
     },
     "output_type": "display_data"
    }
   ],
   "source": [
    "# Función de perdida\n",
    "plot_metric(history=history, name='loss')"
   ]
  },
  {
   "cell_type": "code",
   "execution_count": 16,
   "metadata": {},
   "outputs": [
    {
     "data": {
      "image/png": "[encoded data removed]",
      "text/plain": [
       "<Figure size 1440x576 with 2 Axes>"
      ]
     },
     "metadata": {
      "needs_background": "light"
     },
     "output_type": "display_data"
    }
   ],
   "source": [
    "# Accuracy\n",
    "plot_metric(history=history, name='accuracy')"
   ]
  },
  {
   "cell_type": "markdown",
   "metadata": {},
   "source": [
    "<hr>\n",
    "\n",
    "\n",
    "# Evaluamos el modelo\n",
    "\n",
    "* Pasamos a evaluar el modelo, calculando las siguientes métricas de evaluación:\n",
    "\n",
    "    1. **Accuracy**\n",
    "    2. **Precision**\n",
    "    3. **Recall**\n",
    "    4. **F1**"
   ]
  },
  {
   "cell_type": "code",
   "execution_count": 17,
   "metadata": {},
   "outputs": [
    {
     "name": "stdout",
     "output_type": "stream",
     "text": [
      "WARNING:tensorflow:From <ipython-input-17-9835224b931a>:4: Sequential.predict_classes (from tensorflow.python.keras.engine.sequential) is deprecated and will be removed after 2021-01-01.\n",
      "Instructions for updating:\n",
      "Please use instead:* `np.argmax(model.predict(x), axis=-1)`,   if your model does multi-class classification   (e.g. if it uses a `softmax` last-layer activation).* `(model.predict(x) > 0.5).astype(\"int32\")`,   if your model does binary classification   (e.g. if it uses a `sigmoid` last-layer activation).\n",
      "Accuracy: 0.5433\n",
      "F1: 0.5465\n",
      "Precision: 0.5584\n",
      "Recall: 0.5433\n",
      "              precision    recall  f1-score   support\n",
      "\n",
      "  ciudadanos       0.41      0.51      0.45       234\n",
      "     podemos       0.51      0.61      0.55       312\n",
      "          pp       0.60      0.49      0.54       518\n",
      "        psoe       0.47      0.53      0.50       324\n",
      "         vox       0.68      0.58      0.63       469\n",
      "\n",
      "    accuracy                           0.54      1857\n",
      "   macro avg       0.53      0.54      0.53      1857\n",
      "weighted avg       0.56      0.54      0.55      1857\n",
      "\n"
     ]
    }
   ],
   "source": [
    "from sklearn.metrics import accuracy_score, f1_score, precision_score, recall_score, confusion_matrix, classification_report\n",
    "\n",
    "y_true = encoder.inverse_transform(y_test.reshape(-1))\n",
    "y_pred = model.predict_classes(X_matrix_test)\n",
    "y_pred = encoder.inverse_transform(y_pred.reshape(-1))\n",
    "\n",
    "print('Accuracy: {acc:0.4f}'.format(acc=accuracy_score(y_true=y_true, y_pred=y_pred)))\n",
    "print('F1: {f1:0.4f}'.format(f1=f1_score(y_true=y_true, y_pred=y_pred, average='weighted')))\n",
    "print('Precision: {pre:0.4f}'.format(pre=precision_score(y_true=y_true, y_pred=y_pred, average='weighted')))\n",
    "print('Recall: {rec:0.4f}'.format(rec=recall_score(y_true=y_true, y_pred=y_pred, average='weighted')))\n",
    "print(classification_report(y_true=y_true, y_pred=y_pred))\n",
    "labels = ['psoe', 'pp', 'vox', 'podemos', 'ciudadanos']\n",
    "confusion_matrix_test = confusion_matrix(y_true=y_true,\n",
    "                                         y_pred=y_pred,\n",
    "                                         labels=labels)\n",
    "confusion_matrix_train = confusion_matrix(y_true=encoder.inverse_transform(y_train.reshape(-1)), \n",
    "                                          y_pred=encoder.inverse_transform(model.predict_classes(X_matrix)), \n",
    "                                          labels=labels)\n"
   ]
  },
  {
   "cell_type": "code",
   "execution_count": 18,
   "metadata": {},
   "outputs": [
    {
     "data": {
      "image/png": "[encoded data removed]",
      "text/plain": [
       "<Figure size 1152x432 with 4 Axes>"
      ]
     },
     "metadata": {
      "needs_background": "light"
     },
     "output_type": "display_data"
    }
   ],
   "source": [
    "import numpy as np\n",
    "import matplotlib.pyplot as plt\n",
    "import itertools\n",
    "%matplotlib inline\n",
    "\n",
    "def plot_confusion_matrix(cm, classes, title, cmap=plt.cm.Blues):\n",
    "    \"\"\"\n",
    "    This function prints and plots the confusion matrix.\n",
    "    \"\"\"\n",
    "    plt.imshow(cm, interpolation='nearest', cmap=cmap)\n",
    "    plt.title(title)\n",
    "    plt.colorbar()\n",
    "    tick_marks = np.arange(len(classes))\n",
    "    plt.xticks(tick_marks, classes, rotation=45)\n",
    "    plt.yticks(tick_marks, classes)\n",
    "\n",
    "    thresh = cm.max() / 2.\n",
    "    for i, j in itertools.product(range(cm.shape[0]), range(cm.shape[1])):\n",
    "        plt.text(j, i, format(cm[i, j], 'd'), horizontalalignment=\"center\",\n",
    "                 color=\"white\" if cm[i, j] > thresh else \"black\")\n",
    "\n",
    "    plt.tight_layout()\n",
    "    plt.ylabel('True label')\n",
    "    plt.xlabel('Predicted label')\n",
    "\n",
    "\n",
    "# Pintamos las matrices de confusión\n",
    "plt.figure(figsize=(16, 6))\n",
    "plt.subplot(1, 2, 1)\n",
    "plot_confusion_matrix(confusion_matrix_train, classes=labels, title='Matriz de Confusión Datos Entrenamiento')\n",
    "plt.subplot(1, 2, 2)\n",
    "plot_confusion_matrix(confusion_matrix_test, classes=labels, title='Matriz de Confusión  Datos Test')\n",
    "plt.show()"
   ]
  }
 ],
 "metadata": {
  "kernelspec": {
   "display_name": "Python 3",
   "language": "python",
   "name": "python3"
  },
  "language_info": {
   "codemirror_mode": {
    "name": "ipython",
    "version": 3
   },
   "file_extension": ".py",
   "mimetype": "text/x-python",
   "name": "python",
   "nbconvert_exporter": "python",
   "pygments_lexer": "ipython3",
   "version": "3.7.10"
  }
 },
 "nbformat": 4,
 "nbformat_minor": 2
}
