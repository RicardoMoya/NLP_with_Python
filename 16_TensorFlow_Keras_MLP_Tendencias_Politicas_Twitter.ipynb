{
 "cells": [
  {
   "cell_type": "markdown",
   "metadata": {},
   "source": [
    "# 16 - TensorFlow - Keras: Clasificación de tendencias politicas en tweets (Perceptrón Multicapa)\n",
    "\n",
    "* En este notebook vamos a clasificar una serie de tweets etiquetados por un partido político (psoe, pp, vox, podemos y ciudadanos) que corresponden a la tendencia politica de la cuenta que publicó ese tweet,\n",
    "\n",
    "\n",
    "* El ejercicio que vamos a realizar a continuación es muy similar al realizado en el notebook *13_PoC_Tendencias_Politicas_Twitter_Generacion_Exportacion_Modelos.ipynb* y se pueden comparar los resultados que vamos a obtener con la Red Neuronal respecto a los obtenidos con los modelos generados por los algoritmos de clasificación vistos.\n",
    "\n",
    "\n",
    "* Los pasos que vamos a dar son los siguientes:\n",
    "\n",
    "    1. Cargar los datos\n",
    "    2. Normalizar los tweets (igual que en el notebook *13_PoC_Tendencias_Politicas_Twitter_Generacion_Exportacion_Modelos.ipynb*)\n",
    "    3. Particionado de datos (Train y Test)\n",
    "    4. Bolsa de palabras y codificación del target\n",
    "    5. Definición de la Red Neuronal\n",
    "    6. Entrenamiento de la Red Neuronal\n",
    "    7. Evaluación del modelo"
   ]
  },
  {
   "cell_type": "markdown",
   "metadata": {},
   "source": [
    "<hr>\n",
    "\n",
    "\n",
    "## Carga de Datos\n",
    "\n",
    "\n",
    "* El fichero que contiene los tweets lo podemos leer como un '*csv*' con pandas pasandole como separador '***::::***'.\n",
    "\n",
    "\n",
    "* Este fichero esta estructurado de la siguiente manera\n",
    "    - **Cuenta**: Cuenta de twitter\n",
    "    - **Partido**: Partido político al que pertenece (ciudadanos, podemos, pp, psoe)\n",
    "    - **Timestamp**: Instante en el que se publicó el tweet\n",
    "    - **Tweet**: Tweet.\n",
    "    \n",
    "    \n",
    "* Leemos los datos y filtramos los tweets; quedamos con los tweets a partir de una fecha dada."
   ]
  },
  {
   "cell_type": "code",
   "execution_count": 1,
   "metadata": {},
   "outputs": [
    {
     "name": "stdout",
     "output_type": "stream",
     "text": [
      "Número de Tweets Cargados: 144861\n",
      "Número de Tweets a procesar: 52158\n"
     ]
    },
    {
     "data": {
      "text/html": [
       "<div>\n",
       "<style scoped>\n",
       "    .dataframe tbody tr th:only-of-type {\n",
       "        vertical-align: middle;\n",
       "    }\n",
       "\n",
       "    .dataframe tbody tr th {\n",
       "        vertical-align: top;\n",
       "    }\n",
       "\n",
       "    .dataframe thead th {\n",
       "        text-align: right;\n",
       "    }\n",
       "</style>\n",
       "<table border=\"1\" class=\"dataframe\">\n",
       "  <thead>\n",
       "    <tr style=\"text-align: right;\">\n",
       "      <th></th>\n",
       "      <th>cuenta</th>\n",
       "      <th>partido</th>\n",
       "      <th>timestamp</th>\n",
       "      <th>tweet</th>\n",
       "    </tr>\n",
       "  </thead>\n",
       "  <tbody>\n",
       "    <tr>\n",
       "      <th>129646</th>\n",
       "      <td>populares</td>\n",
       "      <td>pp</td>\n",
       "      <td>1,633,191,486.00</td>\n",
       "      <td>“En Cantabria llevamos demasiado tiempo sufrie...</td>\n",
       "    </tr>\n",
       "    <tr>\n",
       "      <th>136824</th>\n",
       "      <td>Santi_ABASCAL</td>\n",
       "      <td>vox</td>\n",
       "      <td>1,635,240,254.00</td>\n",
       "      <td>El @ForodeSaoPaulo lleva años interfiriendo en...</td>\n",
       "    </tr>\n",
       "    <tr>\n",
       "      <th>120392</th>\n",
       "      <td>MiguelUrban</td>\n",
       "      <td>podemos</td>\n",
       "      <td>1,630,480,051.00</td>\n",
       "      <td>Aquí el comunicado en inglés del #HomeAffairs ...</td>\n",
       "    </tr>\n",
       "    <tr>\n",
       "      <th>131434</th>\n",
       "      <td>Jorgebuxade</td>\n",
       "      <td>vox</td>\n",
       "      <td>1,633,636,505.00</td>\n",
       "      <td>🧶Verdades irrefutables contra el consenso prog...</td>\n",
       "    </tr>\n",
       "    <tr>\n",
       "      <th>140834</th>\n",
       "      <td>IdiazAyuso</td>\n",
       "      <td>pp</td>\n",
       "      <td>1,636,707,448.00</td>\n",
       "      <td>Sánchez continúa su farsa de recuperación mien...</td>\n",
       "    </tr>\n",
       "    <tr>\n",
       "      <th>109686</th>\n",
       "      <td>eledhmel</td>\n",
       "      <td>vox</td>\n",
       "      <td>1,624,468,700.00</td>\n",
       "      <td>@Flamencatrona_I @LadyMagnificus Si me llamas ...</td>\n",
       "    </tr>\n",
       "    <tr>\n",
       "      <th>140701</th>\n",
       "      <td>PSOE</td>\n",
       "      <td>psoe</td>\n",
       "      <td>1,636,713,703.00</td>\n",
       "      <td>El Gobierno está cumpliendo en materia de pens...</td>\n",
       "    </tr>\n",
       "    <tr>\n",
       "      <th>123296</th>\n",
       "      <td>hermanntertsch</td>\n",
       "      <td>vox</td>\n",
       "      <td>1,631,857,426.00</td>\n",
       "      <td>Sabiniano, Conrado y Enrique Gómez, los tres h...</td>\n",
       "    </tr>\n",
       "    <tr>\n",
       "      <th>135310</th>\n",
       "      <td>_JuanEspadas</td>\n",
       "      <td>psoe</td>\n",
       "      <td>1,634,752,004.00</td>\n",
       "      <td>40 años después, mi reconocimiento y gratitud ...</td>\n",
       "    </tr>\n",
       "    <tr>\n",
       "      <th>107055</th>\n",
       "      <td>PSOE</td>\n",
       "      <td>psoe</td>\n",
       "      <td>1,623,688,473.00</td>\n",
       "      <td>Casado no ha roto con el pasado CORRUPTO del P...</td>\n",
       "    </tr>\n",
       "  </tbody>\n",
       "</table>\n",
       "</div>"
      ],
      "text/plain": [
       "                cuenta  partido        timestamp  \\\n",
       "129646       populares       pp 1,633,191,486.00   \n",
       "136824   Santi_ABASCAL      vox 1,635,240,254.00   \n",
       "120392     MiguelUrban  podemos 1,630,480,051.00   \n",
       "131434     Jorgebuxade      vox 1,633,636,505.00   \n",
       "140834      IdiazAyuso       pp 1,636,707,448.00   \n",
       "109686        eledhmel      vox 1,624,468,700.00   \n",
       "140701            PSOE     psoe 1,636,713,703.00   \n",
       "123296  hermanntertsch      vox 1,631,857,426.00   \n",
       "135310    _JuanEspadas     psoe 1,634,752,004.00   \n",
       "107055            PSOE     psoe 1,623,688,473.00   \n",
       "\n",
       "                                                    tweet  \n",
       "129646  “En Cantabria llevamos demasiado tiempo sufrie...  \n",
       "136824  El @ForodeSaoPaulo lleva años interfiriendo en...  \n",
       "120392  Aquí el comunicado en inglés del #HomeAffairs ...  \n",
       "131434  🧶Verdades irrefutables contra el consenso prog...  \n",
       "140834  Sánchez continúa su farsa de recuperación mien...  \n",
       "109686  @Flamencatrona_I @LadyMagnificus Si me llamas ...  \n",
       "140701  El Gobierno está cumpliendo en materia de pens...  \n",
       "123296  Sabiniano, Conrado y Enrique Gómez, los tres h...  \n",
       "135310  40 años después, mi reconocimiento y gratitud ...  \n",
       "107055  Casado no ha roto con el pasado CORRUPTO del P...  "
      ]
     },
     "execution_count": 1,
     "metadata": {},
     "output_type": "execute_result"
    }
   ],
   "source": [
    "import datetime\n",
    "import numpy as np\n",
    "import time\n",
    "import pandas as pd\n",
    "pd.options.display.float_format = '{:,.2f}'.format\n",
    "\n",
    "# Leemos el fichero y lo pasamos a un DataFrame\n",
    "TWEETS_FILE = './data/tweets_politica.csv'\n",
    "df = pd.read_csv(TWEETS_FILE, sep='::::', engine='python')\n",
    "\n",
    "# Eliminamos los tweets que tengan algún valor a nulo\n",
    "df = df.dropna()\n",
    "print('Número de Tweets Cargados: {num}'.format(num=df.shape[0]))\n",
    "\n",
    "# Los ordenamos por fecha\n",
    "df = df.sort_values(by='timestamp')\n",
    "\n",
    "# Filtramos los tweets a partir de una fecha\n",
    "DATE = \"01/04/2021\"\n",
    "timestamp = time.mktime(datetime.datetime.strptime(DATE, \"%d/%m/%Y\").timetuple())\n",
    "df = df[df.timestamp >= timestamp]\n",
    "\n",
    "# Mostramos un sample y el número de tweets a procesar\n",
    "print('Número de Tweets a procesar: {num}'.format(num=df.shape[0]))\n",
    "df.sample(10)"
   ]
  },
  {
   "cell_type": "markdown",
   "metadata": {},
   "source": [
    "* Tweets publicados por partido político"
   ]
  },
  {
   "cell_type": "code",
   "execution_count": 2,
   "metadata": {
    "scrolled": true
   },
   "outputs": [
    {
     "data": {
      "text/html": [
       "<div>\n",
       "<style scoped>\n",
       "    .dataframe tbody tr th:only-of-type {\n",
       "        vertical-align: middle;\n",
       "    }\n",
       "\n",
       "    .dataframe tbody tr th {\n",
       "        vertical-align: top;\n",
       "    }\n",
       "\n",
       "    .dataframe thead th {\n",
       "        text-align: right;\n",
       "    }\n",
       "</style>\n",
       "<table border=\"1\" class=\"dataframe\">\n",
       "  <thead>\n",
       "    <tr style=\"text-align: right;\">\n",
       "      <th></th>\n",
       "      <th>partido</th>\n",
       "      <th>tweet</th>\n",
       "      <th>PCT</th>\n",
       "    </tr>\n",
       "  </thead>\n",
       "  <tbody>\n",
       "    <tr>\n",
       "      <th>4</th>\n",
       "      <td>vox</td>\n",
       "      <td>13300</td>\n",
       "      <td>25.50</td>\n",
       "    </tr>\n",
       "    <tr>\n",
       "      <th>2</th>\n",
       "      <td>pp</td>\n",
       "      <td>10779</td>\n",
       "      <td>20.67</td>\n",
       "    </tr>\n",
       "    <tr>\n",
       "      <th>3</th>\n",
       "      <td>psoe</td>\n",
       "      <td>10637</td>\n",
       "      <td>20.39</td>\n",
       "    </tr>\n",
       "    <tr>\n",
       "      <th>1</th>\n",
       "      <td>podemos</td>\n",
       "      <td>9671</td>\n",
       "      <td>18.54</td>\n",
       "    </tr>\n",
       "    <tr>\n",
       "      <th>0</th>\n",
       "      <td>ciudadanos</td>\n",
       "      <td>7771</td>\n",
       "      <td>14.90</td>\n",
       "    </tr>\n",
       "  </tbody>\n",
       "</table>\n",
       "</div>"
      ],
      "text/plain": [
       "      partido  tweet   PCT\n",
       "4         vox  13300 25.50\n",
       "2          pp  10779 20.67\n",
       "3        psoe  10637 20.39\n",
       "1     podemos   9671 18.54\n",
       "0  ciudadanos   7771 14.90"
      ]
     },
     "execution_count": 2,
     "metadata": {},
     "output_type": "execute_result"
    }
   ],
   "source": [
    "df_count = df.groupby('partido')['tweet'].count().reset_index().sort_values(by='tweet', ascending=False)\n",
    "df_count['PCT'] = (df_count['tweet'] / df_count['tweet'].sum())*100\n",
    "df_count"
   ]
  },
  {
   "cell_type": "markdown",
   "metadata": {},
   "source": [
    "* Nos quedamos solo con el nombre del partido y el tweet"
   ]
  },
  {
   "cell_type": "code",
   "execution_count": 3,
   "metadata": {},
   "outputs": [
    {
     "name": "stdout",
     "output_type": "stream",
     "text": [
      "Número de Tweets Cargados: 52158\n"
     ]
    }
   ],
   "source": [
    "tweets = [list(x) for x in df[['tweet', 'partido']].values]\n",
    "print('Número de Tweets Cargados: {num}'.format(num=len(tweets)))"
   ]
  },
  {
   "cell_type": "markdown",
   "metadata": {},
   "source": [
    "<hr>\n",
    "\n",
    "\n",
    "## Normalización\n",
    "\n",
    "* Utilizamos ***spaCy*** para la tokenización y normalización.\n",
    "\n",
    "\n",
    "* Tras realizar un análisis del contenido de los tweets pasamos a realizar las siguientes acciones para ***normalizar*** los tweets:\n",
    "    1. Pasamos las frases a minúsculas.\n",
    "    2. Sustituimos los puntos por espacios ya que hay muchas palabras unidas por un punto\n",
    "    3. Quitamos la almuhadilla de los hashtags para considerarlos como palabras.\n",
    "    4. Eliminamos los signos de puntuación.\n",
    "    5. Eliminamos las palabras con menos de 3 caracteres.\n",
    "    6. Eliminamos las Stop-Words.\n",
    "    7. Eliminamos los enlaces(http) y las menciones (@)\n",
    "    8. Pasamos la palabra a su lema\n",
    "\n",
    "\n",
    "* Todos estos pasos los vamos a realizar en una misma función.\n",
    "\n",
    "\n",
    "* Descartaremos aquellos tweets que tras ser normalizados no tengan por lo menos 3 palabras.\n",
    "\n",
    "\n",
    "* ***NOTA***: Se pueden realizar más acciones de normalización que las realizadas, como tratamiento de emoticonos, tratamiento especial de referencia a cuentas, hashtags, etc. Al tratarse de un ejemplo didáctica se ha realizado una normalización '*sencilla*'.\n",
    "\n",
    "\n",
    "#### CUIDADO - IMPORTANTE:\n",
    "\n",
    "* Dado que los procesos de normalización de textos son muy pesados y tardan mucho, se ha implementado despues de la normalización de los tweets, un proceso de guardado de los tweets ya normalizados. Por tanto:\n",
    "    - Si es la primera vez que se ejecuta este notebook, se puede ejecutar completo sabiendo que se guardarán en un fichero binario los tweets normalizados. Este guardado se realiza [AQUI](#Escritura).\n",
    "    - En caso de haberse ejecutado el proceso de normalización de tweets y haberse guardado este en un fichero binario, no será necesario ejecutar las dos siguientes celdas de código y bastaría con ejecutar la celda de código que lee el fichero binario con los tweets normalizados. Esto se hace en la siguiente [CELDA](#Lectura).\n"
   ]
  },
  {
   "cell_type": "code",
   "execution_count": 4,
   "metadata": {},
   "outputs": [
    {
     "name": "stderr",
     "output_type": "stream",
     "text": [
      "100%|█████████████████████████████████████████████████████████████████████████████████████████████████████████████████████████████████████████████████████████████████| 52158/52158 [06:03<00:00, 143.35it/s]\n"
     ]
    }
   ],
   "source": [
    "import spacy\n",
    "\n",
    "from tqdm import tqdm\n",
    "\n",
    "nlp = spacy.load('es_core_news_sm')\n",
    "\n",
    "def normalize(tweets, min_words=5):\n",
    "    \"\"\"\n",
    "    Función que dada una lista de tweets ([tweet, clase]), normaliza los tweets y devuelve una lista\n",
    "    con los tweets normalizados, descartando aquellos tweets que tras la normalización tengan menos de\n",
    "    \"min_words\" palabras en el tweet.\n",
    "    \n",
    "    :param tweets:       Lista de Tweets ([tweet, clase]) con el tweet y la clase a la que pertenece\n",
    "    :param min_words:    Número minimo de palabras que tiene que tener un tweet tras la normalización\n",
    "    :return:             Lista de Tweets ([tweet, clase]) normalizados\n",
    "    \"\"\"\n",
    "    tweets_list = []\n",
    "    for tweet in tqdm(tweets):\n",
    "        # Tokenizamos el tweets realizando los puntos 1,2 y 3.\n",
    "        tw = nlp(tweet[0].lower().replace('.', ' ').replace('#', ' ').strip())\n",
    "        \n",
    "        # Normalizamos Puntos 4,5,6,7 y 8\n",
    "        tw = ([word.lemma_ for word in tw if (not word.is_punct)\n",
    "               and (len(word.text) > 2) and (not word.is_stop)\n",
    "               and (not word.text.startswith('@'))\n",
    "               and (not word.text.startswith('http'))\n",
    "               and (not ':' in word.text)])\n",
    "        \n",
    "        # Eliminamos los tweets que tras la normalización tengan menos de \"min_words\" palabras\n",
    "        if len(tw) >= min_words:\n",
    "            tweets_list.append([tw, tweet[1]])\n",
    "    return tweets_list\n",
    "\n",
    "# Normalizamos las frases\n",
    "X_norm = normalize(tweets)"
   ]
  },
  {
   "cell_type": "markdown",
   "metadata": {},
   "source": [
    "#### <a name=\"Escritura\">Guardado de los tweets normalizados en un fichero binario</a>\n",
    "\n",
    "* Se guarda una lista de listas, donde en cada una de las listas se tiene:\n",
    "    - [0]: El Tweet normalizado\n",
    "    - [1]: La clase a la que pertenece el Tweet"
   ]
  },
  {
   "cell_type": "code",
   "execution_count": 5,
   "metadata": {},
   "outputs": [],
   "source": [
    "import pickle\n",
    "\n",
    "filename = './models/normalized_tweets_tokens.pickle'\n",
    "save_list = open(filename,\"wb\")\n",
    "pickle.dump(X_norm, save_list)\n",
    "save_list.close()\n"
   ]
  },
  {
   "cell_type": "markdown",
   "metadata": {},
   "source": [
    "#### <a name=\"Lectura\">Lectura de los tweets normalizados de un fichero binario</a>\n",
    "\n",
    "* Lectura de una lista con la siguiente estructura:\n",
    "    - [0]: El Tweet normalizado\n",
    "    - [1]: La clase a la que pertenece el Tweet"
   ]
  },
  {
   "cell_type": "code",
   "execution_count": 6,
   "metadata": {},
   "outputs": [],
   "source": [
    "import pickle\n",
    "\n",
    "filename = './models/normalized_tweets_tokens.pickle'\n",
    "X_norm = pickle.load(open(filename, 'rb'))\n"
   ]
  },
  {
   "cell_type": "markdown",
   "metadata": {},
   "source": [
    "<hr>\n",
    "\n",
    "\n",
    "## Particionado de Datos (Train y Test)\n",
    "\n",
    "* Dado que las temáticas de los tweets varian en función del tiempo (tienen caracter temporal), vamos a particionar los datos temporalmente.\n",
    "\n",
    "\n",
    "* Seleccionaremos como tweets de entrenamiento aquellos que se han escrito hasta una determinada fecha y como tweets de test los últimos tweets escritos.\n",
    "\n",
    "\n",
    "* Seleccionaremos un 2% de tweets de test, siendo estos los últimos tweets registrados en el dataset (los tweets están escritos de manera cronológica).\n",
    "\n",
    "\n",
    "* Por tanto nos vamos a quedar con:\n",
    "    - 98% de datos de entrenamiento\n",
    "    - 2% de datos de test"
   ]
  },
  {
   "cell_type": "code",
   "execution_count": 7,
   "metadata": {},
   "outputs": [
    {
     "name": "stdout",
     "output_type": "stream",
     "text": [
      "Corte en el tweet número 45246 de los 46169 tweets del Dataset.\n",
      "Tweets de entrenamiento: 45246\n",
      "Tweets de Test: 923\n"
     ]
    }
   ],
   "source": [
    "# Divido los datos en dos listas \n",
    "#     X: los tweets\n",
    "#     y: target (polaridad)\n",
    "\n",
    "X = [doc[0] for doc in X_norm]\n",
    "y = np.array([doc[1] for doc in X_norm])\n",
    "\n",
    "# Particionamos los datos en Entrenamiento y Test\n",
    "\n",
    "PCT_TEST = 0.02\n",
    "n_tail = len(X) - int(len(X) * PCT_TEST)\n",
    "print('Corte en el tweet número {} de los {} tweets del Dataset.'.format(n_tail, len(X)))\n",
    "\n",
    "X_train = X[:n_tail]\n",
    "y_train = y[:n_tail]\n",
    "X_test = X[n_tail:]\n",
    "y_test = y[n_tail:]\n",
    "\n",
    "print('Tweets de entrenamiento: {}'.format(len(X_train)))\n",
    "print('Tweets de Test: {}'.format(len(X_test)))\n"
   ]
  },
  {
   "cell_type": "markdown",
   "metadata": {},
   "source": [
    "<hr>\n",
    "\n",
    "\n",
    "# Bolsa de palabras y codificación del target\n",
    "\n",
    "\n",
    "* Al igual que en el notebook *13_PoC_Tendencias_Politicas_Twitter_Generacion_Exportacion_Modelos.ipynb* vamos a trabajar con las 1500 palabras de mayor frecuencia del corpus.\n",
    "\n",
    "\n",
    "* Realizaremos una codificación del nombre del partido político utilizando la clase \"LabelEncoder()\" de scikit."
   ]
  },
  {
   "cell_type": "code",
   "execution_count": 8,
   "metadata": {
    "scrolled": true
   },
   "outputs": [],
   "source": [
    "from sklearn.preprocessing import LabelEncoder\n",
    "from tensorflow.keras.preprocessing.text import Tokenizer\n",
    "\n",
    "\n",
    "# Bolsa de Palabras\n",
    "max_words = 1500\n",
    "tokenizer = Tokenizer(num_words=max_words)\n",
    "tokenizer.fit_on_texts(X_train)\n",
    "X_matrix = tokenizer.texts_to_matrix(X_train, mode='count')\n",
    "X_matrix_test = tokenizer.texts_to_matrix(X_test, mode='count')\n",
    "\n",
    "# Codificación del Target\n",
    "encoder = LabelEncoder()\n",
    "encoder.fit(y_train)\n",
    "y_train = encoder.transform(y_train)\n",
    "y_test = encoder.transform(y_test)"
   ]
  },
  {
   "cell_type": "markdown",
   "metadata": {},
   "source": [
    "<hr>\n",
    "\n",
    "\n",
    "# Definición de la Red Neuronal\n",
    "\n",
    "\n",
    "\n",
    "* Para clasificar los tweets en alguna de las 4 tendencias políticas definidas, vamos a crear una red con la siguiente arquitectura:\n",
    "<span></span><br><br>\n",
    "    - ***Capa 1***: Capa de entrada con 1000 Neuronas (una por palabra del corpus)\n",
    "<span></span><br><br>\n",
    "    - ***Capa 2***: 20 Neuronas con una función de activación 'relu'\n",
    "<span></span><br><br>\n",
    "    - ***Capa 3***: 10 Neuronas con una función de activación 'relu'\n",
    "<span></span><br><br>\n",
    "    - ***Capa 4***: Capa de salida con 5 neurona (una por tendencia política) y una función de activación 'softmax' para que nos \"normalice la salida\"\n",
    "    \n",
    "    \n",
    "* Para las capas 2 y 3 vamos a poner un dropout del 20% para que nuestra red no se sobreajuste y generalize mejor\n",
    "\n",
    "\n",
    "* Por último vamos a compilar la red:\n",
    "<span></span><br><br>\n",
    "    - ***Función de perdida: 'categorical_crossentropy'*** (Funciones de Perdida: https://keras.io/losses/)\n",
    "<span></span><br><br>\n",
    "    - ***Optimizador: 'adam'*** (Optimizadores: https://keras.io/optimizers/)\n",
    "<span></span><br><br>\n",
    "    - Metricas: en cada epoch pediremos que nos muestre el accuracy."
   ]
  },
  {
   "cell_type": "code",
   "execution_count": 9,
   "metadata": {},
   "outputs": [],
   "source": [
    "# Se fuerza a usar la CPU y no la GPU en caso de tener GPU en el ordenador\n",
    "import os \n",
    "os.environ['CUDA_VISIBLE_DEVICES'] = '-1'"
   ]
  },
  {
   "cell_type": "code",
   "execution_count": 10,
   "metadata": {},
   "outputs": [],
   "source": [
    "import numpy as np\n",
    "from tensorflow.keras.models import Sequential\n",
    "from tensorflow.keras.layers import Dense, Dropout\n",
    "from tensorflow.keras import metrics\n",
    "\n",
    "np.random.seed(9)\n",
    "model = Sequential()\n",
    "model.add(Dense(20, activation='relu', input_dim=max_words))\n",
    "model.add(Dropout(0.1))\n",
    "model.add(Dense(10, activation='relu'))\n",
    "model.add(Dropout(0.1))\n",
    "model.add(Dense(5, activation='softmax'))\n",
    "model.compile(loss='sparse_categorical_crossentropy', optimizer='adam', metrics=['accuracy'])\n"
   ]
  },
  {
   "cell_type": "markdown",
   "metadata": {},
   "source": [
    "* Una vez creada la red mostramos su arquitectura:\n",
    "    - 1500 Neuronas de entrada\n",
    "    - Capa 2: 20 Neuronas\n",
    "    - Conexiones \"capa de entrada -> Capa 2\" = (1500*20) + 20 = 30020 Conexiones\n",
    "    - Capa 3: 10 Neuronas\n",
    "    - Conexiones \"Capa 2 -> Capa 3\" = (20*10) + 10 = 210 Conexiones\n",
    "    - Capa de salida: 4 Neuronas\n",
    "    - Conexiones \"Capa 3 -> Capa de salida\" = (10*5) + 5 = 55 Conexiones"
   ]
  },
  {
   "cell_type": "code",
   "execution_count": 11,
   "metadata": {},
   "outputs": [
    {
     "name": "stdout",
     "output_type": "stream",
     "text": [
      "Model: \"sequential\"\n",
      "_________________________________________________________________\n",
      "Layer (type)                 Output Shape              Param #   \n",
      "=================================================================\n",
      "dense (Dense)                (None, 20)                30020     \n",
      "_________________________________________________________________\n",
      "dropout (Dropout)            (None, 20)                0         \n",
      "_________________________________________________________________\n",
      "dense_1 (Dense)              (None, 10)                210       \n",
      "_________________________________________________________________\n",
      "dropout_1 (Dropout)          (None, 10)                0         \n",
      "_________________________________________________________________\n",
      "dense_2 (Dense)              (None, 5)                 55        \n",
      "=================================================================\n",
      "Total params: 30,285\n",
      "Trainable params: 30,285\n",
      "Non-trainable params: 0\n",
      "_________________________________________________________________\n"
     ]
    }
   ],
   "source": [
    "model.summary()"
   ]
  },
  {
   "cell_type": "markdown",
   "metadata": {},
   "source": [
    "<hr>\n",
    "\n",
    "\n",
    "# Entrenamiento de la Red Neuronal\n",
    "\n",
    "\n",
    "* Como lo que estamos haciendo es un ejemplo didáctico vamos a poner los siguientes valores:\n",
    "<span></span><br><br>\n",
    "    - *batch_size = 64* : Cada 64 tweets se calculan los nuevos pesos de la red\n",
    "<span></span><br><br>\n",
    "    - *epochs = 30*\n",
    "<span></span><br><br>\n",
    "    - *validation_data = Datos de Test*. Por cada epoch vamos a indicarle que realice una predicción con los datos de test y que vea su acierto.\n"
   ]
  },
  {
   "cell_type": "code",
   "execution_count": 12,
   "metadata": {
    "scrolled": false
   },
   "outputs": [
    {
     "name": "stdout",
     "output_type": "stream",
     "text": [
      "Epoch 1/30\n",
      "707/707 - 1s - loss: 1.1995 - accuracy: 0.5229 - val_loss: 1.0355 - val_accuracy: 0.6132\n",
      "Epoch 2/30\n",
      "707/707 - 1s - loss: 0.9003 - accuracy: 0.6578 - val_loss: 1.0010 - val_accuracy: 0.6349\n",
      "Epoch 3/30\n",
      "707/707 - 1s - loss: 0.8374 - accuracy: 0.6839 - val_loss: 1.0003 - val_accuracy: 0.6316\n",
      "Epoch 4/30\n",
      "707/707 - 1s - loss: 0.8046 - accuracy: 0.6948 - val_loss: 1.0067 - val_accuracy: 0.6338\n",
      "Epoch 5/30\n",
      "707/707 - 1s - loss: 0.7755 - accuracy: 0.7082 - val_loss: 1.0211 - val_accuracy: 0.6327\n",
      "Epoch 6/30\n",
      "707/707 - 1s - loss: 0.7547 - accuracy: 0.7158 - val_loss: 1.0304 - val_accuracy: 0.6230\n",
      "Epoch 7/30\n",
      "707/707 - 1s - loss: 0.7340 - accuracy: 0.7247 - val_loss: 1.0395 - val_accuracy: 0.6262\n",
      "Epoch 8/30\n",
      "707/707 - 1s - loss: 0.7160 - accuracy: 0.7334 - val_loss: 1.0381 - val_accuracy: 0.6295\n",
      "Epoch 9/30\n",
      "707/707 - 1s - loss: 0.6992 - accuracy: 0.7390 - val_loss: 1.0542 - val_accuracy: 0.6241\n",
      "Epoch 10/30\n",
      "707/707 - 1s - loss: 0.6828 - accuracy: 0.7456 - val_loss: 1.0637 - val_accuracy: 0.6251\n",
      "Epoch 11/30\n",
      "707/707 - 1s - loss: 0.6702 - accuracy: 0.7510 - val_loss: 1.0829 - val_accuracy: 0.6262\n",
      "Epoch 12/30\n",
      "707/707 - 1s - loss: 0.6538 - accuracy: 0.7578 - val_loss: 1.1124 - val_accuracy: 0.6251\n",
      "Epoch 13/30\n",
      "707/707 - 1s - loss: 0.6414 - accuracy: 0.7619 - val_loss: 1.1365 - val_accuracy: 0.6067\n",
      "Epoch 14/30\n",
      "707/707 - 1s - loss: 0.6276 - accuracy: 0.7675 - val_loss: 1.1422 - val_accuracy: 0.6186\n",
      "Epoch 15/30\n",
      "707/707 - 1s - loss: 0.6238 - accuracy: 0.7689 - val_loss: 1.1568 - val_accuracy: 0.6024\n",
      "Epoch 16/30\n",
      "707/707 - 1s - loss: 0.6089 - accuracy: 0.7769 - val_loss: 1.1791 - val_accuracy: 0.5970\n",
      "Epoch 17/30\n",
      "707/707 - 1s - loss: 0.5997 - accuracy: 0.7780 - val_loss: 1.2068 - val_accuracy: 0.6002\n",
      "Epoch 18/30\n",
      "707/707 - 1s - loss: 0.5928 - accuracy: 0.7822 - val_loss: 1.2182 - val_accuracy: 0.5991\n",
      "Epoch 19/30\n",
      "707/707 - 1s - loss: 0.5858 - accuracy: 0.7833 - val_loss: 1.2333 - val_accuracy: 0.5970\n",
      "Epoch 20/30\n",
      "707/707 - 1s - loss: 0.5776 - accuracy: 0.7856 - val_loss: 1.2690 - val_accuracy: 0.5829\n",
      "Epoch 21/30\n",
      "707/707 - 1s - loss: 0.5691 - accuracy: 0.7908 - val_loss: 1.2788 - val_accuracy: 0.5883\n",
      "Epoch 22/30\n",
      "707/707 - 1s - loss: 0.5609 - accuracy: 0.7942 - val_loss: 1.2753 - val_accuracy: 0.6013\n",
      "Epoch 23/30\n",
      "707/707 - 1s - loss: 0.5594 - accuracy: 0.7943 - val_loss: 1.2902 - val_accuracy: 0.6056\n",
      "Epoch 24/30\n",
      "707/707 - 1s - loss: 0.5532 - accuracy: 0.7952 - val_loss: 1.3208 - val_accuracy: 0.5970\n",
      "Epoch 25/30\n",
      "707/707 - 1s - loss: 0.5452 - accuracy: 0.7988 - val_loss: 1.3470 - val_accuracy: 0.5905\n",
      "Epoch 26/30\n",
      "707/707 - 1s - loss: 0.5438 - accuracy: 0.8002 - val_loss: 1.3476 - val_accuracy: 0.5915\n",
      "Epoch 27/30\n",
      "707/707 - 1s - loss: 0.5420 - accuracy: 0.8003 - val_loss: 1.3672 - val_accuracy: 0.5948\n",
      "Epoch 28/30\n",
      "707/707 - 1s - loss: 0.5325 - accuracy: 0.8036 - val_loss: 1.3861 - val_accuracy: 0.5807\n",
      "Epoch 29/30\n",
      "707/707 - 1s - loss: 0.5346 - accuracy: 0.8027 - val_loss: 1.3816 - val_accuracy: 0.5883\n",
      "Epoch 30/30\n",
      "707/707 - 1s - loss: 0.5248 - accuracy: 0.8088 - val_loss: 1.4133 - val_accuracy: 0.5850\n"
     ]
    }
   ],
   "source": [
    "\n",
    "history = model.fit(X_matrix, \n",
    "                    y_train, \n",
    "                    batch_size=64, \n",
    "                    epochs=30, \n",
    "                    verbose=2, \n",
    "                    validation_data=(X_matrix_test, y_test))\n"
   ]
  },
  {
   "cell_type": "markdown",
   "metadata": {},
   "source": [
    "* Pintamos como evoluciona la función de perdida y el Accuracy por epoch tanto en entrenamiento como en test."
   ]
  },
  {
   "cell_type": "code",
   "execution_count": 13,
   "metadata": {},
   "outputs": [],
   "source": [
    "import matplotlib.pyplot as plt\n",
    "%matplotlib inline\n",
    "\n",
    "# Pintamos las métricas por epoch\n",
    "def plot_metric(history, name, remove_first=0):\n",
    "    metric_train = np.array(history.history[name])[remove_first:]\n",
    "    metric_test = np.array(history.history['val_{}'.format(name)])[remove_first:]\n",
    "    acum_avg_metric_train = (np.cumsum(metric_train) / (np.arange(metric_train.shape[-1]) + 1))[remove_first:]\n",
    "    acum_avg_metric_test = (np.cumsum(metric_test) / (np.arange(metric_test.shape[-1]) + 1))[remove_first:]\n",
    "    plt.figure(figsize=(20, 8))\n",
    "    plt.subplot(1, 2, 1)\n",
    "    plt.title('{} - Epochs'.format(name))\n",
    "    plt.plot(metric_train, label='{} Train'.format(name))\n",
    "    plt.plot(metric_test, label='{} Test'.format(name))\n",
    "    plt.grid()\n",
    "    plt.legend(loc='upper center')\n",
    "    plt.subplot(1, 2, 2)\n",
    "    plt.title('AVG ACCUMULATIVE {} - Epochs'.format(name))\n",
    "    plt.plot(acum_avg_metric_train, label='{} Train'.format(name))\n",
    "    plt.plot(acum_avg_metric_test, label='{} Test'.format(name))\n",
    "    plt.grid()\n",
    "    plt.legend(loc='upper center')\n",
    "    plt.show()"
   ]
  },
  {
   "cell_type": "code",
   "execution_count": 14,
   "metadata": {},
   "outputs": [
    {
     "data": {
      "image/png": "[encoded data removed]",
      "text/plain": [
       "<Figure size 1440x576 with 2 Axes>"
      ]
     },
     "metadata": {
      "needs_background": "light"
     },
     "output_type": "display_data"
    }
   ],
   "source": [
    "# Función de perdida\n",
    "plot_metric(history=history, name='loss')"
   ]
  },
  {
   "cell_type": "code",
   "execution_count": 15,
   "metadata": {},
   "outputs": [
    {
     "data": {
      "image/png": "[encoded data removed]",
      "text/plain": [
       "<Figure size 1440x576 with 2 Axes>"
      ]
     },
     "metadata": {
      "needs_background": "light"
     },
     "output_type": "display_data"
    }
   ],
   "source": [
    "# Accuracy\n",
    "plot_metric(history=history, name='accuracy')"
   ]
  },
  {
   "cell_type": "markdown",
   "metadata": {},
   "source": [
    "<hr>\n",
    "\n",
    "\n",
    "# Evaluamos el modelo\n",
    "\n",
    "* Pasamos a evaluar el modelo, calculando las siguientes métricas de evaluación:\n",
    "\n",
    "    1. **Accuracy**\n",
    "    2. **Precision**\n",
    "    3. **Recall**\n",
    "    4. **F1**"
   ]
  },
  {
   "cell_type": "code",
   "execution_count": 16,
   "metadata": {},
   "outputs": [
    {
     "name": "stdout",
     "output_type": "stream",
     "text": [
      "Accuracy: 0.5850\n",
      "F1: 0.5854\n",
      "Precision: 0.5877\n",
      "Recall: 0.5850\n",
      "              precision    recall  f1-score   support\n",
      "\n",
      "  ciudadanos       0.59      0.53      0.56       135\n",
      "     podemos       0.57      0.60      0.58       206\n",
      "          pp       0.52      0.54      0.53       119\n",
      "        psoe       0.65      0.60      0.63       280\n",
      "         vox       0.55      0.62      0.58       183\n",
      "\n",
      "    accuracy                           0.59       923\n",
      "   macro avg       0.58      0.58      0.58       923\n",
      "weighted avg       0.59      0.59      0.59       923\n",
      "\n"
     ]
    }
   ],
   "source": [
    "from sklearn.metrics import accuracy_score, f1_score, precision_score, recall_score, confusion_matrix, classification_report\n",
    "\n",
    "y_true = encoder.inverse_transform(y_test.reshape(-1))\n",
    "y_pred = np.argmax(model.predict(X_matrix_test), axis=-1)\n",
    "y_pred = encoder.inverse_transform(y_pred.reshape(-1))\n",
    "\n",
    "print('Accuracy: {acc:0.4f}'.format(acc=accuracy_score(y_true=y_true, y_pred=y_pred)))\n",
    "print('F1: {f1:0.4f}'.format(f1=f1_score(y_true=y_true, y_pred=y_pred, average='weighted')))\n",
    "print('Precision: {pre:0.4f}'.format(pre=precision_score(y_true=y_true, y_pred=y_pred, average='weighted')))\n",
    "print('Recall: {rec:0.4f}'.format(rec=recall_score(y_true=y_true, y_pred=y_pred, average='weighted')))\n",
    "print(classification_report(y_true=y_true, y_pred=y_pred))\n",
    "labels = ['psoe', 'pp', 'vox', 'podemos', 'ciudadanos']\n",
    "confusion_matrix_test = confusion_matrix(y_true=y_true,\n",
    "                                         y_pred=y_pred,\n",
    "                                         labels=labels)\n",
    "confusion_matrix_train = confusion_matrix(y_true=encoder.inverse_transform(y_train.reshape(-1)), \n",
    "                                          y_pred=encoder.inverse_transform(np.argmax(model.predict(X_matrix), axis=-1)), \n",
    "                                          labels=labels)\n"
   ]
  },
  {
   "cell_type": "code",
   "execution_count": 17,
   "metadata": {},
   "outputs": [
    {
     "data": {
      "image/png": "[encoded data removed]",
      "text/plain": [
       "<Figure size 1152x432 with 3 Axes>"
      ]
     },
     "metadata": {
      "needs_background": "light"
     },
     "output_type": "display_data"
    }
   ],
   "source": [
    "import numpy as np\n",
    "import matplotlib.pyplot as plt\n",
    "import itertools\n",
    "%matplotlib inline\n",
    "\n",
    "def plot_confusion_matrix(cm, classes, title, cmap=plt.cm.Blues):\n",
    "    \"\"\"\n",
    "    This function prints and plots the confusion matrix.\n",
    "    \"\"\"\n",
    "    plt.imshow(cm, interpolation='nearest', cmap=cmap)\n",
    "    plt.title(title)\n",
    "    plt.colorbar()\n",
    "    tick_marks = np.arange(len(classes))\n",
    "    plt.xticks(tick_marks, classes, rotation=45)\n",
    "    plt.yticks(tick_marks, classes)\n",
    "\n",
    "    thresh = cm.max() / 2.\n",
    "    for i, j in itertools.product(range(cm.shape[0]), range(cm.shape[1])):\n",
    "        plt.text(j, i, format(cm[i, j], 'd'), horizontalalignment=\"center\",\n",
    "                 color=\"white\" if cm[i, j] > thresh else \"black\")\n",
    "\n",
    "    plt.tight_layout()\n",
    "    plt.ylabel('True label')\n",
    "    plt.xlabel('Predicted label')\n",
    "\n",
    "\n",
    "# Pintamos las matrices de confusión\n",
    "plt.figure(figsize=(16, 6))\n",
    "plt.subplot(1, 2, 1)\n",
    "plot_confusion_matrix(confusion_matrix_train, classes=labels, title='Matriz de Confusión Datos Entrenamiento')\n",
    "plt.subplot(1, 2, 2)\n",
    "plot_confusion_matrix(confusion_matrix_test, classes=labels, title='Matriz de Confusión  Datos Test')\n",
    "plt.show()"
   ]
  }
 ],
 "metadata": {
  "kernelspec": {
   "display_name": "Python 3 (ipykernel)",
   "language": "python",
   "name": "python3"
  },
  "language_info": {
   "codemirror_mode": {
    "name": "ipython",
    "version": 3
   },
   "file_extension": ".py",
   "mimetype": "text/x-python",
   "name": "python",
   "nbconvert_exporter": "python",
   "pygments_lexer": "ipython3",
   "version": "3.7.11"
  }
 },
 "nbformat": 4,
 "nbformat_minor": 2
}
