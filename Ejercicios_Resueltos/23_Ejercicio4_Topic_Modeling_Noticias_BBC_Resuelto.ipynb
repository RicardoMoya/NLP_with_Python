{
 "cells": [
  {
   "cell_type": "markdown",
   "metadata": {},
   "source": [
    "# 23 - Ejercicio: Topic Modeling - Noticias BBC News\n",
    "\n",
    "\n",
    "* En el siguiente ejercicio tiene como objetivo aplicar los conocimientos adquiridos de ***Topic Modeling***, utilizando el LDA.\n",
    "\n",
    "\n",
    "* Para ello vamos a trabajar con unos ***artículos de noticias publicados por la BBC*** que los tienen categorizados en 5 temas (Topics)\n",
    "\n",
    "    - Business\n",
    "    - Entertainment\n",
    "    - Politics\n",
    "    - Sport\n",
    "    - Tech\n",
    "\n",
    "\n",
    "* El objetivo de este ejercicio es el de ***obtener un número de temas (Topics) adecuados según los artículos y ver las relaciones entre los temas (Topics) y las palabras (Terms) que caracterizan a los temas (Topics)***.\n",
    "\n",
    "\n",
    "* Pasos a realizar en el ejercicio:\n",
    "\n",
    "    1. Carga de datos\n",
    "    2. Normalizar los textos\n",
    "    3. Creacción del diccionario y la bolsa de palabras\n",
    "    4. Selección del número óptimo de Topics\n",
    "    5. Creacción del Modelo\n",
    "    6. Visualización"
   ]
  },
  {
   "cell_type": "markdown",
   "metadata": {},
   "source": [
    "<hr>\n",
    "\n",
    "\n",
    "## Carga de Datos\n",
    "\n",
    "\n",
    "* El fichero en formato csv contiene una serie de noticias en los que le asigna una temática.\n",
    "\n",
    "\n",
    "* Cada elemento del Json contiene:\n",
    "    - **news**: Contenido del artículo\n",
    "    - **type**: Temática\n",
    "    \n",
    "    \n",
    "* Leemos los datos y mostramos una muestra:"
   ]
  },
  {
   "cell_type": "code",
   "execution_count": 1,
   "metadata": {},
   "outputs": [
    {
     "data": {
      "text/html": [
       "<div>\n",
       "<style scoped>\n",
       "    .dataframe tbody tr th:only-of-type {\n",
       "        vertical-align: middle;\n",
       "    }\n",
       "\n",
       "    .dataframe tbody tr th {\n",
       "        vertical-align: top;\n",
       "    }\n",
       "\n",
       "    .dataframe thead th {\n",
       "        text-align: right;\n",
       "    }\n",
       "</style>\n",
       "<table border=\"1\" class=\"dataframe\">\n",
       "  <thead>\n",
       "    <tr style=\"text-align: right;\">\n",
       "      <th></th>\n",
       "      <th>news</th>\n",
       "      <th>type</th>\n",
       "    </tr>\n",
       "  </thead>\n",
       "  <tbody>\n",
       "    <tr>\n",
       "      <th>2041</th>\n",
       "      <td>Rings of steel combat net attacks\\n \\n Gamblin...</td>\n",
       "      <td>tech</td>\n",
       "    </tr>\n",
       "    <tr>\n",
       "      <th>684</th>\n",
       "      <td>Branson show flops on US screens\\n \\n Entrepre...</td>\n",
       "      <td>entertainment</td>\n",
       "    </tr>\n",
       "    <tr>\n",
       "      <th>1857</th>\n",
       "      <td>Go-ahead for new internet names\\n \\n The inter...</td>\n",
       "      <td>tech</td>\n",
       "    </tr>\n",
       "    <tr>\n",
       "      <th>520</th>\n",
       "      <td>Rock group Korn's guitarist quits\\n \\n The gui...</td>\n",
       "      <td>entertainment</td>\n",
       "    </tr>\n",
       "    <tr>\n",
       "      <th>1130</th>\n",
       "      <td>Tory expert denies defeat warning\\n \\n The Con...</td>\n",
       "      <td>politics</td>\n",
       "    </tr>\n",
       "  </tbody>\n",
       "</table>\n",
       "</div>"
      ],
      "text/plain": [
       "                                                   news           type\n",
       "2041  Rings of steel combat net attacks\\n \\n Gamblin...           tech\n",
       "684   Branson show flops on US screens\\n \\n Entrepre...  entertainment\n",
       "1857  Go-ahead for new internet names\\n \\n The inter...           tech\n",
       "520   Rock group Korn's guitarist quits\\n \\n The gui...  entertainment\n",
       "1130  Tory expert denies defeat warning\\n \\n The Con...       politics"
      ]
     },
     "execution_count": 1,
     "metadata": {},
     "output_type": "execute_result"
    }
   ],
   "source": [
    "import warnings\n",
    "warnings.filterwarnings('ignore')\n",
    "import pandas as pd\n",
    "\n",
    "file = '../data/BBC_News.csv'\n",
    "df = pd.read_csv(file, encoding=\"iso-8859-1\")\n",
    "documents = [str(x.encode('utf8')) for x in df.news.values] # Lista de documentos\n",
    "df.sample(5)"
   ]
  },
  {
   "cell_type": "markdown",
   "metadata": {},
   "source": [
    "* Vemos los 5 tipos de artículos"
   ]
  },
  {
   "cell_type": "code",
   "execution_count": 2,
   "metadata": {},
   "outputs": [
    {
     "data": {
      "text/html": [
       "<div>\n",
       "<style scoped>\n",
       "    .dataframe tbody tr th:only-of-type {\n",
       "        vertical-align: middle;\n",
       "    }\n",
       "\n",
       "    .dataframe tbody tr th {\n",
       "        vertical-align: top;\n",
       "    }\n",
       "\n",
       "    .dataframe thead th {\n",
       "        text-align: right;\n",
       "    }\n",
       "</style>\n",
       "<table border=\"1\" class=\"dataframe\">\n",
       "  <thead>\n",
       "    <tr style=\"text-align: right;\">\n",
       "      <th></th>\n",
       "      <th>news</th>\n",
       "    </tr>\n",
       "    <tr>\n",
       "      <th>type</th>\n",
       "      <th></th>\n",
       "    </tr>\n",
       "  </thead>\n",
       "  <tbody>\n",
       "    <tr>\n",
       "      <th>business</th>\n",
       "      <td>510</td>\n",
       "    </tr>\n",
       "    <tr>\n",
       "      <th>entertainment</th>\n",
       "      <td>386</td>\n",
       "    </tr>\n",
       "    <tr>\n",
       "      <th>politics</th>\n",
       "      <td>417</td>\n",
       "    </tr>\n",
       "    <tr>\n",
       "      <th>sport</th>\n",
       "      <td>511</td>\n",
       "    </tr>\n",
       "    <tr>\n",
       "      <th>tech</th>\n",
       "      <td>401</td>\n",
       "    </tr>\n",
       "  </tbody>\n",
       "</table>\n",
       "</div>"
      ],
      "text/plain": [
       "               news\n",
       "type               \n",
       "business        510\n",
       "entertainment   386\n",
       "politics        417\n",
       "sport           511\n",
       "tech            401"
      ]
     },
     "execution_count": 2,
     "metadata": {},
     "output_type": "execute_result"
    }
   ],
   "source": [
    "df.groupby(['type']).count()"
   ]
  },
  {
   "cell_type": "markdown",
   "metadata": {},
   "source": [
    "<hr>\n",
    "\n",
    "\n",
    "## Normalizar los textos\n",
    "\n",
    "\n",
    "* Utilizamos ***spaCy*** para la tokenización y normalización.\n",
    "\n",
    "\n",
    "* Para ***normalizar*** los artículos realizaremos las siguientes acciones:\n",
    "    1. Pasamos las frases a minúsculas.\n",
    "    2. Eliminamos los signos de puntuación.\n",
    "    3. Eliminamos las palabras con menos de 4 caracteres.\n",
    "    4. Eliminamos las palabras con mas de 12 caracteres.\n",
    "    5. Eliminamos las Stop-Words.\n",
    "    6. Eliminamos los emails\n",
    "    7. Eliminamos los saltos de linea\n",
    "    8. Filtramos las palabras que no sean Nombre, Adjetivo, Verbo o Adverbio\n",
    "    9. Pasamos la palabra a su lema\n",
    "\n",
    "\n",
    "* Todos estos pasos los vamos a realizar en una misma función."
   ]
  },
  {
   "cell_type": "code",
   "execution_count": 3,
   "metadata": {},
   "outputs": [],
   "source": [
    "import re\n",
    "import spacy\n",
    "nlp = spacy.load('en_core_web_sm')\n",
    "\n",
    "\n",
    "def normalize(corpus):\n",
    "    \"\"\"normalizamos la lista de frases y devolvemos la misma lista de frases normalizada\"\"\"\n",
    "    for index, doc in enumerate(corpus):\n",
    "        doc = nlp(doc.lower().replace('\\\\\\\\n',''))\n",
    "        corpus[index] = \" \".join([word.lemma_ for word in doc if (not word.is_punct)\n",
    "                                  and (len(word.text) > 3) \n",
    "                                  and (len(word.text) < 11) \n",
    "                                  and (not word.is_stop)\n",
    "                                  and re.sub('\\S*@\\S*\\s?', '', word.text)\n",
    "                                  and re.sub('\\s+', ' ', word.text)\n",
    "                                  and (word.pos_ in ['NOUN', 'ADJ', 'VERB', 'ADV'])])\n",
    "        \n",
    "        \n",
    "    return corpus\n",
    "\n",
    "# Normalizamos las frases\n",
    "corpus_norm = normalize(documents)"
   ]
  },
  {
   "cell_type": "markdown",
   "metadata": {},
   "source": [
    "<hr>\n",
    "\n",
    "\n",
    "## Creacción del diccionario y la bolsa de palabras\n",
    "\n",
    "\n",
    "* En este punto tenemos que crear:\n",
    "    - Corpus tokenizado: \"*documents_tok*\"\n",
    "    - Diccionario: \"*dictionary*\"\n",
    "    - Corpus: \"*corpus*' que es la bolsa de palabras de gensim"
   ]
  },
  {
   "cell_type": "code",
   "execution_count": 4,
   "metadata": {},
   "outputs": [
    {
     "name": "stdout",
     "output_type": "stream",
     "text": [
      "Diccionario:\n",
      "Dictionary(15415 unique tokens: ['27bn', 'able', 'accord', 'agree', 'ambition']...)\n",
      "\n",
      "Primer Documento del Corpus:\n",
      "[(0, 1), (1, 1), (2, 1), (3, 1), (4, 1), (5, 2), (6, 1), (7, 1), (8, 1), (9, 1), (10, 1), (11, 1), (12, 1), (13, 1), (14, 1), (15, 2), (16, 1), (17, 1), (18, 3), (19, 2), (20, 1), (21, 1), (22, 3), (23, 1), (24, 1), (25, 1), (26, 2), (27, 1), (28, 6), (29, 1), (30, 1), (31, 1), (32, 1), (33, 1), (34, 1), (35, 1), (36, 1), (37, 1), (38, 1), (39, 1), (40, 1), (41, 3), (42, 1), (43, 1), (44, 1), (45, 1), (46, 1), (47, 1), (48, 1), (49, 1), (50, 1), (51, 2), (52, 5), (53, 1), (54, 1), (55, 1), (56, 1), (57, 1), (58, 1), (59, 2), (60, 1), (61, 1), (62, 1), (63, 1), (64, 1), (65, 4), (66, 1), (67, 1), (68, 1), (69, 1), (70, 1), (71, 1), (72, 1), (73, 1), (74, 1), (75, 1), (76, 2), (77, 1), (78, 1), (79, 1), (80, 2), (81, 1), (82, 1), (83, 1), (84, 1), (85, 1), (86, 1), (87, 1), (88, 2), (89, 1), (90, 2), (91, 1), (92, 1), (93, 1), (94, 1), (95, 1), (96, 1), (97, 2), (98, 1), (99, 7), (100, 6), (101, 1), (102, 6), (103, 1), (104, 2), (105, 2), (106, 1), (107, 1), (108, 1), (109, 1), (110, 1), (111, 4), (112, 1), (113, 1), (114, 4), (115, 1), (116, 1), (117, 1), (118, 2), (119, 1), (120, 1), (121, 1), (122, 1), (123, 1), (124, 1), (125, 1), (126, 2), (127, 5)]\n"
     ]
    }
   ],
   "source": [
    "from pprint import pprint\n",
    "from gensim import corpora\n",
    "from collections import defaultdict\n",
    "\n",
    "# Tokenizamos\n",
    "documents_tok = [word.split() for word in corpus_norm]\n",
    "\n",
    "# Creamos el diccionario (vocabulario)\n",
    "frequency = defaultdict(int)\n",
    "for doc in documents_tok:\n",
    "    for token in doc:\n",
    "        frequency[token] += 1\n",
    "        \n",
    "documents = [[token for token in doc] for doc in documents_tok]\n",
    "dictionary = corpora.Dictionary(documents)\n",
    "print('Diccionario:\\n{}'.format(dictionary))\n",
    "\n",
    "\n",
    "# Creamos la Bolsa de Palabras\n",
    "corpus = [dictionary.doc2bow(doc) for doc in documents]\n",
    "print('\\nPrimer Documento del Corpus:\\n{}'.format(corpus[0]))"
   ]
  },
  {
   "cell_type": "markdown",
   "metadata": {},
   "source": [
    "<hr>\n",
    "\n",
    "\n",
    "## Selección del número óptimo de Topics"
   ]
  },
  {
   "cell_type": "code",
   "execution_count": 5,
   "metadata": {},
   "outputs": [
    {
     "data": {
      "text/html": [
       "<div>\n",
       "<style scoped>\n",
       "    .dataframe tbody tr th:only-of-type {\n",
       "        vertical-align: middle;\n",
       "    }\n",
       "\n",
       "    .dataframe tbody tr th {\n",
       "        vertical-align: top;\n",
       "    }\n",
       "\n",
       "    .dataframe thead th {\n",
       "        text-align: right;\n",
       "    }\n",
       "</style>\n",
       "<table border=\"1\" class=\"dataframe\">\n",
       "  <thead>\n",
       "    <tr style=\"text-align: right;\">\n",
       "      <th></th>\n",
       "      <th>Coherence</th>\n",
       "    </tr>\n",
       "  </thead>\n",
       "  <tbody>\n",
       "    <tr>\n",
       "      <th>Num Topics: 2</th>\n",
       "      <td>-1.354291</td>\n",
       "    </tr>\n",
       "    <tr>\n",
       "      <th>Num Topics: 3</th>\n",
       "      <td>-1.397472</td>\n",
       "    </tr>\n",
       "    <tr>\n",
       "      <th>Num Topics: 4</th>\n",
       "      <td>-1.766196</td>\n",
       "    </tr>\n",
       "    <tr>\n",
       "      <th>Num Topics: 5</th>\n",
       "      <td>-1.581170</td>\n",
       "    </tr>\n",
       "    <tr>\n",
       "      <th>Num Topics: 6</th>\n",
       "      <td>-2.126499</td>\n",
       "    </tr>\n",
       "    <tr>\n",
       "      <th>Num Topics: 7</th>\n",
       "      <td>-2.154814</td>\n",
       "    </tr>\n",
       "    <tr>\n",
       "      <th>Num Topics: 8</th>\n",
       "      <td>-2.340493</td>\n",
       "    </tr>\n",
       "    <tr>\n",
       "      <th>Num Topics: 9</th>\n",
       "      <td>-2.492867</td>\n",
       "    </tr>\n",
       "    <tr>\n",
       "      <th>Num Topics: 10</th>\n",
       "      <td>-2.232698</td>\n",
       "    </tr>\n",
       "  </tbody>\n",
       "</table>\n",
       "</div>"
      ],
      "text/plain": [
       "                Coherence\n",
       "Num Topics: 2   -1.354291\n",
       "Num Topics: 3   -1.397472\n",
       "Num Topics: 4   -1.766196\n",
       "Num Topics: 5   -1.581170\n",
       "Num Topics: 6   -2.126499\n",
       "Num Topics: 7   -2.154814\n",
       "Num Topics: 8   -2.340493\n",
       "Num Topics: 9   -2.492867\n",
       "Num Topics: 10  -2.232698"
      ]
     },
     "execution_count": 5,
     "metadata": {},
     "output_type": "execute_result"
    }
   ],
   "source": [
    "warnings.filterwarnings('ignore')\n",
    "from gensim.models import LdaModel, CoherenceModel\n",
    "\n",
    "coherence = []\n",
    "min_topics = 2\n",
    "max_topics = 11\n",
    "for num_topics in range(min_topics, max_topics, 1):\n",
    "    lda_model = LdaModel(corpus=corpus,\n",
    "                         id2word=dictionary,\n",
    "                         num_topics=num_topics,\n",
    "                         random_state=7,\n",
    "                         chunksize=100,\n",
    "                         passes=10,\n",
    "                         alpha='auto',\n",
    "                         per_word_topics=True)\n",
    "    coherencemodel = CoherenceModel(model=lda_model, texts=documents_tok, dictionary=dictionary, coherence='u_mass')\n",
    "    coherence.append(coherencemodel.get_coherence())\n",
    "    \n",
    "index = [\"Num Topics: {num}\".format(num=num) for num in range(min_topics, max_topics, 1)]\n",
    "pd.DataFrame(coherence, index=index, columns=['Coherence'])"
   ]
  },
  {
   "cell_type": "code",
   "execution_count": 6,
   "metadata": {},
   "outputs": [
    {
     "data": {
      "image/png": "[encoded data removed]",
      "text/plain": [
       "<Figure size 720x432 with 1 Axes>"
      ]
     },
     "metadata": {
      "needs_background": "light"
     },
     "output_type": "display_data"
    }
   ],
   "source": [
    "import matplotlib.pyplot as plt\n",
    "%matplotlib inline\n",
    "\n",
    "plt.figure(figsize=(10,6))\n",
    "plt.plot(range(min_topics, max_topics, 1), coherence)\n",
    "plt.xlabel(\"Num Topics\")\n",
    "plt.ylabel(\"Coherence score\")\n",
    "plt.grid()\n",
    "plt.show()"
   ]
  },
  {
   "cell_type": "markdown",
   "metadata": {},
   "source": [
    "<hr>\n",
    "\n",
    "\n",
    "## Creacción del Modelo\n",
    "\n",
    "\n",
    "* Si que se aprecia que los artículos periodísticos estan bien clasificados en 5 temas, ya que según los valores de coherencia obtenidos aplicando el LDA para diferente número de temas (Topics), nos devuelve un valor de coherencia para 5 temas (Topics) alto en comparación con el resto de modelos.\n"
   ]
  },
  {
   "cell_type": "code",
   "execution_count": 7,
   "metadata": {},
   "outputs": [],
   "source": [
    "lda_model = LdaModel(corpus=corpus,\n",
    "                     id2word=dictionary,\n",
    "                     num_topics=5,\n",
    "                     random_state=7,\n",
    "                     chunksize=100,\n",
    "                     passes=10,\n",
    "                     alpha='auto',\n",
    "                     per_word_topics=True)"
   ]
  },
  {
   "cell_type": "markdown",
   "metadata": {},
   "source": [
    "<hr>\n",
    "\n",
    "\n",
    "## Visualización para 5 Topics"
   ]
  },
  {
   "cell_type": "code",
   "execution_count": 8,
   "metadata": {},
   "outputs": [
    {
     "data": {
      "text/html": [
       "\n",
       "<link rel=\"stylesheet\" type=\"text/css\" href=\"https://cdn.rawgit.com/bmabey/pyLDAvis/files/ldavis.v1.0.0.css\">\n",
       "\n",
       "\n",
       "<div id=\"ldavis_el3714952478987522924849034\"></div>\n",
       "<script type=\"text/javascript\">\n",
       "\n",
       "var ldavis_el3714952478987522924849034_data = {\"mdsDat\": {\"x\": [0.1843109703371813, 0.16026667195211883, -0.010608298557811601, -0.05974572127448363, -0.2742236224570046], \"y\": [0.23303013846173434, -0.15496128058362557, -0.08715895441957087, -0.07714907286144243, 0.08623916940290471], \"topics\": [1, 2, 3, 4, 5], \"cluster\": [1, 1, 1, 1, 1], \"Freq\": [24.652347564697266, 22.27572250366211, 21.658283233642578, 20.4610652923584, 10.952579498291016]}, \"tinfo\": {\"Category\": [\"Default\", \"Default\", \"Default\", \"Default\", \"Default\", \"Default\", \"Default\", \"Default\", \"Default\", \"Default\", \"Default\", \"Default\", \"Default\", \"Default\", \"Default\", \"Default\", \"Default\", \"Default\", \"Default\", \"Default\", \"Default\", \"Default\", \"Default\", \"Default\", \"Default\", \"Default\", \"Default\", \"Default\", \"Default\", \"Default\", \"Topic1\", \"Topic1\", \"Topic1\", \"Topic1\", \"Topic1\", \"Topic1\", \"Topic1\", \"Topic1\", \"Topic1\", \"Topic1\", \"Topic1\", \"Topic1\", \"Topic1\", \"Topic1\", \"Topic1\", \"Topic1\", \"Topic1\", \"Topic1\", \"Topic1\", \"Topic1\", \"Topic1\", \"Topic1\", \"Topic1\", \"Topic1\", \"Topic1\", \"Topic1\", \"Topic1\", \"Topic1\", \"Topic1\", \"Topic1\", \"Topic1\", \"Topic1\", \"Topic1\", \"Topic1\", \"Topic1\", \"Topic1\", \"Topic1\", \"Topic1\", \"Topic1\", \"Topic1\", \"Topic1\", \"Topic1\", \"Topic1\", \"Topic1\", \"Topic1\", \"Topic1\", \"Topic1\", \"Topic1\", \"Topic1\", \"Topic2\", \"Topic2\", \"Topic2\", \"Topic2\", \"Topic2\", \"Topic2\", \"Topic2\", \"Topic2\", \"Topic2\", \"Topic2\", \"Topic2\", \"Topic2\", \"Topic2\", \"Topic2\", \"Topic2\", \"Topic2\", \"Topic2\", \"Topic2\", \"Topic2\", \"Topic2\", \"Topic2\", \"Topic2\", \"Topic2\", \"Topic2\", \"Topic2\", \"Topic2\", \"Topic2\", \"Topic2\", \"Topic2\", \"Topic2\", \"Topic2\", \"Topic2\", \"Topic2\", \"Topic2\", \"Topic2\", \"Topic2\", \"Topic2\", \"Topic2\", \"Topic2\", \"Topic2\", \"Topic2\", \"Topic2\", \"Topic2\", \"Topic2\", \"Topic2\", \"Topic2\", \"Topic2\", \"Topic2\", \"Topic2\", \"Topic2\", \"Topic2\", \"Topic2\", \"Topic2\", \"Topic2\", \"Topic2\", \"Topic2\", \"Topic2\", \"Topic2\", \"Topic2\", \"Topic3\", \"Topic3\", \"Topic3\", \"Topic3\", \"Topic3\", \"Topic3\", \"Topic3\", \"Topic3\", \"Topic3\", \"Topic3\", \"Topic3\", \"Topic3\", \"Topic3\", \"Topic3\", \"Topic3\", \"Topic3\", \"Topic3\", \"Topic3\", \"Topic3\", \"Topic3\", \"Topic3\", \"Topic3\", \"Topic3\", \"Topic3\", \"Topic3\", \"Topic3\", \"Topic3\", \"Topic3\", \"Topic3\", \"Topic3\", \"Topic3\", \"Topic3\", \"Topic3\", \"Topic3\", \"Topic3\", \"Topic3\", \"Topic3\", \"Topic3\", \"Topic3\", \"Topic3\", \"Topic3\", \"Topic3\", \"Topic3\", \"Topic3\", \"Topic3\", \"Topic3\", \"Topic3\", \"Topic3\", \"Topic3\", \"Topic3\", \"Topic3\", \"Topic3\", \"Topic3\", \"Topic3\", \"Topic3\", \"Topic3\", \"Topic3\", \"Topic3\", \"Topic3\", \"Topic3\", \"Topic3\", \"Topic3\", \"Topic3\", \"Topic3\", \"Topic3\", \"Topic3\", \"Topic3\", \"Topic3\", \"Topic4\", \"Topic4\", \"Topic4\", \"Topic4\", \"Topic4\", \"Topic4\", \"Topic4\", \"Topic4\", \"Topic4\", \"Topic4\", \"Topic4\", \"Topic4\", \"Topic4\", \"Topic4\", \"Topic4\", \"Topic4\", \"Topic4\", \"Topic4\", \"Topic4\", \"Topic4\", \"Topic4\", \"Topic4\", \"Topic4\", \"Topic4\", \"Topic4\", \"Topic4\", \"Topic4\", \"Topic4\", \"Topic4\", \"Topic4\", \"Topic4\", \"Topic4\", \"Topic4\", \"Topic4\", \"Topic4\", \"Topic4\", \"Topic4\", \"Topic4\", \"Topic4\", \"Topic4\", \"Topic4\", \"Topic4\", \"Topic4\", \"Topic4\", \"Topic4\", \"Topic4\", \"Topic4\", \"Topic4\", \"Topic4\", \"Topic4\", \"Topic4\", \"Topic4\", \"Topic4\", \"Topic4\", \"Topic4\", \"Topic4\", \"Topic4\", \"Topic4\", \"Topic4\", \"Topic4\", \"Topic5\", \"Topic5\", \"Topic5\", \"Topic5\", \"Topic5\", \"Topic5\", \"Topic5\", \"Topic5\", \"Topic5\", \"Topic5\", \"Topic5\", \"Topic5\", \"Topic5\", \"Topic5\", \"Topic5\", \"Topic5\", \"Topic5\", \"Topic5\", \"Topic5\", \"Topic5\", \"Topic5\", \"Topic5\", \"Topic5\", \"Topic5\", \"Topic5\", \"Topic5\", \"Topic5\", \"Topic5\", \"Topic5\", \"Topic5\", \"Topic5\", \"Topic5\", \"Topic5\", \"Topic5\", \"Topic5\", \"Topic5\", \"Topic5\", \"Topic5\", \"Topic5\", \"Topic5\", \"Topic5\", \"Topic5\", \"Topic5\", \"Topic5\", \"Topic5\", \"Topic5\", \"Topic5\", \"Topic5\", \"Topic5\", \"Topic5\", \"Topic5\", \"Topic5\", \"Topic5\", \"Topic5\", \"Topic5\", \"Topic5\", \"Topic5\", \"Topic5\", \"Topic5\", \"Topic5\", \"Topic5\", \"Topic5\", \"Topic5\", \"Topic5\", \"Topic5\", \"Topic5\", \"Topic5\", \"Topic5\", \"Topic5\"], \"Freq\": [3357.0, 1372.0, 1228.0, 1400.0, 1030.0, 7076.0, 859.0, 838.0, 1181.0, 677.0, 726.0, 2415.0, 652.0, 961.0, 755.0, 625.0, 1442.0, 710.0, 635.0, 1032.0, 495.0, 527.0, 683.0, 458.0, 536.0, 485.0, 465.0, 409.0, 522.0, 523.0, 1371.859619140625, 1227.46533203125, 859.1360473632812, 726.0691528320312, 536.1849365234375, 522.028564453125, 500.9547119140625, 475.96649169921875, 837.08935546875, 452.8721923828125, 439.8629150390625, 435.9635925292969, 522.7975463867188, 332.6061096191406, 305.7323303222656, 269.3226318359375, 263.97210693359375, 232.2377166748047, 344.171875, 214.15597534179688, 220.16372680664062, 206.7708740234375, 199.77069091796875, 186.57264709472656, 182.98471069335938, 172.6380157470703, 166.36532592773438, 155.19590759277344, 152.6180419921875, 158.55783081054688, 361.74591064453125, 693.505859375, 634.9801025390625, 538.9848022460938, 315.4021301269531, 834.0220336914062, 677.3001098632812, 439.3668212890625, 498.3973083496094, 352.7421569824219, 1122.83349609375, 508.6064147949219, 1682.7086181640625, 523.6517333984375, 531.634521484375, 425.6893005371094, 664.2197265625, 449.3650207519531, 370.3199462890625, 651.4249877929688, 677.1532592773438, 432.7018127441406, 372.8720397949219, 355.5517272949219, 261.1132507324219, 239.9723358154297, 190.2376251220703, 191.7608184814453, 175.4921112060547, 170.18252563476562, 170.0529022216797, 160.64804077148438, 146.03680419921875, 146.80850219726562, 140.66403198242188, 139.2130126953125, 130.89437866210938, 133.7339630126953, 127.41873168945312, 121.2304916381836, 136.81878662109375, 131.62332153320312, 120.40546417236328, 119.36286163330078, 113.28475189208984, 107.24210357666016, 107.30166625976562, 104.50730895996094, 101.61592864990234, 1005.371337890625, 480.0716247558594, 704.4843139648438, 201.60255432128906, 233.9820098876953, 326.9587097167969, 168.7949981689453, 242.48660278320312, 206.75889587402344, 274.425537109375, 472.235595703125, 251.42796325683594, 2628.2392578125, 296.31256103515625, 241.49465942382812, 253.79188537597656, 278.2565002441406, 274.4064636230469, 223.84217834472656, 594.5742797851562, 312.4385681152344, 229.23207092285156, 312.0493469238281, 288.68756103515625, 313.0621032714844, 301.4347229003906, 264.103271484375, 254.0055694580078, 239.2371826171875, 3357.127197265625, 392.0776062011719, 358.03839111328125, 361.71014404296875, 172.7601318359375, 171.73187255859375, 168.1927032470703, 136.3631591796875, 132.08377075195312, 91.91600799560547, 84.79010009765625, 77.07906341552734, 71.10783386230469, 70.20172882080078, 67.19603729248047, 62.467796325683594, 63.581356048583984, 62.30266571044922, 60.66535568237305, 60.97563934326172, 60.530975341796875, 56.61248016357422, 54.80221939086914, 54.542030334472656, 54.97648239135742, 55.67100143432617, 50.8359375, 48.70799255371094, 51.18587112426758, 49.85380554199219, 84.196533203125, 599.5857543945312, 70.99359130859375, 58.913700103759766, 126.6094970703125, 135.8905792236328, 119.33621215820312, 154.39886474609375, 243.0314178466797, 121.1402359008789, 297.7868957519531, 191.79653930664062, 437.71728515625, 182.43202209472656, 129.21849060058594, 234.3443145751953, 586.7666015625, 269.6968994140625, 653.8165893554688, 2026.8076171875, 286.76129150390625, 281.4259948730469, 428.00775146484375, 280.3464660644531, 375.05120849609375, 443.3218994140625, 404.39178466796875, 244.1194305419922, 389.4320373535156, 448.9644470214844, 300.3392639160156, 298.1406555175781, 358.6214294433594, 230.87457275390625, 282.1448059082031, 218.12242126464844, 227.83555603027344, 229.59793090820312, 494.861328125, 464.7980041503906, 310.7131652832031, 232.6587371826172, 211.35586547851562, 210.99310302734375, 209.5028533935547, 160.98260498046875, 164.7646484375, 165.6372528076172, 156.8370819091797, 151.435546875, 145.56936645507812, 141.40492248535156, 147.83456420898438, 140.38583374023438, 135.24864196777344, 135.0633544921875, 130.8883514404297, 126.54450225830078, 124.96378326416016, 122.77478790283203, 119.97759246826172, 128.737548828125, 111.51232147216797, 112.70966339111328, 104.53026580810547, 184.9762420654297, 104.19328308105469, 99.6319351196289, 132.58180236816406, 512.168701171875, 208.11636352539062, 342.65411376953125, 271.0650329589844, 331.0689392089844, 337.466064453125, 162.44308471679688, 192.45140075683594, 653.5686645507812, 288.3768615722656, 498.31787109375, 374.23883056640625, 515.4251098632812, 697.6397705078125, 442.4078674316406, 300.15869140625, 236.37005615234375, 403.0854187011719, 729.4033203125, 346.289794921875, 385.0880126953125, 310.7871398925781, 331.2154846191406, 312.9793395996094, 371.581787109375, 283.3046569824219, 241.2930145263672, 231.17117309570312, 216.1086883544922, 173.82513427734375, 170.60975646972656, 122.6291275024414, 114.4705810546875, 110.68665313720703, 103.96159362792969, 80.14629364013672, 75.19670867919922, 68.13440704345703, 66.33264923095703, 69.02608489990234, 64.03948974609375, 61.90998840332031, 63.38302230834961, 63.8583984375, 65.72793579101562, 62.061065673828125, 56.845149993896484, 55.081336975097656, 46.0148811340332, 44.858394622802734, 48.0177001953125, 45.95513153076172, 41.144264221191406, 45.80855941772461, 37.83967208862305, 38.43555450439453, 37.254642486572266, 38.0603141784668, 36.33970642089844, 260.0681457519531, 55.389095306396484, 71.37936401367188, 264.88189697265625, 193.93577575683594, 157.60179138183594, 95.40666198730469, 303.9253845214844, 165.30856323242188, 338.4242248535156, 352.52862548828125, 161.76028442382812, 432.9792785644531, 77.67598724365234, 324.2919006347656, 175.5503387451172, 175.99298095703125, 714.4766845703125, 197.05276489257812, 281.3173828125, 110.58494567871094, 222.30557250976562, 174.76113891601562, 102.83830261230469, 103.41820526123047, 401.85479736328125, 399.5455017089844, 174.63360595703125, 194.0413360595703, 284.87860107421875, 357.6769714355469, 314.9353332519531, 244.39517211914062, 207.89627075195312, 217.65835571289062, 197.7608184814453, 183.60986328125, 197.99945068359375, 197.6220703125], \"Term\": [\"game\", \"mobile\", \"phone\", \"play\", \"site\", \"say\", \"user\", \"technology\", \"good\", \"file\", \"software\", \"people\", \"search\", \"service\", \"mail\", \"second\", \"player\", \"network\", \"team\", \"music\", \"film\", \"content\", \"computer\", \"half\", \"online\", \"title\", \"radio\", \"final\", \"gadget\", \"device\", \"mobile\", \"phone\", \"user\", \"software\", \"online\", \"gadget\", \"digital\", \"market\", \"technology\", \"consumer\", \"broadband\", \"datum\", \"device\", \"download\", \"customer\", \"operator\", \"analyst\", \"increase\", \"machine\", \"handset\", \"console\", \"blog\", \"gaming\", \"store\", \"multimedia\", \"portable\", \"wireless\", \"storage\", \"cable\", \"gamer\", \"virus\", \"network\", \"computer\", \"video\", \"speed\", \"service\", \"firm\", \"internet\", \"high\", \"accord\", \"people\", \"company\", \"say\", \"number\", \"music\", \"offer\", \"year\", \"system\", \"month\", \"search\", \"file\", \"legal\", \"anti\", \"peer\", \"traffic\", \"charge\", \"criminal\", \"court\", \"lawsuit\", \"law\", \"bittorrent\", \"malicious\", \"answer\", \"tory\", \"spammer\", \"crime\", \"arrest\", \"trial\", \"fake\", \"police\", \"blogger\", \"document\", \"illegal\", \"copyright\", \"drug\", \"ruling\", \"student\", \"suspect\", \"accuse\", \"site\", \"attack\", \"mail\", \"protect\", \"party\", \"spam\", \"steal\", \"case\", \"appeal\", \"election\", \"website\", \"stop\", \"say\", \"issue\", \"source\", \"test\", \"claim\", \"action\", \"rule\", \"people\", \"right\", \"public\", \"system\", \"call\", \"tell\", \"company\", \"open\", \"send\", \"problem\", \"game\", \"nation\", \"club\", \"goal\", \"meeting\", \"football\", \"defeat\", \"spanish\", \"arsenal\", \"french\", \"referee\", \"debt\", \"scottish\", \"friendly\", \"striker\", \"side\", \"belief\", \"indian\", \"relief\", \"stadium\", \"chelsea\", \"liverpool\", \"ranger\", \"ambition\", \"playing\", \"tsunami\", \"nuclear\", \"south\", \"reward\", \"knee\", \"frame\", \"team\", \"pitch\", \"fresh\", \"loss\", \"transfer\", \"strike\", \"duty\", \"manager\", \"contract\", \"deal\", \"coach\", \"add\", \"level\", \"tough\", \"talk\", \"want\", \"hope\", \"player\", \"say\", \"believe\", \"country\", \"tell\", \"lose\", \"need\", \"come\", \"think\", \"long\", \"go\", \"time\", \"week\", \"look\", \"year\", \"thing\", \"play\", \"expect\", \"offer\", \"start\", \"film\", \"radio\", \"movie\", \"award\", \"screen\", \"podcast\", \"idea\", \"audience\", \"broadcast\", \"audio\", \"woman\", \"channel\", \"child\", \"magazine\", \"type\", \"listen\", \"story\", \"memory\", \"old\", \"original\", \"friend\", \"television\", \"viewer\", \"technical\", \"robot\", \"useful\", \"character\", \"format\", \"speech\", \"career\", \"school\", \"content\", \"feature\", \"different\", \"watch\", \"image\", \"life\", \"song\", \"let\", \"good\", \"version\", \"music\", \"include\", \"work\", \"people\", \"think\", \"thing\", \"list\", \"play\", \"say\", \"want\", \"time\", \"world\", \"go\", \"take\", \"year\", \"know\", \"find\", \"show\", \"great\", \"ball\", \"champion\", \"seed\", \"squad\", \"indoor\", \"tournament\", \"athlete\", \"olympic\", \"slam\", \"captain\", \"plenty\", \"chart\", \"roddick\", \"crowd\", \"album\", \"semi\", \"women\\\\\", \"talent\", \"mile\", \"i\\\\'ll\", \"athletic\", \"surface\", \"hurdle\", \"marathon\", \"i\\\\'d\", \"yard\", \"superb\", \"scrum\", \"davy\", \"federer\", \"injury\", \"triple\", \"impressive\", \"beat\", \"victory\", \"finish\", \"medal\", \"minute\", \"round\", \"final\", \"half\", \"score\", \"second\", \"grand\", \"title\", \"miss\", \"race\", \"play\", \"win\", \"match\", \"rugby\", \"break\", \"season\", \"cross\", \"penalty\", \"good\", \"player\", \"chance\", \"record\", \"world\", \"time\", \"year\", \"take\", \"open\", \"number\", \"start\", \"point\", \"come\", \"go\"], \"Total\": [3357.0, 1372.0, 1228.0, 1400.0, 1030.0, 7076.0, 859.0, 838.0, 1181.0, 677.0, 726.0, 2415.0, 652.0, 961.0, 755.0, 625.0, 1442.0, 710.0, 635.0, 1032.0, 495.0, 527.0, 683.0, 458.0, 536.0, 485.0, 465.0, 409.0, 522.0, 523.0, 1372.6400146484375, 1228.2510986328125, 859.92919921875, 726.86572265625, 536.9905395507812, 522.8244018554688, 501.7391052246094, 476.7458190917969, 838.5059204101562, 453.6509704589844, 440.64141845703125, 436.74884033203125, 523.75390625, 333.3912658691406, 306.51702880859375, 270.1041564941406, 264.7486572265625, 233.0171661376953, 345.3377380371094, 214.93661499023438, 220.9739532470703, 207.58270263671875, 200.60174560546875, 187.35789489746094, 183.76136779785156, 173.42120361328125, 167.14654541015625, 155.97979736328125, 153.404541015625, 159.37710571289062, 366.2585754394531, 710.984375, 683.3674926757812, 578.7495727539062, 330.95587158203125, 961.3585815429688, 853.9086303710938, 518.4277954101562, 693.3345947265625, 435.48211669921875, 2415.50146484375, 811.4496459960938, 7076.1005859375, 883.2994384765625, 1032.087158203125, 654.0534057617188, 1826.86865234375, 762.1920776367188, 663.169189453125, 652.1984252929688, 677.961181640625, 433.4346008300781, 373.5996398925781, 356.3061828613281, 261.88348388671875, 240.7161407470703, 190.96063232421875, 192.51373291015625, 176.21707153320312, 170.91409301757812, 170.78872680664062, 161.42462158203125, 146.7686767578125, 147.5449981689453, 141.4005584716797, 139.9437713623047, 131.611572265625, 134.4883270263672, 128.15293884277344, 121.94669342041016, 137.62796020507812, 132.40757751464844, 121.13125610351562, 120.09076690673828, 114.01398468017578, 107.95664978027344, 108.04924774169922, 105.2391128540039, 102.33502197265625, 1030.898193359375, 499.2420959472656, 755.61376953125, 208.1538543701172, 243.2300262451172, 346.1670837402344, 176.4318389892578, 266.06011962890625, 222.6125030517578, 312.13519287109375, 619.9580078125, 306.80426025390625, 7076.1005859375, 393.9501037597656, 301.4133605957031, 360.971923828125, 422.191650390625, 415.9054260253906, 294.6247253417969, 2415.50146484375, 628.4522094726562, 329.74267578125, 762.1920776367188, 662.9029541015625, 915.410888671875, 811.4496459960938, 672.63037109375, 571.5687255859375, 548.7976684570312, 3357.81396484375, 392.7476501464844, 358.6773986816406, 362.3869934082031, 173.4034423828125, 172.37667846679688, 168.8748321533203, 137.02542114257812, 132.73455810546875, 92.56520080566406, 85.47107696533203, 77.72470092773438, 71.75009155273438, 70.86662292480469, 67.86048126220703, 63.1120719909668, 64.24054718017578, 62.960968017578125, 61.308712005615234, 61.62350082397461, 61.20119094848633, 57.261756896972656, 55.44486618041992, 55.182132720947266, 55.6307373046875, 56.335506439208984, 51.49014663696289, 49.34820556640625, 51.859336853027344, 50.53333282470703, 85.35811614990234, 635.986328125, 72.38360595703125, 59.89927673339844, 132.5767364501953, 146.39735412597656, 128.8788299560547, 175.07748413085938, 297.275634765625, 136.87669372558594, 387.92474365234375, 247.50851440429688, 731.807861328125, 243.4191436767578, 157.80076599121094, 339.83740234375, 1160.38037109375, 430.76318359375, 1442.8472900390625, 7076.1005859375, 485.5691833496094, 483.4532775878906, 915.410888671875, 510.71112060546875, 800.06494140625, 1110.216064453125, 1073.7646484375, 452.37286376953125, 1144.692138671875, 1582.0159912109375, 696.8895263671875, 947.1552124023438, 1826.86865234375, 538.3343505859375, 1400.0068359375, 469.0445861816406, 654.0534057617188, 767.875732421875, 495.6047058105469, 465.56591796875, 311.48419189453125, 233.4014129638672, 212.11260986328125, 211.75875854492188, 210.27047729492188, 161.73631286621094, 165.5407257080078, 166.4208526611328, 157.5885772705078, 152.2080078125, 146.31556701660156, 142.1609344482422, 148.6265411376953, 141.14361572265625, 136.0036163330078, 135.8357696533203, 131.6457061767578, 127.29791259765625, 125.71766662597656, 123.53030395507812, 120.73269653320312, 129.6044921875, 112.27335357666016, 113.5175552368164, 105.28718566894531, 186.32577514648438, 104.95768737792969, 100.40204620361328, 133.80137634277344, 527.6637573242188, 211.3519744873047, 393.2120056152344, 303.5728759765625, 383.51812744140625, 414.2412414550781, 175.39614868164062, 222.84422302246094, 1181.162841796875, 393.2293395996094, 1032.087158203125, 664.1991577148438, 1129.77783203125, 2415.50146484375, 1073.7646484375, 538.3343505859375, 370.09716796875, 1400.0068359375, 7076.1005859375, 1160.38037109375, 1582.0159912109375, 922.5343627929688, 1144.692138671875, 977.251220703125, 1826.86865234375, 798.2894897460938, 728.6395263671875, 495.1605529785156, 498.31781005859375, 174.5304412841797, 171.3080291748047, 123.32598114013672, 115.17575073242188, 111.38014221191406, 104.6596908569336, 80.84835052490234, 75.89924621582031, 68.83431243896484, 67.03876495361328, 69.76551055908203, 64.75477600097656, 62.60695266723633, 64.10710144042969, 64.59624481201172, 66.4946060180664, 62.802555084228516, 57.56439971923828, 55.87722396850586, 46.72688674926758, 45.558834075927734, 48.78615951538086, 46.696044921875, 41.84337615966797, 46.601863861083984, 38.53649139404297, 39.149658203125, 37.95269012451172, 38.793704986572266, 37.04008865356445, 268.5888977050781, 56.857051849365234, 73.68385314941406, 284.5046691894531, 207.7814483642578, 169.41607666015625, 101.17282104492188, 349.1216735839844, 187.5872802734375, 409.2557373046875, 458.185546875, 191.91119384765625, 625.106201171875, 84.21146392822266, 485.8415222167969, 228.12411499023438, 231.40725708007812, 1400.0068359375, 271.7171630859375, 442.2923278808594, 137.6963348388672, 369.947021484375, 265.54412841796875, 125.46023559570312, 132.18356323242188, 1181.162841796875, 1442.8472900390625, 339.9234924316406, 432.6341247558594, 922.5343627929688, 1582.0159912109375, 1826.86865234375, 977.251220703125, 672.63037109375, 883.2994384765625, 767.875732421875, 513.4403686523438, 1110.216064453125, 1144.692138671875], \"loglift\": [30.0, 29.0, 28.0, 27.0, 26.0, 25.0, 24.0, 23.0, 22.0, 21.0, 20.0, 19.0, 18.0, 17.0, 16.0, 15.0, 14.0, 13.0, 12.0, 11.0, 10.0, 9.0, 8.0, 7.0, 6.0, 5.0, 4.0, 3.0, 2.0, 1.0, 1.3997000455856323, 1.3997000455856323, 1.399399995803833, 1.3991999626159668, 1.398800015449524, 1.398800015449524, 1.3986999988555908, 1.3986999988555908, 1.3985999822616577, 1.3985999822616577, 1.3984999656677246, 1.3984999656677246, 1.3984999656677246, 1.3978999853134155, 1.3976999521255493, 1.3974000215530396, 1.3974000215530396, 1.3969000577926636, 1.3969000577926636, 1.3967000246047974, 1.3966000080108643, 1.396399974822998, 1.3961000442504883, 1.3961000442504883, 1.3961000442504883, 1.395799994468689, 1.3955999612808228, 1.395300030708313, 1.3952000141143799, 1.3950999975204468, 1.3878999948501587, 1.3753999471664429, 1.3269000053405762, 1.3291000127792358, 1.3522000312805176, 1.2582000494003296, 1.1685999631881714, 1.2347999811172485, 1.070199966430664, 1.1895999908447266, 0.6341999769210815, 0.9332000017166138, -0.035999998450279236, 0.8774999976158142, 0.7368999719619751, 0.97079998254776, 0.3885999917984009, 0.8719000220298767, 0.8176000118255615, 1.500499963760376, 1.500499963760376, 1.5, 1.4996999502182007, 1.4996000528335571, 1.4987000226974487, 1.4986000061035156, 1.4979000091552734, 1.4977999925613403, 1.4975999593734741, 1.4974000453948975, 1.4974000453948975, 1.496899962425232, 1.4967000484466553, 1.4967000484466553, 1.496500015258789, 1.496399998664856, 1.4961999654769897, 1.496000051498413, 1.49590003490448, 1.4958000183105469, 1.4958000183105469, 1.4957000017166138, 1.4957000017166138, 1.4955999851226807, 1.495300054550171, 1.4950000047683716, 1.4946999549865723, 1.4946999549865723, 1.4946000576019287, 1.4766000509262085, 1.462499976158142, 1.4315999746322632, 1.4696999788284302, 1.4629000425338745, 1.444599986076355, 1.4573999643325806, 1.4089000225067139, 1.4278000593185425, 1.3729000091552734, 1.2295000553131104, 1.3026000261306763, 0.5113000273704529, 1.2168999910354614, 1.2799999713897705, 1.149399995803833, 1.0848000049591064, 1.085800051689148, 1.2268999814987183, 0.09989999979734421, 0.8027999997138977, 1.138100028038025, 0.6086000204086304, 0.6704000234603882, 0.4287000000476837, 0.5113999843597412, 0.5667999982833862, 0.6905999779701233, 0.6714000105857849, 1.5296000242233276, 1.5281000137329102, 1.527999997138977, 1.527899980545044, 1.5261000394821167, 1.5260000228881836, 1.5256999731063843, 1.524899959564209, 1.524899959564209, 1.5226999521255493, 1.5218000411987305, 1.521399974822998, 1.520799994468689, 1.520400047302246, 1.5198999643325806, 1.5195000171661377, 1.5195000171661377, 1.5192999839782715, 1.5191999673843384, 1.5191999673843384, 1.5188000202178955, 1.518399953842163, 1.5181000232696533, 1.5181000232696533, 1.5180000066757202, 1.517899990081787, 1.5169999599456787, 1.516700029373169, 1.516700029373169, 1.5161999464035034, 1.5161000490188599, 1.4708000421524048, 1.5104000568389893, 1.513200044631958, 1.4837000370025635, 1.455299973487854, 1.4529000520706177, 1.404099941253662, 1.3282999992370605, 1.4076999425888062, 1.2653000354766846, 1.2747999429702759, 1.0157999992370605, 1.2414000034332275, 1.3300000429153442, 1.1581000089645386, 0.8478999733924866, 1.0614999532699585, 0.7382000088691711, 0.27950000762939453, 1.003100037574768, 0.9886999726295471, 0.769599974155426, 0.9300000071525574, 0.7721999883651733, 0.6118000149726868, 0.5532000064849854, 0.9128999710083008, 0.45159998536109924, 0.2703000009059906, 0.6880999803543091, 0.37389999628067017, -0.09830000251531601, 0.6832000017166138, -0.07199999690055847, 0.7641000151634216, 0.47519999742507935, 0.32249999046325684, 1.5851000547409058, 1.5850000381469727, 1.5842000246047974, 1.5835000276565552, 1.5830999612808228, 1.5829999446868896, 1.5829999446868896, 1.5820000171661377, 1.5819000005722046, 1.5819000005722046, 1.5819000005722046, 1.5815999507904053, 1.5815000534057617, 1.5813000202178955, 1.5813000202178955, 1.5813000202178955, 1.5810999870300293, 1.580899953842163, 1.580899953842163, 1.5807000398635864, 1.5806000232696533, 1.5805000066757202, 1.580399990081787, 1.5799000263214111, 1.579800009727478, 1.5794999599456787, 1.5793999433517456, 1.5793999433517456, 1.579300045967102, 1.5788999795913696, 1.5774999856948853, 1.5568000078201294, 1.5712000131607056, 1.4490000009536743, 1.4733999967575073, 1.4395999908447266, 1.381700038909912, 1.5098999738693237, 1.440000057220459, 0.9947999715805054, 1.2764999866485596, 0.8585000038146973, 1.0130000114440918, 0.8019000291824341, 0.34470000863075256, 0.699999988079071, 1.002500057220459, 1.1382999420166016, 0.3416000008583069, -0.6855999827384949, 0.3774000108242035, 0.1737000048160553, 0.4986000061035156, 0.3465000092983246, 0.4480000138282776, -0.005900000222027302, 0.5507000088691711, 0.4814999997615814, 0.8248999714851379, 0.7512000203132629, 2.2074999809265137, 2.2074999809265137, 2.205899953842163, 2.2054998874664307, 2.2053000926971436, 2.204900026321411, 2.202899932861328, 2.2023000717163086, 2.2014000415802, 2.2009999752044678, 2.200900077819824, 2.200500011444092, 2.2004001140594482, 2.200200080871582, 2.2000999450683594, 2.200000047683716, 2.199700117111206, 2.1989998817443848, 2.197200059890747, 2.196199893951416, 2.1960999965667725, 2.19569993019104, 2.1956000328063965, 2.194700002670288, 2.1944000720977783, 2.1933000087738037, 2.19320011138916, 2.193000078201294, 2.192500114440918, 2.192500114440918, 2.1793999671936035, 2.1854000091552734, 2.179800033569336, 2.1401000022888184, 2.1426000595092773, 2.1393001079559326, 2.152899980545044, 2.072999954223633, 2.085200071334839, 2.0216000080108643, 1.9494999647140503, 2.0406999588012695, 1.8444000482559204, 2.1308000087738037, 1.8073999881744385, 1.9495999813079834, 1.9378999471664429, 1.5389000177383423, 1.8903000354766846, 1.7590999603271484, 1.992300033569336, 1.702299952507019, 1.7932000160217285, 2.0127999782562256, 1.9661999940872192, 1.1333999633789062, 0.9275000095367432, 1.5456000566482544, 1.4098000526428223, 1.0364999771118164, 0.7247999906539917, 0.4535999894142151, 0.8256000280380249, 1.0374000072479248, 0.8108999729156494, 0.8550000190734863, 1.1833000183105469, 0.48750001192092896, 0.45509999990463257], \"logprob\": [30.0, 29.0, 28.0, 27.0, 26.0, 25.0, 24.0, 23.0, 22.0, 21.0, 20.0, 19.0, 18.0, 17.0, 16.0, 15.0, 14.0, 13.0, 12.0, 11.0, 10.0, 9.0, 8.0, 7.0, 6.0, 5.0, 4.0, 3.0, 2.0, 1.0, -4.013000011444092, -4.124199867248535, -4.480999946594238, -4.6493000984191895, -4.952400207519531, -4.9791998863220215, -5.020400047302246, -5.071599960327148, -4.506999969482422, -5.121300220489502, -5.150400161743164, -5.159299850463867, -4.977700233459473, -5.429900169372559, -5.514200210571289, -5.640999794006348, -5.661099910736084, -5.789100170135498, -5.3958001136779785, -5.870200157165527, -5.84250020980835, -5.905300140380859, -5.939700126647949, -6.0081000328063965, -6.027500152587891, -6.085700035095215, -6.122700214385986, -6.192200183868408, -6.209000110626221, -6.17080020904541, -5.3460001945495605, -4.695099830627441, -4.783299922943115, -4.947199821472168, -5.482999801635742, -4.5106000900268555, -4.718800067901611, -5.151599884033203, -5.0254998207092285, -5.371200084686279, -4.2133002281188965, -5.005199909210205, -3.8087000846862793, -4.976099967956543, -4.960899829864502, -5.183199882507324, -4.73829984664917, -5.1290998458862305, -5.322500228881836, -4.656400203704834, -4.617599964141846, -5.065499782562256, -5.214300155639648, -5.261899948120117, -5.5706000328063965, -5.65500020980835, -5.887199878692627, -5.879300117492676, -5.967899799346924, -5.998700141906738, -5.9994001388549805, -6.056300163269043, -6.151700019836426, -6.146399974822998, -6.1890997886657715, -6.19950008392334, -6.261099815368652, -6.239699840545654, -6.288000106811523, -6.337800025939941, -6.216899871826172, -6.2555999755859375, -6.344699859619141, -6.353400230407715, -6.405600070953369, -6.460400104522705, -6.45989990234375, -6.486299991607666, -6.5142998695373535, -4.222400188446045, -4.961599826812744, -4.578100204467773, -5.82919979095459, -5.680300235748291, -5.345699787139893, -6.006800174713135, -5.644599914550781, -5.803999900817871, -5.5208001136779785, -4.978000164031982, -5.608399868011475, -3.2614998817443848, -5.4440999031066895, -5.64870023727417, -5.598999977111816, -5.506999969482422, -5.520899772644043, -5.724599838256836, -4.747700214385986, -5.39109992980957, -5.700799942016602, -5.392399787902832, -5.470200061798096, -5.389100074768066, -5.427000045776367, -5.559199810028076, -5.598199844360352, -5.658100128173828, -2.988600015640259, -5.136000156402588, -5.226799964904785, -5.216599941253662, -5.95550012588501, -5.96150016784668, -5.9822998046875, -6.1921000480651855, -6.223999977111816, -6.58650016784668, -6.667200088500977, -6.762599945068359, -6.843200206756592, -6.855999946594238, -6.899799823760986, -6.972799777984619, -6.955100059509277, -6.975399971008301, -7.001999855041504, -6.9969000816345215, -7.004300117492676, -7.071199893951416, -7.103700160980225, -7.108399868011475, -7.100500106811523, -7.0879998207092285, -7.178800106048584, -7.22160005569458, -7.171999931335449, -7.198299884796143, -6.674300193786621, -4.71120023727417, -6.844799995422363, -7.031300067901611, -6.266300201416016, -6.1956000328063965, -6.325500011444092, -6.06790018081665, -5.614200115203857, -6.310500144958496, -5.410999774932861, -5.85099983215332, -5.0258002281188965, -5.901000022888184, -6.2459001541137695, -5.650599956512451, -4.732800006866455, -5.5100998878479, -4.624599933624268, -3.4932000637054443, -5.448800086975098, -5.46750020980835, -5.048299789428711, -5.471399784088135, -5.1803998947143555, -5.0131001472473145, -5.105000019073486, -5.609799861907959, -5.1427001953125, -5.000500202178955, -5.402500152587891, -5.409800052642822, -5.225100040435791, -5.665500164031982, -5.465000152587891, -5.722400188446045, -5.678800106048584, -5.67110013961792, -4.84630012512207, -4.908899784088135, -5.311699867248535, -5.60099983215332, -5.697000026702881, -5.698699951171875, -5.7058000564575195, -5.969299793243408, -5.946000099182129, -5.940700054168701, -5.995299816131592, -6.030399799346924, -6.069900035858154, -6.098899841308594, -6.054500102996826, -6.106200218200684, -6.143400192260742, -6.144800186157227, -6.176199913024902, -6.210000038146973, -6.222499847412109, -6.240200042724609, -6.263199806213379, -6.192800045013428, -6.336400032043457, -6.325699806213379, -6.401100158691406, -5.8302998542785645, -6.404300212860107, -6.449100017547607, -6.163400173187256, -4.8119001388549805, -5.712500095367432, -5.213799953460693, -5.448200225830078, -5.248199939727783, -5.229100227355957, -5.96019983291626, -5.7906999588012695, -4.5680999755859375, -5.386300086975098, -4.839300155639648, -5.125699996948242, -4.805600166320801, -4.502799987792969, -4.9583001136779785, -5.346199989318848, -5.58519983291626, -5.051400184631348, -4.4583001136779785, -5.2032999992370605, -5.097099781036377, -5.311399936676025, -5.247799873352051, -5.3043999671936035, -5.132800102233887, -5.4039998054504395, -5.564499855041504, -5.607399940490723, -5.674799919128418, -5.267600059509277, -5.286200046539307, -5.616399765014648, -5.685299873352051, -5.718900203704834, -5.781599998474121, -6.0416998863220215, -6.105500221252441, -6.204100131988525, -6.230899810791016, -6.191100120544434, -6.26609992980957, -6.299900054931641, -6.276400089263916, -6.268899917602539, -6.240099906921387, -6.297500133514404, -6.385300159454346, -6.416800022125244, -6.59660005569458, -6.622099876403809, -6.553999900817871, -6.597899913787842, -6.708499908447266, -6.601099967956543, -6.792200088500977, -6.776599884033203, -6.807799816131592, -6.786399841308594, -6.832699775695801, -4.864699840545654, -6.411200046539307, -6.157599925994873, -4.84630012512207, -5.158100128173828, -5.365499973297119, -5.867499828338623, -4.708799839019775, -5.317800045013428, -4.60129976272583, -4.560500144958496, -5.3394999504089355, -4.354899883270264, -6.0731000900268555, -4.644000053405762, -5.257699966430664, -5.255199909210205, -3.854099988937378, -5.142099857330322, -4.786099910736084, -5.719799995422363, -5.021500110626221, -5.262199878692627, -5.792399883270264, -5.786799907684326, -4.429500102996826, -4.435299873352051, -5.262899875640869, -5.15749979019165, -4.773499965667725, -4.546000003814697, -4.6732001304626465, -4.926799774169922, -5.088600158691406, -5.042699813842773, -5.138500213623047, -5.212800025939941, -5.13730001449585, -5.139200210571289]}, \"token.table\": {\"Topic\": [1, 2, 3, 4, 2, 2, 3, 4, 5, 1, 2, 3, 4, 5, 5, 3, 1, 2, 2, 2, 3, 2, 3, 5, 5, 2, 3, 4, 4, 4, 5, 4, 5, 3, 1, 2, 3, 4, 2, 1, 2, 1, 2, 3, 5, 1, 4, 1, 1, 2, 3, 4, 5, 4, 1, 2, 3, 5, 1, 3, 4, 5, 4, 4, 2, 5, 3, 4, 2, 3, 3, 3, 5, 1, 2, 3, 4, 5, 1, 2, 3, 1, 4, 1, 1, 2, 4, 1, 3, 2, 1, 2, 3, 4, 2, 2, 2, 2, 3, 5, 5, 1, 1, 5, 1, 2, 3, 3, 3, 1, 2, 3, 4, 5, 1, 2, 1, 2, 1, 2, 3, 1, 2, 1, 2, 3, 4, 5, 2, 4, 5, 5, 2, 4, 2, 3, 5, 1, 2, 3, 4, 5, 3, 5, 1, 2, 3, 3, 2, 4, 1, 3, 3, 3, 4, 3, 1, 3, 1, 1, 1, 2, 3, 4, 5, 3, 1, 3, 4, 5, 4, 5, 1, 3, 4, 5, 1, 3, 5, 1, 1, 2, 3, 4, 5, 1, 2, 3, 4, 5, 5, 5, 5, 4, 2, 2, 4, 2, 5, 1, 2, 3, 4, 5, 1, 3, 5, 3, 5, 1, 2, 1, 2, 3, 3, 2, 3, 4, 5, 2, 2, 2, 2, 4, 1, 3, 5, 2, 3, 4, 1, 2, 3, 4, 4, 3, 1, 2, 3, 4, 5, 1, 2, 3, 4, 5, 1, 2, 3, 4, 5, 1, 3, 1, 4, 4, 1, 2, 2, 1, 2, 3, 4, 5, 1, 3, 5, 4, 5, 3, 4, 5, 2, 5, 4, 5, 1, 1, 2, 3, 5, 4, 1, 1, 4, 5, 3, 1, 2, 3, 4, 1, 2, 3, 1, 2, 4, 5, 1, 3, 4, 5, 1, 2, 3, 4, 5, 1, 4, 1, 2, 4, 2, 2, 5, 1, 2, 4, 1, 3, 4, 3, 4, 5, 1, 3, 4, 5, 3, 5, 4, 1, 2, 3, 4, 5, 2, 1, 1, 2, 3, 4, 1, 2, 1, 2, 3, 4, 3, 4, 5, 4, 3, 1, 2, 3, 4, 5, 3, 3, 3, 2, 3, 4, 5, 4, 5, 2, 5, 3, 5, 1, 2, 3, 2, 1, 2, 3, 4, 5, 1, 4, 3, 5, 3, 4, 5, 2, 3, 5, 1, 2, 3, 4, 5, 5, 5, 1, 2, 4, 5, 1, 2, 1, 2, 4, 5, 3, 2, 4, 5, 1, 4, 5, 1, 2, 3, 1, 2, 2, 3, 4, 1, 5, 5, 3, 1, 2, 3, 4, 5, 2, 4, 2, 3, 4, 1, 1, 4, 2, 3, 3, 2, 5, 5, 2, 1, 2, 1, 2, 3, 4, 5, 5, 1, 2, 3, 4, 2, 3, 4, 4, 1, 4, 4, 1, 2, 3, 4, 2, 3, 5, 2, 3, 4, 1, 2, 3, 4, 5, 1, 2, 3, 4, 5, 3, 4, 5, 2, 2, 3, 5, 5, 2, 1, 3, 2, 3, 5, 3, 4, 4, 1, 2, 4, 3, 5, 1, 5, 4, 1, 5, 1, 2, 3, 4, 3, 4, 2, 4, 1, 2, 3, 4, 5, 3, 4, 5, 1, 4, 5, 1, 2, 3, 4, 1, 2, 3, 4, 5, 5, 1, 2, 3, 4, 5], \"Freq\": [0.8105958700180054, 0.0528150275349617, 0.03674088791012764, 0.10103744268417358, 0.9967262148857117, 0.6588036417961121, 0.2524612545967102, 0.0673229992389679, 0.019235141575336456, 0.13528141379356384, 0.1298154890537262, 0.5985177755355835, 0.11205127090215683, 0.02596309967339039, 0.9907696843147278, 0.9966994524002075, 0.9971721768379211, 0.994762659072876, 0.9983949661254883, 0.9298669099807739, 0.06738165766000748, 0.9953532218933105, 0.9944659471511841, 0.9895069003105164, 0.987733781337738, 0.961457371711731, 0.03805768862366676, 0.9954474568367004, 0.9974711537361145, 0.9982801675796509, 0.9969607591629028, 0.06678273528814316, 0.9314433932304382, 0.9962555170059204, 0.020594388246536255, 0.32127243280410767, 0.5910589098930359, 0.06590203940868378, 0.9953818321228027, 0.997192919254303, 0.9954372644424438, 0.07838959991931915, 0.17299774289131165, 0.14596684277057648, 0.6000859141349792, 0.9985443353652954, 0.9967336058616638, 0.9973629117012024, 0.39673981070518494, 0.4359612464904785, 0.04223845899105072, 0.125206857919693, 0.9845049977302551, 0.9959956407546997, 0.007517097983509302, 0.9095688462257385, 0.07892952859401703, 0.9982019066810608, 0.06472044438123703, 0.3471369445323944, 0.07354596257209778, 0.5148217082023621, 0.9920634627342224, 0.9972723722457886, 0.9970249533653259, 0.9883440732955933, 0.9967126250267029, 0.9978432655334473, 0.6584687232971191, 0.3387087285518646, 0.9981114268302917, 0.7757309079170227, 0.22221457958221436, 0.14501681923866272, 0.12159795314073563, 0.3990214169025421, 0.15582552552223206, 0.17834366858005524, 0.6272724270820618, 0.37094107270240784, 0.0012323623523116112, 0.9292218685150146, 0.07024039328098297, 0.995592474937439, 0.9985650181770325, 0.02842719480395317, 0.9703148603439331, 0.10958768427371979, 0.8840073347091675, 0.9909171462059021, 0.10135415941476822, 0.310267835855484, 0.5812350511550903, 0.0041369046084582806, 0.997331440448761, 0.9932560920715332, 0.9949694871902466, 0.14347174763679504, 0.03188261017203331, 0.8209772706031799, 0.9827304482460022, 0.9983131885528564, 0.9982854127883911, 0.9795403480529785, 0.15724699199199677, 0.07475677132606506, 0.7681902647018433, 0.9906760454177856, 0.9948196411132812, 0.9985605478286743, 0.10681261122226715, 0.017802100628614426, 0.8723029494285583, 0.002543157432228327, 0.998526930809021, 0.9969217777252197, 0.9988263845443726, 0.9911065101623535, 0.005711756646633148, 0.11423513293266296, 0.879610538482666, 0.11853837966918945, 0.8778247833251953, 0.413606733083725, 0.10659967362880707, 0.46477457880973816, 0.004263986833393574, 0.012791960500180721, 0.9910033941268921, 0.9841403365135193, 0.014194331131875515, 0.9719198942184448, 0.9985822439193726, 0.998779833316803, 0.04398227855563164, 0.1270599216222763, 0.8258894681930542, 0.3499673008918762, 0.24154604971408844, 0.02195873111486435, 0.3307533860206604, 0.05489683151245117, 0.06492890417575836, 0.9326151609420776, 0.7928248643875122, 0.19440019130706787, 0.011710855178534985, 0.9978147745132446, 0.005366943776607513, 0.992884635925293, 0.01171534787863493, 0.984089195728302, 0.9938940405845642, 0.9849868416786194, 0.9942914247512817, 0.9877710938453674, 0.998423159122467, 0.9997575879096985, 0.9976338744163513, 0.9970002770423889, 0.05328943580389023, 0.14414356648921967, 0.33982935547828674, 0.28916072845458984, 0.17297227680683136, 0.9989321231842041, 0.017779089510440826, 0.08889544755220413, 0.5536916255950928, 0.34034258127212524, 0.07124920934438705, 0.9262396693229675, 0.01003375742584467, 0.238803431391716, 0.4334583282470703, 0.31505998969078064, 0.09384844452142715, 0.13531635701656342, 0.7704302668571472, 0.995642364025116, 0.7182679176330566, 0.025961490347981453, 0.1269228458404541, 0.06490372866392136, 0.06346142292022705, 0.016250228509306908, 0.03482191637158394, 0.6267945170402527, 0.22053880989551544, 0.09982282668352127, 0.9850941300392151, 0.9870849847793579, 0.9844439029693604, 0.9987136721611023, 0.9906609058380127, 0.13558681309223175, 0.8630622029304504, 0.02714298851788044, 0.963576078414917, 0.13851267099380493, 0.15507397055625916, 0.10539007931947708, 0.5630841255187988, 0.039144884794950485, 0.9956347942352295, 0.9847370982170105, 0.9965869784355164, 0.029785295948386192, 0.9680221676826477, 0.8467910289764404, 0.15045489370822906, 0.13199640810489655, 0.7513641715049744, 0.11422766745090485, 0.9894459247589111, 0.2618097960948944, 0.274336576461792, 0.3545079827308655, 0.10773034393787384, 0.994651734828949, 0.9930933117866516, 0.9989973306655884, 0.134623184800148, 0.8615884184837341, 0.23005585372447968, 0.7476815581321716, 0.02054070122539997, 0.06276535987854004, 0.12070260941982269, 0.8135356307029724, 0.12429168075323105, 0.1945435106754303, 0.043231889605522156, 0.6376703977584839, 0.9918975234031677, 0.995428740978241, 0.1547396034002304, 0.0022105658426880836, 0.5393780469894409, 0.21884602308273315, 0.08179093897342682, 0.19532173871994019, 0.1266951858997345, 0.3146263659000397, 0.22066077589988708, 0.142532080411911, 0.06265772879123688, 0.08223827183246613, 0.5482551455497742, 0.08028021454811096, 0.22517621517181396, 0.03771400824189186, 0.9579358100891113, 0.9961262941360474, 0.002895715879276395, 0.9918336868286133, 0.06749480217695236, 0.931692898273468, 0.9973695278167725, 0.09755256026983261, 0.037002697587013245, 0.8174232244491577, 0.04709434136748314, 0.9798444509506226, 0.9984356164932251, 0.3640126585960388, 0.6353264451026917, 0.04942038655281067, 0.9389873743057251, 0.9976733922958374, 0.9938471913337708, 0.9843008518218994, 0.1288948953151703, 0.8707565665245056, 0.22794608771800995, 0.7715098261833191, 0.9995337128639221, 0.5579270124435425, 0.1387277990579605, 0.2261866182088852, 0.07539553940296173, 0.9984455108642578, 0.995856761932373, 0.5154603719711304, 0.48251739144325256, 0.0019378208089619875, 0.9980963468551636, 0.3587208688259125, 0.1224900558590889, 0.4687119424343109, 0.04874604195356369, 0.9761114716529846, 0.023910511285066605, 0.9904807806015015, 0.5932303071022034, 0.06905925273895264, 0.09170163422822952, 0.2468019276857376, 0.6513229608535767, 0.34859538078308105, 0.9950951337814331, 0.9881520867347717, 0.998155415058136, 0.392488956451416, 0.09366214275360107, 0.2036779820919037, 0.30923372507095337, 0.9959121346473694, 0.9976597428321838, 0.012334003113210201, 0.9620522856712341, 0.024668006226420403, 0.9991406798362732, 0.2118266373872757, 0.7792194485664368, 0.46491381525993347, 0.24632565677165985, 0.28896692395210266, 0.9989814162254333, 0.9808850884437561, 0.013815282844007015, 0.20142759382724762, 0.28785574436187744, 0.5099974870681763, 0.19267457723617554, 0.45327043533325195, 0.07762429118156433, 0.2772296071052551, 0.98866206407547, 0.9890273809432983, 0.9964168667793274, 0.1285446286201477, 0.18697400391101837, 0.30188509821891785, 0.02531939558684826, 0.35836684703826904, 0.992236852645874, 0.9975712299346924, 0.2642139494419098, 0.4354974627494812, 0.2623917758464813, 0.038265470415353775, 0.028824832290410995, 0.9704360365867615, 0.057620689272880554, 0.6944809556007385, 0.1819600760936737, 0.06368602067232132, 0.103713259100914, 0.1339629590511322, 0.760563850402832, 0.9987844228744507, 0.9919764399528503, 0.32359907031059265, 0.11325967311859131, 0.05547412484884262, 0.05778554826974869, 0.4484158456325531, 0.9944884777069092, 0.9949646592140198, 0.983429491519928, 0.4964577853679657, 0.21322226524353027, 0.17662440240383148, 0.11456718295812607, 0.9975652694702148, 0.9903053641319275, 0.11727873980998993, 0.8795905709266663, 0.1960836499929428, 0.8061216473579407, 0.023759037256240845, 0.760289192199707, 0.2138313353061676, 0.9911385774612427, 0.237842857837677, 0.3713909983634949, 0.28645721077919006, 0.10302284359931946, 0.0012718869838863611, 0.0074737644754350185, 0.9940106868743896, 0.15632230043411255, 0.8441404700279236, 0.9895457625389099, 0.9947546124458313, 0.9748979806900024, 0.9981625080108643, 0.3389267325401306, 0.659024178981781, 0.23356030881404877, 0.02719537913799286, 0.04639211669564247, 0.0015997281298041344, 0.6926823258399963, 0.9973567724227905, 0.9925616979598999, 0.46888500452041626, 0.44439101219177246, 0.006998283322900534, 0.08048026263713837, 0.8675222992897034, 0.13210470974445343, 0.3009124994277954, 0.10501644015312195, 0.46651536226272583, 0.12723146378993988, 0.9823794364929199, 0.9748780131340027, 0.02425069734454155, 0.9878793954849243, 0.9988089799880981, 0.9236235022544861, 0.0684165507555008, 0.19574446976184845, 0.799566388130188, 0.9929438829421997, 0.05488678812980652, 0.9446305632591248, 0.9971672296524048, 0.9925165772438049, 0.9908754825592041, 0.9517885446548462, 0.045323263853788376, 0.9897916913032532, 0.9898821115493774, 0.24743586778640747, 0.04688258469104767, 0.299527645111084, 0.14846152067184448, 0.2578542232513428, 0.957876980304718, 0.03967537730932236, 0.8181111812591553, 0.016297034919261932, 0.16297036409378052, 0.9937184453010559, 0.9980897903442383, 0.9926206469535828, 0.06983303278684616, 0.9233479499816895, 0.987319827079773, 0.9902891516685486, 0.9706342816352844, 0.9838855862617493, 0.9977279305458069, 0.5890903472900391, 0.4093456268310547, 0.11460717022418976, 0.1933996081352234, 0.12279339879751205, 0.3202861249446869, 0.24967990815639496, 0.9901953339576721, 0.09416268020868301, 0.03236842155456543, 0.6885645985603333, 0.18244019150733948, 0.004717082716524601, 0.9434165358543396, 0.05188790708780289, 0.9953358769416809, 0.9982040524482727, 0.0011925974395126104, 0.995707094669342, 0.0207557063549757, 0.34192296862602234, 0.467549592256546, 0.1693228781223297, 0.7036558389663696, 0.030473284423351288, 0.26594865322113037, 0.013003071770071983, 0.4291013479232788, 0.5572744607925415, 0.01676345057785511, 0.15645886957645416, 0.3762463331222534, 0.4116358160972595, 0.038183413445949554, 0.17130041122436523, 0.07522048056125641, 0.28381508588790894, 0.24336037039756775, 0.22629353404045105, 0.024699412286281586, 0.30668437480926514, 0.6668841242790222, 0.9963062405586243, 0.006337104830890894, 0.8174865245819092, 0.17110183835029602, 0.9936968088150024, 0.9966264367103577, 0.06830724328756332, 0.9289785623550415, 0.9963690042495728, 0.017587967216968536, 0.9673382043838501, 0.9940444827079773, 0.9957844614982605, 0.9954407215118408, 0.9989194273948669, 0.2644767165184021, 0.7323970198631287, 0.06256573647260666, 0.9336733222007751, 0.9313181638717651, 0.06738665699958801, 0.993931233882904, 0.9883727431297302, 0.010921246372163296, 0.1042761504650116, 0.09134935587644577, 0.5058686137199402, 0.2981780767440796, 0.10541126132011414, 0.8927016258239746, 0.7613418698310852, 0.2371128350496292, 0.0860968604683876, 0.26259541511535645, 0.4304842948913574, 0.014349476434290409, 0.2051975131034851, 0.040483273565769196, 0.2318587452173233, 0.7250186204910278, 0.993140459060669, 0.9962651133537292, 0.9872210025787354, 0.2106608897447586, 0.15312744677066803, 0.17968134582042694, 0.4558418393135071, 0.12574057281017303, 0.0043358816765248775, 0.22546584904193878, 0.3371148109436035, 0.3089315891265869, 0.9860783815383911, 0.36346346139907837, 0.06459140032529831, 0.19651111960411072, 0.20362712442874908, 0.17242619395256042], \"Term\": [\"accord\", \"accord\", \"accord\", \"accord\", \"accuse\", \"action\", \"action\", \"action\", \"action\", \"add\", \"add\", \"add\", \"add\", \"add\", \"album\", \"ambition\", \"analyst\", \"answer\", \"anti\", \"appeal\", \"appeal\", \"arrest\", \"arsenal\", \"athlete\", \"athletic\", \"attack\", \"attack\", \"audience\", \"audio\", \"award\", \"ball\", \"beat\", \"beat\", \"belief\", \"believe\", \"believe\", \"believe\", \"believe\", \"bittorrent\", \"blog\", \"blogger\", \"break\", \"break\", \"break\", \"break\", \"broadband\", \"broadcast\", \"cable\", \"call\", \"call\", \"call\", \"call\", \"captain\", \"career\", \"case\", \"case\", \"case\", \"champion\", \"chance\", \"chance\", \"chance\", \"chance\", \"channel\", \"character\", \"charge\", \"chart\", \"chelsea\", \"child\", \"claim\", \"claim\", \"club\", \"coach\", \"coach\", \"come\", \"come\", \"come\", \"come\", \"come\", \"company\", \"company\", \"company\", \"computer\", \"computer\", \"console\", \"consumer\", \"content\", \"content\", \"contract\", \"contract\", \"copyright\", \"country\", \"country\", \"country\", \"country\", \"court\", \"crime\", \"criminal\", \"cross\", \"cross\", \"cross\", \"crowd\", \"customer\", \"datum\", \"davy\", \"deal\", \"deal\", \"deal\", \"debt\", \"defeat\", \"device\", \"different\", \"different\", \"different\", \"different\", \"digital\", \"document\", \"download\", \"drug\", \"duty\", \"duty\", \"duty\", \"election\", \"election\", \"expect\", \"expect\", \"expect\", \"expect\", \"expect\", \"fake\", \"feature\", \"feature\", \"federer\", \"file\", \"film\", \"final\", \"final\", \"final\", \"find\", \"find\", \"find\", \"find\", \"find\", \"finish\", \"finish\", \"firm\", \"firm\", \"firm\", \"football\", \"format\", \"format\", \"frame\", \"frame\", \"french\", \"fresh\", \"friend\", \"friendly\", \"gadget\", \"game\", \"gamer\", \"gaming\", \"go\", \"go\", \"go\", \"go\", \"go\", \"goal\", \"good\", \"good\", \"good\", \"good\", \"grand\", \"grand\", \"great\", \"great\", \"great\", \"great\", \"half\", \"half\", \"half\", \"handset\", \"high\", \"high\", \"high\", \"high\", \"high\", \"hope\", \"hope\", \"hope\", \"hope\", \"hope\", \"hurdle\", \"i\\\\'d\", \"i\\\\'ll\", \"idea\", \"illegal\", \"image\", \"image\", \"impressive\", \"impressive\", \"include\", \"include\", \"include\", \"include\", \"include\", \"increase\", \"indian\", \"indoor\", \"injury\", \"injury\", \"internet\", \"internet\", \"issue\", \"issue\", \"issue\", \"knee\", \"know\", \"know\", \"know\", \"know\", \"law\", \"lawsuit\", \"legal\", \"let\", \"let\", \"level\", \"level\", \"level\", \"life\", \"life\", \"life\", \"list\", \"list\", \"list\", \"list\", \"listen\", \"liverpool\", \"long\", \"long\", \"long\", \"long\", \"long\", \"look\", \"look\", \"look\", \"look\", \"look\", \"lose\", \"lose\", \"lose\", \"lose\", \"lose\", \"loss\", \"loss\", \"machine\", \"machine\", \"magazine\", \"mail\", \"mail\", \"malicious\", \"manager\", \"manager\", \"manager\", \"manager\", \"marathon\", \"market\", \"match\", \"match\", \"medal\", \"medal\", \"meeting\", \"memory\", \"mile\", \"minute\", \"minute\", \"miss\", \"miss\", \"mobile\", \"month\", \"month\", \"month\", \"month\", \"movie\", \"multimedia\", \"music\", \"music\", \"music\", \"nation\", \"need\", \"need\", \"need\", \"need\", \"network\", \"network\", \"nuclear\", \"number\", \"number\", \"number\", \"number\", \"offer\", \"offer\", \"old\", \"olympic\", \"online\", \"open\", \"open\", \"open\", \"open\", \"operator\", \"original\", \"party\", \"party\", \"party\", \"peer\", \"penalty\", \"penalty\", \"people\", \"people\", \"people\", \"phone\", \"pitch\", \"pitch\", \"play\", \"play\", \"play\", \"player\", \"player\", \"player\", \"player\", \"playing\", \"plenty\", \"podcast\", \"point\", \"point\", \"point\", \"point\", \"point\", \"police\", \"portable\", \"problem\", \"problem\", \"problem\", \"problem\", \"protect\", \"protect\", \"public\", \"public\", \"public\", \"public\", \"race\", \"race\", \"race\", \"radio\", \"ranger\", \"record\", \"record\", \"record\", \"record\", \"record\", \"referee\", \"relief\", \"reward\", \"right\", \"right\", \"right\", \"right\", \"robot\", \"roddick\", \"round\", \"round\", \"rugby\", \"rugby\", \"rule\", \"rule\", \"rule\", \"ruling\", \"say\", \"say\", \"say\", \"say\", \"say\", \"school\", \"school\", \"score\", \"score\", \"scottish\", \"screen\", \"scrum\", \"search\", \"season\", \"season\", \"second\", \"second\", \"second\", \"second\", \"second\", \"seed\", \"semi\", \"send\", \"send\", \"send\", \"send\", \"service\", \"service\", \"show\", \"show\", \"show\", \"show\", \"side\", \"site\", \"site\", \"slam\", \"software\", \"song\", \"song\", \"source\", \"source\", \"south\", \"spam\", \"spam\", \"spammer\", \"spanish\", \"speech\", \"speed\", \"speed\", \"squad\", \"stadium\", \"start\", \"start\", \"start\", \"start\", \"start\", \"steal\", \"steal\", \"stop\", \"stop\", \"stop\", \"storage\", \"store\", \"story\", \"strike\", \"strike\", \"striker\", \"student\", \"superb\", \"surface\", \"suspect\", \"system\", \"system\", \"take\", \"take\", \"take\", \"take\", \"take\", \"talent\", \"talk\", \"talk\", \"talk\", \"talk\", \"team\", \"team\", \"team\", \"technical\", \"technology\", \"technology\", \"television\", \"tell\", \"tell\", \"tell\", \"tell\", \"test\", \"test\", \"test\", \"thing\", \"thing\", \"thing\", \"think\", \"think\", \"think\", \"think\", \"think\", \"time\", \"time\", \"time\", \"time\", \"time\", \"title\", \"title\", \"title\", \"tory\", \"tough\", \"tough\", \"tough\", \"tournament\", \"traffic\", \"transfer\", \"transfer\", \"trial\", \"triple\", \"triple\", \"tsunami\", \"type\", \"useful\", \"user\", \"version\", \"version\", \"victory\", \"victory\", \"video\", \"video\", \"viewer\", \"virus\", \"virus\", \"want\", \"want\", \"want\", \"want\", \"watch\", \"watch\", \"website\", \"website\", \"week\", \"week\", \"week\", \"week\", \"week\", \"win\", \"win\", \"win\", \"wireless\", \"woman\", \"women\\\\\", \"work\", \"work\", \"work\", \"work\", \"world\", \"world\", \"world\", \"world\", \"world\", \"yard\", \"year\", \"year\", \"year\", \"year\", \"year\"]}, \"R\": 30, \"lambda.step\": 0.01, \"plot.opts\": {\"xlab\": \"PC1\", \"ylab\": \"PC2\"}, \"topic.order\": [3, 2, 5, 4, 1]};\n",
       "\n",
       "function LDAvis_load_lib(url, callback){\n",
       "  var s = document.createElement('script');\n",
       "  s.src = url;\n",
       "  s.async = true;\n",
       "  s.onreadystatechange = s.onload = callback;\n",
       "  s.onerror = function(){console.warn(\"failed to load library \" + url);};\n",
       "  document.getElementsByTagName(\"head\")[0].appendChild(s);\n",
       "}\n",
       "\n",
       "if(typeof(LDAvis) !== \"undefined\"){\n",
       "   // already loaded: just create the visualization\n",
       "   !function(LDAvis){\n",
       "       new LDAvis(\"#\" + \"ldavis_el3714952478987522924849034\", ldavis_el3714952478987522924849034_data);\n",
       "   }(LDAvis);\n",
       "}else if(typeof define === \"function\" && define.amd){\n",
       "   // require.js is available: use it to load d3/LDAvis\n",
       "   require.config({paths: {d3: \"https://cdnjs.cloudflare.com/ajax/libs/d3/3.5.5/d3.min\"}});\n",
       "   require([\"d3\"], function(d3){\n",
       "      window.d3 = d3;\n",
       "      LDAvis_load_lib(\"https://cdn.rawgit.com/bmabey/pyLDAvis/files/ldavis.v1.0.0.js\", function(){\n",
       "        new LDAvis(\"#\" + \"ldavis_el3714952478987522924849034\", ldavis_el3714952478987522924849034_data);\n",
       "      });\n",
       "    });\n",
       "}else{\n",
       "    // require.js not available: dynamically load d3 & LDAvis\n",
       "    LDAvis_load_lib(\"https://cdnjs.cloudflare.com/ajax/libs/d3/3.5.5/d3.min.js\", function(){\n",
       "         LDAvis_load_lib(\"https://cdn.rawgit.com/bmabey/pyLDAvis/files/ldavis.v1.0.0.js\", function(){\n",
       "                 new LDAvis(\"#\" + \"ldavis_el3714952478987522924849034\", ldavis_el3714952478987522924849034_data);\n",
       "            })\n",
       "         });\n",
       "}\n",
       "</script>"
      ],
      "text/plain": [
       "<IPython.core.display.HTML object>"
      ]
     },
     "execution_count": 8,
     "metadata": {},
     "output_type": "execute_result"
    }
   ],
   "source": [
    "import pyLDAvis\n",
    "import pyLDAvis.gensim\n",
    "\n",
    "vis = pyLDAvis.gensim.prepare(lda_model, corpus, dictionary)\n",
    "pyLDAvis.display(vis)"
   ]
  }
 ],
 "metadata": {
  "kernelspec": {
   "display_name": "Python 3",
   "language": "python",
   "name": "python3"
  },
  "language_info": {
   "codemirror_mode": {
    "name": "ipython",
    "version": 3
   },
   "file_extension": ".py",
   "mimetype": "text/x-python",
   "name": "python",
   "nbconvert_exporter": "python",
   "pygments_lexer": "ipython3",
   "version": "3.6.9"
  }
 },
 "nbformat": 4,
 "nbformat_minor": 2
}
