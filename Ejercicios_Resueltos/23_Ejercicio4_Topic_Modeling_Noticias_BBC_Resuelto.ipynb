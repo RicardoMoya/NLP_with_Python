{
 "cells": [
  {
   "cell_type": "markdown",
   "metadata": {},
   "source": [
    "# 23 - Ejercicio: Topic Modeling - Noticias BBC News\n",
    "\n",
    "\n",
    "* En el siguiente ejercicio tiene como objetivo aplicar los conocimientos adquiridos de ***Topic Modeling***, utilizando el LDA.\n",
    "\n",
    "\n",
    "* Para ello vamos a trabajar con unos ***artículos de noticias publicados por la BBC*** que los tienen categorizados en 5 temas (Topics)\n",
    "\n",
    "    - Business\n",
    "    - Entertainment\n",
    "    - Politics\n",
    "    - Sport\n",
    "    - Tech\n",
    "\n",
    "\n",
    "* El objetivo de este ejercicio es el de ***obtener un número de temas (Topics) adecuados según los artículos y ver las relaciones entre los temas (Topics) y las palabras (Terms) que caracterizan a los temas (Topics)***.\n",
    "\n",
    "\n",
    "* Pasos a realizar en el ejercicio:\n",
    "\n",
    "    1. Carga de datos\n",
    "    2. Normalizar los textos\n",
    "    3. Creacción del diccionario y la bolsa de palabras\n",
    "    4. Selección del número óptimo de Topics\n",
    "    5. Creacción del Modelo\n",
    "    6. Visualización"
   ]
  },
  {
   "cell_type": "markdown",
   "metadata": {},
   "source": [
    "<hr>\n",
    "\n",
    "\n",
    "## Carga de Datos\n",
    "\n",
    "\n",
    "* El fichero en formato csv contiene una serie de noticias en los que le asigna una temática.\n",
    "\n",
    "\n",
    "* Cada elemento del Json contiene:\n",
    "    - **news**: Contenido del artículo\n",
    "    - **type**: Temática\n",
    "    \n",
    "    \n",
    "* Leemos los datos y mostramos una muestra:"
   ]
  },
  {
   "cell_type": "code",
   "execution_count": 1,
   "metadata": {},
   "outputs": [
    {
     "data": {
      "text/html": [
       "<div>\n",
       "<style scoped>\n",
       "    .dataframe tbody tr th:only-of-type {\n",
       "        vertical-align: middle;\n",
       "    }\n",
       "\n",
       "    .dataframe tbody tr th {\n",
       "        vertical-align: top;\n",
       "    }\n",
       "\n",
       "    .dataframe thead th {\n",
       "        text-align: right;\n",
       "    }\n",
       "</style>\n",
       "<table border=\"1\" class=\"dataframe\">\n",
       "  <thead>\n",
       "    <tr style=\"text-align: right;\">\n",
       "      <th></th>\n",
       "      <th>news</th>\n",
       "      <th>type</th>\n",
       "    </tr>\n",
       "  </thead>\n",
       "  <tbody>\n",
       "    <tr>\n",
       "      <th>663</th>\n",
       "      <td>Gervais writing Simpsons episode\\n \\n The Offi...</td>\n",
       "      <td>entertainment</td>\n",
       "    </tr>\n",
       "    <tr>\n",
       "      <th>971</th>\n",
       "      <td>UKIP candidate suspended\\n \\n Eurosceptic part...</td>\n",
       "      <td>politics</td>\n",
       "    </tr>\n",
       "    <tr>\n",
       "      <th>183</th>\n",
       "      <td>Umbro profits lifted by Euro 2004\\n \\n UK spor...</td>\n",
       "      <td>business</td>\n",
       "    </tr>\n",
       "    <tr>\n",
       "      <th>1407</th>\n",
       "      <td>Rovers reject third Ferguson bid\\n \\n Blackbur...</td>\n",
       "      <td>sport</td>\n",
       "    </tr>\n",
       "    <tr>\n",
       "      <th>1586</th>\n",
       "      <td>Lions blow to World Cup winners\\n \\n British a...</td>\n",
       "      <td>sport</td>\n",
       "    </tr>\n",
       "  </tbody>\n",
       "</table>\n",
       "</div>"
      ],
      "text/plain": [
       "                                                   news           type\n",
       "663   Gervais writing Simpsons episode\\n \\n The Offi...  entertainment\n",
       "971   UKIP candidate suspended\\n \\n Eurosceptic part...       politics\n",
       "183   Umbro profits lifted by Euro 2004\\n \\n UK spor...       business\n",
       "1407  Rovers reject third Ferguson bid\\n \\n Blackbur...          sport\n",
       "1586  Lions blow to World Cup winners\\n \\n British a...          sport"
      ]
     },
     "execution_count": 1,
     "metadata": {},
     "output_type": "execute_result"
    }
   ],
   "source": [
    "import warnings\n",
    "warnings.filterwarnings('ignore')\n",
    "import pandas as pd\n",
    "\n",
    "file = '../data/BBC_News.csv'\n",
    "df = pd.read_csv(file, encoding=\"iso-8859-1\")\n",
    "documents = [str(x.encode('utf8')) for x in df.news.values] # Lista de documentos\n",
    "df.sample(5)"
   ]
  },
  {
   "cell_type": "markdown",
   "metadata": {},
   "source": [
    "* Vemos los 5 tipos de artículos"
   ]
  },
  {
   "cell_type": "code",
   "execution_count": 2,
   "metadata": {},
   "outputs": [
    {
     "data": {
      "text/html": [
       "<div>\n",
       "<style scoped>\n",
       "    .dataframe tbody tr th:only-of-type {\n",
       "        vertical-align: middle;\n",
       "    }\n",
       "\n",
       "    .dataframe tbody tr th {\n",
       "        vertical-align: top;\n",
       "    }\n",
       "\n",
       "    .dataframe thead th {\n",
       "        text-align: right;\n",
       "    }\n",
       "</style>\n",
       "<table border=\"1\" class=\"dataframe\">\n",
       "  <thead>\n",
       "    <tr style=\"text-align: right;\">\n",
       "      <th></th>\n",
       "      <th>news</th>\n",
       "    </tr>\n",
       "    <tr>\n",
       "      <th>type</th>\n",
       "      <th></th>\n",
       "    </tr>\n",
       "  </thead>\n",
       "  <tbody>\n",
       "    <tr>\n",
       "      <th>business</th>\n",
       "      <td>510</td>\n",
       "    </tr>\n",
       "    <tr>\n",
       "      <th>entertainment</th>\n",
       "      <td>386</td>\n",
       "    </tr>\n",
       "    <tr>\n",
       "      <th>politics</th>\n",
       "      <td>417</td>\n",
       "    </tr>\n",
       "    <tr>\n",
       "      <th>sport</th>\n",
       "      <td>511</td>\n",
       "    </tr>\n",
       "    <tr>\n",
       "      <th>tech</th>\n",
       "      <td>401</td>\n",
       "    </tr>\n",
       "  </tbody>\n",
       "</table>\n",
       "</div>"
      ],
      "text/plain": [
       "               news\n",
       "type               \n",
       "business        510\n",
       "entertainment   386\n",
       "politics        417\n",
       "sport           511\n",
       "tech            401"
      ]
     },
     "execution_count": 2,
     "metadata": {},
     "output_type": "execute_result"
    }
   ],
   "source": [
    "df.groupby(['type']).count()"
   ]
  },
  {
   "cell_type": "markdown",
   "metadata": {},
   "source": [
    "<hr>\n",
    "\n",
    "\n",
    "## Normalizar los textos\n",
    "\n",
    "\n",
    "* Utilizamos ***spaCy*** para la tokenización y normalización.\n",
    "\n",
    "\n",
    "* Para ***normalizar*** los artículos realizaremos las siguientes acciones:\n",
    "    1. Pasamos las frases a minúsculas.\n",
    "    2. Eliminamos los signos de puntuación.\n",
    "    3. Eliminamos las palabras con menos de 4 caracteres.\n",
    "    4. Eliminamos las palabras con mas de 12 caracteres.\n",
    "    5. Eliminamos las Stop-Words.\n",
    "    6. Eliminamos los emails\n",
    "    7. Eliminamos los saltos de linea\n",
    "    8. Filtramos las palabras que no sean Nombre, Adjetivo, Verbo o Adverbio\n",
    "    9. Pasamos la palabra a su lema\n",
    "\n",
    "\n",
    "* Todos estos pasos los vamos a realizar en una misma función."
   ]
  },
  {
   "cell_type": "code",
   "execution_count": 3,
   "metadata": {},
   "outputs": [
    {
     "name": "stderr",
     "output_type": "stream",
     "text": [
      "100%|██████████| 2225/2225 [01:44<00:00, 21.34it/s]\n"
     ]
    }
   ],
   "source": [
    "import re\n",
    "import spacy\n",
    "\n",
    "from tqdm import tqdm \n",
    "\n",
    "nlp = spacy.load('en_core_web_sm')\n",
    "\n",
    "\n",
    "def normalize(corpus):\n",
    "    \"\"\"normalizamos la lista de frases y devolvemos la misma lista de frases normalizada\"\"\"\n",
    "    for index, doc in enumerate(tqdm(corpus)):\n",
    "        doc = nlp(doc.lower().replace('\\\\\\\\n',''))\n",
    "        corpus[index] = \" \".join([word.lemma_ for word in doc if (not word.is_punct)\n",
    "                                  and (len(word.text) > 3) \n",
    "                                  and (len(word.text) < 11) \n",
    "                                  and (not word.is_stop)\n",
    "                                  and re.sub('\\S*@\\S*\\s?', '', word.text)\n",
    "                                  and re.sub('\\s+', ' ', word.text)\n",
    "                                  and (word.pos_ in ['NOUN', 'ADJ', 'VERB', 'ADV'])])\n",
    "        \n",
    "        \n",
    "    return corpus\n",
    "\n",
    "# Normalizamos las frases\n",
    "corpus_norm = normalize(documents)"
   ]
  },
  {
   "cell_type": "markdown",
   "metadata": {},
   "source": [
    "<hr>\n",
    "\n",
    "\n",
    "## Creacción del diccionario y la bolsa de palabras\n",
    "\n",
    "\n",
    "* En este punto tenemos que crear:\n",
    "    - Corpus tokenizado: \"*documents_tok*\"\n",
    "    - Diccionario: \"*dictionary*\"\n",
    "    - Corpus: \"*corpus*' que es la bolsa de palabras de gensim"
   ]
  },
  {
   "cell_type": "code",
   "execution_count": 4,
   "metadata": {},
   "outputs": [
    {
     "name": "stdout",
     "output_type": "stream",
     "text": [
      "Diccionario:\n",
      "Dictionary(22113 unique tokens: ['27bn', 'able', 'accord', 'agree', 'ambition']...)\n",
      "\n",
      "Primer Documento del Corpus:\n",
      "[(0, 1), (1, 1), (2, 1), (3, 1), (4, 1), (5, 2), (6, 1), (7, 1), (8, 1), (9, 2), (10, 1), (11, 1), (12, 1), (13, 1), (14, 1), (15, 1), (16, 2), (17, 1), (18, 4), (19, 1), (20, 1), (21, 4), (22, 1), (23, 2), (24, 1), (25, 1), (26, 3), (27, 1), (28, 1), (29, 1), (30, 1), (31, 2), (32, 1), (33, 6), (34, 1), (35, 1), (36, 1), (37, 1), (38, 1), (39, 1), (40, 1), (41, 1), (42, 1), (43, 1), (44, 1), (45, 1), (46, 1), (47, 1), (48, 3), (49, 1), (50, 1), (51, 1), (52, 1), (53, 1), (54, 1), (55, 1), (56, 1), (57, 1), (58, 2), (59, 1), (60, 5), (61, 1), (62, 1), (63, 1), (64, 1), (65, 1), (66, 1), (67, 1), (68, 2), (69, 1), (70, 1), (71, 1), (72, 1), (73, 1), (74, 4), (75, 2), (76, 1), (77, 1), (78, 1), (79, 1), (80, 1), (81, 1), (82, 1), (83, 1), (84, 1), (85, 1), (86, 1), (87, 2), (88, 1), (89, 1), (90, 1), (91, 2), (92, 1), (93, 1), (94, 1), (95, 1), (96, 1), (97, 1), (98, 1), (99, 2), (100, 1), (101, 2), (102, 1), (103, 1), (104, 1), (105, 1), (106, 1), (107, 1), (108, 2), (109, 1), (110, 10), (111, 3), (112, 6), (113, 1), (114, 6), (115, 1), (116, 2), (117, 2), (118, 1), (119, 1), (120, 1), (121, 1), (122, 1), (123, 2), (124, 1), (125, 4), (126, 1), (127, 1), (128, 4), (129, 1), (130, 1), (131, 1), (132, 1), (133, 2), (134, 1), (135, 1), (136, 1), (137, 1), (138, 1), (139, 1), (140, 1), (141, 2), (142, 6), (143, 5)]\n"
     ]
    }
   ],
   "source": [
    "from pprint import pprint\n",
    "from gensim import corpora\n",
    "from collections import defaultdict\n",
    "\n",
    "# Tokenizamos\n",
    "documents_tok = [word.split() for word in corpus_norm]\n",
    "\n",
    "# Creamos el diccionario (vocabulario)\n",
    "frequency = defaultdict(int)\n",
    "for doc in documents_tok:\n",
    "    for token in doc:\n",
    "        frequency[token] += 1\n",
    "        \n",
    "documents = [[token for token in doc] for doc in documents_tok]\n",
    "dictionary = corpora.Dictionary(documents)\n",
    "print('Diccionario:\\n{}'.format(dictionary))\n",
    "\n",
    "\n",
    "# Creamos la Bolsa de Palabras\n",
    "corpus = [dictionary.doc2bow(doc) for doc in documents]\n",
    "print('\\nPrimer Documento del Corpus:\\n{}'.format(corpus[0]))"
   ]
  },
  {
   "cell_type": "markdown",
   "metadata": {},
   "source": [
    "<hr>\n",
    "\n",
    "\n",
    "## Selección del número óptimo de Topics"
   ]
  },
  {
   "cell_type": "code",
   "execution_count": 5,
   "metadata": {},
   "outputs": [
    {
     "name": "stderr",
     "output_type": "stream",
     "text": [
      "100%|██████████| 9/9 [04:02<00:00, 26.93s/it]\n"
     ]
    },
    {
     "data": {
      "text/html": [
       "<div>\n",
       "<style scoped>\n",
       "    .dataframe tbody tr th:only-of-type {\n",
       "        vertical-align: middle;\n",
       "    }\n",
       "\n",
       "    .dataframe tbody tr th {\n",
       "        vertical-align: top;\n",
       "    }\n",
       "\n",
       "    .dataframe thead th {\n",
       "        text-align: right;\n",
       "    }\n",
       "</style>\n",
       "<table border=\"1\" class=\"dataframe\">\n",
       "  <thead>\n",
       "    <tr style=\"text-align: right;\">\n",
       "      <th></th>\n",
       "      <th>Coherence</th>\n",
       "    </tr>\n",
       "  </thead>\n",
       "  <tbody>\n",
       "    <tr>\n",
       "      <th>Num Topics: 2</th>\n",
       "      <td>-1.395223</td>\n",
       "    </tr>\n",
       "    <tr>\n",
       "      <th>Num Topics: 3</th>\n",
       "      <td>-1.570768</td>\n",
       "    </tr>\n",
       "    <tr>\n",
       "      <th>Num Topics: 4</th>\n",
       "      <td>-1.533582</td>\n",
       "    </tr>\n",
       "    <tr>\n",
       "      <th>Num Topics: 5</th>\n",
       "      <td>-1.540585</td>\n",
       "    </tr>\n",
       "    <tr>\n",
       "      <th>Num Topics: 6</th>\n",
       "      <td>-2.033675</td>\n",
       "    </tr>\n",
       "    <tr>\n",
       "      <th>Num Topics: 7</th>\n",
       "      <td>-2.215594</td>\n",
       "    </tr>\n",
       "    <tr>\n",
       "      <th>Num Topics: 8</th>\n",
       "      <td>-2.950640</td>\n",
       "    </tr>\n",
       "    <tr>\n",
       "      <th>Num Topics: 9</th>\n",
       "      <td>-3.697489</td>\n",
       "    </tr>\n",
       "    <tr>\n",
       "      <th>Num Topics: 10</th>\n",
       "      <td>-3.850810</td>\n",
       "    </tr>\n",
       "  </tbody>\n",
       "</table>\n",
       "</div>"
      ],
      "text/plain": [
       "                Coherence\n",
       "Num Topics: 2   -1.395223\n",
       "Num Topics: 3   -1.570768\n",
       "Num Topics: 4   -1.533582\n",
       "Num Topics: 5   -1.540585\n",
       "Num Topics: 6   -2.033675\n",
       "Num Topics: 7   -2.215594\n",
       "Num Topics: 8   -2.950640\n",
       "Num Topics: 9   -3.697489\n",
       "Num Topics: 10  -3.850810"
      ]
     },
     "execution_count": 5,
     "metadata": {},
     "output_type": "execute_result"
    }
   ],
   "source": [
    "warnings.filterwarnings('ignore')\n",
    "from gensim.models import LdaModel, CoherenceModel\n",
    "\n",
    "coherence = []\n",
    "min_topics = 2\n",
    "max_topics = 11\n",
    "for num_topics in tqdm(range(min_topics, max_topics, 1)):\n",
    "    lda_model = LdaModel(corpus=corpus,\n",
    "                         id2word=dictionary,\n",
    "                         num_topics=num_topics,\n",
    "                         random_state=7,\n",
    "                         chunksize=100,\n",
    "                         passes=10,\n",
    "                         alpha='auto',\n",
    "                         per_word_topics=True)\n",
    "    coherencemodel = CoherenceModel(model=lda_model, texts=documents_tok, dictionary=dictionary, coherence='u_mass')\n",
    "    coherence.append(coherencemodel.get_coherence())\n",
    "    \n",
    "index = [\"Num Topics: {num}\".format(num=num) for num in range(min_topics, max_topics, 1)]\n",
    "pd.DataFrame(coherence, index=index, columns=['Coherence'])"
   ]
  },
  {
   "cell_type": "code",
   "execution_count": 6,
   "metadata": {},
   "outputs": [
    {
     "data": {
      "image/png": "[encoded data removed]",
      "text/plain": [
       "<Figure size 720x432 with 1 Axes>"
      ]
     },
     "metadata": {
      "needs_background": "light"
     },
     "output_type": "display_data"
    }
   ],
   "source": [
    "import matplotlib.pyplot as plt\n",
    "%matplotlib inline\n",
    "\n",
    "plt.figure(figsize=(10,6))\n",
    "plt.plot(range(min_topics, max_topics, 1), coherence)\n",
    "plt.xlabel(\"Num Topics\")\n",
    "plt.ylabel(\"Coherence score\")\n",
    "plt.grid()\n",
    "plt.show()"
   ]
  },
  {
   "cell_type": "markdown",
   "metadata": {},
   "source": [
    "<hr>\n",
    "\n",
    "\n",
    "## Creacción del Modelo\n",
    "\n",
    "\n",
    "* Si que se aprecia que los artículos periodísticos estan bien clasificados en 5 temas, ya que según los valores de coherencia obtenidos aplicando el LDA para diferente número de temas (Topics), nos devuelve un valor de coherencia para 5 temas (Topics) alto en comparación con el resto de modelos.\n"
   ]
  },
  {
   "cell_type": "code",
   "execution_count": 7,
   "metadata": {},
   "outputs": [],
   "source": [
    "lda_model = LdaModel(corpus=corpus,\n",
    "                     id2word=dictionary,\n",
    "                     num_topics=5,\n",
    "                     random_state=7,\n",
    "                     chunksize=100,\n",
    "                     passes=10,\n",
    "                     alpha='auto',\n",
    "                     per_word_topics=True)"
   ]
  },
  {
   "cell_type": "markdown",
   "metadata": {},
   "source": [
    "<hr>\n",
    "\n",
    "\n",
    "## Visualización para 5 Topics"
   ]
  },
  {
   "cell_type": "code",
   "execution_count": 8,
   "metadata": {},
   "outputs": [
    {
     "data": {
      "text/html": [
       "\n",
       "<link rel=\"stylesheet\" type=\"text/css\" href=\"https://cdn.rawgit.com/bmabey/pyLDAvis/files/ldavis.v1.0.0.css\">\n",
       "\n",
       "\n",
       "<div id=\"ldavis_el10081406855647862561266135972\"></div>\n",
       "<script type=\"text/javascript\">\n",
       "\n",
       "var ldavis_el10081406855647862561266135972_data = {\"mdsDat\": {\"x\": [-0.027700376386971697, -0.11015610979378028, 0.17332548621890506, 0.21089996181562182, -0.246368961853775], \"y\": [0.0384313983794601, -0.2827163912580826, 0.013738615816984106, 0.05322873349519569, 0.17731764356644253], \"topics\": [1, 2, 3, 4, 5], \"cluster\": [1, 1, 1, 1, 1], \"Freq\": [40.67052624603298, 16.62414454317828, 16.42754127621357, 14.587910204140428, 11.689877730434741]}, \"tinfo\": {\"Term\": [\"game\", \"mobile\", \"people\", \"phone\", \"technology\", \"user\", \"software\", \"digital\", \"music\", \"site\", \"play\", \"film\", \"good\", \"gadget\", \"player\", \"device\", \"firm\", \"computer\", \"network\", \"company\", \"mail\", \"market\", \"consumer\", \"system\", \"broadband\", \"file\", \"datum\", \"search\", \"microsoft\", \"service\", \"phone\", \"image\", \"election\", \"public\", \"blog\", \"develop\", \"campaign\", \"party\", \"talk\", \"minister\", \"operator\", \"labour\", \"text\", \"code\", \"blair\", \"leader\", \"tory\", \"way\", \"common\", \"lord\", \"local\", \"million\", \"brown\", \"vodafone\", \"council\", \"podcast\", \"prime\", \"pocket\", \"example\", \"conference\", \"content\", \"government\", \"satellite\", \"sort\", \"people\", \"keen\", \"access\", \"view\", \"programme\", \"money\", \"issue\", \"country\", \"change\", \"tell\", \"plan\", \"work\", \"want\", \"design\", \"say\", \"future\", \"need\", \"call\", \"camera\", \"service\", \"think\", \"radio\", \"help\", \"video\", \"problem\", \"network\", \"home\", \"news\", \"time\", \"go\", \"come\", \"look\", \"system\", \"year\", \"mean\", \"offer\", \"message\", \"take\", \"gadget\", \"device\", \"consumer\", \"broadband\", \"datum\", \"digital\", \"analyst\", \"sony\", \"console\", \"handset\", \"multimedia\", \"ipod\", \"portable\", \"price\", \"wireless\", \"gamer\", \"storage\", \"laptop\", \"nintendo\", \"laser\", \"chip\", \"japan\", \"handheld\", \"growth\", \"developer\", \"xbox\", \"mobile\", \"graphic\", \"hardware\", \"slow\", \"market\", \"store\", \"customer\", \"technology\", \"speed\", \"download\", \"sale\", \"music\", \"gaming\", \"high\", \"online\", \"fast\", \"sell\", \"grow\", \"firm\", \"player\", \"year\", \"accord\", \"company\", \"say\", \"service\", \"number\", \"month\", \"film\", \"award\", \"song\", \"rugby\", \"love\", \"career\", \"artist\", \"favourite\", \"lion\", \"prize\", \"star\", \"studio\", \"honour\", \"zealand\", \"chart\", \"sinclair\", \"marine\", \"calculator\", \"dean\", \"virtual\", \"leicester\", \"classic\", \"enemy\", \"talent\", \"actor\", \"wartime\", \"they\\\\'re\", \"listener\", \"hollywood\", \"kelly\", \"opera\", \"jason\", \"frame\", \"irish\", \"variety\", \"army\", \"game\", \"ireland\", \"movie\", \"good\", \"original\", \"title\", \"king\", \"tour\", \"play\", \"include\", \"i\\\\'m\", \"host\", \"fan\", \"feature\", \"series\", \"record\", \"great\", \"list\", \"year\", \"world\", \"music\", \"video\", \"number\", \"nation\", \"time\", \"take\", \"release\", \"life\", \"go\", \"say\", \"think\", \"come\", \"champion\", \"coach\", \"injury\", \"olympic\", \"league\", \"chelsea\", \"arsenal\", \"robinson\", \"indoor\", \"andy\", \"spanish\", \"slam\", \"roddick\", \"tournament\", \"madrid\", \"referee\", \"athen\", \"newcastle\", \"park\", \"tennis\", \"ferguson\", \"striker\", \"gerrard\", \"athletic\", \"mourinho\", \"stadium\", \"marathon\", \"federer\", \"kenteris\", \"henry\", \"semi\", \"relay\", \"australian\", \"match\", \"club\", \"football\", \"victory\", \"season\", \"final\", \"england\", \"squad\", \"team\", \"wale\", \"ball\", \"goal\", \"captain\", \"sport\", \"half\", \"minute\", \"play\", \"player\", \"second\", \"game\", \"chance\", \"france\", \"break\", \"miss\", \"beat\", \"world\", \"time\", \"year\", \"start\", \"go\", \"come\", \"say\", \"open\", \"lose\", \"file\", \"program\", \"legal\", \"virus\", \"spam\", \"patent\", \"window\", \"traffic\", \"junk\", \"criminal\", \"lawsuit\", \"spyware\", \"bittorrent\", \"piracy\", \"malicious\", \"spammer\", \"pirate\", \"browser\", \"domain\", \"arrest\", \"flaw\", \"fake\", \"trial\", \"copyright\", \"linux\", \"ruling\", \"infect\", \"fraud\", \"suspect\", \"yahoo\", \"search\", \"blogger\", \"software\", \"site\", \"security\", \"anti\", \"peer\", \"mail\", \"steal\", \"user\", \"microsoft\", \"computer\", \"court\", \"attack\", \"machine\", \"server\", \"company\", \"firm\", \"website\", \"system\", \"network\", \"internet\", \"say\", \"version\", \"source\", \"apple\", \"message\"], \"Freq\": [2734.0, 1760.0, 3145.0, 1908.0, 1069.0, 976.0, 733.0, 810.0, 1232.0, 711.0, 1457.0, 719.0, 1385.0, 640.0, 1307.0, 637.0, 874.0, 783.0, 919.0, 792.0, 583.0, 578.0, 550.0, 833.0, 540.0, 450.0, 524.0, 442.0, 585.0, 1424.0, 1907.7933883110695, 452.21905413745736, 347.7262539911496, 343.2766253804231, 357.3746781765158, 351.7008525453808, 315.80540103381446, 301.7451299268852, 306.96789490804537, 281.057370635701, 417.7544215538266, 252.31232345928962, 255.68861821308084, 219.86874765272, 199.5573994228752, 197.00232043558788, 192.96377417583778, 205.00119607208052, 193.00533403391753, 174.16307846177475, 171.97084427348543, 162.8832409383334, 149.98798139641622, 150.60568565491963, 132.27278875777472, 159.74238761310542, 130.35624667666673, 156.70774476662328, 130.63114800430742, 129.58631735659225, 630.4675808721809, 400.90589693239656, 144.57553476277718, 147.61423694423453, 3019.83228374705, 231.74388401434695, 443.21812023995824, 251.21187465055016, 323.02989262548704, 313.37271714653787, 394.153694028145, 425.02815235156237, 465.3333068934927, 750.6579875236084, 473.64468103156327, 1130.2047533348266, 971.2170857152976, 434.16756053306494, 4883.580587183859, 417.50703056776047, 708.315433427444, 644.4721810994498, 396.7952491514198, 965.9488772698693, 782.708950074695, 523.8416792743442, 622.5032007965383, 650.0983139378455, 455.8195261045776, 581.9348396777292, 558.6584020552203, 453.4388579381957, 761.433114398463, 600.9677785564357, 574.5011605382423, 531.2521270682153, 495.0037418612269, 616.188281405376, 460.4202814719576, 462.6116194434342, 445.1298385658684, 446.64602653843457, 639.6584930956587, 637.1500369800472, 550.1472422407625, 539.83063967498, 524.0272454731831, 809.2392747073156, 320.8906556814848, 308.2225874041375, 305.42882478922434, 284.13231796149876, 256.2482765677745, 245.23774423652063, 209.72475645668837, 208.31409826439642, 214.0067530492021, 192.63353238933803, 188.53110937392753, 178.6991543439174, 172.77124380722037, 168.537775178183, 161.59640883586013, 152.45519434459214, 157.34394850530836, 147.55856767825574, 150.40937722714307, 131.2576110090212, 1749.2351214117623, 117.68694846960848, 109.545075300806, 108.23992735947681, 572.220713656012, 223.5260776644186, 356.27914869178295, 952.5074417496493, 363.51998629716934, 347.2317147054213, 322.9300656137029, 875.5021545125777, 264.34509113461024, 528.7128803693663, 432.47276336034804, 273.0444971626597, 300.13781144991077, 310.1110980680442, 462.35768537958705, 567.0799674860184, 650.8984198972473, 327.87747568764405, 376.82230844884515, 795.7134480986341, 442.3233078470599, 355.37392547254876, 305.3564207229363, 718.8887897457067, 333.14981580025983, 237.6594250518901, 233.44903640803213, 148.9817466395466, 138.17130158833493, 128.229367199085, 129.79842157053494, 119.91892114485658, 115.77161948010547, 261.5741741819873, 186.9280109287194, 85.72415302809284, 80.99695227400198, 75.05582403175042, 77.77026055413839, 76.25128963504872, 76.87420967177447, 75.21900693562831, 89.39438425633062, 68.56890966388407, 62.72730950680762, 61.285699634667296, 60.48814053021593, 59.19761857856038, 66.02472564834322, 60.17046266827772, 65.4450182048671, 57.664685903406, 57.91977364588378, 66.24607662082832, 65.1267937973178, 71.03225461495057, 136.46630641762144, 72.40029376944433, 83.22533229827117, 1884.6083997314752, 255.1937013463764, 287.4889537408488, 874.7002839091573, 138.51271514538266, 371.3267791212656, 98.92848205179992, 116.85320485244175, 650.4042681437716, 382.56293351753953, 132.24352467458246, 173.19718103167403, 172.71088320172697, 184.2133259765082, 158.80930393818804, 254.0634734146545, 260.6735237988964, 222.7979839313956, 575.8794096241824, 359.4504139725702, 353.15449245279194, 313.76817275237266, 291.0577972092348, 180.1678521472957, 319.44089031562714, 259.93135744702715, 196.35614985558976, 192.37352167365583, 232.70655774438515, 276.06782559620353, 200.03866061508933, 181.5304400416686, 283.6350596387023, 283.5819368669111, 268.572068702921, 225.37317023018613, 198.35445450188877, 180.64218278097553, 128.81867498473625, 127.93171126844408, 119.88900682056395, 118.4856907709622, 121.99773125676245, 123.32118666106352, 105.15778738644384, 102.93213990602057, 97.75460471700514, 86.7180904490968, 82.85413366113175, 82.17365415000178, 79.91075517678237, 76.52368683102763, 75.27800573630552, 74.43131901476245, 70.2457135504206, 68.79521857973948, 67.58341680376174, 65.19949144929383, 59.63302168109302, 59.66962395159508, 59.01653783939776, 58.21541013476342, 66.46122661375398, 65.39936997519202, 127.08706676071928, 385.29727031247336, 290.8663118565335, 159.56468305653067, 191.95738359752826, 228.4006387594413, 362.7907881968589, 414.75280095125424, 125.28759904914845, 409.70112034035395, 257.17853259830224, 158.25595176173414, 231.81264858692097, 115.80188144479179, 242.0567460745679, 333.1048403718419, 257.13915064788085, 617.8608484841254, 566.2012094374147, 356.2979097306539, 849.7225102026847, 218.54027576949804, 194.3056395445963, 214.7128645238734, 174.31488751540576, 190.12667757829286, 369.33005769300973, 406.8421974823964, 367.3566740441748, 259.87092678626425, 258.2539724800073, 250.3497729902832, 325.18813547404545, 214.70197271684268, 206.92959686846183, 449.85892065170265, 358.0185839593205, 291.6581898892015, 357.6709169543553, 275.93809734181997, 210.10033519199624, 211.9057064280309, 173.4468017344239, 134.5864677217993, 126.47986436447921, 116.50720765528223, 114.74222381713955, 112.90886021503216, 114.0869034347854, 106.70548520314641, 102.4466047999238, 101.97787662028678, 91.89700835375636, 88.71610174469465, 86.89172883396392, 86.63639319886683, 84.5866317368436, 88.76052990275593, 79.28086613801253, 87.6111659783042, 72.02801984400996, 72.65614591042483, 68.14917293470857, 69.55876686501246, 74.3880056170798, 432.461387335246, 103.06179033189653, 684.7466525805482, 644.5538981059029, 360.7279540604275, 224.7686784787155, 213.71184540849774, 427.90846081450456, 112.88129212877722, 618.9195984451732, 395.867010606552, 492.6052739229291, 148.29567597093632, 260.3715738846721, 248.4219954664535, 124.86923756480321, 391.0934181729659, 403.4059780771914, 316.5414536610672, 337.97518108781713, 337.3254268525962, 257.949138163186, 794.1496684575058, 193.3044912685469, 165.39973897819823, 175.55672506441755, 182.9631556015044], \"Total\": [2734.0, 1760.0, 3145.0, 1908.0, 1069.0, 976.0, 733.0, 810.0, 1232.0, 711.0, 1457.0, 719.0, 1385.0, 640.0, 1307.0, 637.0, 874.0, 783.0, 919.0, 792.0, 583.0, 578.0, 550.0, 833.0, 540.0, 450.0, 524.0, 442.0, 585.0, 1424.0, 1908.5864126298688, 452.93820768979447, 348.38233303920157, 343.9407881618247, 358.07465641144165, 352.4253986360272, 316.4853921281763, 302.4028687856702, 307.6415293466058, 281.71305762360583, 418.7906396271272, 252.96712769016955, 256.4180019745027, 220.57724256694388, 200.21293380195274, 197.66638944383732, 193.61814621626053, 205.70055094406314, 193.67381148938495, 174.8245335298639, 172.6353941806814, 163.57569036497696, 150.64850394857544, 151.3273335918054, 132.93159081335824, 160.5397462457869, 131.01091880776647, 157.51955519545476, 131.3099418061812, 130.26087045897356, 634.0664171157159, 403.565831635391, 145.33147337765732, 148.42994696159218, 3145.402053133966, 234.3924260888659, 463.7190762566249, 257.14692260620427, 334.459129812045, 324.3615598469861, 413.32631688885454, 448.17079468081937, 496.52916675519555, 841.6432865261452, 511.88666944826366, 1347.2538996661485, 1144.2197430384713, 471.8791775701935, 7074.699664810249, 454.59048463016194, 847.3982157792664, 762.8268470687526, 441.5592686272668, 1424.3356795013929, 1092.3435372481051, 664.4435986568096, 855.5788587351825, 964.4678553279376, 568.7647849436627, 919.8773037038916, 853.3901646931768, 582.3667276202966, 1688.3700989099116, 1153.176723710761, 1113.5157579980157, 972.8883088086172, 833.5388546182877, 2302.8075622989604, 707.1663235894823, 745.6488983131234, 628.6561832351139, 1041.2994679501853, 640.3745187099356, 637.8651784290574, 550.8537292345991, 540.5393929513823, 524.7599683223249, 810.4412980120619, 321.59511579888874, 308.9395651770424, 306.14036775984323, 284.86076928297103, 256.9520901296066, 245.9660337334043, 210.42919926212687, 209.0151324415387, 214.7428462283185, 193.35850417841016, 189.24224316214347, 179.41660929464533, 173.48167409786268, 169.24196112464944, 162.32229471021816, 153.15663872836194, 158.07028086744447, 148.25746823817238, 151.15472060446004, 131.98532018997625, 1760.231389167232, 118.44400130989301, 110.2666735892723, 108.96340514247885, 578.8985105051682, 229.832183136233, 376.2671194249013, 1069.4732624787116, 408.07151054898276, 397.8133072388784, 367.7012810129894, 1232.4598411194618, 296.1000935506619, 812.4312220485322, 670.1806769438805, 348.9515770213073, 408.2738697586156, 435.32552858239086, 874.3579190790989, 1307.5859271334973, 2302.8075622989604, 543.0447814655014, 792.2478493745439, 7074.699664810249, 1424.3356795013929, 1089.2706839967768, 716.8616873217303, 719.5468160972121, 333.78544839901616, 238.38271726819778, 234.27742607657547, 149.64560498154822, 138.82152362830217, 128.87674126488167, 130.47159718456797, 120.56841510984371, 116.4082279228113, 263.1025084258999, 188.04219089407894, 86.39038626587559, 81.66260951653814, 75.69056871377396, 78.43306118952577, 76.90540931983936, 77.55663911550721, 75.89584839176904, 90.20850629875459, 69.23821422159673, 63.38407432474465, 61.92847034873547, 61.129599415917255, 59.82628061307283, 66.73394980123555, 60.822006079819765, 66.17575547652947, 58.3159804699781, 58.575617122128115, 67.0375111027044, 65.91555441001692, 71.95909274598661, 141.2379109065847, 73.75666918992137, 85.6595381575322, 2734.816679742275, 298.0100029503779, 367.6604445402537, 1385.7814548982547, 158.73935149555757, 546.8660707453976, 108.90539109326163, 136.8794340426934, 1457.8138746398222, 740.0794449883022, 167.05707963468916, 246.526966842486, 249.11270422959362, 275.99792818306133, 222.04838028481936, 498.15661028461597, 558.6503210844254, 431.3441449718629, 2302.8075622989604, 1226.6818281324147, 1232.4598411194618, 964.4678553279376, 1089.2706839967768, 314.472636692328, 1688.3700989099116, 1041.2994679501853, 456.498783891247, 500.27694351643635, 1153.176723710761, 7074.699664810249, 1092.3435372481051, 1113.5157579980157, 284.2803635051409, 284.2303803302186, 269.22449422048254, 226.0228543433055, 199.00586996479203, 181.28646237411618, 129.46235141288332, 128.57866988116487, 120.53557334548132, 119.13438190221335, 122.67780592336506, 124.01077999240991, 105.80170668107577, 103.5832022361226, 98.41184730871396, 87.36344687080711, 83.50263232632129, 82.81987371213498, 80.58453834824877, 77.17147408340885, 75.92432306907354, 75.0755199213849, 70.89075716232496, 69.44484427225511, 68.22676363416818, 65.84641504955074, 60.278771914134914, 60.318062654950744, 59.664894054500714, 58.86858067974899, 67.21572833787255, 66.15076591887612, 129.41736688892902, 403.87832465417915, 305.4634846244928, 165.04812376583976, 203.40281402353057, 245.2001347600967, 401.88335057432266, 467.9444147895035, 132.57995968764152, 503.0696350207899, 300.3680862010328, 174.14155968207726, 271.92831345561433, 122.99129200560995, 293.7527491876427, 464.14368868577054, 353.73477703949305, 1457.8138746398222, 1307.5859271334973, 660.0911143627733, 2734.816679742275, 324.5359408357106, 273.9656301970568, 362.6823201332186, 242.78178343441752, 295.8553194576638, 1226.6818281324147, 1688.3700989099116, 2302.8075622989604, 791.4032165345711, 1153.176723710761, 1113.5157579980157, 7074.699664810249, 609.2048875970875, 454.52402975961996, 450.69006957086924, 358.77686521112463, 292.3886759503669, 358.6007747841187, 276.66420422176014, 210.84444428719982, 212.6856437069274, 174.20736461166933, 135.31367819909283, 127.20476359462072, 117.23574923530967, 115.4671389035465, 113.63450450834524, 114.82776631098149, 107.43070768067251, 103.17282620060199, 102.71059957491259, 92.63666891752108, 89.45289057902451, 87.62460474617805, 87.3842783604729, 85.33624070078275, 89.55801454363768, 80.00749142430314, 88.44281042149078, 72.75044004842913, 73.39520887927432, 68.87226913303738, 70.30379894998154, 75.23107853088105, 442.08939558131885, 104.44434295023521, 733.7029644074273, 711.2571238084506, 388.74109525650294, 262.22114449479574, 253.6729690962372, 583.8222046602407, 120.56126013802664, 976.5695589163589, 585.7255548470894, 783.6079277328822, 173.45013990704345, 368.9651419817404, 390.20038837120535, 139.5061004123077, 792.2478493745439, 874.3579190790989, 664.6546800239148, 833.5388546182877, 919.8773037038916, 576.8615882853912, 7074.699664810249, 345.28835435918745, 250.0232815948877, 407.5842906299267, 628.6561832351139], \"Category\": [\"Default\", \"Default\", \"Default\", \"Default\", \"Default\", \"Default\", \"Default\", \"Default\", \"Default\", \"Default\", \"Default\", \"Default\", \"Default\", \"Default\", \"Default\", \"Default\", \"Default\", \"Default\", \"Default\", \"Default\", \"Default\", \"Default\", \"Default\", \"Default\", \"Default\", \"Default\", \"Default\", \"Default\", \"Default\", \"Default\", \"Topic1\", \"Topic1\", \"Topic1\", \"Topic1\", \"Topic1\", \"Topic1\", \"Topic1\", \"Topic1\", \"Topic1\", \"Topic1\", \"Topic1\", \"Topic1\", \"Topic1\", \"Topic1\", \"Topic1\", \"Topic1\", \"Topic1\", \"Topic1\", \"Topic1\", \"Topic1\", \"Topic1\", \"Topic1\", \"Topic1\", \"Topic1\", \"Topic1\", \"Topic1\", \"Topic1\", \"Topic1\", \"Topic1\", \"Topic1\", \"Topic1\", \"Topic1\", \"Topic1\", \"Topic1\", \"Topic1\", \"Topic1\", \"Topic1\", \"Topic1\", \"Topic1\", \"Topic1\", \"Topic1\", \"Topic1\", \"Topic1\", \"Topic1\", \"Topic1\", \"Topic1\", \"Topic1\", \"Topic1\", \"Topic1\", \"Topic1\", \"Topic1\", \"Topic1\", \"Topic1\", \"Topic1\", \"Topic1\", \"Topic1\", \"Topic1\", \"Topic1\", \"Topic1\", \"Topic1\", \"Topic1\", \"Topic1\", \"Topic1\", \"Topic1\", \"Topic1\", \"Topic1\", \"Topic1\", \"Topic1\", \"Topic1\", \"Topic1\", \"Topic1\", \"Topic1\", \"Topic2\", \"Topic2\", \"Topic2\", \"Topic2\", \"Topic2\", \"Topic2\", \"Topic2\", \"Topic2\", \"Topic2\", \"Topic2\", \"Topic2\", \"Topic2\", \"Topic2\", \"Topic2\", \"Topic2\", \"Topic2\", \"Topic2\", \"Topic2\", \"Topic2\", \"Topic2\", \"Topic2\", \"Topic2\", \"Topic2\", \"Topic2\", \"Topic2\", \"Topic2\", \"Topic2\", \"Topic2\", \"Topic2\", \"Topic2\", \"Topic2\", \"Topic2\", \"Topic2\", \"Topic2\", \"Topic2\", \"Topic2\", \"Topic2\", \"Topic2\", \"Topic2\", \"Topic2\", \"Topic2\", \"Topic2\", \"Topic2\", \"Topic2\", \"Topic2\", \"Topic2\", \"Topic2\", \"Topic2\", \"Topic2\", \"Topic2\", \"Topic2\", \"Topic2\", \"Topic2\", \"Topic3\", \"Topic3\", \"Topic3\", \"Topic3\", \"Topic3\", \"Topic3\", \"Topic3\", \"Topic3\", \"Topic3\", \"Topic3\", \"Topic3\", \"Topic3\", \"Topic3\", \"Topic3\", \"Topic3\", \"Topic3\", \"Topic3\", \"Topic3\", \"Topic3\", \"Topic3\", \"Topic3\", \"Topic3\", \"Topic3\", \"Topic3\", \"Topic3\", \"Topic3\", \"Topic3\", \"Topic3\", \"Topic3\", \"Topic3\", \"Topic3\", \"Topic3\", \"Topic3\", \"Topic3\", \"Topic3\", \"Topic3\", \"Topic3\", \"Topic3\", \"Topic3\", \"Topic3\", \"Topic3\", \"Topic3\", \"Topic3\", \"Topic3\", \"Topic3\", \"Topic3\", \"Topic3\", \"Topic3\", \"Topic3\", \"Topic3\", \"Topic3\", \"Topic3\", \"Topic3\", \"Topic3\", \"Topic3\", \"Topic3\", \"Topic3\", \"Topic3\", \"Topic3\", \"Topic3\", \"Topic3\", \"Topic3\", \"Topic3\", \"Topic3\", \"Topic3\", \"Topic3\", \"Topic3\", \"Topic3\", \"Topic4\", \"Topic4\", \"Topic4\", \"Topic4\", \"Topic4\", \"Topic4\", \"Topic4\", \"Topic4\", \"Topic4\", \"Topic4\", \"Topic4\", \"Topic4\", \"Topic4\", \"Topic4\", \"Topic4\", \"Topic4\", \"Topic4\", \"Topic4\", \"Topic4\", \"Topic4\", \"Topic4\", \"Topic4\", \"Topic4\", \"Topic4\", \"Topic4\", \"Topic4\", \"Topic4\", \"Topic4\", \"Topic4\", \"Topic4\", \"Topic4\", \"Topic4\", \"Topic4\", \"Topic4\", \"Topic4\", \"Topic4\", \"Topic4\", \"Topic4\", \"Topic4\", \"Topic4\", \"Topic4\", \"Topic4\", \"Topic4\", \"Topic4\", \"Topic4\", \"Topic4\", \"Topic4\", \"Topic4\", \"Topic4\", \"Topic4\", \"Topic4\", \"Topic4\", \"Topic4\", \"Topic4\", \"Topic4\", \"Topic4\", \"Topic4\", \"Topic4\", \"Topic4\", \"Topic4\", \"Topic4\", \"Topic4\", \"Topic4\", \"Topic4\", \"Topic4\", \"Topic4\", \"Topic4\", \"Topic5\", \"Topic5\", \"Topic5\", \"Topic5\", \"Topic5\", \"Topic5\", \"Topic5\", \"Topic5\", \"Topic5\", \"Topic5\", \"Topic5\", \"Topic5\", \"Topic5\", \"Topic5\", \"Topic5\", \"Topic5\", \"Topic5\", \"Topic5\", \"Topic5\", \"Topic5\", \"Topic5\", \"Topic5\", \"Topic5\", \"Topic5\", \"Topic5\", \"Topic5\", \"Topic5\", \"Topic5\", \"Topic5\", \"Topic5\", \"Topic5\", \"Topic5\", \"Topic5\", \"Topic5\", \"Topic5\", \"Topic5\", \"Topic5\", \"Topic5\", \"Topic5\", \"Topic5\", \"Topic5\", \"Topic5\", \"Topic5\", \"Topic5\", \"Topic5\", \"Topic5\", \"Topic5\", \"Topic5\", \"Topic5\", \"Topic5\", \"Topic5\", \"Topic5\", \"Topic5\", \"Topic5\", \"Topic5\", \"Topic5\", \"Topic5\"], \"logprob\": [30.0, 29.0, 28.0, 27.0, 26.0, 25.0, 24.0, 23.0, 22.0, 21.0, 20.0, 19.0, 18.0, 17.0, 16.0, 15.0, 14.0, 13.0, 12.0, 11.0, 10.0, 9.0, 8.0, 7.0, 6.0, 5.0, 4.0, 3.0, 2.0, 1.0, -4.370999813079834, -5.810500144958496, -6.073299884796143, -6.08620023727417, -6.045899868011475, -6.0619001388549805, -6.169600009918213, -6.215099811553955, -6.197999954223633, -6.286099910736084, -5.889800071716309, -6.394000053405762, -6.38070011138916, -6.531700134277344, -6.628600120544434, -6.641499996185303, -6.662199974060059, -6.6016998291015625, -6.6620001792907715, -6.764699935913086, -6.777400016784668, -6.831699848175049, -6.914100170135498, -6.909999847412109, -7.03980016708374, -6.851099967956543, -7.0543999671936035, -6.870299816131592, -7.052299976348877, -7.060400009155273, -5.4781999588012695, -5.931000232696533, -6.950900077819824, -6.930099964141846, -3.9117000102996826, -6.479100227355957, -5.830599784851074, -6.398399829864502, -6.146999835968018, -6.177299976348877, -5.947999954223633, -5.872499942779541, -5.781899929046631, -5.303800106048584, -5.764200210571289, -4.894499778747559, -5.046199798583984, -5.85129976272583, -3.4310998916625977, -5.890399932861328, -5.361800193786621, -5.456299781799316, -5.941299915313721, -5.051599979400635, -5.261899948120117, -5.66349983215332, -5.491000175476074, -5.4475998878479, -5.802599906921387, -5.558300018310547, -5.5991997718811035, -5.807799816131592, -5.2895002365112305, -5.526199817657471, -5.571199893951416, -5.649499893188477, -5.720099925994873, -5.501200199127197, -5.792600154876709, -5.787799835205078, -5.826300144195557, -5.82289981842041, -4.5690999031066895, -4.5731000900268555, -4.719900131225586, -4.738800048828125, -4.768499851226807, -4.334000110626221, -5.258999824523926, -5.299200057983398, -5.308300018310547, -5.3805999755859375, -5.48390007019043, -5.5278000831604, -5.684299945831299, -5.690999984741211, -5.664000034332275, -5.7692999839782715, -5.790800094604492, -5.844399929046631, -5.8780999183654785, -5.902900218963623, -5.945000171661377, -6.003200054168701, -5.97160005569458, -6.035799980163574, -6.01669979095459, -6.152900218963623, -3.5631000995635986, -6.26200008392334, -6.333700180053711, -6.345699787139893, -4.680500030517578, -5.620500087738037, -5.154300212860107, -4.171000003814697, -5.134200096130371, -5.180099964141846, -5.252600193023682, -4.255300045013428, -5.4527997970581055, -4.7596001625061035, -4.9604997634887695, -5.420400142669678, -5.325799942016602, -5.293099880218506, -4.893700122833252, -4.689599990844727, -4.551700115203857, -5.237400054931641, -5.098299980163574, -4.350800037384033, -4.938000202178955, -5.156899929046631, -5.308599948883057, -4.440499782562256, -5.20959997177124, -5.547299861907959, -5.565199851989746, -6.0142998695373535, -6.089700222015381, -6.164299964904785, -6.152200222015381, -6.231299877166748, -6.266499996185303, -5.451399803161621, -5.787399768829346, -6.566999912261963, -6.623700141906738, -6.699900150299072, -6.664400100708008, -6.684100151062012, -6.676000118255615, -6.697800159454346, -6.525100231170654, -6.790299892425537, -6.87939977645874, -6.902599811553955, -6.9156999588012695, -6.937300205230713, -6.828100204467773, -6.921000003814697, -6.836900234222412, -6.963500022888184, -6.959099769592285, -6.82480001449585, -6.841800212860107, -6.755000114440918, -6.102099895477295, -6.735899925231934, -6.59660005569458, -3.4767000675201416, -5.476099967956543, -5.35699987411499, -4.24429988861084, -6.087200164794922, -5.101099967956543, -6.423799991607666, -6.257199764251709, -4.540599822998047, -5.071300029754639, -6.133500099182129, -5.863699913024902, -5.866499900817871, -5.80210018157959, -5.950500011444092, -5.480599880218506, -5.454899787902832, -5.6118998527526855, -4.662300109863281, -5.133600234985352, -5.151299953460693, -5.269499778747559, -5.344600200653076, -5.8242998123168945, -5.2515997886657715, -5.457699775695801, -5.7382001876831055, -5.758699893951416, -5.568399906158447, -5.397500038146973, -5.719600200653076, -5.816699981689453, -5.251699924468994, -5.2519001960754395, -5.306300163269043, -5.481599807739258, -5.609300136566162, -5.702899932861328, -6.040999889373779, -6.047900199890137, -6.112800121307373, -6.124599933624268, -6.095399856567383, -6.08459997177124, -6.243899822235107, -6.2652997970581055, -6.31689977645874, -6.436699867248535, -6.4822998046875, -6.490600109100342, -6.518499851226807, -6.561800003051758, -6.578199863433838, -6.5894999504089355, -6.64739990234375, -6.668300151824951, -6.685999870300293, -6.72189998626709, -6.811200141906738, -6.8105998039245605, -6.821599960327148, -6.83519983291626, -6.7027997970581055, -6.718900203704834, -6.054500102996826, -4.945400238037109, -5.226500034332275, -5.826900005340576, -5.642099857330322, -5.468299865722656, -5.0055999755859375, -4.871699810028076, -6.06879997253418, -4.883999824523926, -5.349599838256836, -5.83519983291626, -5.453499794006348, -6.147500038146973, -5.410200119018555, -5.09089994430542, -5.349800109863281, -4.473100185394287, -4.560400009155273, -5.023600101470947, -4.1545000076293945, -5.512400150299072, -5.630000114440918, -5.530099868774414, -5.738500118255615, -5.651700019836426, -4.98769998550415, -4.890999794006348, -4.993100166320801, -5.339200019836426, -5.345399856567383, -5.376500129699707, -5.114999771118164, -5.530099868774414, -5.566999912261963, -4.568999767303467, -4.797299861907959, -5.002299785614014, -4.798299789428711, -5.057700157165527, -5.3302998542785645, -5.321800231933594, -5.52209997177124, -5.775700092315674, -5.837800025939941, -5.920000076293945, -5.935200214385986, -5.951300144195557, -5.940999984741211, -6.007800102233887, -6.048600196838379, -6.053199768066406, -6.157299995422363, -6.192500114440918, -6.2133002281188965, -6.21619987487793, -6.240099906921387, -6.191999912261963, -6.304900169372559, -6.204999923706055, -6.400899887084961, -6.392199993133545, -6.456200122833252, -6.435800075531006, -6.368599891662598, -4.608399868011475, -6.042600154876709, -4.148900032043457, -4.209400177001953, -4.78980016708374, -5.262899875640869, -5.313300132751465, -4.61899995803833, -5.951600074768066, -4.249899864196777, -4.696800231933594, -4.4781999588012695, -5.678699970245361, -5.115799903869629, -5.162799835205078, -5.8506999015808105, -4.709000110626221, -4.677999973297119, -4.920499801635742, -4.855000019073486, -4.856900215148926, -5.125199794769287, -4.000699996948242, -5.413700103759766, -5.5696001052856445, -5.510000228881836, -5.468599796295166], \"loglift\": [30.0, 29.0, 28.0, 27.0, 26.0, 25.0, 24.0, 23.0, 22.0, 21.0, 20.0, 19.0, 18.0, 17.0, 16.0, 15.0, 14.0, 13.0, 12.0, 11.0, 10.0, 9.0, 8.0, 7.0, 6.0, 5.0, 4.0, 3.0, 2.0, 1.0, 0.8993, 0.8981, 0.8978, 0.8977, 0.8977, 0.8976, 0.8975, 0.8975, 0.8975, 0.8973, 0.8972, 0.8971, 0.8968, 0.8964, 0.8964, 0.8963, 0.8963, 0.8963, 0.8962, 0.8959, 0.8958, 0.8954, 0.8953, 0.8949, 0.8947, 0.8947, 0.8947, 0.8945, 0.8945, 0.8945, 0.894, 0.8931, 0.8945, 0.8942, 0.8589, 0.8883, 0.8544, 0.8763, 0.8649, 0.8652, 0.8522, 0.8466, 0.8348, 0.7853, 0.822, 0.724, 0.7357, 0.8164, 0.529, 0.8146, 0.7204, 0.7311, 0.7928, 0.5113, 0.5663, 0.6619, 0.5816, 0.5052, 0.6783, 0.4418, 0.476, 0.6494, 0.1033, 0.2479, 0.2379, 0.2946, 0.3786, -0.4187, 0.4705, 0.4223, 0.5544, 0.0532, 1.7932, 1.7932, 1.793, 1.793, 1.7929, 1.7928, 1.7921, 1.792, 1.792, 1.7918, 1.7916, 1.7913, 1.791, 1.791, 1.7909, 1.7906, 1.7905, 1.7903, 1.7902, 1.7901, 1.7898, 1.7897, 1.7897, 1.7896, 1.7894, 1.7888, 1.788, 1.7879, 1.7877, 1.7877, 1.7827, 1.7665, 1.7397, 1.6785, 1.6787, 1.6583, 1.6645, 1.4523, 1.6809, 1.3647, 1.3563, 1.549, 1.4866, 1.4552, 1.1572, 0.9589, 0.5308, 1.2898, 1.0512, -0.3907, 0.6249, 0.6742, 0.9409, 1.8053, 1.8043, 1.8032, 1.8027, 1.8018, 1.8015, 1.8012, 1.801, 1.8008, 1.8007, 1.8004, 1.8003, 1.7985, 1.798, 1.7978, 1.7977, 1.7977, 1.7974, 1.7973, 1.7971, 1.7965, 1.7958, 1.7958, 1.7957, 1.7956, 1.7955, 1.7954, 1.7951, 1.795, 1.795, 1.7943, 1.7942, 1.7932, 1.7718, 1.7876, 1.7774, 1.4339, 1.6511, 1.5602, 1.3461, 1.6699, 1.4191, 1.7101, 1.648, 0.9991, 1.1463, 1.5725, 1.4532, 1.4399, 1.4019, 1.471, 1.1329, 1.044, 1.1456, 0.4202, 0.5787, 0.5563, 0.6833, 0.4865, 1.2492, 0.1413, 0.4184, 0.9626, 0.8505, 0.2057, -1.4374, 0.1086, -0.0076, 1.9227, 1.9227, 1.9226, 1.9221, 1.9217, 1.9214, 1.92, 1.9199, 1.9196, 1.9195, 1.9194, 1.9194, 1.9189, 1.9187, 1.9183, 1.9176, 1.9172, 1.9171, 1.9166, 1.9165, 1.9164, 1.9164, 1.9158, 1.9156, 1.9155, 1.9151, 1.9142, 1.9142, 1.9141, 1.9138, 1.9137, 1.9136, 1.9068, 1.8779, 1.876, 1.8912, 1.8671, 1.854, 1.8226, 1.8043, 1.8684, 1.7197, 1.7697, 1.8293, 1.7654, 1.8647, 1.7314, 1.5932, 1.606, 1.0665, 1.088, 1.3084, 0.7561, 1.5296, 1.5814, 1.4008, 1.5937, 1.4828, 0.7246, 0.5019, 0.0894, 0.8114, 0.4286, 0.4326, -1.1549, 0.8821, 1.1381, 2.1446, 2.1443, 2.1439, 2.1439, 2.1438, 2.1429, 2.1428, 2.1421, 2.1411, 2.1407, 2.1402, 2.1401, 2.14, 2.14, 2.1397, 2.1394, 2.1393, 2.1384, 2.1382, 2.138, 2.1379, 2.1376, 2.1375, 2.1373, 2.137, 2.1365, 2.1363, 2.1359, 2.1358, 2.1352, 2.1244, 2.1331, 2.0774, 2.048, 2.0717, 1.9923, 1.975, 1.8358, 2.0806, 1.6904, 1.7547, 1.6822, 1.9898, 1.7979, 1.6949, 2.0356, 1.4405, 1.3729, 1.4046, 1.2437, 1.1433, 1.3416, -0.0406, 1.5663, 1.7333, 1.3042, 0.9121]}, \"token.table\": {\"Topic\": [1, 5, 1, 2, 5, 3, 2, 4, 1, 5, 2, 5, 3, 5, 5, 4, 3, 4, 4, 1, 4, 5, 4, 5, 3, 2, 4, 3, 4, 5, 1, 1, 1, 5, 1, 2, 3, 4, 5, 2, 1, 5, 3, 1, 5, 1, 2, 3, 1, 3, 4, 3, 4, 1, 4, 1, 2, 4, 3, 4, 2, 3, 1, 4, 4, 1, 1, 2, 3, 4, 5, 1, 1, 2, 5, 1, 3, 5, 1, 2, 2, 1, 4, 5, 1, 1, 2, 3, 4, 5, 4, 5, 5, 1, 2, 2, 3, 1, 3, 1, 2, 2, 1, 2, 5, 2, 3, 5, 1, 3, 1, 2, 3, 4, 1, 5, 1, 3, 4, 1, 2, 4, 3, 1, 3, 4, 4, 5, 3, 1, 2, 3, 4, 1, 2, 5, 5, 1, 4, 3, 2, 3, 4, 5, 1, 2, 4, 5, 2, 3, 4, 2, 2, 3, 4, 1, 2, 3, 4, 5, 1, 2, 4, 1, 2, 3, 4, 1, 2, 5, 2, 1, 2, 3, 4, 1, 2, 3, 2, 1, 2, 3, 4, 2, 2, 2, 1, 2, 3, 4, 5, 4, 1, 2, 3, 4, 3, 1, 2, 3, 4, 5, 3, 1, 3, 5, 1, 3, 1, 1, 2, 3, 5, 4, 5, 4, 1, 2, 5, 2, 1, 2, 3, 4, 1, 3, 1, 5, 2, 3, 5, 1, 5, 3, 4, 1, 2, 3, 1, 2, 2, 5, 1, 4, 5, 3, 1, 3, 5, 3, 1, 2, 3, 5, 3, 1, 1, 2, 3, 4, 5, 1, 1, 2, 3, 4, 3, 2, 3, 5, 4, 1, 5, 5, 4, 3, 2, 5, 1, 4, 1, 2, 3, 5, 1, 5, 2, 5, 1, 1, 1, 2, 3, 4, 1, 3, 4, 1, 2, 1, 5, 1, 2, 3, 4, 5, 4, 3, 5, 2, 1, 2, 3, 5, 1, 2, 3, 1, 2, 4, 1, 5, 4, 1, 2, 5, 2, 1, 2, 3, 4, 5, 1, 2, 4, 1, 2, 5, 1, 2, 3, 4, 5, 3, 1, 2, 3, 5, 4, 1, 5, 1, 5, 1, 2, 3, 5, 1, 5, 5, 1, 2, 5, 1, 3, 4, 2, 3, 4, 1, 1, 2, 2, 1, 3, 1, 2, 4, 5, 5, 1, 3, 5, 1, 1, 3, 1, 2, 3, 4, 4, 2, 3, 5, 4, 4, 3, 5, 2, 3, 1, 1, 2, 3, 4, 5, 4, 5, 3, 4, 1, 2, 3, 4, 1, 2, 5, 1, 2, 3, 4, 1, 3, 4, 5, 2, 5, 1, 2, 5, 3, 1, 5, 4, 2, 1, 5, 3, 2, 1, 1, 5, 5, 5, 4, 1, 2, 2, 4, 5, 3, 4, 4, 3, 4, 1, 2, 3, 4, 5, 3, 5, 2, 2, 5, 4, 1, 3, 5, 1, 5, 1, 2, 3, 4, 5, 3, 1, 1, 3, 4, 5, 1, 2, 1, 3, 4, 5, 4, 1, 3, 1, 3, 4, 1, 2, 3, 4, 5, 3, 4, 1, 1, 3, 4, 5, 5, 1, 5, 2, 3, 2, 3, 5, 3, 4, 1, 3, 1, 3, 3, 5, 1, 1, 4, 1, 3, 4, 3, 1, 1, 3, 5, 5, 2, 1, 2, 3, 4, 5, 1, 2, 3, 4, 2, 5, 1, 2, 3, 4, 5, 3], \"Freq\": [0.95531976725245, 0.04312956059830474, 0.3903913769834615, 0.6040017530687517, 0.005524406278067851, 0.986188668180514, 0.9981494874466287, 0.9904781316350434, 0.14110227484242535, 0.8580543740417758, 0.5667539336292539, 0.43181252086038385, 0.9689522239468398, 0.023348246360164814, 0.9928718109715035, 0.9964286805558723, 0.9931970559134506, 0.9939806409412695, 0.9935942793605942, 0.2168226504279342, 0.07588792764977696, 0.7046736138907861, 0.9813211553670096, 0.015453876462472592, 0.9976468464914108, 0.08613681896145213, 0.9073078263939625, 0.3549032013096024, 0.6422057928459473, 0.9944162689748989, 0.9989364633047965, 0.9969987923127215, 0.009574477389134152, 0.9861711710808176, 0.2343648843119186, 0.10477488945709303, 0.027572339330813954, 0.5928052956125, 0.04135850899622093, 0.9990021209214056, 0.9956952513196095, 0.9931272472881345, 0.9928228050898622, 0.8442282838820395, 0.15468779114608797, 0.8990865512441987, 0.0022647016404135985, 0.09964687217819834, 0.9984663047955791, 0.056914598471578884, 0.9431562032433072, 0.9940821595468018, 0.9990137781530738, 0.32662021878698555, 0.6748096973051871, 0.9365008767536501, 0.02416776456138452, 0.03625164684207678, 0.9908764232386024, 0.9984198358202555, 0.9980144766263098, 0.9939405232491545, 0.045831992053682755, 0.9526506919729774, 0.9991894591635455, 0.9973830366168954, 0.5163824542849663, 0.07992702335889044, 0.16344627248671978, 0.224514110558681, 0.016165015960225033, 0.9965208951886514, 0.03029355020521329, 0.47586118447355874, 0.4935324220932665, 0.2552296791823377, 0.11485335563205197, 0.6291411591844625, 0.9979973229254927, 0.9962750166918928, 0.9984501707271995, 0.993586764720621, 0.004731365546288672, 0.9874075363898098, 0.992991953171867, 0.9482991864801872, 0.015619045424379554, 0.00669387661044838, 0.02008162983134514, 0.00669387661044838, 0.14413363986560151, 0.853271148004361, 0.9905289427803184, 0.050496041293855834, 0.9461363526638251, 0.9985517791596137, 0.9881963452448054, 0.9197269568764583, 0.07840990185352295, 0.9987929399025337, 0.9923606712390961, 0.9986436343316495, 0.0012338956596275488, 0.998221588638687, 0.9949371051500631, 0.8722684578060983, 0.00502748390666339, 0.12065961375992137, 0.9989025475664446, 0.9850073747420691, 0.10257628573597133, 0.006411017858498208, 0.004274011905665472, 0.8868574704255854, 0.9976396166054304, 0.9960598135326616, 0.0642279567775623, 0.6944647826573924, 0.24085483791585863, 0.11749481217417311, 0.7823435054524209, 0.10030044941697704, 0.99638544177626, 0.3297126199427206, 0.6666716710929735, 0.9947269086414426, 0.9878257318378378, 0.9984688600493765, 0.999240054872068, 0.07464852663621835, 0.007464852663621835, 0.01492970532724367, 0.9032471722982419, 0.009149571160087222, 0.5283877344950371, 0.4609096471893938, 0.9956024313791584, 0.03029419472282942, 0.9694142311305415, 0.9866716948562404, 0.2701068741607245, 0.021900557364383066, 0.7081180214483859, 0.9873349732190113, 0.9195089077591877, 0.0615938981274097, 0.017598256607831344, 0.002199782075978918, 0.9994151567575017, 0.6892600933593982, 0.31080693865012654, 0.9981459094342219, 0.8915903971331585, 0.10469432693609057, 0.9874347912480986, 0.5211690347564997, 0.05029584694821461, 0.20205055756782764, 0.22372980194205808, 0.002601509324907652, 0.1066457539175432, 0.04045183769286122, 0.8531660313403456, 0.19700076013792803, 0.0555643169619797, 0.6314126927497693, 0.11617993546595756, 0.9936420989235055, 0.0024779104711309366, 0.0024779104711309366, 0.9962513820456695, 0.29356467509344847, 0.017900285066673686, 0.4671974402401832, 0.22017350632008634, 0.22511889049817638, 0.71211077606566, 0.06202255146378329, 0.9982633708693935, 0.10987976620862222, 0.12496130274706056, 0.04524460961531503, 0.7174502381857097, 0.9932290822691585, 0.996978280704859, 0.9975815576856374, 0.728161984882366, 0.11921753203531515, 0.03623277934406637, 0.03038878267566857, 0.08765995002596702, 0.9852454285508572, 0.2572525456038111, 0.6511320412651487, 0.08246851940409256, 0.009846987391533439, 0.9945815800843686, 0.6550345001936831, 0.0644488327560869, 0.08554117802171533, 0.10546172632814219, 0.09022836585852165, 0.9954811376271182, 0.10952148702357244, 0.7017487872251122, 0.18659216307719748, 0.20352325130038937, 0.7901490932838646, 0.9979286187964143, 0.22835386274330488, 0.12295977224639493, 0.5175120084655962, 0.13106700997692647, 0.9955567196420408, 0.9946153313641442, 0.9991661448891099, 0.20802217106650597, 0.34497010035195574, 0.44724766779298786, 0.9960724913162142, 0.08388980152509441, 0.013422368244015105, 0.855675975555963, 0.04697828885405287, 0.02832100796680302, 0.9629142708713027, 0.9532419879906862, 0.045968522263510246, 0.9924480013536119, 0.9861101917717043, 0.9976818441175525, 0.989793074252498, 0.00853269891596981, 0.9901730933380015, 0.9888561931595258, 0.055093691320220066, 0.03672912754681338, 0.9090459067836311, 0.9961768641680825, 0.9976779781075834, 0.9985703242680388, 0.9979891011329959, 0.9966287164666067, 0.9949455261547311, 0.9986706874022957, 0.9965594978975869, 0.6136601016271174, 0.3837874251218454, 0.9949932570055103, 0.9952855388426076, 0.28747347436022036, 0.0788233720019959, 0.5169885869542673, 0.11591672353234693, 0.9822328363603423, 0.9963194443196487, 0.5457974930855668, 0.10484245629892243, 0.1068981907361562, 0.20762917816061108, 0.03391961821435725, 0.9952836509086234, 0.46202177717877935, 0.061602903623837246, 0.019800933307661972, 0.45542146607622536, 0.9956857738546493, 0.12301371661971963, 0.24090186171361763, 0.6355708692018848, 0.9958150637349382, 0.26549178630539294, 0.7330999002497302, 0.9959908326960598, 0.9953752887578398, 0.9882269748272987, 0.9880833852912346, 0.01036451103452344, 0.04456787824752047, 0.9532573958497433, 0.6504834642932389, 0.20645779518872362, 0.05939196847894789, 0.08201748028045186, 0.7078590998819024, 0.2910971129851419, 0.3226767185347423, 0.6760845531204124, 0.9964805872823006, 0.997468851356693, 0.1272139549767139, 0.05653953554520618, 0.09046325687232988, 0.7265330317558994, 0.2265408846659087, 0.053546027284669326, 0.7166929805794202, 0.005681071285026347, 0.9936193677511083, 0.9649725452906757, 0.030829793779254815, 0.3571121243156997, 0.4254656168605016, 0.008369815413649211, 0.10741263114183155, 0.10043778496379054, 0.9966763243324264, 0.7806115785963412, 0.2175920776575167, 0.9962946784004507, 0.000811385463960988, 0.7107736664298254, 0.28641906877822876, 0.002434156391882964, 0.3815912292470932, 0.04451897674549421, 0.5723868438706399, 0.8354985729453349, 0.08732612203100958, 0.0755252947295218, 0.632693075105314, 0.36635320671905636, 0.9901005196532333, 0.7778603730523496, 0.1493904027716433, 0.07211950478631056, 0.9972234871471729, 0.3314144090203645, 0.32590613629426424, 0.2671512272158617, 0.03947595453705173, 0.035803772719651565, 0.6209356723351189, 0.37953519496941396, 0.9954745534637311, 0.1835325968526839, 0.6446022913850361, 0.17010338244882897, 0.27084483949368243, 0.05745193565017506, 0.07222529053164865, 0.3529190332796468, 0.2478640652336124, 0.9845234244881961, 0.9981120885895847, 0.002387827963132978, 0.8756492872776415, 0.12599270320541603, 0.9927462716765508, 0.9986677745906051, 0.9959949417208757, 0.15374125252266974, 0.843605847175675, 0.9601316299107073, 0.01176320208830999, 0.0003179243807651349, 0.027977345507331868, 0.9996927502857673, 0.9927912356255394, 0.993081536103834, 0.9259862158764561, 0.052746050271443704, 0.021489131592069655, 0.12964618000133638, 0.4458731058247018, 0.42392242984563955, 0.4336235104969223, 0.13306964872392327, 0.43285874240080785, 0.996701646377746, 0.9966379276259691, 0.997960362613022, 0.9951432586259149, 0.9922837056867772, 0.9964931351495017, 0.8017374001893731, 0.03340572500789055, 0.0668114500157811, 0.09670078291757789, 0.9978346842105679, 0.9657383255811117, 0.029899019367836278, 0.0059798038735672555, 0.9972646798687278, 0.7886297664079839, 0.21070260934564455, 0.24691030382940293, 0.24289550214111996, 0.5098798144119377, 0.9958398290838436, 0.9826038912340432, 0.2562986017239276, 0.4293549225460667, 0.31325384655146704, 0.9954994877322989, 0.9924225543592373, 0.9945473787297034, 0.9896847352685486, 0.8784304452520787, 0.11966235167520577, 0.997719190689026, 0.6903473265859116, 0.1125136101479086, 0.039012256784953236, 0.045938345851847105, 0.11223091263497416, 0.020357873520502758, 0.9771779289841324, 0.06525281894993397, 0.929852670036559, 0.13028504418366715, 0.2211815866373884, 0.10907585094446552, 0.5393194852254128, 0.03858609285983144, 0.033441280478520574, 0.9286386348266099, 0.11266946872499249, 0.7348008829890815, 0.15185884915107684, 0.9819130377973224, 0.17113387610059466, 0.7160601657893303, 0.004503523055278806, 0.10808455332669135, 0.10035403440152983, 0.8960181642993734, 0.6782109118674615, 0.31032010667227533, 0.011233307028860646, 0.9944785887104505, 0.09279344668859096, 0.9068450471839571, 0.9918492570365917, 0.9911584523150767, 0.0654215702110009, 0.9336203248861586, 0.9983945259430566, 0.9969587411812922, 0.9971033678149637, 0.3359687124501672, 0.6599385423128284, 0.9975992404813319, 0.9886324118104352, 0.9944749099622106, 0.10782423879776942, 0.8920005209633652, 0.17361539642109813, 0.8238220771354069, 0.9959543562958054, 0.05279832650795795, 0.9428272590706778, 0.9871456168279807, 0.9958095860336109, 0.0038007999466931714, 0.4612061113401547, 0.16173803356586247, 0.031589459680832516, 0.32853038068065815, 0.017690097421266208, 0.05806176869739026, 0.9372828375435858, 0.9987199308246631, 0.974624166830561, 0.026106004468675743, 0.9856741595328128, 0.005317955482465547, 0.9944576752210572, 0.9956787690776471, 0.5938535405487261, 0.40549999334438264, 0.4292713227635914, 0.05377895766165798, 0.24968801771484064, 0.18822635181580294, 0.07874775943314205, 0.9815212364106688, 0.9979146854848617, 0.08348744801157458, 0.08149965163034661, 0.8149965163034661, 0.019877963812279662, 0.10846460970061796, 0.8910928710749044, 0.8923020144314674, 0.03802085813822497, 0.045149769039142154, 0.024951188153210138, 0.9977780120770595, 0.998369841542778, 0.9864850547885414, 0.7168074633119346, 0.18309258322143923, 0.09978545785568438, 0.4507305598999509, 0.11727286578211601, 0.18893961709340915, 0.24106089077434958, 0.0017768616027593336, 0.6784110769467084, 0.32000522497486245, 0.99680739523469, 0.14611398812302145, 0.8547668305196755, 0.9943697218899145, 0.9930693824893069, 0.9937692394535412, 0.3655653575728304, 0.6338514183125546, 0.013558095979429708, 0.976182910518939, 0.14770263565549352, 0.28961301108920295, 0.5589531114021618, 0.054079881110826074, 0.9439397430253279, 0.6739467742851705, 0.32556813403929774, 0.9760956789064216, 0.0194441370300084, 0.9866031891188595, 0.9983246695870069, 0.9978369169400132, 0.14315768543806154, 0.8556168641298096, 0.8486132195390311, 0.06904268212521468, 0.08127809414740463, 0.9890018528287087, 0.9965943166372284, 0.4919848002698699, 0.030090813472163296, 0.4769393935337882, 0.9967762576966774, 0.9965407637955552, 0.8387431651005172, 0.023752018834704913, 0.12692485064795436, 0.006680255297260756, 0.004453503531507171, 0.3293437554341842, 0.07662948765052802, 0.2926594262397825, 0.300811499394094, 0.9925346228765592, 0.983636037726407, 0.2674995557965899, 0.28269839419412346, 0.2501294547708373, 0.15937067691128004, 0.03995123235923096, 0.9918860109851871], \"Term\": [\"access\", \"access\", \"accord\", \"accord\", \"accord\", \"actor\", \"analyst\", \"andy\", \"anti\", \"anti\", \"apple\", \"apple\", \"army\", \"army\", \"arrest\", \"arsenal\", \"artist\", \"athen\", \"athletic\", \"attack\", \"attack\", \"attack\", \"australian\", \"australian\", \"award\", \"ball\", \"ball\", \"beat\", \"beat\", \"bittorrent\", \"blair\", \"blog\", \"blogger\", \"blogger\", \"break\", \"break\", \"break\", \"break\", \"break\", \"broadband\", \"brown\", \"browser\", \"calculator\", \"call\", \"call\", \"camera\", \"camera\", \"camera\", \"campaign\", \"captain\", \"captain\", \"career\", \"champion\", \"chance\", \"chance\", \"change\", \"change\", \"change\", \"chart\", \"chelsea\", \"chip\", \"classic\", \"club\", \"club\", \"coach\", \"code\", \"come\", \"come\", \"come\", \"come\", \"come\", \"common\", \"company\", \"company\", \"company\", \"computer\", \"computer\", \"computer\", \"conference\", \"console\", \"consumer\", \"content\", \"content\", \"copyright\", \"council\", \"country\", \"country\", \"country\", \"country\", \"country\", \"court\", \"court\", \"criminal\", \"customer\", \"customer\", \"datum\", \"dean\", \"design\", \"design\", \"develop\", \"developer\", \"device\", \"digital\", \"digital\", \"domain\", \"download\", \"download\", \"download\", \"election\", \"enemy\", \"england\", \"england\", \"england\", \"england\", \"example\", \"fake\", \"fan\", \"fan\", \"fan\", \"fast\", \"fast\", \"fast\", \"favourite\", \"feature\", \"feature\", \"federer\", \"ferguson\", \"file\", \"film\", \"final\", \"final\", \"final\", \"final\", \"firm\", \"firm\", \"firm\", \"flaw\", \"football\", \"football\", \"frame\", \"france\", \"france\", \"france\", \"fraud\", \"future\", \"future\", \"future\", \"future\", \"gadget\", \"game\", \"game\", \"gamer\", \"gaming\", \"gaming\", \"gerrard\", \"go\", \"go\", \"go\", \"go\", \"go\", \"goal\", \"goal\", \"goal\", \"good\", \"good\", \"good\", \"good\", \"government\", \"government\", \"government\", \"graphic\", \"great\", \"great\", \"great\", \"great\", \"grow\", \"grow\", \"grow\", \"growth\", \"half\", \"half\", \"half\", \"half\", \"handheld\", \"handset\", \"hardware\", \"help\", \"help\", \"help\", \"help\", \"help\", \"henry\", \"high\", \"high\", \"high\", \"high\", \"hollywood\", \"home\", \"home\", \"home\", \"home\", \"home\", \"honour\", \"host\", \"host\", \"host\", \"i\\\\'m\", \"i\\\\'m\", \"image\", \"include\", \"include\", \"include\", \"include\", \"indoor\", \"infect\", \"injury\", \"internet\", \"internet\", \"internet\", \"ipod\", \"ireland\", \"ireland\", \"ireland\", \"ireland\", \"irish\", \"irish\", \"issue\", \"issue\", \"japan\", \"jason\", \"junk\", \"keen\", \"keen\", \"kelly\", \"kenteris\", \"king\", \"king\", \"king\", \"labour\", \"laptop\", \"laser\", \"lawsuit\", \"leader\", \"league\", \"legal\", \"leicester\", \"life\", \"life\", \"linux\", \"lion\", \"list\", \"list\", \"list\", \"list\", \"listener\", \"local\", \"look\", \"look\", \"look\", \"look\", \"look\", \"lord\", \"lose\", \"lose\", \"lose\", \"lose\", \"love\", \"machine\", \"machine\", \"machine\", \"madrid\", \"mail\", \"mail\", \"malicious\", \"marathon\", \"marine\", \"market\", \"market\", \"match\", \"match\", \"mean\", \"mean\", \"mean\", \"mean\", \"message\", \"message\", \"microsoft\", \"microsoft\", \"million\", \"minister\", \"minute\", \"minute\", \"minute\", \"minute\", \"miss\", \"miss\", \"miss\", \"mobile\", \"mobile\", \"money\", \"money\", \"month\", \"month\", \"month\", \"month\", \"month\", \"mourinho\", \"movie\", \"movie\", \"multimedia\", \"music\", \"music\", \"music\", \"music\", \"nation\", \"nation\", \"nation\", \"need\", \"need\", \"need\", \"network\", \"network\", \"newcastle\", \"news\", \"news\", \"news\", \"nintendo\", \"number\", \"number\", \"number\", \"number\", \"number\", \"offer\", \"offer\", \"olympic\", \"online\", \"online\", \"online\", \"open\", \"open\", \"open\", \"open\", \"open\", \"opera\", \"operator\", \"operator\", \"original\", \"original\", \"park\", \"party\", \"patent\", \"peer\", \"peer\", \"people\", \"people\", \"people\", \"people\", \"phone\", \"piracy\", \"pirate\", \"plan\", \"plan\", \"plan\", \"play\", \"play\", \"play\", \"player\", \"player\", \"player\", \"pocket\", \"podcast\", \"portable\", \"price\", \"prime\", \"prize\", \"problem\", \"problem\", \"problem\", \"problem\", \"program\", \"programme\", \"programme\", \"programme\", \"public\", \"radio\", \"radio\", \"record\", \"record\", \"record\", \"referee\", \"relay\", \"release\", \"release\", \"release\", \"robinson\", \"roddick\", \"rugby\", \"ruling\", \"sale\", \"sale\", \"satellite\", \"say\", \"say\", \"say\", \"say\", \"say\", \"search\", \"search\", \"season\", \"season\", \"second\", \"second\", \"second\", \"second\", \"security\", \"security\", \"security\", \"sell\", \"sell\", \"sell\", \"semi\", \"series\", \"series\", \"series\", \"series\", \"server\", \"server\", \"service\", \"service\", \"service\", \"sinclair\", \"site\", \"site\", \"slam\", \"slow\", \"software\", \"software\", \"song\", \"sony\", \"sort\", \"source\", \"source\", \"spam\", \"spammer\", \"spanish\", \"speed\", \"speed\", \"sport\", \"sport\", \"spyware\", \"squad\", \"squad\", \"stadium\", \"star\", \"star\", \"start\", \"start\", \"start\", \"start\", \"start\", \"steal\", \"steal\", \"storage\", \"store\", \"store\", \"striker\", \"studio\", \"studio\", \"suspect\", \"system\", \"system\", \"take\", \"take\", \"take\", \"take\", \"take\", \"talent\", \"talk\", \"team\", \"team\", \"team\", \"team\", \"technology\", \"technology\", \"tell\", \"tell\", \"tell\", \"tell\", \"tennis\", \"text\", \"they\\\\'re\", \"think\", \"think\", \"think\", \"time\", \"time\", \"time\", \"time\", \"time\", \"title\", \"title\", \"tory\", \"tour\", \"tour\", \"tournament\", \"traffic\", \"trial\", \"user\", \"user\", \"variety\", \"variety\", \"version\", \"version\", \"version\", \"victory\", \"victory\", \"video\", \"video\", \"view\", \"view\", \"virtual\", \"virus\", \"vodafone\", \"wale\", \"wale\", \"want\", \"want\", \"want\", \"wartime\", \"way\", \"website\", \"website\", \"website\", \"window\", \"wireless\", \"work\", \"work\", \"work\", \"work\", \"work\", \"world\", \"world\", \"world\", \"world\", \"xbox\", \"yahoo\", \"year\", \"year\", \"year\", \"year\", \"year\", \"zealand\"]}, \"R\": 30, \"lambda.step\": 0.01, \"plot.opts\": {\"xlab\": \"PC1\", \"ylab\": \"PC2\"}, \"topic.order\": [5, 3, 2, 4, 1]};\n",
       "\n",
       "function LDAvis_load_lib(url, callback){\n",
       "  var s = document.createElement('script');\n",
       "  s.src = url;\n",
       "  s.async = true;\n",
       "  s.onreadystatechange = s.onload = callback;\n",
       "  s.onerror = function(){console.warn(\"failed to load library \" + url);};\n",
       "  document.getElementsByTagName(\"head\")[0].appendChild(s);\n",
       "}\n",
       "\n",
       "if(typeof(LDAvis) !== \"undefined\"){\n",
       "   // already loaded: just create the visualization\n",
       "   !function(LDAvis){\n",
       "       new LDAvis(\"#\" + \"ldavis_el10081406855647862561266135972\", ldavis_el10081406855647862561266135972_data);\n",
       "   }(LDAvis);\n",
       "}else if(typeof define === \"function\" && define.amd){\n",
       "   // require.js is available: use it to load d3/LDAvis\n",
       "   require.config({paths: {d3: \"https://cdnjs.cloudflare.com/ajax/libs/d3/3.5.5/d3.min\"}});\n",
       "   require([\"d3\"], function(d3){\n",
       "      window.d3 = d3;\n",
       "      LDAvis_load_lib(\"https://cdn.rawgit.com/bmabey/pyLDAvis/files/ldavis.v1.0.0.js\", function(){\n",
       "        new LDAvis(\"#\" + \"ldavis_el10081406855647862561266135972\", ldavis_el10081406855647862561266135972_data);\n",
       "      });\n",
       "    });\n",
       "}else{\n",
       "    // require.js not available: dynamically load d3 & LDAvis\n",
       "    LDAvis_load_lib(\"https://cdnjs.cloudflare.com/ajax/libs/d3/3.5.5/d3.min.js\", function(){\n",
       "         LDAvis_load_lib(\"https://cdn.rawgit.com/bmabey/pyLDAvis/files/ldavis.v1.0.0.js\", function(){\n",
       "                 new LDAvis(\"#\" + \"ldavis_el10081406855647862561266135972\", ldavis_el10081406855647862561266135972_data);\n",
       "            })\n",
       "         });\n",
       "}\n",
       "</script>"
      ],
      "text/plain": [
       "<IPython.core.display.HTML object>"
      ]
     },
     "execution_count": 8,
     "metadata": {},
     "output_type": "execute_result"
    }
   ],
   "source": [
    "import pyLDAvis\n",
    "import pyLDAvis.gensim\n",
    "\n",
    "vis = pyLDAvis.gensim.prepare(lda_model, corpus, dictionary)\n",
    "pyLDAvis.display(vis)"
   ]
  }
 ],
 "metadata": {
  "kernelspec": {
   "display_name": "Python 3",
   "language": "python",
   "name": "python3"
  },
  "language_info": {
   "codemirror_mode": {
    "name": "ipython",
    "version": 3
   },
   "file_extension": ".py",
   "mimetype": "text/x-python",
   "name": "python",
   "nbconvert_exporter": "python",
   "pygments_lexer": "ipython3",
   "version": "3.7.9"
  }
 },
 "nbformat": 4,
 "nbformat_minor": 2
}
