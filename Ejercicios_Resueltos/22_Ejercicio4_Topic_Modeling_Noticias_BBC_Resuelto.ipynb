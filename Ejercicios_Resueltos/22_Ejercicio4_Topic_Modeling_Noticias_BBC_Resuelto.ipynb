{
 "cells": [
  {
   "cell_type": "markdown",
   "metadata": {},
   "source": [
    "# 22 - Ejercicio: Topic Modeling - Noticias BBC News\n",
    "\n",
    "\n",
    "* En el siguiente ejercicio tiene como objetivo aplicar los conocimientos adquiridos de ***Topic Modeling***, utilizando el LDA.\n",
    "\n",
    "\n",
    "* Para ello vamos a trabajar con unos ***artículos de noticias publicados por la BBC*** que los tienen categorizados en 5 temas (Topics)\n",
    "\n",
    "    - Business\n",
    "    - Entertainment\n",
    "    - Politics\n",
    "    - Sport\n",
    "    - Tech\n",
    "\n",
    "\n",
    "* El objetivo de este ejercicio es el de ***obtener un número de temas (Topics) adecuados según los artículos y ver las relaciones entre los temas (Topics) y las palabras (Terms) que caracterizan a los temas (Topics)***.\n",
    "\n",
    "\n",
    "* Pasos a realizar en el ejercicio:\n",
    "\n",
    "    1. Carga de datos\n",
    "    2. Normalizar los textos\n",
    "    3. Creacción del diccionario y la bolsa de palabras\n",
    "    4. Selección del número óptimo de Topics\n",
    "    5. Creacción del Modelo\n",
    "    6. Visualización"
   ]
  },
  {
   "cell_type": "markdown",
   "metadata": {},
   "source": [
    "<hr>\n",
    "\n",
    "\n",
    "## Carga de Datos\n",
    "\n",
    "\n",
    "* El fichero en formato csv contiene una serie de noticias en los que le asigna una temática.\n",
    "\n",
    "\n",
    "* Cada elemento del Json contiene:\n",
    "    - **news**: Contenido del artículo\n",
    "    - **type**: Temática\n",
    "    \n",
    "    \n",
    "* Leemos los datos y mostramos una muestra:"
   ]
  },
  {
   "cell_type": "code",
   "execution_count": 1,
   "metadata": {},
   "outputs": [
    {
     "data": {
      "text/html": [
       "<div>\n",
       "<style scoped>\n",
       "    .dataframe tbody tr th:only-of-type {\n",
       "        vertical-align: middle;\n",
       "    }\n",
       "\n",
       "    .dataframe tbody tr th {\n",
       "        vertical-align: top;\n",
       "    }\n",
       "\n",
       "    .dataframe thead th {\n",
       "        text-align: right;\n",
       "    }\n",
       "</style>\n",
       "<table border=\"1\" class=\"dataframe\">\n",
       "  <thead>\n",
       "    <tr style=\"text-align: right;\">\n",
       "      <th></th>\n",
       "      <th>news</th>\n",
       "      <th>type</th>\n",
       "    </tr>\n",
       "  </thead>\n",
       "  <tbody>\n",
       "    <tr>\n",
       "      <th>837</th>\n",
       "      <td>Volcano drama erupts on BBC One\\n \\n Supervolc...</td>\n",
       "      <td>entertainment</td>\n",
       "    </tr>\n",
       "    <tr>\n",
       "      <th>613</th>\n",
       "      <td>Top stars join US tsunami TV show\\n \\n Brad Pi...</td>\n",
       "      <td>entertainment</td>\n",
       "    </tr>\n",
       "    <tr>\n",
       "      <th>529</th>\n",
       "      <td>Eminem beats Elvis to number one\\n \\n Rapper E...</td>\n",
       "      <td>entertainment</td>\n",
       "    </tr>\n",
       "    <tr>\n",
       "      <th>1998</th>\n",
       "      <td>Gamers could drive high-definition\\n \\n TV, fi...</td>\n",
       "      <td>tech</td>\n",
       "    </tr>\n",
       "    <tr>\n",
       "      <th>90</th>\n",
       "      <td>Crossrail link 'to get go-ahead'\\n \\n The Â£10...</td>\n",
       "      <td>business</td>\n",
       "    </tr>\n",
       "  </tbody>\n",
       "</table>\n",
       "</div>"
      ],
      "text/plain": [
       "                                                   news           type\n",
       "837   Volcano drama erupts on BBC One\\n \\n Supervolc...  entertainment\n",
       "613   Top stars join US tsunami TV show\\n \\n Brad Pi...  entertainment\n",
       "529   Eminem beats Elvis to number one\\n \\n Rapper E...  entertainment\n",
       "1998  Gamers could drive high-definition\\n \\n TV, fi...           tech\n",
       "90    Crossrail link 'to get go-ahead'\\n \\n The Â£10...       business"
      ]
     },
     "execution_count": 1,
     "metadata": {},
     "output_type": "execute_result"
    }
   ],
   "source": [
    "import warnings\n",
    "warnings.filterwarnings('ignore')\n",
    "import pandas as pd\n",
    "\n",
    "file = '../data/BBC_News.csv'\n",
    "df = pd.read_csv(file, encoding=\"iso-8859-1\")\n",
    "documents = [str(x.encode('utf8')) for x in df.news.values] # Lista de documentos\n",
    "df.sample(5)"
   ]
  },
  {
   "cell_type": "markdown",
   "metadata": {},
   "source": [
    "* Vemos los 5 tipos de artículos"
   ]
  },
  {
   "cell_type": "code",
   "execution_count": 2,
   "metadata": {},
   "outputs": [
    {
     "data": {
      "text/html": [
       "<div>\n",
       "<style scoped>\n",
       "    .dataframe tbody tr th:only-of-type {\n",
       "        vertical-align: middle;\n",
       "    }\n",
       "\n",
       "    .dataframe tbody tr th {\n",
       "        vertical-align: top;\n",
       "    }\n",
       "\n",
       "    .dataframe thead th {\n",
       "        text-align: right;\n",
       "    }\n",
       "</style>\n",
       "<table border=\"1\" class=\"dataframe\">\n",
       "  <thead>\n",
       "    <tr style=\"text-align: right;\">\n",
       "      <th></th>\n",
       "      <th>news</th>\n",
       "    </tr>\n",
       "    <tr>\n",
       "      <th>type</th>\n",
       "      <th></th>\n",
       "    </tr>\n",
       "  </thead>\n",
       "  <tbody>\n",
       "    <tr>\n",
       "      <th>business</th>\n",
       "      <td>510</td>\n",
       "    </tr>\n",
       "    <tr>\n",
       "      <th>entertainment</th>\n",
       "      <td>386</td>\n",
       "    </tr>\n",
       "    <tr>\n",
       "      <th>politics</th>\n",
       "      <td>417</td>\n",
       "    </tr>\n",
       "    <tr>\n",
       "      <th>sport</th>\n",
       "      <td>511</td>\n",
       "    </tr>\n",
       "    <tr>\n",
       "      <th>tech</th>\n",
       "      <td>401</td>\n",
       "    </tr>\n",
       "  </tbody>\n",
       "</table>\n",
       "</div>"
      ],
      "text/plain": [
       "               news\n",
       "type               \n",
       "business        510\n",
       "entertainment   386\n",
       "politics        417\n",
       "sport           511\n",
       "tech            401"
      ]
     },
     "execution_count": 2,
     "metadata": {},
     "output_type": "execute_result"
    }
   ],
   "source": [
    "df.groupby(['type']).count()"
   ]
  },
  {
   "cell_type": "markdown",
   "metadata": {},
   "source": [
    "<hr>\n",
    "\n",
    "\n",
    "## Normalizar los textos\n",
    "\n",
    "\n",
    "* Utilizamos ***spaCy*** para la tokenización y normalización.\n",
    "\n",
    "\n",
    "* Para ***normalizar*** los artículos realizaremos las siguientes acciones:\n",
    "    1. Pasamos las frases a minúsculas.\n",
    "    2. Eliminamos los signos de puntuación.\n",
    "    3. Eliminamos las palabras con menos de 4 caracteres.\n",
    "    4. Eliminamos las palabras con mas de 12 caracteres.\n",
    "    5. Eliminamos las Stop-Words.\n",
    "    6. Eliminamos los emails\n",
    "    7. Eliminamos los saltos de linea\n",
    "    8. Filtramos las palabras que no sean Nombre, Adjetivo, Verbo o Adverbio\n",
    "    9. Pasamos la palabra a su lema\n",
    "\n",
    "\n",
    "* Todos estos pasos los vamos a realizar en una misma función."
   ]
  },
  {
   "cell_type": "code",
   "execution_count": 3,
   "metadata": {},
   "outputs": [],
   "source": [
    "import re\n",
    "import spacy\n",
    "nlp = spacy.load('en_core_web_sm')\n",
    "\n",
    "\n",
    "def normalize(corpus):\n",
    "    \"\"\"normalizamos la lista de frases y devolvemos la misma lista de frases normalizada\"\"\"\n",
    "    for index, doc in enumerate(corpus):\n",
    "        doc = nlp(doc.lower().replace('\\\\\\\\n',''))\n",
    "        corpus[index] = \" \".join([word.lemma_ for word in doc if (not word.is_punct)\n",
    "                                  and (len(word.text) > 3) \n",
    "                                  and (len(word.text) < 11) \n",
    "                                  and (not word.is_stop)\n",
    "                                  and re.sub('\\S*@\\S*\\s?', '', word.text)\n",
    "                                  and re.sub('\\s+', ' ', word.text)\n",
    "                                  and (word.pos_ in ['NOUN', 'ADJ', 'VERB', 'ADV'])])\n",
    "        \n",
    "        \n",
    "    return corpus\n",
    "\n",
    "# Normalizamos las frases\n",
    "corpus_norm = normalize(documents)"
   ]
  },
  {
   "cell_type": "markdown",
   "metadata": {},
   "source": [
    "<hr>\n",
    "\n",
    "\n",
    "## Creacción del diccionario y la bolsa de palabras\n",
    "\n",
    "\n",
    "* En este punto tenemos que crear:\n",
    "    - Corpus tokenizado: \"*documents_tok*\"\n",
    "    - Diccionario: \"*dictionary*\"\n",
    "    - Corpus: \"*corpus*' que es la bolsa de palabras de gensim"
   ]
  },
  {
   "cell_type": "code",
   "execution_count": 4,
   "metadata": {},
   "outputs": [
    {
     "name": "stdout",
     "output_type": "stream",
     "text": [
      "Diccionario:\n",
      "Dictionary(24214 unique tokens: ['27bn', 'able', 'accord', 'agree', 'ambition']...)\n",
      "\n",
      "Primer Documento del Corpus:\n",
      "[(0, 1), (1, 1), (2, 1), (3, 1), (4, 1), (5, 2), (6, 1), (7, 1), (8, 1), (9, 2), (10, 1), (11, 1), (12, 1), (13, 1), (14, 1), (15, 1), (16, 2), (17, 3), (18, 4), (19, 1), (20, 1), (21, 4), (22, 1), (23, 2), (24, 1), (25, 1), (26, 3), (27, 1), (28, 1), (29, 1), (30, 1), (31, 2), (32, 1), (33, 6), (34, 1), (35, 1), (36, 1), (37, 1), (38, 1), (39, 1), (40, 1), (41, 1), (42, 1), (43, 1), (44, 1), (45, 1), (46, 1), (47, 1), (48, 3), (49, 1), (50, 1), (51, 1), (52, 1), (53, 1), (54, 1), (55, 1), (56, 1), (57, 1), (58, 2), (59, 1), (60, 5), (61, 1), (62, 1), (63, 1), (64, 1), (65, 1), (66, 1), (67, 1), (68, 2), (69, 1), (70, 1), (71, 1), (72, 1), (73, 1), (74, 4), (75, 2), (76, 1), (77, 1), (78, 1), (79, 1), (80, 1), (81, 1), (82, 1), (83, 1), (84, 1), (85, 1), (86, 1), (87, 2), (88, 1), (89, 1), (90, 1), (91, 2), (92, 1), (93, 1), (94, 1), (95, 1), (96, 1), (97, 1), (98, 1), (99, 2), (100, 1), (101, 2), (102, 1), (103, 1), (104, 1), (105, 1), (106, 1), (107, 1), (108, 2), (109, 1), (110, 10), (111, 3), (112, 6), (113, 1), (114, 6), (115, 1), (116, 2), (117, 2), (118, 1), (119, 1), (120, 1), (121, 1), (122, 1), (123, 2), (124, 1), (125, 4), (126, 1), (127, 1), (128, 4), (129, 1), (130, 1), (131, 1), (132, 1), (133, 2), (134, 1), (135, 1), (136, 1), (137, 1), (138, 1), (139, 1), (140, 1), (141, 1), (142, 1), (143, 6), (144, 5)]\n"
     ]
    }
   ],
   "source": [
    "from pprint import pprint\n",
    "from gensim import corpora\n",
    "from collections import defaultdict\n",
    "\n",
    "# Tokenizamos\n",
    "documents_tok = [word.split() for word in corpus_norm]\n",
    "\n",
    "# Creamos el diccionario (vocabulario)\n",
    "frequency = defaultdict(int)\n",
    "for doc in documents_tok:\n",
    "    for token in doc:\n",
    "        frequency[token] += 1\n",
    "        \n",
    "documents = [[token for token in doc] for doc in documents_tok]\n",
    "dictionary = corpora.Dictionary(documents)\n",
    "print('Diccionario:\\n{}'.format(dictionary))\n",
    "\n",
    "\n",
    "# Creamos la Bolsa de Palabras\n",
    "corpus = [dictionary.doc2bow(doc) for doc in documents]\n",
    "print('\\nPrimer Documento del Corpus:\\n{}'.format(corpus[0]))"
   ]
  },
  {
   "cell_type": "markdown",
   "metadata": {},
   "source": [
    "<hr>\n",
    "\n",
    "\n",
    "## Selección del número óptimo de Topics"
   ]
  },
  {
   "cell_type": "code",
   "execution_count": 5,
   "metadata": {},
   "outputs": [
    {
     "data": {
      "text/html": [
       "<div>\n",
       "<style scoped>\n",
       "    .dataframe tbody tr th:only-of-type {\n",
       "        vertical-align: middle;\n",
       "    }\n",
       "\n",
       "    .dataframe tbody tr th {\n",
       "        vertical-align: top;\n",
       "    }\n",
       "\n",
       "    .dataframe thead th {\n",
       "        text-align: right;\n",
       "    }\n",
       "</style>\n",
       "<table border=\"1\" class=\"dataframe\">\n",
       "  <thead>\n",
       "    <tr style=\"text-align: right;\">\n",
       "      <th></th>\n",
       "      <th>Coherence</th>\n",
       "    </tr>\n",
       "  </thead>\n",
       "  <tbody>\n",
       "    <tr>\n",
       "      <th>Num Topics: 2</th>\n",
       "      <td>-1.486203</td>\n",
       "    </tr>\n",
       "    <tr>\n",
       "      <th>Num Topics: 3</th>\n",
       "      <td>-1.714635</td>\n",
       "    </tr>\n",
       "    <tr>\n",
       "      <th>Num Topics: 4</th>\n",
       "      <td>-1.899637</td>\n",
       "    </tr>\n",
       "    <tr>\n",
       "      <th>Num Topics: 5</th>\n",
       "      <td>-1.554097</td>\n",
       "    </tr>\n",
       "    <tr>\n",
       "      <th>Num Topics: 6</th>\n",
       "      <td>-1.624819</td>\n",
       "    </tr>\n",
       "    <tr>\n",
       "      <th>Num Topics: 7</th>\n",
       "      <td>-2.379596</td>\n",
       "    </tr>\n",
       "    <tr>\n",
       "      <th>Num Topics: 8</th>\n",
       "      <td>-2.036915</td>\n",
       "    </tr>\n",
       "    <tr>\n",
       "      <th>Num Topics: 9</th>\n",
       "      <td>-2.635867</td>\n",
       "    </tr>\n",
       "    <tr>\n",
       "      <th>Num Topics: 10</th>\n",
       "      <td>-2.535043</td>\n",
       "    </tr>\n",
       "  </tbody>\n",
       "</table>\n",
       "</div>"
      ],
      "text/plain": [
       "                Coherence\n",
       "Num Topics: 2   -1.486203\n",
       "Num Topics: 3   -1.714635\n",
       "Num Topics: 4   -1.899637\n",
       "Num Topics: 5   -1.554097\n",
       "Num Topics: 6   -1.624819\n",
       "Num Topics: 7   -2.379596\n",
       "Num Topics: 8   -2.036915\n",
       "Num Topics: 9   -2.635867\n",
       "Num Topics: 10  -2.535043"
      ]
     },
     "execution_count": 5,
     "metadata": {},
     "output_type": "execute_result"
    }
   ],
   "source": [
    "warnings.filterwarnings('ignore')\n",
    "from gensim.models import LdaModel, CoherenceModel\n",
    "\n",
    "coherence = []\n",
    "min_topics = 2\n",
    "max_topics = 11\n",
    "for num_topics in range(min_topics, max_topics, 1):\n",
    "    lda_model = LdaModel(corpus=corpus,\n",
    "                         id2word=dictionary,\n",
    "                         num_topics=num_topics,\n",
    "                         random_state=7,\n",
    "                         chunksize=100,\n",
    "                         passes=10,\n",
    "                         alpha='auto',\n",
    "                         per_word_topics=True)\n",
    "    coherencemodel = CoherenceModel(model=lda_model, texts=documents_tok, dictionary=dictionary, coherence='u_mass')\n",
    "    coherence.append(coherencemodel.get_coherence())\n",
    "    \n",
    "index = [\"Num Topics: {num}\".format(num=num) for num in range(min_topics, max_topics, 1)]\n",
    "pd.DataFrame(coherence, index=index, columns=['Coherence'])"
   ]
  },
  {
   "cell_type": "code",
   "execution_count": 6,
   "metadata": {},
   "outputs": [
    {
     "data": {
      "image/png": "[encoded data removed]",
      "text/plain": [
       "<Figure size 720x432 with 1 Axes>"
      ]
     },
     "metadata": {
      "needs_background": "light"
     },
     "output_type": "display_data"
    }
   ],
   "source": [
    "import matplotlib.pyplot as plt\n",
    "%matplotlib inline\n",
    "\n",
    "plt.figure(figsize=(10,6))\n",
    "plt.plot(range(min_topics, max_topics, 1), coherence)\n",
    "plt.xlabel(\"Num Topics\")\n",
    "plt.ylabel(\"Coherence score\")\n",
    "plt.grid()\n",
    "plt.show()"
   ]
  },
  {
   "cell_type": "markdown",
   "metadata": {},
   "source": [
    "<hr>\n",
    "\n",
    "\n",
    "## Creacción del Modelo\n",
    "\n",
    "\n",
    "* Si que se aprecia que los artículos periodísticos estan bien clasificados en 5 temas, ya que según los valores de coherencia obtenidos aplicando el LDA para diferente número de temas (Topics), nos devuelve un valor de coherencia para 5 temas (Topics) alto en comparación con el resto de modelos.\n"
   ]
  },
  {
   "cell_type": "code",
   "execution_count": 7,
   "metadata": {},
   "outputs": [],
   "source": [
    "lda_model = LdaModel(corpus=corpus,\n",
    "                     id2word=dictionary,\n",
    "                     num_topics=5,\n",
    "                     random_state=7,\n",
    "                     chunksize=100,\n",
    "                     passes=10,\n",
    "                     alpha='auto',\n",
    "                     per_word_topics=True)"
   ]
  },
  {
   "cell_type": "markdown",
   "metadata": {},
   "source": [
    "<hr>\n",
    "\n",
    "\n",
    "## Visualización para 5 Topics"
   ]
  },
  {
   "cell_type": "code",
   "execution_count": 8,
   "metadata": {},
   "outputs": [
    {
     "data": {
      "text/html": [
       "\n",
       "<link rel=\"stylesheet\" type=\"text/css\" href=\"https://cdn.rawgit.com/bmabey/pyLDAvis/files/ldavis.v1.0.0.css\">\n",
       "\n",
       "\n",
       "<div id=\"ldavis_el1061053703126487085028050\"></div>\n",
       "<script type=\"text/javascript\">\n",
       "\n",
       "var ldavis_el1061053703126487085028050_data = {\"mdsDat\": {\"x\": [0.0874741702262492, -0.11884020799235469, 0.2149226742132958, 0.09300828818155554, -0.2765649246287458], \"y\": [0.060356620936656176, 0.024451847657202957, 0.1402296450988087, -0.2563767033677691, 0.03133858967510131], \"topics\": [1, 2, 3, 4, 5], \"cluster\": [1, 1, 1, 1, 1], \"Freq\": [34.461368560791016, 20.22445297241211, 17.854379653930664, 17.688732147216797, 9.771065711975098]}, \"tinfo\": {\"Category\": [\"Default\", \"Default\", \"Default\", \"Default\", \"Default\", \"Default\", \"Default\", \"Default\", \"Default\", \"Default\", \"Default\", \"Default\", \"Default\", \"Default\", \"Default\", \"Default\", \"Default\", \"Default\", \"Default\", \"Default\", \"Default\", \"Default\", \"Default\", \"Default\", \"Default\", \"Default\", \"Default\", \"Default\", \"Default\", \"Default\", \"Topic1\", \"Topic1\", \"Topic1\", \"Topic1\", \"Topic1\", \"Topic1\", \"Topic1\", \"Topic1\", \"Topic1\", \"Topic1\", \"Topic1\", \"Topic1\", \"Topic1\", \"Topic1\", \"Topic1\", \"Topic1\", \"Topic1\", \"Topic1\", \"Topic1\", \"Topic1\", \"Topic1\", \"Topic1\", \"Topic1\", \"Topic1\", \"Topic1\", \"Topic1\", \"Topic1\", \"Topic1\", \"Topic1\", \"Topic1\", \"Topic1\", \"Topic1\", \"Topic1\", \"Topic1\", \"Topic1\", \"Topic1\", \"Topic1\", \"Topic1\", \"Topic1\", \"Topic1\", \"Topic1\", \"Topic1\", \"Topic1\", \"Topic1\", \"Topic1\", \"Topic1\", \"Topic1\", \"Topic1\", \"Topic1\", \"Topic1\", \"Topic1\", \"Topic1\", \"Topic1\", \"Topic1\", \"Topic1\", \"Topic1\", \"Topic1\", \"Topic1\", \"Topic1\", \"Topic2\", \"Topic2\", \"Topic2\", \"Topic2\", \"Topic2\", \"Topic2\", \"Topic2\", \"Topic2\", \"Topic2\", \"Topic2\", \"Topic2\", \"Topic2\", \"Topic2\", \"Topic2\", \"Topic2\", \"Topic2\", \"Topic2\", \"Topic2\", \"Topic2\", \"Topic2\", \"Topic2\", \"Topic2\", \"Topic2\", \"Topic2\", \"Topic2\", \"Topic2\", \"Topic2\", \"Topic2\", \"Topic2\", \"Topic2\", \"Topic2\", \"Topic2\", \"Topic2\", \"Topic2\", \"Topic2\", \"Topic2\", \"Topic2\", \"Topic2\", \"Topic2\", \"Topic2\", \"Topic2\", \"Topic2\", \"Topic2\", \"Topic2\", \"Topic2\", \"Topic2\", \"Topic2\", \"Topic2\", \"Topic2\", \"Topic2\", \"Topic2\", \"Topic2\", \"Topic2\", \"Topic2\", \"Topic2\", \"Topic2\", \"Topic2\", \"Topic2\", \"Topic2\", \"Topic2\", \"Topic2\", \"Topic3\", \"Topic3\", \"Topic3\", \"Topic3\", \"Topic3\", \"Topic3\", \"Topic3\", \"Topic3\", \"Topic3\", \"Topic3\", \"Topic3\", \"Topic3\", \"Topic3\", \"Topic3\", \"Topic3\", \"Topic3\", \"Topic3\", \"Topic3\", \"Topic3\", \"Topic3\", \"Topic3\", \"Topic3\", \"Topic3\", \"Topic3\", \"Topic3\", \"Topic3\", \"Topic3\", \"Topic3\", \"Topic3\", \"Topic3\", \"Topic3\", \"Topic3\", \"Topic3\", \"Topic3\", \"Topic3\", \"Topic3\", \"Topic3\", \"Topic3\", \"Topic3\", \"Topic3\", \"Topic3\", \"Topic3\", \"Topic3\", \"Topic3\", \"Topic3\", \"Topic3\", \"Topic3\", \"Topic3\", \"Topic3\", \"Topic3\", \"Topic3\", \"Topic3\", \"Topic4\", \"Topic4\", \"Topic4\", \"Topic4\", \"Topic4\", \"Topic4\", \"Topic4\", \"Topic4\", \"Topic4\", \"Topic4\", \"Topic4\", \"Topic4\", \"Topic4\", \"Topic4\", \"Topic4\", \"Topic4\", \"Topic4\", \"Topic4\", \"Topic4\", \"Topic4\", \"Topic4\", \"Topic4\", \"Topic4\", \"Topic4\", \"Topic4\", \"Topic4\", \"Topic4\", \"Topic4\", \"Topic4\", \"Topic4\", \"Topic4\", \"Topic4\", \"Topic4\", \"Topic4\", \"Topic4\", \"Topic4\", \"Topic4\", \"Topic4\", \"Topic4\", \"Topic4\", \"Topic4\", \"Topic4\", \"Topic4\", \"Topic4\", \"Topic4\", \"Topic4\", \"Topic4\", \"Topic4\", \"Topic4\", \"Topic4\", \"Topic4\", \"Topic4\", \"Topic4\", \"Topic4\", \"Topic4\", \"Topic4\", \"Topic4\", \"Topic4\", \"Topic4\", \"Topic4\", \"Topic4\", \"Topic4\", \"Topic4\", \"Topic4\", \"Topic4\", \"Topic4\", \"Topic4\", \"Topic4\", \"Topic4\", \"Topic5\", \"Topic5\", \"Topic5\", \"Topic5\", \"Topic5\", \"Topic5\", \"Topic5\", \"Topic5\", \"Topic5\", \"Topic5\", \"Topic5\", \"Topic5\", \"Topic5\", \"Topic5\", \"Topic5\", \"Topic5\", \"Topic5\", \"Topic5\", \"Topic5\", \"Topic5\", \"Topic5\", \"Topic5\", \"Topic5\", \"Topic5\", \"Topic5\", \"Topic5\", \"Topic5\", \"Topic5\", \"Topic5\", \"Topic5\", \"Topic5\", \"Topic5\", \"Topic5\", \"Topic5\", \"Topic5\", \"Topic5\", \"Topic5\", \"Topic5\", \"Topic5\", \"Topic5\", \"Topic5\", \"Topic5\", \"Topic5\", \"Topic5\", \"Topic5\", \"Topic5\", \"Topic5\", \"Topic5\", \"Topic5\", \"Topic5\", \"Topic5\", \"Topic5\", \"Topic5\", \"Topic5\", \"Topic5\", \"Topic5\", \"Topic5\", \"Topic5\", \"Topic5\", \"Topic5\", \"Topic5\", \"Topic5\", \"Topic5\"], \"Freq\": [2752.0, 1180.0, 1584.0, 1006.0, 2488.0, 1352.0, 703.0, 1695.0, 1075.0, 1184.0, 469.0, 598.0, 571.0, 691.0, 561.0, 549.0, 790.0, 597.0, 859.0, 770.0, 973.0, 450.0, 401.0, 440.0, 558.0, 1131.0, 827.0, 413.0, 502.0, 456.0, 1075.0140380859375, 531.3135375976562, 528.3411254882812, 506.99395751953125, 478.392822265625, 429.44061279296875, 408.855712890625, 388.64801025390625, 307.33447265625, 313.0102844238281, 617.5401000976562, 297.0795593261719, 305.5245361328125, 285.7174377441406, 293.7841491699219, 312.0115661621094, 233.15484619140625, 203.08721923828125, 198.66163635253906, 197.08982849121094, 196.150634765625, 181.1169891357422, 172.67752075195312, 158.24008178710938, 163.8721160888672, 154.29127502441406, 162.75808715820312, 147.19630432128906, 147.31219482421875, 142.23655700683594, 149.03843688964844, 929.2097778320312, 396.9100646972656, 422.29937744140625, 274.4512634277344, 589.1619873046875, 224.97235107421875, 189.91204833984375, 636.2434692382812, 314.3698425292969, 503.48150634765625, 3766.39990234375, 513.9486083984375, 817.62158203125, 428.85369873046875, 398.136474609375, 441.87701416015625, 537.3804931640625, 358.1846618652344, 1148.94677734375, 603.9251098632812, 543.7988891601562, 510.1610412597656, 857.561767578125, 551.9508056640625, 488.2500915527344, 522.1273193359375, 451.6050720214844, 451.6120910644531, 333.92626953125, 326.41925048828125, 314.193603515625, 406.46429443359375, 282.1867370605469, 255.74639892578125, 241.83184814453125, 209.6222686767578, 177.50119018554688, 175.7978057861328, 213.13641357421875, 151.78318786621094, 131.50198364257812, 129.2054443359375, 132.81101989746094, 120.76309204101562, 112.61065673828125, 110.27891540527344, 113.29681396484375, 107.92178344726562, 94.15943145751953, 90.19649505615234, 94.48773193359375, 84.64496612548828, 86.01065826416016, 81.11774444580078, 74.80693817138672, 169.08009338378906, 74.12435150146484, 76.89086151123047, 167.80032348632812, 269.927490234375, 665.3425903320312, 525.7523803710938, 235.29710388183594, 2376.702392578125, 246.85250854492188, 1344.4390869140625, 143.43142700195312, 1093.3070068359375, 158.98374938964844, 854.0563354492188, 154.869873046875, 269.51995849609375, 554.3651123046875, 856.9535522460938, 230.9051971435547, 214.5753936767578, 405.9093933105469, 544.5425415039062, 407.7049865722656, 275.722900390625, 884.2040405273438, 259.29345703125, 344.7157897949219, 263.65863037109375, 325.5238342285156, 275.8865966796875, 270.8142395019531, 255.1690673828125, 253.39907836914062, 1180.0247802734375, 1005.7846069335938, 702.9846801757812, 597.3685302734375, 560.2164306640625, 439.40850830078125, 449.9757995605469, 375.8446960449219, 299.01666259765625, 298.8013916015625, 243.5795440673828, 230.4495849609375, 221.1041259765625, 199.22178649902344, 192.02952575683594, 188.94615173339844, 546.5921020507812, 180.6930694580078, 176.7474822998047, 173.1649627685547, 141.70883178710938, 410.37579345703125, 112.39668273925781, 113.66517639160156, 108.76610565185547, 105.62899780273438, 97.30431365966797, 95.82727813720703, 94.2965087890625, 95.2843017578125, 273.6384582519531, 357.8246154785156, 561.3619995117188, 124.08067321777344, 414.8512878417969, 196.21905517578125, 364.2026672363281, 302.5841369628906, 330.9054260253906, 581.89208984375, 553.9567260742188, 368.5525817871094, 447.4991149902344, 263.5609130859375, 631.7224731445312, 1721.5577392578125, 463.1827087402344, 676.2157592773438, 413.4211120605469, 303.0638122558594, 312.65631103515625, 275.5399475097656, 571.1660766601562, 373.60784912109375, 191.23947143554688, 159.5637664794922, 167.1566162109375, 145.34852600097656, 148.24462890625, 120.53289794921875, 113.60253143310547, 108.3481216430664, 116.74901580810547, 106.22145080566406, 106.27022552490234, 101.06144714355469, 99.97885131835938, 96.58430480957031, 87.43415832519531, 86.18993377685547, 87.26638793945312, 81.44292449951172, 82.22675323486328, 82.45502471923828, 78.39356231689453, 78.3812484741211, 77.73139953613281, 72.50690460205078, 74.56358337402344, 67.81766510009766, 67.49479675292969, 68.81660461425781, 416.4623718261719, 140.4651641845703, 404.7286376953125, 160.4552459716797, 128.9960479736328, 202.7794647216797, 124.5317153930664, 251.6785888671875, 410.89678955078125, 122.98137664794922, 632.4771118164062, 265.77716064453125, 120.06793212890625, 954.1852416992188, 443.6172790527344, 220.0424041748047, 275.2778015136719, 249.8789520263672, 324.3885498046875, 188.102783203125, 152.38131713867188, 171.91152954101562, 350.70916748046875, 264.97039794921875, 253.8166046142578, 259.29052734375, 735.4703369140625, 354.5489196777344, 272.3411560058594, 302.7632751464844, 199.8218231201172, 306.6569519042969, 233.99761962890625, 208.31121826171875, 252.72157287597656, 243.45289611816406, 209.70094299316406, 208.98895263671875, 211.580322265625, 274.7974853515625, 274.4828796386719, 210.63587951660156, 196.22994995117188, 174.07106018066406, 172.50587463378906, 126.76582336425781, 124.28028869628906, 119.82823944091797, 123.5940170288086, 99.34736633300781, 83.96251678466797, 79.82496643066406, 74.9144287109375, 65.64947509765625, 57.95708465576172, 55.979522705078125, 50.037994384765625, 48.265167236328125, 49.165550231933594, 47.463741302490234, 46.90211486816406, 44.48268508911133, 45.48710250854492, 41.48530578613281, 40.93196105957031, 39.771697998046875, 39.264957427978516, 39.41105651855469, 39.197731018066406, 43.66886520385742, 138.03453063964844, 433.1487121582031, 122.32433319091797, 70.65719604492188, 119.04798889160156, 224.173095703125, 108.60213470458984, 321.20562744140625, 216.87403869628906, 223.25819396972656, 129.66014099121094, 101.4684066772461, 159.8410186767578, 223.63540649414062, 285.9593200683594, 201.50807189941406, 128.02267456054688, 230.10279846191406, 192.8927001953125, 119.85133361816406, 321.4667663574219, 224.39503479003906, 369.79541015625, 239.15310668945312, 166.2171630859375, 146.6970672607422, 157.38963317871094, 145.65957641601562, 184.39907836914062, 175.89892578125, 137.9146728515625, 133.48724365234375], \"Term\": [\"game\", \"mobile\", \"player\", \"phone\", \"people\", \"play\", \"user\", \"good\", \"consumer\", \"service\", \"england\", \"software\", \"gadget\", \"film\", \"site\", \"digital\", \"firm\", \"network\", \"music\", \"technology\", \"broadband\", \"microsoft\", \"match\", \"mail\", \"title\", \"work\", \"company\", \"internet\", \"half\", \"radio\", \"consumer\", \"election\", \"increase\", \"figure\", \"rise\", \"minister\", \"price\", \"labour\", \"blair\", \"survey\", \"government\", \"tory\", \"rate\", \"growth\", \"iptv\", \"definition\", \"average\", \"council\", \"prime\", \"policy\", \"fund\", \"china\", \"secretary\", \"trust\", \"trend\", \"reduce\", \"ship\", \"proposal\", \"job\", \"chancellor\", \"core\", \"broadband\", \"predict\", \"party\", \"leader\", \"plan\", \"brown\", \"benefit\", \"report\", \"cable\", \"country\", \"say\", \"speed\", \"high\", \"europe\", \"analyst\", \"cost\", \"market\", \"fast\", \"year\", \"need\", \"offer\", \"month\", \"people\", \"service\", \"tell\", \"time\", \"number\", \"want\", \"award\", \"club\", \"sport\", \"gaming\", \"gamer\", \"fan\", \"olympic\", \"nintendo\", \"football\", \"grand\", \"league\", \"liverpool\", \"spanish\", \"indoor\", \"blue\", \"steve\", \"medal\", \"manchester\", \"roddick\", \"cinema\", \"unite\", \"gold\", \"straight\", \"athlete\", \"honour\", \"ferguson\", \"chart\", \"winner\", \"athletic\", \"maybe\", \"i\\\\'ve\", \"format\", \"film\", \"title\", \"race\", \"game\", \"star\", \"player\", \"robot\", \"good\", \"compete\", \"play\", \"studio\", \"sony\", \"world\", \"year\", \"movie\", \"win\", \"take\", \"time\", \"go\", \"sale\", \"say\", \"team\", \"want\", \"record\", \"come\", \"second\", \"think\", \"week\", \"number\", \"mobile\", \"phone\", \"user\", \"software\", \"site\", \"mail\", \"microsoft\", \"file\", \"program\", \"virus\", \"legal\", \"spam\", \"operator\", \"peer\", \"handset\", \"blog\", \"digital\", \"window\", \"patent\", \"multimedia\", \"portable\", \"internet\", \"junk\", \"server\", \"owner\", \"criminal\", \"lawsuit\", \"spyware\", \"bittorrent\", \"piracy\", \"download\", \"search\", \"network\", \"engine\", \"website\", \"anti\", \"send\", \"security\", \"message\", \"firm\", \"technology\", \"online\", \"system\", \"apple\", \"service\", \"say\", \"company\", \"people\", \"music\", \"datum\", \"computer\", \"call\", \"gadget\", \"machine\", \"traffic\", \"laptop\", \"page\", \"song\", \"code\", \"magazine\", \"memory\", \"station\", \"critical\", \"read\", \"original\", \"viewer\", \"podcast\", \"modern\", \"character\", \"element\", \"podcasting\", \"print\", \"curry\", \"technique\", \"artist\", \"student\", \"remote\", \"tend\", \"library\", \"cell\", \"forget\", \"hugely\", \"radio\", \"chip\", \"content\", \"feature\", \"channel\", \"watch\", \"mini\", \"design\", \"video\", \"space\", \"work\", \"life\", \"audio\", \"people\", \"music\", \"list\", \"thing\", \"create\", \"computer\", \"hour\", \"screen\", \"project\", \"think\", \"know\", \"show\", \"include\", \"say\", \"time\", \"look\", \"world\", \"hard\", \"good\", \"find\", \"device\", \"go\", \"want\", \"come\", \"number\", \"year\", \"wale\", \"ireland\", \"rugby\", \"victory\", \"chelsea\", \"ball\", \"squad\", \"robinson\", \"slam\", \"seed\", \"tournament\", \"referee\", \"newcastle\", \"johnson\", \"mourinho\", \"federer\", \"welsh\", \"bath\", \"hodgson\", \"barcelona\", \"flanker\", \"henson\", \"wimbledon\", \"defender\", \"scrum\", \"ruddock\", \"davenport\", \"lewsey\", \"qualify\", \"dallaglio\", \"argentina\", \"kick\", \"england\", \"australian\", \"zealand\", \"defeat\", \"injury\", \"captain\", \"match\", \"coach\", \"goal\", \"italy\", \"penalty\", \"william\", \"minute\", \"half\", \"france\", \"scotland\", \"final\", \"nation\", \"score\", \"play\", \"second\", \"game\", \"player\", \"team\", \"chance\", \"open\", \"break\", \"time\", \"say\", \"start\", \"come\"], \"Total\": [2752.0, 1180.0, 1584.0, 1006.0, 2488.0, 1352.0, 703.0, 1695.0, 1075.0, 1184.0, 469.0, 598.0, 571.0, 691.0, 561.0, 549.0, 790.0, 597.0, 859.0, 770.0, 973.0, 450.0, 401.0, 440.0, 558.0, 1131.0, 827.0, 413.0, 502.0, 456.0, 1075.75732421875, 531.9340209960938, 528.9796752929688, 507.63372802734375, 479.0320129394531, 430.05877685546875, 409.4933776855469, 389.26885986328125, 307.956298828125, 313.65313720703125, 618.8184204101562, 297.6973571777344, 306.1607666015625, 286.3455505371094, 294.47021484375, 312.7516174316406, 233.81521606445312, 203.7156524658203, 199.27903747558594, 197.71229553222656, 196.7762908935547, 181.74778747558594, 173.2958984375, 158.8702392578125, 164.5435791015625, 154.92483520507812, 163.4387664794922, 147.81524658203125, 147.93795776367188, 142.8522186279297, 149.72898864746094, 973.8659057617188, 412.3797607421875, 441.14581298828125, 287.5386047363281, 661.6510009765625, 233.56869506835938, 194.0817108154297, 772.5225830078125, 347.2432556152344, 611.38916015625, 7283.53076171875, 642.6287231445312, 1149.89208984375, 521.4625854492188, 478.5462646484375, 554.01904296875, 746.6150512695312, 421.6205749511719, 2401.30029296875, 945.3439331054688, 858.974853515625, 854.3555297851562, 2488.36181640625, 1184.206787109375, 887.5112915039062, 1692.9903564453125, 1112.0875244140625, 1139.2298583984375, 334.6212158203125, 327.1177978515625, 314.9057312011719, 407.4298400878906, 282.9568176269531, 256.45916748046875, 242.5288543701172, 210.41497802734375, 178.20375061035156, 176.59027099609375, 214.13897705078125, 152.49932861328125, 132.20361328125, 129.89906311035156, 133.54144287109375, 121.49441528320312, 113.31021881103516, 110.97523498535156, 114.01570129394531, 108.64703369140625, 94.87184143066406, 90.89649963378906, 95.2387466430664, 85.34221649169922, 86.72068786621094, 81.81709289550781, 75.49845123291016, 170.65097045898438, 74.82608795166016, 77.61921691894531, 169.6560821533203, 274.40045166015625, 691.7694091796875, 558.2210083007812, 245.1277618408203, 2752.994140625, 260.4739074707031, 1584.1361083984375, 149.98387145996094, 1695.3997802734375, 173.04879760742188, 1352.070556640625, 170.8961639404297, 356.3536376953125, 1210.34619140625, 2401.30029296875, 324.5355224609375, 302.6361083984375, 959.2171630859375, 1692.9903564453125, 1110.8985595703125, 509.37591552734375, 7283.53076171875, 487.2729797363281, 1139.2298583984375, 547.456787109375, 1103.337158203125, 713.74072265625, 938.5966796875, 684.5972290039062, 1112.0875244140625, 1180.8460693359375, 1006.6014404296875, 703.8135375976562, 598.1908569335938, 561.0296630859375, 440.21685791015625, 450.80450439453125, 376.6563415527344, 299.8237609863281, 299.64990234375, 244.3852081298828, 231.25320434570312, 221.92355346679688, 200.03079223632812, 192.84478759765625, 189.78050231933594, 549.0078125, 181.53041076660156, 177.57823181152344, 173.9909210205078, 142.5614776611328, 413.3218994140625, 113.20616149902344, 114.4957275390625, 109.59168243408203, 106.43189239501953, 98.10498809814453, 96.62885284423828, 95.09724426269531, 96.09664916992188, 280.7342834472656, 375.4726867675781, 597.9642333984375, 127.66758728027344, 474.94732666015625, 211.4429473876953, 427.5744934082031, 346.8296203613281, 400.6918029785156, 790.693115234375, 770.8165893554688, 484.31951904296875, 680.0891723632812, 316.38397216796875, 1184.206787109375, 7283.53076171875, 827.7913818359375, 2488.36181640625, 859.531982421875, 450.2867736816406, 637.7379150390625, 598.7152099609375, 571.9690551757812, 374.5266418457031, 192.16001892089844, 160.35848999023438, 168.04183959960938, 146.13075256347656, 149.06214904785156, 121.31965637207031, 114.40830993652344, 109.12814331054688, 117.5905990600586, 107.00899505615234, 107.0603256225586, 101.8506851196289, 100.79557037353516, 97.37385559082031, 88.21530151367188, 86.99308013916016, 88.10148620605469, 82.23041534423828, 83.03396606445312, 83.27083587646484, 79.17021942138672, 79.15947723388672, 78.52676391601562, 73.30769348144531, 75.40648651123047, 68.59898376464844, 68.2842025756836, 69.6220703125, 456.70855712890625, 146.91102600097656, 484.4371337890625, 179.25621032714844, 142.95391845703125, 245.3551483154297, 139.16757202148438, 330.51690673828125, 611.5572509765625, 138.58135986328125, 1131.9842529296875, 386.8431396484375, 135.28787231445312, 2488.36181640625, 859.531982421875, 318.7977600097656, 449.7450866699219, 409.7808837890625, 637.7379150390625, 272.79766845703125, 194.96450805664062, 243.07814025878906, 938.5966796875, 610.84033203125, 564.3961791992188, 652.29345703125, 7283.53076171875, 1692.9903564453125, 893.9166870117188, 1210.34619140625, 389.5750732421875, 1695.3997802734375, 680.852783203125, 482.0419006347656, 1110.8985595703125, 1139.2298583984375, 1103.337158203125, 1112.0875244140625, 2401.30029296875, 275.5111999511719, 275.21649169921875, 211.3474884033203, 196.9559783935547, 174.79476928710938, 173.25538635253906, 127.48158264160156, 124.99129486083984, 120.56156158447266, 124.3518295288086, 100.06385040283203, 84.67695617675781, 80.53923797607422, 75.63070678710938, 66.3613052368164, 58.67875671386719, 56.69472885131836, 50.75822448730469, 48.97601318359375, 49.89389419555664, 48.170467376708984, 47.60965347290039, 45.19927978515625, 46.243709564208984, 42.19303894042969, 41.642547607421875, 40.48164367675781, 39.97224044799805, 40.134151458740234, 39.920780181884766, 44.478538513183594, 143.59315490722656, 469.9505615234375, 128.59446716308594, 73.13685607910156, 127.33415222167969, 263.0169677734375, 120.19709014892578, 401.7135925292969, 260.92205810546875, 273.3665771484375, 154.71539306640625, 116.72208404541016, 207.18972778320312, 323.1730041503906, 502.2698974609375, 329.24017333984375, 173.88751220703125, 416.1459655761719, 359.9478759765625, 171.73719787597656, 1352.070556640625, 713.74072265625, 2752.994140625, 1584.1361083984375, 487.2729797363281, 354.6701354980469, 580.056884765625, 381.3153076171875, 1692.9903564453125, 7283.53076171875, 805.1808471679688, 1103.337158203125], \"loglift\": [30.0, 29.0, 28.0, 27.0, 26.0, 25.0, 24.0, 23.0, 22.0, 21.0, 20.0, 19.0, 18.0, 17.0, 16.0, 15.0, 14.0, 13.0, 12.0, 11.0, 10.0, 9.0, 8.0, 7.0, 6.0, 5.0, 4.0, 3.0, 2.0, 1.0, 1.0645999908447266, 1.0642000436782837, 1.0641000270843506, 1.0641000270843506, 1.0640000104904175, 1.0638999938964844, 1.0637999773025513, 1.0636999607086182, 1.0633000135421753, 1.0633000135421753, 1.0633000135421753, 1.0633000135421753, 1.0633000135421753, 1.063099980354309, 1.062999963760376, 1.062999963760376, 1.0625, 1.0621999502182007, 1.0621999502182007, 1.0621999502182007, 1.0621000528335571, 1.061900019645691, 1.0618000030517578, 1.061400055885315, 1.0612000226974487, 1.0612000226974487, 1.0612000226974487, 1.0611000061035156, 1.0611000061035156, 1.0609999895095825, 1.0607000589370728, 1.018399953842163, 1.0270999670028687, 1.0217000246047974, 1.0187000036239624, 0.9492999911308289, 1.0277999639511108, 1.0435999631881714, 0.8712999820709229, 0.9659000039100647, 0.8711000084877014, 0.4058000147342682, 0.8418999910354614, 0.7243000268936157, 0.8697999715805054, 0.8813999891281128, 0.8392000198364258, 0.7365000247955322, 0.9023000001907349, 0.32820001244544983, 0.6172000169754028, 0.6082000136375427, 0.5497000217437744, 0.0, 0.3019999861717224, 0.4677000045776367, -0.11100000143051147, 0.16410000622272491, 0.14000000059604645, 1.5961999893188477, 1.5960999727249146, 1.5959999561309814, 1.595900058746338, 1.5956000089645386, 1.5954999923706055, 1.5953999757766724, 1.594499945640564, 1.5943000316619873, 1.5937999486923218, 1.5936000347137451, 1.5936000347137451, 1.593000054359436, 1.592900037765503, 1.5928000211715698, 1.5922000408172607, 1.5921000242233276, 1.5920000076293945, 1.5920000076293945, 1.591599941253662, 1.5907000303268433, 1.590499997138977, 1.590399980545044, 1.5901000499725342, 1.5901000499725342, 1.5896999835968018, 1.5891000032424927, 1.5889999866485596, 1.5888999700546265, 1.5887999534606934, 1.5872999429702759, 1.5817999839782715, 1.5592999458312988, 1.5384000539779663, 1.5572999715805054, 1.451300024986267, 1.544600009918213, 1.4342000484466553, 1.5535999536514282, 1.159600019454956, 1.5134999752044678, 1.1389000415802002, 1.4997999668121338, 1.319000005722046, 0.8173999786376953, 0.5679000020027161, 1.2578999996185303, 1.2544000148773193, 0.7383000254631042, 0.46399998664855957, 0.5958999991416931, 0.984499990940094, -0.5103999972343445, 0.9674000144004822, 0.40290001034736633, 0.8676000237464905, 0.3776000142097473, 0.6477000117301941, 0.35530000925064087, 0.6114000082015991, 0.11919999867677689, 1.7222000360488892, 1.722100019454956, 1.7216999530792236, 1.721500039100647, 1.721500039100647, 1.7210999727249146, 1.7210999727249146, 1.7208000421524048, 1.7201999425888062, 1.7201000452041626, 1.719599962234497, 1.7194000482559204, 1.7192000150680542, 1.7188999652862549, 1.7187000513076782, 1.718500018119812, 1.718500018119812, 1.7182999849319458, 1.7181999683380127, 1.7181999683380127, 1.7168999910354614, 1.7158000469207764, 1.7157000303268433, 1.7156000137329102, 1.715399980545044, 1.7152999639511108, 1.7146999835968018, 1.7145999670028687, 1.7144999504089355, 1.714400053024292, 1.6972999572753906, 1.6748000383377075, 1.6598000526428223, 1.6943999528884888, 1.5875999927520752, 1.6482000350952148, 1.5625, 1.586400032043457, 1.531599998474121, 1.4163000583648682, 1.3926000595092773, 1.4498000144958496, 1.3043999671936035, 1.5401999950408936, 1.094499945640564, 0.28049999475479126, 1.142300009727478, 0.42010000348091125, 0.9909999966621399, 1.3270000219345093, 1.01010000705719, 0.9469000101089478, 1.7308000326156616, 1.7297999858856201, 1.7273999452590942, 1.7273000478744507, 1.7269999980926514, 1.7268999814987183, 1.726699948310852, 1.7257000207901, 1.7252000570297241, 1.725100040435791, 1.725100040435791, 1.7249000072479248, 1.7247999906539917, 1.7244999408721924, 1.7240999937057495, 1.7240999937057495, 1.7232999801635742, 1.7230000495910645, 1.7226999998092651, 1.722599983215332, 1.722499966621399, 1.7223999500274658, 1.7223999500274658, 1.7223999500274658, 1.722100019454956, 1.7213000059127808, 1.7209999561309814, 1.7208000421524048, 1.7206000089645386, 1.7206000089645386, 1.6399999856948853, 1.687399983406067, 1.5525000095367432, 1.621399998664856, 1.6295000314712524, 1.541700005531311, 1.6210999488830566, 1.4596999883651733, 1.3345999717712402, 1.6128000020980835, 1.1502000093460083, 1.3568999767303467, 1.6129000186920166, 0.7736999988555908, 1.0707999467849731, 1.3615000247955322, 1.2412999868392944, 1.2375999689102173, 1.0563000440597534, 1.3604999780654907, 1.48580002784729, 1.3858000040054321, 0.7477999925613403, 0.8970000147819519, 0.9330999851226807, 0.8097000122070312, -0.5605999827384949, 0.1687999963760376, 0.5436999797821045, 0.3465000092983246, 1.0645999908447266, 0.022299999371170998, 0.6642000079154968, 0.8931999802589417, 0.2515999972820282, 0.1890999972820282, 0.07180000096559525, 0.060499999672174454, -0.6969000101089478, 2.323199987411499, 2.3231000900268555, 2.3224000930786133, 2.3220999240875244, 2.3215999603271484, 2.3213999271392822, 2.3201000690460205, 2.319999933242798, 2.3196001052856445, 2.3196001052856445, 2.3185999393463135, 2.3173000812530518, 2.316800117492676, 2.316200017929077, 2.315000057220459, 2.3134000301361084, 2.312999963760376, 2.311500072479248, 2.3111000061035156, 2.311000108718872, 2.311000108718872, 2.310800075531006, 2.309799909591675, 2.3092000484466553, 2.308799982070923, 2.308500051498413, 2.3080999851226807, 2.3078999519348145, 2.3076000213623047, 2.307499885559082, 2.3073999881744385, 2.28629994392395, 2.2441999912261963, 2.2757999897003174, 2.291300058364868, 2.258500099182129, 2.1658999919891357, 2.224299907684326, 2.102099895477295, 2.1407999992370605, 2.123300075531006, 2.1491000652313232, 2.185699939727783, 2.0662999153137207, 1.9575999975204468, 1.7625000476837158, 1.8348000049591064, 2.0195000171661377, 1.733199954032898, 1.7019000053405762, 1.965999960899353, 0.88919997215271, 1.1685999631881714, 0.3183000087738037, 0.4350999891757965, 1.2502000331878662, 1.4428999423980713, 1.021299958229065, 1.3633999824523926, 0.10859999805688858, -1.3976999521255493, 0.5612999796867371, 0.21369999647140503], \"logprob\": [30.0, 29.0, 28.0, 27.0, 26.0, 25.0, 24.0, 23.0, 22.0, 21.0, 20.0, 19.0, 18.0, 17.0, 16.0, 15.0, 14.0, 13.0, 12.0, 11.0, 10.0, 9.0, 8.0, 7.0, 6.0, 5.0, 4.0, 3.0, 2.0, 1.0, -4.7941999435424805, -5.499000072479248, -5.5046000480651855, -5.54580020904541, -5.603899955749512, -5.7118000984191895, -5.761000156402588, -5.811699867248535, -6.04640007019043, -6.02810001373291, -5.348599910736084, -6.0802998542785645, -6.052299976348877, -6.11929988861084, -6.0914998054504395, -6.031300067901611, -6.3225998878479, -6.460700035095215, -6.482699871063232, -6.490699768066406, -6.4953999519348145, -6.575200080871582, -6.622900009155273, -6.71019983291626, -6.67519998550415, -6.735499858856201, -6.68209981918335, -6.782599925994873, -6.781799793243408, -6.816800117492676, -6.770100116729736, -4.940000057220459, -5.790599822998047, -5.728600025177002, -6.159599781036377, -5.395599842071533, -6.35830020904541, -6.5278000831604, -5.318699836730957, -6.023799896240234, -5.552800178527832, -3.5404999256134033, -5.532199859619141, -5.06790018081665, -5.713200092315674, -5.787499904632568, -5.683300018310547, -5.487599849700928, -5.8933000564575195, -4.727700233459473, -5.3709001541137695, -5.4756999015808105, -5.539599895477295, -5.020199775695801, -5.460899829864502, -5.583499908447266, -5.51639986038208, -5.661499977111816, -5.661499977111816, -5.430500030517578, -5.453199863433838, -5.491399765014648, -5.23390007019043, -5.598800182342529, -5.697199821472168, -5.7530999183654785, -5.896100044250488, -6.062399864196777, -6.072000026702881, -5.87939977645874, -6.218900203704834, -6.362400054931641, -6.380000114440918, -6.352499961853027, -6.4475998878479, -6.517399787902832, -6.538400173187256, -6.51140022277832, -6.559999942779541, -6.696400165557861, -6.7393999099731445, -6.69290018081665, -6.8028998374938965, -6.786900043487549, -6.8454999923706055, -6.926499843597412, -6.111000061035156, -6.9355998039245605, -6.89900016784668, -6.118599891662598, -5.643199920654297, -4.741099834442139, -4.976600170135498, -5.7804999351501465, -3.467900037765503, -5.732600212097168, -4.037600040435791, -6.2754998207092285, -4.2444000244140625, -6.172599792480469, -4.491399765014648, -6.198800086975098, -5.644700050354004, -4.923600196838379, -4.48799991607666, -5.7993998527526855, -5.872700214385986, -5.235300064086914, -4.941400051116943, -5.230800151824951, -5.622000217437744, -4.456699848175049, -5.6834001541137695, -5.39870023727417, -5.6666998863220215, -5.455900192260742, -5.621399879455566, -5.639900207519531, -5.69950008392334, -5.706399917602539, -4.043399810791016, -4.203199863433838, -4.561399936676025, -4.7241997718811035, -4.788400173187256, -5.031300067901611, -5.007500171661377, -5.187600135803223, -5.416200160980225, -5.416999816894531, -5.621300220489502, -5.676700115203857, -5.718100070953369, -5.822299957275391, -5.859099864959717, -5.87529993057251, -4.813000202178955, -5.919899940490723, -5.941999912261963, -5.962500095367432, -6.163000106811523, -5.099699974060059, -6.394700050354004, -6.383500099182129, -6.427499771118164, -6.4567999839782715, -6.538899898529053, -6.554200172424316, -6.570300102233887, -6.559899806976318, -5.504899978637695, -5.236700057983398, -4.786399841308594, -6.29580020904541, -5.088799953460693, -5.837500095367432, -5.218999862670898, -5.404399871826172, -5.314899921417236, -4.750500202178955, -4.799600124359131, -5.207200050354004, -5.0131001472473145, -5.542500019073486, -4.668300151824951, -3.665800094604492, -4.978600025177002, -4.600200176239014, -5.092299938201904, -5.4028000831604, -5.371600151062012, -5.498000144958496, -4.759699821472168, -5.184199810028076, -5.853899955749512, -6.034999847412109, -5.988500118255615, -6.128300189971924, -6.10860013961792, -6.315499782562256, -6.37470006942749, -6.422100067138672, -6.347400188446045, -6.44189977645874, -6.441400051116943, -6.491700172424316, -6.502500057220459, -6.5370001792907715, -6.636499881744385, -6.650899887084961, -6.638500213623047, -6.707499980926514, -6.69789981842041, -6.695199966430664, -6.745699882507324, -6.745800018310547, -6.754199981689453, -6.823699951171875, -6.79580020904541, -6.890600204467773, -6.895400047302246, -6.875999927520752, -5.0756001472473145, -6.162499904632568, -5.1041998863220215, -6.029399871826172, -6.247600078582764, -5.795300006866455, -6.282899856567383, -5.5792999267578125, -5.089099884033203, -6.295400142669678, -4.657800197601318, -5.524799823760986, -6.319399833679199, -4.246600151062012, -5.012499809265137, -5.713600158691406, -5.48960018157959, -5.586400032043457, -5.325500011444092, -5.8703999519348145, -6.080999851226807, -5.960400104522705, -5.247499942779541, -5.5278000831604, -5.570799827575684, -5.549499988555908, -4.506899833679199, -5.236599922180176, -5.500400066375732, -5.394499778747559, -5.809999942779541, -5.381700038909912, -5.652100086212158, -5.768400192260742, -5.575099945068359, -5.612500190734863, -5.76170015335083, -5.765100002288818, -5.752799987792969, -4.897900104522705, -4.89900016784668, -5.16379976272583, -5.234600067138672, -5.354400157928467, -5.363500118255615, -5.671599864959717, -5.691400051116943, -5.72790002822876, -5.696899890899658, -5.915299892425537, -6.083499908447266, -6.134099960327148, -6.1975998878479, -6.329599857330322, -6.45419979095459, -6.488900184631348, -6.601099967956543, -6.637199878692627, -6.61870002746582, -6.653900146484375, -6.665900230407715, -6.718800067901611, -6.696499824523926, -6.788599967956543, -6.802000045776367, -6.8308000564575195, -6.843599796295166, -6.839900016784668, -6.845300197601318, -6.737299919128418, -5.586400032043457, -4.442800045013428, -5.707200050354004, -6.256100177764893, -5.734399795532227, -5.101500034332275, -5.826200008392334, -4.741799831390381, -5.1346001625061035, -5.105599880218506, -5.64900016784668, -5.894199848175049, -5.439700126647949, -5.103899955749512, -4.858099937438965, -5.208099842071533, -5.6616997718811035, -5.075399875640869, -5.251800060272217, -5.727700233459473, -4.741000175476074, -5.100500106811523, -4.60099983215332, -5.036799907684326, -5.400599956512451, -5.5254998207092285, -5.4552001953125, -5.532599925994873, -5.296800136566162, -5.343999862670898, -5.587299823760986, -5.619900226593018]}, \"token.table\": {\"Topic\": [1, 3, 3, 4, 3, 4, 5, 4, 2, 2, 3, 4, 1, 5, 1, 2, 5, 5, 5, 1, 4, 3, 1, 3, 2, 1, 2, 3, 5, 1, 3, 1, 2, 1, 4, 1, 3, 4, 2, 5, 4, 1, 2, 3, 5, 1, 1, 2, 4, 4, 2, 5, 1, 4, 5, 2, 2, 2, 3, 5, 4, 1, 2, 3, 4, 5, 1, 3, 4, 1, 2, 3, 4, 1, 1, 4, 1, 1, 2, 3, 4, 1, 1, 2, 4, 1, 3, 4, 5, 3, 4, 4, 5, 1, 3, 5, 1, 5, 5, 1, 1, 3, 4, 3, 4, 1, 3, 3, 4, 1, 4, 1, 3, 1, 5, 1, 2, 2, 1, 2, 5, 2, 4, 5, 2, 1, 3, 2, 3, 1, 2, 5, 1, 2, 3, 4, 5, 1, 3, 5, 2, 4, 2, 3, 1, 2, 5, 1, 4, 2, 3, 5, 2, 2, 1, 2, 3, 4, 5, 2, 5, 2, 1, 2, 4, 5, 1, 3, 2, 1, 1, 2, 4, 5, 3, 1, 2, 3, 4, 5, 5, 1, 2, 3, 4, 5, 2, 1, 2, 4, 5, 4, 2, 4, 1, 2, 3, 4, 1, 2, 2, 4, 5, 3, 4, 1, 5, 1, 5, 1, 5, 3, 2, 5, 2, 3, 4, 5, 1, 4, 3, 1, 4, 2, 3, 5, 4, 1, 2, 3, 4, 1, 2, 3, 4, 2, 1, 2, 3, 4, 5, 4, 4, 3, 2, 1, 3, 1, 2, 5, 2, 2, 4, 1, 3, 4, 3, 2, 4, 1, 1, 2, 4, 5, 3, 4, 1, 2, 3, 5, 2, 3, 3, 2, 3, 4, 1, 5, 1, 2, 3, 4, 5, 3, 4, 5, 2, 1, 2, 3, 4, 5, 1, 2, 3, 5, 2, 1, 3, 4, 1, 2, 3, 4, 5, 3, 4, 3, 4, 1, 4, 3, 3, 3, 5, 1, 3, 4, 3, 3, 1, 2, 3, 1, 2, 4, 5, 2, 5, 4, 4, 1, 3, 1, 2, 1, 1, 4, 3, 1, 4, 1, 5, 2, 3, 1, 3, 4, 1, 4, 1, 2, 3, 4, 1, 5, 4, 1, 2, 3, 1, 5, 2, 3, 2, 5, 5, 1, 2, 3, 1, 2, 3, 4, 5, 2, 5, 1, 4, 5, 2, 4, 5, 2, 3, 1, 2, 3, 5, 1, 1, 3, 5, 1, 3, 5, 3, 1, 3, 1, 1, 2, 3, 4, 5, 3, 5, 3, 4, 2, 3, 3, 4, 5, 3, 2, 1, 2, 4, 2, 3, 5, 2, 4, 1, 2, 3, 4, 5, 4, 2, 2, 4, 2, 3, 1, 1, 3, 4, 1, 2, 3, 4, 5, 2, 4, 5, 4, 1, 3, 4, 1, 2, 3, 4, 4, 1, 2, 4, 1, 2, 3, 4, 5, 1, 2, 3, 4, 5, 2, 5, 1, 5, 4, 1, 1, 2, 3, 5, 2, 3, 4, 4, 3, 5, 1, 2, 3, 4, 5, 1, 2, 3, 4, 2, 3, 4, 1, 2, 3, 5, 5, 2, 3, 5, 5, 1, 2, 5, 3, 2, 5, 1, 2, 3, 4, 5, 1, 2, 4, 5, 1, 2, 3, 4, 4, 5], \"Freq\": [0.8316855430603027, 0.16717296838760376, 0.9269639849662781, 0.07094112038612366, 0.834429144859314, 0.1643572449684143, 0.9892411231994629, 0.9852189421653748, 0.9959900975227356, 0.9889599084854126, 0.11087468266487122, 0.8869974613189697, 0.04665830731391907, 0.9487189054489136, 0.9965134263038635, 0.9981435537338257, 0.9985259771347046, 0.9820840954780579, 0.9850620627403259, 0.9789690971374512, 0.02060987614095211, 0.9884618520736694, 0.9968947172164917, 0.9958873391151428, 0.9959455132484436, 0.2360251396894455, 0.2910976707935333, 0.08916505426168442, 0.382885217666626, 0.9539300799369812, 0.045180756598711014, 0.9633139967918396, 0.03425116464495659, 0.9042652249336243, 0.09215442091226578, 0.3290379047393799, 0.4609871208667755, 0.21045063436031342, 0.09151636064052582, 0.906843900680542, 0.9912683367729187, 0.29041069746017456, 0.27067404985427856, 0.025375692173838615, 0.4144696295261383, 0.9940342903137207, 0.04896682873368263, 0.04197156801819801, 0.9023886919021606, 0.9862234592437744, 0.9933978319168091, 0.9954531192779541, 0.9958855509757996, 0.9529577493667603, 0.04084104672074318, 0.9940446019172668, 0.9965828657150269, 0.13030710816383362, 0.03832562267780304, 0.8316659927368164, 0.9928744435310364, 0.3244701623916626, 0.2954672574996948, 0.06978827714920044, 0.19033166766166687, 0.12054339051246643, 0.42401987314224243, 0.5593196749687195, 0.01570443995296955, 0.08090203255414963, 0.9188159704208374, 0.490797221660614, 0.5080456733703613, 0.9992960095405579, 0.16307584941387177, 0.8360217809677124, 0.995131254196167, 0.7978065013885498, 0.019854912534356117, 0.12093447148799896, 0.06317472457885742, 0.996487021446228, 0.8227165937423706, 0.11612898111343384, 0.058882299810647964, 0.24647319316864014, 0.12689708173274994, 0.6100821495056152, 0.017082300037145615, 0.9959420561790466, 0.9949774742126465, 0.9875476956367493, 0.9769347906112671, 0.3264586329460144, 0.6729044914245605, 0.9881021976470947, 0.06282681971788406, 0.9345489740371704, 0.9731053113937378, 0.9975967407226562, 0.10286916792392731, 0.13615037500858307, 0.7624421119689941, 0.5663408041000366, 0.4314977526664734, 0.0036429353058338165, 0.9963428378105164, 0.9760118722915649, 0.02137252315878868, 0.9982441067695618, 0.9885843992233276, 0.023498525843024254, 0.971272349357605, 0.07660380005836487, 0.9213734865188599, 0.8226860761642456, 0.17642684280872345, 0.9982095956802368, 0.849104642868042, 0.1351926475763321, 0.01660260558128357, 0.1004149317741394, 0.8925771713256836, 0.9884326457977295, 0.9900131821632385, 0.9987515807151794, 0.9982574582099915, 0.9613029956817627, 0.03758477792143822, 0.09612011909484863, 0.35083842277526855, 0.5526906847953796, 0.208561971783638, 0.1174997016787529, 0.32018670439720154, 0.34368664026260376, 0.008812477812170982, 0.2630603313446045, 0.7360630631446838, 0.9757015705108643, 0.9988566637039185, 0.9811932444572449, 0.9839633703231812, 0.014577235095202923, 0.34928908944129944, 0.03948485478758812, 0.6135338544845581, 0.9960549473762512, 0.9983057379722595, 0.8634235858917236, 0.00217944523319602, 0.13439913094043732, 0.9966185092926025, 0.9964905977249146, 0.25024786591529846, 0.36727026104927063, 0.060311537235975266, 0.22774356603622437, 0.09541825205087662, 0.18290458619594574, 0.8157544732093811, 0.9901371598243713, 0.16751211881637573, 0.644685685634613, 0.181078240275383, 0.00648814532905817, 0.9986774325370789, 0.0016159829683601856, 0.9966573715209961, 0.9987932443618774, 0.15927691757678986, 0.08162941783666611, 0.18914133310317993, 0.5694149732589722, 0.9956193566322327, 0.1745491623878479, 0.10267597436904907, 0.07444008439779282, 0.5133798718452454, 0.13347876071929932, 0.9871947765350342, 0.711371123790741, 0.13914349675178528, 0.05565739795565605, 0.09392185509204865, 0.9800716042518616, 0.9916895627975464, 0.08797729015350342, 0.14662881195545197, 0.6891554594039917, 0.07698012888431549, 0.9910650253295898, 0.990238606929779, 0.00589427724480629, 0.1962306946516037, 0.2728833258152008, 0.13337555527687073, 0.3970605432987213, 0.9981479644775391, 0.9930787682533264, 0.13307125866413116, 0.011406107805669308, 0.8516560792922974, 0.9919629096984863, 0.004838843364268541, 0.9984031915664673, 0.9955798983573914, 0.16158702969551086, 0.8402525186538696, 0.9936597943305969, 0.9916607141494751, 0.9893454313278198, 0.03482060134410858, 0.9610486030578613, 0.32086944580078125, 0.18499106168746948, 0.43382859230041504, 0.05893520638346672, 0.9993093013763428, 0.9977644681930542, 0.9887366890907288, 0.9529155492782593, 0.045211318880319595, 0.9946811199188232, 0.9984237551689148, 0.9756771326065063, 0.9946094155311584, 0.14476151764392853, 0.16027167439460754, 0.007755081169307232, 0.6876171827316284, 0.08469319343566895, 0.08155640959739685, 0.14429210126399994, 0.6900926828384399, 0.9967256784439087, 0.21366643905639648, 0.2528199851512909, 0.11298592388629913, 0.3042789101600647, 0.11746060848236084, 0.9985938668251038, 0.9973651766777039, 0.9972357749938965, 0.9912121295928955, 0.7192461490631104, 0.279930055141449, 0.037340037524700165, 0.16180682182312012, 0.7990767955780029, 0.9920223951339722, 0.9972622394561768, 0.9964311122894287, 0.10731440037488937, 0.8260713219642639, 0.06488777697086334, 0.99821537733078, 0.10059814900159836, 0.8981977701187134, 0.9975380897521973, 0.052603404968976974, 0.08664090186357498, 0.1670931577682495, 0.6931272149085999, 0.999283492565155, 0.996160626411438, 0.5969411730766296, 0.18610519170761108, 0.2165374904870987, 0.9945554733276367, 0.7117865085601807, 0.2865633964538574, 0.9943047761917114, 0.002326847752556205, 0.48049405217170715, 0.5165601968765259, 0.4639560580253601, 0.5361887216567993, 0.6389209032058716, 0.044428274035453796, 0.08356747031211853, 0.1639614850282669, 0.06981585919857025, 0.9381831884384155, 0.06020427122712135, 0.9933046698570251, 0.9980278015136719, 0.4064428210258484, 0.2275000810623169, 0.16095855832099915, 0.18793484568595886, 0.017084985971450806, 0.6333130598068237, 0.14086559414863586, 0.22002972662448883, 0.005820892285555601, 0.9978194236755371, 0.04335980489850044, 0.7618937492370605, 0.1961514949798584, 0.1568811684846878, 0.22756388783454895, 0.2844548523426056, 0.05861493945121765, 0.2706631124019623, 0.9958384037017822, 0.9900959730148315, 0.9946010112762451, 0.9938001036643982, 0.9565998315811157, 0.040802836418151855, 0.9967437982559204, 0.9948468208312988, 0.12851038575172424, 0.8653032779693604, 0.34480515122413635, 0.27166467905044556, 0.3833847641944885, 0.9994025230407715, 0.9885880351066589, 0.8901973962783813, 0.01662507839500904, 0.0921936184167862, 0.012573308311402798, 0.6316238641738892, 0.11833702027797699, 0.23741364479064941, 0.8484119176864624, 0.15087087452411652, 0.992107093334198, 0.9874975085258484, 0.9963973164558411, 0.9960615038871765, 0.9627048373222351, 0.03637423738837242, 0.9987951517105103, 0.9985997676849365, 0.9850369691848755, 0.9972525238990784, 0.2920871376991272, 0.7075914144515991, 0.9944846630096436, 0.9717409610748291, 0.9586837291717529, 0.0367155484855175, 0.07006656378507614, 0.017516640946269035, 0.9108653664588928, 0.9994748830795288, 0.9905709028244019, 0.30687353014945984, 0.4822298288345337, 0.05479884520173073, 0.15526339411735535, 0.9940304160118103, 0.9920054078102112, 0.9932919144630432, 0.8232768774032593, 0.011650145053863525, 0.1643964946269989, 0.9978456497192383, 0.9920690655708313, 0.9534358382225037, 0.04000430181622505, 0.9910915493965149, 0.9845699071884155, 0.9983558654785156, 0.3651527166366577, 0.5418395400047302, 0.0942329615354538, 0.517056941986084, 0.12136970460414886, 0.2364237904548645, 0.10091259330511093, 0.02416410483419895, 0.2969653606414795, 0.6987420320510864, 0.21853208541870117, 0.04600675404071808, 0.7361080646514893, 0.2154238224029541, 0.7796290516853333, 0.971724271774292, 0.04527626186609268, 0.9534648060798645, 0.2157646268606186, 0.3866950571537018, 0.08266307413578033, 0.31383946537971497, 0.9982925057411194, 0.12686344981193542, 0.873627781867981, 0.9971706867218018, 0.04443670064210892, 0.8513136506080627, 0.10290604829788208, 0.9956703186035156, 0.46613481640815735, 0.5336905717849731, 0.9973154067993164, 0.36499184370040894, 0.09744928032159805, 0.05669775977730751, 0.45003849267959595, 0.030120685696601868, 0.998164713382721, 0.9953421354293823, 0.9980092644691467, 0.992262065410614, 0.7576743364334106, 0.24133330583572388, 0.01443195529282093, 0.8875652551651001, 0.09380771219730377, 0.9945808053016663, 0.9984598755836487, 0.7998397350311279, 0.026453843340277672, 0.1727280467748642, 0.9971237778663635, 0.993492066860199, 0.9962223172187805, 0.9482715725898743, 0.04990902915596962, 0.2906179428100586, 0.2719886004924774, 0.09438873082399368, 0.17139007151126862, 0.17139007151126862, 0.989662230014801, 0.995930552482605, 0.9869932532310486, 0.985352635383606, 0.906983494758606, 0.08777259290218353, 0.997917652130127, 0.2837863266468048, 0.6572667360305786, 0.057345420122146606, 0.1918230950832367, 0.423261821269989, 0.20641832053661346, 0.1042516827583313, 0.074018694460392, 0.5315295457839966, 0.1251865029335022, 0.34067147970199585, 0.9847385287284851, 0.03891976550221443, 0.7187182903289795, 0.24130253493785858, 0.5498521327972412, 0.17915265262126923, 0.12056184560060501, 0.14873050153255463, 0.9958027005195618, 0.14230282604694366, 0.24680647253990173, 0.6114574670791626, 0.22480368614196777, 0.2887289226055145, 0.07671026140451431, 0.37396255135536194, 0.03622429072856903, 0.3083301782608032, 0.3219155967235565, 0.05138836055994034, 0.20968814194202423, 0.10868342965841293, 0.9422791004180908, 0.05732496455311775, 0.9976574778556824, 0.9893682599067688, 0.9939632415771484, 0.9966964721679688, 0.9945223331451416, 0.9908103346824646, 0.9988440871238708, 0.9951462149620056, 0.06704196333885193, 0.25999200344085693, 0.6720548272132874, 0.9916477203369141, 0.9978311061859131, 0.9981445670127869, 0.3967592716217041, 0.302836149930954, 0.08690081536769867, 0.21330198645591736, 0.000877785962074995, 0.008151449263095856, 0.08559021353721619, 0.08151449263095856, 0.8273720741271973, 0.09264185279607773, 0.8737810850143433, 0.03158244863152504, 0.4002353250980377, 0.3724817931652069, 0.1343855857849121, 0.09348562359809875, 0.9877461194992065, 0.13514183461666107, 0.0917033851146698, 0.7722390294075012, 0.9734668135643005, 0.0826074555516243, 0.7104241251945496, 0.2081708014011383, 0.9970781207084656, 0.9903254508972168, 0.005859913770109415, 0.3206758499145508, 0.0521208681166172, 0.06713874638080597, 0.5583116412162781, 0.0008834045147523284, 0.19746416807174683, 0.4577202796936035, 0.25034159421920776, 0.09418793022632599, 0.47849076986312866, 0.3568899631500244, 0.07662515342235565, 0.08828549832105637, 0.027345994487404823, 0.9707827568054199], \"Term\": [\"analyst\", \"analyst\", \"anti\", \"anti\", \"apple\", \"apple\", \"argentina\", \"artist\", \"athlete\", \"athletic\", \"audio\", \"audio\", \"australian\", \"australian\", \"average\", \"award\", \"ball\", \"barcelona\", \"bath\", \"benefit\", \"benefit\", \"bittorrent\", \"blair\", \"blog\", \"blue\", \"break\", \"break\", \"break\", \"break\", \"broadband\", \"broadband\", \"brown\", \"brown\", \"cable\", \"cable\", \"call\", \"call\", \"call\", \"captain\", \"captain\", \"cell\", \"chance\", \"chance\", \"chance\", \"chance\", \"chancellor\", \"channel\", \"channel\", \"channel\", \"character\", \"chart\", \"chelsea\", \"china\", \"chip\", \"chip\", \"cinema\", \"club\", \"coach\", \"coach\", \"coach\", \"code\", \"come\", \"come\", \"come\", \"come\", \"come\", \"company\", \"company\", \"company\", \"compete\", \"compete\", \"computer\", \"computer\", \"consumer\", \"content\", \"content\", \"core\", \"cost\", \"cost\", \"cost\", \"cost\", \"council\", \"country\", \"country\", \"country\", \"create\", \"create\", \"create\", \"create\", \"criminal\", \"critical\", \"curry\", \"dallaglio\", \"datum\", \"datum\", \"davenport\", \"defeat\", \"defeat\", \"defender\", \"definition\", \"design\", \"design\", \"design\", \"device\", \"device\", \"digital\", \"digital\", \"download\", \"download\", \"election\", \"element\", \"engine\", \"engine\", \"england\", \"england\", \"europe\", \"europe\", \"fan\", \"fast\", \"fast\", \"fast\", \"feature\", \"feature\", \"federer\", \"ferguson\", \"figure\", \"file\", \"film\", \"film\", \"final\", \"final\", \"final\", \"find\", \"find\", \"find\", \"find\", \"find\", \"firm\", \"firm\", \"flanker\", \"football\", \"forget\", \"format\", \"format\", \"france\", \"france\", \"france\", \"fund\", \"gadget\", \"game\", \"game\", \"game\", \"gamer\", \"gaming\", \"go\", \"go\", \"go\", \"go\", \"go\", \"goal\", \"goal\", \"gold\", \"good\", \"good\", \"good\", \"good\", \"government\", \"government\", \"grand\", \"growth\", \"half\", \"half\", \"half\", \"half\", \"handset\", \"hard\", \"hard\", \"hard\", \"hard\", \"hard\", \"henson\", \"high\", \"high\", \"high\", \"high\", \"hodgson\", \"honour\", \"hour\", \"hour\", \"hour\", \"hour\", \"hugely\", \"i\\\\'ve\", \"i\\\\'ve\", \"include\", \"include\", \"include\", \"include\", \"increase\", \"indoor\", \"injury\", \"injury\", \"injury\", \"internet\", \"internet\", \"iptv\", \"ireland\", \"italy\", \"italy\", \"job\", \"johnson\", \"junk\", \"kick\", \"kick\", \"know\", \"know\", \"know\", \"know\", \"labour\", \"laptop\", \"lawsuit\", \"leader\", \"leader\", \"league\", \"legal\", \"lewsey\", \"library\", \"life\", \"life\", \"life\", \"life\", \"list\", \"list\", \"list\", \"list\", \"liverpool\", \"look\", \"look\", \"look\", \"look\", \"look\", \"machine\", \"magazine\", \"mail\", \"manchester\", \"market\", \"market\", \"match\", \"match\", \"match\", \"maybe\", \"medal\", \"memory\", \"message\", \"message\", \"message\", \"microsoft\", \"mini\", \"mini\", \"minister\", \"minute\", \"minute\", \"minute\", \"minute\", \"mobile\", \"modern\", \"month\", \"month\", \"month\", \"mourinho\", \"movie\", \"movie\", \"multimedia\", \"music\", \"music\", \"music\", \"nation\", \"nation\", \"need\", \"need\", \"need\", \"need\", \"need\", \"network\", \"network\", \"newcastle\", \"nintendo\", \"number\", \"number\", \"number\", \"number\", \"number\", \"offer\", \"offer\", \"offer\", \"offer\", \"olympic\", \"online\", \"online\", \"online\", \"open\", \"open\", \"open\", \"open\", \"open\", \"operator\", \"original\", \"owner\", \"page\", \"party\", \"party\", \"patent\", \"peer\", \"penalty\", \"penalty\", \"people\", \"people\", \"people\", \"phone\", \"piracy\", \"plan\", \"plan\", \"plan\", \"play\", \"play\", \"play\", \"play\", \"player\", \"player\", \"podcast\", \"podcasting\", \"policy\", \"portable\", \"predict\", \"predict\", \"price\", \"prime\", \"print\", \"program\", \"project\", \"project\", \"proposal\", \"qualify\", \"race\", \"race\", \"radio\", \"radio\", \"radio\", \"rate\", \"read\", \"record\", \"record\", \"record\", \"record\", \"reduce\", \"referee\", \"remote\", \"report\", \"report\", \"report\", \"rise\", \"robinson\", \"robot\", \"robot\", \"roddick\", \"ruddock\", \"rugby\", \"sale\", \"sale\", \"sale\", \"say\", \"say\", \"say\", \"say\", \"say\", \"score\", \"score\", \"scotland\", \"scotland\", \"scotland\", \"screen\", \"screen\", \"scrum\", \"search\", \"search\", \"second\", \"second\", \"second\", \"second\", \"secretary\", \"security\", \"security\", \"seed\", \"send\", \"send\", \"send\", \"server\", \"service\", \"service\", \"ship\", \"show\", \"show\", \"show\", \"show\", \"show\", \"site\", \"slam\", \"software\", \"song\", \"sony\", \"sony\", \"space\", \"space\", \"space\", \"spam\", \"spanish\", \"speed\", \"speed\", \"speed\", \"sport\", \"spyware\", \"squad\", \"star\", \"star\", \"start\", \"start\", \"start\", \"start\", \"start\", \"station\", \"steve\", \"straight\", \"student\", \"studio\", \"studio\", \"survey\", \"system\", \"system\", \"system\", \"take\", \"take\", \"take\", \"take\", \"take\", \"team\", \"team\", \"team\", \"technique\", \"technology\", \"technology\", \"technology\", \"tell\", \"tell\", \"tell\", \"tell\", \"tend\", \"thing\", \"thing\", \"thing\", \"think\", \"think\", \"think\", \"think\", \"think\", \"time\", \"time\", \"time\", \"time\", \"time\", \"title\", \"title\", \"tory\", \"tournament\", \"traffic\", \"trend\", \"trust\", \"unite\", \"user\", \"victory\", \"video\", \"video\", \"video\", \"viewer\", \"virus\", \"wale\", \"want\", \"want\", \"want\", \"want\", \"want\", \"watch\", \"watch\", \"watch\", \"watch\", \"website\", \"website\", \"website\", \"week\", \"week\", \"week\", \"week\", \"welsh\", \"william\", \"william\", \"william\", \"wimbledon\", \"win\", \"win\", \"win\", \"window\", \"winner\", \"winner\", \"work\", \"work\", \"work\", \"work\", \"work\", \"world\", \"world\", \"world\", \"world\", \"year\", \"year\", \"year\", \"year\", \"zealand\", \"zealand\"]}, \"R\": 30, \"lambda.step\": 0.01, \"plot.opts\": {\"xlab\": \"PC1\", \"ylab\": \"PC2\"}, \"topic.order\": [2, 5, 4, 1, 3]};\n",
       "\n",
       "function LDAvis_load_lib(url, callback){\n",
       "  var s = document.createElement('script');\n",
       "  s.src = url;\n",
       "  s.async = true;\n",
       "  s.onreadystatechange = s.onload = callback;\n",
       "  s.onerror = function(){console.warn(\"failed to load library \" + url);};\n",
       "  document.getElementsByTagName(\"head\")[0].appendChild(s);\n",
       "}\n",
       "\n",
       "if(typeof(LDAvis) !== \"undefined\"){\n",
       "   // already loaded: just create the visualization\n",
       "   !function(LDAvis){\n",
       "       new LDAvis(\"#\" + \"ldavis_el1061053703126487085028050\", ldavis_el1061053703126487085028050_data);\n",
       "   }(LDAvis);\n",
       "}else if(typeof define === \"function\" && define.amd){\n",
       "   // require.js is available: use it to load d3/LDAvis\n",
       "   require.config({paths: {d3: \"https://cdnjs.cloudflare.com/ajax/libs/d3/3.5.5/d3.min\"}});\n",
       "   require([\"d3\"], function(d3){\n",
       "      window.d3 = d3;\n",
       "      LDAvis_load_lib(\"https://cdn.rawgit.com/bmabey/pyLDAvis/files/ldavis.v1.0.0.js\", function(){\n",
       "        new LDAvis(\"#\" + \"ldavis_el1061053703126487085028050\", ldavis_el1061053703126487085028050_data);\n",
       "      });\n",
       "    });\n",
       "}else{\n",
       "    // require.js not available: dynamically load d3 & LDAvis\n",
       "    LDAvis_load_lib(\"https://cdnjs.cloudflare.com/ajax/libs/d3/3.5.5/d3.min.js\", function(){\n",
       "         LDAvis_load_lib(\"https://cdn.rawgit.com/bmabey/pyLDAvis/files/ldavis.v1.0.0.js\", function(){\n",
       "                 new LDAvis(\"#\" + \"ldavis_el1061053703126487085028050\", ldavis_el1061053703126487085028050_data);\n",
       "            })\n",
       "         });\n",
       "}\n",
       "</script>"
      ],
      "text/plain": [
       "<IPython.core.display.HTML object>"
      ]
     },
     "execution_count": 8,
     "metadata": {},
     "output_type": "execute_result"
    }
   ],
   "source": [
    "import pyLDAvis\n",
    "import pyLDAvis.gensim\n",
    "\n",
    "vis = pyLDAvis.gensim.prepare(lda_model, corpus, dictionary)\n",
    "pyLDAvis.display(vis)"
   ]
  },
  {
   "cell_type": "code",
   "execution_count": null,
   "metadata": {},
   "outputs": [],
   "source": []
  }
 ],
 "metadata": {
  "kernelspec": {
   "display_name": "Python 3",
   "language": "python",
   "name": "python3"
  },
  "language_info": {
   "codemirror_mode": {
    "name": "ipython",
    "version": 3
   },
   "file_extension": ".py",
   "mimetype": "text/x-python",
   "name": "python",
   "nbconvert_exporter": "python",
   "pygments_lexer": "ipython3",
   "version": "3.6.8"
  }
 },
 "nbformat": 4,
 "nbformat_minor": 2
}
