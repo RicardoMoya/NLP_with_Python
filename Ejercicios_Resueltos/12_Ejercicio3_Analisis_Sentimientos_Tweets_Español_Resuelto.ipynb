{
 "cells": [
  {
   "cell_type": "markdown",
   "metadata": {},
   "source": [
    "# 12 - Ejercicio: Clasificación de Tweets en Español (Análisis de Sentimientos)\n",
    "\n",
    "* En el siguiente ejercicio tiene como objetivo aplicar los conocimientos vistos hasta el momento de:\n",
    "    - Normalización de textos (procesamiento de textos)\n",
    "    - Clasificación de textos\n",
    "    \n",
    "    \n",
    "* El ejercicio consiste en clasificar una serie de tweets en Español que estan clasificados como '***positivos***', '***neutros***', '***negativos***' o '***None***' (desconocido), aunque solo vamos a trabajar con los tweets clasificados correctamente (los no desconocidos).\n",
    "\n",
    "\n",
    "* Para este ejercicio se pide realizar todo el proceso de clasificación visto hasta el momento:\n",
    "    1. Carga de los datos (ya implementado en el ejercicio)\n",
    "    2. Normalización de los tweets\n",
    "    3. Creacción de la Bolsa de Palabras\n",
    "    4. Particionado de Datos\n",
    "    5. Creacción de modelos\n",
    "    6. Evaluación de los modelos\n",
    "\n",
    "\n",
    "* Los puntos del 2 al 6 son los que hay que realizar con los visto hasta el momento."
   ]
  },
  {
   "cell_type": "markdown",
   "metadata": {},
   "source": [
    "<hr>\n",
    "\n",
    "\n",
    "## Carga de Datos\n",
    "\n",
    "\n",
    "* El primer paso que vamos a realizar es el de cargar los datos. \n",
    "\n",
    "\n",
    "* Estos datos estan en un archivo con extensión '*txt*' pero tienen estructura de '*csv*' y tienen como separador '***::::***'.\n",
    "\n",
    "\n",
    "* Este fichero lo podemos leer como un '*csv*' con pandas, estructurándolo de la siguiente manera:\n",
    "    - **Posición 0**: Tweet\n",
    "    - **Posición 1**: Sentimiento (Positivo | Neutro | Negativo)\n",
    "    \n",
    "    \n",
    "* Los tweets estan clasificados con 4 etiquetas, pero vamos a trabajar solo con los tweets que sean '***positivos***', '***neutros***' o '***negativos***'."
   ]
  },
  {
   "cell_type": "code",
   "execution_count": 1,
   "metadata": {},
   "outputs": [
    {
     "name": "stdout",
     "output_type": "stream",
     "text": [
      "Número de Tweets Cargados: 5735\n"
     ]
    },
    {
     "data": {
      "text/html": [
       "<div>\n",
       "<style scoped>\n",
       "    .dataframe tbody tr th:only-of-type {\n",
       "        vertical-align: middle;\n",
       "    }\n",
       "\n",
       "    .dataframe tbody tr th {\n",
       "        vertical-align: top;\n",
       "    }\n",
       "\n",
       "    .dataframe thead th {\n",
       "        text-align: right;\n",
       "    }\n",
       "</style>\n",
       "<table border=\"1\" class=\"dataframe\">\n",
       "  <thead>\n",
       "    <tr style=\"text-align: right;\">\n",
       "      <th></th>\n",
       "      <th>tweet</th>\n",
       "      <th>sentimiento</th>\n",
       "    </tr>\n",
       "  </thead>\n",
       "  <tbody>\n",
       "    <tr>\n",
       "      <th>1</th>\n",
       "      <td>@PauladeLasHeras No te libraras de ayudar me/n...</td>\n",
       "      <td>neutro</td>\n",
       "    </tr>\n",
       "    <tr>\n",
       "      <th>2</th>\n",
       "      <td>@marodriguezb Gracias MAR</td>\n",
       "      <td>positivo</td>\n",
       "    </tr>\n",
       "    <tr>\n",
       "      <th>3</th>\n",
       "      <td>Off pensando en el regalito Sinde, la que se v...</td>\n",
       "      <td>negativo</td>\n",
       "    </tr>\n",
       "    <tr>\n",
       "      <th>4</th>\n",
       "      <td>Conozco a alguien q es adicto al drama! Ja ja ...</td>\n",
       "      <td>positivo</td>\n",
       "    </tr>\n",
       "    <tr>\n",
       "      <th>6</th>\n",
       "      <td>Toca @crackoviadeTV3 . Grabación dl especial N...</td>\n",
       "      <td>positivo</td>\n",
       "    </tr>\n",
       "  </tbody>\n",
       "</table>\n",
       "</div>"
      ],
      "text/plain": [
       "                                               tweet sentimiento\n",
       "1  @PauladeLasHeras No te libraras de ayudar me/n...      neutro\n",
       "2                          @marodriguezb Gracias MAR    positivo\n",
       "3  Off pensando en el regalito Sinde, la que se v...    negativo\n",
       "4  Conozco a alguien q es adicto al drama! Ja ja ...    positivo\n",
       "6  Toca @crackoviadeTV3 . Grabación dl especial N...    positivo"
      ]
     },
     "execution_count": 1,
     "metadata": {},
     "output_type": "execute_result"
    }
   ],
   "source": [
    "import pandas as pd\n",
    "tweets_file = '../data/tweets_castellano.txt'\n",
    "df = pd.read_csv(tweets_file, sep=\"::::\", names=['tweet','sentimiento'] ,engine='python')\n",
    "df = df[df['sentimiento'].isin(['positivo', 'neutro', 'negativo'])]\n",
    "tweets = [tuple(x) for x in df.values]\n",
    "print('Número de Tweets Cargados: {num}'.format(num=len(tweets)))\n",
    "df.head(5)"
   ]
  },
  {
   "cell_type": "markdown",
   "metadata": {},
   "source": [
    "<hr>\n",
    "\n",
    "\n",
    "## Normalización\n",
    "\n",
    "* Para este ejercicio haremos uso de ***spaCy*** para la tokenización y normalización.\n",
    "\n",
    "\n",
    "* Para ***normalizar*** los tweets realizaremos las siguientes acciones:\n",
    "    1. Pasamos las frases a minúsculas.\n",
    "    2. Eliminamos los signos de puntuación.\n",
    "    3. Eliminamos las palabras con menos de 3 caracteres.\n",
    "    4. Eliminamos las Stop-Words.\n",
    "    5. Eliminamos los enlaces (vamos a dejar las menciones '@'.\n",
    "    6. Pasamos la palabra a su lema\n",
    "\n",
    "\n",
    "* Todos estos pasos los vamos a realizar en una misma función."
   ]
  },
  {
   "cell_type": "code",
   "execution_count": 2,
   "metadata": {},
   "outputs": [],
   "source": [
    "import spacy\n",
    "nlp = spacy.load('es_core_news_sm')\n",
    "\n",
    "# Divido los datos en dos listas \n",
    "#     X: los tweets\n",
    "#     y: target (polaridad)\n",
    "\n",
    "X = [doc[0] for doc in tweets]\n",
    "y = [doc[1] for doc in tweets]\n",
    "\n",
    "def normalize(sentenses):\n",
    "    \"\"\"normalizamos la lista de frases y devolvemos la misma lista de frases normalizada\"\"\"\n",
    "    for index, sentense in enumerate(sentenses):\n",
    "        sentense = nlp(sentense.lower()) # Paso la frase a minúsculas y a un objeto de la clase Doc de Spacy\n",
    "        sentenses[index] = \" \".join([word.lemma_ for word in sentense if (not word.is_punct)\n",
    "                                     and (len(word.text) > 2) and (not word.is_stop) \n",
    "                                     and (not word.text.startswith('http'))])\n",
    "    return sentenses\n",
    "\n",
    "# Normalizamos las frases\n",
    "X = normalize(X)"
   ]
  },
  {
   "cell_type": "markdown",
   "metadata": {},
   "source": [
    "<hr>\n",
    "\n",
    "\n",
    "## Bolsa de Palabras\n",
    "\n",
    "\n",
    "* El siguiente paso es transformar los tweets a una bolsa de palabras de frecuencias para que sirva de entrada al modelo.\n",
    "\n",
    "\n",
    "* Vamos a utilizar (para construir la bolsa de palabras) la clase \"*CountVectorizer*\" de scikit, quedandonos con:\n",
    "    - Las 1500 palabras más frecuentes.\n",
    "    - Que las palabras aparezcan por los menos en 3 tweets."
   ]
  },
  {
   "cell_type": "code",
   "execution_count": 3,
   "metadata": {},
   "outputs": [],
   "source": [
    "from sklearn.feature_extraction.text import CountVectorizer\n",
    "\n",
    "vectorizer = CountVectorizer(max_features=1500, min_df=3)\n",
    "\n",
    "# Pasamos los tweets normalizados a Bolsa de palabras\n",
    "X = vectorizer.fit_transform(X)"
   ]
  },
  {
   "cell_type": "markdown",
   "metadata": {},
   "source": [
    "<hr>\n",
    "\n",
    "\n",
    "## Particionado de Datos (Train y Test)\n",
    "\n",
    "* Particionar los datos en conjunto de Train y Test de la siguiente manera:\n",
    "    - 80% de datos de entrenamiento\n",
    "    - 20% de datos de test\n"
   ]
  },
  {
   "cell_type": "code",
   "execution_count": 4,
   "metadata": {},
   "outputs": [
    {
     "name": "stdout",
     "output_type": "stream",
     "text": [
      "Número de Tweets para el entrenamiento: 4588\n",
      "Número de Tweets para el test: 1147\n"
     ]
    }
   ],
   "source": [
    "from sklearn.model_selection import train_test_split  \n",
    "\n",
    "X_train, X_test, y_train, y_test = train_test_split(X, y, test_size=0.2, random_state=0)\n",
    "\n",
    "print('Número de Tweets para el entrenamiento: {num}'.format(num=X_train.shape[0]))\n",
    "print('Número de Tweets para el test: {num}'.format(num=X_test.shape[0]))"
   ]
  },
  {
   "cell_type": "markdown",
   "metadata": {},
   "source": [
    "<hr>\n",
    "\n",
    "\n",
    "## Creacción del Modelo\n",
    "\n",
    "* Vamos a crear una serie de modelos con los siguientes Algoritmos de Aprendizaje de clasificación:\n",
    "\n",
    "    - Multinomial Naive Bayes\n",
    "    - Bernoulli Naive Bayes\n",
    "    - Regresion Logistica\n",
    "    - Support Vector Machine\n",
    "    - Random Forest"
   ]
  },
  {
   "cell_type": "code",
   "execution_count": 5,
   "metadata": {},
   "outputs": [
    {
     "name": "stdout",
     "output_type": "stream",
     "text": [
      "CREANDO MODELO: Multinomial Naive Bayes\n",
      "\tAccuracy Train: 0.7750653879686138\n",
      "CREANDO MODELO: Bernoulli Naive Bayes\n",
      "\tAccuracy Train: 0.7641673931996512\n",
      "CREANDO MODELO: Regresion Logistica\n",
      "\tAccuracy Train: 0.8400174367916303\n",
      "CREANDO MODELO: Support Vector Machine\n",
      "\tAccuracy Train: 0.8753269398430689\n",
      "CREANDO MODELO: Random Forest\n",
      "\tAccuracy Train: 0.8367480383609416\n"
     ]
    }
   ],
   "source": [
    "from sklearn.naive_bayes import MultinomialNB, BernoulliNB\n",
    "from sklearn.linear_model import LogisticRegression\n",
    "from sklearn.svm import LinearSVC\n",
    "from sklearn.ensemble import RandomForestClassifier\n",
    "\n",
    "mnb = MultinomialNB()\n",
    "bnb = BernoulliNB()\n",
    "lr = LogisticRegression(solver='lbfgs', multi_class='multinomial', max_iter=1000)\n",
    "svm = LinearSVC()\n",
    "rf = RandomForestClassifier(max_depth=100, n_estimators=50, max_features=5)\n",
    "\n",
    "clasificadores = {'Multinomial Naive Bayes': mnb,\n",
    "                  'Bernoulli Naive Bayes': bnb,\n",
    "                  'Regresion Logistica': lr,\n",
    "                  'Support Vector Machine': svm,\n",
    "                  'Random Forest': rf}\n",
    "\n",
    "\n",
    "# Ajustamos los modelos y calculamos el accuracy para los datos de entrenamiento\n",
    "for k, v in clasificadores.items():\n",
    "    print ('CREANDO MODELO: {clas}'.format(clas=k))\n",
    "    v.fit(X_train, y_train)\n",
    "    accuracy_train = v.score(X_train, y_train)\n",
    "    print ('\\tAccuracy Train: {acc_train}'.format(acc_train=accuracy_train)) "
   ]
  },
  {
   "cell_type": "markdown",
   "metadata": {},
   "source": [
    "<hr>\n",
    "\n",
    "\n",
    "## Evaluación del Modelo\n",
    "\n",
    "* Para cada uno de los modelos vamos a calcular las siguientes métricas de evaluación:\n",
    "\n",
    "    1. **Accuracy**\n",
    "    2. **F1**\n",
    "    3. **Precision**\n",
    "    4. **Recall**\n",
    "    5. **Confusion Matrix**\n"
   ]
  },
  {
   "cell_type": "code",
   "execution_count": 6,
   "metadata": {
    "scrolled": true
   },
   "outputs": [
    {
     "name": "stdout",
     "output_type": "stream",
     "text": [
      "EVALUANDO MODELO: Multinomial Naive Bayes\n",
      "EVALUANDO MODELO: Bernoulli Naive Bayes\n",
      "EVALUANDO MODELO: Regresion Logistica\n",
      "EVALUANDO MODELO: Support Vector Machine\n",
      "EVALUANDO MODELO: Random Forest\n"
     ]
    },
    {
     "data": {
      "text/html": [
       "<div>\n",
       "<style scoped>\n",
       "    .dataframe tbody tr th:only-of-type {\n",
       "        vertical-align: middle;\n",
       "    }\n",
       "\n",
       "    .dataframe tbody tr th {\n",
       "        vertical-align: top;\n",
       "    }\n",
       "\n",
       "    .dataframe thead th {\n",
       "        text-align: right;\n",
       "    }\n",
       "</style>\n",
       "<table border=\"1\" class=\"dataframe\">\n",
       "  <thead>\n",
       "    <tr style=\"text-align: right;\">\n",
       "      <th></th>\n",
       "      <th>accuracy</th>\n",
       "      <th>confusion matrix</th>\n",
       "      <th>f1</th>\n",
       "      <th>precision</th>\n",
       "      <th>recall</th>\n",
       "    </tr>\n",
       "    <tr>\n",
       "      <th>name</th>\n",
       "      <th></th>\n",
       "      <th></th>\n",
       "      <th></th>\n",
       "      <th></th>\n",
       "      <th></th>\n",
       "    </tr>\n",
       "  </thead>\n",
       "  <tbody>\n",
       "    <tr>\n",
       "      <th>Multinomial Naive Bayes</th>\n",
       "      <td>0.676548</td>\n",
       "      <td>[[452, 18, 103], [39, 16, 67], [113, 31, 308]]</td>\n",
       "      <td>0.662913</td>\n",
       "      <td>0.653949</td>\n",
       "      <td>0.676548</td>\n",
       "    </tr>\n",
       "    <tr>\n",
       "      <th>Bernoulli Naive Bayes</th>\n",
       "      <td>0.680035</td>\n",
       "      <td>[[472, 14, 87], [45, 13, 64], [139, 18, 295]]</td>\n",
       "      <td>0.659188</td>\n",
       "      <td>0.650823</td>\n",
       "      <td>0.680035</td>\n",
       "    </tr>\n",
       "    <tr>\n",
       "      <th>Regresion Logistica</th>\n",
       "      <td>0.646033</td>\n",
       "      <td>[[453, 22, 98], [48, 12, 62], [151, 25, 276]]</td>\n",
       "      <td>0.628540</td>\n",
       "      <td>0.618181</td>\n",
       "      <td>0.646033</td>\n",
       "    </tr>\n",
       "    <tr>\n",
       "      <th>Support Vector Machine</th>\n",
       "      <td>0.619006</td>\n",
       "      <td>[[435, 34, 104], [47, 18, 57], [143, 52, 257]]</td>\n",
       "      <td>0.612551</td>\n",
       "      <td>0.608394</td>\n",
       "      <td>0.619006</td>\n",
       "    </tr>\n",
       "    <tr>\n",
       "      <th>Random Forest</th>\n",
       "      <td>0.617262</td>\n",
       "      <td>[[535, 0, 38], [79, 0, 43], [278, 1, 173]]</td>\n",
       "      <td>0.557998</td>\n",
       "      <td>0.568029</td>\n",
       "      <td>0.617262</td>\n",
       "    </tr>\n",
       "  </tbody>\n",
       "</table>\n",
       "</div>"
      ],
      "text/plain": [
       "                         accuracy  \\\n",
       "name                                \n",
       "Multinomial Naive Bayes  0.676548   \n",
       "Bernoulli Naive Bayes    0.680035   \n",
       "Regresion Logistica      0.646033   \n",
       "Support Vector Machine   0.619006   \n",
       "Random Forest            0.617262   \n",
       "\n",
       "                                                       confusion matrix  \\\n",
       "name                                                                      \n",
       "Multinomial Naive Bayes  [[452, 18, 103], [39, 16, 67], [113, 31, 308]]   \n",
       "Bernoulli Naive Bayes     [[472, 14, 87], [45, 13, 64], [139, 18, 295]]   \n",
       "Regresion Logistica       [[453, 22, 98], [48, 12, 62], [151, 25, 276]]   \n",
       "Support Vector Machine   [[435, 34, 104], [47, 18, 57], [143, 52, 257]]   \n",
       "Random Forest                [[535, 0, 38], [79, 0, 43], [278, 1, 173]]   \n",
       "\n",
       "                               f1  precision    recall  \n",
       "name                                                    \n",
       "Multinomial Naive Bayes  0.662913   0.653949  0.676548  \n",
       "Bernoulli Naive Bayes    0.659188   0.650823  0.680035  \n",
       "Regresion Logistica      0.628540   0.618181  0.646033  \n",
       "Support Vector Machine   0.612551   0.608394  0.619006  \n",
       "Random Forest            0.557998   0.568029  0.617262  "
      ]
     },
     "execution_count": 6,
     "metadata": {},
     "output_type": "execute_result"
    }
   ],
   "source": [
    "import warnings\n",
    "warnings.filterwarnings(\"ignore\")\n",
    "from sklearn.metrics import accuracy_score, f1_score, precision_score, recall_score, confusion_matrix\n",
    "\n",
    "evaluacion = list()\n",
    "for k, v in clasificadores.items():\n",
    "    print ('EVALUANDO MODELO: {model}'.format(model=k))\n",
    "    model = {}\n",
    "    model['name'] = k\n",
    "    y_pred = v.predict(X_test)\n",
    "    model['accuracy'] = accuracy_score(y_true=y_test, y_pred=y_pred)\n",
    "    model['f1'] = f1_score(y_true=y_test, y_pred=y_pred, average='weighted')\n",
    "    model['precision'] = precision_score(y_true=y_test, y_pred=y_pred, average='weighted')\n",
    "    model['recall'] = recall_score(y_true=y_test, y_pred=y_pred, average='weighted')\n",
    "    model['confusion matrix'] = confusion_matrix(y_true=y_test, y_pred=y_pred,\n",
    "                                                 labels=['positivo', 'neutro', 'negativo'])\n",
    "    evaluacion.append(model)\n",
    "\n",
    "# Pasamos los resultados a un DataFrame para visualizarlos mejor\n",
    "results = pd.DataFrame.from_dict(evaluacion)\n",
    "results.set_index(\"name\", inplace=True)\n",
    "results.head()"
   ]
  },
  {
   "cell_type": "markdown",
   "metadata": {},
   "source": [
    "* Vamos a dibujar las matrices de confusión obtenidas para cada uno de los modelos creados:"
   ]
  },
  {
   "cell_type": "code",
   "execution_count": 7,
   "metadata": {},
   "outputs": [],
   "source": [
    "import numpy as np\n",
    "import matplotlib.pyplot as plt\n",
    "import itertools\n",
    "\n",
    "def plot_confusion_matrix(cm, classes, title, cmap=plt.cm.Blues):\n",
    "    \"\"\"\n",
    "    This function prints and plots the confusion matrix.\n",
    "    \"\"\"\n",
    "    plt.imshow(cm, interpolation='nearest', cmap=cmap)\n",
    "    plt.title(title)\n",
    "    plt.colorbar()\n",
    "    tick_marks = np.arange(len(classes))\n",
    "    plt.xticks(tick_marks, classes, rotation=45)\n",
    "    plt.yticks(tick_marks, classes)\n",
    "\n",
    "    thresh = cm.max() / 2.\n",
    "    for i, j in itertools.product(range(cm.shape[0]), range(cm.shape[1])):\n",
    "        plt.text(j, i, format(cm[i, j], 'd'), horizontalalignment=\"center\",\n",
    "                 color=\"white\" if cm[i, j] > thresh else \"black\")\n",
    "\n",
    "    plt.tight_layout()\n",
    "    plt.ylabel('True label')\n",
    "    plt.xlabel('Predicted label')"
   ]
  },
  {
   "cell_type": "code",
   "execution_count": 8,
   "metadata": {},
   "outputs": [
    {
     "name": "stdout",
     "output_type": "stream",
     "text": [
      "\n",
      "Matriz de confusión del modelo: Multinomial Naive Bayes\n"
     ]
    },
    {
     "data": {
      "image/png": "[encoded data removed]",
      "text/plain": [
       "<Figure size 432x288 with 2 Axes>"
      ]
     },
     "metadata": {
      "needs_background": "light"
     },
     "output_type": "display_data"
    },
    {
     "name": "stdout",
     "output_type": "stream",
     "text": [
      "\n",
      "Matriz de confusión del modelo: Bernoulli Naive Bayes\n"
     ]
    },
    {
     "data": {
      "image/png": "[encoded data removed]",
      "text/plain": [
       "<Figure size 432x288 with 2 Axes>"
      ]
     },
     "metadata": {
      "needs_background": "light"
     },
     "output_type": "display_data"
    },
    {
     "name": "stdout",
     "output_type": "stream",
     "text": [
      "\n",
      "Matriz de confusión del modelo: Regresion Logistica\n"
     ]
    },
    {
     "data": {
      "image/png": "[encoded data removed]",
      "text/plain": [
       "<Figure size 432x288 with 2 Axes>"
      ]
     },
     "metadata": {
      "needs_background": "light"
     },
     "output_type": "display_data"
    },
    {
     "name": "stdout",
     "output_type": "stream",
     "text": [
      "\n",
      "Matriz de confusión del modelo: Support Vector Machine\n"
     ]
    },
    {
     "data": {
      "image/png": "[encoded data removed]",
      "text/plain": [
       "<Figure size 432x288 with 2 Axes>"
      ]
     },
     "metadata": {
      "needs_background": "light"
     },
     "output_type": "display_data"
    },
    {
     "name": "stdout",
     "output_type": "stream",
     "text": [
      "\n",
      "Matriz de confusión del modelo: Random Forest\n"
     ]
    },
    {
     "data": {
      "image/png": "[encoded data removed]",
      "text/plain": [
       "<Figure size 432x288 with 2 Axes>"
      ]
     },
     "metadata": {
      "needs_background": "light"
     },
     "output_type": "display_data"
    }
   ],
   "source": [
    "for model in evaluacion:\n",
    "    print('\\nMatriz de confusión del modelo: {name}'.format(name=model['name']))\n",
    "    plt.figure()\n",
    "    plot_confusion_matrix(model['confusion matrix'], classes=['positivo', 'neutro', 'negativo'], \n",
    "                          title='Matriz de Confusión')\n",
    "    plt.show()"
   ]
  }
 ],
 "metadata": {
  "kernelspec": {
   "display_name": "Python 3",
   "language": "python",
   "name": "python3"
  },
  "language_info": {
   "codemirror_mode": {
    "name": "ipython",
    "version": 3
   },
   "file_extension": ".py",
   "mimetype": "text/x-python",
   "name": "python",
   "nbconvert_exporter": "python",
   "pygments_lexer": "ipython3",
   "version": "3.6.8"
  }
 },
 "nbformat": 4,
 "nbformat_minor": 2
}
