{
 "cells": [
  {
   "cell_type": "markdown",
   "metadata": {},
   "source": [
    "# 17 - TensorFlow - Keras: Clasificación de tendencias politicas en tweets con LSTM (Long Short-Term Memory)\n",
    "\n",
    "* En este notebook vamos a clasificar una serie de tweets etiquetados por un partido político (psoe, pp, vox, podemos y ciudadanos) que corresponden a la tendencia politica de la cuenta que publicó ese tweet,\n",
    "\n",
    "\n",
    "* El ejercicio que vamos a realizar a continuación es muy similar al realizado en el notebook *13_PoC_Tendencias_Politicas_Twitter_Generacion_Exportacion_Modelos.ipynb* y *16_TensorFlow_Keras_MLP_Tendencias_Politicas_Twitter.ipynb* y se pueden comparar los resultados que vamos a obtener con este tipo de ***Redes Neuronales Recurrentes, las LSTM***\n",
    "\n",
    "\n",
    "* Los pasos que vamos a dar son los siguientes:\n",
    "\n",
    "    1. Cargar los datos\n",
    "    2. Normalizar los tweets (igual que en el notebooks anteriormente descritos)\n",
    "    3. Particionado de datos (Train y Test)\n",
    "    4. One-Hot Encoding y codificación del target\n",
    "    5. Creacción de las secuencias de palabras\n",
    "    5. Definición de la Red Neuronal\n",
    "    6. Entrenamiento de la Red Neuronal\n",
    "    7. Evaluación del modelo\n",
    "    \n",
    "    \n",
    "<hr>\n",
    "\n",
    "\n",
    "\n",
    "## Carga de Datos\n",
    "\n",
    "\n",
    "* El fichero que contiene los tweets lo podemos leer como un '*csv*' con pandas pasandole como separador '***::::***'.\n",
    "\n",
    "\n",
    "* Este fichero esta estructurado de la siguiente manera\n",
    "    - **Cuenta**: Cuenta de twitter\n",
    "    - **Partido**: Partido político al que pertenece (ciudadanos, podemos, pp, psoe)\n",
    "    - **Timestamp**: Instante en el que se publicó el tweet\n",
    "    - **Tweet**: Tweet.\n",
    "    \n",
    "    \n",
    "* Leemos los datos y mostramos una muestra:"
   ]
  },
  {
   "cell_type": "code",
   "execution_count": 1,
   "metadata": {},
   "outputs": [
    {
     "name": "stdout",
     "output_type": "stream",
     "text": [
      "Número de Tweets Cargados: 101017\n",
      "Número de Tweets a procesar: 101017\n"
     ]
    },
    {
     "data": {
      "text/html": [
       "<div>\n",
       "<style scoped>\n",
       "    .dataframe tbody tr th:only-of-type {\n",
       "        vertical-align: middle;\n",
       "    }\n",
       "\n",
       "    .dataframe tbody tr th {\n",
       "        vertical-align: top;\n",
       "    }\n",
       "\n",
       "    .dataframe thead th {\n",
       "        text-align: right;\n",
       "    }\n",
       "</style>\n",
       "<table border=\"1\" class=\"dataframe\">\n",
       "  <thead>\n",
       "    <tr style=\"text-align: right;\">\n",
       "      <th></th>\n",
       "      <th>cuenta</th>\n",
       "      <th>partido</th>\n",
       "      <th>timestamp</th>\n",
       "      <th>tweet</th>\n",
       "    </tr>\n",
       "  </thead>\n",
       "  <tbody>\n",
       "    <tr>\n",
       "      <th>71776</th>\n",
       "      <td>Jorgebuxade</td>\n",
       "      <td>vox</td>\n",
       "      <td>1,609,368,146.00</td>\n",
       "      <td>Para nosotros, #TodasLasVidasImportan. Sobre t...</td>\n",
       "    </tr>\n",
       "    <tr>\n",
       "      <th>11797</th>\n",
       "      <td>GirautaOficial</td>\n",
       "      <td>ciudadanos</td>\n",
       "      <td>1,563,445,654.00</td>\n",
       "      <td>“Cuando despertó del ensueño triunfal de sus 1...</td>\n",
       "    </tr>\n",
       "    <tr>\n",
       "      <th>74542</th>\n",
       "      <td>Ortega_Smith</td>\n",
       "      <td>vox</td>\n",
       "      <td>1,610,553,836.00</td>\n",
       "      <td>Hoy celebramos el 63° aniversario de la gesta ...</td>\n",
       "    </tr>\n",
       "    <tr>\n",
       "      <th>8586</th>\n",
       "      <td>CiudadanoVille</td>\n",
       "      <td>ciudadanos</td>\n",
       "      <td>1,561,699,876.00</td>\n",
       "      <td>Sánchez quiere subir impuestos, Cs no; Sánchez...</td>\n",
       "    </tr>\n",
       "    <tr>\n",
       "      <th>84258</th>\n",
       "      <td>PSOE</td>\n",
       "      <td>psoe</td>\n",
       "      <td>1,614,022,740.00</td>\n",
       "      <td>📌@Adrilastra en el día de la #IgualdadSalarial...</td>\n",
       "    </tr>\n",
       "    <tr>\n",
       "      <th>90652</th>\n",
       "      <td>TeoGarciaEgea</td>\n",
       "      <td>pp</td>\n",
       "      <td>1,616,510,589.00</td>\n",
       "      <td>El plan presentado por Renault es una excelent...</td>\n",
       "    </tr>\n",
       "    <tr>\n",
       "      <th>52491</th>\n",
       "      <td>zoidoJI</td>\n",
       "      <td>pp</td>\n",
       "      <td>1,581,770,133.00</td>\n",
       "      <td>La #PAC es una inversión y no un gasto. Los ag...</td>\n",
       "    </tr>\n",
       "    <tr>\n",
       "      <th>86059</th>\n",
       "      <td>CiudadanosCs</td>\n",
       "      <td>ciudadanos</td>\n",
       "      <td>1,614,679,280.00</td>\n",
       "      <td>🚨 En Cataluña hay una crisis de autoridad.⚠️ L...</td>\n",
       "    </tr>\n",
       "    <tr>\n",
       "      <th>9838</th>\n",
       "      <td>Albert_Rivera</td>\n",
       "      <td>ciudadanos</td>\n",
       "      <td>1,562,667,592.00</td>\n",
       "      <td>Vamos a denunciar ante la Fiscalía las agresio...</td>\n",
       "    </tr>\n",
       "    <tr>\n",
       "      <th>58534</th>\n",
       "      <td>PODEMOS</td>\n",
       "      <td>podemos</td>\n",
       "      <td>1,583,659,044.00</td>\n",
       "      <td>❌ La violencia contra la mujer no existe.❌ Ves...</td>\n",
       "    </tr>\n",
       "  </tbody>\n",
       "</table>\n",
       "</div>"
      ],
      "text/plain": [
       "               cuenta     partido        timestamp  \\\n",
       "71776     Jorgebuxade         vox 1,609,368,146.00   \n",
       "11797  GirautaOficial  ciudadanos 1,563,445,654.00   \n",
       "74542    Ortega_Smith         vox 1,610,553,836.00   \n",
       "8586   CiudadanoVille  ciudadanos 1,561,699,876.00   \n",
       "84258            PSOE        psoe 1,614,022,740.00   \n",
       "90652   TeoGarciaEgea          pp 1,616,510,589.00   \n",
       "52491         zoidoJI          pp 1,581,770,133.00   \n",
       "86059    CiudadanosCs  ciudadanos 1,614,679,280.00   \n",
       "9838    Albert_Rivera  ciudadanos 1,562,667,592.00   \n",
       "58534         PODEMOS     podemos 1,583,659,044.00   \n",
       "\n",
       "                                                   tweet  \n",
       "71776  Para nosotros, #TodasLasVidasImportan. Sobre t...  \n",
       "11797  “Cuando despertó del ensueño triunfal de sus 1...  \n",
       "74542  Hoy celebramos el 63° aniversario de la gesta ...  \n",
       "8586   Sánchez quiere subir impuestos, Cs no; Sánchez...  \n",
       "84258  📌@Adrilastra en el día de la #IgualdadSalarial...  \n",
       "90652  El plan presentado por Renault es una excelent...  \n",
       "52491  La #PAC es una inversión y no un gasto. Los ag...  \n",
       "86059  🚨 En Cataluña hay una crisis de autoridad.⚠️ L...  \n",
       "9838   Vamos a denunciar ante la Fiscalía las agresio...  \n",
       "58534  ❌ La violencia contra la mujer no existe.❌ Ves...  "
      ]
     },
     "execution_count": 1,
     "metadata": {},
     "output_type": "execute_result"
    }
   ],
   "source": [
    "import pandas as pd\n",
    "import numpy as np\n",
    "pd.options.display.float_format = '{:,.2f}'.format\n",
    "\n",
    "TWEETS_FILE = './data/tweets_politica.csv'\n",
    "df = pd.read_csv(TWEETS_FILE, sep='::::', engine='python', error_bad_lines=False)\n",
    "\n",
    "# Eliminamos los tweets que tengan algún valor a nulo\n",
    "df = df.dropna()\n",
    "print('Número de Tweets Cargados: {num}'.format(num=df.shape[0]))\n",
    "\n",
    "# Los ordenamos por fecha\n",
    "df = df.sort_values(by='timestamp')\n",
    "\n",
    "# Imprimimos el número de tweets a procesar\n",
    "print('Número de Tweets a procesar: {num}'.format(num=df.shape[0]))\n",
    "df.sample(10)"
   ]
  },
  {
   "cell_type": "markdown",
   "metadata": {},
   "source": [
    "* Filtramos los tweets por fecha. Nos quedamos con los tweets a partir de una fecha dada."
   ]
  },
  {
   "cell_type": "code",
   "execution_count": 2,
   "metadata": {},
   "outputs": [
    {
     "name": "stdout",
     "output_type": "stream",
     "text": [
      "Número de Tweets a procesar: 100786\n"
     ]
    },
    {
     "data": {
      "text/html": [
       "<div>\n",
       "<style scoped>\n",
       "    .dataframe tbody tr th:only-of-type {\n",
       "        vertical-align: middle;\n",
       "    }\n",
       "\n",
       "    .dataframe tbody tr th {\n",
       "        vertical-align: top;\n",
       "    }\n",
       "\n",
       "    .dataframe thead th {\n",
       "        text-align: right;\n",
       "    }\n",
       "</style>\n",
       "<table border=\"1\" class=\"dataframe\">\n",
       "  <thead>\n",
       "    <tr style=\"text-align: right;\">\n",
       "      <th></th>\n",
       "      <th>cuenta</th>\n",
       "      <th>partido</th>\n",
       "      <th>timestamp</th>\n",
       "      <th>tweet</th>\n",
       "    </tr>\n",
       "  </thead>\n",
       "  <tbody>\n",
       "    <tr>\n",
       "      <th>79750</th>\n",
       "      <td>CiudadanosCs</td>\n",
       "      <td>ciudadanos</td>\n",
       "      <td>1,612,284,012.00</td>\n",
       "      <td>🆘 Las medidas restrictivas tienen que acompaña...</td>\n",
       "    </tr>\n",
       "    <tr>\n",
       "      <th>65822</th>\n",
       "      <td>PSOE</td>\n",
       "      <td>psoe</td>\n",
       "      <td>1,585,245,360.00</td>\n",
       "      <td>🔴 @abalosmeco @mitmagob: La mejor arma para ve...</td>\n",
       "    </tr>\n",
       "    <tr>\n",
       "      <th>10512</th>\n",
       "      <td>PabloSaezAM</td>\n",
       "      <td>vox</td>\n",
       "      <td>1,562,734,387.00</td>\n",
       "      <td>Es la mejora de las rentas más bajas el camino...</td>\n",
       "    </tr>\n",
       "    <tr>\n",
       "      <th>84160</th>\n",
       "      <td>Tonicanto1</td>\n",
       "      <td>ciudadanos</td>\n",
       "      <td>1,613,829,089.00</td>\n",
       "      <td>Monedero, Albert Plá y la libertad de expresió...</td>\n",
       "    </tr>\n",
       "    <tr>\n",
       "      <th>5145</th>\n",
       "      <td>begonavillacis</td>\n",
       "      <td>ciudadanos</td>\n",
       "      <td>1,557,765,456.00</td>\n",
       "      <td>Muy orgullosa de presentaros nuestra gran infr...</td>\n",
       "    </tr>\n",
       "    <tr>\n",
       "      <th>972</th>\n",
       "      <td>TeoGarciaEgea</td>\n",
       "      <td>pp</td>\n",
       "      <td>1,556,052,946.00</td>\n",
       "      <td>Hoy se ha demostrado que la única alternativa ...</td>\n",
       "    </tr>\n",
       "    <tr>\n",
       "      <th>70608</th>\n",
       "      <td>Jorgebuxade</td>\n",
       "      <td>vox</td>\n",
       "      <td>1,609,276,313.00</td>\n",
       "      <td>🔊 Más sobre la #InvasiónInmigratoria: la Comis...</td>\n",
       "    </tr>\n",
       "    <tr>\n",
       "      <th>7817</th>\n",
       "      <td>ahorapodemos</td>\n",
       "      <td>podemos</td>\n",
       "      <td>1,561,308,572.00</td>\n",
       "      <td>Artículo de nuestra eurodiputada @MEugeniaRPal...</td>\n",
       "    </tr>\n",
       "    <tr>\n",
       "      <th>66674</th>\n",
       "      <td>GuillermoDiazCs</td>\n",
       "      <td>ciudadanos</td>\n",
       "      <td>1,585,411,885.00</td>\n",
       "      <td>@Pasajero8 Obra maestra amigo mío. Te va a enc...</td>\n",
       "    </tr>\n",
       "    <tr>\n",
       "      <th>74192</th>\n",
       "      <td>hermanntertsch</td>\n",
       "      <td>vox</td>\n",
       "      <td>1,610,515,492.00</td>\n",
       "      <td>Youtube cierra el canal al presidente. 75 mill...</td>\n",
       "    </tr>\n",
       "  </tbody>\n",
       "</table>\n",
       "</div>"
      ],
      "text/plain": [
       "                cuenta     partido        timestamp  \\\n",
       "79750     CiudadanosCs  ciudadanos 1,612,284,012.00   \n",
       "65822             PSOE        psoe 1,585,245,360.00   \n",
       "10512      PabloSaezAM         vox 1,562,734,387.00   \n",
       "84160       Tonicanto1  ciudadanos 1,613,829,089.00   \n",
       "5145    begonavillacis  ciudadanos 1,557,765,456.00   \n",
       "972      TeoGarciaEgea          pp 1,556,052,946.00   \n",
       "70608      Jorgebuxade         vox 1,609,276,313.00   \n",
       "7817      ahorapodemos     podemos 1,561,308,572.00   \n",
       "66674  GuillermoDiazCs  ciudadanos 1,585,411,885.00   \n",
       "74192   hermanntertsch         vox 1,610,515,492.00   \n",
       "\n",
       "                                                   tweet  \n",
       "79750  🆘 Las medidas restrictivas tienen que acompaña...  \n",
       "65822  🔴 @abalosmeco @mitmagob: La mejor arma para ve...  \n",
       "10512  Es la mejora de las rentas más bajas el camino...  \n",
       "84160  Monedero, Albert Plá y la libertad de expresió...  \n",
       "5145   Muy orgullosa de presentaros nuestra gran infr...  \n",
       "972    Hoy se ha demostrado que la única alternativa ...  \n",
       "70608  🔊 Más sobre la #InvasiónInmigratoria: la Comis...  \n",
       "7817   Artículo de nuestra eurodiputada @MEugeniaRPal...  \n",
       "66674  @Pasajero8 Obra maestra amigo mío. Te va a enc...  \n",
       "74192  Youtube cierra el canal al presidente. 75 mill...  "
      ]
     },
     "execution_count": 2,
     "metadata": {},
     "output_type": "execute_result"
    }
   ],
   "source": [
    "import datetime\n",
    "import time\n",
    "\n",
    "# Filtramos los tweets a partir de una fecha\n",
    "DATE = \"01/04/2019\"\n",
    "timestamp = time.mktime(datetime.datetime.strptime(DATE, \"%d/%m/%Y\").timetuple())\n",
    "df = df[df.timestamp >= timestamp]\n",
    "\n",
    "# Mostramos un sample y el número de tweets a procesar\n",
    "print('Número de Tweets a procesar: {num}'.format(num=df.shape[0]))\n",
    "df.sample(10)"
   ]
  },
  {
   "cell_type": "markdown",
   "metadata": {},
   "source": [
    "* Tweets publicados por partido político"
   ]
  },
  {
   "cell_type": "code",
   "execution_count": 3,
   "metadata": {},
   "outputs": [
    {
     "data": {
      "text/html": [
       "<div>\n",
       "<style scoped>\n",
       "    .dataframe tbody tr th:only-of-type {\n",
       "        vertical-align: middle;\n",
       "    }\n",
       "\n",
       "    .dataframe tbody tr th {\n",
       "        vertical-align: top;\n",
       "    }\n",
       "\n",
       "    .dataframe thead th {\n",
       "        text-align: right;\n",
       "    }\n",
       "</style>\n",
       "<table border=\"1\" class=\"dataframe\">\n",
       "  <thead>\n",
       "    <tr style=\"text-align: right;\">\n",
       "      <th></th>\n",
       "      <th>partido</th>\n",
       "      <th>tweet</th>\n",
       "      <th>PCT</th>\n",
       "    </tr>\n",
       "  </thead>\n",
       "  <tbody>\n",
       "    <tr>\n",
       "      <th>3</th>\n",
       "      <td>psoe</td>\n",
       "      <td>23152</td>\n",
       "      <td>22.97</td>\n",
       "    </tr>\n",
       "    <tr>\n",
       "      <th>1</th>\n",
       "      <td>podemos</td>\n",
       "      <td>19807</td>\n",
       "      <td>19.65</td>\n",
       "    </tr>\n",
       "    <tr>\n",
       "      <th>2</th>\n",
       "      <td>pp</td>\n",
       "      <td>19496</td>\n",
       "      <td>19.34</td>\n",
       "    </tr>\n",
       "    <tr>\n",
       "      <th>0</th>\n",
       "      <td>ciudadanos</td>\n",
       "      <td>19429</td>\n",
       "      <td>19.28</td>\n",
       "    </tr>\n",
       "    <tr>\n",
       "      <th>4</th>\n",
       "      <td>vox</td>\n",
       "      <td>18902</td>\n",
       "      <td>18.75</td>\n",
       "    </tr>\n",
       "  </tbody>\n",
       "</table>\n",
       "</div>"
      ],
      "text/plain": [
       "      partido  tweet   PCT\n",
       "3        psoe  23152 22.97\n",
       "1     podemos  19807 19.65\n",
       "2          pp  19496 19.34\n",
       "0  ciudadanos  19429 19.28\n",
       "4         vox  18902 18.75"
      ]
     },
     "execution_count": 3,
     "metadata": {},
     "output_type": "execute_result"
    }
   ],
   "source": [
    "df_count = df.groupby('partido')['tweet'].count().reset_index().sort_values(by='tweet', ascending=False)\n",
    "df_count['PCT'] = (df_count['tweet'] / df_count['tweet'].sum())*100\n",
    "df_count"
   ]
  },
  {
   "cell_type": "markdown",
   "metadata": {},
   "source": [
    "* Nos quedamos solo con el nombre del partido y el tweet"
   ]
  },
  {
   "cell_type": "code",
   "execution_count": 4,
   "metadata": {},
   "outputs": [
    {
     "name": "stdout",
     "output_type": "stream",
     "text": [
      "Número de Tweets Cargados: 100786\n"
     ]
    }
   ],
   "source": [
    "tweets = [list(x) for x in df[['tweet', 'partido']].values]\n",
    "print('Número de Tweets Cargados: {num}'.format(num=len(tweets)))"
   ]
  },
  {
   "cell_type": "markdown",
   "metadata": {},
   "source": [
    "<hr>\n",
    "\n",
    "\n",
    "## Normalización\n",
    "\n",
    "\n",
    "* Utilizamos ***spaCy*** para la tokenización y normalización.\n",
    "\n",
    "\n",
    "* Tras realizar un análisis del contenido de los tweets pasamos a realizar las siguientes acciones para ***normalizar*** los tweets:\n",
    "    1. Pasamos las frases a minúsculas.\n",
    "    2. Sustituimos los puntos por espacios ya que hay muchas palabras unidas por un punto\n",
    "    3. Quitamos la almuhadilla de los hashtags para considerarlos como palabras.\n",
    "    4. Eliminamos los signos de puntuación.\n",
    "    5. Eliminamos los enlaces(http) y las menciones (@)\n",
    "    6. Pasamos la palabra a su lema\n",
    "\n",
    "\n",
    "* Todos estos pasos los vamos a realizar en una misma función.\n",
    "\n",
    "* Descartaremos aquellos tweets que tras ser normalizados no tengan por lo menos 3 palabras.\n",
    "\n",
    "\n",
    "* ***NOTA***: Cuando trabajamos con Redes Neuronales Recurrentes y en especial con las LSTM aplicado al Procesamiento del Lenguaje Natural, no solo nos interesa saber las palabras que componen un tweet (o documento), si no tambien la secuencia de esas palabras dentro de la frase, por ese motivo ***vamos a tratar los tweets como secuencias de palabras y no como bolsas de palabras*** (como haciamos en los ejemplos anteriores). Por tanto no vamos a eliminar las palabras con menos de 3 caracteres ni las stop-words.\n",
    "\n",
    "\n",
    "#### CUIDADO - IMPORTANTE:\n",
    "\n",
    "* Dado que los procesos de normalización de textos son muy pesados y tardan mucho, se ha implementado despues de la normalización de los tweets, un proceso de guardado de los tweets ya normalizados. Por tanto:\n",
    "    - Si es la primera vez que se ejecuta este notebook, se puede ejecutar completo sabiendo que se guardarán en un fichero binario los tweets normalizados. Este guardado se realiza [AQUI](#Escritura).\n",
    "    - En caso de haberse ejecutado el proceso de normalización de tweets y haberse guardado este en un fichero binario, no será necesario ejecutar las dos siguientes celdas de código y bastaría con ejecutar la celda de código que lee el fichero binario con los tweets normalizados. Esto se hace en la siguiente [CELDA](#Lectura)."
   ]
  },
  {
   "cell_type": "code",
   "execution_count": null,
   "metadata": {},
   "outputs": [],
   "source": [
    "import spacy\n",
    "\n",
    "from tqdm import tqdm\n",
    "\n",
    "nlp = spacy.load('es_core_news_sm')\n",
    "\n",
    "def normalize(tweets, min_words=3):\n",
    "    \"\"\"\n",
    "    Función que dada una lista de tweets ([tweet, clase]), normaliza los tweets y devuelve una lista\n",
    "    con los tweets normalizados, descartando aquellos tweets que tras la normalización tengan menos de\n",
    "    \"min_words\" palabras en el tweet.\n",
    "    \n",
    "    :param tweets:       Lista de Tweets ([tweet, clase]) con el tweet y la clase a la que pertenece\n",
    "    :param min_words:    Número minimo de palabras que tiene que tener un tweet tras la normalización\n",
    "    :return:             Lista de Tweets ([tweet, clase]) normalizados\n",
    "    \"\"\"\n",
    "    tweets_list = []\n",
    "    for tweet in tqdm(tweets):\n",
    "        # Tokenizamos el tweets realizando los puntos 1,2 y 3.\n",
    "        tw = nlp(tweet[0].lower().replace('.', ' ').replace('#', ' ').strip())\n",
    "        \n",
    "        # Normalizamos Puntos 4,5y 6\n",
    "        tw = ([word.lemma_ for word in tw if (not word.is_punct)\n",
    "               and (not word.text.startswith('@'))\n",
    "               and (not word.text.startswith('http'))\n",
    "               and (not ':' in word.text)])\n",
    "        \n",
    "        # Eliminamos los tweets que tras la normalización tengan menos de \"min_words\" palabras\n",
    "        if len(tw) >= min_words:\n",
    "            tweets_list.append([' '.join(tw), tweet[1]])\n",
    "    return tweets_list\n",
    "\n",
    "# Normalizamos las frases\n",
    "X_norm = normalize(tweets)"
   ]
  },
  {
   "cell_type": "markdown",
   "metadata": {},
   "source": [
    "#### <a name=\"Escritura\">Guardado de los tweets normalizados en un fichero binario</a>\n",
    "\n",
    "* Se guarda una lista de listas, donde en cada una de las listas se tiene:\n",
    "    - [0]: El Tweet normalizado\n",
    "    - [1]: La clase a la que pertenece el Tweet"
   ]
  },
  {
   "cell_type": "code",
   "execution_count": null,
   "metadata": {},
   "outputs": [],
   "source": [
    "import pickle\n",
    "\n",
    "filename = './models/normalized_tweets_LSTM.pickle'\n",
    "save_list = open(filename,\"wb\")\n",
    "pickle.dump(X_norm, save_list)\n",
    "save_list.close()\n"
   ]
  },
  {
   "cell_type": "markdown",
   "metadata": {},
   "source": [
    "#### <a name=\"Lectura\">Lectura de los tweets normalizados de un fichero binario</a>\n",
    "\n",
    "* Lectura de una lista con la siguiente estructura:\n",
    "    - [0]: El Tweet normalizado\n",
    "    - [1]: La clase a la que pertenece el Tweet"
   ]
  },
  {
   "cell_type": "code",
   "execution_count": 7,
   "metadata": {},
   "outputs": [],
   "source": [
    "import pickle\n",
    "\n",
    "filename = './models/normalized_tweets_LSTM.pickle'\n",
    "X_norm = pickle.load(open(filename, 'rb'))\n"
   ]
  },
  {
   "cell_type": "markdown",
   "metadata": {},
   "source": [
    "<hr>\n",
    "\n",
    "\n",
    "## Particionado de Datos (Train y Test)\n",
    "\n",
    "* Dado que las temáticas de los tweets varian en función del tiempo (tienen caracter temporal), vamos a particionar los datos temporalmente.\n",
    "\n",
    "\n",
    "* Seleccionaremos como tweets de entrenamiento aquellos que se han escrito hasta una determinada fecha y como tweets de test los últimos tweets escritos.\n",
    "\n",
    "\n",
    "* Seleccionaremos un 2% de tweets de test, siendo estos los últimos tweets registrados en el dataset (los tweets están escritos de manera cronológica).\n",
    "\n",
    "\n",
    "* Por tanto nos vamos a quedar con:\n",
    "    - 98% de datos de entrenamiento\n",
    "    - 2% de datos de test"
   ]
  },
  {
   "cell_type": "code",
   "execution_count": 8,
   "metadata": {},
   "outputs": [
    {
     "name": "stdout",
     "output_type": "stream",
     "text": [
      "Corte en el tweet número 95972 de los 97930 tweets del Dataset.\n",
      "Tweets de entrenamiento: 95972\n",
      "Tweets de Test: 1958\n"
     ]
    }
   ],
   "source": [
    "# Divido los datos en dos listas \n",
    "#     X: los tweets\n",
    "#     y: target (polaridad)\n",
    "\n",
    "X = [doc[0] for doc in X_norm]\n",
    "y = np.array([doc[1] for doc in X_norm])\n",
    "\n",
    "# Particionamos los datos en Entrenamiento y Test\n",
    "\n",
    "PCT_TEST = 0.02\n",
    "n_tail = len(X) - int(len(X) * PCT_TEST)\n",
    "print('Corte en el tweet número {} de los {} tweets del Dataset.'.format(n_tail, len(X)))\n",
    "\n",
    "X_train = X[:n_tail]\n",
    "y_train = y[:n_tail]\n",
    "X_test = X[n_tail:]\n",
    "y_test = y[n_tail:]\n",
    "\n",
    "print('Tweets de entrenamiento: {}'.format(len(X_train)))\n",
    "print('Tweets de Test: {}'.format(len(X_test)))\n"
   ]
  },
  {
   "cell_type": "markdown",
   "metadata": {},
   "source": [
    "<hr>\n",
    "\n",
    "\n",
    "## One-Hot Encoding y codificación del target\n",
    "\n",
    "\n",
    "* Con las Redes Neuronales Recurrentes vamos a tratar los tweets como secuencias de palabras y por tanto tenemos que realizar una codificación de todas palabras que aparecen en los tweets.\n",
    "\n",
    "\n",
    "* Para ello TensorFlow nos proporciona una función llamada \"one_hot\" que dado un texto y el tamaño que tendrá nuestro vocabulario, nos codifica el texto por palabras. En el siguiente enlace esta la documentación de esta función:<br>\n",
    "https://www.tensorflow.org/api_docs/python/tf/keras/preprocessing/text/one_hot\n",
    "\n",
    "\n",
    "* Veamos a continuación un ejemplo de como codificamos los textos:\n",
    "\n",
    "\n",
    "```python\n",
    "one_hot(\"Esto es un ejemplo de onehot encoding\", 100)\n",
    "```\n",
    "\n",
    "```ssh\n",
    ">> [6, 88, 30, 81, 31, 52, 22]\n",
    "```\n",
    "\n",
    "* Si realizamos una codificación de un string que continene palabras identicas, nos lo codifica con el mismo identificador como es de esperar:\n",
    "\n",
    "```python\n",
    "one_hot(\"Esto es otro ejemplo\", 100)\n",
    "```\n",
    "\n",
    "```ssh\n",
    ">> [6, 88, 79, 81]\n",
    "```\n",
    "\n",
    "\n",
    "* Por tanto vemos como utiliza identificadores numéricos del 1 al 100 para codificar las palabras de los strings:\n",
    "\n",
    "    + \"Esto\" = 6\n",
    "    + \"es\" = 88\n",
    "    + \"un\" = 30\n",
    "    + \"ejemplo\" = 81\n",
    "    + \"de\" = 31\n",
    "    + \"onehot\" = 52\n",
    "    + \"encoding\" = 22\n",
    "    + \"otro\" = 79\n",
    "    \n",
    "    \n",
    "* Los identificadores que asigna a las palabras los obtiene aplicando una función \"*hash*\" a las palabras, de ahí que no sea necesario crear un \"modelo\" de \"one-hot Encode\" (como en scikit) para codificar otros strings (strings a predecir). \n",
    "\n",
    "\n",
    "* Lo único que hay que respetar para que nos codifique una misma palabra con el mismo identificador es el ***tamaño del vocabulario 'n'*** que se le pasa a la función \"*one_hot(text, n)*\" que en el ejemplo puesto anteriormente tiene valor *100*.\n",
    "\n",
    "\n",
    "* Este valor '*n*' del vocabulario debe de tener (a priori) un valor lo suficientemente grande como para poder codificar todas las posibles palabras que podamos utilizar en una lengua (Español, Inglés, Alemán, etc.).\n",
    "\n",
    "\n",
    "* El último paso que vamos a realizar es la codificación del nombre del partido político utilizando la clase \"LabelEncoder()\" de scikit.\n",
    "    "
   ]
  },
  {
   "cell_type": "code",
   "execution_count": 9,
   "metadata": {},
   "outputs": [],
   "source": [
    "from sklearn.preprocessing import LabelEncoder\n",
    "from tensorflow.keras.preprocessing.text import one_hot\n",
    "\n",
    "# Hacemos un one-hot encoder del texto\n",
    "VOCAB_SIZE = 100000 # Poner un valor muy alto\n",
    "X_train = [one_hot(doc, VOCAB_SIZE) for doc in X_train]\n",
    "X_test = [one_hot(doc, VOCAB_SIZE) for doc in X_test]\n",
    "\n",
    "# Codificación del Target\n",
    "encoder = LabelEncoder()\n",
    "encoder.fit(y_train)\n",
    "y_train = encoder.transform(y_train)\n",
    "y_test = encoder.transform(y_test)"
   ]
  },
  {
   "cell_type": "markdown",
   "metadata": {},
   "source": [
    "<hr>\n",
    "\n",
    "\n",
    "## Creacción de las secuencias de palabras\n",
    "\n",
    "\n",
    "* Las Redes Neuronales necesitan un tamaño fijo de entrada y los tweets tienen un número variable de palabras, por lo que hay que hay que transformar los tweets a secuencias de palabras de tamaño fijo.\n",
    "\n",
    "\n",
    "* Para realizar esta labor, TensorFlow nos proporciona la función \"*pad_sequences(sequences, maxlen)*\" que dada una lista de secuencias nos devuelve esa secuencia con el tapaño que le hayamos indicado como parámetro, rellenando en caso de que la secuencia sea de mayor tamaño con algún valor por defecto (en principio a cero). En el siguiente enlace esta la documentación de esta función:<br>\n",
    "https://www.tensorflow.org/api_docs/python/tf/keras/preprocessing/sequence/pad_sequences\n",
    "\n",
    "\n",
    "* Un ejemplo de esta función sería la siguiente, en el que indicamos que nos devuelva las secuencias que le pasamos como parámetro con un tamaño de '10' posiciones y rellenando las posiciones faltantes con ceros (value=0) añadiendolos al final de la secuencia (padding='post'):\n",
    "\n",
    "```python\n",
    "sequences = [[6, 88, 30, 81, 31, 52, 22], [6, 88, 79, 81]]\n",
    "pad_sequences(sequences=sequences, maxlen=10, padding='post', value=0)\n",
    "```\n",
    "\n",
    "\n",
    "```ssh\n",
    "array([[ 6, 88, 30, 81, 31, 52, 22,  0,  0,  0],\n",
    "       [ 6, 88, 79, 81,  0,  0,  0,  0,  0,  0]], dtype=int32)\n",
    "```\n",
    "\n",
    "\n",
    "* A continuación pasamos a crear las secuencias de los tweets (50 elementos) tanto de entrenamiento como de test:\n"
   ]
  },
  {
   "cell_type": "code",
   "execution_count": 10,
   "metadata": {},
   "outputs": [],
   "source": [
    "from tensorflow.keras.preprocessing.sequence import pad_sequences\n",
    "\n",
    "MAX_WORDS_TWEET = 50\n",
    "pad_corpus_train = pad_sequences(X_train, maxlen=MAX_WORDS_TWEET, padding='post')\n",
    "pad_corpus_test = pad_sequences(X_test, maxlen=MAX_WORDS_TWEET, padding='post')"
   ]
  },
  {
   "cell_type": "markdown",
   "metadata": {},
   "source": [
    "<hr>\n",
    "\n",
    "\n",
    "# Definición de la Red Neuronal\n",
    "\n",
    "\n",
    "* La arquitectura de la red para la clasificación de las tendencias políticas es la siguiente:\n",
    "<span></span><br><br>\n",
    "    - ***Capa Embedding***: Capa de Embedding que soportará un tamaño de 100.000 palabras (VOCAB_SIZE) y cada palabra estará representada por 32 características (EMBEDDING_SIZE). -*ver Bonus Track II*-\n",
    "<span></span><br><br>\n",
    "    - ***Capa LSTM***: Capa LSTM con 32 celdas de memoria. Son 32 por el tamaño de representación de la palabra (EMBEDDING_SIZE).\n",
    "<span></span><br><br>\n",
    "    - ***Capa 4***: Capa de salida con 5 neurona (una por tendencia política) y una función de activación 'softmax' para que nos \"normalice la salida\"\n",
    "    \n",
    "    \n",
    "* Para la capa de salida aplicamos un dropout del 20% para que nuestra red no se sobreajuste y generalize mejor\n",
    "\n",
    "\n",
    "* Por último vamos a compilar la red:\n",
    "<span></span><br><br>\n",
    "    - ***Función de perdida: 'categorical_crossentropy'*** (Funciones de Perdida: https://www.tensorflow.org/api_docs/python/tf/keras/losses). En realidad usaremos la '*sparse_categorical_crossentropy*' ya que la salida no la hemos codificado con un one-hot encoding \\[\\[1,0,0,0,0\\], \\[0,1,0,0,0\\], ..., \\[0,0,0,0,1\\],\\] si no con un label encode \\[0,1,2,3,4\\].\n",
    "<span></span><br><br>\n",
    "    - ***Optimizador: 'adam'*** (Optimizadores: https://www.tensorflow.org/api_docs/python/tf/keras/optimizers)\n",
    "<span></span><br><br>\n",
    "    - Metricas: en cada epoch pediremos que nos muestre el accuracy."
   ]
  },
  {
   "cell_type": "code",
   "execution_count": 11,
   "metadata": {},
   "outputs": [
    {
     "name": "stdout",
     "output_type": "stream",
     "text": [
      "Model: \"sequential\"\n",
      "_________________________________________________________________\n",
      "Layer (type)                 Output Shape              Param #   \n",
      "=================================================================\n",
      "embedding (Embedding)        (None, None, 32)          3200000   \n",
      "_________________________________________________________________\n",
      "lstm (LSTM)                  (None, 32)                8320      \n",
      "_________________________________________________________________\n",
      "dropout (Dropout)            (None, 32)                0         \n",
      "_________________________________________________________________\n",
      "dense (Dense)                (None, 5)                 165       \n",
      "=================================================================\n",
      "Total params: 3,208,485\n",
      "Trainable params: 3,208,485\n",
      "Non-trainable params: 0\n",
      "_________________________________________________________________\n"
     ]
    }
   ],
   "source": [
    "from tensorflow.keras.layers import Dense, Dropout, Flatten, Input, LSTM\n",
    "from tensorflow.keras.layers import Embedding\n",
    "from tensorflow.keras.models import Sequential\n",
    "\n",
    "EMBEDDING_SIZE = 32\n",
    "\n",
    "model = Sequential()\n",
    "model.add(Embedding(VOCAB_SIZE, EMBEDDING_SIZE))\n",
    "model.add(LSTM(EMBEDDING_SIZE))\n",
    "model.add(Dropout(0.1))\n",
    "model.add(Dense(5, activation='softmax'))\n",
    "model.compile(loss='sparse_categorical_crossentropy', optimizer='adam', metrics=['accuracy'])\n",
    "\n",
    "# Imprimimos la arquitectura de la red\n",
    "model.summary()"
   ]
  },
  {
   "cell_type": "markdown",
   "metadata": {},
   "source": [
    "* Parámetros a calcular en la red:\n",
    "    - Capa de Embedding: -> 100000 palabras * 32 caracterísiticas = 3200000\n",
    "    - Capa LSTM: 4*(32 * 32 + 32<sup>2</sup> + 32) = 8320\n",
    "    - Conexiones \"LSTM -> Capa salida\" = (32 * 5) + 5 = 165\n",
    "    \n",
    "    \n",
    "<hr>\n",
    "\n",
    "\n",
    "# Entrenamiento de la Red Neuronal\n",
    "\n",
    "\n",
    "* Vamos a entrenar la red con los siguientes parámetros:\n",
    "<span></span><br><br>\n",
    "    - *batch_size = 128* : Cada 128 tweets se calculan los nuevos pesos de la red\n",
    "<span></span><br><br>\n",
    "    - *epochs = 5*\n",
    "<span></span><br><br>\n",
    "    - *validation_split = datos de test* \n",
    "    \n",
    "\n",
    "* Dado que puede ser un entrenamiento muy pesado y que puede tardar varios minútos, vamos a utilizar la herramienta del \"Tensorboard\" para monitorizar la evolución de la función de perdida y el Accuracy.\n",
    "\n",
    "\n",
    "* Para más información sobre esta herramienta ver el siguiente enlace:<br>https://www.tensorflow.org/tensorboard\n",
    "\n",
    "\n",
    "* Básicamente lo que hacer Tensorboard es leer una serie de logs y representar esos logs por medio de una interfaz web.\n",
    "\n",
    "\n",
    "* Para representar la evolución de la función de perdida y el Accuracy, tenemos que escribir estos valores en un log que debemos guardarlos en una ruta conocida ('tensorboard_logs/FECHA_EJECUCION') y que generaremos  en el siguiente código.\n",
    "\n",
    "\n",
    "* Para instanciar el Tensorboard lo hacemos de la siguiente manera por consola, pasandole como parámetro la ruta donde se encuentran los logs: \n",
    "```ssh\n",
    ">> tensorboard --logdir ./tensorboard_logs/\n",
    "```\n",
    "\n",
    "* Una vez instanciado el Tensorboard nos indicará que abramos en el navegador el siguiente enlace:<br> http://localhost:6006/"
   ]
  },
  {
   "cell_type": "code",
   "execution_count": 12,
   "metadata": {
    "scrolled": false
   },
   "outputs": [
    {
     "name": "stdout",
     "output_type": "stream",
     "text": [
      "Epoch 1/5\n",
      "WARNING:tensorflow:From C:\\Users\\Usuario\\anaconda3\\envs\\NLP37\\lib\\site-packages\\tensorflow\\python\\ops\\summary_ops_v2.py:1277: stop (from tensorflow.python.eager.profiler) is deprecated and will be removed after 2020-07-01.\n",
      "Instructions for updating:\n",
      "use `tf.profiler.experimental.stop` instead.\n",
      "WARNING:tensorflow:Callbacks method `on_train_batch_end` is slow compared to the batch time (batch time: 0.0340s vs `on_train_batch_end` time: 0.0510s). Check your callbacks.\n",
      "750/750 - 19s - loss: 1.1898 - accuracy: 0.5026 - val_loss: 1.0297 - val_accuracy: 0.6144\n",
      "Epoch 2/5\n",
      "750/750 - 19s - loss: 0.7560 - accuracy: 0.7183 - val_loss: 0.9973 - val_accuracy: 0.6241\n",
      "Epoch 3/5\n",
      "750/750 - 19s - loss: 0.5350 - accuracy: 0.8102 - val_loss: 1.0166 - val_accuracy: 0.6374\n",
      "Epoch 4/5\n",
      "750/750 - 19s - loss: 0.3801 - accuracy: 0.8699 - val_loss: 1.2967 - val_accuracy: 0.6083\n",
      "Epoch 5/5\n",
      "750/750 - 19s - loss: 0.2752 - accuracy: 0.9072 - val_loss: 1.4121 - val_accuracy: 0.5986\n"
     ]
    }
   ],
   "source": [
    "import datetime\n",
    "import os\n",
    "\n",
    "from tensorflow.keras.callbacks import TensorBoard\n",
    "\n",
    "now = datetime.datetime.now().strftime(\"%Y%m%d-%H%M%S\")\n",
    "os.makedirs('tensorboard_logs/{}'.format(now))\n",
    "path = os.path.join('tensorboard_logs', now)\n",
    "\n",
    "history=model.fit(pad_corpus_train, \n",
    "                  y_train, \n",
    "                  batch_size=128, \n",
    "                  epochs=5, \n",
    "                  validation_data=(pad_corpus_test, y_test), \n",
    "                  verbose=2,\n",
    "                  callbacks=[TensorBoard(log_dir=path,\n",
    "                                         histogram_freq=2,\n",
    "                                         write_graph=True,\n",
    "                                         write_images=True)])\n",
    "\n"
   ]
  },
  {
   "cell_type": "markdown",
   "metadata": {},
   "source": [
    "* Pintamos como evoluciona la función de perdida y el Accuracy por epoch tanto en entrenamiento como en test."
   ]
  },
  {
   "cell_type": "code",
   "execution_count": 13,
   "metadata": {},
   "outputs": [],
   "source": [
    "import matplotlib.pyplot as plt\n",
    "%matplotlib inline\n",
    "\n",
    "# Pintamos las métricas por epoch\n",
    "def plot_metric(history, name, remove_first=0):\n",
    "    metric_train = np.array(history.history[name])[remove_first:]\n",
    "    metric_test = np.array(history.history['val_{}'.format(name)])[remove_first:]\n",
    "    acum_avg_metric_train = (np.cumsum(metric_train) / (np.arange(metric_train.shape[-1]) + 1))[remove_first:]\n",
    "    acum_avg_metric_test = (np.cumsum(metric_test) / (np.arange(metric_test.shape[-1]) + 1))[remove_first:]\n",
    "    plt.figure(figsize=(20, 8))\n",
    "    plt.subplot(1, 2, 1)\n",
    "    plt.title('{} - Epochs'.format(name))\n",
    "    plt.plot(metric_train, label='{} Train'.format(name))\n",
    "    plt.plot(metric_test, label='{} Test'.format(name))\n",
    "    plt.grid()\n",
    "    plt.legend(loc='upper center')\n",
    "    plt.subplot(1, 2, 2)\n",
    "    plt.title('AVG ACCUMULATIVE {} - Epochs'.format(name))\n",
    "    plt.plot(acum_avg_metric_train, label='{} Train'.format(name))\n",
    "    plt.plot(acum_avg_metric_test, label='{} Test'.format(name))\n",
    "    plt.grid()\n",
    "    plt.legend(loc='upper center')\n",
    "    plt.show()"
   ]
  },
  {
   "cell_type": "code",
   "execution_count": 14,
   "metadata": {},
   "outputs": [
    {
     "data": {
      "image/png": "[encoded data removed]",
      "text/plain": [
       "<Figure size 1440x576 with 2 Axes>"
      ]
     },
     "metadata": {
      "needs_background": "light"
     },
     "output_type": "display_data"
    }
   ],
   "source": [
    "# Función de perdida\n",
    "plot_metric(history=history, name='loss')"
   ]
  },
  {
   "cell_type": "code",
   "execution_count": 15,
   "metadata": {},
   "outputs": [
    {
     "data": {
      "image/png": "[encoded data removed]",
      "text/plain": [
       "<Figure size 1440x576 with 2 Axes>"
      ]
     },
     "metadata": {
      "needs_background": "light"
     },
     "output_type": "display_data"
    }
   ],
   "source": [
    "# Accuracy\n",
    "plot_metric(history=history, name='accuracy')"
   ]
  },
  {
   "cell_type": "markdown",
   "metadata": {},
   "source": [
    "<hr>\n",
    "\n",
    "\n",
    "## Evaluamos el modelo\n",
    "\n",
    "* Pasamos a evaluar el modelo con los datos de test, calculando las siguientes métricas de evaluación:\n",
    "\n",
    "    1. **Accuracy**\n",
    "    2. **Precision**\n",
    "    3. **Recall**\n",
    "    4. **F1**"
   ]
  },
  {
   "cell_type": "code",
   "execution_count": 16,
   "metadata": {},
   "outputs": [
    {
     "name": "stdout",
     "output_type": "stream",
     "text": [
      "WARNING:tensorflow:From <ipython-input-16-20f58b223cf6>:4: Sequential.predict_classes (from tensorflow.python.keras.engine.sequential) is deprecated and will be removed after 2021-01-01.\n",
      "Instructions for updating:\n",
      "Please use instead:* `np.argmax(model.predict(x), axis=-1)`,   if your model does multi-class classification   (e.g. if it uses a `softmax` last-layer activation).* `(model.predict(x) > 0.5).astype(\"int32\")`,   if your model does binary classification   (e.g. if it uses a `sigmoid` last-layer activation).\n",
      "Accuracy: 0.5986\n",
      "F1: 0.6039\n",
      "Precision: 0.6184\n",
      "Recall: 0.5986\n",
      "              precision    recall  f1-score   support\n",
      "\n",
      "  ciudadanos       0.39      0.56      0.46       246\n",
      "     podemos       0.60      0.66      0.63       329\n",
      "          pp       0.65      0.61      0.63       540\n",
      "        psoe       0.58      0.55      0.57       331\n",
      "         vox       0.73      0.59      0.65       512\n",
      "\n",
      "    accuracy                           0.60      1958\n",
      "   macro avg       0.59      0.60      0.59      1958\n",
      "weighted avg       0.62      0.60      0.60      1958\n",
      "\n"
     ]
    }
   ],
   "source": [
    "from sklearn.metrics import accuracy_score, f1_score, precision_score, recall_score, confusion_matrix, classification_report\n",
    "\n",
    "y_true = encoder.inverse_transform(y_test.reshape(-1))\n",
    "y_pred = model.predict_classes(pad_corpus_test)\n",
    "y_pred = encoder.inverse_transform(y_pred.reshape(-1))\n",
    "\n",
    "print('Accuracy: {acc:0.4f}'.format(acc=accuracy_score(y_true=y_true, y_pred=y_pred)))\n",
    "print('F1: {f1:0.4f}'.format(f1=f1_score(y_true=y_true, y_pred=y_pred, average='weighted')))\n",
    "print('Precision: {pre:0.4f}'.format(pre=precision_score(y_true=y_true, y_pred=y_pred, average='weighted')))\n",
    "print('Recall: {rec:0.4f}'.format(rec=recall_score(y_true=y_true, y_pred=y_pred, average='weighted')))\n",
    "print(classification_report(y_true=y_true, y_pred=y_pred))\n",
    "labels = ['psoe', 'pp', 'vox', 'podemos', 'ciudadanos']\n",
    "confusion_matrix_test = confusion_matrix(y_true=y_true,\n",
    "                                         y_pred=y_pred,\n",
    "                                         labels=labels)\n",
    "confusion_matrix_train = confusion_matrix(y_true=encoder.inverse_transform(y_train.reshape(-1)), \n",
    "                                          y_pred=encoder.inverse_transform(model.predict_classes(pad_corpus_train)), \n",
    "                                          labels=labels)\n"
   ]
  },
  {
   "cell_type": "markdown",
   "metadata": {},
   "source": [
    "* Pintamos la matriz de confusión"
   ]
  },
  {
   "cell_type": "code",
   "execution_count": 17,
   "metadata": {},
   "outputs": [
    {
     "data": {
      "image/png": "[encoded data removed]",
      "text/plain": [
       "<Figure size 1152x432 with 4 Axes>"
      ]
     },
     "metadata": {
      "needs_background": "light"
     },
     "output_type": "display_data"
    }
   ],
   "source": [
    "import numpy as np\n",
    "import matplotlib.pyplot as plt\n",
    "import itertools\n",
    "%matplotlib inline\n",
    "\n",
    "def plot_confusion_matrix(cm, classes, title, cmap=plt.cm.Blues):\n",
    "    \"\"\"\n",
    "    This function prints and plots the confusion matrix.\n",
    "    \"\"\"\n",
    "    plt.imshow(cm, interpolation='nearest', cmap=cmap)\n",
    "    plt.title(title)\n",
    "    plt.colorbar()\n",
    "    tick_marks = np.arange(len(classes))\n",
    "    plt.xticks(tick_marks, classes, rotation=45)\n",
    "    plt.yticks(tick_marks, classes)\n",
    "\n",
    "    thresh = cm.max() / 2.\n",
    "    for i, j in itertools.product(range(cm.shape[0]), range(cm.shape[1])):\n",
    "        plt.text(j, i, format(cm[i, j], 'd'), horizontalalignment=\"center\",\n",
    "                 color=\"white\" if cm[i, j] > thresh else \"black\")\n",
    "\n",
    "    plt.tight_layout()\n",
    "    plt.ylabel('True label')\n",
    "    plt.xlabel('Predicted label')\n",
    "\n",
    "\n",
    "# Pintamos las matrices de confusión\n",
    "plt.figure(figsize=(16, 6))\n",
    "plt.subplot(1, 2, 1)\n",
    "plot_confusion_matrix(confusion_matrix_train, classes=labels, title='Matriz de Confusión Datos Entrenamiento')\n",
    "plt.subplot(1, 2, 2)\n",
    "plot_confusion_matrix(confusion_matrix_test, classes=labels, title='Matriz de Confusión  Datos Test')\n",
    "plt.show()"
   ]
  },
  {
   "cell_type": "markdown",
   "metadata": {},
   "source": [
    "<hr>\n",
    "\n",
    "\n",
    "# Bonus Track I - LSTM - \n",
    "\n",
    "\n",
    "* Las ***Redes Neuronales Recurrentes*** (RNN) constituyen una herramienta muy apropiada para ***modelar series temporales y para el Procesamiento del Lenguaje Natural***.\n",
    "\n",
    "\n",
    "* Las RNN son, en principio, un modelo computacional más potente que las clásicas redes neuronales (Perceptrón). \n",
    "\n",
    "\n",
    "* Esta mayor potencia proviene del hecho de que las RNN son capaces de procesar secuencias temporales gracias a la posibilidad de ***recordar parcialmente la historia relevante*** de la secuencia por medio de una representación en forma de estado (***implementa una cierta memoria***).\n",
    "\n",
    "\n",
    "* Esta memoria no existe de manera natural en las redes no recurrentes, utilizadas principalmente para el procesamiento de datos estáticos.\n",
    "\n",
    "\n",
    "* Las LSTM (Long Short-Term Memory) son un tipo especial de unidades de memoria que conforman una red neuronal y que tienen la capacidad de recordar aquella información relevante que va aprendiendo durante el proceso de entrenamiento y olvidar aquella información que no considera relevante.\n",
    "\n",
    "\n",
    "* La arquitectura de una unidad LSTM es la siguiente:\n",
    "\n",
    "\n",
    "<img src=\"./imgs/028_lstm.png\" style=\"width: 400px;\"/>\n",
    "\n",
    "\n",
    "* Las LSTM está formadas por los siguientes elementos:\n",
    "<span></span><br><br>\n",
    "    + ***$f_t$ -> forget gate*** (Puerta de Olvido): Que parte de la información del pasado no es importante.\n",
    "<span></span><br><br>\n",
    "    + ***$i_t$ -> input gate*** (Puerta de Entrada): De la información actual, hay algo que sea importante para recordar.\n",
    "<span></span><br><br>\n",
    "    + ***$\\widetilde{C}_t$ -> candidate gate*** (Puerta Candidata): Si hay algo importante que recordar, cómo lo combinamos con la información del pasado.\n",
    "<span></span><br><br>\n",
    "    + ***$o_t$ -> output gate*** (Puerta de Salida): Que información es importante a corto plazo.\n",
    "<span></span><br><br>    \n",
    "    + ***$C_t$ -> state cell*** (Estado de la Celda): Guarda el estado de la celda actual.\n",
    "    \n",
    "    \n",
    "<img src=\"./imgs/029_lstm.png\" style=\"width: 600px;\"/>\n",
    "    \n",
    "    \n",
    "* Siendo:\n",
    "    \n",
    "$$f_t = sigmoid(W_f \\cdot [h_{t-1}, X_t])$$\n",
    "\n",
    "$$i_t = sigmoid(W_i \\cdot [h_{t-1}, X_t])$$\n",
    "\n",
    "$$\\widetilde{C}_t = tanh(W_c \\cdot [h_{t-1}, X_t])$$\n",
    "\n",
    "$$o_t = sigmoid(W_o \\cdot [h_{t-1}, X_t])$$\n",
    "\n",
    "$$C_t = f_t * C_{t-1} + i_t * \\widetilde{C}_t$$\n",
    "\n",
    "$$h_t = o_t * tanh(C_t)$$\n",
    "\n",
    "\n",
    "* Una capa con celdas LSTM estaría formada por cerlda LSTM conectadas en serie unas con otras de la siguiente manera:\n",
    "\n",
    "\n",
    "<img src=\"./imgs/030_lstm.png\" style=\"width: 700px;\"/>\n",
    "\n"
   ]
  },
  {
   "cell_type": "markdown",
   "metadata": {},
   "source": [
    "<hr>\n",
    "\n",
    "# Bonus Track II - Embedding Layers - \n",
    "\n",
    "\n",
    "* Las \"Embedding Layes\" (capas de incrustación) son un tipo de técnicas que nos permiten representar las palabras y los documentos como un vector de características latentes.\n",
    "\n",
    "\n",
    "* Para el caso particular de las palabras de un corpus, los vectores de características latentes que representan las palabras, son calculadas basándose en la ***hipótesis distribucional de Zellig Harris*** que dice: \"*elementos lingüísticos con distribuciones similares tienen significados similares*\"; es decir que ***las palabras que tienen un contexto similar, tendrán significados similares***.\n",
    "\n",
    "\n",
    "* Por tanto con las técnicas que nos permiten representar a las palabras con vectores, tendremos que la similaridad entre pares de vectores que representen a pares de palabras con significado similar, tendran una similaridad alta y no así entre pares de palabras con significados distintos que tendrán una similaridad baja.\n",
    "\n",
    "\n",
    "* Si por ejemplo esta similaridad la definimos como la distacia euclidea, tendremos que dos vectores que representan palabras con significados similares les separará una distancia pequeña frente a pares de palabras con significados dispares que les separará una distancia muy grande.\n",
    "\n",
    "\n",
    "* Dos técnicas que se suelen utilizar para realizar este tipo de cálculo de características latentes de las palabras son:\n",
    "\n",
    "    + Word2Vec\n",
    "    + GloVe\n",
    "    \n",
    "    \n",
    "* Este tipo de representación de las palabras viene muy bien para las RNN y en particular para las LSTM ya que cada palabra representada como un vector denso (y con sentido contextual frente a palabras similares entre sí) puede ser tomada como una entrada en una secuencia (que lo es) dentro de un documento.\n",
    "\n",
    "\n",
    "* Veamos a continuación un sencillo ejemplo a partir del siguiente corpus"
   ]
  },
  {
   "cell_type": "code",
   "execution_count": 18,
   "metadata": {},
   "outputs": [],
   "source": [
    "corpus = ['Hola me llamo Ricardo',\n",
    "          'Hola me dicen Ricardo',\n",
    "          'Saludos desde este Notebook llamado LSTM']"
   ]
  },
  {
   "cell_type": "markdown",
   "metadata": {},
   "source": [
    "* Codificamos las palabras"
   ]
  },
  {
   "cell_type": "code",
   "execution_count": 19,
   "metadata": {},
   "outputs": [
    {
     "name": "stdout",
     "output_type": "stream",
     "text": [
      "[3, 5, 32, 42]\n",
      "[3, 5, 88, 42]\n",
      "[80, 79, 51, 46, 73, 70]\n"
     ]
    }
   ],
   "source": [
    "from tensorflow.keras.preprocessing.text import one_hot\n",
    "\n",
    "VOCAB_SIZE = 100\n",
    "corpus_ohe = [one_hot(doc, VOCAB_SIZE) for doc in corpus]\n",
    "for i in corpus_ohe:\n",
    "    print(i)"
   ]
  },
  {
   "cell_type": "markdown",
   "metadata": {},
   "source": [
    "* Las pasamos a secuncias de tamaó fijo"
   ]
  },
  {
   "cell_type": "code",
   "execution_count": 20,
   "metadata": {},
   "outputs": [
    {
     "data": {
      "text/plain": [
       "array([[ 3,  5, 32, 42,  0,  0],\n",
       "       [ 3,  5, 88, 42,  0,  0],\n",
       "       [80, 79, 51, 46, 73, 70]])"
      ]
     },
     "execution_count": 20,
     "metadata": {},
     "output_type": "execute_result"
    }
   ],
   "source": [
    "from tensorflow.keras.preprocessing.sequence import pad_sequences\n",
    "\n",
    "MAX_WORDS_DOC = 6\n",
    "pad_corpus = pad_sequences(corpus_ohe, maxlen=MAX_WORDS_DOC, padding='post')\n",
    "pad_corpus"
   ]
  },
  {
   "cell_type": "markdown",
   "metadata": {},
   "source": [
    "### Resultados del Embedding\n",
    "\n",
    "* Para realizar esta representación, TensorFlow nos proporciona la clase \"Embedding()\" que tiene como importantes los siguientes parámetros:\n",
    "\n",
    "    + ***input_dim***: Número de codificaciones distintas que pueden tener las palabras de nuestro corpus.\n",
    "    + ***output_dim***: Número de características que queremos que tenga el vector que represente a las palabras.\n",
    "    + ***input_length***: Máximo número de palabras en un documento.\n",
    "    \n",
    "    \n",
    "* Para más información ver la documentación en el siguiente enlace:<br>https://www.tensorflow.org/api_docs/python/tf/keras/layers/Embedding"
   ]
  },
  {
   "cell_type": "code",
   "execution_count": 21,
   "metadata": {},
   "outputs": [
    {
     "name": "stdout",
     "output_type": "stream",
     "text": [
      "Model: \"functional_1\"\n",
      "_________________________________________________________________\n",
      "Layer (type)                 Output Shape              Param #   \n",
      "=================================================================\n",
      "input_1 (InputLayer)         [(None, 6)]               0         \n",
      "_________________________________________________________________\n",
      "embedding_1 (Embedding)      (None, 6, 2)              200       \n",
      "_________________________________________________________________\n",
      "flatten (Flatten)            (None, 12)                0         \n",
      "=================================================================\n",
      "Total params: 200\n",
      "Trainable params: 200\n",
      "Non-trainable params: 0\n",
      "_________________________________________________________________\n"
     ]
    }
   ],
   "source": [
    "from tensorflow.keras.layers import Input, Embedding, Flatten\n",
    "from tensorflow.keras.models import Model\n",
    "\n",
    "WORD_VECTOR_DIMENSION = 2\n",
    "\n",
    "words_input=Input(shape=(MAX_WORDS_DOC,),dtype='float64')  \n",
    "\n",
    "# Creamos el Embedding\n",
    "word_embedding=Embedding(input_dim=VOCAB_SIZE, \n",
    "                         output_dim=WORD_VECTOR_DIMENSION, \n",
    "                         input_length=MAX_WORDS_DOC)(words_input)\n",
    "\n",
    "word_vec=Flatten()(word_embedding)\n",
    "\n",
    "model = Model(inputs=[words_input],\n",
    "              outputs=word_vec) \n",
    "\n",
    "# Imprimimos el modelo\n",
    "model.summary()"
   ]
  },
  {
   "cell_type": "markdown",
   "metadata": {},
   "source": [
    "* Compilamos el modelo ya que estamos ejecutando una Red Neuronal"
   ]
  },
  {
   "cell_type": "code",
   "execution_count": 22,
   "metadata": {},
   "outputs": [],
   "source": [
    "model.compile(optimizer='adam', loss='binary_crossentropy', metrics=['acc']) "
   ]
  },
  {
   "cell_type": "markdown",
   "metadata": {},
   "source": [
    "* Obtenemos los vectores de características haciendo un \"*predict()*\" sobre el corpus con el modelo generado."
   ]
  },
  {
   "cell_type": "code",
   "execution_count": 23,
   "metadata": {},
   "outputs": [],
   "source": [
    "doc_embeddings=model.predict(pad_corpus)"
   ]
  },
  {
   "cell_type": "markdown",
   "metadata": {},
   "source": [
    "* Vamos a obtener los vectores de las palabras de los documentos del corpus, cuyos documentos tienen un tamaño fijo de 6 palabras:"
   ]
  },
  {
   "cell_type": "code",
   "execution_count": 24,
   "metadata": {},
   "outputs": [
    {
     "name": "stdout",
     "output_type": "stream",
     "text": [
      "\n",
      "Codificación de las 6 palabras del documento 1\n",
      "[[-0.01074505  0.01003404]\n",
      " [-0.02500672  0.02193913]\n",
      " [-0.0457403   0.04426223]\n",
      " [-0.02210698 -0.02969573]\n",
      " [ 0.0496535  -0.02294277]\n",
      " [ 0.0496535  -0.02294277]]\n",
      "\n",
      "Codificación de las 6 palabras del documento 2\n",
      "[[-0.01074505  0.01003404]\n",
      " [-0.02500672  0.02193913]\n",
      " [ 0.04698551  0.03870455]\n",
      " [-0.02210698 -0.02969573]\n",
      " [ 0.0496535  -0.02294277]\n",
      " [ 0.0496535  -0.02294277]]\n",
      "\n",
      "Codificación de las 6 palabras del documento 3\n",
      "[[-0.03142742  0.03612006]\n",
      " [ 0.02305714  0.03508503]\n",
      " [-0.022121   -0.00859652]\n",
      " [-0.04779759 -0.03415889]\n",
      " [ 0.01291033 -0.00168468]\n",
      " [ 0.03085644  0.01398969]]\n"
     ]
    }
   ],
   "source": [
    "word_embeddings=doc_embeddings.reshape(-1, MAX_WORDS_DOC, WORD_VECTOR_DIMENSION)\n",
    "for i, doc in enumerate(word_embeddings):\n",
    "    print(\"\\nCodificación de las 6 palabras del documento {}\".format(i+1))\n",
    "    print(doc)"
   ]
  },
  {
   "cell_type": "markdown",
   "metadata": {},
   "source": [
    "* A continuación obtenemos la codificación de los documentos que no es más que la concatenación de los valores de las características de las palabras que forman el documento:"
   ]
  },
  {
   "cell_type": "code",
   "execution_count": 25,
   "metadata": {},
   "outputs": [
    {
     "name": "stdout",
     "output_type": "stream",
     "text": [
      "\n",
      "Codificación del documento 1\n",
      "[-0.01074505  0.01003404 -0.02500672  0.02193913 -0.0457403   0.04426223\n",
      " -0.02210698 -0.02969573  0.0496535  -0.02294277  0.0496535  -0.02294277]\n",
      "\n",
      "Codificación del documento 2\n",
      "[-0.01074505  0.01003404 -0.02500672  0.02193913  0.04698551  0.03870455\n",
      " -0.02210698 -0.02969573  0.0496535  -0.02294277  0.0496535  -0.02294277]\n",
      "\n",
      "Codificación del documento 3\n",
      "[-0.03142742  0.03612006  0.02305714  0.03508503 -0.022121   -0.00859652\n",
      " -0.04779759 -0.03415889  0.01291033 -0.00168468  0.03085644  0.01398969]\n"
     ]
    }
   ],
   "source": [
    "for i, doc in enumerate(doc_embeddings):\n",
    "    print(\"\\nCodificación del documento {}\".format(i+1))\n",
    "    print(doc)"
   ]
  }
 ],
 "metadata": {
  "kernelspec": {
   "display_name": "Python 3",
   "language": "python",
   "name": "python3"
  },
  "language_info": {
   "codemirror_mode": {
    "name": "ipython",
    "version": 3
   },
   "file_extension": ".py",
   "mimetype": "text/x-python",
   "name": "python",
   "nbconvert_exporter": "python",
   "pygments_lexer": "ipython3",
   "version": "3.7.10"
  }
 },
 "nbformat": 4,
 "nbformat_minor": 2
}
