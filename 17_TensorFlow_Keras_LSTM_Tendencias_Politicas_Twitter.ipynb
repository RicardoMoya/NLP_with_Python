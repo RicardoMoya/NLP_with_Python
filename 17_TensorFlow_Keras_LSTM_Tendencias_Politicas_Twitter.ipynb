{
 "cells": [
  {
   "cell_type": "markdown",
   "metadata": {},
   "source": [
    "# 17 - TensorFlow - Keras: Clasificación de tendencias politicas en tweets con LSTM (Long Short-Term Memory)\n",
    "\n",
    "* En este notebook vamos a clasificar una serie de tweets etiquetados por un partido político (psoe, pp, vox, podemos y ciudadanos) que corresponden a la tendencia politica de la cuenta que publicó ese tweet,\n",
    "\n",
    "\n",
    "* El ejercicio que vamos a realizar a continuación es muy similar al realizado en el notebook *13_PoC_Tendencias_Politicas_Twitter_Generacion_Exportacion_Modelos.ipynb* y *16_TensorFlow_Keras_MLP_Tendencias_Politicas_Twitter.ipynb* y se pueden comparar los resultados que vamos a obtener con este tipo de ***Redes Neuronales Recurrentes, las LSTM***\n",
    "\n",
    "\n",
    "* Los pasos que vamos a dar son los siguientes:\n",
    "\n",
    "    1. Cargar los datos\n",
    "    2. Normalizar los tweets (igual que en el notebooks anteriormente descritos)\n",
    "    3. Particionado de datos (Train y Test)\n",
    "    4. One-Hot Encoding y codificación del target\n",
    "    5. Creacción de las secuencias de palabras\n",
    "    5. Definición de la Red Neuronal\n",
    "    6. Entrenamiento de la Red Neuronal\n",
    "    7. Evaluación del modelo\n",
    "    \n",
    "    \n",
    "<hr>\n",
    "\n",
    "\n",
    "\n",
    "## Carga de Datos\n",
    "\n",
    "\n",
    "* El fichero que contiene los tweets lo podemos leer como un '*csv*' con pandas pasandole como separador '***::::***'.\n",
    "\n",
    "\n",
    "* Este fichero esta estructurado de la siguiente manera\n",
    "    - **Cuenta**: Cuenta de twitter\n",
    "    - **Partido**: Partido político al que pertenece (ciudadanos, podemos, pp, psoe)\n",
    "    - **Timestamp**: Instante en el que se publicó el tweet\n",
    "    - **Tweet**: Tweet.\n",
    "    \n",
    "    \n",
    "* Leemos los datos y mostramos una muestra:"
   ]
  },
  {
   "cell_type": "code",
   "execution_count": 1,
   "metadata": {},
   "outputs": [
    {
     "name": "stdout",
     "output_type": "stream",
     "text": [
      "Número de Tweets Cargados: 96017\n",
      "Número de Tweets a procesar: 96017\n"
     ]
    },
    {
     "data": {
      "text/html": [
       "<div>\n",
       "<style scoped>\n",
       "    .dataframe tbody tr th:only-of-type {\n",
       "        vertical-align: middle;\n",
       "    }\n",
       "\n",
       "    .dataframe tbody tr th {\n",
       "        vertical-align: top;\n",
       "    }\n",
       "\n",
       "    .dataframe thead th {\n",
       "        text-align: right;\n",
       "    }\n",
       "</style>\n",
       "<table border=\"1\" class=\"dataframe\">\n",
       "  <thead>\n",
       "    <tr style=\"text-align: right;\">\n",
       "      <th></th>\n",
       "      <th>cuenta</th>\n",
       "      <th>partido</th>\n",
       "      <th>timestamp</th>\n",
       "      <th>tweet</th>\n",
       "    </tr>\n",
       "  </thead>\n",
       "  <tbody>\n",
       "    <tr>\n",
       "      <th>15067</th>\n",
       "      <td>populares</td>\n",
       "      <td>pp</td>\n",
       "      <td>1.566640e+09</td>\n",
       "      <td>▶ @Jorge_Azcon 👉 \"Necesitamos un Gobierno que ...</td>\n",
       "    </tr>\n",
       "    <tr>\n",
       "      <th>87645</th>\n",
       "      <td>Tonicanto1</td>\n",
       "      <td>ciudadanos</td>\n",
       "      <td>1.615273e+09</td>\n",
       "      <td>Teresa Arévalo, amiga y niñera de Irene Monter...</td>\n",
       "    </tr>\n",
       "    <tr>\n",
       "      <th>40580</th>\n",
       "      <td>juralde</td>\n",
       "      <td>podemos</td>\n",
       "      <td>1.577880e+09</td>\n",
       "      <td>@vapisdadracu @Josu_Orturi Venga, seguid minti...</td>\n",
       "    </tr>\n",
       "    <tr>\n",
       "      <th>32496</th>\n",
       "      <td>begonavillacis</td>\n",
       "      <td>ciudadanos</td>\n",
       "      <td>1.573241e+09</td>\n",
       "      <td>#YoVotoCs porque es el partido de la libertad,...</td>\n",
       "    </tr>\n",
       "    <tr>\n",
       "      <th>21984</th>\n",
       "      <td>vox_es</td>\n",
       "      <td>vox</td>\n",
       "      <td>1.570087e+09</td>\n",
       "      <td>📺 Entrevista a @ivanedlm en @EspejoPublico sob...</td>\n",
       "    </tr>\n",
       "    <tr>\n",
       "      <th>19151</th>\n",
       "      <td>ionebelarra</td>\n",
       "      <td>podemos</td>\n",
       "      <td>1.569055e+09</td>\n",
       "      <td>El Gobierno declara como catastrófica Tafalla ...</td>\n",
       "    </tr>\n",
       "    <tr>\n",
       "      <th>88448</th>\n",
       "      <td>CiudadanosCs</td>\n",
       "      <td>ciudadanos</td>\n",
       "      <td>1.615565e+09</td>\n",
       "      <td>💸 El nuevo caso de corrupción del PP en la Reg...</td>\n",
       "    </tr>\n",
       "    <tr>\n",
       "      <th>59265</th>\n",
       "      <td>PSOE</td>\n",
       "      <td>psoe</td>\n",
       "      <td>1.583831e+09</td>\n",
       "      <td>¿Qué hacer ante las dudas y la evolución del #...</td>\n",
       "    </tr>\n",
       "    <tr>\n",
       "      <th>74958</th>\n",
       "      <td>Tonicanto1</td>\n",
       "      <td>ciudadanos</td>\n",
       "      <td>1.610561e+09</td>\n",
       "      <td>El coronavirus sigue en expansión en Cataluña ...</td>\n",
       "    </tr>\n",
       "    <tr>\n",
       "      <th>53985</th>\n",
       "      <td>Ortega_Smith</td>\n",
       "      <td>vox</td>\n",
       "      <td>1.582066e+09</td>\n",
       "      <td>🎦4/5 https://t.co/NZz72nN11z</td>\n",
       "    </tr>\n",
       "  </tbody>\n",
       "</table>\n",
       "</div>"
      ],
      "text/plain": [
       "               cuenta     partido     timestamp  \\\n",
       "15067       populares          pp  1.566640e+09   \n",
       "87645      Tonicanto1  ciudadanos  1.615273e+09   \n",
       "40580         juralde     podemos  1.577880e+09   \n",
       "32496  begonavillacis  ciudadanos  1.573241e+09   \n",
       "21984          vox_es         vox  1.570087e+09   \n",
       "19151     ionebelarra     podemos  1.569055e+09   \n",
       "88448    CiudadanosCs  ciudadanos  1.615565e+09   \n",
       "59265            PSOE        psoe  1.583831e+09   \n",
       "74958      Tonicanto1  ciudadanos  1.610561e+09   \n",
       "53985    Ortega_Smith         vox  1.582066e+09   \n",
       "\n",
       "                                                   tweet  \n",
       "15067  ▶ @Jorge_Azcon 👉 \"Necesitamos un Gobierno que ...  \n",
       "87645  Teresa Arévalo, amiga y niñera de Irene Monter...  \n",
       "40580  @vapisdadracu @Josu_Orturi Venga, seguid minti...  \n",
       "32496  #YoVotoCs porque es el partido de la libertad,...  \n",
       "21984  📺 Entrevista a @ivanedlm en @EspejoPublico sob...  \n",
       "19151  El Gobierno declara como catastrófica Tafalla ...  \n",
       "88448  💸 El nuevo caso de corrupción del PP en la Reg...  \n",
       "59265  ¿Qué hacer ante las dudas y la evolución del #...  \n",
       "74958  El coronavirus sigue en expansión en Cataluña ...  \n",
       "53985                       🎦4/5 https://t.co/NZz72nN11z  "
      ]
     },
     "execution_count": 1,
     "metadata": {},
     "output_type": "execute_result"
    }
   ],
   "source": [
    "import pandas as pd\n",
    "\n",
    "TWEETS_FILE = './data/tweets_politica.csv'\n",
    "df = pd.read_csv(TWEETS_FILE, sep='::::', engine='python', error_bad_lines=False)\n",
    "\n",
    "# Eliminamos los tweets que tengan algún valor a nulo\n",
    "df = df.dropna()\n",
    "print('Número de Tweets Cargados: {num}'.format(num=df.shape[0]))\n",
    "\n",
    "# Imprimimos el número de tweets a procesar\n",
    "print('Número de Tweets a procesar: {num}'.format(num=df.shape[0]))\n",
    "df.sample(10)"
   ]
  },
  {
   "cell_type": "markdown",
   "metadata": {},
   "source": [
    "* Filtramos los tweets por fecha. Nos quedamos con los tweets a partir de una fecha dada."
   ]
  },
  {
   "cell_type": "code",
   "execution_count": 2,
   "metadata": {},
   "outputs": [
    {
     "name": "stdout",
     "output_type": "stream",
     "text": [
      "Número de Tweets a procesar: 23781\n"
     ]
    },
    {
     "data": {
      "text/html": [
       "<div>\n",
       "<style scoped>\n",
       "    .dataframe tbody tr th:only-of-type {\n",
       "        vertical-align: middle;\n",
       "    }\n",
       "\n",
       "    .dataframe tbody tr th {\n",
       "        vertical-align: top;\n",
       "    }\n",
       "\n",
       "    .dataframe thead th {\n",
       "        text-align: right;\n",
       "    }\n",
       "</style>\n",
       "<table border=\"1\" class=\"dataframe\">\n",
       "  <thead>\n",
       "    <tr style=\"text-align: right;\">\n",
       "      <th></th>\n",
       "      <th>cuenta</th>\n",
       "      <th>partido</th>\n",
       "      <th>timestamp</th>\n",
       "      <th>tweet</th>\n",
       "    </tr>\n",
       "  </thead>\n",
       "  <tbody>\n",
       "    <tr>\n",
       "      <th>87790</th>\n",
       "      <td>hermanntertsch</td>\n",
       "      <td>vox</td>\n",
       "      <td>1.615326e+09</td>\n",
       "      <td>¡Qué pena! ¡Qué ejemplo! #LaVidaEsUnJuego #Sol...</td>\n",
       "    </tr>\n",
       "    <tr>\n",
       "      <th>86468</th>\n",
       "      <td>hermanntertsch</td>\n",
       "      <td>vox</td>\n",
       "      <td>1.614956e+09</td>\n",
       "      <td>@KKabreadu @trikismikis1 @Lei_Leys @Heisemberg...</td>\n",
       "    </tr>\n",
       "    <tr>\n",
       "      <th>91940</th>\n",
       "      <td>oscar_puente_</td>\n",
       "      <td>psoe</td>\n",
       "      <td>1.617128e+09</td>\n",
       "      <td>@NoeluskiSanz No avisan. Este es el aviso.</td>\n",
       "    </tr>\n",
       "    <tr>\n",
       "      <th>79235</th>\n",
       "      <td>hermanntertsch</td>\n",
       "      <td>vox</td>\n",
       "      <td>1.612248e+09</td>\n",
       "      <td>Ya ven. El desprecio bolchevique. Más soldades...</td>\n",
       "    </tr>\n",
       "    <tr>\n",
       "      <th>76375</th>\n",
       "      <td>oscar_puente_</td>\n",
       "      <td>psoe</td>\n",
       "      <td>1.611745e+09</td>\n",
       "      <td>@AntonioCESP @alberbustos @RaJaWoSki @TomaLaPa...</td>\n",
       "    </tr>\n",
       "    <tr>\n",
       "      <th>77836</th>\n",
       "      <td>MGutierrezCs</td>\n",
       "      <td>ciudadanos</td>\n",
       "      <td>1.611698e+09</td>\n",
       "      <td>No nos cansaremos de decirlo: Urge cambiar de ...</td>\n",
       "    </tr>\n",
       "    <tr>\n",
       "      <th>89246</th>\n",
       "      <td>Yolanda_Diaz_</td>\n",
       "      <td>podemos</td>\n",
       "      <td>1.615805e+09</td>\n",
       "      <td>🇪🇺 En la reunión de #EPSSCO con ministras y mi...</td>\n",
       "    </tr>\n",
       "    <tr>\n",
       "      <th>74552</th>\n",
       "      <td>monasterioR</td>\n",
       "      <td>vox</td>\n",
       "      <td>1.610643e+09</td>\n",
       "      <td>Una semana después seguimos sin movilizar todo...</td>\n",
       "    </tr>\n",
       "    <tr>\n",
       "      <th>84628</th>\n",
       "      <td>MiguelUrban</td>\n",
       "      <td>podemos</td>\n",
       "      <td>1.614161e+09</td>\n",
       "      <td>7⃣Unas armas y una tecnología que después son ...</td>\n",
       "    </tr>\n",
       "    <tr>\n",
       "      <th>90424</th>\n",
       "      <td>eledhmel</td>\n",
       "      <td>vox</td>\n",
       "      <td>1.616367e+09</td>\n",
       "      <td>@Perseo06330069 Esa persona no es diputada ni ...</td>\n",
       "    </tr>\n",
       "  </tbody>\n",
       "</table>\n",
       "</div>"
      ],
      "text/plain": [
       "               cuenta     partido     timestamp  \\\n",
       "87790  hermanntertsch         vox  1.615326e+09   \n",
       "86468  hermanntertsch         vox  1.614956e+09   \n",
       "91940   oscar_puente_        psoe  1.617128e+09   \n",
       "79235  hermanntertsch         vox  1.612248e+09   \n",
       "76375   oscar_puente_        psoe  1.611745e+09   \n",
       "77836    MGutierrezCs  ciudadanos  1.611698e+09   \n",
       "89246   Yolanda_Diaz_     podemos  1.615805e+09   \n",
       "74552     monasterioR         vox  1.610643e+09   \n",
       "84628     MiguelUrban     podemos  1.614161e+09   \n",
       "90424        eledhmel         vox  1.616367e+09   \n",
       "\n",
       "                                                   tweet  \n",
       "87790  ¡Qué pena! ¡Qué ejemplo! #LaVidaEsUnJuego #Sol...  \n",
       "86468  @KKabreadu @trikismikis1 @Lei_Leys @Heisemberg...  \n",
       "91940         @NoeluskiSanz No avisan. Este es el aviso.  \n",
       "79235  Ya ven. El desprecio bolchevique. Más soldades...  \n",
       "76375  @AntonioCESP @alberbustos @RaJaWoSki @TomaLaPa...  \n",
       "77836  No nos cansaremos de decirlo: Urge cambiar de ...  \n",
       "89246  🇪🇺 En la reunión de #EPSSCO con ministras y mi...  \n",
       "74552  Una semana después seguimos sin movilizar todo...  \n",
       "84628  7⃣Unas armas y una tecnología que después son ...  \n",
       "90424  @Perseo06330069 Esa persona no es diputada ni ...  "
      ]
     },
     "execution_count": 2,
     "metadata": {},
     "output_type": "execute_result"
    }
   ],
   "source": [
    "import datetime\n",
    "import time\n",
    "\n",
    "# Filtramos los tweets a partir de una fecha\n",
    "DATE = \"01/01/2021\"\n",
    "timestamp = time.mktime(datetime.datetime.strptime(DATE, \"%d/%m/%Y\").timetuple())\n",
    "df = df[df.timestamp >= timestamp]\n",
    "\n",
    "# Mostramos un sample y el número de tweets a procesar\n",
    "print('Número de Tweets a procesar: {num}'.format(num=df.shape[0]))\n",
    "df.sample(10)"
   ]
  },
  {
   "cell_type": "markdown",
   "metadata": {},
   "source": [
    "* Tweets publicados por partido político"
   ]
  },
  {
   "cell_type": "code",
   "execution_count": 3,
   "metadata": {},
   "outputs": [
    {
     "data": {
      "text/html": [
       "<div>\n",
       "<style scoped>\n",
       "    .dataframe tbody tr th:only-of-type {\n",
       "        vertical-align: middle;\n",
       "    }\n",
       "\n",
       "    .dataframe tbody tr th {\n",
       "        vertical-align: top;\n",
       "    }\n",
       "\n",
       "    .dataframe thead th {\n",
       "        text-align: right;\n",
       "    }\n",
       "</style>\n",
       "<table border=\"1\" class=\"dataframe\">\n",
       "  <thead>\n",
       "    <tr style=\"text-align: right;\">\n",
       "      <th></th>\n",
       "      <th>partido</th>\n",
       "      <th>tweet</th>\n",
       "    </tr>\n",
       "  </thead>\n",
       "  <tbody>\n",
       "    <tr>\n",
       "      <th>4</th>\n",
       "      <td>vox</td>\n",
       "      <td>6875</td>\n",
       "    </tr>\n",
       "    <tr>\n",
       "      <th>0</th>\n",
       "      <td>ciudadanos</td>\n",
       "      <td>4848</td>\n",
       "    </tr>\n",
       "    <tr>\n",
       "      <th>1</th>\n",
       "      <td>podemos</td>\n",
       "      <td>4398</td>\n",
       "    </tr>\n",
       "    <tr>\n",
       "      <th>3</th>\n",
       "      <td>psoe</td>\n",
       "      <td>4020</td>\n",
       "    </tr>\n",
       "    <tr>\n",
       "      <th>2</th>\n",
       "      <td>pp</td>\n",
       "      <td>3640</td>\n",
       "    </tr>\n",
       "  </tbody>\n",
       "</table>\n",
       "</div>"
      ],
      "text/plain": [
       "      partido  tweet\n",
       "4         vox   6875\n",
       "0  ciudadanos   4848\n",
       "1     podemos   4398\n",
       "3        psoe   4020\n",
       "2          pp   3640"
      ]
     },
     "execution_count": 3,
     "metadata": {},
     "output_type": "execute_result"
    }
   ],
   "source": [
    "df.groupby('partido')['tweet'].count().reset_index().sort_values(by='tweet', ascending=False)"
   ]
  },
  {
   "cell_type": "markdown",
   "metadata": {},
   "source": [
    "* Nos quedamos solo con el nombre del partido y el tweet"
   ]
  },
  {
   "cell_type": "code",
   "execution_count": 4,
   "metadata": {},
   "outputs": [
    {
     "name": "stdout",
     "output_type": "stream",
     "text": [
      "Número de Tweets Cargados: 23781\n"
     ]
    }
   ],
   "source": [
    "tweets = [tuple(x) for x in df[['tweet', 'partido']].values]\n",
    "print('Número de Tweets Cargados: {num}'.format(num=len(tweets)))"
   ]
  },
  {
   "cell_type": "markdown",
   "metadata": {},
   "source": [
    "<hr>\n",
    "\n",
    "\n",
    "## Normalización\n",
    "\n",
    "\n",
    "* Utilizamos ***spaCy*** para la tokenización y normalización.\n",
    "\n",
    "\n",
    "* Tras realizar un análisis del contenido de los tweets pasamos a realizar las siguientes acciones para ***normalizar*** los tweets:\n",
    "    1. Pasamos las frases a minúsculas.\n",
    "    2. Sustituimos los puntos por espacios ya que hay muchas palabras unidas por un punto\n",
    "    3. Quitamos la almuhadilla de los hashtags para considerarlos como palabras.\n",
    "    4. Eliminamos los signos de puntuación.\n",
    "    5. Eliminamos los enlaces(http) y las menciones (@)\n",
    "    6. Pasamos la palabra a su lema\n",
    "\n",
    "\n",
    "* Todos estos pasos los vamos a realizar en una misma función.\n",
    "\n",
    "\n",
    "* ***NOTA***: Cuando trabajamos con Redes Neuronales Recurrentes y en especial con las LSTM aplicado al Procesamiento del Lenguaje Natural, no solo nos interesa saber las palabras que componen un tweet (o documento), si no tambien la secuencia de esas palabras dentro de la frase, por ese motivo ***vamos a tratar los tweets como secuencias de palabras y no como bolsas de palabras*** (como haciamos en los ejemplos anteriores). Por tanto no vamos a eliminar las palabras con menos de 3 caracteres ni las stop-words."
   ]
  },
  {
   "cell_type": "code",
   "execution_count": 5,
   "metadata": {},
   "outputs": [
    {
     "name": "stderr",
     "output_type": "stream",
     "text": [
      "100%|██████████| 23781/23781 [03:15<00:00, 121.84it/s]\n"
     ]
    }
   ],
   "source": [
    "import numpy as np\n",
    "import spacy\n",
    "\n",
    "from tqdm import tqdm\n",
    "\n",
    "nlp = spacy.load('es_core_news_sm')\n",
    "\n",
    "# Divido los datos en dos listas \n",
    "#     X: los tweets\n",
    "#     y: target (polaridad)\n",
    "\n",
    "X = [doc[0] for doc in tweets]\n",
    "y = np.array([doc[1] for doc in tweets])\n",
    "\n",
    "def normalize(sentenses):\n",
    "    \"\"\"normalizamos la lista de frases y devolvemos la misma lista de frases normalizada\"\"\"\n",
    "    for index, sentense in enumerate(tqdm(sentenses)):\n",
    "        # Tokenizamos el tweets realizando los puntos 1,2 y 3.\n",
    "        sentense = nlp(sentense.lower().replace('.', ' ').replace('#', ' ').strip())\n",
    "        # Puntos 4,5 y 6\n",
    "        sentenses[index] = ' '.join([word.lemma_ for word in sentense if (not word.is_punct)\n",
    "                             and (not word.text.startswith('@'))\n",
    "                             and (not word.text.startswith('http'))\n",
    "                             and (not ':' in word.text)])\n",
    "    return sentenses\n",
    "\n",
    "# Normalizamos las frases\n",
    "X_norm = normalize(X)"
   ]
  },
  {
   "cell_type": "markdown",
   "metadata": {},
   "source": [
    "<hr>\n",
    "\n",
    "\n",
    "## Particionado de Datos (Train y Test)\n",
    "\n",
    "* Dado que las temáticas de los tweets varian en función del tiempo (tienen caracter temporal), vamos a particionar los datos temporalmente.\n",
    "\n",
    "\n",
    "* Seleccionaremos como tweets de entrenamiento aquellos que se han escrito hasta una determinada fecha y como tweets de test los últimos tweets escritos.\n",
    "\n",
    "\n",
    "* Seleccionaremos un 5% de tweets de test, siendo estos los últimos tweets registrados en el dataset (los tweets están escritos de manera cronológica).\n",
    "\n",
    "\n",
    "* Por tanto nos vamos a quedar con:\n",
    "    - 95% de datos de entrenamiento\n",
    "    - 5% de datos de test"
   ]
  },
  {
   "cell_type": "code",
   "execution_count": 6,
   "metadata": {},
   "outputs": [
    {
     "name": "stdout",
     "output_type": "stream",
     "text": [
      "Corte en el tweet número 22592 de los 23781 tweets del Dataset.\n",
      "Tweets de entrenamiento: 22592\n",
      "Tweets de Test: 1189\n"
     ]
    }
   ],
   "source": [
    "PCT_TEST = 0.05\n",
    "n_tail = len(X_norm) - int(len(X_norm) * PCT_TEST)\n",
    "print('Corte en el tweet número {} de los {} tweets del Dataset.'.format(n_tail, len(X_norm)))\n",
    "\n",
    "X_train = X_norm[:n_tail]\n",
    "y_train = y[:n_tail]\n",
    "X_test = X_norm[n_tail:]\n",
    "y_test = y[n_tail:]\n",
    "\n",
    "print('Tweets de entrenamiento: {}'.format(len(X_train)))\n",
    "print('Tweets de Test: {}'.format(len(X_test)))\n"
   ]
  },
  {
   "cell_type": "markdown",
   "metadata": {},
   "source": [
    "<hr>\n",
    "\n",
    "\n",
    "## One-Hot Encoding y codificación del target\n",
    "\n",
    "\n",
    "* Con las Redes Neuronales Recurrentes vamos a tratar los tweets como secuencias de palabras y por tanto tenemos que realizar una codificación de todas palabras que aparecen en los tweets.\n",
    "\n",
    "\n",
    "* Para ello TensorFlow nos proporciona una función llamada \"one_hot\" que dado un texto y el tamaño que tendrá nuestro vocabulario, nos codifica el texto por palabras. En el siguiente enlace esta la documentación de esta función:<br>\n",
    "https://www.tensorflow.org/api_docs/python/tf/keras/preprocessing/text/one_hot\n",
    "\n",
    "\n",
    "* Veamos a continuación un ejemplo de como codificamos los textos:\n",
    "\n",
    "\n",
    "```python\n",
    "one_hot(\"Esto es un ejemplo de onehot encoding\", 100)\n",
    "```\n",
    "\n",
    "```ssh\n",
    ">> [6, 88, 30, 81, 31, 52, 22]\n",
    "```\n",
    "\n",
    "* Si realizamos una codificación de un string que continene palabras identicas, nos lo codifica con el mismo identificador como es de esperar:\n",
    "\n",
    "```python\n",
    "one_hot(\"Esto es otro ejemplo\", 100)\n",
    "```\n",
    "\n",
    "```ssh\n",
    ">> [6, 88, 79, 81]\n",
    "```\n",
    "\n",
    "\n",
    "* Por tanto vemos como utiliza identificadores numéricos del 1 al 100 para codificar las palabras de los strings:\n",
    "\n",
    "    + \"Esto\" = 6\n",
    "    + \"es\" = 88\n",
    "    + \"un\" = 30\n",
    "    + \"ejemplo\" = 81\n",
    "    + \"de\" = 31\n",
    "    + \"onehot\" = 52\n",
    "    + \"encoding\" = 22\n",
    "    + \"otro\" = 79\n",
    "    \n",
    "    \n",
    "* Los identificadores que asigna a las palabras los obtiene aplicando una función \"*hash*\" a las palabras, de ahí que no sea necesario crear un \"modelo\" de \"one-hot Encode\" (como en scikit) para codificar otros strings (strings a predecir). \n",
    "\n",
    "\n",
    "* Lo único que hay que respetar para que nos codifique una misma palabra con el mismo identificador es el ***tamaño del vocabulario 'n'*** que se le pasa a la función \"*one_hot(text, n)*\" que en el ejemplo puesto anteriormente tiene valor *100*.\n",
    "\n",
    "\n",
    "* Este valor '*n*' del vocabulario debe de tener (a priori) un valor lo suficientemente grande como para poder codificar todas las posibles palabras que podamos utilizar en una lengua (Español, Inglés, Alemán, etc.).\n",
    "\n",
    "\n",
    "* El último paso que vamos a realizar es la codificación del nombre del partido político utilizando la clase \"LabelEncoder()\" de scikit.\n",
    "    "
   ]
  },
  {
   "cell_type": "code",
   "execution_count": 7,
   "metadata": {},
   "outputs": [],
   "source": [
    "from sklearn.preprocessing import LabelEncoder\n",
    "from tensorflow.keras.preprocessing.text import one_hot\n",
    "\n",
    "# Hacemos un one-hot encoder del texto\n",
    "VOCAB_SIZE = 100000 # Poner un valor muy alto\n",
    "X_train = [one_hot(doc, VOCAB_SIZE) for doc in X_train]\n",
    "X_test = [one_hot(doc, VOCAB_SIZE) for doc in X_test]\n",
    "\n",
    "# Codificación del Target\n",
    "encoder = LabelEncoder()\n",
    "encoder.fit(y_train)\n",
    "y_train = encoder.transform(y_train)\n",
    "y_test = encoder.transform(y_test)"
   ]
  },
  {
   "cell_type": "markdown",
   "metadata": {},
   "source": [
    "<hr>\n",
    "\n",
    "\n",
    "## Creacción de las secuencias de palabras\n",
    "\n",
    "\n",
    "* Las Redes Neuronales necesitan un tamaño fijo de entrada y los tweets tienen un número variable de palabras, por lo que hay que hay que transformar los tweets a secuencias de palabras de tamaño fijo.\n",
    "\n",
    "\n",
    "* Para realizar esta labor, TensorFlow nos proporciona la función \"*pad_sequences(sequences, maxlen)*\" que dada una lista de secuencias nos devuelve esa secuencia con el tapaño que le hayamos indicado como parámetro, rellenando en caso de que la secuencia sea de mayor tamaño con algún valor por defecto (en principio a cero). En el siguiente enlace esta la documentación de esta función:<br>\n",
    "https://www.tensorflow.org/api_docs/python/tf/keras/preprocessing/sequence/pad_sequences\n",
    "\n",
    "\n",
    "* Un ejemplo de esta función sería la siguiente, en el que indicamos que nos devuelva las secuencias que le pasamos como parámetro con un tamaño de '10' posiciones y rellenando las posiciones faltantes con ceros (value=0) añadiendolos al final de la secuencia (padding='post'):\n",
    "\n",
    "```python\n",
    "sequences = [[6, 88, 30, 81, 31, 52, 22], [6, 88, 79, 81]]\n",
    "pad_sequences(sequences=sequences, maxlen=10, padding='post', value=0)\n",
    "```\n",
    "\n",
    "\n",
    "```ssh\n",
    "array([[ 6, 88, 30, 81, 31, 52, 22,  0,  0,  0],\n",
    "       [ 6, 88, 79, 81,  0,  0,  0,  0,  0,  0]], dtype=int32)\n",
    "```\n",
    "\n",
    "\n",
    "* A continuación pasamos a crear las secuencias de los tweets (50 elementos) tanto de entrenamiento como de test:\n"
   ]
  },
  {
   "cell_type": "code",
   "execution_count": 8,
   "metadata": {},
   "outputs": [],
   "source": [
    "from tensorflow.keras.preprocessing.sequence import pad_sequences\n",
    "\n",
    "MAX_WORDS_TWEET = 50\n",
    "pad_corpus_train = pad_sequences(X_train, maxlen=MAX_WORDS_TWEET, padding='post')\n",
    "pad_corpus_test = pad_sequences(X_test, maxlen=MAX_WORDS_TWEET, padding='post')"
   ]
  },
  {
   "cell_type": "markdown",
   "metadata": {},
   "source": [
    "<hr>\n",
    "\n",
    "\n",
    "# Definición de la Red Neuronal\n",
    "\n",
    "\n",
    "* La arquitectura de la red para la clasificación de las tendencias políticas es la siguiente:\n",
    "<span></span><br><br>\n",
    "    - ***Capa Embedding***: Capa de Embedding que soportará un tamaño de 100.000 palabras (VOCAB_SIZE) y cada palabra estará representada por 32 características (EMBEDDING_SIZE). -*ver Bonus Track II*-\n",
    "<span></span><br><br>\n",
    "    - ***Capa LSTM***: Capa LSTM con 32 celdas de memoria. Son 32 por el tamaño de representación de la palabra (EMBEDDING_SIZE).\n",
    "<span></span><br><br>\n",
    "    - ***Capa 4***: Capa de salida con 5 neurona (una por tendencia política) y una función de activación 'softmax' para que nos \"normalice la salida\"\n",
    "    \n",
    "    \n",
    "* Para la capa de salida aplicamos un dropout del 20% para que nuestra red no se sobreajuste y generalize mejor\n",
    "\n",
    "\n",
    "* Por último vamos a compilar la red:\n",
    "<span></span><br><br>\n",
    "    - ***Función de perdida: 'categorical_crossentropy'*** (Funciones de Perdida: https://www.tensorflow.org/api_docs/python/tf/keras/losses). En realidad usaremos la '*sparse_categorical_crossentropy*' ya que la salida no la hemos codificado con un one-hot encoding \\[\\[1,0,0,0,0\\], \\[0,1,0,0,0\\], ..., \\[0,0,0,0,1\\],\\] si no con un label encode \\[0,1,2,3,4\\].\n",
    "<span></span><br><br>\n",
    "    - ***Optimizador: 'adam'*** (Optimizadores: https://www.tensorflow.org/api_docs/python/tf/keras/optimizers)\n",
    "<span></span><br><br>\n",
    "    - Metricas: en cada epoch pediremos que nos muestre el accuracy."
   ]
  },
  {
   "cell_type": "code",
   "execution_count": 9,
   "metadata": {},
   "outputs": [
    {
     "name": "stdout",
     "output_type": "stream",
     "text": [
      "Model: \"sequential\"\n",
      "_________________________________________________________________\n",
      "Layer (type)                 Output Shape              Param #   \n",
      "=================================================================\n",
      "embedding (Embedding)        (None, None, 32)          3200000   \n",
      "_________________________________________________________________\n",
      "lstm (LSTM)                  (None, 32)                8320      \n",
      "_________________________________________________________________\n",
      "dropout (Dropout)            (None, 32)                0         \n",
      "_________________________________________________________________\n",
      "dense (Dense)                (None, 5)                 165       \n",
      "=================================================================\n",
      "Total params: 3,208,485\n",
      "Trainable params: 3,208,485\n",
      "Non-trainable params: 0\n",
      "_________________________________________________________________\n"
     ]
    }
   ],
   "source": [
    "from tensorflow.keras.layers import Dense, Dropout, Flatten, Input, LSTM\n",
    "from tensorflow.keras.layers import Embedding\n",
    "from tensorflow.keras.models import Sequential\n",
    "\n",
    "EMBEDDING_SIZE = 32\n",
    "\n",
    "model = Sequential()\n",
    "model.add(Embedding(VOCAB_SIZE, EMBEDDING_SIZE))\n",
    "model.add(LSTM(EMBEDDING_SIZE))\n",
    "model.add(Dropout(0.2))\n",
    "model.add(Dense(5, activation='softmax'))\n",
    "model.compile(loss='sparse_categorical_crossentropy', optimizer='adam', metrics=['accuracy'])\n",
    "\n",
    "# Imprimimos la arquitectura de la red\n",
    "model.summary()"
   ]
  },
  {
   "cell_type": "markdown",
   "metadata": {},
   "source": [
    "* Parámetros a calcular en la red:\n",
    "    - Capa de Embedding: -> 100000 palabras * 32 caracterísiticas = 3200000\n",
    "    - Capa LSTM: 4*(32 * 32 + 32<sup>2</sup> + 32) = 8320\n",
    "    - Conexiones \"LSTM -> Capa salida\" = (32 * 5) + 5 = 165\n",
    "    \n",
    "    \n",
    "<hr>\n",
    "\n",
    "\n",
    "# Entrenamiento de la Red Neuronal\n",
    "\n",
    "\n",
    "* Vamos a entrenar la red con los siguientes parámetros:\n",
    "<span></span><br><br>\n",
    "    - *batch_size = 64* : Cada 64 tweets se calculan los nuevos pesos de la red\n",
    "<span></span><br><br>\n",
    "    - *epochs = 30*\n",
    "<span></span><br><br>\n",
    "    - *validation_split = datos de test* \n",
    "    \n",
    "\n",
    "* Dado que puede ser un entrenamiento muy pesado y que puede tardar varios minútos, vamos a utilizar la herramienta del \"Tensorboard\" para monitorizar la evolución de la función de perdida y el Accuracy.\n",
    "\n",
    "\n",
    "* Para más información sobre esta herramienta ver el siguiente enlace:<br>https://www.tensorflow.org/tensorboard\n",
    "\n",
    "\n",
    "* Básicamente lo que hacer Tensorboard es leer una serie de logs y representar esos logs por medio de una interfaz web.\n",
    "\n",
    "\n",
    "* Para representar la evolución de la función de perdida y el Accuracy, tenemos que escribir estos valores en un log que debemos guardarlos en una ruta conocida ('tensorboard_logs/FECHA_EJECUCION') y que generaremos  en el siguiente código.\n",
    "\n",
    "\n",
    "* Para instanciar el Tensorboard lo hacemos de la siguiente manera por consola, pasandole como parámetro la ruta donde se encuentran los logs: \n",
    "```ssh\n",
    ">> tensorboard --logdir ./tensorboard_logs/\n",
    "```\n",
    "\n",
    "* Una vez instanciado el Tensorboard nos indicará que abramos en el navegador el siguiente enlace:<br> http://localhost:6006/"
   ]
  },
  {
   "cell_type": "code",
   "execution_count": 10,
   "metadata": {
    "scrolled": false
   },
   "outputs": [
    {
     "name": "stdout",
     "output_type": "stream",
     "text": [
      "Epoch 1/30\n",
      "WARNING:tensorflow:From /Users/ricardomoyagarcia/opt/anaconda3/envs/Python37_NLP/lib/python3.7/site-packages/tensorflow/python/ops/summary_ops_v2.py:1277: stop (from tensorflow.python.eager.profiler) is deprecated and will be removed after 2020-07-01.\n",
      "Instructions for updating:\n",
      "use `tf.profiler.experimental.stop` instead.\n",
      "WARNING:tensorflow:Callbacks method `on_train_batch_end` is slow compared to the batch time (batch time: 0.0357s vs `on_train_batch_end` time: 0.0793s). Check your callbacks.\n",
      "353/353 - 12s - loss: 1.3677 - accuracy: 0.4140 - val_loss: 1.1902 - val_accuracy: 0.5130\n",
      "Epoch 2/30\n",
      "353/353 - 12s - loss: 0.9236 - accuracy: 0.6738 - val_loss: 0.9477 - val_accuracy: 0.6720\n",
      "Epoch 3/30\n",
      "353/353 - 13s - loss: 0.5952 - accuracy: 0.8044 - val_loss: 0.8562 - val_accuracy: 0.7090\n",
      "Epoch 4/30\n",
      "353/353 - 12s - loss: 0.3921 - accuracy: 0.8761 - val_loss: 0.8758 - val_accuracy: 0.7115\n",
      "Epoch 5/30\n",
      "353/353 - 13s - loss: 0.2627 - accuracy: 0.9201 - val_loss: 0.9920 - val_accuracy: 0.6947\n",
      "Epoch 6/30\n",
      "353/353 - 12s - loss: 0.1833 - accuracy: 0.9456 - val_loss: 1.1076 - val_accuracy: 0.7098\n",
      "Epoch 7/30\n",
      "353/353 - 13s - loss: 0.1360 - accuracy: 0.9589 - val_loss: 1.1735 - val_accuracy: 0.7031\n",
      "Epoch 8/30\n",
      "353/353 - 12s - loss: 0.1088 - accuracy: 0.9687 - val_loss: 1.4499 - val_accuracy: 0.6871\n",
      "Epoch 9/30\n",
      "353/353 - 12s - loss: 0.0912 - accuracy: 0.9744 - val_loss: 1.1907 - val_accuracy: 0.6922\n",
      "Epoch 10/30\n",
      "353/353 - 12s - loss: 0.0815 - accuracy: 0.9769 - val_loss: 1.2263 - val_accuracy: 0.6846\n",
      "Epoch 11/30\n",
      "353/353 - 12s - loss: 0.0644 - accuracy: 0.9831 - val_loss: 1.4993 - val_accuracy: 0.6913\n",
      "Epoch 12/30\n",
      "353/353 - 11s - loss: 0.0663 - accuracy: 0.9825 - val_loss: 1.5692 - val_accuracy: 0.6846\n",
      "Epoch 13/30\n",
      "353/353 - 12s - loss: 0.0529 - accuracy: 0.9854 - val_loss: 1.5083 - val_accuracy: 0.6964\n",
      "Epoch 14/30\n",
      "353/353 - 11s - loss: 0.0549 - accuracy: 0.9855 - val_loss: 1.6514 - val_accuracy: 0.6897\n",
      "Epoch 15/30\n",
      "353/353 - 12s - loss: 0.0541 - accuracy: 0.9845 - val_loss: 1.5348 - val_accuracy: 0.7048\n",
      "Epoch 16/30\n",
      "353/353 - 11s - loss: 0.0477 - accuracy: 0.9874 - val_loss: 1.5159 - val_accuracy: 0.6930\n",
      "Epoch 17/30\n",
      "353/353 - 11s - loss: 0.0521 - accuracy: 0.9858 - val_loss: 1.6545 - val_accuracy: 0.6905\n",
      "Epoch 18/30\n",
      "353/353 - 12s - loss: 0.0448 - accuracy: 0.9873 - val_loss: 1.7331 - val_accuracy: 0.6846\n",
      "Epoch 19/30\n",
      "353/353 - 12s - loss: 0.0394 - accuracy: 0.9888 - val_loss: 1.6128 - val_accuracy: 0.6905\n",
      "Epoch 20/30\n",
      "353/353 - 12s - loss: 0.0317 - accuracy: 0.9909 - val_loss: 1.6986 - val_accuracy: 0.6964\n",
      "Epoch 21/30\n",
      "353/353 - 12s - loss: 0.0385 - accuracy: 0.9897 - val_loss: 1.7195 - val_accuracy: 0.6939\n",
      "Epoch 22/30\n",
      "353/353 - 12s - loss: 0.0376 - accuracy: 0.9893 - val_loss: 1.8972 - val_accuracy: 0.6543\n",
      "Epoch 23/30\n",
      "353/353 - 12s - loss: 0.0401 - accuracy: 0.9885 - val_loss: 1.8894 - val_accuracy: 0.6728\n",
      "Epoch 24/30\n",
      "353/353 - 12s - loss: 0.0329 - accuracy: 0.9911 - val_loss: 1.8652 - val_accuracy: 0.6821\n",
      "Epoch 25/30\n",
      "353/353 - 13s - loss: 0.0313 - accuracy: 0.9916 - val_loss: 2.0298 - val_accuracy: 0.6720\n",
      "Epoch 26/30\n",
      "353/353 - 13s - loss: 0.0260 - accuracy: 0.9922 - val_loss: 2.2453 - val_accuracy: 0.6712\n",
      "Epoch 27/30\n",
      "353/353 - 14s - loss: 0.0320 - accuracy: 0.9907 - val_loss: 2.2039 - val_accuracy: 0.6779\n",
      "Epoch 28/30\n",
      "353/353 - 13s - loss: 0.0296 - accuracy: 0.9912 - val_loss: 2.1647 - val_accuracy: 0.6459\n",
      "Epoch 29/30\n",
      "353/353 - 14s - loss: 0.0323 - accuracy: 0.9914 - val_loss: 2.1646 - val_accuracy: 0.6627\n",
      "Epoch 30/30\n",
      "353/353 - 13s - loss: 0.0289 - accuracy: 0.9919 - val_loss: 2.1647 - val_accuracy: 0.6468\n"
     ]
    }
   ],
   "source": [
    "import datetime\n",
    "import os\n",
    "\n",
    "from tensorflow.keras.callbacks import TensorBoard\n",
    "\n",
    "now = datetime.datetime.now().strftime(\"%Y%m%d-%H%M%S\")\n",
    "os.makedirs('tensorboard_logs/{}'.format(now))\n",
    "path = os.path.join('tensorboard_logs', now)\n",
    "\n",
    "history=model.fit(pad_corpus_train, \n",
    "                  y_train, \n",
    "                  batch_size=64, \n",
    "                  epochs=30, \n",
    "                  validation_data=(pad_corpus_test, y_test), \n",
    "                  verbose=2,\n",
    "                  callbacks=[TensorBoard(log_dir=path,\n",
    "                                         histogram_freq=2,\n",
    "                                         write_graph=True,\n",
    "                                         write_images=True)])\n",
    "\n"
   ]
  },
  {
   "cell_type": "markdown",
   "metadata": {},
   "source": [
    "* Pintamos como evoluciona la función de perdida y el Accuracy por epoch tanto en entrenamiento como en test."
   ]
  },
  {
   "cell_type": "code",
   "execution_count": 11,
   "metadata": {},
   "outputs": [],
   "source": [
    "import matplotlib.pyplot as plt\n",
    "%matplotlib inline\n",
    "\n",
    "# Pintamos las métricas por epoch\n",
    "def plot_metric(history, name, remove_first=0):\n",
    "    metric_train = np.array(history.history[name])[remove_first:]\n",
    "    metric_test = np.array(history.history['val_{}'.format(name)])[remove_first:]\n",
    "    acum_avg_metric_train = (np.cumsum(metric_train) / (np.arange(metric_train.shape[-1]) + 1))[remove_first:]\n",
    "    acum_avg_metric_test = (np.cumsum(metric_test) / (np.arange(metric_test.shape[-1]) + 1))[remove_first:]\n",
    "    plt.figure(figsize=(20, 8))\n",
    "    plt.subplot(1, 2, 1)\n",
    "    plt.title('{} - Epochs'.format(name))\n",
    "    plt.plot(metric_train, label='{} Train'.format(name))\n",
    "    plt.plot(metric_test, label='{} Test'.format(name))\n",
    "    plt.grid()\n",
    "    plt.legend(loc='upper center')\n",
    "    plt.subplot(1, 2, 2)\n",
    "    plt.title('AVG ACCUMULATIVE {} - Epochs'.format(name))\n",
    "    plt.plot(acum_avg_metric_train, label='{} Train'.format(name))\n",
    "    plt.plot(acum_avg_metric_test, label='{} Test'.format(name))\n",
    "    plt.grid()\n",
    "    plt.legend(loc='upper center')\n",
    "    plt.show()"
   ]
  },
  {
   "cell_type": "code",
   "execution_count": 12,
   "metadata": {},
   "outputs": [
    {
     "data": {
      "image/png": "[encoded data removed]",
      "text/plain": [
       "<Figure size 1440x576 with 2 Axes>"
      ]
     },
     "metadata": {
      "needs_background": "light"
     },
     "output_type": "display_data"
    }
   ],
   "source": [
    "# Función de perdida\n",
    "plot_metric(history=history, name='loss')"
   ]
  },
  {
   "cell_type": "code",
   "execution_count": 13,
   "metadata": {},
   "outputs": [
    {
     "data": {
      "image/png": "[encoded data removed]",
      "text/plain": [
       "<Figure size 1440x576 with 2 Axes>"
      ]
     },
     "metadata": {
      "needs_background": "light"
     },
     "output_type": "display_data"
    }
   ],
   "source": [
    "# Accuracy\n",
    "plot_metric(history=history, name='accuracy')"
   ]
  },
  {
   "cell_type": "markdown",
   "metadata": {},
   "source": [
    "<hr>\n",
    "\n",
    "\n",
    "## Evaluamos el modelo\n",
    "\n",
    "* Pasamos a evaluar el modelo con los datos de test, calculando las siguientes métricas de evaluación:\n",
    "\n",
    "    1. **Accuracy**\n",
    "    2. **Precision**\n",
    "    3. **Recall**\n",
    "    4. **F1**"
   ]
  },
  {
   "cell_type": "code",
   "execution_count": 14,
   "metadata": {},
   "outputs": [
    {
     "name": "stdout",
     "output_type": "stream",
     "text": [
      "WARNING:tensorflow:From <ipython-input-14-6035f4052459>:4: Sequential.predict_classes (from tensorflow.python.keras.engine.sequential) is deprecated and will be removed after 2021-01-01.\n",
      "Instructions for updating:\n",
      "Please use instead:* `np.argmax(model.predict(x), axis=-1)`,   if your model does multi-class classification   (e.g. if it uses a `softmax` last-layer activation).* `(model.predict(x) > 0.5).astype(\"int32\")`,   if your model does binary classification   (e.g. if it uses a `sigmoid` last-layer activation).\n",
      "Accuracy: 0.6468\n",
      "F1: 0.6462\n",
      "Precision: 0.6488\n",
      "Recall: 0.6468\n",
      "              precision    recall  f1-score   support\n",
      "\n",
      "  ciudadanos       0.58      0.60      0.59       242\n",
      "     podemos       0.64      0.60      0.62       252\n",
      "          pp       0.65      0.61      0.63       196\n",
      "        psoe       0.74      0.63      0.68       176\n",
      "         vox       0.66      0.75      0.70       323\n",
      "\n",
      "    accuracy                           0.65      1189\n",
      "   macro avg       0.65      0.64      0.64      1189\n",
      "weighted avg       0.65      0.65      0.65      1189\n",
      "\n"
     ]
    }
   ],
   "source": [
    "from sklearn.metrics import accuracy_score, f1_score, precision_score, recall_score, confusion_matrix, classification_report\n",
    "\n",
    "y_true = encoder.inverse_transform(y_test.reshape(-1))\n",
    "y_pred = model.predict_classes(pad_corpus_test)\n",
    "y_pred = encoder.inverse_transform(y_pred.reshape(-1))\n",
    "\n",
    "print('Accuracy: {acc:0.4f}'.format(acc=accuracy_score(y_true=y_true, y_pred=y_pred)))\n",
    "print('F1: {f1:0.4f}'.format(f1=f1_score(y_true=y_true, y_pred=y_pred, average='weighted')))\n",
    "print('Precision: {pre:0.4f}'.format(pre=precision_score(y_true=y_true, y_pred=y_pred, average='weighted')))\n",
    "print('Recall: {rec:0.4f}'.format(rec=recall_score(y_true=y_true, y_pred=y_pred, average='weighted')))\n",
    "print(classification_report(y_true=y_true, y_pred=y_pred))\n",
    "labels = ['psoe', 'pp', 'vox', 'podemos', 'ciudadanos']\n",
    "confusion_matrix = confusion_matrix(y_true=y_true, y_pred=y_pred, labels=labels)"
   ]
  },
  {
   "cell_type": "markdown",
   "metadata": {},
   "source": [
    "* Pintamos la matriz de confusión"
   ]
  },
  {
   "cell_type": "code",
   "execution_count": 15,
   "metadata": {},
   "outputs": [
    {
     "data": {
      "image/png": "[encoded data removed]",
      "text/plain": [
       "<Figure size 864x432 with 2 Axes>"
      ]
     },
     "metadata": {
      "needs_background": "light"
     },
     "output_type": "display_data"
    }
   ],
   "source": [
    "import numpy as np\n",
    "import matplotlib.pyplot as plt\n",
    "import itertools\n",
    "%matplotlib inline\n",
    "\n",
    "def plot_confusion_matrix(cm, classes, title, cmap=plt.cm.Blues):\n",
    "    \"\"\"\n",
    "    This function prints and plots the confusion matrix.\n",
    "    \"\"\"\n",
    "    plt.imshow(cm, interpolation='nearest', cmap=cmap)\n",
    "    plt.title(title)\n",
    "    plt.colorbar()\n",
    "    tick_marks = np.arange(len(classes))\n",
    "    plt.xticks(tick_marks, classes, rotation=45)\n",
    "    plt.yticks(tick_marks, classes)\n",
    "\n",
    "    thresh = cm.max() / 2.\n",
    "    for i, j in itertools.product(range(cm.shape[0]), range(cm.shape[1])):\n",
    "        plt.text(j, i, format(cm[i, j], 'd'), horizontalalignment=\"center\",\n",
    "                 color=\"white\" if cm[i, j] > thresh else \"black\")\n",
    "\n",
    "    plt.tight_layout()\n",
    "    plt.ylabel('True label')\n",
    "    plt.xlabel('Predicted label')\n",
    "\n",
    "# Pintamos la matriz de confusión\n",
    "plt.figure(figsize=(12, 6))\n",
    "plot_confusion_matrix(confusion_matrix, classes=labels, title='Matriz de Confusión')\n",
    "plt.show()"
   ]
  },
  {
   "cell_type": "markdown",
   "metadata": {},
   "source": [
    "<hr>\n",
    "\n",
    "\n",
    "# Bonus Track I - LSTM - \n",
    "\n",
    "\n",
    "* Las ***Redes Neuronales Recurrentes*** (RNN) constituyen una herramienta muy apropiada para ***modelar series temporales y para el Procesamiento del Lenguaje Natural***.\n",
    "\n",
    "\n",
    "* Las RNN son, en principio, un modelo computacional más potente que las clásicas redes neuronales (Perceptrón). \n",
    "\n",
    "\n",
    "* Esta mayor potencia proviene del hecho de que las RNN son capaces de procesar secuencias temporales gracias a la posibilidad de ***recordar parcialmente la historia relevante*** de la secuencia por medio de una representación en forma de estado (***implementa una cierta memoria***).\n",
    "\n",
    "\n",
    "* Esta memoria no existe de manera natural en las redes no recurrentes, utilizadas principalmente para el procesamiento de datos estáticos.\n",
    "\n",
    "\n",
    "* Las LSTM (Long Short-Term Memory) son un tipo especial de unidades de memoria que conforman una red neuronal y que tienen la capacidad de recordar aquella información relevante que va aprendiendo durante el proceso de entrenamiento y olvidar aquella información que no considera relevante.\n",
    "\n",
    "\n",
    "* La arquitectura de una unidad LSTM es la siguiente:\n",
    "\n",
    "\n",
    "<img src=\"./imgs/028_lstm.png\" style=\"width: 400px;\"/>\n",
    "\n",
    "\n",
    "* Las LSTM está formadas por los siguientes elementos:\n",
    "<span></span><br><br>\n",
    "    + ***$f_t$ -> forget gate*** (Puerta de Olvido): Que parte de la información del pasado no es importante.\n",
    "<span></span><br><br>\n",
    "    + ***$i_t$ -> input gate*** (Puerta de Entrada): De la información actual, hay algo que sea importante para recordar.\n",
    "<span></span><br><br>\n",
    "    + ***$\\widetilde{C}_t$ -> candidate gate*** (Puerta Candidata): Si hay algo importante que recordar, cómo lo combinamos con la información del pasado.\n",
    "<span></span><br><br>\n",
    "    + ***$o_t$ -> output gate*** (Puerta de Salida): Que información es importante a corto plazo.\n",
    "<span></span><br><br>    \n",
    "    + ***$C_t$ -> state cell*** (Estado de la Celda): Guarda el estado de la celda actual.\n",
    "    \n",
    "    \n",
    "<img src=\"./imgs/029_lstm.png\" style=\"width: 600px;\"/>\n",
    "    \n",
    "    \n",
    "* Siendo:\n",
    "    \n",
    "$$f_t = sigmoid(W_f \\cdot [h_{t-1}, X_t])$$\n",
    "\n",
    "$$i_t = sigmoid(W_i \\cdot [h_{t-1}, X_t])$$\n",
    "\n",
    "$$\\widetilde{C}_t = tanh(W_c \\cdot [h_{t-1}, X_t])$$\n",
    "\n",
    "$$o_t = sigmoid(W_o \\cdot [h_{t-1}, X_t])$$\n",
    "\n",
    "$$C_t = f_t * C_{t-1} + i_t * \\widetilde{C}_t$$\n",
    "\n",
    "$$h_t = o_t * tanh(C_t)$$\n",
    "\n",
    "\n",
    "* Una capa con celdas LSTM estaría formada por cerlda LSTM conectadas en serie unas con otras de la siguiente manera:\n",
    "\n",
    "\n",
    "<img src=\"./imgs/030_lstm.png\" style=\"width: 700px;\"/>\n",
    "\n"
   ]
  },
  {
   "cell_type": "markdown",
   "metadata": {},
   "source": [
    "<hr>\n",
    "\n",
    "# Bonus Track II - Embedding Layers - \n",
    "\n",
    "\n",
    "* Las \"Embedding Layes\" (capas de incrustación) son un tipo de técnicas que nos permiten representar las palabras y los documentos como un vector de características latentes.\n",
    "\n",
    "\n",
    "* Para el caso particular de las palabras de un corpus, los vectores de características latentes que representan las palabras, son calculadas basándose en la ***hipótesis distribucional de Zellig Harris*** que dice: \"*elementos lingüísticos con distribuciones similares tienen significados similares*\"; es decir que ***las palabras que tienen un contexto similar, tendrán significados similares***.\n",
    "\n",
    "\n",
    "* Por tanto con las técnicas que nos permiten representar a las palabras con vectores, tendremos que la similaridad entre pares de vectores que representen a pares de palabras con significado similar, tendran una similaridad alta y no así entre pares de palabras con significados distintos que tendrán una similaridad baja.\n",
    "\n",
    "\n",
    "* Si por ejemplo esta similaridad la definimos como la distacia euclidea, tendremos que dos vectores que representan palabras con significados similares les separará una distancia pequeña frente a pares de palabras con significados dispares que les separará una distancia muy grande.\n",
    "\n",
    "\n",
    "* Dos técnicas que se suelen utilizar para realizar este tipo de cálculo de características latentes de las palabras son:\n",
    "\n",
    "    + Word2Vec\n",
    "    + GloVe\n",
    "    \n",
    "    \n",
    "* Este tipo de representación de las palabras viene muy bien para las RNN y en particular para las LSTM ya que cada palabra representada como un vector denso (y con sentido contextual frente a palabras similares entre sí) puede ser tomada como una entrada en una secuencia (que lo es) dentro de un documento.\n",
    "\n",
    "\n",
    "* Veamos a continuación un sencillo ejemplo a partir del siguiente corpus"
   ]
  },
  {
   "cell_type": "code",
   "execution_count": 16,
   "metadata": {},
   "outputs": [],
   "source": [
    "corpus = ['Hola me llamo Ricardo',\n",
    "          'Hola me dicen Ricardo',\n",
    "          'Saludos desde este Notebook llamado LSTM']"
   ]
  },
  {
   "cell_type": "markdown",
   "metadata": {},
   "source": [
    "* Codificamos las palabras"
   ]
  },
  {
   "cell_type": "code",
   "execution_count": 17,
   "metadata": {},
   "outputs": [
    {
     "name": "stdout",
     "output_type": "stream",
     "text": [
      "[56, 20, 95, 87]\n",
      "[56, 20, 70, 87]\n",
      "[26, 14, 10, 68, 79, 36]\n"
     ]
    }
   ],
   "source": [
    "from tensorflow.keras.preprocessing.text import one_hot\n",
    "\n",
    "VOCAB_SIZE = 100\n",
    "corpus_ohe = [one_hot(doc, VOCAB_SIZE) for doc in corpus]\n",
    "for i in corpus_ohe:\n",
    "    print(i)"
   ]
  },
  {
   "cell_type": "markdown",
   "metadata": {},
   "source": [
    "* Las pasamos a secuncias de tamaó fijo"
   ]
  },
  {
   "cell_type": "code",
   "execution_count": 18,
   "metadata": {},
   "outputs": [
    {
     "data": {
      "text/plain": [
       "array([[56, 20, 95, 87,  0,  0],\n",
       "       [56, 20, 70, 87,  0,  0],\n",
       "       [26, 14, 10, 68, 79, 36]], dtype=int32)"
      ]
     },
     "execution_count": 18,
     "metadata": {},
     "output_type": "execute_result"
    }
   ],
   "source": [
    "from tensorflow.keras.preprocessing.sequence import pad_sequences\n",
    "\n",
    "MAX_WORDS_DOC = 6\n",
    "pad_corpus = pad_sequences(corpus_ohe, maxlen=MAX_WORDS_DOC, padding='post')\n",
    "pad_corpus"
   ]
  },
  {
   "cell_type": "markdown",
   "metadata": {},
   "source": [
    "### Resultados del Embedding\n",
    "\n",
    "* Para realizar esta representación, TensorFlow nos proporciona la clase \"Embedding()\" que tiene como importantes los siguientes parámetros:\n",
    "\n",
    "    + ***input_dim***: Número de codificaciones distintas que pueden tener las palabras de nuestro corpus.\n",
    "    + ***output_dim***: Número de características que queremos que tenga el vector que represente a las palabras.\n",
    "    + ***input_length***: Máximo número de palabras en un documento.\n",
    "    \n",
    "    \n",
    "* Para más información ver la documentación en el siguiente enlace:<br>https://www.tensorflow.org/api_docs/python/tf/keras/layers/Embedding"
   ]
  },
  {
   "cell_type": "code",
   "execution_count": 19,
   "metadata": {},
   "outputs": [
    {
     "name": "stdout",
     "output_type": "stream",
     "text": [
      "Model: \"functional_1\"\n",
      "_________________________________________________________________\n",
      "Layer (type)                 Output Shape              Param #   \n",
      "=================================================================\n",
      "input_1 (InputLayer)         [(None, 6)]               0         \n",
      "_________________________________________________________________\n",
      "embedding_1 (Embedding)      (None, 6, 2)              200       \n",
      "_________________________________________________________________\n",
      "flatten (Flatten)            (None, 12)                0         \n",
      "=================================================================\n",
      "Total params: 200\n",
      "Trainable params: 200\n",
      "Non-trainable params: 0\n",
      "_________________________________________________________________\n"
     ]
    }
   ],
   "source": [
    "from tensorflow.keras.layers import Input, Embedding, Flatten\n",
    "from tensorflow.keras.models import Model\n",
    "\n",
    "WORD_VECTOR_DIMENSION = 2\n",
    "\n",
    "words_input=Input(shape=(MAX_WORDS_DOC,),dtype='float64')  \n",
    "\n",
    "# Creamos el Embedding\n",
    "word_embedding=Embedding(input_dim=VOCAB_SIZE, \n",
    "                         output_dim=WORD_VECTOR_DIMENSION, \n",
    "                         input_length=MAX_WORDS_DOC)(words_input)\n",
    "\n",
    "word_vec=Flatten()(word_embedding)\n",
    "\n",
    "model = Model(inputs=[words_input],\n",
    "              outputs=word_vec) \n",
    "\n",
    "# Imprimimos el modelo\n",
    "model.summary()"
   ]
  },
  {
   "cell_type": "markdown",
   "metadata": {},
   "source": [
    "* Compilamos el modelo ya que estamos ejecutando una Red Neuronal"
   ]
  },
  {
   "cell_type": "code",
   "execution_count": 20,
   "metadata": {},
   "outputs": [],
   "source": [
    "model.compile(optimizer='adam', loss='binary_crossentropy', metrics=['acc']) "
   ]
  },
  {
   "cell_type": "markdown",
   "metadata": {},
   "source": [
    "* Obtenemos los vectores de características haciendo un \"*predict()*\" sobre el corpus con el modelo generado."
   ]
  },
  {
   "cell_type": "code",
   "execution_count": 21,
   "metadata": {},
   "outputs": [],
   "source": [
    "doc_embeddings=model.predict(pad_corpus)"
   ]
  },
  {
   "cell_type": "markdown",
   "metadata": {},
   "source": [
    "* Vamos a obtener los vectores de las palabras de los documentos del corpus, cuyos documentos tienen un tamaño fijo de 6 palabras:"
   ]
  },
  {
   "cell_type": "code",
   "execution_count": 22,
   "metadata": {},
   "outputs": [
    {
     "name": "stdout",
     "output_type": "stream",
     "text": [
      "\n",
      "Codificación de las 6 palabras del documento 1\n",
      "[[-0.04458505  0.01915492]\n",
      " [-0.00106191  0.00738738]\n",
      " [-0.00715587 -0.02241389]\n",
      " [ 0.00729754 -0.01601592]\n",
      " [ 0.04798932 -0.033119  ]\n",
      " [ 0.04798932 -0.033119  ]]\n",
      "\n",
      "Codificación de las 6 palabras del documento 2\n",
      "[[-0.04458505  0.01915492]\n",
      " [-0.00106191  0.00738738]\n",
      " [ 0.00116996 -0.0283288 ]\n",
      " [ 0.00729754 -0.01601592]\n",
      " [ 0.04798932 -0.033119  ]\n",
      " [ 0.04798932 -0.033119  ]]\n",
      "\n",
      "Codificación de las 6 palabras del documento 3\n",
      "[[-0.04607175 -0.02939472]\n",
      " [-0.02015271 -0.0140027 ]\n",
      " [ 0.0270301   0.02316806]\n",
      " [-0.01433291 -0.02727897]\n",
      " [-0.00919271  0.00662961]\n",
      " [-0.01762461  0.00223926]]\n"
     ]
    }
   ],
   "source": [
    "word_embeddings=doc_embeddings.reshape(-1, MAX_WORDS_DOC, WORD_VECTOR_DIMENSION)\n",
    "for i, doc in enumerate(word_embeddings):\n",
    "    print(\"\\nCodificación de las 6 palabras del documento {}\".format(i+1))\n",
    "    print(doc)"
   ]
  },
  {
   "cell_type": "markdown",
   "metadata": {},
   "source": [
    "* A continuación obtenemos la codificación de los documentos que no es más que la concatenación de los valores de las características de las palabras que forman el documento:"
   ]
  },
  {
   "cell_type": "code",
   "execution_count": 23,
   "metadata": {},
   "outputs": [
    {
     "name": "stdout",
     "output_type": "stream",
     "text": [
      "\n",
      "Codificación del documento 1\n",
      "[-0.04458505  0.01915492 -0.00106191  0.00738738 -0.00715587 -0.02241389\n",
      "  0.00729754 -0.01601592  0.04798932 -0.033119    0.04798932 -0.033119  ]\n",
      "\n",
      "Codificación del documento 2\n",
      "[-0.04458505  0.01915492 -0.00106191  0.00738738  0.00116996 -0.0283288\n",
      "  0.00729754 -0.01601592  0.04798932 -0.033119    0.04798932 -0.033119  ]\n",
      "\n",
      "Codificación del documento 3\n",
      "[-0.04607175 -0.02939472 -0.02015271 -0.0140027   0.0270301   0.02316806\n",
      " -0.01433291 -0.02727897 -0.00919271  0.00662961 -0.01762461  0.00223926]\n"
     ]
    }
   ],
   "source": [
    "for i, doc in enumerate(doc_embeddings):\n",
    "    print(\"\\nCodificación del documento {}\".format(i+1))\n",
    "    print(doc)"
   ]
  }
 ],
 "metadata": {
  "kernelspec": {
   "display_name": "Python 3",
   "language": "python",
   "name": "python3"
  },
  "language_info": {
   "codemirror_mode": {
    "name": "ipython",
    "version": 3
   },
   "file_extension": ".py",
   "mimetype": "text/x-python",
   "name": "python",
   "nbconvert_exporter": "python",
   "pygments_lexer": "ipython3",
   "version": "3.7.9"
  }
 },
 "nbformat": 4,
 "nbformat_minor": 2
}
