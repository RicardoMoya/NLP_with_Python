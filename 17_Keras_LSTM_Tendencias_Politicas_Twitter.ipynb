{
 "cells": [
  {
   "cell_type": "markdown",
   "metadata": {},
   "source": [
    "# 17 - Keras: Clasificación de tendencias politicas en tweets con LSTM (Long Short-Term Memory)\n",
    "\n",
    "* En este notebook vamos a clasificar una serie de tweets etiquetados por un partido político (psoe, pp, vox, podemos y ciudadanos) que corresponden a la tendencia politica de la cuenta que publicó ese tweet,\n",
    "\n",
    "\n",
    "* El ejercicio que vamos a realizar a continuación es muy similar al realizado en el notebook *13_PoC_Tendencias_Politicas_Twitter_Generacion_Exportacion_Modelos.ipynb* y *16_Keras_MLP_Tendencias_Politicas_Twitter.ipynb* y se pueden comparar los resultados que vamos a obtener con este tipo de ***Redes Neuronales Recurrentes, las LSTM***\n",
    "\n",
    "\n",
    "* Los pasos que vamos a dar son los siguientes:\n",
    "\n",
    "    1. Cargar los datos\n",
    "    2. Normalizar los tweets (igual que en el notebooks anteriormente descritos)\n",
    "    3. Particionado de datos (Train y Test)\n",
    "    4. One-Hot Encoding y codificación del target\n",
    "    5. Creacción de las secuencias de palabras\n",
    "    5. Definición de la Red Neuronal\n",
    "    6. Entrenamiento de la Red Neuronal\n",
    "    7. Evaluación del modelo\n",
    "    \n",
    "    \n",
    "<hr>\n",
    "\n",
    "\n",
    "\n",
    "## Carga de Datos\n",
    "\n",
    "\n",
    "* El fichero que contiene los tweets lo podemos leer como un '*csv*' con pandas pasandole como separador '***::::***'.\n",
    "\n",
    "\n",
    "* Este fichero esta estructurado de la siguiente manera\n",
    "    - **Cuenta**: Cuenta de twitter\n",
    "    - **Partido**: Partido político al que pertenece (ciudadanos, podemos, pp, psoe)\n",
    "    - **Timestamp**: Instante en el que se publicó el tweet\n",
    "    - **Tweet**: Tweet.\n",
    "    \n",
    "    \n",
    "* Leemos los datos y mostramos una muestra:"
   ]
  },
  {
   "cell_type": "code",
   "execution_count": 1,
   "metadata": {},
   "outputs": [
    {
     "name": "stdout",
     "output_type": "stream",
     "text": [
      "Número de Tweets Cargados: 65305\n",
      "Número de Tweets a procesar: 24960\n"
     ]
    },
    {
     "data": {
      "text/html": [
       "<div>\n",
       "<style scoped>\n",
       "    .dataframe tbody tr th:only-of-type {\n",
       "        vertical-align: middle;\n",
       "    }\n",
       "\n",
       "    .dataframe tbody tr th {\n",
       "        vertical-align: top;\n",
       "    }\n",
       "\n",
       "    .dataframe thead th {\n",
       "        text-align: right;\n",
       "    }\n",
       "</style>\n",
       "<table border=\"1\" class=\"dataframe\">\n",
       "  <thead>\n",
       "    <tr style=\"text-align: right;\">\n",
       "      <th></th>\n",
       "      <th>cuenta</th>\n",
       "      <th>partido</th>\n",
       "      <th>timestamp</th>\n",
       "      <th>tweet</th>\n",
       "    </tr>\n",
       "  </thead>\n",
       "  <tbody>\n",
       "    <tr>\n",
       "      <th>24770</th>\n",
       "      <td>pablocasado_</td>\n",
       "      <td>pp</td>\n",
       "      <td>1.572517e+09</td>\n",
       "      <td>1979 Suárez: 1as elecciones democráticas1989 G...</td>\n",
       "    </tr>\n",
       "    <tr>\n",
       "      <th>39314</th>\n",
       "      <td>PSOE</td>\n",
       "      <td>psoe</td>\n",
       "      <td>1.578831e+09</td>\n",
       "      <td>💼 Juan Carlos Campo: Ministro de Justicia. ( @...</td>\n",
       "    </tr>\n",
       "    <tr>\n",
       "      <th>21553</th>\n",
       "      <td>sanchezcastejon</td>\n",
       "      <td>psoe</td>\n",
       "      <td>1.571310e+09</td>\n",
       "      <td>En la reunión del Comité de seguimiento de la ...</td>\n",
       "    </tr>\n",
       "    <tr>\n",
       "      <th>6021</th>\n",
       "      <td>InesArrimadas</td>\n",
       "      <td>ciudadanos</td>\n",
       "      <td>1.562482e+09</td>\n",
       "      <td>El Ministro se comporta como un incendiario ir...</td>\n",
       "    </tr>\n",
       "    <tr>\n",
       "      <th>12771</th>\n",
       "      <td>PSOE</td>\n",
       "      <td>psoe</td>\n",
       "      <td>1.567159e+09</td>\n",
       "      <td>🗣️@CelaaIsabel: Todo indica que nos enfrentare...</td>\n",
       "    </tr>\n",
       "    <tr>\n",
       "      <th>44615</th>\n",
       "      <td>PSOE</td>\n",
       "      <td>psoe</td>\n",
       "      <td>1.580400e+09</td>\n",
       "      <td>⏰ 19:30📍 Salón de actos del CC Villa de Baraja...</td>\n",
       "    </tr>\n",
       "    <tr>\n",
       "      <th>13277</th>\n",
       "      <td>pablocasado_</td>\n",
       "      <td>pp</td>\n",
       "      <td>1.567861e+09</td>\n",
       "      <td>Me preocupa la fractura que empieza a haber en...</td>\n",
       "    </tr>\n",
       "    <tr>\n",
       "      <th>12331</th>\n",
       "      <td>populares</td>\n",
       "      <td>pp</td>\n",
       "      <td>1.567085e+09</td>\n",
       "      <td>▶ @cayetanaAT en el #PlenoExtraordinario 👉 \"Se...</td>\n",
       "    </tr>\n",
       "    <tr>\n",
       "      <th>7235</th>\n",
       "      <td>TeresaRodr_</td>\n",
       "      <td>podemos</td>\n",
       "      <td>1.562958e+09</td>\n",
       "      <td>@gines_rico No invente, señor. No he dicho eso...</td>\n",
       "    </tr>\n",
       "    <tr>\n",
       "      <th>42605</th>\n",
       "      <td>populares</td>\n",
       "      <td>pp</td>\n",
       "      <td>1.579868e+09</td>\n",
       "      <td>Hay actitudes que lo dicen todo.#ÁbalosDimisió...</td>\n",
       "    </tr>\n",
       "  </tbody>\n",
       "</table>\n",
       "</div>"
      ],
      "text/plain": [
       "                cuenta     partido     timestamp  \\\n",
       "24770     pablocasado_          pp  1.572517e+09   \n",
       "39314             PSOE        psoe  1.578831e+09   \n",
       "21553  sanchezcastejon        psoe  1.571310e+09   \n",
       "6021     InesArrimadas  ciudadanos  1.562482e+09   \n",
       "12771             PSOE        psoe  1.567159e+09   \n",
       "44615             PSOE        psoe  1.580400e+09   \n",
       "13277     pablocasado_          pp  1.567861e+09   \n",
       "12331        populares          pp  1.567085e+09   \n",
       "7235       TeresaRodr_     podemos  1.562958e+09   \n",
       "42605        populares          pp  1.579868e+09   \n",
       "\n",
       "                                                   tweet  \n",
       "24770  1979 Suárez: 1as elecciones democráticas1989 G...  \n",
       "39314  💼 Juan Carlos Campo: Ministro de Justicia. ( @...  \n",
       "21553  En la reunión del Comité de seguimiento de la ...  \n",
       "6021   El Ministro se comporta como un incendiario ir...  \n",
       "12771  🗣️@CelaaIsabel: Todo indica que nos enfrentare...  \n",
       "44615  ⏰ 19:30📍 Salón de actos del CC Villa de Baraja...  \n",
       "13277  Me preocupa la fractura que empieza a haber en...  \n",
       "12331  ▶ @cayetanaAT en el #PlenoExtraordinario 👉 \"Se...  \n",
       "7235   @gines_rico No invente, señor. No he dicho eso...  \n",
       "42605  Hay actitudes que lo dicen todo.#ÁbalosDimisió...  "
      ]
     },
     "execution_count": 1,
     "metadata": {},
     "output_type": "execute_result"
    }
   ],
   "source": [
    "import pandas as pd\n",
    "\n",
    "TWEETS_FILE = './data/tweets_politica_5P.csv'\n",
    "df = pd.read_csv(TWEETS_FILE, sep='::::', engine='python')\n",
    "\n",
    "# Eliminamos los tweets que tengan algún valor a nulo\n",
    "df = df.dropna()\n",
    "print('Número de Tweets Cargados: {num}'.format(num=df.shape[0]))\n",
    "\n",
    "# Filtramos las cuentas de los partidos politicos y representantes\n",
    "CUENTAS = [\"PSOE\", \"sanchezcastejon\",\n",
    "           \"populares\", \"pablocasado_\",\n",
    "           \"vox_es\", \"Santi_ABASCAL\", \"Jorgebuxade\",\n",
    "           \"PODEMOS\", \"PabloIglesias\", \"MiguelUrban\", \"pnique\", \"TeresaRodr_\",\n",
    "           \"CiudadanosCs\", \"InesArrimadas\"]\n",
    "df = df[df['cuenta'].isin(CUENTAS)]\n",
    "\n",
    "# Nos quedamos solo con el nombre del partido y el tweet\n",
    "tweets = [tuple(x) for x in df[['tweet', 'partido']].values]\n",
    "\n",
    "# Imprimimos el número de tweets a procesar\n",
    "print('Número de Tweets a procesar: {num}'.format(num=df.shape[0]))\n",
    "df.sample(10)"
   ]
  },
  {
   "cell_type": "markdown",
   "metadata": {},
   "source": [
    "* Tweets publicados por partido político"
   ]
  },
  {
   "cell_type": "code",
   "execution_count": 2,
   "metadata": {},
   "outputs": [
    {
     "data": {
      "text/html": [
       "<div>\n",
       "<style scoped>\n",
       "    .dataframe tbody tr th:only-of-type {\n",
       "        vertical-align: middle;\n",
       "    }\n",
       "\n",
       "    .dataframe tbody tr th {\n",
       "        vertical-align: top;\n",
       "    }\n",
       "\n",
       "    .dataframe thead th {\n",
       "        text-align: right;\n",
       "    }\n",
       "</style>\n",
       "<table border=\"1\" class=\"dataframe\">\n",
       "  <thead>\n",
       "    <tr style=\"text-align: right;\">\n",
       "      <th></th>\n",
       "      <th>partido</th>\n",
       "      <th>tweet</th>\n",
       "    </tr>\n",
       "  </thead>\n",
       "  <tbody>\n",
       "    <tr>\n",
       "      <th>3</th>\n",
       "      <td>psoe</td>\n",
       "      <td>6123</td>\n",
       "    </tr>\n",
       "    <tr>\n",
       "      <th>1</th>\n",
       "      <td>podemos</td>\n",
       "      <td>5055</td>\n",
       "    </tr>\n",
       "    <tr>\n",
       "      <th>2</th>\n",
       "      <td>pp</td>\n",
       "      <td>4837</td>\n",
       "    </tr>\n",
       "    <tr>\n",
       "      <th>4</th>\n",
       "      <td>vox</td>\n",
       "      <td>4722</td>\n",
       "    </tr>\n",
       "    <tr>\n",
       "      <th>0</th>\n",
       "      <td>ciudadanos</td>\n",
       "      <td>4223</td>\n",
       "    </tr>\n",
       "  </tbody>\n",
       "</table>\n",
       "</div>"
      ],
      "text/plain": [
       "      partido  tweet\n",
       "3        psoe   6123\n",
       "1     podemos   5055\n",
       "2          pp   4837\n",
       "4         vox   4722\n",
       "0  ciudadanos   4223"
      ]
     },
     "execution_count": 2,
     "metadata": {},
     "output_type": "execute_result"
    }
   ],
   "source": [
    "df.groupby('partido')['tweet'].count().reset_index().sort_values(by='tweet', ascending=False)"
   ]
  },
  {
   "cell_type": "markdown",
   "metadata": {},
   "source": [
    "<hr>\n",
    "\n",
    "\n",
    "## Normalización\n",
    "\n",
    "\n",
    "* Utilizamos ***spaCy*** para la tokenización y normalización.\n",
    "\n",
    "\n",
    "* Tras realizar un análisis del contenido de los tweets pasamos a realizar las siguientes acciones para ***normalizar*** los tweets:\n",
    "    1. Pasamos las frases a minúsculas.\n",
    "    2. Sustituimos los puntos por espacios ya que hay muchas palabras unidas por un punto\n",
    "    3. Quitamos la almuhadilla de los hashtags para considerarlos como palabras.\n",
    "    4. Eliminamos los signos de puntuación.\n",
    "    5. Eliminamos los enlaces(http) y las menciones (@)\n",
    "    6. Pasamos la palabra a su lema\n",
    "\n",
    "\n",
    "* Todos estos pasos los vamos a realizar en una misma función.\n",
    "\n",
    "\n",
    "* ***NOTA***: Cuando trabajamos con Redes Neuronales Recurrentes y en especial con las LSTM aplicado al Procesamiento del Lenguaje Natural, no solo nos interesa saber las palabras que componen un tweet (o documento), si no tambien la secuencia de esas palabras dentro de la frase, por ese motivo ***vamos a tratar los tweets como secuencias de palabras y no como bolsas de palabras*** (como haciamos en los ejemplos anteriores). Por tanto no vamos a eliminar las palabras con menos de 3 caracteres ni las stop-words."
   ]
  },
  {
   "cell_type": "code",
   "execution_count": 3,
   "metadata": {},
   "outputs": [],
   "source": [
    "import numpy as np\n",
    "import spacy\n",
    "nlp = spacy.load('es_core_news_sm')\n",
    "\n",
    "# Divido los datos en dos listas \n",
    "#     X: los tweets\n",
    "#     y: target (polaridad)\n",
    "\n",
    "X = [doc[0] for doc in tweets]\n",
    "y = np.array([doc[1] for doc in tweets])\n",
    "\n",
    "def normalize(sentenses):\n",
    "    \"\"\"normalizamos la lista de frases y devolvemos la misma lista de frases normalizada\"\"\"\n",
    "    for index, sentense in enumerate(sentenses):\n",
    "        # Tokenizamos el tweets realizando los puntos 1,2 y 3.\n",
    "        sentense = nlp(sentense.lower().replace('.', ' ').replace('#', ' ').strip())\n",
    "        # Puntos 4,5 y 6\n",
    "        sentenses[index] = ' '.join([word.lemma_ for word in sentense if (not word.is_punct)\n",
    "                             and (not word.text.startswith('@'))\n",
    "                             and (not word.text.startswith('http'))\n",
    "                             and (not ':' in word.text)])\n",
    "    return sentenses\n",
    "\n",
    "# Normalizamos las frases\n",
    "X_norm = normalize(X)"
   ]
  },
  {
   "cell_type": "markdown",
   "metadata": {},
   "source": [
    "<hr>\n",
    "\n",
    "\n",
    "## Particionado de Datos (Train y Test)\n",
    "\n",
    "* Vamos a particionar los datos en conjunto de Train y Test.\n",
    "\n",
    "\n",
    "* Para este ejemplo nos vamos a quedar con:\n",
    "    - 90% de datos de entrenamiento\n",
    "    - 10% de datos de test"
   ]
  },
  {
   "cell_type": "code",
   "execution_count": 4,
   "metadata": {},
   "outputs": [
    {
     "name": "stdout",
     "output_type": "stream",
     "text": [
      "Número de Tweets para el entrenamiento: 22464\n",
      "Número de Tweets para el test: 2496\n"
     ]
    }
   ],
   "source": [
    "from sklearn.model_selection import train_test_split  \n",
    "\n",
    "X_train, X_test, y_train, y_test = train_test_split(X_norm, y, test_size=0.1, random_state=0)\n",
    "\n",
    "print('Número de Tweets para el entrenamiento: {num}'.format(num=len(X_train)))\n",
    "print('Número de Tweets para el test: {num}'.format(num=len(X_test)))"
   ]
  },
  {
   "cell_type": "markdown",
   "metadata": {},
   "source": [
    "<hr>\n",
    "\n",
    "\n",
    "## One-Hot Encoding y codificación del target\n",
    "\n",
    "\n",
    "* Con las Redes Neuronales Recurrentes vamos a tratar los tweets como secuencias de palabras y por tanto tenemos que realizar una codificación de todas palabras que aparecen en los tweets.\n",
    "\n",
    "\n",
    "* Para ello Keras nos proporciona una función llamada \"one_hot\" que dado un texto y el tamaño que tendrá nuestro vocabulario, nos codifica el texto por palabras. En el siguiente enlace esta la documentación de esta función:<br>\n",
    "https://keras.io/preprocessing/text/#one_hot\n",
    "\n",
    "\n",
    "* Veamos a continuación un ejemplo de como codificamos los textos:\n",
    "\n",
    "\n",
    "```python\n",
    "one_hot(\"Esto es un ejemplo de onehot encoding\", 100)\n",
    "```\n",
    "\n",
    "```ssh\n",
    ">> [6, 88, 30, 81, 31, 52, 22]\n",
    "```\n",
    "\n",
    "* Si realizamos una codificación de un string que continene palabras identicas, nos lo codifica con el mismo identificador como es de esperar:\n",
    "\n",
    "```python\n",
    "one_hot(\"Esto es otro ejemplo\", 100)\n",
    "```\n",
    "\n",
    "```ssh\n",
    ">> [6, 88, 79, 81]\n",
    "```\n",
    "\n",
    "\n",
    "* Por tanto vemos como utiliza identificadores numéricos del 1 al 100 para codificar las palabras de los strings:\n",
    "\n",
    "    + \"Esto\" = 6\n",
    "    + \"es\" = 88\n",
    "    + \"un\" = 30\n",
    "    + \"ejemplo\" = 81\n",
    "    + \"de\" = 31\n",
    "    + \"onehot\" = 52\n",
    "    + \"encoding\" = 22\n",
    "    + \"otro\" = 79\n",
    "    \n",
    "    \n",
    "* Los identificadores que asigna a las palabras los obtiene aplicando una función \"*hash*\" a las palabras, de ahí que no sea necesario crear un \"modelo\" de \"one-hot Encode\" (como en scikit) para codificar otros strings (strings a predecir). \n",
    "\n",
    "\n",
    "* Lo único que hay que respetar para que nos codifique una misma palabra con el mismo identificador es el ***tamaño del vocabulario 'n'*** que se le pasa a la función \"*one_hot(text, n)*\" que en el ejemplo puesto anteriormente tiene valor *100*.\n",
    "\n",
    "\n",
    "* Este valor '*n*' del vocabulario debe de tener (a priori) un valor lo suficientemente grande como para poder codificar todas las posibles palabras que podamos utilizar en una lengua (Español, Inglés, Alemán, etc.).\n",
    "\n",
    "\n",
    "* El último paso que vamos a realizar es la codificación del nombre del partido político utilizando la clase \"LabelEncoder()\" de scikit.\n",
    "    "
   ]
  },
  {
   "cell_type": "code",
   "execution_count": 5,
   "metadata": {},
   "outputs": [
    {
     "name": "stderr",
     "output_type": "stream",
     "text": [
      "Using TensorFlow backend.\n"
     ]
    }
   ],
   "source": [
    "from sklearn.preprocessing import LabelEncoder\n",
    "from keras.preprocessing.text import one_hot\n",
    "\n",
    "# Hacemos un one-hot encoder del texto\n",
    "VOCAB_SIZE = 100000 # Poner un valor muy alto\n",
    "X_train = [one_hot(doc, VOCAB_SIZE) for doc in X_train]\n",
    "X_test = [one_hot(doc, VOCAB_SIZE) for doc in X_test]\n",
    "\n",
    "# Codificación del Target\n",
    "encoder = LabelEncoder()\n",
    "encoder.fit(y_train)\n",
    "y_train = encoder.transform(y_train)\n",
    "y_test = encoder.transform(y_test)"
   ]
  },
  {
   "cell_type": "markdown",
   "metadata": {},
   "source": [
    "<hr>\n",
    "\n",
    "\n",
    "## Creacción de las secuencias de palabras\n",
    "\n",
    "\n",
    "* Las Redes Neuronales necesitan un tamaño fijo de entrada y los tweets tienen un número variable de palabras, por lo que hay que hay que transformar los tweets a secuencias de palabras de tamaño fijo.\n",
    "\n",
    "\n",
    "* Para realizar esta labor, keras nos proporciona la función \"*pad_sequences(sequences, maxlen)*\" que dada una lista de secuencias nos devuelve esa secuencia con el tapaño que le hayamos indicado como parámetro, rellenando en caso de que la secuencia sea de mayor tamaño con algún valor por defecto (en principio a cero). En el siguiente enlace esta la documentación de esta función:<br>\n",
    "https://keras.io/preprocessing/sequence/#pad_sequences\n",
    "\n",
    "\n",
    "* Un ejemplo de esta función sería la siguiente, en el que indicamos que nos devuelva las secuencias que le pasamos como parámetro con un tamaño de '10' posiciones y rellenando las posiciones faltantes con ceros (value=0) añadiendolos al final de la secuencia (padding='post'):\n",
    "\n",
    "```python\n",
    "sequences = [[6, 88, 30, 81, 31, 52, 22], [6, 88, 79, 81]]\n",
    "pad_sequences(sequences=sequences, maxlen=10, padding='post', value=0)\n",
    "```\n",
    "\n",
    "\n",
    "```ssh\n",
    "array([[ 6, 88, 30, 81, 31, 52, 22,  0,  0,  0],\n",
    "       [ 6, 88, 79, 81,  0,  0,  0,  0,  0,  0]], dtype=int32)\n",
    "```\n",
    "\n",
    "\n",
    "* A continuación pasamos a crear las secuencias de los tweets (50 elementos) tanto de entrenamiento como de test:\n"
   ]
  },
  {
   "cell_type": "code",
   "execution_count": 6,
   "metadata": {},
   "outputs": [],
   "source": [
    "from keras.preprocessing.sequence import pad_sequences\n",
    "\n",
    "MAX_WORDS_TWEET = 50\n",
    "pad_corpus_train = pad_sequences(X_train, maxlen=MAX_WORDS_TWEET, padding='post')\n",
    "pad_corpus_test = pad_sequences(X_test, maxlen=MAX_WORDS_TWEET, padding='post')"
   ]
  },
  {
   "cell_type": "markdown",
   "metadata": {},
   "source": [
    "<hr>\n",
    "\n",
    "\n",
    "# Definición de la Red Neuronal\n",
    "\n",
    "\n",
    "* La arquitectura de la red para la clasificación de las tendencias políticas es la siguiente:\n",
    "<span></span><br><br>\n",
    "    - ***Capa Embedding***: Capa de Embedding que soportará un tamaño de 100.000 palabras (VOCAB_SIZE) y cada palabra estará representada por 32 características (EMBEDDING_SIZE). -*ver Bonus Track II*-\n",
    "<span></span><br><br>\n",
    "    - ***Capa LSTM***: Capa LSTM con 32 celdas de memoria. Son 32 por el tamaño de representación de la palabra (EMBEDDING_SIZE).\n",
    "<span></span><br><br>\n",
    "    - ***Capa 4***: Capa de salida con 5 neurona (una por tendencia política) y una función de activación 'softmax' para que nos \"normalice la salida\"\n",
    "    \n",
    "    \n",
    "* Para la capa de salida aplicamos un dropout del 20% para que nuestra red no se sobreajuste y generalize mejor\n",
    "\n",
    "\n",
    "* Por último vamos a compilar la red:\n",
    "<span></span><br><br>\n",
    "    - ***Función de perdida: 'categorical_crossentropy'*** (Funciones de Perdida: https://keras.io/losses/). En realidad usaremos la '*sparse_categorical_crossentropy*' ya que la salida no la hemos codificado con un one-hot encoding \\[\\[1,0,0,0,0\\], \\[0,1,0,0,0\\], ..., \\[0,0,0,0,1\\],\\] si no con un label encode \\[0,1,2,3,4\\].\n",
    "<span></span><br><br>\n",
    "    - ***Optimizador: 'adam'*** (Optimizadores: https://keras.io/optimizers/)\n",
    "<span></span><br><br>\n",
    "    - Metricas: en cada epoch pediremos que nos muestre el accuracy."
   ]
  },
  {
   "cell_type": "code",
   "execution_count": 7,
   "metadata": {},
   "outputs": [
    {
     "name": "stdout",
     "output_type": "stream",
     "text": [
      "Model: \"sequential_1\"\n",
      "_________________________________________________________________\n",
      "Layer (type)                 Output Shape              Param #   \n",
      "=================================================================\n",
      "embedding_1 (Embedding)      (None, None, 32)          3200000   \n",
      "_________________________________________________________________\n",
      "lstm_1 (LSTM)                (None, 32)                8320      \n",
      "_________________________________________________________________\n",
      "dropout_1 (Dropout)          (None, 32)                0         \n",
      "_________________________________________________________________\n",
      "dense_1 (Dense)              (None, 5)                 165       \n",
      "=================================================================\n",
      "Total params: 3,208,485\n",
      "Trainable params: 3,208,485\n",
      "Non-trainable params: 0\n",
      "_________________________________________________________________\n"
     ]
    }
   ],
   "source": [
    "from keras.layers import Dense, Dropout, Flatten, Input, LSTM\n",
    "from keras.layers.embeddings import Embedding\n",
    "from keras.models import Sequential\n",
    "\n",
    "EMBEDDING_SIZE = 32\n",
    "\n",
    "model = Sequential()\n",
    "model.add(Embedding(VOCAB_SIZE, EMBEDDING_SIZE))\n",
    "model.add(LSTM(EMBEDDING_SIZE))\n",
    "model.add(Dropout(0.2))\n",
    "model.add(Dense(5, activation='softmax'))\n",
    "model.compile(loss='sparse_categorical_crossentropy', optimizer='adam', metrics=['accuracy'])\n",
    "\n",
    "# Imprimimos la arquitectura de la red\n",
    "model.summary()"
   ]
  },
  {
   "cell_type": "markdown",
   "metadata": {},
   "source": [
    "* Parámetros a calcular en la red:\n",
    "    - Capa de Embedding: -> 100000 palabras * 32 caracterísiticas = 3200000\n",
    "    - Capa LSTM: 4*(32 * 32 + 32<sup>2</sup> + 32) = 8320\n",
    "    - Conexiones \"LSTM -> Capa salida\" = (32 * 5) + 5 = 165\n",
    "    \n",
    "    \n",
    "<hr>\n",
    "\n",
    "\n",
    "# Entrenamiento de la Red Neuronal\n",
    "\n",
    "\n",
    "* Vamos a entrenar la red con los siguientes parámetros:\n",
    "<span></span><br><br>\n",
    "    - *batch_size = 64* : Cada 64 tweets se calculan los nuevos pesos de la red\n",
    "<span></span><br><br>\n",
    "    - *epochs = 30*\n",
    "<span></span><br><br>\n",
    "    - *validation_split = datos de test* \n",
    "    \n",
    "\n",
    "* Dado que puede ser un entrenamiento muy pesado y que puede tardar varios minútos, vamos a utilizar la herramienta del \"Tensorboard\" para monitorizar la evolución de la función de perdida y el Accuracy.\n",
    "\n",
    "\n",
    "* Para más información sobre esta herramienta ver el siguiente enlace:<br>https://www.tensorflow.org/tensorboard\n",
    "\n",
    "\n",
    "* Básicamente lo que hacer Tensorboard es leer una serie de logs y representar esos logs por medio de una interfaz web.\n",
    "\n",
    "\n",
    "* Para representar la evolución de la función de perdida y el Accuracy, tenemos que escribir estos valores en un log que debemos guardarlos en una ruta conocida ('tensorboard_logs/FECHA_EJECUCION') y que generaremos  en el siguiente código.\n",
    "\n",
    "\n",
    "* Para instanciar el Tensorboard lo hacemos de la siguiente manera por consola, pasandole como parámetro la ruta donde se encuentran los logs: \n",
    "```ssh\n",
    ">> tensorboard --logdir ./tensorboard_logs/\n",
    "```\n",
    "\n",
    "* Una vez instanciado el Tensorboard nos indicará que abramos en el navegador el siguiente enlace:<br> http://localhost:6006/"
   ]
  },
  {
   "cell_type": "code",
   "execution_count": 8,
   "metadata": {
    "scrolled": false
   },
   "outputs": [
    {
     "name": "stderr",
     "output_type": "stream",
     "text": [
      "/opt/anaconda3/envs/python36_NLP/lib/python3.6/site-packages/tensorflow_core/python/framework/indexed_slices.py:424: UserWarning: Converting sparse IndexedSlices to a dense Tensor of unknown shape. This may consume a large amount of memory.\n",
      "  \"Converting sparse IndexedSlices to a dense Tensor of unknown shape. \"\n"
     ]
    },
    {
     "name": "stdout",
     "output_type": "stream",
     "text": [
      "Train on 22464 samples, validate on 2496 samples\n",
      "Epoch 1/30\n"
     ]
    },
    {
     "name": "stderr",
     "output_type": "stream",
     "text": [
      "/opt/anaconda3/envs/python36_NLP/lib/python3.6/site-packages/keras/callbacks/callbacks.py:95: RuntimeWarning: Method (on_train_batch_end) is slow compared to the batch update (0.257583). Check your callbacks.\n",
      "  % (hook_name, delta_t_median), RuntimeWarning)\n"
     ]
    },
    {
     "name": "stdout",
     "output_type": "stream",
     "text": [
      " - 25s - loss: 1.2071 - accuracy: 0.4703 - val_loss: 0.9068 - val_accuracy: 0.6058\n",
      "Epoch 2/30\n",
      " - 23s - loss: 0.7153 - accuracy: 0.7166 - val_loss: 0.7045 - val_accuracy: 0.7464\n",
      "Epoch 3/30\n",
      " - 23s - loss: 0.4493 - accuracy: 0.8481 - val_loss: 0.6794 - val_accuracy: 0.7596\n",
      "Epoch 4/30\n",
      " - 30s - loss: 0.2927 - accuracy: 0.9099 - val_loss: 0.6485 - val_accuracy: 0.8013\n",
      "Epoch 5/30\n",
      " - 29s - loss: 0.1952 - accuracy: 0.9457 - val_loss: 0.6832 - val_accuracy: 0.8041\n",
      "Epoch 6/30\n",
      " - 29s - loss: 0.1353 - accuracy: 0.9649 - val_loss: 0.8132 - val_accuracy: 0.7941\n",
      "Epoch 7/30\n",
      " - 26s - loss: 0.0943 - accuracy: 0.9767 - val_loss: 0.7565 - val_accuracy: 0.8069\n",
      "Epoch 8/30\n",
      " - 25s - loss: 0.0745 - accuracy: 0.9840 - val_loss: 0.8517 - val_accuracy: 0.8037\n",
      "Epoch 9/30\n",
      " - 25s - loss: 0.0574 - accuracy: 0.9869 - val_loss: 0.8257 - val_accuracy: 0.8141\n",
      "Epoch 10/30\n",
      " - 26s - loss: 0.0477 - accuracy: 0.9900 - val_loss: 0.8058 - val_accuracy: 0.8061\n",
      "Epoch 11/30\n",
      " - 26s - loss: 0.0393 - accuracy: 0.9912 - val_loss: 0.9178 - val_accuracy: 0.8097\n",
      "Epoch 12/30\n",
      " - 26s - loss: 0.0372 - accuracy: 0.9918 - val_loss: 0.9028 - val_accuracy: 0.8189\n",
      "Epoch 13/30\n",
      " - 25s - loss: 0.0384 - accuracy: 0.9911 - val_loss: 0.8101 - val_accuracy: 0.8089\n",
      "Epoch 14/30\n",
      " - 26s - loss: 0.0390 - accuracy: 0.9910 - val_loss: 0.8584 - val_accuracy: 0.8189\n",
      "Epoch 15/30\n",
      " - 25s - loss: 0.0281 - accuracy: 0.9937 - val_loss: 0.9806 - val_accuracy: 0.8085\n",
      "Epoch 16/30\n",
      " - 25s - loss: 0.0268 - accuracy: 0.9938 - val_loss: 0.9059 - val_accuracy: 0.8101\n",
      "Epoch 17/30\n",
      " - 25s - loss: 0.0255 - accuracy: 0.9943 - val_loss: 0.9069 - val_accuracy: 0.8221\n",
      "Epoch 18/30\n",
      " - 25s - loss: 0.0223 - accuracy: 0.9946 - val_loss: 1.0029 - val_accuracy: 0.8021\n",
      "Epoch 19/30\n",
      " - 21s - loss: 0.0202 - accuracy: 0.9951 - val_loss: 0.9681 - val_accuracy: 0.8081\n",
      "Epoch 20/30\n",
      " - 20s - loss: 0.0201 - accuracy: 0.9953 - val_loss: 0.9308 - val_accuracy: 0.8101\n",
      "Epoch 21/30\n",
      " - 21s - loss: 0.0191 - accuracy: 0.9954 - val_loss: 0.9878 - val_accuracy: 0.7849\n",
      "Epoch 22/30\n",
      " - 21s - loss: 0.0229 - accuracy: 0.9947 - val_loss: 1.1155 - val_accuracy: 0.7969\n",
      "Epoch 23/30\n",
      " - 21s - loss: 0.0267 - accuracy: 0.9935 - val_loss: 1.0093 - val_accuracy: 0.8041\n",
      "Epoch 24/30\n",
      " - 22s - loss: 0.0102 - accuracy: 0.9976 - val_loss: 1.0137 - val_accuracy: 0.8093\n",
      "Epoch 25/30\n",
      " - 21s - loss: 0.0145 - accuracy: 0.9964 - val_loss: 1.1743 - val_accuracy: 0.7961\n",
      "Epoch 26/30\n",
      " - 21s - loss: 0.0179 - accuracy: 0.9955 - val_loss: 0.9583 - val_accuracy: 0.8105\n",
      "Epoch 27/30\n",
      " - 21s - loss: 0.0292 - accuracy: 0.9928 - val_loss: 1.1809 - val_accuracy: 0.7909\n",
      "Epoch 28/30\n",
      " - 20s - loss: 0.0129 - accuracy: 0.9963 - val_loss: 1.0458 - val_accuracy: 0.8073\n",
      "Epoch 29/30\n",
      " - 21s - loss: 0.0126 - accuracy: 0.9968 - val_loss: 1.1237 - val_accuracy: 0.7957\n",
      "Epoch 30/30\n",
      " - 21s - loss: 0.0102 - accuracy: 0.9977 - val_loss: 1.1664 - val_accuracy: 0.7961\n"
     ]
    }
   ],
   "source": [
    "import datetime\n",
    "import os\n",
    "\n",
    "from keras.callbacks import TensorBoard\n",
    "\n",
    "now = datetime.datetime.now().strftime(\"%Y%m%d-%H%M%S\")\n",
    "os.makedirs('tensorboard_logs/{}'.format(now))\n",
    "path = os.path.join('tensorboard_logs', now)\n",
    "\n",
    "history=model.fit(pad_corpus_train, \n",
    "                  y_train, \n",
    "                  batch_size=64, \n",
    "                  epochs=30, \n",
    "                  validation_data=(pad_corpus_test, y_test), \n",
    "                  verbose=2,\n",
    "                  callbacks=[TensorBoard(log_dir=path,\n",
    "                                         histogram_freq=2,\n",
    "                                         write_graph=True,\n",
    "                                         write_images=True)])\n",
    "\n"
   ]
  },
  {
   "cell_type": "markdown",
   "metadata": {},
   "source": [
    "* Pintamos como evoluciona la función de perdida y el Accuracy por epoch tanto en entrenamiento como en test."
   ]
  },
  {
   "cell_type": "code",
   "execution_count": 9,
   "metadata": {},
   "outputs": [],
   "source": [
    "import matplotlib.pyplot as plt\n",
    "%matplotlib inline\n",
    "\n",
    "# Pintamos las métricas por epoch\n",
    "def plot_metric(history, name, remove_first=0):\n",
    "    metric_train = np.array(history.history[name])[remove_first:]\n",
    "    metric_test = np.array(history.history['val_{}'.format(name)])[remove_first:]\n",
    "    acum_avg_metric_train = (np.cumsum(metric_train) / (np.arange(metric_train.shape[-1]) + 1))[remove_first:]\n",
    "    acum_avg_metric_test = (np.cumsum(metric_test) / (np.arange(metric_test.shape[-1]) + 1))[remove_first:]\n",
    "    plt.figure(figsize=(20, 8))\n",
    "    plt.subplot(1, 2, 1)\n",
    "    plt.title('{} - Epochs'.format(name))\n",
    "    plt.plot(metric_train, label='{} Train'.format(name))\n",
    "    plt.plot(metric_test, label='{} Test'.format(name))\n",
    "    plt.grid()\n",
    "    plt.legend(loc='upper center')\n",
    "    plt.subplot(1, 2, 2)\n",
    "    plt.title('AVG ACCUMULATIVE {} - Epochs'.format(name))\n",
    "    plt.plot(acum_avg_metric_train, label='{} Train'.format(name))\n",
    "    plt.plot(acum_avg_metric_test, label='{} Test'.format(name))\n",
    "    plt.grid()\n",
    "    plt.legend(loc='upper center')\n",
    "    plt.show()"
   ]
  },
  {
   "cell_type": "code",
   "execution_count": 10,
   "metadata": {},
   "outputs": [
    {
     "data": {
      "image/png": "[encoded data removed]",
      "text/plain": [
       "<Figure size 1440x576 with 2 Axes>"
      ]
     },
     "metadata": {
      "needs_background": "light"
     },
     "output_type": "display_data"
    }
   ],
   "source": [
    "# Función de perdida\n",
    "plot_metric(history=history, name='loss')"
   ]
  },
  {
   "cell_type": "code",
   "execution_count": 11,
   "metadata": {},
   "outputs": [
    {
     "data": {
      "image/png": "[encoded data removed]",
      "text/plain": [
       "<Figure size 1440x576 with 2 Axes>"
      ]
     },
     "metadata": {
      "needs_background": "light"
     },
     "output_type": "display_data"
    }
   ],
   "source": [
    "# Accuracy\n",
    "plot_metric(history=history, name='accuracy')"
   ]
  },
  {
   "cell_type": "markdown",
   "metadata": {},
   "source": [
    "<hr>\n",
    "\n",
    "\n",
    "## Evaluamos el modelo\n",
    "\n",
    "* Pasamos a evaluar el modelo con los datos de test, calculando las siguientes métricas de evaluación:\n",
    "\n",
    "    1. **Accuracy**\n",
    "    2. **Precision**\n",
    "    3. **Recall**\n",
    "    4. **F1**"
   ]
  },
  {
   "cell_type": "code",
   "execution_count": 12,
   "metadata": {},
   "outputs": [
    {
     "name": "stdout",
     "output_type": "stream",
     "text": [
      "Accuracy: 0.7961\n",
      "F1: 0.7971\n",
      "Precision: 0.8052\n",
      "Recall: 0.7961\n",
      "              precision    recall  f1-score   support\n",
      "\n",
      "  ciudadanos       0.83      0.79      0.81       439\n",
      "     podemos       0.69      0.81      0.74       508\n",
      "          pp       0.74      0.82      0.78       492\n",
      "        psoe       0.90      0.86      0.88       588\n",
      "         vox       0.86      0.69      0.77       469\n",
      "\n",
      "    accuracy                           0.80      2496\n",
      "   macro avg       0.80      0.79      0.79      2496\n",
      "weighted avg       0.81      0.80      0.80      2496\n",
      "\n"
     ]
    }
   ],
   "source": [
    "from sklearn.metrics import accuracy_score, f1_score, precision_score, recall_score, confusion_matrix, classification_report\n",
    "\n",
    "y_true = encoder.inverse_transform(y_test.reshape(-1))\n",
    "y_pred = model.predict_classes(pad_corpus_test)\n",
    "y_pred = encoder.inverse_transform(y_pred.reshape(-1))\n",
    "\n",
    "print('Accuracy: {acc:0.4f}'.format(acc=accuracy_score(y_true=y_true, y_pred=y_pred)))\n",
    "print('F1: {f1:0.4f}'.format(f1=f1_score(y_true=y_true, y_pred=y_pred, average='weighted')))\n",
    "print('Precision: {pre:0.4f}'.format(pre=precision_score(y_true=y_true, y_pred=y_pred, average='weighted')))\n",
    "print('Recall: {rec:0.4f}'.format(rec=recall_score(y_true=y_true, y_pred=y_pred, average='weighted')))\n",
    "print(classification_report(y_true=y_true, y_pred=y_pred))\n",
    "labels = ['psoe', 'pp', 'vox', 'podemos', 'ciudadanos']\n",
    "confusion_matrix = confusion_matrix(y_true=y_true, y_pred=y_pred, labels=labels)"
   ]
  },
  {
   "cell_type": "markdown",
   "metadata": {},
   "source": [
    "* Pintamos la matriz de confusión"
   ]
  },
  {
   "cell_type": "code",
   "execution_count": 13,
   "metadata": {},
   "outputs": [
    {
     "data": {
      "image/png": "[encoded data removed]",
      "text/plain": [
       "<Figure size 864x432 with 2 Axes>"
      ]
     },
     "metadata": {
      "needs_background": "light"
     },
     "output_type": "display_data"
    }
   ],
   "source": [
    "import numpy as np\n",
    "import matplotlib.pyplot as plt\n",
    "import itertools\n",
    "%matplotlib inline\n",
    "\n",
    "def plot_confusion_matrix(cm, classes, title, cmap=plt.cm.Blues):\n",
    "    \"\"\"\n",
    "    This function prints and plots the confusion matrix.\n",
    "    \"\"\"\n",
    "    plt.imshow(cm, interpolation='nearest', cmap=cmap)\n",
    "    plt.title(title)\n",
    "    plt.colorbar()\n",
    "    tick_marks = np.arange(len(classes))\n",
    "    plt.xticks(tick_marks, classes, rotation=45)\n",
    "    plt.yticks(tick_marks, classes)\n",
    "\n",
    "    thresh = cm.max() / 2.\n",
    "    for i, j in itertools.product(range(cm.shape[0]), range(cm.shape[1])):\n",
    "        plt.text(j, i, format(cm[i, j], 'd'), horizontalalignment=\"center\",\n",
    "                 color=\"white\" if cm[i, j] > thresh else \"black\")\n",
    "\n",
    "    plt.tight_layout()\n",
    "    plt.ylabel('True label')\n",
    "    plt.xlabel('Predicted label')\n",
    "\n",
    "# Pintamos la matriz de confusión\n",
    "plt.figure(figsize=(12, 6))\n",
    "plot_confusion_matrix(confusion_matrix, classes=labels, title='Matriz de Confusión')\n",
    "plt.show()"
   ]
  },
  {
   "cell_type": "markdown",
   "metadata": {},
   "source": [
    "<hr>\n",
    "\n",
    "\n",
    "# Bonus Track I - LSTM - \n",
    "\n",
    "\n",
    "* Las ***Redes Neuronales Recurrentes*** (RNN) constituyen una herramienta muy apropiada para ***modelar series temporales y para el Procesamiento del Lenguaje Natural***.\n",
    "\n",
    "\n",
    "* Las RNN son, en principio, un modelo computacional más potente que las clásicas redes neuronales (Perceptrón). \n",
    "\n",
    "\n",
    "* Esta mayor potencia proviene del hecho de que las RNN son capaces de procesar secuencias temporales gracias a la posibilidad de ***recordar parcialmente la historia relevante*** de la secuencia por medio de una representación en forma de estado (***implementa una cierta memoria***).\n",
    "\n",
    "\n",
    "* Esta memoria no existe de manera natural en las redes no recurrentes, utilizadas principalmente para el procesamiento de datos estáticos.\n",
    "\n",
    "\n",
    "* Las LSTM (Long Short-Term Memory) son un tipo especial de unidades de memoria que conforman una red neuronal y que tienen la capacidad de recordar aquella información relevante que va aprendiendo durante el proceso de entrenamiento y olvidar aquella información que no considera relevante.\n",
    "\n",
    "\n",
    "* La arquitectura de una unidad LSTM es la siguiente:\n",
    "\n",
    "\n",
    "<img src=\"./imgs/028_lstm.png\" style=\"width: 400px;\"/>\n",
    "\n",
    "\n",
    "* Las LSTM está formadas por los siguientes elementos:\n",
    "<span></span><br><br>\n",
    "    + ***$f_t$ -> forget gate*** (Puerta de Olvido): Que parte de la información del pasado no es importante.\n",
    "<span></span><br><br>\n",
    "    + ***$i_t$ -> input gate*** (Puerta de Entrada): De la información actual, hay algo que sea importante para recordar.\n",
    "<span></span><br><br>\n",
    "    + ***$\\widetilde{C}_t$ -> candidate gate*** (Puerta Candidata): Si hay algo importante que recordar, cómo lo combinamos con la información del pasado.\n",
    "<span></span><br><br>\n",
    "    + ***$o_t$ -> output gate*** (Puerta de Salida): Que información es importante a corto plazo.\n",
    "<span></span><br><br>    \n",
    "    + ***$C_t$ -> state cell*** (Estado de la Celda): Guarda el estado de la celda actual.\n",
    "    \n",
    "    \n",
    "<img src=\"./imgs/029_lstm.png\" style=\"width: 600px;\"/>\n",
    "    \n",
    "    \n",
    "* Siendo:\n",
    "    \n",
    "$$f_t = sigmoid(W_f \\cdot [h_{t-1}, X_t])$$\n",
    "\n",
    "$$i_t = sigmoid(W_i \\cdot [h_{t-1}, X_t])$$\n",
    "\n",
    "$$\\widetilde{C}_t = tanh(W_c \\cdot [h_{t-1}, X_t])$$\n",
    "\n",
    "$$o_t = sigmoid(W_o \\cdot [h_{t-1}, X_t])$$\n",
    "\n",
    "$$C_t = f_t * C_{t-1} + i_t * \\widetilde{C}_t$$\n",
    "\n",
    "$$h_t = o_t * tanh(C_t)$$\n",
    "\n",
    "\n",
    "* Una capa con celdas LSTM estaría formada por cerlda LSTM conectadas en serie unas con otras de la siguiente manera:\n",
    "\n",
    "\n",
    "<img src=\"./imgs/030_lstm.png\" style=\"width: 700px;\"/>\n",
    "\n"
   ]
  },
  {
   "cell_type": "markdown",
   "metadata": {},
   "source": [
    "<hr>\n",
    "\n",
    "# Bonus Track II - Embedding Layers - \n",
    "\n",
    "\n",
    "* Las \"Embedding Layes\" (capas de incrustación) son un tipo de técnicas que nos permiten representar las palabras y los documentos como un vector de características latentes.\n",
    "\n",
    "\n",
    "* Para el caso particular de las palabras de un corpus, los vectores de características latentes que representan las palabras, son calculadas basándose en la ***hipótesis distribucional de Zellig Harris*** que dice: \"*elementos lingüísticos con distribuciones similares tienen significados similares*\"; es decir que ***las palabras que tienen un contexto similar, tendrán significados similares***.\n",
    "\n",
    "\n",
    "* Por tanto con las técnicas que nos permiten representar a las palabras con vectores, tendremos que la similaridad entre pares de vectores que representen a pares de palabras con significado similar, tendran una similaridad alta y no así entre pares de palabras con significados distintos que tendrán una similaridad baja.\n",
    "\n",
    "\n",
    "* Si por ejemplo esta similaridad la definimos como la distacia euclidea, tendremos que dos vectores que representan palabras con significados similares les separará una distancia pequeña frente a pares de palabras con significados dispares que les separará una distancia muy grande.\n",
    "\n",
    "\n",
    "* Dos técnicas que se suelen utilizar para realizar este tipo de cálculo de características latentes de las palabras son:\n",
    "\n",
    "    + Word2Vec\n",
    "    + GloVe\n",
    "    \n",
    "    \n",
    "* Este tipo de representación de las palabras viene muy bien para las RNN y en particular para las LSTM ya que cada palabra representada como un vector denso (y con sentido contextual frente a palabras similares entre sí) puede ser tomada como una entrada en una secuencia (que lo es) dentro de un documento.\n",
    "\n",
    "\n",
    "* Veamos a continuación un sencillo ejemplo a partir del siguiente corpus"
   ]
  },
  {
   "cell_type": "code",
   "execution_count": 14,
   "metadata": {},
   "outputs": [],
   "source": [
    "corpus = ['Hola me llamo Ricardo',\n",
    "          'Hola me dicen Ricardo',\n",
    "          'Saludos desde este Notebook llamado LSTM']"
   ]
  },
  {
   "cell_type": "markdown",
   "metadata": {},
   "source": [
    "* Codificamos las palabras"
   ]
  },
  {
   "cell_type": "code",
   "execution_count": 15,
   "metadata": {},
   "outputs": [
    {
     "name": "stdout",
     "output_type": "stream",
     "text": [
      "[25, 77, 40, 20]\n",
      "[25, 77, 52, 20]\n",
      "[50, 92, 55, 28, 63, 11]\n"
     ]
    }
   ],
   "source": [
    "from keras.preprocessing.text import one_hot\n",
    "\n",
    "VOCAB_SIZE = 100\n",
    "corpus_ohe = [one_hot(doc, VOCAB_SIZE) for doc in corpus]\n",
    "for i in corpus_ohe:\n",
    "    print(i)"
   ]
  },
  {
   "cell_type": "markdown",
   "metadata": {},
   "source": [
    "* Las pasamos a secuncias de tamaó fijo"
   ]
  },
  {
   "cell_type": "code",
   "execution_count": 16,
   "metadata": {},
   "outputs": [
    {
     "data": {
      "text/plain": [
       "array([[25, 77, 40, 20,  0,  0],\n",
       "       [25, 77, 52, 20,  0,  0],\n",
       "       [50, 92, 55, 28, 63, 11]], dtype=int32)"
      ]
     },
     "execution_count": 16,
     "metadata": {},
     "output_type": "execute_result"
    }
   ],
   "source": [
    "from keras.preprocessing.sequence import pad_sequences\n",
    "\n",
    "MAX_WORDS_DOC = 6\n",
    "pad_corpus = pad_sequences(corpus_ohe, maxlen=MAX_WORDS_DOC, padding='post')\n",
    "pad_corpus"
   ]
  },
  {
   "cell_type": "markdown",
   "metadata": {},
   "source": [
    "### Resultados del Embedding\n",
    "\n",
    "* Para realizar esta representación, Keras nos proporciona la clase \"Embedding()\" que tiene como importantes los siguientes parámetros:\n",
    "\n",
    "    + ***input_dim***: Número de codificaciones distintas que pueden tener las palabras de nuestro corpus.\n",
    "    + ***output_dim***: Número de características que queremos que tenga el vector que represente a las palabras.\n",
    "    + ***input_length***: Máximo número de palabras en un documento.\n",
    "    \n",
    "    \n",
    "* Para más información ver la documentación en el siguiente enlace:<br>https://keras.io/layers/embeddings/#embedding"
   ]
  },
  {
   "cell_type": "code",
   "execution_count": 17,
   "metadata": {},
   "outputs": [
    {
     "name": "stdout",
     "output_type": "stream",
     "text": [
      "Model: \"model_1\"\n",
      "_________________________________________________________________\n",
      "Layer (type)                 Output Shape              Param #   \n",
      "=================================================================\n",
      "input_1 (InputLayer)         (None, 6)                 0         \n",
      "_________________________________________________________________\n",
      "embedding_2 (Embedding)      (None, 6, 2)              200       \n",
      "_________________________________________________________________\n",
      "flatten_1 (Flatten)          (None, 12)                0         \n",
      "=================================================================\n",
      "Total params: 200\n",
      "Trainable params: 200\n",
      "Non-trainable params: 0\n",
      "_________________________________________________________________\n"
     ]
    }
   ],
   "source": [
    "import keras\n",
    "\n",
    "from keras.layers import Input, Embedding, Flatten\n",
    "from keras.models import Model\n",
    "\n",
    "WORD_VECTOR_DIMENSION = 2\n",
    "\n",
    "words_input=Input(shape=(MAX_WORDS_DOC,),dtype='float64')  \n",
    "\n",
    "# Creamos el Embedding\n",
    "word_embedding=Embedding(input_dim=VOCAB_SIZE, \n",
    "                         output_dim=WORD_VECTOR_DIMENSION, \n",
    "                         input_length=MAX_WORDS_DOC)(words_input)\n",
    "\n",
    "word_vec=Flatten()(word_embedding)\n",
    "\n",
    "model = Model(inputs=[words_input],\n",
    "              outputs=word_vec) \n",
    "\n",
    "# Imprimimos el modelo\n",
    "model.summary()"
   ]
  },
  {
   "cell_type": "markdown",
   "metadata": {},
   "source": [
    "* Compilamos el modelo ya que estamos ejecutando una Red Neuronal"
   ]
  },
  {
   "cell_type": "code",
   "execution_count": 18,
   "metadata": {},
   "outputs": [],
   "source": [
    "model.compile(optimizer='adam', loss='binary_crossentropy', metrics=['acc']) "
   ]
  },
  {
   "cell_type": "markdown",
   "metadata": {},
   "source": [
    "* Obtenemos los vectores de características haciendo un \"*predict()*\" sobre el corpus con el modelo generado."
   ]
  },
  {
   "cell_type": "code",
   "execution_count": 19,
   "metadata": {},
   "outputs": [],
   "source": [
    "doc_embeddings=model.predict(pad_corpus)"
   ]
  },
  {
   "cell_type": "markdown",
   "metadata": {},
   "source": [
    "* Vamos a obtener los vectores de las palabras de los documentos del corpus, cuyos documentos tienen un tamaño fijo de 6 palabras:"
   ]
  },
  {
   "cell_type": "code",
   "execution_count": 20,
   "metadata": {},
   "outputs": [
    {
     "name": "stdout",
     "output_type": "stream",
     "text": [
      "\n",
      "Codificación de las 6 palabras del documento 1\n",
      "[[ 0.02292085  0.00638691]\n",
      " [-0.01705499  0.04682897]\n",
      " [-0.02220663 -0.03612616]\n",
      " [-0.0154837  -0.01248896]\n",
      " [-0.01072824 -0.03656149]\n",
      " [-0.01072824 -0.03656149]]\n",
      "\n",
      "Codificación de las 6 palabras del documento 2\n",
      "[[ 0.02292085  0.00638691]\n",
      " [-0.01705499  0.04682897]\n",
      " [-0.04478     0.04943332]\n",
      " [-0.0154837  -0.01248896]\n",
      " [-0.01072824 -0.03656149]\n",
      " [-0.01072824 -0.03656149]]\n",
      "\n",
      "Codificación de las 6 palabras del documento 3\n",
      "[[ 0.00707543 -0.04457448]\n",
      " [-0.01931572  0.00535312]\n",
      " [ 0.04772358 -0.04080645]\n",
      " [-0.03411291 -0.03216501]\n",
      " [ 0.00968708  0.02020017]\n",
      " [-0.0303769  -0.02441528]]\n"
     ]
    }
   ],
   "source": [
    "word_embeddings=doc_embeddings.reshape(-1, MAX_WORDS_DOC, WORD_VECTOR_DIMENSION)\n",
    "for i, doc in enumerate(word_embeddings):\n",
    "    print(\"\\nCodificación de las 6 palabras del documento {}\".format(i+1))\n",
    "    print(doc)"
   ]
  },
  {
   "cell_type": "markdown",
   "metadata": {},
   "source": [
    "* A continuación obtenemos la codificación de los documentos que no es más que la concatenación de los valores de las características de las palabras que forman el documento:"
   ]
  },
  {
   "cell_type": "code",
   "execution_count": 21,
   "metadata": {},
   "outputs": [
    {
     "name": "stdout",
     "output_type": "stream",
     "text": [
      "\n",
      "Codificación del documento 1\n",
      "[ 0.02292085  0.00638691 -0.01705499  0.04682897 -0.02220663 -0.03612616\n",
      " -0.0154837  -0.01248896 -0.01072824 -0.03656149 -0.01072824 -0.03656149]\n",
      "\n",
      "Codificación del documento 2\n",
      "[ 0.02292085  0.00638691 -0.01705499  0.04682897 -0.04478     0.04943332\n",
      " -0.0154837  -0.01248896 -0.01072824 -0.03656149 -0.01072824 -0.03656149]\n",
      "\n",
      "Codificación del documento 3\n",
      "[ 0.00707543 -0.04457448 -0.01931572  0.00535312  0.04772358 -0.04080645\n",
      " -0.03411291 -0.03216501  0.00968708  0.02020017 -0.0303769  -0.02441528]\n"
     ]
    }
   ],
   "source": [
    "for i, doc in enumerate(doc_embeddings):\n",
    "    print(\"\\nCodificación del documento {}\".format(i+1))\n",
    "    print(doc)"
   ]
  }
 ],
 "metadata": {
  "kernelspec": {
   "display_name": "Python 3",
   "language": "python",
   "name": "python3"
  },
  "language_info": {
   "codemirror_mode": {
    "name": "ipython",
    "version": 3
   },
   "file_extension": ".py",
   "mimetype": "text/x-python",
   "name": "python",
   "nbconvert_exporter": "python",
   "pygments_lexer": "ipython3",
   "version": "3.6.9"
  }
 },
 "nbformat": 4,
 "nbformat_minor": 2
}
