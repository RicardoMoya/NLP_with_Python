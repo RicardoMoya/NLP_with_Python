{
 "cells": [
  {
   "cell_type": "markdown",
   "metadata": {},
   "source": [
    "# 21 - Latent Dirichlet Allocation - Ejemplo Topics & Terms en Tweets Políticos\n",
    "\n",
    "\n",
    "* En este Notebook vamos a agrupar los tweets publicados por los partidos políticos y los políticos para ver si verdaderamente el LDA es capaz de diferenciar las 4 tendencias políticas (4 Topics) que hay en estos tweets.\n",
    "\n",
    "\n",
    "* Por otro lado tambien es interesante ver cuales son las palabras (Terms) característicos de cada uno de estos Topics.\n",
    "\n",
    "\n",
    "* Para ello vamos a realizar los siguientes pasos:\n",
    "\n",
    "    1. Carga de datos\n",
    "    2. Normalizar los tweets (igual que en el notebook *13_PoC_Tendencias_Politicas_Twitter_Generacion_Exportacion_Modelos.ipynb*)\n",
    "    3. Creacción del diccionario y la bolsa de palabras\n",
    "    4. Selección del número óptimo de Topics\n",
    "    5. Creacción del Modelo\n",
    "    6. Visualización"
   ]
  },
  {
   "cell_type": "markdown",
   "metadata": {},
   "source": [
    "<hr>\n",
    "\n",
    "\n",
    "## Carga de Datos\n",
    "\n",
    "\n",
    "* El fichero que contiene los tweets lo podemos leer como un '*csv*' con pandas pasandole como separador '***::::***'.\n",
    "\n",
    "\n",
    "* Este fichero esta estructurado de la siguiente manera\n",
    "    - **Cuenta**: Cuenta de twitter\n",
    "    - **Partido**: Partido político al que pertenece (ciudadanos, podemos, pp, psoe)\n",
    "    - **Timestamp**: Instante en el que se publicó el tweet\n",
    "    - **Tweet**: Tweet.\n",
    "    \n",
    "    \n",
    "* Leemos los datos y mostramos una muestra:"
   ]
  },
  {
   "cell_type": "code",
   "execution_count": 1,
   "metadata": {},
   "outputs": [
    {
     "name": "stdout",
     "output_type": "stream",
     "text": [
      "Número de Tweets Cargados: 3843\n"
     ]
    },
    {
     "data": {
      "text/html": [
       "<div>\n",
       "<style scoped>\n",
       "    .dataframe tbody tr th:only-of-type {\n",
       "        vertical-align: middle;\n",
       "    }\n",
       "\n",
       "    .dataframe tbody tr th {\n",
       "        vertical-align: top;\n",
       "    }\n",
       "\n",
       "    .dataframe thead th {\n",
       "        text-align: right;\n",
       "    }\n",
       "</style>\n",
       "<table border=\"1\" class=\"dataframe\">\n",
       "  <thead>\n",
       "    <tr style=\"text-align: right;\">\n",
       "      <th></th>\n",
       "      <th>cuenta</th>\n",
       "      <th>partido</th>\n",
       "      <th>timestamp</th>\n",
       "      <th>tweet</th>\n",
       "    </tr>\n",
       "  </thead>\n",
       "  <tbody>\n",
       "    <tr>\n",
       "      <th>575</th>\n",
       "      <td>sanchezcastejon</td>\n",
       "      <td>psoe</td>\n",
       "      <td>1556052141</td>\n",
       "      <td>Si las derechas y la ultraderecha suman harán ...</td>\n",
       "    </tr>\n",
       "    <tr>\n",
       "      <th>1671</th>\n",
       "      <td>sanchezcastejon</td>\n",
       "      <td>psoe</td>\n",
       "      <td>1557816517</td>\n",
       "      <td>La Europa de todos y todas. La de las mujeres....</td>\n",
       "    </tr>\n",
       "    <tr>\n",
       "      <th>697</th>\n",
       "      <td>Albert_Rivera</td>\n",
       "      <td>ciudadanos</td>\n",
       "      <td>1556263408</td>\n",
       "      <td>Hoy cerramos la campaña de la ilusión en #Vale...</td>\n",
       "    </tr>\n",
       "    <tr>\n",
       "      <th>2462</th>\n",
       "      <td>ahorapodemos</td>\n",
       "      <td>podemos</td>\n",
       "      <td>1558248613</td>\n",
       "      <td>📽 \"Queremos ciudades que tengan soberanía sobr...</td>\n",
       "    </tr>\n",
       "    <tr>\n",
       "      <th>2688</th>\n",
       "      <td>populares</td>\n",
       "      <td>pp</td>\n",
       "      <td>1558608549</td>\n",
       "      <td>🔴 EN DIRECTO@pablocasado_ interviene en un act...</td>\n",
       "    </tr>\n",
       "  </tbody>\n",
       "</table>\n",
       "</div>"
      ],
      "text/plain": [
       "               cuenta     partido   timestamp  \\\n",
       "575   sanchezcastejon        psoe  1556052141   \n",
       "1671  sanchezcastejon        psoe  1557816517   \n",
       "697     Albert_Rivera  ciudadanos  1556263408   \n",
       "2462     ahorapodemos     podemos  1558248613   \n",
       "2688        populares          pp  1558608549   \n",
       "\n",
       "                                                  tweet  \n",
       "575   Si las derechas y la ultraderecha suman harán ...  \n",
       "1671  La Europa de todos y todas. La de las mujeres....  \n",
       "697   Hoy cerramos la campaña de la ilusión en #Vale...  \n",
       "2462  📽 \"Queremos ciudades que tengan soberanía sobr...  \n",
       "2688  🔴 EN DIRECTO@pablocasado_ interviene en un act...  "
      ]
     },
     "execution_count": 1,
     "metadata": {},
     "output_type": "execute_result"
    }
   ],
   "source": [
    "import warnings\n",
    "warnings.filterwarnings('ignore')\n",
    "import pandas as pd\n",
    "\n",
    "tweets_file = './data/tweets_politica.csv'\n",
    "df = pd.read_csv(tweets_file, sep='::::', engine='python')\n",
    "tweets = [tuple(x) for x in df[['tweet', 'partido']].values]\n",
    "print('Número de Tweets Cargados: {num}'.format(num=len(tweets)))\n",
    "df.sample(5)"
   ]
  },
  {
   "cell_type": "markdown",
   "metadata": {},
   "source": [
    "<hr>\n",
    "\n",
    "\n",
    "## Normalización\n",
    "\n",
    "* Utilizamos ***spaCy*** para la tokenización y normalización.\n",
    "\n",
    "\n",
    "* Tras realizar un análisis del contenido de los tweets pasamos a realizar las siguientes acciones para ***normalizar*** los tweets:\n",
    "    1. Pasamos las frases a minúsculas.\n",
    "    2. Sustituimos los puntos por espacios ya que hay muchas palabras unidas por un punto\n",
    "    3. Quitamos la almuhadilla de los hashtags para considerarlos como palabras.\n",
    "    4. Eliminamos los signos de puntuación.\n",
    "    5. Eliminamos las palabras con menos de 3 caracteres.\n",
    "    6. Eliminamos las Stop-Words.\n",
    "    7. Eliminamos los enlaces(http) y las menciones (@)\n",
    "    8. Pasamos la palabra a su lema\n",
    "\n",
    "\n",
    "* Todos estos pasos los vamos a realizar en una misma función.\n",
    "\n",
    "\n",
    "* ***NOTA***: Se pueden realizar más acciones de normalización que las realizadas, como tratamiento de emoticonos, tratamiento especial de referencia a cuentas, hashtags, etc. Al tratarse de un ejemplo didáctica se ha realizado una normalización '*sencilla*'."
   ]
  },
  {
   "cell_type": "code",
   "execution_count": 2,
   "metadata": {},
   "outputs": [],
   "source": [
    "import numpy as np\n",
    "import spacy\n",
    "nlp = spacy.load('es_core_news_sm')\n",
    "\n",
    "X = [doc[0] for doc in tweets]\n",
    "\n",
    "def normalize(sentenses):\n",
    "    \"\"\"normalizamos la lista de frases y devolvemos la misma lista de frases normalizada\"\"\"\n",
    "    for index, sentense in enumerate(sentenses):\n",
    "        # Tokenizamos el tweets realizando los puntos 1,2 y 3.\n",
    "        sentense = nlp(sentense.lower().replace('.', ' ').replace('#', ' '))\n",
    "        # Puntos 4,5,6,7 y 8\n",
    "        sentenses[index] = ([word.lemma_ for word in sentense if (not word.is_punct)\n",
    "                             and (len(word.text) > 2) and (not word.is_stop)\n",
    "                             and (not word.text.startswith('@'))\n",
    "                             and (not word.text.startswith('http'))\n",
    "                             and (not ':' in word.text)])\n",
    "    return sentenses\n",
    "\n",
    "# Normalizamos las frases\n",
    "X_norm = normalize(X)"
   ]
  },
  {
   "cell_type": "markdown",
   "metadata": {},
   "source": [
    "<hr>\n",
    "\n",
    "\n",
    "## Creamos el Diccionario y la Matriz (Bolsa de Palabras)"
   ]
  },
  {
   "cell_type": "code",
   "execution_count": 3,
   "metadata": {},
   "outputs": [
    {
     "name": "stdout",
     "output_type": "stream",
     "text": [
      "Diccionario:\n",
      "Dictionary(10564 unique tokens: ['libertaddeprensa', 'libertar', 'p44ycodyfo', 'partir', 'popular']...)\n",
      "\n",
      "Primer Documento del Corpus:\n",
      "[(0, 1), (1, 1), (2, 1), (3, 1), (4, 1)]\n"
     ]
    }
   ],
   "source": [
    "from pprint import pprint\n",
    "from gensim import corpora\n",
    "from collections import defaultdict\n",
    "\n",
    "# Creamos el diccionario (vocabulario)\n",
    "frequency = defaultdict(int)\n",
    "for doc in X_norm:\n",
    "    for token in doc:\n",
    "        frequency[token] += 1\n",
    "        \n",
    "documents = [[token for token in doc] for doc in X_norm]\n",
    "dictionary = corpora.Dictionary(documents)\n",
    "print('Diccionario:\\n{}'.format(dictionary))\n",
    "\n",
    "\n",
    "# Creamos la Bolsa de Palabras\n",
    "corpus = [dictionary.doc2bow(doc) for doc in documents]\n",
    "print('\\nPrimer Documento del Corpus:\\n{}'.format(corpus[0]))"
   ]
  },
  {
   "cell_type": "markdown",
   "metadata": {},
   "source": [
    "<hr>\n",
    "\n",
    "\n",
    "## Selección del número óptimo de Topics\n",
    "\n",
    "\n",
    "* Veamos la coherencia para modelos desde 2 a 10 temas (Topics)."
   ]
  },
  {
   "cell_type": "code",
   "execution_count": 4,
   "metadata": {},
   "outputs": [
    {
     "data": {
      "text/html": [
       "<div>\n",
       "<style scoped>\n",
       "    .dataframe tbody tr th:only-of-type {\n",
       "        vertical-align: middle;\n",
       "    }\n",
       "\n",
       "    .dataframe tbody tr th {\n",
       "        vertical-align: top;\n",
       "    }\n",
       "\n",
       "    .dataframe thead th {\n",
       "        text-align: right;\n",
       "    }\n",
       "</style>\n",
       "<table border=\"1\" class=\"dataframe\">\n",
       "  <thead>\n",
       "    <tr style=\"text-align: right;\">\n",
       "      <th></th>\n",
       "      <th>Coherence</th>\n",
       "    </tr>\n",
       "  </thead>\n",
       "  <tbody>\n",
       "    <tr>\n",
       "      <th>Num Topics: 2</th>\n",
       "      <td>-1.595029</td>\n",
       "    </tr>\n",
       "    <tr>\n",
       "      <th>Num Topics: 3</th>\n",
       "      <td>-2.106844</td>\n",
       "    </tr>\n",
       "    <tr>\n",
       "      <th>Num Topics: 4</th>\n",
       "      <td>-2.221796</td>\n",
       "    </tr>\n",
       "    <tr>\n",
       "      <th>Num Topics: 5</th>\n",
       "      <td>-3.892725</td>\n",
       "    </tr>\n",
       "    <tr>\n",
       "      <th>Num Topics: 6</th>\n",
       "      <td>-3.115776</td>\n",
       "    </tr>\n",
       "    <tr>\n",
       "      <th>Num Topics: 7</th>\n",
       "      <td>-5.367448</td>\n",
       "    </tr>\n",
       "    <tr>\n",
       "      <th>Num Topics: 8</th>\n",
       "      <td>-5.883955</td>\n",
       "    </tr>\n",
       "    <tr>\n",
       "      <th>Num Topics: 9</th>\n",
       "      <td>-6.470811</td>\n",
       "    </tr>\n",
       "    <tr>\n",
       "      <th>Num Topics: 10</th>\n",
       "      <td>-5.686272</td>\n",
       "    </tr>\n",
       "  </tbody>\n",
       "</table>\n",
       "</div>"
      ],
      "text/plain": [
       "                Coherence\n",
       "Num Topics: 2   -1.595029\n",
       "Num Topics: 3   -2.106844\n",
       "Num Topics: 4   -2.221796\n",
       "Num Topics: 5   -3.892725\n",
       "Num Topics: 6   -3.115776\n",
       "Num Topics: 7   -5.367448\n",
       "Num Topics: 8   -5.883955\n",
       "Num Topics: 9   -6.470811\n",
       "Num Topics: 10  -5.686272"
      ]
     },
     "execution_count": 4,
     "metadata": {},
     "output_type": "execute_result"
    }
   ],
   "source": [
    "warnings.filterwarnings('ignore')\n",
    "from gensim.models import LdaModel, CoherenceModel\n",
    "\n",
    "coherence = []\n",
    "min_topics = 2\n",
    "max_topics = 11\n",
    "for num_topics in range(min_topics, max_topics, 1):\n",
    "    lda_model = LdaModel(corpus=corpus,\n",
    "                         id2word=dictionary,\n",
    "                         num_topics=num_topics,\n",
    "                         random_state=168,\n",
    "                         chunksize=100,\n",
    "                         passes=10,\n",
    "                         alpha='auto',\n",
    "                         per_word_topics=True)\n",
    "    coherencemodel = CoherenceModel(model=lda_model, texts=X_norm, dictionary=dictionary, coherence='c_uci')\n",
    "    coherence.append(coherencemodel.get_coherence())\n",
    "    \n",
    "index = [\"Num Topics: {num}\".format(num=num) for num in range(min_topics, max_topics, 1)]\n",
    "pd.DataFrame(coherence, index=index, columns=['Coherence'])"
   ]
  },
  {
   "cell_type": "code",
   "execution_count": 5,
   "metadata": {},
   "outputs": [
    {
     "data": {
      "image/png": "[encoded data removed]",
      "text/plain": [
       "<Figure size 720x432 with 1 Axes>"
      ]
     },
     "metadata": {
      "needs_background": "light"
     },
     "output_type": "display_data"
    }
   ],
   "source": [
    "import matplotlib.pyplot as plt\n",
    "%matplotlib inline\n",
    "\n",
    "plt.figure(figsize=(10,6))\n",
    "plt.plot(range(min_topics, max_topics, 1), coherence)\n",
    "plt.xlabel(\"Num Topics\")\n",
    "plt.ylabel(\"Coherence score\")\n",
    "plt.grid()\n",
    "plt.show()"
   ]
  },
  {
   "cell_type": "markdown",
   "metadata": {},
   "source": [
    "<hr>\n",
    "\n",
    "\n",
    "## Creamos el Modelo:\n",
    "\n",
    "\n",
    "* Con la coherencia obtenida, podemos observar que con ***4 Topics*** tenemos un valor de coherencia bastante similar al obtenido con 2 y 3 Topics, lo que hace pensar que si que hay diferencias entre las 4 tendencias políticas.\n",
    "\n",
    "\n",
    "* Vamos a crear el modelo con 4 Topics:"
   ]
  },
  {
   "cell_type": "code",
   "execution_count": 6,
   "metadata": {},
   "outputs": [],
   "source": [
    "from gensim.models import LdaModel\n",
    "\n",
    "lda_model = LdaModel(corpus=corpus, id2word=dictionary, num_topics=4, random_state=168)\n"
   ]
  },
  {
   "cell_type": "markdown",
   "metadata": {},
   "source": [
    "<hr>\n",
    "\n",
    "\n",
    "## Visualización 4 Topics:"
   ]
  },
  {
   "cell_type": "code",
   "execution_count": 7,
   "metadata": {},
   "outputs": [
    {
     "data": {
      "text/html": [
       "\n",
       "<link rel=\"stylesheet\" type=\"text/css\" href=\"https://cdn.rawgit.com/bmabey/pyLDAvis/files/ldavis.v1.0.0.css\">\n",
       "\n",
       "\n",
       "<div id=\"ldavis_el102381123869397841805952153\"></div>\n",
       "<script type=\"text/javascript\">\n",
       "\n",
       "var ldavis_el102381123869397841805952153_data = {\"mdsDat\": {\"x\": [-0.047400859523707185, -0.03159937220139504, -0.009963609120054305, 0.08896384084515656], \"y\": [0.04529463038579065, 0.01378758694788728, -0.07923851758262652, 0.020156300248948544], \"topics\": [1, 2, 3, 4], \"cluster\": [1, 1, 1, 1], \"Freq\": [32.746551513671875, 25.516372680664062, 23.373537063598633, 18.363534927368164]}, \"tinfo\": {\"Category\": [\"Default\", \"Default\", \"Default\", \"Default\", \"Default\", \"Default\", \"Default\", \"Default\", \"Default\", \"Default\", \"Default\", \"Default\", \"Default\", \"Default\", \"Default\", \"Default\", \"Default\", \"Default\", \"Default\", \"Default\", \"Default\", \"Default\", \"Default\", \"Default\", \"Default\", \"Default\", \"Default\", \"Default\", \"Default\", \"Default\", \"Topic1\", \"Topic1\", \"Topic1\", \"Topic1\", \"Topic1\", \"Topic1\", \"Topic1\", \"Topic1\", \"Topic1\", \"Topic1\", \"Topic1\", \"Topic1\", \"Topic1\", \"Topic1\", \"Topic1\", \"Topic1\", \"Topic1\", \"Topic1\", \"Topic1\", \"Topic1\", \"Topic1\", \"Topic1\", \"Topic1\", \"Topic1\", \"Topic1\", \"Topic1\", \"Topic1\", \"Topic1\", \"Topic1\", \"Topic1\", \"Topic1\", \"Topic1\", \"Topic1\", \"Topic1\", \"Topic1\", \"Topic1\", \"Topic1\", \"Topic1\", \"Topic1\", \"Topic1\", \"Topic1\", \"Topic1\", \"Topic1\", \"Topic1\", \"Topic1\", \"Topic1\", \"Topic1\", \"Topic1\", \"Topic1\", \"Topic1\", \"Topic1\", \"Topic1\", \"Topic1\", \"Topic1\", \"Topic1\", \"Topic1\", \"Topic1\", \"Topic1\", \"Topic1\", \"Topic1\", \"Topic1\", \"Topic1\", \"Topic1\", \"Topic1\", \"Topic1\", \"Topic1\", \"Topic1\", \"Topic1\", \"Topic1\", \"Topic1\", \"Topic1\", \"Topic1\", \"Topic1\", \"Topic1\", \"Topic1\", \"Topic1\", \"Topic1\", \"Topic1\", \"Topic1\", \"Topic1\", \"Topic2\", \"Topic2\", \"Topic2\", \"Topic2\", \"Topic2\", \"Topic2\", \"Topic2\", \"Topic2\", \"Topic2\", \"Topic2\", \"Topic2\", \"Topic2\", \"Topic2\", \"Topic2\", \"Topic2\", \"Topic2\", \"Topic2\", \"Topic2\", \"Topic2\", \"Topic2\", \"Topic2\", \"Topic2\", \"Topic2\", \"Topic2\", \"Topic2\", \"Topic2\", \"Topic2\", \"Topic2\", \"Topic2\", \"Topic2\", \"Topic2\", \"Topic2\", \"Topic2\", \"Topic2\", \"Topic2\", \"Topic2\", \"Topic2\", \"Topic2\", \"Topic2\", \"Topic2\", \"Topic2\", \"Topic2\", \"Topic2\", \"Topic2\", \"Topic2\", \"Topic2\", \"Topic2\", \"Topic2\", \"Topic2\", \"Topic2\", \"Topic2\", \"Topic2\", \"Topic2\", \"Topic2\", \"Topic2\", \"Topic2\", \"Topic2\", \"Topic2\", \"Topic2\", \"Topic2\", \"Topic2\", \"Topic2\", \"Topic2\", \"Topic2\", \"Topic2\", \"Topic2\", \"Topic2\", \"Topic2\", \"Topic2\", \"Topic2\", \"Topic2\", \"Topic2\", \"Topic2\", \"Topic2\", \"Topic3\", \"Topic3\", \"Topic3\", \"Topic3\", \"Topic3\", \"Topic3\", \"Topic3\", \"Topic3\", \"Topic3\", \"Topic3\", \"Topic3\", \"Topic3\", \"Topic3\", \"Topic3\", \"Topic3\", \"Topic3\", \"Topic3\", \"Topic3\", \"Topic3\", \"Topic3\", \"Topic3\", \"Topic3\", \"Topic3\", \"Topic3\", \"Topic3\", \"Topic3\", \"Topic3\", \"Topic3\", \"Topic3\", \"Topic3\", \"Topic3\", \"Topic3\", \"Topic3\", \"Topic3\", \"Topic3\", \"Topic3\", \"Topic3\", \"Topic3\", \"Topic3\", \"Topic3\", \"Topic3\", \"Topic3\", \"Topic3\", \"Topic3\", \"Topic3\", \"Topic3\", \"Topic3\", \"Topic3\", \"Topic3\", \"Topic3\", \"Topic3\", \"Topic3\", \"Topic3\", \"Topic3\", \"Topic3\", \"Topic3\", \"Topic3\", \"Topic3\", \"Topic3\", \"Topic3\", \"Topic3\", \"Topic3\", \"Topic3\", \"Topic3\", \"Topic3\", \"Topic3\", \"Topic3\", \"Topic3\", \"Topic3\", \"Topic3\", \"Topic3\", \"Topic3\", \"Topic3\", \"Topic3\", \"Topic3\", \"Topic3\", \"Topic3\", \"Topic4\", \"Topic4\", \"Topic4\", \"Topic4\", \"Topic4\", \"Topic4\", \"Topic4\", \"Topic4\", \"Topic4\", \"Topic4\", \"Topic4\", \"Topic4\", \"Topic4\", \"Topic4\", \"Topic4\", \"Topic4\", \"Topic4\", \"Topic4\", \"Topic4\", \"Topic4\", \"Topic4\", \"Topic4\", \"Topic4\", \"Topic4\", \"Topic4\", \"Topic4\", \"Topic4\", \"Topic4\", \"Topic4\", \"Topic4\", \"Topic4\", \"Topic4\", \"Topic4\", \"Topic4\", \"Topic4\", \"Topic4\", \"Topic4\", \"Topic4\", \"Topic4\", \"Topic4\", \"Topic4\", \"Topic4\", \"Topic4\", \"Topic4\", \"Topic4\", \"Topic4\", \"Topic4\", \"Topic4\", \"Topic4\", \"Topic4\", \"Topic4\", \"Topic4\", \"Topic4\", \"Topic4\", \"Topic4\", \"Topic4\", \"Topic4\", \"Topic4\", \"Topic4\", \"Topic4\", \"Topic4\", \"Topic4\", \"Topic4\", \"Topic4\", \"Topic4\", \"Topic4\", \"Topic4\", \"Topic4\", \"Topic4\", \"Topic4\", \"Topic4\", \"Topic4\", \"Topic4\", \"Topic4\", \"Topic4\", \"Topic4\", \"Topic4\", \"Topic4\", \"Topic4\", \"Topic4\", \"Topic4\", \"Topic4\", \"Topic4\", \"Topic4\", \"Topic4\"], \"Freq\": [282.0, 43.0, 320.0, 173.0, 343.0, 309.0, 64.0, 59.0, 40.0, 57.0, 123.0, 36.0, 217.0, 247.0, 415.0, 168.0, 90.0, 577.0, 25.0, 61.0, 52.0, 399.0, 69.0, 237.0, 36.0, 106.0, 87.0, 153.0, 39.0, 66.0, 18.324302673339844, 11.290736198425293, 10.019388198852539, 8.758118629455566, 8.457925796508789, 10.153789520263672, 9.964112281799316, 7.900221347808838, 8.646502494812012, 7.400954246520996, 6.821347713470459, 7.364409923553467, 7.354724407196045, 7.336137294769287, 9.16550064086914, 6.100904941558838, 6.072275161743164, 11.496150970458984, 6.040920257568359, 6.0382819175720215, 6.035374641418457, 6.030412673950195, 6.012583255767822, 8.105061531066895, 5.969714164733887, 4.767280101776123, 6.388229846954346, 8.910868644714355, 4.7617573738098145, 5.929535865783691, 9.984546661376953, 5.637578010559082, 43.033809661865234, 8.431302070617676, 68.39325714111328, 9.349871635437012, 18.7946834564209, 116.59082794189453, 35.038673400878906, 202.59262084960938, 58.26521682739258, 11.508674621582031, 325.8951110839844, 73.52058410644531, 99.48272705078125, 33.431095123291016, 17.248638153076172, 18.069128036499023, 113.77549743652344, 59.94315719604492, 266.5617980957031, 70.53502655029297, 192.1671905517578, 27.212820053100586, 83.08395385742188, 161.41067504882812, 149.9019775390625, 20.89456558227539, 82.28092956542969, 95.82249450683594, 47.32530975341797, 36.22785949707031, 56.8087272644043, 103.99583435058594, 111.52040100097656, 59.78951644897461, 50.4542121887207, 48.83982849121094, 55.86861801147461, 110.17007446289062, 73.16329193115234, 127.14946746826172, 85.48912048339844, 92.2199935913086, 80.32159423828125, 87.510498046875, 72.1007308959961, 78.82447814941406, 66.4275131225586, 62.06071853637695, 42.06875991821289, 14.093427658081055, 10.925834655761719, 11.62661361694336, 11.562003135681152, 11.542021751403809, 9.22143268585205, 9.174542427062988, 7.253109455108643, 6.533564567565918, 6.243209362030029, 7.815204620361328, 9.301580429077148, 6.6984453201293945, 6.4243998527526855, 5.540863990783691, 5.540649890899658, 4.836935997009277, 7.3992791175842285, 6.948281288146973, 4.795621395111084, 4.789937973022461, 4.349920749664307, 4.346640110015869, 4.343227863311768, 4.336963653564453, 4.332073211669922, 4.739374160766602, 6.207167625427246, 4.727591514587402, 10.627535820007324, 6.805385112762451, 13.697770118713379, 13.823280334472656, 21.538803100585938, 8.125633239746094, 14.89749813079834, 26.3741397857666, 27.050554275512695, 27.929412841796875, 54.74111557006836, 155.66595458984375, 13.398099899291992, 50.73886489868164, 47.477378845214844, 52.612701416015625, 92.13166809082031, 54.44846725463867, 34.53254318237305, 79.62532806396484, 84.23565673828125, 87.46255493164062, 81.18004608154297, 97.03662109375, 33.9554328918457, 140.263671875, 81.97288513183594, 56.59452819824219, 100.7966537475586, 44.48994445800781, 31.19860076904297, 54.323265075683594, 116.35713958740234, 56.20438766479492, 48.15372085571289, 75.01984405517578, 62.15785598754883, 66.85337829589844, 42.299354553222656, 43.84275436401367, 42.10994338989258, 55.94768142700195, 45.159854888916016, 48.67409133911133, 15.736932754516602, 15.166065216064453, 10.31991958618164, 9.112292289733887, 10.638443946838379, 7.212896823883057, 7.873497009277344, 6.6536736488342285, 11.664751052856445, 22.811288833618164, 6.7339091300964355, 6.465668678283691, 6.702020168304443, 5.9679274559021, 6.35722017288208, 5.516760349273682, 6.588381290435791, 5.4922776222229, 5.492249965667725, 5.491457939147949, 5.485593795776367, 7.669027805328369, 4.9421772956848145, 5.449533462524414, 8.626561164855957, 4.329153537750244, 5.786323070526123, 4.311458110809326, 16.651182174682617, 4.299727439880371, 34.157630920410156, 30.509109497070312, 7.558040142059326, 16.16473388671875, 25.491100311279297, 12.86571979522705, 20.403850555419922, 23.5229434967041, 35.361602783203125, 15.39925765991211, 7.548773765563965, 39.108551025390625, 25.117414474487305, 13.163212776184082, 94.83815002441406, 101.7492904663086, 60.63511657714844, 47.334957122802734, 50.42095947265625, 17.177684783935547, 59.39064025878906, 38.59407043457031, 54.44035339355469, 79.64431762695312, 122.35517883300781, 54.02877426147461, 29.53699493408203, 33.329986572265625, 69.49212646484375, 73.42428588867188, 85.00643920898438, 86.232177734375, 45.82363510131836, 54.784629821777344, 73.06536865234375, 55.957054138183594, 29.634111404418945, 76.02316284179688, 49.099639892578125, 48.80416488647461, 41.92879104614258, 45.511268615722656, 36.64398956298828, 39.26077651977539, 38.87737274169922, 39.788490295410156, 35.86376953125, 10.735311508178711, 12.329676628112793, 7.317383766174316, 6.265780925750732, 6.190354347229004, 5.084226131439209, 5.079817771911621, 6.4615607261657715, 4.422003269195557, 3.992213726043701, 3.978597640991211, 3.9752016067504883, 3.975149154663086, 3.9631826877593994, 3.959774971008301, 3.9458723068237305, 3.91556978225708, 3.9087677001953125, 5.249416351318359, 6.303795337677002, 5.788556098937988, 3.8826420307159424, 8.013116836547852, 4.235901832580566, 2.8841090202331543, 2.8834924697875977, 2.878298759460449, 4.162006855010986, 2.863881826400757, 2.863398790359497, 6.027369022369385, 7.194456577301025, 11.56196403503418, 8.41478443145752, 10.133440971374512, 13.084888458251953, 10.620279312133789, 9.838407516479492, 13.170134544372559, 36.26726531982422, 15.438150405883789, 7.653468132019043, 11.254838943481445, 13.710867881774902, 6.263605117797852, 11.433714866638184, 11.351489067077637, 66.17781066894531, 50.12179946899414, 16.90626335144043, 90.81410217285156, 97.39897918701172, 22.66732406616211, 23.443912506103516, 16.809310913085938, 18.79336929321289, 88.55335998535156, 21.81401824951172, 16.86966323852539, 40.49304962158203, 29.158905029296875, 35.47309494018555, 23.587642669677734, 51.21711730957031, 53.63270568847656, 46.397056579589844, 24.269004821777344, 46.42625427246094, 28.251924514770508, 43.84120178222656, 59.496036529541016, 58.86399841308594, 33.721641540527344, 37.66526794433594, 31.95429039001465, 28.813583374023438, 33.0756721496582, 35.657745361328125, 29.44940757751465, 27.857446670532227, 35.274600982666016, 28.78191566467285, 31.910158157348633, 27.264144897460938, 25.95072364807129], \"Term\": [\"madrid\", \"vamosarag\\u00f3n\", \"partir\", \"p\\u00fablico\", \"pol\\u00edtico\", \"europa\", \"batet\", \"catalu\\u00f1a\", \"ternero\", \"preso\", \"llegar\", \"josu\", \"querer\", \"futuro\", \"votar\", \"ganar\", \"popular\", \"gobernar\", \"sostenible\", \"barcelona\", \"coalici\\u00f3n\", \"derecho\", \"pasar\", \"a\\u00f1o\", \"homenaje\", \"centradosentufuturo\", \"ley\", \"gracia\", \"alcalde\", \"canario\", \"grande\", \"martes\", \"corresponder\", \"proyecto\", \"salvavidas\", \"competencia\", \"transparencia\", \"precio\", \"arruinar\", \"espectacular\", \"hern\\u00e1ndez\", \"so\\u00f1ar\", \"apelar\", \"corruptela\", \"coser\", \"escrache\", \"alarmar\", \"objetivo\", \"condolencia\", \"caso\", \"campe\\u00f3n\", \"claramente\", \"vanguardia\", \"suficiente\", \"solventar\", \"perderte\", \"cercano\", \"carta\", \"etiquetar\", \"excelente\", \"remontar\", \"estupendo\", \"coalici\\u00f3n\", \"centroderecha\", \"popular\", \"mejorconpage\", \"votante\", \"ganar\", \"municipal\", \"partir\", \"importante\", \"clavar\", \"gobernar\", \"gobierno\", \"elecci\\u00f3n\", \"auton\\u00f3mico\", \"marchar\", \"madrideslibertad\", \"gente\", \"izquierdo\", \"espa\\u00f1a\", \"unir\", \"votar\", \"com\\u00fan\", \"libertar\", \"siemprehaciadelante\", \"pol\\u00edtico\", \"art\\u00edculo\", \"socialista\", \"europeo\", \"mejorar\", \"creer\", \"poner\", \"futuro\", \"psoe\", \"apoyar\", \"garantizar\", \"ayuntamiento\", \"candidato\", \"europa\", \"votapsoe\", \"derecho\", \"cambiar\", \"seguir\", \"querer\", \"s\\u00e1nchez\", \"espa\\u00f1olar\", \"madrid\", \"social\", \"pa\\u00eds\", \"vamosarag\\u00f3n\", \"caf\\u00e9rivera\", \"cuartel\", \"rebeli\\u00f3n\", \"suerte\", \"igualitario\", \"sedici\\u00f3n\", \"tod@s\", \"moderaci\\u00f3n\", \"s74g2kqn64\", \"agradecimiento\", \"actor\", \"fiesta\", \"exterior\", \"competir\", \"renovaci\\u00f3n\", \"pinchar\", \"bmveomkwn7\", \"revertir\", \"crucial\", \"retratar\", \"acudir\", \"liberalismo\", \"torcer\", \"constante\", \"admiraci\\u00f3n\", \"misionero\", \"sintonizar\", \"repasar\", \"\\ufe0flas\", \"humillaci\\u00f3n\", \"stopokupas\", \"alicante\", \"concejal\", \"agenda\", \"sectarismo\", \"vecino\", \"homenaje\", \"valorar\", \"alcalde\", \"urna\", \"derecho\", \"bildu\", \"campa\\u00f1a\", \"mesar\", \"servicio\", \"pa\\u00eds\", \"acto\", \"batet\", \"defender\", \"querer\", \"a\\u00f1o\", \"espa\\u00f1olar\", \"madrid\", \"demostrar\", \"espa\\u00f1a\", \"seguir\", \"gracia\", \"siemprehaciadelante\", \"esperar\", \"v\\u00edctima\", \"dejar\", \"gobernar\", \"p\\u00fablico\", \"igualdad\", \"partir\", \"cambiar\", \"s\\u00e1nchez\", \"directo\", \"democracia\", \"domingo\", \"pol\\u00edtico\", \"social\", \"votar\", \"investidura\", \"contigohaycambio\", \"portavoz\", \"carlos\", \"gabilondo\", \"vamosmadrid\", \"digital\", \"acomp\\u00e1\\u00f1anos\", \"oculto\", \"sostenible\", \"enfermedad\", \"consultar\", \"acusar\", \"lgtbi\", \"vergonzoso\", \"franco\", \"expresar\", \"pr\\u00f3fugo\", \"parecer\", \"alegr\\u00eda\", \"felipe\", \"juicio\", \"ahorrar\", \"congresocs\", \"euroorden\", \"respetuoso\", \"caf\\u00e9\", \"molesto\", \"claro\", \"sesi\\u00f3n\", \"ternero\", \"josu\", \"ahorapepu\", \"moncloa\", \"valencia\", \"apuesto\", \"senado\", \"feliz\", \"preso\", \"siemprehaciaadelante\", \"apuntar\", \"pasar\", \"fiscal\", \"poderoso\", \"futuro\", \"madrid\", \"28a\", \"centradosentufuturo\", \"hacer\", \"reconocer\", \"comunidad\", \"frente\", \"gracia\", \"s\\u00e1nchez\", \"espa\\u00f1a\", \"poder\", \"batet\", \"jugar\", \"psoe\", \"europa\", \"derecho\", \"votar\", \"avanzar\", \"social\", \"siemprehaciadelante\", \"seguir\", \"mill\\u00f3n\", \"gobernar\", \"querer\", \"a\\u00f1o\", \"ciudadano\", \"espa\\u00f1olar\", \"democracia\", \"gente\", \"cambiar\", \"pol\\u00edtico\", \"europeo\", \"reglamentar\", \"info\", \"jefe\", \"admitir\", \"desinfectar\", \"informe\", \"patrio\", \"jes\\u00fas\", \"permanente\", \"derogar\", \"premio\", \"desahucio\", \"propiedad\", \"decirnos\", \"p\\u00e9rdida\", \"cesi\\u00f3n\", \"contexto\", \"multiplicar\", \"potenciar\", \"robar\", \"sentar\", \"dedo\", \"\\ufe0f@josepborrellf\", \"determinante\", \"fight\", \"good\", \"m\\u00e1quina\", \"presente\", \"base\", \"regenerador\", \"juzgar\", \"transformaci\\u00f3n\", \"comunicaci\\u00f3n\", \"reflexi\\u00f3n\", \"rodar\", \"tribunal\", \"v\\u00eda\", \"f\\u00f3rmula\", \"prensar\", \"catalu\\u00f1a\", \"cmin\", \"inmediato\", \"supremo\", \"premiar\", \"horizonte\", \"censurar\", \"moci\\u00f3n\", \"p\\u00fablico\", \"llegar\", \"preocupar\", \"europa\", \"pol\\u00edtico\", \"   \", \"acuerdo\", \"di\\u00e1logo\", \"golpe\", \"votar\", \"medio\", \"noticiar\", \"necesitar\", \"ley\", \"justicia\", \"barcelona\", \"a\\u00f1o\", \"psoe\", \"social\", \"canario\", \"cambiar\", \"hablar\", \"s\\u00e1nchez\", \"gobernar\", \"espa\\u00f1a\", \"votapsoe\", \"pa\\u00eds\", \"avanzar\", \"\\u00fanico\", \"defender\", \"seguir\", \"dejar\", \"proyectar\", \"siemprehaciadelante\", \"ciudadano\", \"derecho\", \"partir\", \"europeo\"], \"Total\": [282.0, 43.0, 320.0, 173.0, 343.0, 309.0, 64.0, 59.0, 40.0, 57.0, 123.0, 36.0, 217.0, 247.0, 415.0, 168.0, 90.0, 577.0, 25.0, 61.0, 52.0, 399.0, 69.0, 237.0, 36.0, 106.0, 87.0, 153.0, 39.0, 66.0, 19.029008865356445, 12.092409133911133, 10.752983093261719, 9.418033599853516, 9.101951599121094, 10.945502281188965, 10.748085021972656, 8.580361366271973, 9.409407615661621, 8.070740699768066, 7.440217971801758, 8.06833553314209, 8.064985275268555, 8.066577911376953, 10.080211639404297, 6.730623722076416, 6.72780179977417, 12.75684642791748, 6.72232723236084, 6.719959735870361, 6.724525451660156, 6.722575664520264, 6.721540451049805, 9.068926811218262, 6.712297439575195, 5.385934829711914, 7.2229108810424805, 10.077195167541504, 5.385428428649902, 6.71274471282959, 11.399628639221191, 6.388543128967285, 52.04674530029297, 9.694931030273438, 90.14701080322266, 10.840900421142578, 23.009204864501953, 168.38546752929688, 45.71581268310547, 320.70562744140625, 81.41851043701172, 13.679232597351074, 577.7714233398438, 111.52030944824219, 158.0407257080078, 47.6807975769043, 22.0123233795166, 23.250152587890625, 202.70013427734375, 96.36424255371094, 588.044677734375, 121.03740692138672, 415.6268310546875, 38.99531936645508, 158.9178466796875, 370.54730224609375, 343.0371398925781, 28.4366455078125, 161.37631225585938, 199.199462890625, 82.34535217285156, 58.19132614135742, 107.72441101074219, 247.1154327392578, 271.8743896484375, 117.60435485839844, 94.10372924804688, 89.98027038574219, 110.54545593261719, 309.7105712890625, 167.83914184570312, 399.7320251464844, 232.9506072998047, 265.80767822265625, 217.3707733154297, 277.8493957519531, 218.272705078125, 282.55804443359375, 212.76907348632812, 221.36184692382812, 43.23384094238281, 14.879707336425781, 11.649796485900879, 12.403382301330566, 12.412582397460938, 12.408117294311523, 9.938400268554688, 9.944156646728516, 7.9464802742004395, 7.182162284851074, 6.891308784484863, 8.704228401184082, 10.377373695373535, 7.477357864379883, 7.180748462677002, 6.240157604217529, 6.246151924133301, 5.478394985198975, 8.420733451843262, 7.917078971862793, 5.480564117431641, 5.476509094238281, 5.008918285369873, 5.006432056427002, 5.006443023681641, 5.0077128410339355, 5.003632545471191, 5.484260082244873, 7.1908345222473145, 5.478847026824951, 12.320107460021973, 7.92152214050293, 16.56155014038086, 16.843994140625, 27.107666015625, 9.692355155944824, 18.890443801879883, 36.77499008178711, 38.45158767700195, 39.95832443237305, 108.23180389404297, 399.7320251464844, 18.647323608398438, 99.00609588623047, 91.67377471923828, 104.92108917236328, 221.36184692382812, 112.74252319335938, 64.87765502929688, 197.87307739257812, 217.3707733154297, 237.37123107910156, 218.272705078125, 282.55804443359375, 68.06742095947266, 588.044677734375, 265.80767822265625, 153.94268798828125, 370.54730224609375, 110.13633728027344, 62.820133209228516, 159.65576171875, 577.7714233398438, 173.58734130859375, 135.6622772216797, 320.70562744140625, 232.9506072998047, 277.8493957519531, 115.55677032470703, 126.53656005859375, 120.40133666992188, 343.0371398925781, 212.76907348632812, 415.6268310546875, 16.442026138305664, 15.969862937927246, 11.0820894241333, 9.865988731384277, 11.553180694580078, 7.88446569442749, 8.633728981018066, 7.305052757263184, 12.814464569091797, 25.066556930541992, 7.419394493103027, 7.126911640167236, 7.414295673370361, 6.663035869598389, 7.135394096374512, 6.192065715789795, 7.414370536804199, 6.192179203033447, 6.193306922912598, 6.193915843963623, 6.194117069244385, 8.671279907226562, 5.612980842590332, 6.199149131774902, 9.896748542785645, 4.972110271453857, 6.646015644073486, 4.9730143547058105, 19.23138427734375, 4.97177267074585, 40.010406494140625, 36.910762786865234, 8.818732261657715, 21.3848876953125, 36.7414665222168, 16.94261360168457, 29.424339294433594, 35.14757537841797, 57.78477478027344, 21.37507438659668, 9.106047630310059, 69.61801147460938, 41.54933166503906, 18.262557983398438, 247.1154327392578, 282.55804443359375, 145.6374053955078, 106.01139068603516, 116.9011459350586, 27.57659912109375, 160.0167999267578, 91.0342788696289, 153.94268798828125, 277.8493957519531, 588.044677734375, 164.263427734375, 64.87765502929688, 79.56336975097656, 271.8743896484375, 309.7105712890625, 399.7320251464844, 415.6268310546875, 149.65533447265625, 212.76907348632812, 370.54730224609375, 265.80767822265625, 66.3840103149414, 577.7714233398438, 217.3707733154297, 237.37123107910156, 162.0099334716797, 218.272705078125, 126.53656005859375, 202.70013427734375, 232.9506072998047, 343.0371398925781, 199.199462890625, 11.459383964538574, 13.20221996307373, 8.065437316894531, 6.927172660827637, 6.935014724731445, 5.800207138061523, 5.801704406738281, 7.401739120483398, 5.097879886627197, 4.666214466094971, 4.666681289672852, 4.667815208435059, 4.668006896972656, 4.669031143188477, 4.672790050506592, 4.674422740936279, 4.679558277130127, 4.676201820373535, 6.286615371704102, 7.574531078338623, 6.971360683441162, 4.6769304275512695, 9.708573341369629, 5.133811950683594, 3.5315604209899902, 3.5316309928894043, 3.5320591926574707, 5.121932506561279, 3.5338635444641113, 3.533374547958374, 7.437952995300293, 9.017830848693848, 14.783753395080566, 10.675708770751953, 13.190237045288086, 17.580257415771484, 14.106742858886719, 13.243107795715332, 18.621593475341797, 59.845008850097656, 22.76619529724121, 10.210649490356445, 16.774959564208984, 22.026025772094727, 8.267599105834961, 17.748973846435547, 17.748008728027344, 173.58734130859375, 123.40251159667969, 30.661603927612305, 309.7105712890625, 343.0371398925781, 45.8380126953125, 50.43584442138672, 31.497949600219727, 37.73600769042969, 415.6268310546875, 49.52360153198242, 34.427589416503906, 141.39065551757812, 87.08308410644531, 123.90675354003906, 61.50990295410156, 237.37123107910156, 271.8743896484375, 212.76907348632812, 66.82545471191406, 232.9506072998047, 93.96514892578125, 277.8493957519531, 577.7714233398438, 588.044677734375, 167.83914184570312, 221.36184692382812, 149.65533447265625, 127.3170394897461, 197.87307739257812, 265.80767822265625, 159.65576171875, 135.05043029785156, 370.54730224609375, 162.0099334716797, 399.7320251464844, 320.70562744140625, 199.199462890625], \"loglift\": [30.0, 29.0, 28.0, 27.0, 26.0, 25.0, 24.0, 23.0, 22.0, 21.0, 20.0, 19.0, 18.0, 17.0, 16.0, 15.0, 14.0, 13.0, 12.0, 11.0, 10.0, 9.0, 8.0, 7.0, 6.0, 5.0, 4.0, 3.0, 2.0, 1.0, 1.0786000490188599, 1.0477999448776245, 1.045699954032898, 1.0436999797821045, 1.0429999828338623, 1.0413000583648682, 1.0405999422073364, 1.0338000059127808, 1.0318000316619873, 1.0297000408172607, 1.0295000076293945, 1.0250999927520752, 1.0241999626159668, 1.0214999914169312, 1.0211999416351318, 1.0181000232696533, 1.0139000415802002, 1.0123000144958496, 1.0095000267028809, 1.0094000101089478, 1.0082000494003296, 1.007699966430664, 1.0048999786376953, 1.003999948501587, 0.9991000294685364, 0.9944000244140625, 0.9936000108718872, 0.993399977684021, 0.9933000206947327, 0.9922999739646912, 0.9837999939918518, 0.9912999868392944, 0.9261999726295471, 0.9767000079154968, 0.8402000069618225, 0.9684000015258789, 0.9140999913215637, 0.7487999796867371, 0.8503999710083008, 0.6570000052452087, 0.7817999720573425, 0.9435999989509583, 0.5437999963760376, 0.6996999979019165, 0.6535000205039978, 0.7613000273704529, 0.8725000023841858, 0.864300012588501, 0.5389000177383423, 0.6416000127792358, 0.32519999146461487, 0.5763999819755554, 0.3449999988079071, 0.756600022315979, 0.46779999136924744, 0.28529998660087585, 0.28850001096725464, 0.8082000017166138, 0.44279998540878296, 0.3846000134944916, 0.5625, 0.6424999833106995, 0.476500004529953, 0.250900000333786, 0.22519999742507935, 0.4399000108242035, 0.49300000071525574, 0.505299985408783, 0.43389999866485596, 0.0828000009059906, 0.28610000014305115, -0.029100000858306885, 0.11389999836683273, 0.05779999867081642, 0.12080000340938568, -0.03889999911189079, 0.008700000122189522, -0.16030000150203705, -0.04769999906420708, -0.15530000627040863, 1.3385000228881836, 1.3115999698638916, 1.3016999959945679, 1.301200032234192, 1.2948999404907227, 1.2934999465942383, 1.2910000085830688, 1.2853000164031982, 1.2746000289916992, 1.2711999416351318, 1.2670999765396118, 1.2581000328063965, 1.2563999891281128, 1.2558000087738037, 1.2545000314712524, 1.246999979019165, 1.246000051498413, 1.2412999868392944, 1.2365000247955322, 1.2352999448776245, 1.232300043106079, 1.2318999767303467, 1.2247999906539917, 1.2244999408721924, 1.2237000465393066, 1.222000002861023, 1.2216999530792236, 1.2199000120162964, 1.2187000513076782, 1.218400001525879, 1.2180999517440796, 1.2139999866485596, 1.1759999990463257, 1.1682000160217285, 1.1359000205993652, 1.1894999742507935, 1.1283999681472778, 1.033400058746338, 1.01419997215271, 1.007699966430664, 0.6841999888420105, 0.4228000044822693, 1.0353000164031982, 0.6973999738693237, 0.7078999876976013, 0.675599992275238, 0.489300012588501, 0.6380000114440918, 0.7351999878883362, 0.45559999346733093, 0.4178999960422516, 0.36739999055862427, 0.376800000667572, 0.2971000075340271, 0.6704000234603882, -0.0674000009894371, 0.18950000405311584, 0.365200012922287, 0.06400000303983688, 0.4593999981880188, 0.6658999919891357, 0.28780001401901245, -0.23669999837875366, 0.23819999396800995, 0.33009999990463257, -0.0869000032544136, 0.04470000043511391, -0.05869999900460243, 0.36090001463890076, 0.3059000074863434, 0.31529998779296875, -0.44760000705718994, -0.18410000205039978, -0.7788000106811523, 1.4097000360488892, 1.401900053024292, 1.3823000192642212, 1.3740999698638916, 1.3710999488830566, 1.3645000457763672, 1.3614000082015991, 1.360200047492981, 1.3595999479293823, 1.3593000173568726, 1.356600046157837, 1.3561999797821045, 1.3525999784469604, 1.343400001525879, 1.3380999565124512, 1.3380999565124512, 1.3355000019073486, 1.3336000442504883, 1.333400011062622, 1.3331999778747559, 1.3321000337600708, 1.3307000398635864, 1.326300024986267, 1.3246999979019165, 1.3162000179290771, 1.3150999546051025, 1.315000057220459, 1.3107999563217163, 1.309499979019165, 1.3083000183105469, 1.2954000234603882, 1.263100028038025, 1.299299955368042, 1.173699975013733, 1.0880000591278076, 1.1783000230789185, 1.087499976158142, 1.0520000457763672, 0.9624999761581421, 1.1256999969482422, 1.2660000324249268, 0.8769000172615051, 0.9502000212669373, 1.126099944114685, 0.4959000051021576, 0.43220001459121704, 0.5773000121116638, 0.6473000049591064, 0.6126000285148621, 0.9801999926567078, 0.46239998936653137, 0.5953999757766724, 0.4140999913215637, 0.20409999787807465, -0.11630000174045563, 0.3416000008583069, 0.666700005531311, 0.5835000276565552, 0.08940000087022781, 0.0142000000923872, -0.09449999779462814, -0.11919999867677689, 0.27000001072883606, 0.09679999947547913, -0.17010000348091125, -0.10459999740123749, 0.6470000147819519, -0.5745999813079834, -0.03420000150799751, -0.1281999945640564, 0.10189999639987946, -0.11420000344514847, 0.2143000066280365, -0.18790000677108765, -0.3368000090122223, -0.7006999850273132, -0.26100000739097595, 1.6295000314712524, 1.6263999938964844, 1.597499966621399, 1.594499945640564, 1.5812000036239624, 1.563099980354309, 1.561900019645691, 1.559000015258789, 1.5526000261306763, 1.5388000011444092, 1.5353000164031982, 1.5341999530792236, 1.53410005569458, 1.530900001525879, 1.5291999578475952, 1.5254000425338745, 1.5166000127792358, 1.5154999494552612, 1.5145000219345093, 1.511199951171875, 1.5089000463485718, 1.5087000131607056, 1.5029000043869019, 1.5025999546051025, 1.492300033569336, 1.4919999837875366, 1.4901000261306763, 1.4873000383377075, 1.4845999479293823, 1.4845999479293823, 1.4845000505447388, 1.4688999652862549, 1.4490000009536743, 1.4567999839782715, 1.4312000274658203, 1.3995000123977661, 1.4108999967575073, 1.3976000547409058, 1.3483999967575073, 1.194000005722046, 1.306399941444397, 1.406499981880188, 1.295699954032898, 1.2208000421524048, 1.417199969291687, 1.2549999952316284, 1.2479000091552734, 0.7304999828338623, 0.7937999963760376, 1.0994999408721924, 0.46799999475479126, 0.4357999861240387, 0.9905999898910522, 0.9286999702453613, 1.0667999982833862, 0.9976999759674072, 0.1485999971628189, 0.8748999834060669, 0.9815000295639038, 0.44440001249313354, 0.6007000207901001, 0.4440000057220459, 0.736299991607666, 0.16130000352859497, 0.07159999758005142, 0.17180000245571136, 0.6819000244140625, 0.08179999887943268, 0.49300000071525574, -0.1517000049352646, -0.578499972820282, -0.6068000197410583, 0.08990000188350677, -0.0763000026345253, 0.15080000460147858, 0.20900000631809235, -0.09399999678134918, -0.3140000104904175, 0.0044999998062849045, 0.11630000174045563, -0.6570000052452087, -0.03310000151395798, -0.8331000208854675, -0.7700999975204468, -0.3433000147342682], \"logprob\": [30.0, 29.0, 28.0, 27.0, 26.0, 25.0, 24.0, 23.0, 22.0, 21.0, 20.0, 19.0, 18.0, 17.0, 16.0, 15.0, 14.0, 13.0, 12.0, 11.0, 10.0, 9.0, 8.0, 7.0, 6.0, 5.0, 4.0, 3.0, 2.0, 1.0, -6.929100036621094, -7.413400173187256, -7.532899856567383, -7.667399883270264, -7.702300071716309, -7.519499778747559, -7.538400173187256, -7.770500183105469, -7.680200099945068, -7.8358001708984375, -7.917300224304199, -7.840700149536133, -7.8420000076293945, -7.844600200653076, -7.6219000816345215, -8.028900146484375, -8.033599853515625, -7.395400047302246, -8.038800239562988, -8.039299964904785, -8.03969955444336, -8.040599822998047, -8.043499946594238, -7.744900226593018, -8.050700187683105, -8.27560043334961, -7.982900142669678, -7.650100231170654, -8.276800155639648, -8.05739974975586, -7.536300182342529, -8.10789966583252, -6.075399875640869, -7.705399990081787, -5.612100124359131, -7.6020002365112305, -6.903800010681152, -5.078700065612793, -6.280900001525879, -4.526199817657471, -5.77239990234375, -7.3942999839782715, -4.05079984664917, -5.53980016708374, -5.237400054931641, -6.327899932861328, -6.98960018157959, -6.94320011138916, -5.103099822998047, -5.74399995803833, -4.251800060272217, -5.581299781799316, -4.578999996185303, -6.533699989318848, -5.417500019073486, -4.753399848937988, -4.827400207519531, -6.797900199890137, -5.427199840545654, -5.274899959564209, -5.980299949645996, -6.247499942779541, -5.797699928283691, -5.192999839782715, -5.123199939727783, -5.746500015258789, -5.916299819946289, -5.948800086975098, -5.8144001960754395, -5.13539981842041, -5.5447001457214355, -4.992000102996826, -5.388999938964844, -5.313199996948242, -5.451300144195557, -5.365600109100342, -5.559299945831299, -5.470200061798096, -5.641300201416016, -5.7093000411987305, -5.848599910736084, -6.942200183868408, -7.196800231933594, -7.1346001625061035, -7.140200138092041, -7.141900062561035, -7.366399765014648, -7.371500015258789, -7.606500148773193, -7.710899829864502, -7.756400108337402, -7.531799793243408, -7.357699871063232, -7.685999870300293, -7.727799892425537, -7.875699996948242, -7.875800132751465, -8.01159954071045, -7.58650016784668, -7.649400234222412, -8.0201997756958, -8.021400451660156, -8.11769962310791, -8.118499755859375, -8.11929988861084, -8.120699882507324, -8.121899604797363, -8.031999588012695, -7.762199878692627, -8.034500122070312, -7.2245001792907715, -7.670199871063232, -6.970699787139893, -6.96150016784668, -6.51800012588501, -7.4928998947143555, -6.88670015335083, -6.315499782562256, -6.290200233459473, -6.258200168609619, -5.585299968719482, -4.540200233459473, -6.992800235748291, -5.661200046539307, -5.72760009765625, -5.624899864196777, -5.064700126647949, -5.59060001373291, -6.046000003814697, -5.210599899291992, -5.154300212860107, -5.116700172424316, -5.191199779510498, -5.012800216674805, -6.06279993057251, -4.644400119781494, -5.18149995803833, -5.552000045776367, -4.974800109863281, -5.792600154876709, -6.147500038146973, -5.592899799346924, -4.831200122833252, -5.558899879455566, -5.713500022888184, -5.270100116729736, -5.458199977874756, -5.38539981842041, -5.843100070953369, -5.807300090789795, -5.847599983215332, -5.563499927520752, -5.777699947357178, -5.7027997970581055, -6.744200229644775, -6.781099796295166, -7.166100025177002, -7.290599822998047, -7.135700225830078, -7.5243000984191895, -7.436699867248535, -7.605000019073486, -7.043600082397461, -6.372900009155273, -7.5929999351501465, -7.633699893951416, -7.597799777984619, -7.713799953460693, -7.650599956512451, -7.792399883270264, -7.6149001121521, -7.796800136566162, -7.796800136566162, -7.796999931335449, -7.798099994659424, -7.4629998207092285, -7.902400016784668, -7.804699897766113, -7.345300197601318, -8.034799575805664, -7.744699954986572, -8.038900375366211, -6.687699794769287, -8.041600227355957, -5.969200134277344, -6.082200050354004, -7.47760009765625, -6.717400074005127, -6.261899948120117, -6.9456000328063965, -6.484499931335449, -6.342199802398682, -5.934599876403809, -6.765900135040283, -7.478799819946289, -5.833799839019775, -6.276599884033203, -6.922800064086914, -4.947999954223633, -4.877699851989746, -5.395299911499023, -5.642899990081787, -5.579800128936768, -6.656599998474121, -5.415999889373779, -5.847099781036377, -5.5030999183654785, -5.122600078582764, -4.693299770355225, -5.510700225830078, -6.114500045776367, -5.99370002746582, -5.258999824523926, -5.20389986038208, -5.057499885559082, -5.043099880218506, -5.6753997802734375, -5.496799945831299, -5.208799839019775, -5.475599765777588, -6.111299991607666, -5.169099807739258, -5.606299877166748, -5.612400054931641, -5.764200210571289, -5.682199954986572, -5.898900032043457, -5.829999923706055, -5.839799880981445, -5.8165998458862305, -5.920499801635742, -6.88539981842041, -6.7469000816345215, -7.268700122833252, -7.423799991607666, -7.435999870300293, -7.632800102233887, -7.633699893951416, -7.393099784851074, -7.77239990234375, -7.874599933624268, -7.877999782562256, -7.878900051116943, -7.878900051116943, -7.881899833679199, -7.882800102233887, -7.886300086975098, -7.894000053405762, -7.895699977874756, -7.600800037384033, -7.417799949645996, -7.5030999183654785, -7.902400016784668, -7.1778998374938965, -7.815299987792969, -8.199700355529785, -8.199899673461914, -8.201700210571289, -7.832900047302246, -8.20680046081543, -8.206899642944336, -7.462600231170654, -7.285600185394287, -6.811200141906738, -7.129000186920166, -6.9430999755859375, -6.6875, -6.896200180053711, -6.972700119018555, -6.681000232696533, -5.668000221252441, -6.52209997177124, -7.223800182342529, -6.838099956512451, -6.6407999992370605, -7.424200057983398, -6.822400093078613, -6.829599857330322, -5.0665998458862305, -5.3445000648498535, -6.431300163269043, -4.750100135803223, -4.680099964141846, -6.138000011444092, -6.104300022125244, -6.436999797821045, -6.325399875640869, -4.775300025939941, -6.176400184631348, -6.4334001541137695, -5.557799816131592, -5.886199951171875, -5.690199851989746, -6.098199844360352, -5.32289981842041, -5.276800155639648, -5.4217000007629395, -6.069699764251709, -5.42110013961792, -5.917799949645996, -5.478400230407715, -5.172999858856201, -5.183700084686279, -5.740799903869629, -5.630199909210205, -5.794600009918213, -5.898099899291992, -5.7600998878479, -5.684999942779541, -5.876299858093262, -5.93179988861084, -5.695799827575684, -5.899199962615967, -5.796000003814697, -5.953400135040283, -6.002699851989746]}, \"token.table\": {\"Topic\": [1, 2, 3, 4, 1, 2, 3, 4, 3, 1, 2, 3, 4, 2, 2, 1, 2, 3, 4, 3, 2, 4, 1, 2, 3, 4, 2, 1, 3, 3, 1, 1, 2, 4, 3, 2, 4, 1, 1, 2, 3, 4, 2, 3, 2, 3, 1, 1, 3, 4, 1, 2, 3, 4, 1, 2, 3, 4, 1, 2, 3, 4, 1, 2, 3, 4, 1, 2, 3, 4, 4, 2, 3, 2, 4, 2, 3, 2, 1, 2, 3, 4, 1, 2, 3, 4, 1, 1, 2, 3, 4, 1, 2, 3, 4, 3, 1, 3, 1, 1, 2, 3, 4, 1, 2, 3, 4, 1, 2, 3, 4, 1, 4, 1, 4, 1, 2, 3, 4, 1, 1, 2, 3, 4, 1, 2, 3, 1, 3, 4, 1, 2, 3, 4, 1, 2, 1, 3, 4, 1, 2, 3, 4, 1, 2, 3, 4, 2, 4, 1, 3, 2, 3, 4, 3, 1, 1, 1, 1, 2, 3, 4, 2, 4, 2, 4, 4, 1, 2, 3, 4, 1, 2, 3, 4, 1, 2, 3, 4, 1, 2, 3, 4, 1, 2, 3, 4, 4, 4, 4, 4, 3, 1, 2, 3, 4, 1, 2, 3, 4, 1, 2, 3, 4, 1, 2, 3, 4, 3, 1, 1, 2, 3, 4, 1, 2, 3, 4, 1, 1, 2, 3, 4, 1, 1, 1, 3, 1, 2, 3, 4, 1, 2, 3, 4, 1, 3, 2, 3, 1, 2, 3, 4, 2, 4, 4, 1, 2, 3, 4, 3, 1, 2, 3, 4, 1, 2, 3, 4, 2, 4, 3, 1, 2, 3, 4, 1, 2, 3, 4, 1, 2, 3, 4, 1, 2, 3, 4, 1, 2, 3, 4, 1, 2, 3, 4, 4, 1, 2, 3, 4, 1, 1, 2, 3, 4, 1, 2, 3, 4, 1, 1, 2, 3, 4, 1, 2, 3, 4, 2, 4, 1, 2, 3, 4, 2, 1, 2, 3, 4, 4, 4, 2, 4, 3, 1, 2, 3, 4, 4, 4, 1, 2, 3, 4, 1, 2, 3, 4, 1, 3, 1, 2, 3, 4, 1, 3, 4, 1, 2, 3, 4, 3, 2, 1, 2, 3, 4, 1, 2, 3, 4, 1, 2, 3, 4, 1, 2, 3, 1, 2, 3, 4, 1, 1, 2, 3, 4, 1, 2, 3, 4, 1, 3, 4, 1, 2, 3, 4, 1, 2, 3, 4, 2, 1, 2, 3, 4, 2, 3, 1, 2, 3, 4, 4, 1, 2, 3, 4, 4, 1, 2, 3, 4, 1, 2, 3, 4, 1, 2, 1, 3, 3, 1, 2, 3, 4, 1, 2, 3, 4, 4, 1, 2, 3, 4, 1, 4, 2, 1, 2, 3, 4, 1, 2, 3, 1, 2, 3, 4, 1, 2, 3, 4, 1, 2, 3, 4, 3, 1, 4, 1, 2, 3, 4, 4, 1, 2, 3, 4, 1, 2, 3, 4, 4, 1, 2, 3, 4, 4, 1, 2, 3, 4, 1, 3, 1, 2, 3, 4, 4, 1, 2, 3, 4, 1, 2, 3, 4, 2, 1, 2, 3, 4, 1, 2, 4, 4, 4, 1, 3, 2, 2, 3, 2, 2, 2, 4, 1, 2, 4, 2, 1, 1, 2, 2, 1, 2, 3, 4, 1, 3, 4, 3, 4, 1, 2, 3, 4, 3, 2, 3, 1, 2, 3, 4, 2, 1, 2, 3, 4, 1, 2, 3, 4, 1, 1, 3, 4, 1, 2, 4, 2, 1, 2, 3, 4, 1, 2, 3, 4, 1, 2, 3, 4, 2, 2, 2, 4, 1, 2, 3, 4, 1, 2, 3, 4, 1, 2, 3, 4, 1, 2, 3, 4, 1, 2, 3, 4, 2, 3, 3, 1, 1, 2, 3, 3, 1, 2, 3, 4, 1, 2, 3, 4, 1, 2, 3, 4, 2, 3, 4, 1, 2, 3, 4, 1, 2, 3, 4, 2, 4, 2], \"Freq\": [0.261791467666626, 0.1745276302099228, 0.0654478669166565, 0.5017669796943665, 0.2471892386674881, 0.2128574103116989, 0.4188484251499176, 0.12359461933374405, 0.9582408666610718, 0.23948372900485992, 0.47896745800971985, 0.15078605711460114, 0.1241767480969429, 0.9190935492515564, 0.9129903316497803, 0.2974075376987457, 0.07930867373943329, 0.15861734747886658, 0.4560248851776123, 0.9441220164299011, 0.7987678647041321, 0.8661542534828186, 0.11066979914903641, 0.8115785121917725, 0.0737798660993576, 0.0368899330496788, 0.8706619143486023, 0.11339498311281204, 0.9071598649024963, 0.8907922506332397, 0.8918217420578003, 0.15015645325183868, 0.7007300853729248, 0.12513037025928497, 0.8072437644004822, 0.8453314900398254, 0.12076164036989212, 0.8679494857788086, 0.510185182094574, 0.22958333790302277, 0.16155864298343658, 0.10203703492879868, 0.23609107732772827, 0.7672960162162781, 0.10981712490320206, 0.8785369992256165, 0.9564895629882812, 0.738483726978302, 0.14066356420516968, 0.14066356420516968, 0.6921024918556213, 0.18875522911548615, 0.06291840970516205, 0.06291840970516205, 0.2605988085269928, 0.2205066680908203, 0.30737292766571045, 0.21382465958595276, 0.5445638298988342, 0.18893030285835266, 0.2111573964357376, 0.05556773766875267, 0.21064051985740662, 0.36651450395584106, 0.2064277082681656, 0.21485333144664764, 0.1300603598356247, 0.06503017991781235, 0.42269617319107056, 0.3901810646057129, 0.848929226398468, 0.5394769310951233, 0.46240881085395813, 0.6971510052680969, 0.2681349813938141, 0.9126760959625244, 0.9027965664863586, 0.9408787488937378, 0.36488422751426697, 0.2661508321762085, 0.1674174666404724, 0.19746674597263336, 0.20200777053833008, 0.5151197910308838, 0.20200777053833008, 0.08080310374498367, 0.8922562599182129, 0.47885945439338684, 0.07482178509235382, 0.07482178509235382, 0.35914456844329834, 0.5065789222717285, 0.28947368264198303, 0.10855262726545334, 0.09046052396297455, 0.9122248291969299, 0.893105685710907, 0.0992339625954628, 0.8928624987602234, 0.15038847923278809, 0.08354915678501129, 0.15038847923278809, 0.6015539169311523, 0.05634128674864769, 0.05634128674864769, 0.22536514699459076, 0.6197541356086731, 0.3773179352283478, 0.13206128776073456, 0.44334858655929565, 0.03773179277777672, 0.8251734972000122, 0.10314668715000153, 0.8306900262832642, 0.8557206392288208, 0.3086230456829071, 0.2530708909034729, 0.259243369102478, 0.17900137603282928, 0.8925150632858276, 0.051998335868120193, 0.051998335868120193, 0.8839717507362366, 0.051998335868120193, 0.8772422075271606, 0.07310351729393005, 0.07310351729393005, 0.17569909989833832, 0.13177432119846344, 0.6588716506958008, 0.8261803984642029, 0.11528098583221436, 0.019213497638702393, 0.019213497638702393, 0.9136172533035278, 0.8355674743652344, 0.13528364896774292, 0.06764182448387146, 0.8117018342018127, 0.37496063113212585, 0.1999790072441101, 0.36871129274368286, 0.05624409392476082, 0.6923907995223999, 0.10257641226053238, 0.05128820613026619, 0.15386462211608887, 0.8311567902565002, 0.17810502648353577, 0.8925480246543884, 0.8065623044967651, 0.7989704608917236, 0.8418793678283691, 0.8547815084457397, 0.9392691850662231, 0.9299744963645935, 0.8677781224250793, 0.8928384184837341, 0.618648886680603, 0.13747753202915192, 0.1718469113111496, 0.06873876601457596, 0.8841644525527954, 0.12630921602249146, 0.9442225098609924, 0.8567087650299072, 0.8552618026733398, 0.26279473304748535, 0.4042995572090149, 0.16677357256412506, 0.16677357256412506, 0.2818564176559448, 0.33822768926620483, 0.19416774809360504, 0.18164080381393433, 0.17386280000209808, 0.34772560000419617, 0.2924056053161621, 0.18966850638389587, 0.19098711013793945, 0.4995047450065613, 0.11753053218126297, 0.20567843317985535, 0.31771284341812134, 0.3902614414691925, 0.21264246106147766, 0.08005362749099731, 0.8572258949279785, 0.8569319248199463, 0.8651748299598694, 0.7791481614112854, 0.9265984892845154, 0.2249976396560669, 0.36345770955085754, 0.2769201695919037, 0.12980632483959198, 0.1269923895597458, 0.19048859179019928, 0.15874049067497253, 0.5397176742553711, 0.36544445157051086, 0.3488333225250244, 0.19102777540683746, 0.09136111289262772, 0.626420795917511, 0.12654966115951538, 0.13920462131500244, 0.10123972594738007, 0.943473219871521, 0.8914478421211243, 0.45404714345932007, 0.23807714879512787, 0.2074672281742096, 0.10033251345157623, 0.3298625946044922, 0.3710954189300537, 0.21074554324150085, 0.08704707026481628, 0.8673305511474609, 0.14527449011802673, 0.3995048403739929, 0.24515070021152496, 0.20883207023143768, 0.9391812682151794, 0.9284312129020691, 0.10104328393936157, 0.9093895554542542, 0.3551703095436096, 0.11300873756408691, 0.23570393025875092, 0.293822705745697, 0.4819290041923523, 0.21084393560886383, 0.1807233840227127, 0.1305224448442459, 0.8938221335411072, 0.9441125392913818, 0.9361595511436462, 0.807217538356781, 0.1138058602809906, 0.08535439521074295, 0.6828351616859436, 0.1138058602809906, 0.8672714829444885, 0.09636349231004715, 0.8494828343391418, 0.0962711051106453, 0.14440666139125824, 0.6016944050788879, 0.14440666139125824, 0.9689819812774658, 0.307576447725296, 0.2087125927209854, 0.42841005325317383, 0.054924365133047104, 0.42085593938827515, 0.10116729885339737, 0.3844357132911682, 0.09307391196489334, 0.2265329360961914, 0.7551097869873047, 0.9521187543869019, 0.694834291934967, 0.17222389578819275, 0.06532630324363708, 0.07126505672931671, 0.531328558921814, 0.13814543187618256, 0.2444111406803131, 0.07438600063323975, 0.5624071359634399, 0.1924024373292923, 0.1924024373292923, 0.04933395981788635, 0.5642369985580444, 0.20077143609523773, 0.13153991103172302, 0.10211651027202606, 0.6635562777519226, 0.17037256062030792, 0.10760372132062912, 0.07173581421375275, 0.13249944150447845, 0.2914987802505493, 0.07949966937303543, 0.5034978985786438, 0.8494658470153809, 0.21436549723148346, 0.3702676594257355, 0.3507798910140991, 0.06495924293994904, 0.9459242224693298, 0.34055179357528687, 0.2128448635339737, 0.1489914059638977, 0.2979828119277954, 0.3763863742351532, 0.0940965935587883, 0.4277118146419525, 0.0940965935587883, 0.9408326745033264, 0.02719239331781864, 0.7070022225379944, 0.05438478663563728, 0.21753914654254913, 0.12095409631729126, 0.12095409631729126, 0.12095409631729126, 0.7257245779037476, 0.892849326133728, 0.08116812258958817, 0.3464485704898834, 0.3538197875022888, 0.21376612782478333, 0.08108370751142502, 0.9671088457107544, 0.7123687267303467, 0.0859755352139473, 0.07369331270456314, 0.12282219529151917, 0.9089380502700806, 0.8620381951332092, 0.1958739310503006, 0.7834957242012024, 0.9731160998344421, 0.6226375699043274, 0.12452752143144608, 0.18679127097129822, 0.0726410523056984, 0.8679008483886719, 0.8106203079223633, 0.13546183705329895, 0.02709236927330494, 0.8398634195327759, 0.02709236927330494, 0.22623476386070251, 0.276509165763855, 0.4147637188434601, 0.08798018842935562, 0.11532323062419891, 0.9225858449935913, 0.19369404017925262, 0.27439990639686584, 0.2501881420612335, 0.2824704647064209, 0.13444559276103973, 0.13444559276103973, 0.8066735863685608, 0.16076600551605225, 0.378948450088501, 0.1263161450624466, 0.3330152928829193, 0.900490403175354, 0.7985756397247314, 0.5222824215888977, 0.22653214633464813, 0.18877679109573364, 0.06292559206485748, 0.23500332236289978, 0.14586412906646729, 0.2106926292181015, 0.40517812967300415, 0.27958858013153076, 0.3432922959327698, 0.3609877824783325, 0.017695479094982147, 0.7741884589195251, 0.08602093905210495, 0.12903140485286713, 0.7722946405410767, 0.13628730177879333, 0.09085819870233536, 0.04542909935116768, 0.909661591053009, 0.06057717651128769, 0.2625010907649994, 0.24230870604515076, 0.44423264265060425, 0.5707668662071228, 0.12143976241350174, 0.2550235092639923, 0.048575904220342636, 0.8301893472671509, 0.0922432616353035, 0.0922432616353035, 0.1963484138250351, 0.5126875042915344, 0.08726596087217331, 0.20725665986537933, 0.16570255160331726, 0.2711496353149414, 0.45191606879234314, 0.10544707626104355, 0.7994192242622375, 0.056344348937273026, 0.056344348937273026, 0.28172174096107483, 0.6197878122329712, 0.8808931708335876, 0.8043411374092102, 0.04676199331879616, 0.14028598368167877, 0.7481918931007385, 0.04676199331879616, 0.8553950786590576, 0.7655994296073914, 0.08749707788228989, 0.10937134921550751, 0.02187426947057247, 0.8493629097938538, 0.39606577157974243, 0.21925069391727448, 0.09901644289493561, 0.28290411829948425, 0.11618588864803314, 0.17427882552146912, 0.23237177729606628, 0.49379003047943115, 0.8622820973396301, 0.07838927954435349, 0.07803681492805481, 0.9364417791366577, 0.807323157787323, 0.6329792141914368, 0.23385931551456451, 0.04988998919725418, 0.08418935537338257, 0.28728199005126953, 0.08618459105491638, 0.5601998567581177, 0.05745639652013779, 0.8618156909942627, 0.28008440136909485, 0.41560912132263184, 0.1355247050523758, 0.17166462540626526, 0.9283439517021179, 0.7846398949623108, 0.9605914354324341, 0.2922135591506958, 0.22524794936180115, 0.3287402391433716, 0.1521945595741272, 0.1642705202102661, 0.10951368510723114, 0.711838960647583, 0.4372704327106476, 0.16324763000011444, 0.11660545319318771, 0.28276821970939636, 0.5291279554367065, 0.1485271453857422, 0.1485271453857422, 0.17637600004673004, 0.754323422908783, 0.16639487445354462, 0.044371966272592545, 0.022185983136296272, 0.9023569226264954, 0.15906810760498047, 0.7953405380249023, 0.9323616623878479, 0.13620251417160034, 0.22700418531894684, 0.6356117129325867, 0.8571401834487915, 0.053701095283031464, 0.161103293299675, 0.10740219056606293, 0.698114275932312, 0.26091262698173523, 0.032614078372716904, 0.16307039558887482, 0.5544393658638, 0.7809552550315857, 0.086527980864048, 0.01730559580028057, 0.605695903301239, 0.29419514536857605, 0.8568967580795288, 0.38504135608673096, 0.26656708121299744, 0.14068818092346191, 0.20732995867729187, 0.9556134939193726, 0.8074701428413391, 0.41195493936538696, 0.13609226047992706, 0.2537936866283417, 0.19862113893032074, 0.8560196161270142, 0.1497805118560791, 0.3226041793823242, 0.1440197229385376, 0.38021206855773926, 0.3680347502231598, 0.38643649220466614, 0.22542129456996918, 0.01840173825621605, 0.9674780368804932, 0.1813131421804428, 0.0362626314163208, 0.6164646744728088, 0.1813131421804428, 0.09367059916257858, 0.09367059916257858, 0.7493647933006287, 0.8490467071533203, 0.9599120020866394, 0.8772215843200684, 0.08772215247154236, 0.9615141749382019, 0.8343955278396606, 0.804487407207489, 0.9123148322105408, 0.8312814831733704, 0.13202136754989624, 0.7921282649040222, 0.0758136510848999, 0.1516273021697998, 0.758136510848999, 0.9746368527412415, 0.8789323568344116, 0.10317409783601761, 0.8253927826881409, 0.9055783152580261, 0.3461149036884308, 0.3084937334060669, 0.21067863702774048, 0.1354362666606903, 0.2718837559223175, 0.6797093749046326, 0.03398546949028969, 0.1434440165758133, 0.8606641292572021, 0.1620265245437622, 0.50514155626297, 0.22874332964420319, 0.11437166482210159, 0.8045420050621033, 0.23391731083393097, 0.7017519474029541, 0.43449243903160095, 0.27256977558135986, 0.19700588285923004, 0.09445487707853317, 0.9117000102996826, 0.3101954460144043, 0.21149690449237823, 0.2584962248802185, 0.21619683504104614, 0.5081291198730469, 0.25406455993652344, 0.13632732629776, 0.09914714097976685, 0.8938817381858826, 0.03989379107952118, 0.9175571799278259, 0.03989379107952118, 0.8675891160964966, 0.8836685419082642, 0.1262383610010147, 0.9667609333992004, 0.8821330666542053, 0.11026663333177567, 0.2980633080005646, 0.6557393074035645, 0.31671833992004395, 0.24113783240318298, 0.2879257798194885, 0.15835916996002197, 0.09997399151325226, 0.024993497878313065, 0.8497788906097412, 0.024993497878313065, 0.9050541520118713, 0.7989721894264221, 0.11089140921831131, 0.7762398719787598, 0.9303982853889465, 0.17064596712589264, 0.11376398056745529, 0.7394658327102661, 0.5865955352783203, 0.1817619949579239, 0.1487143486738205, 0.09088099747896194, 0.24022513628005981, 0.5081685781478882, 0.17554913461208344, 0.07391542941331863, 0.027217203751206398, 0.13608601689338684, 0.6804301142692566, 0.13608601689338684, 0.05201345682144165, 0.7021816968917847, 0.07802018523216248, 0.15604037046432495, 0.9714612364768982, 0.023130029439926147, 0.8878217339515686, 0.8926525115966797, 0.15881045162677765, 0.7940523028373718, 0.052936818450689316, 0.8408785462379456, 0.8257564902305603, 0.08692173659801483, 0.043460868299007416, 0.043460868299007416, 0.43494024872779846, 0.18470065295696259, 0.17874257266521454, 0.20257490873336792, 0.4619528651237488, 0.11789421737194061, 0.20691637694835663, 0.21413439512252808, 0.1417761743068695, 0.07088808715343475, 0.7797689437866211, 0.12734770774841309, 0.4934723675251007, 0.3183692693710327, 0.06367385387420654, 0.42413803935050964, 0.18065138161182404, 0.16494257748126984, 0.22777783870697021, 0.10300174355506897, 0.8240139484405518, 0.9126007556915283], \"Term\": [\"   \", \"   \", \"   \", \"   \", \"28a\", \"28a\", \"28a\", \"28a\", \"acomp\\u00e1\\u00f1anos\", \"acto\", \"acto\", \"acto\", \"acto\", \"actor\", \"acudir\", \"acuerdo\", \"acuerdo\", \"acuerdo\", \"acuerdo\", \"acusar\", \"admiraci\\u00f3n\", \"admitir\", \"agenda\", \"agenda\", \"agenda\", \"agenda\", \"agradecimiento\", \"ahorapepu\", \"ahorapepu\", \"ahorrar\", \"alarmar\", \"alcalde\", \"alcalde\", \"alcalde\", \"alegr\\u00eda\", \"alicante\", \"alicante\", \"apelar\", \"apoyar\", \"apoyar\", \"apoyar\", \"apoyar\", \"apuesto\", \"apuesto\", \"apuntar\", \"apuntar\", \"arruinar\", \"art\\u00edculo\", \"art\\u00edculo\", \"art\\u00edculo\", \"auton\\u00f3mico\", \"auton\\u00f3mico\", \"auton\\u00f3mico\", \"auton\\u00f3mico\", \"avanzar\", \"avanzar\", \"avanzar\", \"avanzar\", \"ayuntamiento\", \"ayuntamiento\", \"ayuntamiento\", \"ayuntamiento\", \"a\\u00f1o\", \"a\\u00f1o\", \"a\\u00f1o\", \"a\\u00f1o\", \"barcelona\", \"barcelona\", \"barcelona\", \"barcelona\", \"base\", \"batet\", \"batet\", \"bildu\", \"bildu\", \"bmveomkwn7\", \"caf\\u00e9\", \"caf\\u00e9rivera\", \"cambiar\", \"cambiar\", \"cambiar\", \"cambiar\", \"campa\\u00f1a\", \"campa\\u00f1a\", \"campa\\u00f1a\", \"campa\\u00f1a\", \"campe\\u00f3n\", \"canario\", \"canario\", \"canario\", \"canario\", \"candidato\", \"candidato\", \"candidato\", \"candidato\", \"carlos\", \"carta\", \"carta\", \"caso\", \"catalu\\u00f1a\", \"catalu\\u00f1a\", \"catalu\\u00f1a\", \"catalu\\u00f1a\", \"censurar\", \"censurar\", \"censurar\", \"censurar\", \"centradosentufuturo\", \"centradosentufuturo\", \"centradosentufuturo\", \"centradosentufuturo\", \"centroderecha\", \"centroderecha\", \"cercano\", \"cesi\\u00f3n\", \"ciudadano\", \"ciudadano\", \"ciudadano\", \"ciudadano\", \"claramente\", \"claro\", \"claro\", \"claro\", \"claro\", \"clavar\", \"clavar\", \"clavar\", \"cmin\", \"cmin\", \"cmin\", \"coalici\\u00f3n\", \"coalici\\u00f3n\", \"coalici\\u00f3n\", \"coalici\\u00f3n\", \"competencia\", \"competir\", \"comunicaci\\u00f3n\", \"comunicaci\\u00f3n\", \"comunicaci\\u00f3n\", \"comunidad\", \"comunidad\", \"comunidad\", \"comunidad\", \"com\\u00fan\", \"com\\u00fan\", \"com\\u00fan\", \"com\\u00fan\", \"concejal\", \"concejal\", \"condolencia\", \"congresocs\", \"constante\", \"consultar\", \"contexto\", \"contigohaycambio\", \"corresponder\", \"corruptela\", \"coser\", \"creer\", \"creer\", \"creer\", \"creer\", \"crucial\", \"crucial\", \"cuartel\", \"decirnos\", \"dedo\", \"defender\", \"defender\", \"defender\", \"defender\", \"dejar\", \"dejar\", \"dejar\", \"dejar\", \"democracia\", \"democracia\", \"democracia\", \"democracia\", \"demostrar\", \"demostrar\", \"demostrar\", \"demostrar\", \"derecho\", \"derecho\", \"derecho\", \"derecho\", \"derogar\", \"desahucio\", \"desinfectar\", \"determinante\", \"digital\", \"directo\", \"directo\", \"directo\", \"directo\", \"di\\u00e1logo\", \"di\\u00e1logo\", \"di\\u00e1logo\", \"di\\u00e1logo\", \"domingo\", \"domingo\", \"domingo\", \"domingo\", \"elecci\\u00f3n\", \"elecci\\u00f3n\", \"elecci\\u00f3n\", \"elecci\\u00f3n\", \"enfermedad\", \"escrache\", \"espa\\u00f1a\", \"espa\\u00f1a\", \"espa\\u00f1a\", \"espa\\u00f1a\", \"espa\\u00f1olar\", \"espa\\u00f1olar\", \"espa\\u00f1olar\", \"espa\\u00f1olar\", \"espectacular\", \"esperar\", \"esperar\", \"esperar\", \"esperar\", \"estupendo\", \"etiquetar\", \"euroorden\", \"euroorden\", \"europa\", \"europa\", \"europa\", \"europa\", \"europeo\", \"europeo\", \"europeo\", \"europeo\", \"excelente\", \"expresar\", \"exterior\", \"felipe\", \"feliz\", \"feliz\", \"feliz\", \"feliz\", \"fiesta\", \"fiesta\", \"fight\", \"fiscal\", \"fiscal\", \"fiscal\", \"fiscal\", \"franco\", \"frente\", \"frente\", \"frente\", \"frente\", \"futuro\", \"futuro\", \"futuro\", \"futuro\", \"f\\u00f3rmula\", \"f\\u00f3rmula\", \"gabilondo\", \"ganar\", \"ganar\", \"ganar\", \"ganar\", \"garantizar\", \"garantizar\", \"garantizar\", \"garantizar\", \"gente\", \"gente\", \"gente\", \"gente\", \"gobernar\", \"gobernar\", \"gobernar\", \"gobernar\", \"gobierno\", \"gobierno\", \"gobierno\", \"gobierno\", \"golpe\", \"golpe\", \"golpe\", \"golpe\", \"good\", \"gracia\", \"gracia\", \"gracia\", \"gracia\", \"grande\", \"hablar\", \"hablar\", \"hablar\", \"hablar\", \"hacer\", \"hacer\", \"hacer\", \"hacer\", \"hern\\u00e1ndez\", \"homenaje\", \"homenaje\", \"homenaje\", \"homenaje\", \"horizonte\", \"horizonte\", \"horizonte\", \"horizonte\", \"humillaci\\u00f3n\", \"humillaci\\u00f3n\", \"igualdad\", \"igualdad\", \"igualdad\", \"igualdad\", \"igualitario\", \"importante\", \"importante\", \"importante\", \"importante\", \"info\", \"informe\", \"inmediato\", \"inmediato\", \"investidura\", \"izquierdo\", \"izquierdo\", \"izquierdo\", \"izquierdo\", \"jefe\", \"jes\\u00fas\", \"josu\", \"josu\", \"josu\", \"josu\", \"jugar\", \"jugar\", \"jugar\", \"jugar\", \"juicio\", \"juicio\", \"justicia\", \"justicia\", \"justicia\", \"justicia\", \"juzgar\", \"juzgar\", \"juzgar\", \"ley\", \"ley\", \"ley\", \"ley\", \"lgtbi\", \"liberalismo\", \"libertar\", \"libertar\", \"libertar\", \"libertar\", \"llegar\", \"llegar\", \"llegar\", \"llegar\", \"madrid\", \"madrid\", \"madrid\", \"madrid\", \"madrideslibertad\", \"madrideslibertad\", \"madrideslibertad\", \"marchar\", \"marchar\", \"marchar\", \"marchar\", \"martes\", \"medio\", \"medio\", \"medio\", \"medio\", \"mejorar\", \"mejorar\", \"mejorar\", \"mejorar\", \"mejorconpage\", \"mejorconpage\", \"mejorconpage\", \"mesar\", \"mesar\", \"mesar\", \"mesar\", \"mill\\u00f3n\", \"mill\\u00f3n\", \"mill\\u00f3n\", \"mill\\u00f3n\", \"misionero\", \"moci\\u00f3n\", \"moci\\u00f3n\", \"moci\\u00f3n\", \"moci\\u00f3n\", \"moderaci\\u00f3n\", \"molesto\", \"moncloa\", \"moncloa\", \"moncloa\", \"moncloa\", \"multiplicar\", \"municipal\", \"municipal\", \"municipal\", \"municipal\", \"m\\u00e1quina\", \"necesitar\", \"necesitar\", \"necesitar\", \"necesitar\", \"noticiar\", \"noticiar\", \"noticiar\", \"noticiar\", \"objetivo\", \"objetivo\", \"oculto\", \"oculto\", \"parecer\", \"partir\", \"partir\", \"partir\", \"partir\", \"pasar\", \"pasar\", \"pasar\", \"pasar\", \"patrio\", \"pa\\u00eds\", \"pa\\u00eds\", \"pa\\u00eds\", \"pa\\u00eds\", \"perderte\", \"permanente\", \"pinchar\", \"poder\", \"poder\", \"poder\", \"poder\", \"poderoso\", \"poderoso\", \"poderoso\", \"pol\\u00edtico\", \"pol\\u00edtico\", \"pol\\u00edtico\", \"pol\\u00edtico\", \"poner\", \"poner\", \"poner\", \"poner\", \"popular\", \"popular\", \"popular\", \"popular\", \"portavoz\", \"potenciar\", \"potenciar\", \"precio\", \"premiar\", \"premiar\", \"premiar\", \"premio\", \"prensar\", \"prensar\", \"prensar\", \"prensar\", \"preocupar\", \"preocupar\", \"preocupar\", \"preocupar\", \"presente\", \"preso\", \"preso\", \"preso\", \"preso\", \"propiedad\", \"proyectar\", \"proyectar\", \"proyectar\", \"proyectar\", \"proyecto\", \"pr\\u00f3fugo\", \"psoe\", \"psoe\", \"psoe\", \"psoe\", \"p\\u00e9rdida\", \"p\\u00fablico\", \"p\\u00fablico\", \"p\\u00fablico\", \"p\\u00fablico\", \"querer\", \"querer\", \"querer\", \"querer\", \"rebeli\\u00f3n\", \"reconocer\", \"reconocer\", \"reconocer\", \"reconocer\", \"reflexi\\u00f3n\", \"reflexi\\u00f3n\", \"reflexi\\u00f3n\", \"regenerador\", \"reglamentar\", \"remontar\", \"remontar\", \"renovaci\\u00f3n\", \"repasar\", \"respetuoso\", \"retratar\", \"revertir\", \"robar\", \"robar\", \"rodar\", \"rodar\", \"rodar\", \"s74g2kqn64\", \"salvavidas\", \"sectarismo\", \"sectarismo\", \"sedici\\u00f3n\", \"seguir\", \"seguir\", \"seguir\", \"seguir\", \"senado\", \"senado\", \"senado\", \"sentar\", \"sentar\", \"servicio\", \"servicio\", \"servicio\", \"servicio\", \"sesi\\u00f3n\", \"siemprehaciaadelante\", \"siemprehaciaadelante\", \"siemprehaciadelante\", \"siemprehaciadelante\", \"siemprehaciadelante\", \"siemprehaciadelante\", \"sintonizar\", \"social\", \"social\", \"social\", \"social\", \"socialista\", \"socialista\", \"socialista\", \"socialista\", \"solventar\", \"sostenible\", \"sostenible\", \"sostenible\", \"so\\u00f1ar\", \"stopokupas\", \"stopokupas\", \"suerte\", \"suficiente\", \"suficiente\", \"supremo\", \"supremo\", \"s\\u00e1nchez\", \"s\\u00e1nchez\", \"s\\u00e1nchez\", \"s\\u00e1nchez\", \"ternero\", \"ternero\", \"ternero\", \"ternero\", \"tod@s\", \"torcer\", \"transformaci\\u00f3n\", \"transformaci\\u00f3n\", \"transparencia\", \"tribunal\", \"tribunal\", \"tribunal\", \"unir\", \"unir\", \"unir\", \"unir\", \"urna\", \"urna\", \"urna\", \"urna\", \"valencia\", \"valencia\", \"valencia\", \"valencia\", \"valorar\", \"valorar\", \"valorar\", \"valorar\", \"vamosarag\\u00f3n\", \"vamosarag\\u00f3n\", \"vamosmadrid\", \"vanguardia\", \"vecino\", \"vecino\", \"vecino\", \"vergonzoso\", \"votante\", \"votante\", \"votante\", \"votante\", \"votapsoe\", \"votapsoe\", \"votapsoe\", \"votapsoe\", \"votar\", \"votar\", \"votar\", \"votar\", \"v\\u00eda\", \"v\\u00eda\", \"v\\u00eda\", \"v\\u00edctima\", \"v\\u00edctima\", \"v\\u00edctima\", \"v\\u00edctima\", \"\\u00fanico\", \"\\u00fanico\", \"\\u00fanico\", \"\\u00fanico\", \"\\ufe0f@josepborrellf\", \"\\ufe0f@josepborrellf\", \"\\ufe0flas\"]}, \"R\": 30, \"lambda.step\": 0.01, \"plot.opts\": {\"xlab\": \"PC1\", \"ylab\": \"PC2\"}, \"topic.order\": [1, 4, 2, 3]};\n",
       "\n",
       "function LDAvis_load_lib(url, callback){\n",
       "  var s = document.createElement('script');\n",
       "  s.src = url;\n",
       "  s.async = true;\n",
       "  s.onreadystatechange = s.onload = callback;\n",
       "  s.onerror = function(){console.warn(\"failed to load library \" + url);};\n",
       "  document.getElementsByTagName(\"head\")[0].appendChild(s);\n",
       "}\n",
       "\n",
       "if(typeof(LDAvis) !== \"undefined\"){\n",
       "   // already loaded: just create the visualization\n",
       "   !function(LDAvis){\n",
       "       new LDAvis(\"#\" + \"ldavis_el102381123869397841805952153\", ldavis_el102381123869397841805952153_data);\n",
       "   }(LDAvis);\n",
       "}else if(typeof define === \"function\" && define.amd){\n",
       "   // require.js is available: use it to load d3/LDAvis\n",
       "   require.config({paths: {d3: \"https://cdnjs.cloudflare.com/ajax/libs/d3/3.5.5/d3.min\"}});\n",
       "   require([\"d3\"], function(d3){\n",
       "      window.d3 = d3;\n",
       "      LDAvis_load_lib(\"https://cdn.rawgit.com/bmabey/pyLDAvis/files/ldavis.v1.0.0.js\", function(){\n",
       "        new LDAvis(\"#\" + \"ldavis_el102381123869397841805952153\", ldavis_el102381123869397841805952153_data);\n",
       "      });\n",
       "    });\n",
       "}else{\n",
       "    // require.js not available: dynamically load d3 & LDAvis\n",
       "    LDAvis_load_lib(\"https://cdnjs.cloudflare.com/ajax/libs/d3/3.5.5/d3.min.js\", function(){\n",
       "         LDAvis_load_lib(\"https://cdn.rawgit.com/bmabey/pyLDAvis/files/ldavis.v1.0.0.js\", function(){\n",
       "                 new LDAvis(\"#\" + \"ldavis_el102381123869397841805952153\", ldavis_el102381123869397841805952153_data);\n",
       "            })\n",
       "         });\n",
       "}\n",
       "</script>"
      ],
      "text/plain": [
       "<IPython.core.display.HTML object>"
      ]
     },
     "execution_count": 7,
     "metadata": {},
     "output_type": "execute_result"
    }
   ],
   "source": [
    "import pyLDAvis\n",
    "import pyLDAvis.gensim\n",
    "\n",
    "vis = pyLDAvis.gensim.prepare(lda_model, corpus, dictionary)\n",
    "pyLDAvis.display(vis)"
   ]
  },
  {
   "cell_type": "code",
   "execution_count": null,
   "metadata": {},
   "outputs": [],
   "source": []
  }
 ],
 "metadata": {
  "kernelspec": {
   "display_name": "Python 3",
   "language": "python",
   "name": "python3"
  },
  "language_info": {
   "codemirror_mode": {
    "name": "ipython",
    "version": 3
   },
   "file_extension": ".py",
   "mimetype": "text/x-python",
   "name": "python",
   "nbconvert_exporter": "python",
   "pygments_lexer": "ipython3",
   "version": "3.6.8"
  }
 },
 "nbformat": 4,
 "nbformat_minor": 2
}
